{
 "cells": [
  {
   "cell_type": "markdown",
   "metadata": {},
   "source": [
    "# Measuring the spatial frequency dependence of mixture summation\n",
    "## Thesis chapter 2\n",
    "\n",
    "Here, we'll organize (better than has been organized in the predecesor notebooks __{analysis_ch2, analysis_ch3}__ the analysis for chapter 1 of my thesis."
   ]
  },
  {
   "cell_type": "markdown",
   "metadata": {},
   "source": [
    "Last access (y.m.d): 23.01.24  \n",
    "Last update (y.m.d): 23.01.24"
   ]
  },
  {
   "cell_type": "markdown",
   "metadata": {},
   "source": [
    "### Contents\n",
    "1. Superposition (mixtures)\n",
    "2. Masks (sfBB)"
   ]
  },
  {
   "cell_type": "code",
   "execution_count": 2174,
   "metadata": {},
   "outputs": [],
   "source": [
    "oy = hf.np_smart_load('LGN/sach/structures/sachData.npy')"
   ]
  },
  {
   "cell_type": "code",
   "execution_count": 225,
   "metadata": {
    "scrolled": true
   },
   "outputs": [],
   "source": [
    "import pandas as pd\n",
    "pd.set_option('display.float_format', '{:.3f}'.format)\n",
    "\n",
    "import pdb\n",
    "import model_responses_pytorch as mrpt\n",
    "import plot_superposition_func as psf\n",
    "from sklearn.model_selection import GridSearchCV\n",
    "from sklearn.model_selection import ParameterGrid\n",
    "\n",
    "import warnings\n",
    "warnings.filterwarnings(action='once')\n",
    "\n",
    "import numpy as np\n",
    "import os\n",
    "import helper_fcns as hf\n",
    "import helper_fcns_sfBB as hf_sfBB\n",
    "# import model_responses as mr\n",
    "import scipy.stats as ss\n",
    "import scipy.odr.odrpack as odrpack\n",
    "from scipy.stats.mstats import gmean\n",
    "from scipy.stats import ks_2samp, kstest, linregress\n",
    "import itertools\n",
    "import autoreload\n",
    "from IPython.core.display import display, HTML, Image\n",
    "\n",
    "import seaborn as sns\n",
    "import matplotlib as mpl\n",
    "import matplotlib.pyplot as plt\n",
    "import matplotlib.cm as cm\n",
    "import matplotlib.gridspec as gridspec\n",
    "import matplotlib.backends.backend_pdf as pltSave\n",
    "from matplotlib.ticker import FuncFormatter\n",
    "\n",
    "from helper_fcns_sfBB import compute_f1f0 as bb_compute_f1f0\n",
    "from helper_fcns_sfBB import get_resp_str\n",
    "\n",
    "import plot_sf_figs as psf\n",
    "\n",
    "# plt.style.use('https://raw.githubusercontent.com/paul-levy/SF_diversity/master/paul_plt_style.mplstyle');\n",
    "\n",
    "base_dir = os.getcwd() + '/';\n",
    "\n",
    "%matplotlib inline"
   ]
  },
  {
   "cell_type": "code",
   "execution_count": 1059,
   "metadata": {
    "scrolled": true
   },
   "outputs": [
    {
     "name": "stderr",
     "output_type": "stream",
     "text": [
      "/users/plevy/miniconda3/envs/pytorch-lcv/lib/python3.6/site-packages/ipykernel_launcher.py:18: MatplotlibDeprecationWarning: Support for setting the 'text.latex.preamble' or 'pgf.preamble' rcParam to a list of strings is deprecated since 3.3 and will be removed two minor releases later; set it to a single string instead.\n"
     ]
    }
   ],
   "source": [
    "from matplotlib import rcParams\n",
    "\n",
    "tex_width = 469; # per \\layout in Overleaf on document\n",
    "sns_offset = 2; \n",
    "hist_width = 0.9;\n",
    "hist_ytitle = 0.94; # moves the overall title a bit further down on histogram plots0\n",
    "\n",
    "rcParams.update(mpl.rcParamsDefault)\n",
    "\n",
    "fontsz = 12;\n",
    "tick_scalar = 1.5;\n",
    "\n",
    "rcParams['pdf.fonttype'] = 42\n",
    "rcParams['ps.fonttype'] = 42\n",
    "\n",
    "usetex = False\n",
    "\n",
    "rcParams['text.latex.preamble']=[r\"\\usepackage{lmodern}\"]\n",
    "params = {'text.usetex' : usetex,\n",
    "          'font.size' : fontsz,\n",
    "          'font.family': 'lmodern',\n",
    "           'font.style': 'italic'}\n",
    "plt.rcParams.update(params)\n",
    "\n",
    "# rcParams['lines.linewidth'] = 2.5;\n",
    "rcParams['lines.markeredgewidth'] = 0; # no edge, since weird tings happen then\n",
    "# rcParams['axes.linewidth'] = 2; # was 1.5\n",
    "# rcParams['lines.markersize'] = 5;\n",
    "\n",
    "tick_adj = ['xtick.major.size', 'xtick.minor.size', 'ytick.major.size', 'ytick.minor.size']\n",
    "for adj in tick_adj:\n",
    "    rcParams[adj] = rcParams[adj] * tick_scalar;\n",
    "    \n",
    "%matplotlib inline\n",
    "\n",
    "date = '_230125'\n",
    "\n",
    "saveName = 'figures/reports/ch02_SUPERPOS_MASKS%s/' % (date); # for one save name for all figures\n",
    "save_loc = base_dir + saveName;"
   ]
  },
  {
   "cell_type": "markdown",
   "metadata": {},
   "source": [
    "# 1. Superposition"
   ]
  },
  {
   "cell_type": "code",
   "execution_count": 1986,
   "metadata": {
    "scrolled": true
   },
   "outputs": [],
   "source": [
    "def pearson_r_pandas(to_use, metr_a, metr_b, verbose=False):\n",
    "    valz = np.transpose(to_use[[metr_a, metr_b]].dropna().values, )\n",
    "    rv, pv = ss.pearsonr(*valz)\n",
    "    if verbose:\n",
    "        print('[n=%d] r2=%.1e, p=%.1e [%s %s]' % (valz.shape[1], rv, pv, metr_a, metr_b))\n",
    "    return rv, pv, valz.shape[1]"
   ]
  },
  {
   "cell_type": "code",
   "execution_count": 1987,
   "metadata": {
    "scrolled": true
   },
   "outputs": [
    {
     "data": {
      "image/png": "[encoded data removed]",
      "text/plain": [
       "<Figure size 144x72 with 1 Axes>"
      ]
     },
     "metadata": {
      "needs_background": "light"
     },
     "output_type": "display_data"
    }
   ],
   "source": [
    "lgn = hf.np_smart_load('jointList_LGN_230121_vT00_dvT00_jt7.npy')\n",
    "v1 = hf.np_smart_load('jointList_wMods_V1_230121vE_vT00_dvT00_m3j10.npy')\n",
    "\n",
    "lgn_full_disps = np.where([len(lgn[x]['metadata']['stimVals'][0])>2 for x in lgn.keys()])[0];\n",
    "v1_full_disps = np.where([np.logical_and('sfErrsInd_var_prince' in v1[x]['superpos'], len(v1[x]['metadata']['stimVals'][0])>2) for x in v1.keys()])[0];\n",
    "\n",
    "# set up colors...\n",
    "colors = sns.color_palette('colorblind', n_colors=2) # lgn color first\n",
    "colors.append((0,0,0)); # add black!\n",
    "\n",
    "colors = colors[1:] # ignore the first color\n",
    "sns.palplot(colors)"
   ]
  },
  {
   "cell_type": "code",
   "execution_count": 2123,
   "metadata": {
    "scrolled": true
   },
   "outputs": [
    {
     "name": "stderr",
     "output_type": "stream",
     "text": [
      "/users/plevy/miniconda3/envs/pytorch-lcv/lib/python3.6/site-packages/numpy/lib/nanfunctions.py:1665: RuntimeWarning: Degrees of freedom <= 0 for slice.\n",
      "  keepdims=keepdims)\n",
      "/users/plevy/miniconda3/envs/pytorch-lcv/lib/python3.6/site-packages/numpy/lib/nanfunctions.py:1114: RuntimeWarning: All-NaN slice encountered\n",
      "  overwrite_input=overwrite_input)\n"
     ]
    }
   ],
   "source": [
    "whichExps = ['lgn', 'v1'];\n",
    "\n",
    "df = None;\n",
    "area_all = [];\n",
    "type_all = [];\n",
    "# vThresh = 10 #-np.Inf\n",
    "vThresh = 0 #-np.Inf\n",
    "\n",
    "for which_exp in whichExps:\n",
    "\n",
    "    which_jl = lgn if which_exp=='lgn' else v1;\n",
    "    which_nms = lgn_full_disps if  which_exp=='lgn' else v1_full_disps\n",
    "\n",
    "    if which_jl == lgn:\n",
    "        full_disps = [len(lgn[x]['metadata']['stimVals'][0])>2 for x in lgn.keys()];\n",
    "    else:\n",
    "        full_disps = [np.logical_and('sfErrsInd_var_prince' in v1[x]['superpos'], len(v1[x]['metadata']['stimVals'][0])>2) for x in v1.keys()];\n",
    "\n",
    "    area = [which_exp] * len(which_jl);\n",
    "    ####\n",
    "    # tuning, basic metrics\n",
    "    # --- note: [0] following jl_get_metric_byCon is to get only the first output (i.e. ignore the con. vals)\n",
    "    ####\n",
    "    respMeasure = hf.jl_get_metric_byCon(which_jl, ['respMeasure'], conVal=None, disp=None, fieldOverwrite='metadata')[0]\n",
    "    if which_exp == 'lgn':\n",
    "        cellType = np.array([which_jl[x]['metadata']['cellType'] for x in which_jl.keys()])\n",
    "        non_mp = np.logical_and(~(cellType=='parvo'), ~(cellType=='magno'))\n",
    "        cellType[non_mp] = 'other'\n",
    "    elif which_exp == 'v1':\n",
    "        cellType = respMeasure.astype('bool'); # i.e. cellType becomes 'is it simple?'\n",
    "\n",
    "    cellNum = hf.jl_get_metric_byCon(which_jl, ['cellNum'], conVal=None, disp=None, fieldOverwrite='metadata')[0].astype('int')\n",
    "    slps = -hf.jl_get_metric_byCon(which_jl, 'dog_mod_slope', conVal=None, disp=0)[0]\n",
    "    bw34_split = hf.jl_get_metric_byCon(which_jl, 'dog_bw34_split', conVal=1, disp=0)[0][:, 1]\n",
    "    bw34 = hf.jl_get_metric_byCon(which_jl, 'dog_bw34', conVal=1, disp=0)[0]\n",
    "    prefSf = hf.jl_get_metric_byCon(which_jl, 'dog_pSf', conVal=1, disp=0)[0]\n",
    "    bwHalf_split = hf.jl_get_metric_byCon(which_jl, 'dog_bwHalf_split', conVal=1, disp=0)[0][:, 1]\n",
    "    bwHalf = hf.jl_get_metric_byCon(which_jl, 'dog_bwHalf', conVal=1, disp=0)[0]\n",
    "    suprInd_model = hf.jl_get_metric_byCon(which_jl, ['rfsize', 'suprInd_model'], conVal=None, disp=None, fieldOverwrite='basics')[0]\n",
    "    rfsize = hf.jl_get_metric_byCon(which_jl, ['rfsize', 'gsf_model'], conVal=None, disp=None, fieldOverwrite='basics')[0]\n",
    "    rfsize_surr = hf.jl_get_metric_byCon(which_jl, ['rfsize', 'surrDiam_model'], conVal=None, disp=None, fieldOverwrite='basics')[0]\n",
    "    oriBW = hf.jl_get_metric_byCon(which_jl, ['ori', 'bw'], conVal=None, disp=None, fieldOverwrite='basics')[0]\n",
    "    tfBW = hf.jl_get_metric_byCon(which_jl, ['tf', 'tfBW_oct'], conVal=None, disp=None, fieldOverwrite='basics')[0]\n",
    "    tfPref = hf.jl_get_metric_byCon(which_jl, ['tf', 'tfPref'], conVal=None, disp=None, fieldOverwrite='basics')[0]\n",
    "    # other metrics...\n",
    "    hiCon_varExpl = hf.jl_get_metric_byCon(which_jl, 'dog_varExpl', conVal=1, disp=0)[0] # highest con.\n",
    "    charFreq = hf.jl_get_metric_byCon(which_jl, 'dog_charFreq', conVal=1, disp=0)[0] # highest con.\n",
    "    # --- all boot values are NaN for now...would need to re-run\n",
    "#     charFreq_std = hf.jl_get_metric_byCon(which_jl, 'boot_dog_charFreq_values', conVal=1, disp=0)[0] # highest con.\n",
    "    f1f0_ratio = hf.jl_get_metric_byCon(which_jl, 'f1f0_ratio', conVal=None, disp=None)[0]\n",
    "    mn_med_max = hf.jl_get_metric_byCon(which_jl, 'mn_med_max', conVal=None, disp=None)[0]\n",
    "    mn, md, mx = np.transpose(mn_med_max);\n",
    "    # c50 stuff (from superposition)\n",
    "    c50_pref = hf.jl_get_metric_byCon(which_jl, ['disp0_c50'], conVal=None, disp=None, fieldOverwrite='superpos')[0]\n",
    "    c50_pref_emp = hf.jl_get_metric_byCon(which_jl, ['disp0_c50_emp'], conVal=None, disp=None, fieldOverwrite='superpos')[0]\n",
    "    ####\n",
    "    # mixture metrics\n",
    "    ####\n",
    "    sfErrs = hf.jl_get_metric_byCon(which_jl, ['sfErrsInd_wtdVar_prince'], conVal=None, disp=None, fieldOverwrite='superpos')[0]\n",
    "    sfErrs_boot = hf.jl_get_metric_byCon(which_jl, ['sfErrsInd_wtdVar_prince_boot'], conVal=None, disp=None, fieldOverwrite='superpos')[0]\n",
    "    sfErrs_boot_std = np.nanstd(sfErrs_boot, axis=1)\n",
    "    sfErrs_boot_mdn = np.nanmedian(sfErrs_boot, axis=1)\n",
    "    super_varExpl = hf.jl_get_metric_byCon(which_jl, ['var_expl'], conVal=None, disp=None, fieldOverwrite='superpos')[0]\n",
    "    super_varExpl_boot = hf.jl_get_metric_byCon(which_jl, ['var_expl_boot'], conVal=None, disp=None, fieldOverwrite='superpos')[0]\n",
    "    super_varExpl_std = np.nanstd(super_varExpl_boot, axis=1)\n",
    "    super_varExpl_std_clip = np.nanstd(np.clip(super_varExpl_boot, -50, None), axis=1)\n",
    "    c50_summ = hf.jl_get_metric_byCon(which_jl, ['rel_c50'], conVal=None, disp=None, fieldOverwrite='superpos')[0]\n",
    "    c50_summ_emp = hf.jl_get_metric_byCon(which_jl, ['rel_c50_emp'], conVal=None, disp=None, fieldOverwrite='superpos')[0]\n",
    "    c50_summ_emp_boot = hf.jl_get_metric_byCon(which_jl, ['rel_c50_emp_boot'], conVal=None, disp=None, fieldOverwrite='superpos')[0]\n",
    "    auc = hf.jl_get_metric_byCon(which_jl, ['supr_area'], conVal=None, disp=None, fieldOverwrite='superpos')[0]\n",
    "    auc_boot_std = np.nanstd(hf.jl_get_metric_byCon(which_jl, ['supr_area_boot'], conVal=None, disp=None, fieldOverwrite='superpos')[0], axis=1)\n",
    "\n",
    "    # cut out bad cells...\n",
    "    threshPass = np.logical_and(full_disps, np.sum(super_varExpl_boot>vThresh, axis=1)>(0.95*super_varExpl_boot.shape[1]))\n",
    "    # --- also make sure that sfErrs_boot_std>0, b/c ==0 only if there are no repeats!\n",
    "    threshPass = np.logical_and(threshPass, sfErrs_boot_std>0)\n",
    "    \n",
    "    curr_df = pd.DataFrame(data=np.transpose([respMeasure, cellNum, f1f0_ratio, hiCon_varExpl, charFreq, prefSf,\n",
    "                                              slps, bwHalf_split, bwHalf, bw34_split, bw34, rfsize, rfsize_surr, \n",
    "                                              suprInd_model, oriBW, tfBW, tfPref, mn, md, mx, c50_pref, c50_pref_emp, \n",
    "                                              sfErrs, sfErrs_boot_std, sfErrs_boot_mdn, \n",
    "                                              super_varExpl, super_varExpl_std, super_varExpl_std_clip,\n",
    "                                              auc, auc_boot_std,\n",
    "                                              c50_summ, c50_summ_emp, full_disps, threshPass]), \n",
    "                           columns=['isSimple', 'cellNum', 'f1f0', 'sfVarExpl', 'charFreq',  'prefSf',\n",
    "                                    'slope', 'bwHalf_split', 'bwHalf', 'bw34_split', 'bw34', \n",
    "                                    'rfsize', 'rfsize_surr', \n",
    "                                    'suprInd', 'oriBW', 'tfBW', 'tfPref', 'meanResp', 'mdnResp', 'maxResp', 'c50_pref', 'c50_pref_emp', \n",
    "                                    'sfErrs', 'sfErrsBootStd', 'sfErrsBootMdn', \n",
    "                                    'super_varExpl', 'super_varExpl_std', 'svesc', \n",
    "                                    'auc', 'auc_std',\n",
    "                                    'c50_summ', 'c50_summ_emp', 'isFullDisp', 'threshPass'],)\n",
    "    area_all.append(area);\n",
    "    type_all.append(cellType);\n",
    "    if df is None:\n",
    "        df = curr_df;\n",
    "    else:\n",
    "        df = df.append(curr_df)\n",
    "    \n",
    "# adding string fields after to avoid other fields being bad...\n",
    "df.insert(0, 'area', hf.flatten_list(area_all))\n",
    "df.insert(1, 'cellType', hf.flatten_list(type_all))\n",
    "df['threshPass'] = df['threshPass'].astype('bool')\n",
    "df['cellNum'] = df['cellNum'].astype('int')\n",
    "df['super_varExpl_clip'] = np.clip(df['super_varExpl'], -10, None);\n",
    "# why duplicating? to make sns.plots easier (can't handle underscores with latex nonesense)\n",
    "df['svec'] = df['super_varExpl_clip']\n",
    "df['c50emp'] = df['c50_pref_emp'];\n",
    "df['aucStd'] = df['auc_std'];\n",
    "# df['super_varExpl_clip'] = np.clip(df['super_varExpl'], -10, None);\n",
    "# now subset to only full!\n",
    "df_only_full = df[df['isFullDisp'].astype('bool')]\n",
    "df_only_pass = df_only_full[df_only_full['threshPass']]\n",
    "df_only_fail = df_only_full[~df_only_full['threshPass']]"
   ]
  },
  {
   "cell_type": "code",
   "execution_count": 2124,
   "metadata": {
    "scrolled": true
   },
   "outputs": [],
   "source": [
    "# get color scheme\n",
    "area_colors = [];\n",
    "toGroups = ['cellType', 'cellType']; # corresponding to LGN, V1\n",
    "\n",
    "pds_split = [df[df['area']=='lgn'], df[df['area']=='v1']]\n",
    "\n",
    "for mega, whichArea, toGroup in zip(pds_split, whichExps, toGroups):\n",
    "\n",
    "    cnt = 0;\n",
    "    grp_names = [];\n",
    "    for nm, group in mega.groupby(toGroup, sort=False):\n",
    "        cnt += 1;\n",
    "        grp_names.append(nm)\n",
    "\n",
    "    # colors = cm.viridis(np.linspace(0.15, 0.95, cnt))\n",
    "    if whichArea=='v1':\n",
    "#         colors = sns.color_palette('husl', n_colors=cnt-1)\n",
    "        colors = sns.color_palette('viridis', n_colors=cnt-1)\n",
    "        colors.append((0,0,0)); # add black!\n",
    "    else: # lgn...\n",
    "        # why adding extra colors?\n",
    "        # well, the 3rd color looks like the first in viridis\n",
    "        colors = sns.color_palette('colorblind', n_colors=cnt+2)\n",
    "        # so we'll add extras and swap with the desirable one\n",
    "        colors[2] = colors[4]\n",
    "        colors = sns.color_palette(colors[0:3])\n",
    "        \n",
    "    area_colors.append(colors)"
   ]
  },
  {
   "cell_type": "markdown",
   "metadata": {},
   "source": [
    "### 6.0: How much does the Naka-Rushton fit to the data explain mixture summation?"
   ]
  },
  {
   "cell_type": "code",
   "execution_count": 2125,
   "metadata": {},
   "outputs": [],
   "source": [
    "# NOTE: Rough template for making per-group (i.e. m/p/o, s/c) plots...\n",
    "# sns.histplot(data=which_data[which_data['area']=='v1'], x='svec', multiple='stack', \n",
    "#              hue='cellType', palette=area_colors[1], bins=bins)"
   ]
  },
  {
   "cell_type": "code",
   "execution_count": 2126,
   "metadata": {
    "scrolled": true
   },
   "outputs": [
    {
     "name": "stderr",
     "output_type": "stream",
     "text": [
      "<>:47: DeprecationWarning: invalid escape sequence \\%\n"
     ]
    },
    {
     "data": {
      "image/png": "[encoded data removed]",
      "text/plain": [
       "<Figure size 211.05x130.436 with 2 Axes>"
      ]
     },
     "metadata": {
      "needs_background": "light"
     },
     "output_type": "display_data"
    }
   ],
   "source": [
    "# if true, then plot for all\n",
    "# if false, then only those that pass\n",
    "subset_full = False;\n",
    "# specs\n",
    "halfsz = True;\n",
    "noLgnd = True;\n",
    "scale = 0.45 if halfsz else 1\n",
    "incl_zero = False;\n",
    "\n",
    "saveName = '06_00_superposVarExpl_lgn_v1_%s%s%s.pdf' % ('full' if subset_full else 'pass',\n",
    "                                                        '_noLgnd' if noLgnd else '', '_halfSz' if halfsz else '')\n",
    "\n",
    "which_data = df_only_full if subset_full else df_only_pass;\n",
    "\n",
    "ars = df['area'].unique();\n",
    "\n",
    "nrow,ncol=2,1\n",
    "f, ax = plt.subplots(nrow,ncol,figsize=hf.set_size(scale*tex_width), sharey=True, sharex=True);\n",
    "\n",
    "# clipLow = -10\n",
    "# clipHigh = None;\n",
    "kywrd = 'super_varExpl'\n",
    "use_norm = False;\n",
    "\n",
    "# bins for sfErr metric\n",
    "bins = np.linspace(-10, 100, 12)\n",
    "tickVals = np.linspace(bins[1], bins[-2], len(bins)-2)\n",
    "\n",
    "stepSize = (bins[-1] - bins[0])/(len(bins)-1);\n",
    "binPlotLocs = bins[1:] - 0.5*stepSize;\n",
    "clipLow, clipHigh = bins[1]-0.5*stepSize, bins[-2]+0.5*stepSize;\n",
    "width = hist_width*stepSize;\n",
    "\n",
    "for (plt_i, (name,group)), clr in zip(enumerate(which_data.groupby('area')), colors):\n",
    "    \n",
    "    vls = group[kywrd].values;\n",
    "    clipped = np.clip(vls, clipLow, clipHigh);\n",
    "    vals, _ = np.histogram(clipped, bins=bins)\n",
    "    vals_norm = vals/np.sum(vals)\n",
    "    \n",
    "    to_use = vals_norm if use_norm else vals;\n",
    "    \n",
    "    ax[plt_i].bar(binPlotLocs, to_use, width=width, align='center', color=clr,\n",
    "                 label='%s [n=%d, mdn=%d%%]' % (name.upper(), len(vls), np.nanmedian(vls)));\n",
    "    \n",
    "    if usetex:\n",
    "        tickStrs = ['%d\\%%' % x for x in tickVals];\n",
    "    else:\n",
    "        tickStrs = ['%d%%' % x for x in tickVals];\n",
    "    tickStrs[0] = '$>$%s' % tickStrs[0];\n",
    "    tickStrs[-1] = '$<$%s' % tickStrs[-1];\n",
    "    if halfsz: # take out every other...\n",
    "        tickStrs = [str_val if np.mod(str_i,2)==0 else '' for str_i,str_val in enumerate(tickStrs)]\n",
    "    ax[plt_i].set_xticks(tickVals);\n",
    "    ax[plt_i].set_xticklabels(tickStrs);\n",
    "    ax[plt_i].plot(np.nanmedian(vls), 1.1*np.nanmax(to_use), 'v', color=clr)\n",
    "    if incl_zero:\n",
    "        ax[plt_i].axvline(0, color='k', linestyle='--')\n",
    "#     ax[plt_i].set_title('%s: mdn=%.2e [n=%d]' % (area.upper(), np.nanmedian(vls), len(vls)))\n",
    "\n",
    "    if not noLgnd:\n",
    "        ax[plt_i].legend();\n",
    "    ax[plt_i].set_ylabel('Fraction of cells' if use_norm else 'Cell count');\n",
    "    if plt_i==nrow-1:\n",
    "        ax[plt_i].set_xlabel('Mixture explained variance');\n",
    "        \n",
    "    for jj, axis in enumerate([ax[plt_i].xaxis, ax[plt_i].yaxis]):\n",
    "        if jj==1: # i.e. y axis, make sure we have tick labels, here, too\n",
    "            from matplotlib.ticker import MaxNLocator\n",
    "            axis.set_major_locator(MaxNLocator(3, integer=True))\n",
    "        \n",
    "sns.despine(offset=sns_offset)\n",
    "\n",
    "# now save\n",
    "if not os.path.exists(save_loc):\n",
    "    os.makedirs(save_loc)\n",
    "pdfSv = pltSave.PdfPages(save_loc + saveName);\n",
    "f = plt.gcf()\n",
    "pdfSv.savefig(f, bbox_inches='tight') # only one figure here...\n",
    "pdfSv.close()\n"
   ]
  },
  {
   "cell_type": "code",
   "execution_count": 2127,
   "metadata": {
    "scrolled": true
   },
   "outputs": [
    {
     "data": {
      "image/png": "[encoded data removed]",
      "text/plain": [
       "<Figure size 432x288 with 1 Axes>"
      ]
     },
     "metadata": {
      "needs_background": "light"
     },
     "output_type": "display_data"
    }
   ],
   "source": [
    "sns.scatterplot(data=df_only_full, x='svec', y='svesc', hue='area', palette=colors);\n",
    "plt.title('Corr. b/t varExpl (x) and std(vE) (y) for N-R vExp');\n",
    "\n",
    "saveName = '06_00a_superposVarExplVar_lgn_v1.pdf'\n",
    "\n",
    "sns.despine(offset=sns_offset)\n",
    "\n",
    "# now save\n",
    "if not os.path.exists(save_loc):\n",
    "    os.makedirs(save_loc)\n",
    "pdfSv = pltSave.PdfPages(save_loc + saveName);\n",
    "f = plt.gcf()\n",
    "pdfSv.savefig(f, bbox_inches='tight') # only one figure here...\n",
    "pdfSv.close()\n"
   ]
  },
  {
   "cell_type": "code",
   "execution_count": 2128,
   "metadata": {
    "scrolled": true
   },
   "outputs": [
    {
     "data": {
      "text/html": [
       "<div>\n",
       "<style scoped>\n",
       "    .dataframe tbody tr th:only-of-type {\n",
       "        vertical-align: middle;\n",
       "    }\n",
       "\n",
       "    .dataframe tbody tr th {\n",
       "        vertical-align: top;\n",
       "    }\n",
       "\n",
       "    .dataframe thead th {\n",
       "        text-align: right;\n",
       "    }\n",
       "</style>\n",
       "<table border=\"1\" class=\"dataframe\">\n",
       "  <thead>\n",
       "    <tr style=\"text-align: right;\">\n",
       "      <th></th>\n",
       "      <th>area</th>\n",
       "      <th>cellType</th>\n",
       "      <th>isSimple</th>\n",
       "      <th>cellNum</th>\n",
       "      <th>f1f0</th>\n",
       "      <th>sfVarExpl</th>\n",
       "      <th>charFreq</th>\n",
       "      <th>prefSf</th>\n",
       "      <th>slope</th>\n",
       "      <th>bwHalf_split</th>\n",
       "      <th>...</th>\n",
       "      <th>auc</th>\n",
       "      <th>auc_std</th>\n",
       "      <th>c50_summ</th>\n",
       "      <th>c50_summ_emp</th>\n",
       "      <th>isFullDisp</th>\n",
       "      <th>threshPass</th>\n",
       "      <th>super_varExpl_clip</th>\n",
       "      <th>svec</th>\n",
       "      <th>c50emp</th>\n",
       "      <th>aucStd</th>\n",
       "    </tr>\n",
       "  </thead>\n",
       "  <tbody>\n",
       "    <tr>\n",
       "      <th>78</th>\n",
       "      <td>lgn</td>\n",
       "      <td>magno</td>\n",
       "      <td>1.000</td>\n",
       "      <td>79</td>\n",
       "      <td>2.710</td>\n",
       "      <td>93.535</td>\n",
       "      <td>2.872</td>\n",
       "      <td>1.329</td>\n",
       "      <td>0.133</td>\n",
       "      <td>1.116</td>\n",
       "      <td>...</td>\n",
       "      <td>0.284</td>\n",
       "      <td>0.006</td>\n",
       "      <td>0.041</td>\n",
       "      <td>0.038</td>\n",
       "      <td>1.000</td>\n",
       "      <td>True</td>\n",
       "      <td>4.763</td>\n",
       "      <td>4.763</td>\n",
       "      <td>0.074</td>\n",
       "      <td>0.006</td>\n",
       "    </tr>\n",
       "    <tr>\n",
       "      <th>80</th>\n",
       "      <td>lgn</td>\n",
       "      <td>magno</td>\n",
       "      <td>1.000</td>\n",
       "      <td>81</td>\n",
       "      <td>1.853</td>\n",
       "      <td>nan</td>\n",
       "      <td>nan</td>\n",
       "      <td>nan</td>\n",
       "      <td>nan</td>\n",
       "      <td>nan</td>\n",
       "      <td>...</td>\n",
       "      <td>0.000</td>\n",
       "      <td>0.047</td>\n",
       "      <td>0.000</td>\n",
       "      <td>0.500</td>\n",
       "      <td>1.000</td>\n",
       "      <td>False</td>\n",
       "      <td>-10.000</td>\n",
       "      <td>-10.000</td>\n",
       "      <td>0.400</td>\n",
       "      <td>0.047</td>\n",
       "    </tr>\n",
       "    <tr>\n",
       "      <th>66</th>\n",
       "      <td>v1</td>\n",
       "      <td>False</td>\n",
       "      <td>0.000</td>\n",
       "      <td>8</td>\n",
       "      <td>0.624</td>\n",
       "      <td>-2.765</td>\n",
       "      <td>0.122</td>\n",
       "      <td>0.173</td>\n",
       "      <td>-0.083</td>\n",
       "      <td>0.519</td>\n",
       "      <td>...</td>\n",
       "      <td>0.000</td>\n",
       "      <td>0.018</td>\n",
       "      <td>1.500</td>\n",
       "      <td>0.500</td>\n",
       "      <td>1.000</td>\n",
       "      <td>False</td>\n",
       "      <td>-10.000</td>\n",
       "      <td>-10.000</td>\n",
       "      <td>0.078</td>\n",
       "      <td>0.018</td>\n",
       "    </tr>\n",
       "    <tr>\n",
       "      <th>79</th>\n",
       "      <td>v1</td>\n",
       "      <td>False</td>\n",
       "      <td>0.000</td>\n",
       "      <td>13</td>\n",
       "      <td>0.180</td>\n",
       "      <td>-389.303</td>\n",
       "      <td>41.968</td>\n",
       "      <td>0.300</td>\n",
       "      <td>0.962</td>\n",
       "      <td>0.000</td>\n",
       "      <td>...</td>\n",
       "      <td>0.000</td>\n",
       "      <td>0.000</td>\n",
       "      <td>1.500</td>\n",
       "      <td>0.500</td>\n",
       "      <td>1.000</td>\n",
       "      <td>False</td>\n",
       "      <td>-10.000</td>\n",
       "      <td>-10.000</td>\n",
       "      <td>0.050</td>\n",
       "      <td>0.000</td>\n",
       "    </tr>\n",
       "    <tr>\n",
       "      <th>112</th>\n",
       "      <td>v1</td>\n",
       "      <td>False</td>\n",
       "      <td>0.000</td>\n",
       "      <td>46</td>\n",
       "      <td>0.399</td>\n",
       "      <td>10.079</td>\n",
       "      <td>6.450</td>\n",
       "      <td>5.620</td>\n",
       "      <td>0.000</td>\n",
       "      <td>0.531</td>\n",
       "      <td>...</td>\n",
       "      <td>0.056</td>\n",
       "      <td>0.034</td>\n",
       "      <td>1.500</td>\n",
       "      <td>0.375</td>\n",
       "      <td>1.000</td>\n",
       "      <td>False</td>\n",
       "      <td>-10.000</td>\n",
       "      <td>-10.000</td>\n",
       "      <td>0.153</td>\n",
       "      <td>0.034</td>\n",
       "    </tr>\n",
       "    <tr>\n",
       "      <th>118</th>\n",
       "      <td>v1</td>\n",
       "      <td>False</td>\n",
       "      <td>0.000</td>\n",
       "      <td>52</td>\n",
       "      <td>0.126</td>\n",
       "      <td>1.470</td>\n",
       "      <td>8.836</td>\n",
       "      <td>7.444</td>\n",
       "      <td>1.000</td>\n",
       "      <td>nan</td>\n",
       "      <td>...</td>\n",
       "      <td>0.000</td>\n",
       "      <td>0.009</td>\n",
       "      <td>1.500</td>\n",
       "      <td>0.500</td>\n",
       "      <td>1.000</td>\n",
       "      <td>False</td>\n",
       "      <td>-10.000</td>\n",
       "      <td>-10.000</td>\n",
       "      <td>0.050</td>\n",
       "      <td>0.009</td>\n",
       "    </tr>\n",
       "  </tbody>\n",
       "</table>\n",
       "<p>6 rows × 40 columns</p>\n",
       "</div>"
      ],
      "text/plain": [
       "    area cellType  isSimple  cellNum  f1f0  sfVarExpl  charFreq  prefSf  \\\n",
       "78   lgn    magno     1.000       79 2.710     93.535     2.872   1.329   \n",
       "80   lgn    magno     1.000       81 1.853        nan       nan     nan   \n",
       "66    v1    False     0.000        8 0.624     -2.765     0.122   0.173   \n",
       "79    v1    False     0.000       13 0.180   -389.303    41.968   0.300   \n",
       "112   v1    False     0.000       46 0.399     10.079     6.450   5.620   \n",
       "118   v1    False     0.000       52 0.126      1.470     8.836   7.444   \n",
       "\n",
       "     slope  bwHalf_split  ...   auc  auc_std  c50_summ  c50_summ_emp  \\\n",
       "78   0.133         1.116  ... 0.284    0.006     0.041         0.038   \n",
       "80     nan           nan  ... 0.000    0.047     0.000         0.500   \n",
       "66  -0.083         0.519  ... 0.000    0.018     1.500         0.500   \n",
       "79   0.962         0.000  ... 0.000    0.000     1.500         0.500   \n",
       "112  0.000         0.531  ... 0.056    0.034     1.500         0.375   \n",
       "118  1.000           nan  ... 0.000    0.009     1.500         0.500   \n",
       "\n",
       "     isFullDisp  threshPass  super_varExpl_clip    svec  c50emp  aucStd  \n",
       "78        1.000        True               4.763   4.763   0.074   0.006  \n",
       "80        1.000       False             -10.000 -10.000   0.400   0.047  \n",
       "66        1.000       False             -10.000 -10.000   0.078   0.018  \n",
       "79        1.000       False             -10.000 -10.000   0.050   0.000  \n",
       "112       1.000       False             -10.000 -10.000   0.153   0.034  \n",
       "118       1.000       False             -10.000 -10.000   0.050   0.009  \n",
       "\n",
       "[6 rows x 40 columns]"
      ]
     },
     "execution_count": 2128,
     "metadata": {},
     "output_type": "execute_result"
    }
   ],
   "source": [
    "df_only_full.iloc[np.where(np.logical_and(df_only_full['svec']<5, df_only_full['svesc']<5))[0]]\n"
   ]
  },
  {
   "cell_type": "markdown",
   "metadata": {},
   "source": [
    "### 6.1 Inclusion/exclusion\n",
    "We excluded all cells which did not have at least 95% of bootstrap repeats with at least _some_ explained variance in the summation (read vExp>0%). What are the properties of those cells versus those without?\n",
    "\n",
    "Note that this analysis is only relevant for V1, since only 1 LGN cell was exclude:\n"
   ]
  },
  {
   "cell_type": "code",
   "execution_count": 2129,
   "metadata": {
    "scrolled": true
   },
   "outputs": [
    {
     "name": "stderr",
     "output_type": "stream",
     "text": [
      "/users/plevy/miniconda3/envs/pytorch-lcv/lib/python3.6/site-packages/ipykernel_launcher.py:4: FutureWarning: Indexing with multiple keys (implicitly converted to a tuple of keys) will be deprecated, use a list instead.\n",
      "  after removing the cwd from sys.path.\n"
     ]
    },
    {
     "data": {
      "text/html": [
       "<div>\n",
       "<style scoped>\n",
       "    .dataframe tbody tr th:only-of-type {\n",
       "        vertical-align: middle;\n",
       "    }\n",
       "\n",
       "    .dataframe tbody tr th {\n",
       "        vertical-align: top;\n",
       "    }\n",
       "\n",
       "    .dataframe thead th {\n",
       "        text-align: right;\n",
       "    }\n",
       "</style>\n",
       "<table border=\"1\" class=\"dataframe\">\n",
       "  <thead>\n",
       "    <tr style=\"text-align: right;\">\n",
       "      <th></th>\n",
       "      <th></th>\n",
       "      <th>maxResp</th>\n",
       "      <th>meanResp</th>\n",
       "      <th>oriBW</th>\n",
       "      <th>bw34</th>\n",
       "      <th>bw34_split</th>\n",
       "      <th>bwHalf</th>\n",
       "      <th>bwHalf_split</th>\n",
       "      <th>c50_pref_emp</th>\n",
       "      <th>rfsize</th>\n",
       "      <th>rfsize_surr</th>\n",
       "      <th>suprInd</th>\n",
       "      <th>f1f0</th>\n",
       "      <th>sfVarExpl</th>\n",
       "      <th>isSimple</th>\n",
       "      <th>prefSf</th>\n",
       "      <th>charFreq</th>\n",
       "    </tr>\n",
       "    <tr>\n",
       "      <th>area</th>\n",
       "      <th>threshPass</th>\n",
       "      <th></th>\n",
       "      <th></th>\n",
       "      <th></th>\n",
       "      <th></th>\n",
       "      <th></th>\n",
       "      <th></th>\n",
       "      <th></th>\n",
       "      <th></th>\n",
       "      <th></th>\n",
       "      <th></th>\n",
       "      <th></th>\n",
       "      <th></th>\n",
       "      <th></th>\n",
       "      <th></th>\n",
       "      <th></th>\n",
       "      <th></th>\n",
       "    </tr>\n",
       "  </thead>\n",
       "  <tbody>\n",
       "    <tr>\n",
       "      <th rowspan=\"2\" valign=\"top\">lgn</th>\n",
       "      <th>False</th>\n",
       "      <td>34.000</td>\n",
       "      <td>16.205</td>\n",
       "      <td>nan</td>\n",
       "      <td>nan</td>\n",
       "      <td>nan</td>\n",
       "      <td>nan</td>\n",
       "      <td>nan</td>\n",
       "      <td>0.400</td>\n",
       "      <td>0.480</td>\n",
       "      <td>1.770</td>\n",
       "      <td>0.268</td>\n",
       "      <td>1.853</td>\n",
       "      <td>nan</td>\n",
       "      <td>1.000</td>\n",
       "      <td>nan</td>\n",
       "      <td>nan</td>\n",
       "    </tr>\n",
       "    <tr>\n",
       "      <th>True</th>\n",
       "      <td>39.892</td>\n",
       "      <td>23.376</td>\n",
       "      <td>nan</td>\n",
       "      <td>1.612</td>\n",
       "      <td>2.176</td>\n",
       "      <td>2.612</td>\n",
       "      <td>2.644</td>\n",
       "      <td>0.283</td>\n",
       "      <td>0.842</td>\n",
       "      <td>1.610</td>\n",
       "      <td>0.136</td>\n",
       "      <td>1.857</td>\n",
       "      <td>79.248</td>\n",
       "      <td>1.000</td>\n",
       "      <td>0.674</td>\n",
       "      <td>2.843</td>\n",
       "    </tr>\n",
       "    <tr>\n",
       "      <th rowspan=\"2\" valign=\"top\">v1</th>\n",
       "      <th>False</th>\n",
       "      <td>29.092</td>\n",
       "      <td>12.300</td>\n",
       "      <td>65.211</td>\n",
       "      <td>1.377</td>\n",
       "      <td>0.910</td>\n",
       "      <td>2.176</td>\n",
       "      <td>1.253</td>\n",
       "      <td>0.386</td>\n",
       "      <td>1.583</td>\n",
       "      <td>4.698</td>\n",
       "      <td>0.455</td>\n",
       "      <td>0.723</td>\n",
       "      <td>46.509</td>\n",
       "      <td>0.233</td>\n",
       "      <td>2.697</td>\n",
       "      <td>5.760</td>\n",
       "    </tr>\n",
       "    <tr>\n",
       "      <th>True</th>\n",
       "      <td>50.755</td>\n",
       "      <td>15.363</td>\n",
       "      <td>78.355</td>\n",
       "      <td>1.671</td>\n",
       "      <td>1.011</td>\n",
       "      <td>2.617</td>\n",
       "      <td>1.365</td>\n",
       "      <td>0.309</td>\n",
       "      <td>1.517</td>\n",
       "      <td>3.835</td>\n",
       "      <td>0.424</td>\n",
       "      <td>0.955</td>\n",
       "      <td>86.016</td>\n",
       "      <td>0.394</td>\n",
       "      <td>2.289</td>\n",
       "      <td>4.745</td>\n",
       "    </tr>\n",
       "  </tbody>\n",
       "</table>\n",
       "</div>"
      ],
      "text/plain": [
       "                 maxResp  meanResp  oriBW  bw34  bw34_split  bwHalf  \\\n",
       "area threshPass                                                       \n",
       "lgn  False        34.000    16.205    nan   nan         nan     nan   \n",
       "     True         39.892    23.376    nan 1.612       2.176   2.612   \n",
       "v1   False        29.092    12.300 65.211 1.377       0.910   2.176   \n",
       "     True         50.755    15.363 78.355 1.671       1.011   2.617   \n",
       "\n",
       "                 bwHalf_split  c50_pref_emp  rfsize  rfsize_surr  suprInd  \\\n",
       "area threshPass                                                             \n",
       "lgn  False                nan         0.400   0.480        1.770    0.268   \n",
       "     True               2.644         0.283   0.842        1.610    0.136   \n",
       "v1   False              1.253         0.386   1.583        4.698    0.455   \n",
       "     True               1.365         0.309   1.517        3.835    0.424   \n",
       "\n",
       "                 f1f0  sfVarExpl  isSimple  prefSf  charFreq  \n",
       "area threshPass                                               \n",
       "lgn  False      1.853        nan     1.000     nan       nan  \n",
       "     True       1.857     79.248     1.000   0.674     2.843  \n",
       "v1   False      0.723     46.509     0.233   2.697     5.760  \n",
       "     True       0.955     86.016     0.394   2.289     4.745  "
      ]
     },
     "execution_count": 2129,
     "metadata": {},
     "output_type": "execute_result"
    }
   ],
   "source": [
    "df_only_full.groupby(['area', 'threshPass'])['maxResp', 'meanResp', 'oriBW', 'bw34', 'bw34_split',\n",
    "                                             'bwHalf', 'bwHalf_split', 'c50_pref_emp', 'rfsize', 'rfsize_surr', \n",
    "                                             'suprInd', \n",
    "                                   'f1f0', 'sfVarExpl', 'isSimple', 'prefSf', 'charFreq'].mean()"
   ]
  },
  {
   "cell_type": "markdown",
   "metadata": {},
   "source": [
    "It seems that the failed V1 cells have a substantially lower maximum firing rate, show less surround suppression, and show a much lower explained variance for single grating SF tuning at high contrast.\n",
    "\n",
    "Let's test this statistically:\n",
    "\n"
   ]
  },
  {
   "cell_type": "code",
   "execution_count": 2130,
   "metadata": {
    "scrolled": true
   },
   "outputs": [],
   "source": [
    "df_only_full_v1 = df_only_full[df_only_full['area']=='v1']"
   ]
  },
  {
   "cell_type": "code",
   "execution_count": 2131,
   "metadata": {},
   "outputs": [
    {
     "data": {
      "text/plain": [
       "isSimple  threshPass\n",
       "0.000     False         23\n",
       "          True          20\n",
       "1.000     True          13\n",
       "          False          7\n",
       "Name: threshPass, dtype: int64"
      ]
     },
     "execution_count": 2131,
     "metadata": {},
     "output_type": "execute_result"
    }
   ],
   "source": [
    "df_only_full_v1.groupby(['isSimple'])['threshPass'].value_counts()"
   ]
  },
  {
   "cell_type": "code",
   "execution_count": 2132,
   "metadata": {},
   "outputs": [
    {
     "data": {
      "text/html": [
       "<div>\n",
       "<style scoped>\n",
       "    .dataframe tbody tr th:only-of-type {\n",
       "        vertical-align: middle;\n",
       "    }\n",
       "\n",
       "    .dataframe tbody tr th {\n",
       "        vertical-align: top;\n",
       "    }\n",
       "\n",
       "    .dataframe thead th {\n",
       "        text-align: right;\n",
       "    }\n",
       "</style>\n",
       "<table border=\"1\" class=\"dataframe\">\n",
       "  <thead>\n",
       "    <tr style=\"text-align: right;\">\n",
       "      <th></th>\n",
       "      <th>threshPass</th>\n",
       "      <th>cellNum</th>\n",
       "      <th>auc</th>\n",
       "      <th>maxResp</th>\n",
       "    </tr>\n",
       "  </thead>\n",
       "  <tbody>\n",
       "    <tr>\n",
       "      <th>69</th>\n",
       "      <td>True</td>\n",
       "      <td>3</td>\n",
       "      <td>0.895</td>\n",
       "      <td>21.600</td>\n",
       "    </tr>\n",
       "    <tr>\n",
       "      <th>70</th>\n",
       "      <td>True</td>\n",
       "      <td>4</td>\n",
       "      <td>0.868</td>\n",
       "      <td>24.900</td>\n",
       "    </tr>\n",
       "    <tr>\n",
       "      <th>73</th>\n",
       "      <td>True</td>\n",
       "      <td>7</td>\n",
       "      <td>0.866</td>\n",
       "      <td>25.900</td>\n",
       "    </tr>\n",
       "    <tr>\n",
       "      <th>75</th>\n",
       "      <td>False</td>\n",
       "      <td>9</td>\n",
       "      <td>0.483</td>\n",
       "      <td>16.600</td>\n",
       "    </tr>\n",
       "    <tr>\n",
       "      <th>76</th>\n",
       "      <td>True</td>\n",
       "      <td>10</td>\n",
       "      <td>1.234</td>\n",
       "      <td>37.900</td>\n",
       "    </tr>\n",
       "    <tr>\n",
       "      <th>77</th>\n",
       "      <td>False</td>\n",
       "      <td>11</td>\n",
       "      <td>0.386</td>\n",
       "      <td>44.800</td>\n",
       "    </tr>\n",
       "    <tr>\n",
       "      <th>78</th>\n",
       "      <td>True</td>\n",
       "      <td>12</td>\n",
       "      <td>1.143</td>\n",
       "      <td>30.800</td>\n",
       "    </tr>\n",
       "    <tr>\n",
       "      <th>80</th>\n",
       "      <td>True</td>\n",
       "      <td>14</td>\n",
       "      <td>0.567</td>\n",
       "      <td>20.300</td>\n",
       "    </tr>\n",
       "    <tr>\n",
       "      <th>81</th>\n",
       "      <td>True</td>\n",
       "      <td>15</td>\n",
       "      <td>0.692</td>\n",
       "      <td>22.500</td>\n",
       "    </tr>\n",
       "    <tr>\n",
       "      <th>82</th>\n",
       "      <td>True</td>\n",
       "      <td>16</td>\n",
       "      <td>0.802</td>\n",
       "      <td>13.900</td>\n",
       "    </tr>\n",
       "    <tr>\n",
       "      <th>87</th>\n",
       "      <td>True</td>\n",
       "      <td>21</td>\n",
       "      <td>0.887</td>\n",
       "      <td>12.300</td>\n",
       "    </tr>\n",
       "    <tr>\n",
       "      <th>91</th>\n",
       "      <td>True</td>\n",
       "      <td>25</td>\n",
       "      <td>0.399</td>\n",
       "      <td>35.000</td>\n",
       "    </tr>\n",
       "    <tr>\n",
       "      <th>92</th>\n",
       "      <td>True</td>\n",
       "      <td>26</td>\n",
       "      <td>0.345</td>\n",
       "      <td>33.800</td>\n",
       "    </tr>\n",
       "    <tr>\n",
       "      <th>93</th>\n",
       "      <td>False</td>\n",
       "      <td>27</td>\n",
       "      <td>0.912</td>\n",
       "      <td>27.000</td>\n",
       "    </tr>\n",
       "    <tr>\n",
       "      <th>94</th>\n",
       "      <td>False</td>\n",
       "      <td>28</td>\n",
       "      <td>0.787</td>\n",
       "      <td>37.000</td>\n",
       "    </tr>\n",
       "    <tr>\n",
       "      <th>101</th>\n",
       "      <td>False</td>\n",
       "      <td>35</td>\n",
       "      <td>0.862</td>\n",
       "      <td>46.900</td>\n",
       "    </tr>\n",
       "    <tr>\n",
       "      <th>102</th>\n",
       "      <td>True</td>\n",
       "      <td>36</td>\n",
       "      <td>0.752</td>\n",
       "      <td>29.400</td>\n",
       "    </tr>\n",
       "    <tr>\n",
       "      <th>104</th>\n",
       "      <td>True</td>\n",
       "      <td>38</td>\n",
       "      <td>0.766</td>\n",
       "      <td>58.700</td>\n",
       "    </tr>\n",
       "    <tr>\n",
       "      <th>109</th>\n",
       "      <td>False</td>\n",
       "      <td>43</td>\n",
       "      <td>0.567</td>\n",
       "      <td>58.700</td>\n",
       "    </tr>\n",
       "    <tr>\n",
       "      <th>116</th>\n",
       "      <td>False</td>\n",
       "      <td>50</td>\n",
       "      <td>0.271</td>\n",
       "      <td>16.700</td>\n",
       "    </tr>\n",
       "  </tbody>\n",
       "</table>\n",
       "</div>"
      ],
      "text/plain": [
       "     threshPass  cellNum   auc  maxResp\n",
       "69         True        3 0.895   21.600\n",
       "70         True        4 0.868   24.900\n",
       "73         True        7 0.866   25.900\n",
       "75        False        9 0.483   16.600\n",
       "76         True       10 1.234   37.900\n",
       "77        False       11 0.386   44.800\n",
       "78         True       12 1.143   30.800\n",
       "80         True       14 0.567   20.300\n",
       "81         True       15 0.692   22.500\n",
       "82         True       16 0.802   13.900\n",
       "87         True       21 0.887   12.300\n",
       "91         True       25 0.399   35.000\n",
       "92         True       26 0.345   33.800\n",
       "93        False       27 0.912   27.000\n",
       "94        False       28 0.787   37.000\n",
       "101       False       35 0.862   46.900\n",
       "102        True       36 0.752   29.400\n",
       "104        True       38 0.766   58.700\n",
       "109       False       43 0.567   58.700\n",
       "116       False       50 0.271   16.700"
      ]
     },
     "execution_count": 2132,
     "metadata": {},
     "output_type": "execute_result"
    }
   ],
   "source": [
    "df_only_full_v1[df_only_full_v1['isSimple']==1][['threshPass', 'cellNum', 'auc', 'maxResp']]"
   ]
  },
  {
   "cell_type": "code",
   "execution_count": 2133,
   "metadata": {
    "scrolled": false
   },
   "outputs": [
    {
     "name": "stdout",
     "output_type": "stream",
     "text": [
      "maxResp 29.09[30] vs 50.75[33]: \n",
      "\tp=1.99e-02 [t]\n",
      "\tp=3.44e-01 [ks]\n",
      "meanResp 12.30[30] vs 15.36[33]: \n",
      "\tp=3.05e-01 [t]\n",
      "\tp=9.54e-01 [ks]\n",
      "oriBW 65.21[30] vs 78.35[33]: \n",
      "\tp=2.20e-01 [t]\n",
      "\tp=2.74e-01 [ks]\n",
      "tfBW 1.75[30] vs 2.64[33]: \n",
      "\tp=5.13e-02 [t]\n",
      "\tp=1.64e-01 [ks]\n",
      "bw34 1.38[30] vs 1.67[33]: \n",
      "\tp=7.64e-02 [t]\n",
      "\tp=3.75e-01 [ks]\n",
      "bw34_split 0.91[30] vs 1.01[33]: \n",
      "\tp=7.41e-01 [t]\n",
      "\tp=1.25e-01 [ks]\n",
      "bwHalf 2.18[30] vs 2.62[33]: \n",
      "\tp=1.09e-01 [t]\n",
      "\tp=5.72e-01 [ks]\n",
      "bwHalf_split 1.25[30] vs 1.36[33]: \n",
      "\tp=7.45e-01 [t]\n",
      "\tp=5.94e-01 [ks]\n",
      "c50_pref_emp 0.39[30] vs 0.31[33]: \n",
      "\tp=1.37e-01 [t]\n",
      "\tp=1.73e-01 [ks]\n",
      "suprInd 0.45[30] vs 0.42[33]: \n",
      "\tp=7.24e-01 [t]\n",
      "\tp=7.56e-01 [ks]\n",
      "f1f0 0.72[30] vs 0.96[33]: \n",
      "\tp=7.92e-02 [t]\n",
      "\tp=3.52e-02 [ks]\n",
      "sfVarExpl 46.51[30] vs 86.02[33]: \n",
      "\tp=1.56e-02 [t]\n",
      "\tp=1.01e-04 [ks]\n",
      "isSimple 0.23[30] vs 0.39[33]: \n",
      "\tp=1.77e-01 [t]\n",
      "\tp=7.40e-01 [ks]\n",
      "charFreq 5.76[30] vs 4.75[33]: \n",
      "\tp=4.91e-01 [t]\n",
      "\tp=9.43e-01 [ks]\n",
      "prefSf 2.70[30] vs 2.29[33]: \n",
      "\tp=4.68e-01 [t]\n",
      "\tp=4.27e-01 [ks]\n"
     ]
    }
   ],
   "source": [
    "to_test = ['maxResp', 'meanResp', 'oriBW', 'tfBW', 'bw34', 'bw34_split', 'bwHalf', 'bwHalf_split', 'c50_pref_emp', 'suprInd', \n",
    "                                   'f1f0', 'sfVarExpl', 'isSimple', 'charFreq', 'prefSf']\n",
    "\n",
    "# optionally, test this for ONLY simple or ONLY complex (change)\n",
    "testSimple = 0; # 1/-1/0 for only simple, onlly complex, or all\n",
    "\n",
    "for fld in to_test:\n",
    "    if testSimple == 1:\n",
    "        valz = (*df_only_full_v1[df_only_full_v1['isSimple']==1].groupby(['threshPass'])[fld].apply(list), )\n",
    "    elif testSimple == -1:\n",
    "        valz = (*df_only_full_v1[df_only_full_v1['isSimple']==0].groupby(['threshPass'])[fld].apply(list), )\n",
    "    else:\n",
    "        valz = (*df_only_full_v1.groupby(['threshPass'])[fld].apply(list), )\n",
    "    ncells = [len(x) for x in valz]\n",
    "    tst_t = ss.ttest_ind(*valz, nan_policy='omit')\n",
    "    tst_k = ss.ks_2samp(*valz, )\n",
    "    \n",
    "    print('%s %.2f[%d] vs %.2f[%d]: \\n\\tp=%.2e [t]\\n\\tp=%.2e [ks]' % (fld, np.nanmean(valz[0]), ncells[0], \n",
    "                                                  np.nanmean(valz[1]), ncells[1], tst_t.pvalue, tst_k.pvalue))"
   ]
  },
  {
   "cell_type": "markdown",
   "metadata": {},
   "source": [
    "##### So, the excluded cells have a statistically lower maxResp and lower explained variance of SF tuning at high contrast; there is no difference in mean response, oriBw, bw34, c50, suprInd\n",
    "\n",
    "*Note: The default for all below plots should be only included cells*\n",
    "\n"
   ]
  },
  {
   "cell_type": "markdown",
   "metadata": {},
   "source": [
    "### 6.1a"
   ]
  },
  {
   "cell_type": "code",
   "execution_count": 2134,
   "metadata": {
    "scrolled": true
   },
   "outputs": [
    {
     "data": {
      "image/png": "[encoded data removed]",
      "text/plain": [
       "<Figure size 211.05x130.436 with 2 Axes>"
      ]
     },
     "metadata": {
      "needs_background": "light"
     },
     "output_type": "display_data"
    }
   ],
   "source": [
    "subset_full = False;\n",
    "# if true, then plot for all\n",
    "# if false, then only those that pass\n",
    "\n",
    "# specs\n",
    "halfsz = True;\n",
    "noLgnd = True;\n",
    "scale = 0.45 if halfsz else 1\n",
    "\n",
    "saveName = '06_01_AUC_lgn_v1_%s%s%s.pdf' % ('full' if subset_full else 'pass', '_noLgnd' if noLgnd else '', '_halfSz' if halfsz else '')\n",
    "\n",
    "which_data = df_only_full if subset_full else df_only_pass;\n",
    "\n",
    "ars = df['area'].unique();\n",
    "\n",
    "nrow,ncol=2,1\n",
    "f, ax = plt.subplots(nrow,ncol,figsize=hf.set_size(scale*tex_width),# extra_height=1./scale), \n",
    "                 sharey=True, sharex=True);\n",
    "\n",
    "# clipLow = -10\n",
    "# clipHigh = None;\n",
    "kywrd = 'auc'\n",
    "use_norm = False;\n",
    "\n",
    "# bins for sfErr metric\n",
    "bins = np.linspace(0.1, 1, 10)\n",
    "tickVals = np.linspace(bins[1], bins[-2], len(bins)-2)\n",
    "\n",
    "stepSize = (bins[-1] - bins[0])/(len(bins)-1);\n",
    "binPlotLocs = bins[1:] - 0.5*stepSize;\n",
    "clipLow, clipHigh = bins[1]-0.5*stepSize, bins[-2]+0.5*stepSize;\n",
    "width = hist_width*stepSize;\n",
    "\n",
    "for (plt_i, (name,group)), clr in zip(enumerate(which_data.groupby('area')), colors):\n",
    "    \n",
    "    vls = group[kywrd].values;\n",
    "    clipped = np.clip(vls, clipLow, clipHigh);\n",
    "    vals, _ = np.histogram(clipped, bins=bins)\n",
    "    vals_norm = vals/np.sum(vals)\n",
    "    \n",
    "    to_use = vals_norm if use_norm else vals;\n",
    "    \n",
    "    ax[plt_i].bar(binPlotLocs, to_use, width=width, align='center', color=clr,\n",
    "                 label='%s [n=%d, mdn=%.2f]' % (name.upper(), len(vls), np.nanmedian(vls)));\n",
    "    \n",
    "    tickStrs = ['%.1f' % x for x in tickVals];\n",
    "    tickStrs[0] = '$>$%s' % tickStrs[0];\n",
    "    tickStrs[-1] = '$<$%s' % tickStrs[-1];\n",
    "    if halfsz: # take out every other...\n",
    "        tickStrs = [str_val if np.mod(str_i,2)==0 else '' for str_i,str_val in enumerate(tickStrs)]\n",
    "    ax[plt_i].set_xticks(tickVals);\n",
    "    ax[plt_i].set_xticklabels(tickStrs);\n",
    "    ax[plt_i].plot(np.nanmedian(vls), 1.2*np.nanmax(to_use), 'v', color=clr)\n",
    "#     ax[plt_i].set_title('%s: mdn=%.2e [n=%d]' % (area.upper(), np.nanmedian(vls), len(vls)))\n",
    "\n",
    "    if not noLgnd:\n",
    "        ax[plt_i].legend();\n",
    "    ax[plt_i].set_ylabel('Fraction of cells' if use_norm else 'Cell count');\n",
    "    if plt_i==nrow-1:\n",
    "        ax[plt_i].set_xlabel('Summation index (a.u.c.)');\n",
    "\n",
    "    for jj, axis in enumerate([ax[plt_i].xaxis, ax[plt_i].yaxis]):\n",
    "        if jj==1: # i.e. y axis, make sure we have tick labels, here, too\n",
    "            from matplotlib.ticker import MaxNLocator\n",
    "            axis.set_major_locator(MaxNLocator(3, integer=True))\n",
    "\n",
    "        \n",
    "sns.despine(offset=sns_offset)\n",
    "ttest = ss.ttest_ind(*which_data.groupby('area')['auc'].apply(list),)\n",
    "f.suptitle('Summation index, p=%.2e' % (ttest.pvalue))\n",
    "\n",
    "# now save\n",
    "if not os.path.exists(save_loc):\n",
    "    os.makedirs(save_loc)\n",
    "pdfSv = pltSave.PdfPages(save_loc + saveName);\n",
    "f = plt.gcf()\n",
    "pdfSv.savefig(f, bbox_inches='tight') # only one figure here...\n",
    "pdfSv.close()"
   ]
  },
  {
   "cell_type": "code",
   "execution_count": 2135,
   "metadata": {},
   "outputs": [
    {
     "data": {
      "text/html": [
       "<div>\n",
       "<style scoped>\n",
       "    .dataframe tbody tr th:only-of-type {\n",
       "        vertical-align: middle;\n",
       "    }\n",
       "\n",
       "    .dataframe tbody tr th {\n",
       "        vertical-align: top;\n",
       "    }\n",
       "\n",
       "    .dataframe thead th {\n",
       "        text-align: right;\n",
       "    }\n",
       "</style>\n",
       "<table border=\"1\" class=\"dataframe\">\n",
       "  <thead>\n",
       "    <tr style=\"text-align: right;\">\n",
       "      <th></th>\n",
       "      <th>count</th>\n",
       "      <th>median</th>\n",
       "    </tr>\n",
       "    <tr>\n",
       "      <th>cellType</th>\n",
       "      <th></th>\n",
       "      <th></th>\n",
       "    </tr>\n",
       "  </thead>\n",
       "  <tbody>\n",
       "    <tr>\n",
       "      <th>False</th>\n",
       "      <td>20</td>\n",
       "      <td>0.633</td>\n",
       "    </tr>\n",
       "    <tr>\n",
       "      <th>True</th>\n",
       "      <td>13</td>\n",
       "      <td>0.802</td>\n",
       "    </tr>\n",
       "    <tr>\n",
       "      <th>magno</th>\n",
       "      <td>3</td>\n",
       "      <td>0.496</td>\n",
       "    </tr>\n",
       "    <tr>\n",
       "      <th>other</th>\n",
       "      <td>2</td>\n",
       "      <td>0.661</td>\n",
       "    </tr>\n",
       "    <tr>\n",
       "      <th>parvo</th>\n",
       "      <td>7</td>\n",
       "      <td>0.896</td>\n",
       "    </tr>\n",
       "  </tbody>\n",
       "</table>\n",
       "</div>"
      ],
      "text/plain": [
       "          count  median\n",
       "cellType               \n",
       "False        20   0.633\n",
       "True         13   0.802\n",
       "magno         3   0.496\n",
       "other         2   0.661\n",
       "parvo         7   0.896"
      ]
     },
     "execution_count": 2135,
     "metadata": {},
     "output_type": "execute_result"
    }
   ],
   "source": [
    "#### Any difference by cell type (note that False is complex, True is simple for V1)??\n",
    "df_only_pass.groupby(['cellType'])['auc'].agg(['count', 'median'])"
   ]
  },
  {
   "cell_type": "markdown",
   "metadata": {},
   "source": [
    "Looks like parvos are more linear than magnos; and simples are more linear than complex. Can we test the latter statistically?"
   ]
  },
  {
   "cell_type": "code",
   "execution_count": 2136,
   "metadata": {},
   "outputs": [
    {
     "data": {
      "text/plain": [
       "Ttest_indResult(statistic=-1.802287007096838, pvalue=0.08123174609352035)"
      ]
     },
     "execution_count": 2136,
     "metadata": {},
     "output_type": "execute_result"
    }
   ],
   "source": [
    "smp,cmp = df_only_pass[df_only_pass['area']=='v1'].groupby(['cellType'])['auc'].apply(list)\n",
    "ss.ttest_ind(smp, cmp)"
   ]
  },
  {
   "cell_type": "markdown",
   "metadata": {},
   "source": [
    "*No statistical difference in AUC for simple and complex cells in V1*"
   ]
  },
  {
   "cell_type": "markdown",
   "metadata": {},
   "source": [
    "### 6.2 Compare sfVar metric between LGN, V1 for included cells\n",
    "\n"
   ]
  },
  {
   "cell_type": "code",
   "execution_count": 2137,
   "metadata": {},
   "outputs": [
    {
     "data": {
      "text/plain": [
       "Index(['area', 'cellType', 'isSimple', 'cellNum', 'f1f0', 'sfVarExpl',\n",
       "       'charFreq', 'prefSf', 'slope', 'bwHalf_split', 'bwHalf', 'bw34_split',\n",
       "       'bw34', 'rfsize', 'rfsize_surr', 'suprInd', 'oriBW', 'tfBW', 'tfPref',\n",
       "       'meanResp', 'mdnResp', 'maxResp', 'c50_pref', 'c50_pref_emp', 'sfErrs',\n",
       "       'sfErrsBootStd', 'sfErrsBootMdn', 'super_varExpl', 'super_varExpl_std',\n",
       "       'svesc', 'auc', 'auc_std', 'c50_summ', 'c50_summ_emp', 'isFullDisp',\n",
       "       'threshPass', 'super_varExpl_clip', 'svec', 'c50emp', 'aucStd'],\n",
       "      dtype='object')"
      ]
     },
     "execution_count": 2137,
     "metadata": {},
     "output_type": "execute_result"
    }
   ],
   "source": [
    "df_only_full.keys()"
   ]
  },
  {
   "cell_type": "code",
   "execution_count": 2138,
   "metadata": {},
   "outputs": [
    {
     "data": {
      "text/html": [
       "<div>\n",
       "<style scoped>\n",
       "    .dataframe tbody tr th:only-of-type {\n",
       "        vertical-align: middle;\n",
       "    }\n",
       "\n",
       "    .dataframe tbody tr th {\n",
       "        vertical-align: top;\n",
       "    }\n",
       "\n",
       "    .dataframe thead th {\n",
       "        text-align: right;\n",
       "    }\n",
       "</style>\n",
       "<table border=\"1\" class=\"dataframe\">\n",
       "  <thead>\n",
       "    <tr style=\"text-align: right;\">\n",
       "      <th></th>\n",
       "      <th>area</th>\n",
       "      <th>cellNum</th>\n",
       "      <th>super_varExpl</th>\n",
       "    </tr>\n",
       "  </thead>\n",
       "  <tbody>\n",
       "    <tr>\n",
       "      <th>40</th>\n",
       "      <td>lgn</td>\n",
       "      <td>41</td>\n",
       "      <td>67.542</td>\n",
       "    </tr>\n",
       "    <tr>\n",
       "      <th>42</th>\n",
       "      <td>lgn</td>\n",
       "      <td>43</td>\n",
       "      <td>82.163</td>\n",
       "    </tr>\n",
       "    <tr>\n",
       "      <th>44</th>\n",
       "      <td>lgn</td>\n",
       "      <td>45</td>\n",
       "      <td>75.883</td>\n",
       "    </tr>\n",
       "    <tr>\n",
       "      <th>50</th>\n",
       "      <td>lgn</td>\n",
       "      <td>51</td>\n",
       "      <td>74.660</td>\n",
       "    </tr>\n",
       "    <tr>\n",
       "      <th>52</th>\n",
       "      <td>lgn</td>\n",
       "      <td>53</td>\n",
       "      <td>77.411</td>\n",
       "    </tr>\n",
       "    <tr>\n",
       "      <th>53</th>\n",
       "      <td>lgn</td>\n",
       "      <td>54</td>\n",
       "      <td>79.710</td>\n",
       "    </tr>\n",
       "    <tr>\n",
       "      <th>69</th>\n",
       "      <td>lgn</td>\n",
       "      <td>70</td>\n",
       "      <td>85.630</td>\n",
       "    </tr>\n",
       "    <tr>\n",
       "      <th>71</th>\n",
       "      <td>lgn</td>\n",
       "      <td>72</td>\n",
       "      <td>74.478</td>\n",
       "    </tr>\n",
       "    <tr>\n",
       "      <th>76</th>\n",
       "      <td>lgn</td>\n",
       "      <td>77</td>\n",
       "      <td>39.097</td>\n",
       "    </tr>\n",
       "    <tr>\n",
       "      <th>77</th>\n",
       "      <td>lgn</td>\n",
       "      <td>78</td>\n",
       "      <td>28.276</td>\n",
       "    </tr>\n",
       "  </tbody>\n",
       "</table>\n",
       "</div>"
      ],
      "text/plain": [
       "   area  cellNum  super_varExpl\n",
       "40  lgn       41         67.542\n",
       "42  lgn       43         82.163\n",
       "44  lgn       45         75.883\n",
       "50  lgn       51         74.660\n",
       "52  lgn       53         77.411\n",
       "53  lgn       54         79.710\n",
       "69  lgn       70         85.630\n",
       "71  lgn       72         74.478\n",
       "76  lgn       77         39.097\n",
       "77  lgn       78         28.276"
      ]
     },
     "execution_count": 2138,
     "metadata": {},
     "output_type": "execute_result"
    }
   ],
   "source": [
    "df_only_full[['area', 'cellNum', 'super_varExpl']].head(10)"
   ]
  },
  {
   "cell_type": "code",
   "execution_count": 2139,
   "metadata": {
    "scrolled": true
   },
   "outputs": [
    {
     "data": {
      "image/png": "[encoded data removed]",
      "text/plain": [
       "<Figure size 234.5x144.929 with 2 Axes>"
      ]
     },
     "metadata": {
      "needs_background": "light"
     },
     "output_type": "display_data"
    }
   ],
   "source": [
    "subset_full = False;\n",
    "# if true, then plot for all\n",
    "# if false, then only those that pass\n",
    "\n",
    "# specs\n",
    "halfsz = True\n",
    "noLgnd = True;\n",
    "scale = 0.5 if halfsz else 1\n",
    "\n",
    "saveName = '06_02_sfVarMetric_lgn_v1_%s%s%s.pdf' % ('full' if subset_full else 'pass', '_noLgnd' if noLgnd else '', '_halfSz' if halfsz else '')\n",
    "\n",
    "which_data = df_only_full if subset_full else df_only_pass;\n",
    "\n",
    "# temp...\n",
    "# err, errStd = np.transpose(which_data[['sfErrs', 'sfErrsBootStd']].dropna().values, )\n",
    "# cutoff = 1.5*np.max(which_data[which_data['area']=='lgn']['sfErrsBootStd'].values)#np.nanpercentile(errStd, 75)\n",
    "# which_data = which_data[which_data['sfErrsBootStd']<=cutoff]; # filter out some extreme values\n",
    "\n",
    "ars = df['area'].unique();\n",
    "\n",
    "nrow,ncol=2,1\n",
    "f, ax = plt.subplots(nrow,ncol,figsize=hf.set_size(scale*tex_width), sharey=True, sharex=True);\n",
    "\n",
    "kywrd = 'sfErrs'\n",
    "# kywrd = 'sfErrsBootMdn'\n",
    "use_norm = False;\n",
    "\n",
    "# bins for sfErr metric\n",
    "bins = np.linspace(0, 0.02, 11)\n",
    "tickVals = np.linspace(bins[1], bins[-2], len(bins)-2)\n",
    "\n",
    "stepSize = (bins[-1] - bins[0])/(len(bins)-1);\n",
    "binPlotLocs = bins[1:] - 0.5*stepSize;\n",
    "clipLow, clipHigh = bins[1]-0.5*stepSize, bins[-2]+0.5*stepSize;\n",
    "width = hist_width*stepSize;\n",
    "\n",
    "for (plt_i, (name,group)), clr in zip(enumerate(which_data.groupby('area')), colors):\n",
    "    \n",
    "    vls = group[kywrd].values;\n",
    "    clipped = np.clip(vls, clipLow, clipHigh);\n",
    "    vals, _ = np.histogram(clipped, bins=bins)\n",
    "    vals_norm = vals/np.sum(vals)\n",
    "    \n",
    "    to_use = vals_norm if use_norm else vals;\n",
    "    \n",
    "    ax[plt_i].bar(binPlotLocs, to_use, width=width, align='center', color=clr,\n",
    "                 label='%s [n=%d, mdn=%.1e]' % (name.upper(), len(vls), np.nanmedian(vls)));\n",
    "    \n",
    "    ax[plt_i].plot(np.nanmedian(vls), 1.2*np.nanmax(to_use), 'v', color=clr)\n",
    "    tickStrs = ['%.3f' % x for x in tickVals];\n",
    "    tickStrs[0] = '$>$%s' % tickStrs[0];\n",
    "    tickStrs[-1] = '$<$%s' % tickStrs[-1];\n",
    "    if halfsz: # take out every other...\n",
    "        tickStrs = [str_val if np.mod(str_i,4)==0 else '' for str_i,str_val in enumerate(tickStrs)]\n",
    "    ax[plt_i].set_xticks(tickVals);\n",
    "    ax[plt_i].set_xticklabels(tickStrs);\n",
    "#     ax[plt_i].set_title('%s: mdn=%.2e [n=%d]' % (area.upper(), np.nanmedian(vls), len(vls)))\n",
    "\n",
    "    if not noLgnd:\n",
    "        ax[plt_i].legend();\n",
    "#     ax[plt_i].set_ylabel('Fraction of cells' if use_norm else 'Cell count');\n",
    "    if plt_i==nrow-1:\n",
    "        ax[plt_i].set_xlabel(r'sfVar metric, $f_{\\sigma^2}$');\n",
    "\n",
    "sns.despine(offset=sns_offset)\n",
    "tst = ss.ttest_ind(*which_data.groupby('area')[kywrd].apply(list),)\n",
    "# f.suptitle('Comparing sfVar by area [p=%.3f]' % tst.pvalue)\n",
    "\n",
    "# now save\n",
    "if not os.path.exists(save_loc):\n",
    "    os.makedirs(save_loc)\n",
    "pdfSv = pltSave.PdfPages(save_loc + saveName);\n",
    "f = plt.gcf()\n",
    "pdfSv.savefig(f, bbox_inches='tight') # only one figure here...\n",
    "pdfSv.close()"
   ]
  },
  {
   "cell_type": "markdown",
   "metadata": {},
   "source": [
    "##### Pop. difference between LGN and V1!\n",
    "*However, what if we compare LGN to just simple or just complex?*"
   ]
  },
  {
   "cell_type": "code",
   "execution_count": 2140,
   "metadata": {},
   "outputs": [
    {
     "name": "stdout",
     "output_type": "stream",
     "text": [
      "Simple (p=0.1969) and complex (p=0.0013) sfErrsBootMdn distributions compared to LGN distr.]\n",
      "\tSimple (mdn=5.00e-03) vs. complex (mdn=9.56e-03) gives p=0.0260\n"
     ]
    }
   ],
   "source": [
    "kywrd = 'sfErrsBootMdn'\n",
    "# kywrd = 'sfErrs'\n",
    "\n",
    "lgn_onlypass = df_only_pass[df_only_pass['area']=='lgn']\n",
    "v1_onlypass = df_only_pass[df_only_pass['area']=='v1']\n",
    "\n",
    "lgn_vals = lgn_onlypass[kywrd].values\n",
    "smp_vals = v1_onlypass[v1_onlypass['isSimple']==True][kywrd].values\n",
    "cmp_vals = v1_onlypass[v1_onlypass['isSimple']==False][kywrd].values\n",
    "\n",
    "tst_vSimp = ss.ttest_ind(lgn_vals, smp_vals)\n",
    "tst_vComp = ss.ttest_ind(lgn_vals, cmp_vals)\n",
    "tst_compVsimp = ss.ttest_ind(smp_vals, cmp_vals)\n",
    "\n",
    "print('Simple (p=%.4f) and complex (p=%.4f) %s distributions compared to LGN distr.]' % (tst_vSimp.pvalue, tst_vComp.pvalue, kywrd))\n",
    "print('\\tSimple (mdn=%.2e) vs. complex (mdn=%.2e) gives p=%.4f' % (np.median(smp_vals), np.median(cmp_vals), tst_compVsimp.pvalue))"
   ]
  },
  {
   "cell_type": "markdown",
   "metadata": {},
   "source": [
    "##### Any difference between simple & complex with sfVar?\n",
    "\n",
    "Again, note that simple is True, complex is False belo"
   ]
  },
  {
   "cell_type": "code",
   "execution_count": 2141,
   "metadata": {},
   "outputs": [
    {
     "data": {
      "text/html": [
       "<div>\n",
       "<style scoped>\n",
       "    .dataframe tbody tr th:only-of-type {\n",
       "        vertical-align: middle;\n",
       "    }\n",
       "\n",
       "    .dataframe tbody tr th {\n",
       "        vertical-align: top;\n",
       "    }\n",
       "\n",
       "    .dataframe thead th {\n",
       "        text-align: right;\n",
       "    }\n",
       "</style>\n",
       "<table border=\"1\" class=\"dataframe\">\n",
       "  <thead>\n",
       "    <tr style=\"text-align: right;\">\n",
       "      <th></th>\n",
       "      <th>mean</th>\n",
       "      <th>median</th>\n",
       "      <th>count</th>\n",
       "    </tr>\n",
       "    <tr>\n",
       "      <th>cellType</th>\n",
       "      <th></th>\n",
       "      <th></th>\n",
       "      <th></th>\n",
       "    </tr>\n",
       "  </thead>\n",
       "  <tbody>\n",
       "    <tr>\n",
       "      <th>False</th>\n",
       "      <td>0.010</td>\n",
       "      <td>0.009</td>\n",
       "      <td>20</td>\n",
       "    </tr>\n",
       "    <tr>\n",
       "      <th>True</th>\n",
       "      <td>0.006</td>\n",
       "      <td>0.005</td>\n",
       "      <td>13</td>\n",
       "    </tr>\n",
       "  </tbody>\n",
       "</table>\n",
       "</div>"
      ],
      "text/plain": [
       "          mean  median  count\n",
       "cellType                     \n",
       "False    0.010   0.009     20\n",
       "True     0.006   0.005     13"
      ]
     },
     "execution_count": 2141,
     "metadata": {},
     "output_type": "execute_result"
    }
   ],
   "source": [
    "df_only_pass[df_only_pass['area']=='v1'].groupby(['cellType'])['sfErrs'].agg(['mean', 'median', 'count'])"
   ]
  },
  {
   "cell_type": "code",
   "execution_count": 2142,
   "metadata": {},
   "outputs": [
    {
     "data": {
      "text/html": [
       "<div>\n",
       "<style scoped>\n",
       "    .dataframe tbody tr th:only-of-type {\n",
       "        vertical-align: middle;\n",
       "    }\n",
       "\n",
       "    .dataframe tbody tr th {\n",
       "        vertical-align: top;\n",
       "    }\n",
       "\n",
       "    .dataframe thead th {\n",
       "        text-align: right;\n",
       "    }\n",
       "</style>\n",
       "<table border=\"1\" class=\"dataframe\">\n",
       "  <thead>\n",
       "    <tr style=\"text-align: right;\">\n",
       "      <th></th>\n",
       "      <th>mean</th>\n",
       "      <th>median</th>\n",
       "      <th>count</th>\n",
       "    </tr>\n",
       "    <tr>\n",
       "      <th>cellType</th>\n",
       "      <th></th>\n",
       "      <th></th>\n",
       "      <th></th>\n",
       "    </tr>\n",
       "  </thead>\n",
       "  <tbody>\n",
       "    <tr>\n",
       "      <th>False</th>\n",
       "      <td>0.010</td>\n",
       "      <td>0.009</td>\n",
       "      <td>20</td>\n",
       "    </tr>\n",
       "    <tr>\n",
       "      <th>True</th>\n",
       "      <td>0.006</td>\n",
       "      <td>0.005</td>\n",
       "      <td>13</td>\n",
       "    </tr>\n",
       "  </tbody>\n",
       "</table>\n",
       "</div>"
      ],
      "text/plain": [
       "          mean  median  count\n",
       "cellType                     \n",
       "False    0.010   0.009     20\n",
       "True     0.006   0.005     13"
      ]
     },
     "execution_count": 2142,
     "metadata": {},
     "output_type": "execute_result"
    }
   ],
   "source": [
    "df_only_pass[df_only_pass['area']=='v1'].groupby(['cellType'])['sfErrs'].agg(['mean', 'median', 'count'])"
   ]
  },
  {
   "cell_type": "code",
   "execution_count": 2143,
   "metadata": {},
   "outputs": [
    {
     "data": {
      "text/plain": [
       "Ttest_indResult(statistic=2.209907826609766, pvalue=0.034626270524295906)"
      ]
     },
     "execution_count": 2143,
     "metadata": {},
     "output_type": "execute_result"
    }
   ],
   "source": [
    "smp,cmp = df_only_pass[df_only_pass['area']=='v1'].groupby(['cellType'])['sfErrs'].apply(list)\n",
    "ss.ttest_ind(smp, cmp)"
   ]
  },
  {
   "cell_type": "markdown",
   "metadata": {},
   "source": [
    "##### What about the variance of this metric? Any relationship between sfVar and its reliability?\n",
    "We want to make sure that large sfVar values aren't just more variable!\n",
    "\n"
   ]
  },
  {
   "cell_type": "code",
   "execution_count": 2144,
   "metadata": {},
   "outputs": [],
   "source": [
    "# valz = np.transpose(which_data[[metr_a, metr_b]].dropna().values, )"
   ]
  },
  {
   "cell_type": "code",
   "execution_count": 2145,
   "metadata": {},
   "outputs": [],
   "source": [
    "# ss.pearsonr(err, np.log(errStd))"
   ]
  },
  {
   "cell_type": "code",
   "execution_count": 2146,
   "metadata": {
    "scrolled": true
   },
   "outputs": [
    {
     "data": {
      "image/png": "[encoded data removed]",
      "text/plain": [
       "<Figure size 469x289.858 with 1 Axes>"
      ]
     },
     "metadata": {
      "needs_background": "light"
     },
     "output_type": "display_data"
    }
   ],
   "source": [
    "subset_full = False;\n",
    "# if true, then plot for all\n",
    "# if false, then only those that pass\n",
    "\n",
    "halfsz = True;\n",
    "\n",
    "scale = 0.5 if halfsz else 1\n",
    "\n",
    "whichErr = 'sfErrs' # the one off value?\n",
    "# whichErr = 'sfErrsBootMdn' # or the boot strapped median?\n",
    "\n",
    "saveName = '06_02a_sfVarMetric_stability_lgn_v1_%s%s.pdf' % ('full' if subset_full else 'pass', 'halfSz' if halfsz else '')\n",
    "\n",
    "err, errStd = np.transpose(which_data[[whichErr, 'sfErrsBootStd']].dropna().values, )\n",
    "\n",
    "cutoff = np.nanpercentile(errStd, 75)\n",
    "\n",
    "which_data = df_only_full if subset_full else df_only_pass;\n",
    "# which_data = which_data[which_data['sfErrs']<0.15]; # filter out some extreme values\n",
    "# which_data = which_data[which_data['sfErrsBootStd']<cutoff]; # filter out some extreme values\n",
    "\n",
    "f = plt.figure(figsize=hf.set_size(tex_width));\n",
    "sns.scatterplot(data=which_data, x=whichErr, y='sfErrsBootStd', hue='area', palette=colors);\n",
    "# plt.yscale('log')\n",
    "r2,p,n = pearson_r_pandas(which_data, whichErr, 'sfErrsBootStd')\n",
    "f.suptitle('r2=%.2f, p=%.1e [n=%d]' % (r2,p,n));\n",
    "sns.despine(offset=sns_offset)\n",
    "plt.xlabel(r'sfVar metric, $f_{\\sigma^2}$')\n",
    "\n",
    "plt.yscale('log')\n",
    "\n",
    "# now save\n",
    "if not os.path.exists(save_loc):\n",
    "    os.makedirs(save_loc)\n",
    "pdfSv = pltSave.PdfPages(save_loc + saveName);\n",
    "f = plt.gcf()\n",
    "pdfSv.savefig(f, bbox_inches='tight') # only one figure here...\n",
    "pdfSv.close()"
   ]
  },
  {
   "cell_type": "code",
   "execution_count": 2147,
   "metadata": {},
   "outputs": [
    {
     "data": {
      "image/png": "[encoded data removed]",
      "text/plain": [
       "<Figure size 432x288 with 1 Axes>"
      ]
     },
     "metadata": {
      "needs_background": "light"
     },
     "output_type": "display_data"
    }
   ],
   "source": [
    "# however, if we norm. the std (errStd) by the metric (err), things look more lawful...? \n",
    "plt.scatter(err, errStd/err)\n",
    "plt.yscale('log')"
   ]
  },
  {
   "cell_type": "code",
   "execution_count": 2148,
   "metadata": {
    "scrolled": true
   },
   "outputs": [
    {
     "data": {
      "image/png": "[encoded data removed]",
      "text/plain": [
       "<Figure size 469x289.858 with 1 Axes>"
      ]
     },
     "metadata": {
      "needs_background": "light"
     },
     "output_type": "display_data"
    }
   ],
   "source": [
    "subset_full = False;\n",
    "# if true, then plot for all\n",
    "# if false, then only those that pass\n",
    "\n",
    "saveName = '06_02b_sfVarMetric_stability_alt_lgn_v1_%s.pdf' % ('full' if subset_full else 'pass')\n",
    "\n",
    "whichErr = 'sfErrs'\n",
    "# whichErr = 'sfErrsBootMdn'\n",
    "\n",
    "err, errStd = np.transpose(which_data[[whichErr, 'sfVarExpl']].dropna().values, )\n",
    "\n",
    "which_data = df_only_full if subset_full else df_only_pass;\n",
    "# throw out one value odd value\n",
    "which_data = which_data[which_data['sfVarExpl']>0]; # filter out some extreme values\n",
    "# which_data = which_data[which_data['sfErrsBootStd']<cutoff]; # filter out some extreme values\n",
    "\n",
    "f = plt.figure(figsize=hf.set_size(tex_width));\n",
    "sns.scatterplot(data=which_data, x=whichErr, y='sfVarExpl', hue='area', palette=colors);\n",
    "# plt.yscale('log')\n",
    "r2,p,n = pearson_r_pandas(which_data, whichErr, 'sfVarExpl')\n",
    "f.suptitle('r2=%.2f, p=%.1e [n=%d]' % (r2,p,n));\n",
    "sns.despine(offset=sns_offset)\n",
    "plt.xlabel(r'sfVar metric, $f_{\\sigma^2}$')\n",
    "\n",
    "# now save\n",
    "if not os.path.exists(save_loc):\n",
    "    os.makedirs(save_loc)\n",
    "pdfSv = pltSave.PdfPages(save_loc + saveName);\n",
    "f = plt.gcf()\n",
    "pdfSv.savefig(f, bbox_inches='tight') # only one figure here...\n",
    "pdfSv.close()"
   ]
  },
  {
   "cell_type": "markdown",
   "metadata": {},
   "source": [
    "**Both of the above plots show that this metric might be problematic!**\n",
    "\n",
    "While it shows hints of reflecting some frequency-dependent process, the measure is too correlated with noise to be trusted. Namely, the sfErr metric has systematically higher variance across bootstrap repititions for higher value sfErrs!\n"
   ]
  },
  {
   "cell_type": "code",
   "execution_count": 2149,
   "metadata": {
    "scrolled": true
   },
   "outputs": [
    {
     "data": {
      "image/png": "[encoded data removed]",
      "text/plain": [
       "<Figure size 432x288 with 1 Axes>"
      ]
     },
     "metadata": {
      "needs_background": "light"
     },
     "output_type": "display_data"
    }
   ],
   "source": [
    "aa,bb = np.transpose(which_data[['sfErrs', 'sfErrsBootMdn']].dropna().values, )\n",
    "plt.scatter(aa,bb);\n",
    "plt.title('sfErrs metric: boot median (y) and orig. est. (x) are well correlated');\n"
   ]
  },
  {
   "cell_type": "markdown",
   "metadata": {},
   "source": [
    "### 6.3 For cells that pass, what are some tuning differences between LGN and V1?\n",
    "\n"
   ]
  },
  {
   "cell_type": "code",
   "execution_count": 2150,
   "metadata": {
    "scrolled": true
   },
   "outputs": [
    {
     "name": "stderr",
     "output_type": "stream",
     "text": [
      "/users/plevy/miniconda3/envs/pytorch-lcv/lib/python3.6/site-packages/ipykernel_launcher.py:2: FutureWarning: Indexing with multiple keys (implicitly converted to a tuple of keys) will be deprecated, use a list instead.\n",
      "  \n"
     ]
    },
    {
     "data": {
      "text/html": [
       "<div>\n",
       "<style scoped>\n",
       "    .dataframe tbody tr th:only-of-type {\n",
       "        vertical-align: middle;\n",
       "    }\n",
       "\n",
       "    .dataframe tbody tr th {\n",
       "        vertical-align: top;\n",
       "    }\n",
       "\n",
       "    .dataframe thead th {\n",
       "        text-align: right;\n",
       "    }\n",
       "</style>\n",
       "<table border=\"1\" class=\"dataframe\">\n",
       "  <thead>\n",
       "    <tr style=\"text-align: right;\">\n",
       "      <th></th>\n",
       "      <th>maxResp</th>\n",
       "      <th>meanResp</th>\n",
       "      <th>oriBW</th>\n",
       "      <th>tfBW</th>\n",
       "      <th>tfPref</th>\n",
       "      <th>bw34</th>\n",
       "      <th>bw34_split</th>\n",
       "      <th>c50_pref_emp</th>\n",
       "      <th>rfsize</th>\n",
       "      <th>rfsize_surr</th>\n",
       "      <th>suprInd</th>\n",
       "      <th>f1f0</th>\n",
       "      <th>sfVarExpl</th>\n",
       "      <th>isSimple</th>\n",
       "      <th>charFreq</th>\n",
       "      <th>prefSf</th>\n",
       "    </tr>\n",
       "    <tr>\n",
       "      <th>area</th>\n",
       "      <th></th>\n",
       "      <th></th>\n",
       "      <th></th>\n",
       "      <th></th>\n",
       "      <th></th>\n",
       "      <th></th>\n",
       "      <th></th>\n",
       "      <th></th>\n",
       "      <th></th>\n",
       "      <th></th>\n",
       "      <th></th>\n",
       "      <th></th>\n",
       "      <th></th>\n",
       "      <th></th>\n",
       "      <th></th>\n",
       "      <th></th>\n",
       "    </tr>\n",
       "  </thead>\n",
       "  <tbody>\n",
       "    <tr>\n",
       "      <th>lgn</th>\n",
       "      <td>39.892</td>\n",
       "      <td>23.376</td>\n",
       "      <td>nan</td>\n",
       "      <td>2.859</td>\n",
       "      <td>14.824</td>\n",
       "      <td>1.612</td>\n",
       "      <td>2.176</td>\n",
       "      <td>0.283</td>\n",
       "      <td>0.842</td>\n",
       "      <td>1.610</td>\n",
       "      <td>0.136</td>\n",
       "      <td>1.857</td>\n",
       "      <td>79.248</td>\n",
       "      <td>1.000</td>\n",
       "      <td>2.843</td>\n",
       "      <td>0.674</td>\n",
       "    </tr>\n",
       "    <tr>\n",
       "      <th>v1</th>\n",
       "      <td>50.755</td>\n",
       "      <td>15.363</td>\n",
       "      <td>78.355</td>\n",
       "      <td>2.637</td>\n",
       "      <td>9.234</td>\n",
       "      <td>1.671</td>\n",
       "      <td>1.011</td>\n",
       "      <td>0.309</td>\n",
       "      <td>1.517</td>\n",
       "      <td>3.835</td>\n",
       "      <td>0.424</td>\n",
       "      <td>0.955</td>\n",
       "      <td>86.016</td>\n",
       "      <td>0.394</td>\n",
       "      <td>4.745</td>\n",
       "      <td>2.289</td>\n",
       "    </tr>\n",
       "  </tbody>\n",
       "</table>\n",
       "</div>"
      ],
      "text/plain": [
       "      maxResp  meanResp  oriBW  tfBW  tfPref  bw34  bw34_split  c50_pref_emp  \\\n",
       "area                                                                           \n",
       "lgn    39.892    23.376    nan 2.859  14.824 1.612       2.176         0.283   \n",
       "v1     50.755    15.363 78.355 2.637   9.234 1.671       1.011         0.309   \n",
       "\n",
       "      rfsize  rfsize_surr  suprInd  f1f0  sfVarExpl  isSimple  charFreq  \\\n",
       "area                                                                      \n",
       "lgn    0.842        1.610    0.136 1.857     79.248     1.000     2.843   \n",
       "v1     1.517        3.835    0.424 0.955     86.016     0.394     4.745   \n",
       "\n",
       "      prefSf  \n",
       "area          \n",
       "lgn    0.674  \n",
       "v1     2.289  "
      ]
     },
     "execution_count": 2150,
     "metadata": {},
     "output_type": "execute_result"
    }
   ],
   "source": [
    "df_only_pass.groupby('area')['maxResp', 'meanResp', 'oriBW', 'tfBW', 'tfPref', 'bw34', 'bw34_split', 'c50_pref_emp', 'rfsize', 'rfsize_surr', 'suprInd', \n",
    "                                   'f1f0', 'sfVarExpl', 'isSimple', 'charFreq', 'prefSf'].mean()"
   ]
  },
  {
   "cell_type": "code",
   "execution_count": 2151,
   "metadata": {
    "scrolled": false
   },
   "outputs": [
    {
     "name": "stdout",
     "output_type": "stream",
     "text": [
      "maxResp 39.89[12] vs 50.75[33]: \n",
      "\tp=4.47e-01 [t]\n",
      "\tp=6.02e-01 [ks]\n",
      "meanResp 23.38[12] vs 15.36[33]: \n",
      "\tp=8.61e-02 [t]\n",
      "\tp=4.37e-03 [ks]\n",
      "oriBW nan[0] vs 78.35[33]: \n",
      "\tp=nan [t]\n",
      "\tp=6.95e-11 [ks]\n",
      "tfPref 14.82[12] vs 9.23[33]: \n",
      "\tp=1.78e-02 [t]\n",
      "\tp=2.99e-01 [ks]\n",
      "bw34 1.61[4] vs 1.67[28]: \n",
      "\tp=8.46e-01 [t]\n",
      "\tp=1.17e-02 [ks]\n",
      "bw34_split 2.18[11] vs 1.01[32]: \n",
      "\tp=1.50e-02 [t]\n",
      "\tp=2.13e-02 [ks]\n",
      "bwHalf_split 2.64[11] vs 1.36[32]: \n",
      "\tp=1.33e-02 [t]\n",
      "\tp=3.23e-02 [ks]\n",
      "c50_pref_emp 0.28[12] vs 0.31[33]: \n",
      "\tp=6.68e-01 [t]\n",
      "\tp=3.29e-01 [ks]\n",
      "suprInd 0.14[12] vs 0.42[33]: \n",
      "\tp=7.36e-03 [t]\n",
      "\tp=6.16e-03 [ks]\n",
      "f1f0 1.86[12] vs 0.96[33]: \n",
      "\tp=2.09e-06 [t]\n",
      "\tp=1.51e-07 [ks]\n",
      "sfVarExpl 79.25[11] vs 86.02[33]: \n",
      "\tp=3.51e-01 [t]\n",
      "\tp=9.70e-01 [ks]\n",
      "prefSf 0.67[11] vs 2.29[33]: \n",
      "\tp=1.30e-02 [t]\n",
      "\tp=9.94e-03 [ks]\n",
      "charFreq 2.84[11] vs 4.75[33]: \n",
      "\tp=8.17e-02 [t]\n",
      "\tp=1.86e-01 [ks]\n",
      "tfBW 2.86[7] vs 2.64[21]: \n",
      "\tp=7.09e-01 [t]\n",
      "\tp=7.12e-01 [ks]\n"
     ]
    },
    {
     "name": "stderr",
     "output_type": "stream",
     "text": [
      "/users/plevy/miniconda3/envs/pytorch-lcv/lib/python3.6/site-packages/scipy/stats/mstats_basic.py:1070: RuntimeWarning: divide by zero encountered in true_divide\n",
      "  denom = ma.sqrt(svar*(1.0/n1 + 1.0/n2))  # n-D computation here!\n",
      "/users/plevy/miniconda3/envs/pytorch-lcv/lib/python3.6/site-packages/ipykernel_launcher.py:12: RuntimeWarning: Mean of empty slice\n",
      "  if sys.path[0] == '':\n",
      "/users/plevy/miniconda3/envs/pytorch-lcv/lib/python3.6/site-packages/ipykernel_launcher.py:13: UserWarning: Warning: converting a masked element to nan.\n",
      "  del sys.path[0]\n"
     ]
    }
   ],
   "source": [
    "use_all_data = False;\n",
    "which_data = df if use_all_data else df_only_pass\n",
    "\n",
    "to_test = ['maxResp', 'meanResp', 'oriBW', 'tfPref', 'bw34', 'bw34_split', 'bwHalf_split', 'c50_pref_emp', 'suprInd', \n",
    "                                   'f1f0', 'sfVarExpl', 'prefSf', 'charFreq', 'tfBW']\n",
    "for fld in to_test:\n",
    "    valz = (*which_data.groupby('area')[fld].apply(list), )\n",
    "    ncells = [len(hf.nan_rm(np.array(x))) for x in valz]\n",
    "    tst_t = ss.ttest_ind(*valz, nan_policy='omit')\n",
    "    tst_k = ss.ks_2samp(*valz, )\n",
    "    \n",
    "    print('%s %.2f[%d] vs %.2f[%d]: \\n\\tp=%.2e [t]\\n\\tp=%.2e [ks]' % (fld, np.nanmean(valz[0]), ncells[0], \n",
    "                                                  np.nanmean(valz[1]), ncells[1], tst_t.pvalue, tst_k.pvalue))"
   ]
  },
  {
   "cell_type": "markdown",
   "metadata": {},
   "source": [
    "##### So, there is a marked difference between LGN and V1 in terms of:\n",
    "- bandwidth on the high spatial frequency limb (more measurable than total bandwidth, often undefined for LGN cells)\n",
    "    - LGN more broadly tuned than V1, of course\n",
    "- suppression index (for rfSize experiment)\n",
    "    - LGN less surround suppressed than V1\n",
    "\n",
    "*Let's look first if it those two metrics are correlated with one another in our dataset:*\n"
   ]
  },
  {
   "cell_type": "code",
   "execution_count": 2156,
   "metadata": {
    "scrolled": true
   },
   "outputs": [
    {
     "data": {
      "image/png": "[encoded data removed]",
      "text/plain": [
       "<Figure size 432x288 with 1 Axes>"
      ]
     },
     "metadata": {
      "needs_background": "light"
     },
     "output_type": "display_data"
    }
   ],
   "source": [
    "useBwHalf = True;\n",
    "all_v1_data = False; # if all V1, then include even cells which don't have full superpos. experiment\n",
    "df_all_v1 = df[df['area']=='v1']\n",
    "\n",
    "bwStr = 'bwHalf' if useBwHalf else 'bw34';\n",
    "use_data = df_all_v1 if all_v1_data else df_only_full_v1\n",
    "\n",
    "bwHalf, bw34, bw34_split, suprInd = (*np.transpose(use_data[['bwHalf', 'bw34', 'bw34_split', 'suprInd']].values), )\n",
    "\n",
    "which_bw = bwHalf if useBwHalf else bw34;\n",
    "\n",
    "plt.scatter(which_bw, suprInd)\n",
    "nn = np.logical_and(~np.isnan(which_bw), ~np.isnan(suprInd))\n",
    "oh = ss.linregress(which_bw[nn], suprInd[nn])\n",
    "plt.xlabel('%s (oct.)' % bwStr)\n",
    "plt.ylabel('Surround suppression index')\n",
    "plt.title('Corr. b/t %s and surround suppression [n=%d, r2=%.1e, p=%.1e]' % (bwStr, np.sum(nn), oh.rvalue, oh.pvalue));\n"
   ]
  },
  {
   "cell_type": "markdown",
   "metadata": {},
   "source": [
    "Regardless of whether we include all V1 data or only those that have a full superposition experiment, **there is no correlation between surround suppression index and spatial frequency bandwidth.**Tr\n",
    "\n",
    "So, one way of digging deeper into this dataset is to see if the subset of V1 neurons that are more LGN like (whether lower surround suppression or more broadly tuned) are more LGN-like. We can check that below\n"
   ]
  },
  {
   "cell_type": "code",
   "execution_count": 2157,
   "metadata": {
    "scrolled": true
   },
   "outputs": [
    {
     "data": {
      "text/plain": [
       "(-0.15748888022629703, 0.6437473517811355, 11)"
      ]
     },
     "execution_count": 2157,
     "metadata": {},
     "output_type": "execute_result"
    }
   ],
   "source": [
    "# area = 'v1'\n",
    "area = 'lgn'\n",
    "pearson_r_pandas(df_only_pass[df_only_pass['area']==area], 'sfErrs', 'sfVarExpl')\n",
    "# or all together\n",
    "# pearson_r_pandas(df_only_pass, 'sfErrs', 'charFreq')"
   ]
  },
  {
   "cell_type": "code",
   "execution_count": 2041,
   "metadata": {
    "scrolled": true
   },
   "outputs": [
    {
     "data": {
      "text/plain": [
       "area                    \n",
       "lgn   isSimple                nan\n",
       "      cellNum               0.487\n",
       "      f1f0                  0.442\n",
       "      sfVarExpl            -0.157\n",
       "      charFreq             -0.089\n",
       "                            ...  \n",
       "v1    threshPass              nan\n",
       "      super_varExpl_clip   -0.415\n",
       "      svec                 -0.415\n",
       "      c50emp               -0.080\n",
       "      aucStd               -0.151\n",
       "Name: sfErrs, Length: 76, dtype: float64"
      ]
     },
     "execution_count": 2041,
     "metadata": {},
     "output_type": "execute_result"
    }
   ],
   "source": [
    "df_only_pass.groupby('area').corr()['sfErrs']"
   ]
  },
  {
   "cell_type": "code",
   "execution_count": 2042,
   "metadata": {
    "scrolled": true
   },
   "outputs": [
    {
     "name": "stdout",
     "output_type": "stream",
     "text": [
      "isSimple\n",
      "0.000    20\n",
      "1.000    13\n",
      "Name: threshPass, dtype: int64\n",
      "isSimple\n",
      "0.000    122\n",
      "1.000     48\n",
      "Name: threshPass, dtype: int64\n"
     ]
    }
   ],
   "source": [
    "to_use = df_only_full_v1[df_only_full_v1['threshPass']]\n",
    "print(to_use.groupby('isSimple')['threshPass'].count())\n",
    "print(df_all_v1.groupby('isSimple')['threshPass'].count())"
   ]
  },
  {
   "cell_type": "markdown",
   "metadata": {},
   "source": [
    "Of the 33 passed V1 cells, 20 (\\~60% are complex) and 13 are simple; this is actually an overrepresentation of simple cells (\\~72% complex in full population)\n"
   ]
  },
  {
   "cell_type": "markdown",
   "metadata": {},
   "source": [
    "### 6.4 Relationship between mixture summation metrics and other metrics!\n",
    "\n",
    "Adjust which_exp_code to make these plots for LGN, V1, or both together"
   ]
  },
  {
   "cell_type": "code",
   "execution_count": 2166,
   "metadata": {
    "scrolled": true
   },
   "outputs": [],
   "source": [
    "which_exp_code = 1; # 0 for LGN, 1 for V1, 2 for both\n",
    "\n",
    "if which_exp_code==0: # lgn\n",
    "    which_exp = 'LGN'\n",
    "    which_data_curr = df_only_pass[df_only_pass['area']=='lgn']\n",
    "    which_colors = colors[0]\n",
    "elif which_exp_code==1: # v1\n",
    "    which_exp = 'V1'\n",
    "    which_colors = colors[1]\n",
    "    which_data_curr = df_only_pass[df_only_pass['area']=='v1']\n",
    "else:\n",
    "    which_colors = colors;\n",
    "    which_exp = 'both'\n",
    "    which_data_curr = df_only_pass"
   ]
  },
  {
   "cell_type": "code",
   "execution_count": 2167,
   "metadata": {
    "scrolled": true
   },
   "outputs": [
    {
     "data": {
      "image/png": "[encoded data removed]",
      "text/plain": [
       "<Figure size 234.5x144.929 with 1 Axes>"
      ]
     },
     "metadata": {
      "needs_background": "light"
     },
     "output_type": "display_data"
    }
   ],
   "source": [
    "y = 'auc'\n",
    "x = 'c50emp'\n",
    "\n",
    "# x = 'auc'\n",
    "# y = 'sfErrs'\n",
    "\n",
    "\n",
    "# specs\n",
    "halfsz = True;\n",
    "scale = 0.5 if halfsz else 1\n",
    "\n",
    "saveName = '06_04a_summation_%s_vs_%s_%s%s.pdf' % (x,y,which_exp, '_halfSz' if halfsz else '')\n",
    "\n",
    "f = plt.figure(figsize=hf.set_size(scale*tex_width))\n",
    "\n",
    "if which_exp_code==2:\n",
    "    sns.scatterplot(data=which_data_curr, x=x, y=y, hue='area', size='aucStd', legend=False, palette=which_colors);\n",
    "else: # no hue spec\n",
    "    sns.scatterplot(data=which_data_curr, x=x, y=y, size='aucStd', color=which_colors, legend=False, palette=which_colors);\n",
    "r2, p, n = pearson_r_pandas(which_data_curr, x, y);\n",
    "plt.xlabel(x);\n",
    "plt.ylabel(y);\n",
    "plt.title('%s [n=%d]: r2=%.2f, p=%.2e' % (which_exp, n, r2, p))\n",
    "sns.despine(offset=sns_offset)\n",
    "\n",
    "# now save\n",
    "if not os.path.exists(save_loc):\n",
    "    os.makedirs(save_loc)\n",
    "pdfSv = pltSave.PdfPages(save_loc + saveName);\n",
    "f = plt.gcf()\n",
    "pdfSv.savefig(f, bbox_inches='tight') # only one figure here...\n",
    "pdfSv.close()"
   ]
  },
  {
   "cell_type": "code",
   "execution_count": 2168,
   "metadata": {
    "scrolled": true
   },
   "outputs": [
    {
     "data": {
      "image/png": "[encoded data removed]",
      "text/plain": [
       "<Figure size 234.5x144.929 with 1 Axes>"
      ]
     },
     "metadata": {
      "needs_background": "light"
     },
     "output_type": "display_data"
    }
   ],
   "source": [
    "# x = 'suprInd'\n",
    "# y = 'sfErrs'\n",
    "\n",
    "x = 'slope'\n",
    "\n",
    "# x = 'tfPref'\n",
    "# x = 'prefSf'\n",
    "# y = 'sfErrs'\n",
    "# y = 'slope'\n",
    "\n",
    "# x = 'bwHalf'\n",
    "y = 'sfErrs'\n",
    "\n",
    "# specs\n",
    "halfsz = True;\n",
    "scale = 0.5 if halfsz else 1\n",
    "\n",
    "saveName = '06_04b_%s_vs_%s%s%s.pdf' % (x, y, which_exp, '_halfSz' if halfsz else '')\n",
    "\n",
    "f = plt.figure(figsize=hf.set_size(scale*tex_width))\n",
    "\n",
    "if which_exp_code==2:\n",
    "    sns.scatterplot(data=which_data_curr, x=x, y=y, hue='area', size='sfErrsBootStd', legend=False, palette=which_colors);\n",
    "else: # no hue spec\n",
    "    sns.scatterplot(data=which_data_curr, x=x, y=y, size='sfErrsBootStd', color=which_colors, legend=False, palette=which_colors);\n",
    "r2, p, n = pearson_r_pandas(which_data_curr, x, y);\n",
    "plt.xlabel(x);\n",
    "plt.ylabel(y);\n",
    "plt.title('%s [n=%d]: r2=%.2f, p=%.2e' % (which_exp, n, r2, p))\n",
    "sns.despine(offset=sns_offset)\n",
    "\n",
    "# now save\n",
    "if not os.path.exists(save_loc):\n",
    "    os.makedirs(save_loc)\n",
    "pdfSv = pltSave.PdfPages(save_loc + saveName);\n",
    "f = plt.gcf()\n",
    "pdfSv.savefig(f, bbox_inches='tight') # only one figure here...\n",
    "pdfSv.close()"
   ]
  },
  {
   "cell_type": "markdown",
   "metadata": {},
   "source": [
    "### 6.5 Breaking down V1 by higher/lower suprInd and bandwidth\n",
    "\n",
    "Adjust SuprInd/Above from 0 and 1 (thus 4 possible plots below)"
   ]
  },
  {
   "cell_type": "code",
   "execution_count": 314,
   "metadata": {
    "scrolled": true
   },
   "outputs": [],
   "source": [
    "# starting with only V1\n",
    "splitSuprInd = 0; # 1 for suprInd, 0 for bw\n",
    "splitAbove = 0; # 1 for higher values, 0 for lower values\n",
    "\n",
    "splitStr = 'bw' if splitSuprInd==0 else 'suprInd'\n",
    "splitStr = '%s%s' % (splitStr, 'Higher' if splitAbove==1 else 'Lower')\n",
    "\n",
    "ky = 'suprInd' if splitSuprInd==1 else 'bw34';\n",
    "\n",
    "which_data_curr = df_only_pass[df_only_pass['area']=='v1']\n",
    "cutoff = np.nanpercentile(df_only_pass[ky], 50)\n",
    "if splitAbove==1:\n",
    "    which_data_curr = which_data_curr[which_data_curr[ky]>=cutoff]\n",
    "else:\n",
    "    which_data_curr = which_data_curr[which_data_curr[ky]<cutoff]\n"
   ]
  },
  {
   "cell_type": "code",
   "execution_count": 315,
   "metadata": {
    "scrolled": true
   },
   "outputs": [
    {
     "data": {
      "image/png": "[encoded data removed]",
      "text/plain": [
       "<Figure size 469x289.858 with 1 Axes>"
      ]
     },
     "metadata": {
      "needs_background": "light"
     },
     "output_type": "display_data"
    }
   ],
   "source": [
    "x = 'c50emp'\n",
    "y = 'auc'\n",
    "\n",
    "saveName = '06_05a_summation_grat_v_mix_v1_%s.pdf' % (splitStr)\n",
    "\n",
    "f = plt.figure(figsize=hf.set_size(tex_width))\n",
    "\n",
    "sns.scatterplot(data=which_data_curr, x=x, y=y, size='aucStd', legend=False, color='k');\n",
    "r2, p, n = pearson_r_pandas(which_data_curr, x, y);\n",
    "plt.xlabel('c50, RVC');\n",
    "plt.ylabel('Summation index (a.u.c.)');\n",
    "plt.title('%s [n=%d]: r2=%.2f, p=%.2e' % (splitStr, n, r2, p))\n",
    "sns.despine(offset=sns_offset)\n",
    "\n",
    "# now save\n",
    "if not os.path.exists(save_loc):\n",
    "    os.makedirs(save_loc)\n",
    "pdfSv = pltSave.PdfPages(save_loc + saveName);\n",
    "f = plt.gcf()\n",
    "pdfSv.savefig(f, bbox_inches='tight') # only one figure here...\n",
    "pdfSv.close()"
   ]
  },
  {
   "cell_type": "code",
   "execution_count": 316,
   "metadata": {
    "scrolled": true
   },
   "outputs": [
    {
     "data": {
      "image/png": "[encoded data removed]",
      "text/plain": [
       "<Figure size 469x289.858 with 1 Axes>"
      ]
     },
     "metadata": {
      "needs_background": "light"
     },
     "output_type": "display_data"
    }
   ],
   "source": [
    "x = 'slope'\n",
    "y = 'sfErrs'\n",
    "\n",
    "saveName = '06_05b_summation_grat_v_mix_%s.pdf' % (splitStr)\n",
    "\n",
    "f = plt.figure(figsize=hf.set_size(tex_width))\n",
    "\n",
    "sns.scatterplot(data=which_data_curr, x=x, y=y, size='sfErrsBootStd', legend=False, color='k');\n",
    "r2, p, n = pearson_r_pandas(which_data_curr, x, y);\n",
    "plt.xlabel('rc slope');\n",
    "plt.ylabel('sfErrs');\n",
    "plt.title('%s [n=%d]: r2=%.2f, p=%.2e' % (splitStr, n, r2, p))\n",
    "sns.despine(offset=sns_offset)\n",
    "\n",
    "# now save\n",
    "if not os.path.exists(save_loc):\n",
    "    os.makedirs(save_loc)\n",
    "pdfSv = pltSave.PdfPages(save_loc + saveName);\n",
    "f = plt.gcf()\n",
    "pdfSv.savefig(f, bbox_inches='tight') # only one figure here...\n",
    "pdfSv.close()"
   ]
  },
  {
   "cell_type": "markdown",
   "metadata": {},
   "source": [
    "# 2. Masks (Bauman + Bonds)"
   ]
  },
  {
   "cell_type": "code",
   "execution_count": 2073,
   "metadata": {
    "scrolled": true
   },
   "outputs": [],
   "source": [
    "params = {'text.usetex' : False,\n",
    "          'font.size' : fontsz,\n",
    "          'font.family': 'lmodern',\n",
    "           'font.style': 'italic'}\n",
    "plt.rcParams.update(params)"
   ]
  },
  {
   "cell_type": "code",
   "execution_count": 2074,
   "metadata": {
    "scrolled": true
   },
   "outputs": [],
   "source": [
    "analysis_date = '230125' # 23 was the standard\n",
    "sfBB = hf.np_smart_load('V1_BB/structures/sfBB_analysis_%s.npy' % analysis_date)\n",
    "v1 = hf.np_smart_load('jointList_wMods_V1_230121vE_vT00_dvT00_m3j10.npy')\n",
    "\n",
    "nCells = len(sfBB.keys())\n",
    "\n",
    "# get some measures that are easier to do directly from the jointList\n",
    "slps = -hf.jl_get_metric_byCon(v1, 'dog_mod_slope', conVal=None, disp=0)[0]\n",
    "dog_bwHalf_hiCon = hf.jl_get_metric_byCon(v1, metric='dog_bwHalf', conVal=1, disp=0)[0]\n",
    "dog_bw34_hiCon = hf.jl_get_metric_byCon(v1, metric='dog_bw34', conVal=1, disp=0)[0]\n",
    "mn_med_max = hf.jl_get_metric_byCon(v1, 'mn_med_max', conVal=None, disp=None)[0]\n",
    "mn, md, mx = np.transpose(mn_med_max);"
   ]
  },
  {
   "cell_type": "code",
   "execution_count": 2075,
   "metadata": {
    "scrolled": true
   },
   "outputs": [],
   "source": [
    "respStr_print = lambda x: 'simple' if x==1 else 'complex'"
   ]
  },
  {
   "cell_type": "code",
   "execution_count": 2076,
   "metadata": {
    "scrolled": true
   },
   "outputs": [
    {
     "name": "stderr",
     "output_type": "stream",
     "text": [
      "/users/plevy/miniconda3/envs/pytorch-lcv/lib/python3.6/site-packages/ipykernel_launcher.py:14: SettingWithCopyWarning: \n",
      "A value is trying to be set on a copy of a slice from a DataFrame.\n",
      "Try using .loc[row_indexer,col_indexer] = value instead\n",
      "\n",
      "See the caveats in the documentation: https://pandas.pydata.org/pandas-docs/stable/user_guide/indexing.html#returning-a-view-versus-a-copy\n",
      "  \n"
     ]
    }
   ],
   "source": [
    "# create the sfBB-only subset of the jointList (v1)\n",
    "ohno = pd.DataFrame.from_dict(v1)\n",
    "meta = pd.json_normalize([ohno[x]['metadata'] for x in sorted(ohno.keys())])\n",
    "metr = pd.json_normalize([ohno[x]['metrics'] for x in sorted(ohno.keys())])\n",
    "modl = pd.json_normalize([ohno[x]['model'] for x in sorted(ohno.keys())])\n",
    "# supr = pd.json_normalize([ohno[x]['superpos'] for x in sorted(ohno.keys())])\n",
    "basc = pd.json_normalize([ohno[x]['basics'] for x in sorted(ohno.keys())])\n",
    "\n",
    "v1_pd = pd.concat((meta, metr, modl, basc), axis=1);\n",
    "is_BB = ['BB' in x for x in v1_pd['fullPath']]\n",
    "# take only the BB cells\n",
    "v1_bb_pd = v1_pd.iloc[is_BB]\n",
    "# keep the index into the overall jointlist...\n",
    "v1_bb_pd['jl_index']= v1_bb_pd.index\n",
    "# ...but make the index the BB-only cellNum\n",
    "v1_bb_pd.set_index('cellNum', inplace=True)\n",
    "v1_bb_pd['respMeasurePrint'] = v1_bb_pd['respMeasure'].apply(respStr_print)\n",
    "\n",
    "# now put those measures here...\n",
    "v1_bb_pd['dog_bwHalf_hiCon'] = dog_bwHalf_hiCon[is_BB]\n",
    "v1_bb_pd['dog_bw34_hiCon'] = dog_bw34_hiCon[is_BB]\n",
    "v1_bb_pd['meanResp'] = mn[is_BB]\n",
    "v1_bb_pd['medianResp'] = md[is_BB]\n",
    "v1_bb_pd['maxResp']= mx[is_BB]\n",
    "\n",
    "which_respMeasure = v1_bb_pd.respMeasure;\n",
    "which_respStr = [hf_sfBB.get_resp_str(x) for x in which_respMeasure]"
   ]
  },
  {
   "cell_type": "code",
   "execution_count": 2077,
   "metadata": {},
   "outputs": [
    {
     "name": "stdout",
     "output_type": "stream",
     "text": [
      "34 out of 47 total cells were targeted; thus 13 were picked up from sorting\n"
     ]
    }
   ],
   "source": [
    "# added on 23.01.26 --> was this cell targeted for recording?\n",
    "# --- the majority were, so default to yes\n",
    "v1_bb_was_targeted = np.ones((nCells, ), dtype='bool');\n",
    "# then, fill in which ones were NOT (i.e. were instead picked up from sorting)\n",
    "sort_cell_nums = np.array([26, 28, 29, 30, 32, 33, 34, 35, 37, 38, 41, 43, 45])\n",
    "v1_bb_was_targeted[sort_cell_nums-1] = 0;\n",
    "\n",
    "n_targets = np.sum(v1_bb_was_targeted)\n",
    "print('%d out of %d total cells were targeted; thus %d were picked up from sorting' % (n_targets, nCells, nCells-n_targets))"
   ]
  },
  {
   "cell_type": "code",
   "execution_count": 2078,
   "metadata": {},
   "outputs": [
    {
     "name": "stderr",
     "output_type": "stream",
     "text": [
      "/users/plevy/miniconda3/envs/pytorch-lcv/lib/python3.6/site-packages/ipykernel_launcher.py:1: SettingWithCopyWarning: \n",
      "A value is trying to be set on a copy of a slice from a DataFrame.\n",
      "Try using .loc[row_indexer,col_indexer] = value instead\n",
      "\n",
      "See the caveats in the documentation: https://pandas.pydata.org/pandas-docs/stable/user_guide/indexing.html#returning-a-view-versus-a-copy\n",
      "  \"\"\"Entry point for launching an IPython kernel.\n"
     ]
    }
   ],
   "source": [
    "v1_bb_pd['wasTarget'] = v1_bb_was_targeted;"
   ]
  },
  {
   "cell_type": "code",
   "execution_count": 2079,
   "metadata": {
    "scrolled": true
   },
   "outputs": [],
   "source": [
    "sfBB_pd = pd.DataFrame.from_dict(sfBB, orient='index')\n",
    "sfBB_pd.rename(columns={'f1f0_ratio': 'f1f0_ratio_notJL'}, inplace=True)\n",
    "dcs = pd.json_normalize(sfBB_pd['dc'])\n",
    "sfBB_pd.drop('dc', axis=1, inplace=True)\n",
    "f1s = pd.json_normalize(sfBB_pd['f1'])\n",
    "f1s.rename(columns={'baseResp_circVar': 'baseVarEst'}, inplace=True)\n",
    "sfBB_pd.drop('f1', axis=1, inplace=True)\n",
    "# first rename so that we can create one df with both DC and F1 values\n",
    "dcs_rename = dcs.rename(columns = {x: 'dc_%s' % x for x in dcs.columns}, inplace = False)\n",
    "f1s_rename = f1s.rename(columns = {x: 'f1_%s' % x for x in f1s.columns}, inplace = False)\n",
    "sfBB_pd_all = pd.concat([sfBB_pd, dcs, f1s], axis=1, ignore_index=True)\n",
    "sfBB_pd_all.insert(0, 'cellNum', range(1,1+nCells))\n",
    "sfBB_pd_all.set_index('cellNum', inplace=True)\n",
    "sfBB_pd_all.rename(columns={'sfVarExpl': 'sfVarExpl_hiCon'}, inplace=True)\n",
    "# now, go through and grab DC/F1, correspondingly\n",
    "# --- first, add the independent-of-respMeasure stuff (sfBB_pd after dropping 'dc'/'f1' fields)\n",
    "# --- and add cellNum index so that we can join properly\n",
    "sfBB_pd.insert(0, 'cellNum', range(1,1+nCells))\n",
    "sfBB_pd.set_index('cellNum', inplace=True)\n",
    "sfBB_pd_correct = pd.concat([v1_bb_pd, sfBB_pd], axis=1);\n",
    "# --- now add the correct measure (start by just copying the DC) \n",
    "# ______ NOTE: just a subset of all keys ()\n",
    "corr_subset = dcs[['baseDiffs', 'sfPref', 'charFreq', 'sfVarExpl', 'baseResp_mean', 'baseResp_std', 'baseResp_fano']].copy()\n",
    "# we'll rename the baseResp_std column to represent variance of the base response generally\n",
    "# --- for F1, this will be the circular variance of the response phase\n",
    "corr_subset.rename(columns={'baseResp_fano': 'baseVarEst'}, inplace=True)\n",
    "for iii, respMeasure in enumerate(which_respMeasure):\n",
    "    if respMeasure==1: # i.e F1, then we need to overwrite\n",
    "        corr_subset.iloc[iii] = f1s[['baseDiffs', 'sfPref', 'charFreq', 'sfVarExpl', 'baseResp_mean', 'baseResp_std', 'baseVarEst']].iloc[iii]\n",
    "corr_subset.insert(0, 'cellNum', range(1,1+nCells))\n",
    "corr_subset.set_index('cellNum', inplace=True)\n",
    "corr_subset.rename(columns={'sfVarExpl': 'sfVarExpl_hiCon'}, inplace=True)\n",
    "df_subset = pd.concat([sfBB_pd_correct, corr_subset], axis=1)\n",
    "df_subset['maskSf_relPref'] = df_subset['maskSf']/df_subset['sfPref']\n",
    "# what percentage of the max. response was the base stimulus?\n",
    "df_subset['baseAsMaxFrac'] = df_subset['baseResp_mean']/v1_bb_pd['maxResp']\n",
    "df_subset['baseAsMeanFrac'] = df_subset['baseResp_mean']/v1_bb_pd['meanResp']\n",
    "\n",
    "df_all = pd.concat([sfBB_pd_correct, sfBB_pd_all], axis=1)"
   ]
  },
  {
   "cell_type": "code",
   "execution_count": 2080,
   "metadata": {},
   "outputs": [
    {
     "data": {
      "text/plain": [
       "<AxesSubplot:xlabel='baseResp_mean', ylabel='baseResp_std'>"
      ]
     },
     "execution_count": 2080,
     "metadata": {},
     "output_type": "execute_result"
    },
    {
     "data": {
      "image/png": "[encoded data removed]",
      "text/plain": [
       "<Figure size 432x288 with 1 Axes>"
      ]
     },
     "metadata": {
      "needs_background": "light"
     },
     "output_type": "display_data"
    }
   ],
   "source": [
    "sns.scatterplot(data=df_subset, x='baseResp_mean', y='baseResp_std')"
   ]
  },
  {
   "cell_type": "code",
   "execution_count": 2081,
   "metadata": {},
   "outputs": [
    {
     "data": {
      "text/plain": [
       "Index(['blank_mean', 'blank_std', 'blank_stderr', 'bothResp', 'maskResp',\n",
       "       'baseResp_all', 'baseResp_mean', 'baseResp_std', 'baseResp_fano',\n",
       "       'baseResp_stderr', 'diffFromSumResp', 'baseDiffs', 'sfPref_est',\n",
       "       'sfPref', 'charFreq', 'sfVarExpl'],\n",
       "      dtype='object')"
      ]
     },
     "execution_count": 2081,
     "metadata": {},
     "output_type": "execute_result"
    }
   ],
   "source": [
    "dcs.keys()"
   ]
  },
  {
   "cell_type": "code",
   "execution_count": 2082,
   "metadata": {
    "scrolled": true
   },
   "outputs": [],
   "source": [
    "def has_neighbor(threshMatrix, cut_row_zero=False):\n",
    "    tm_out = np.copy(threshMatrix);\n",
    "    r_lo, r_hi = 0,threshMatrix.shape[0]-1\n",
    "    c_lo, c_hi = 0,threshMatrix.shape[1]-1\n",
    "    if cut_row_zero:\n",
    "        tm_out[0,:] = 0;\n",
    "    abv_r, abv_c = np.where(tm_out);\n",
    "    \n",
    "    for r,c in zip(abv_r, abv_c):\n",
    "        neighbor = False;\n",
    "        # first check x\n",
    "        for pm in [-1,1]:\n",
    "            if tm_out[np.clip(r+pm, r_lo, r_hi)][c]==1 and np.clip(r+pm, r_lo, r_hi)!=r:\n",
    "                neighbor = True\n",
    "        # then check y, if needed\n",
    "        if not neighbor:\n",
    "            for pm in [-1,1]:\n",
    "                if tm_out[r][np.clip(c+pm, c_lo, c_hi)]==1 and np.clip(c+pm, c_lo, c_hi)!=c:\n",
    "                    neighbor=True\n",
    "        # now, if we fidn't find any neighbors...\n",
    "        if not neighbor:\n",
    "            tm_out[r,c] = 0; # failed the neighbor check!\n",
    "            \n",
    "    return tm_out.astype('bool');"
   ]
  },
  {
   "cell_type": "markdown",
   "metadata": {},
   "source": [
    "### Organize the data"
   ]
  },
  {
   "cell_type": "code",
   "execution_count": 2083,
   "metadata": {
    "scrolled": true
   },
   "outputs": [],
   "source": [
    "suppr_ind = 1; # 0 is raw, 1 is norm. by baseStd, 2 is norm by baseMean\n",
    "# ---set threshold accordingly\n",
    "thresh_val = -0.5 if suppr_ind==1 else -0.2;\n",
    "\n",
    "# set up some places to store values\n",
    "hiCon_min_avg = np.nan * np.zeros((nCells, 2))\n",
    "ncons, nsfs = len(sfBB[0]['maskCon']), len(sfBB[0]['maskSf'])\n",
    "# from low->high (sf, con), when do we meet the threshold?\n",
    "meet_thresh = np.zeros((nCells, ncons, nsfs), dtype='bool');\n",
    "meet_thresh_neighbor = np.zeros((nCells, ncons, nsfs), dtype='bool');\n",
    "# Num., mean, and max of conditions with suppression above threshold\n",
    "n_mean_max_abv_thresh = np.nan * np.zeros((nCells, 3));\n",
    "n_mean_max_abv_thresh_noNb = np.copy(n_mean_max_abv_thresh)\n",
    "# max suppr. overall (even if no suppr. abv thresh)\n",
    "max_suppr_overall = np.nan * np.zeros((nCells, 2)); # overall, then only at highest con.\n",
    "\n",
    "vExp_hiCon = np.nan * np.zeros((nCells, ));\n",
    "\n",
    "\n",
    "for cell_i in range(nCells):\n",
    "    \n",
    "       \n",
    "    vals_norm = df_subset['baseDiffs'].iloc[cell_i][:,:,suppr_ind]\n",
    "    vals_hiCon = vals_norm[-1];\n",
    "       \n",
    "    hiCon_min_avg[cell_i] = [np.nanmin(vals_hiCon), np.nanmean(vals_hiCon)];\n",
    "    max_suppr_overall[cell_i] = [np.nanmin(vals_norm), np.nanmin(vals_norm[-1])];\n",
    "    # now, which Sfs, Cons meet the threshold\n",
    "    meet_thresh[cell_i] = np.array(vals_norm<=thresh_val).astype('bool')\n",
    "    meet_thresh_neighbor[cell_i] = has_neighbor(meet_thresh[cell_i], cut_row_zero=True)\n",
    "    \n",
    "    vals_thresh_only = vals_norm[meet_thresh_neighbor[cell_i]];\n",
    "    if vals_thresh_only.size>0:\n",
    "        n_mean_max_abv_thresh[cell_i] = [len(vals_thresh_only), np.nanmean(vals_thresh_only), np.nanmin(vals_thresh_only)]\n",
    "    # and without enforcing neighbor criterion\n",
    "    vals_thresh_only_noNb = vals_norm[meet_thresh[cell_i]];\n",
    "    if vals_thresh_only_noNb.size>0:\n",
    "        n_mean_max_abv_thresh_noNb[cell_i] = [len(vals_thresh_only_noNb), np.nanmean(vals_thresh_only_noNb), np.nanmin(vals_thresh_only_noNb)]\n",
    "    \n",
    "meet_thresh_sf = np.any(meet_thresh, axis=1)\n",
    "meet_thresh_con = np.any(meet_thresh, axis=2)\n",
    "\n",
    "meet_thresh_sf_nb = np.any(meet_thresh_neighbor, axis=1)\n",
    "meet_thresh_con_nb = np.any(meet_thresh_neighbor, axis=2)\n",
    "\n",
    "ok_overall = np.array([np.any(x) for x in meet_thresh_neighbor])\n",
    "df_subset['showsSuppr'] = ok_overall\n",
    "df_subset['thresh'] = meet_thresh_neighbor.tolist()\n",
    "df_subset['thresh_sf'] = meet_thresh_sf_nb.tolist();\n",
    "df_subset['thresh_con'] = meet_thresh_con_nb.tolist();\n",
    "df_subset['nSuppr'] = n_mean_max_abv_thresh[:,0]\n",
    "df_subset['meanSuppr'] = n_mean_max_abv_thresh[:,1]\n",
    "df_subset['maxSuppr'] = n_mean_max_abv_thresh[:,2]\n",
    "df_subset['maxSuppr_all'] = max_suppr_overall[:,0]\n",
    "df_subset['maxSuppr_all_onlyHiCon'] = max_suppr_overall[:,1]\n",
    "# - and also add some stuff for if we didn't do the neighbor check\n",
    "ok_overall_noNb = np.array([np.any(x) for x in meet_thresh])\n",
    "df_subset['showsSuppr_noNb'] = ok_overall_noNb\n",
    "df_subset['suppr_elim_w_nb'] = np.logical_xor(ok_overall_noNb, ok_overall)\n",
    "df_subset['nSuppr_noNb'] = n_mean_max_abv_thresh_noNb[:,0]\n",
    "df_subset['meanSuppr_noNb'] = n_mean_max_abv_thresh_noNb[:,1]\n",
    "df_subset['maxSuppr_noNb'] = n_mean_max_abv_thresh_noNb[:,2]"
   ]
  },
  {
   "cell_type": "markdown",
   "metadata": {},
   "source": [
    "*A few exploratory plots to compare with/without neighbor restriction*"
   ]
  },
  {
   "cell_type": "code",
   "execution_count": 2084,
   "metadata": {
    "scrolled": true
   },
   "outputs": [
    {
     "data": {
      "image/png": "[encoded data removed]",
      "text/plain": [
       "<Figure size 432x288 with 1 Axes>"
      ]
     },
     "metadata": {
      "needs_background": "light"
     },
     "output_type": "display_data"
    }
   ],
   "source": [
    "# which SFs were most likely to show suppression?\n",
    "plt.plot(np.sum(meet_thresh_sf, axis=0), label='raw')\n",
    "plt.plot(np.sum(meet_thresh_sf_nb, axis=0), label='nbr')\n",
    "plt.legend();"
   ]
  },
  {
   "cell_type": "code",
   "execution_count": 2085,
   "metadata": {
    "scrolled": true
   },
   "outputs": [
    {
     "data": {
      "image/png": "[encoded data removed]",
      "text/plain": [
       "<Figure size 432x288 with 1 Axes>"
      ]
     },
     "metadata": {
      "needs_background": "light"
     },
     "output_type": "display_data"
    }
   ],
   "source": [
    "# which cons were most likely to show suppression?\n",
    "plt.plot(np.sum(meet_thresh_con, axis=0), label='raw');\n",
    "plt.plot(np.sum(meet_thresh_con_nb, axis=0), label='nbr');\n",
    "plt.legend();"
   ]
  },
  {
   "cell_type": "markdown",
   "metadata": {},
   "source": [
    "Summary of statistics between cells that showed suppression after neighbor criterion and those whose classification as suppressed was removed:\n",
    "\n",
    "*In short, the eliminated cells had far fewer conditions with measurable suppression, and had weaker and more variable base responses.*"
   ]
  },
  {
   "cell_type": "code",
   "execution_count": 2086,
   "metadata": {},
   "outputs": [
    {
     "name": "stdout",
     "output_type": "stream",
     "text": [
      "Prorties of cells that failed the neighbor inclusion criterion (True) vs. those that passed (False):\n",
      "-------------\n",
      "***Medians:***\n",
      "                 nSuppr_noNb  meanSuppr_noNb  baseResp_mean  baseVarEst  \\\n",
      "suppr_elim_w_nb                                                           \n",
      "False                  8.000          -0.855         15.258       0.754   \n",
      "True                   3.000          -0.623          4.539       0.974   \n",
      "\n",
      "                 baseAsMaxFrac  meanResp  sfVarExpl_hiCon  \n",
      "suppr_elim_w_nb                                            \n",
      "False                    0.213    17.916           96.346  \n",
      "True                     0.133    10.745           90.901  \n",
      "-------------\n",
      "***Means:***\n",
      "                 nSuppr_noNb  meanSuppr_noNb  baseResp_mean  baseVarEst  \\\n",
      "suppr_elim_w_nb                                                           \n",
      "False                  9.810          -1.015         27.931       3.780   \n",
      "True                   2.737          -0.642          9.987       4.043   \n",
      "\n",
      "                 baseAsMaxFrac  meanResp  sfVarExpl_hiCon  \n",
      "suppr_elim_w_nb                                            \n",
      "False                    0.247    19.392           88.120  \n",
      "True                     0.134    11.626           71.293  \n"
     ]
    }
   ],
   "source": [
    "print('Prorties of cells that failed the neighbor inclusion criterion (True) vs. those that passed (False):')\n",
    "print('-------------\\n***Medians:***')\n",
    "print(df_subset.groupby('suppr_elim_w_nb')[['nSuppr_noNb', 'meanSuppr_noNb', 'baseResp_mean','baseVarEst',\n",
    "                                      'baseAsMaxFrac', 'meanResp', 'sfVarExpl_hiCon']].median())\n",
    "\n",
    "print('-------------\\n***Means:***')\n",
    "print(df_subset.groupby('suppr_elim_w_nb')[['nSuppr_noNb', 'meanSuppr_noNb', 'baseResp_mean','baseVarEst',\n",
    "                                      'baseAsMaxFrac', 'meanResp', 'sfVarExpl_hiCon']].mean())"
   ]
  },
  {
   "cell_type": "markdown",
   "metadata": {},
   "source": [
    "### How many cells show suppression?\n",
    "Any difference between simple & complex?"
   ]
  },
  {
   "cell_type": "code",
   "execution_count": 2087,
   "metadata": {
    "scrolled": true
   },
   "outputs": [
    {
     "name": "stdout",
     "output_type": "stream",
     "text": [
      "21 out of 47 show suppression\n"
     ]
    }
   ],
   "source": [
    "ok_overall = np.array([np.any(x) for x in meet_thresh_neighbor])\n",
    "print('%d out of %d show suppression' % (np.sum(ok_overall), nCells))"
   ]
  },
  {
   "cell_type": "code",
   "execution_count": 2088,
   "metadata": {
    "scrolled": true
   },
   "outputs": [
    {
     "data": {
      "image/png": "[encoded data removed]",
      "text/plain": [
       "<Figure size 469x289.858 with 1 Axes>"
      ]
     },
     "metadata": {
      "needs_background": "light"
     },
     "output_type": "display_data"
    }
   ],
   "source": [
    "# specs\n",
    "halfsz = False;\n",
    "scale = 0.5 if halfsz else 1\n",
    "\n",
    "saveName = '02_00_varExpl_bySuppr%s.pdf' % ('_halfSz' if halfsz else '')\n",
    "\n",
    "f = plt.figure(figsize=hf.set_size(scale*tex_width))\n",
    "\n",
    "sns.swarmplot(data=df_subset, x='showsSuppr', y='sfVarExpl_hiCon', hue='respMeasurePrint', palette=area_colors[1])#.set_xticklabels(['No suppression', 'Suppression']);\n",
    "vexp_thresh = 50;\n",
    "df_subset_lowVEcut = df_subset[df_subset['sfVarExpl_hiCon']>vexp_thresh]\n",
    "\n",
    "# now save\n",
    "if not os.path.exists(save_loc):\n",
    "    os.makedirs(save_loc)\n",
    "pdfSv = pltSave.PdfPages(save_loc + saveName);\n",
    "f = plt.gcf()\n",
    "pdfSv.savefig(f, bbox_inches='tight') # only one figure here...\n",
    "pdfSv.close()"
   ]
  },
  {
   "cell_type": "code",
   "execution_count": 2089,
   "metadata": {},
   "outputs": [
    {
     "data": {
      "image/png": "[encoded data removed]",
      "text/plain": [
       "<Figure size 234.5x144.929 with 1 Axes>"
      ]
     },
     "metadata": {
      "needs_background": "light"
     },
     "output_type": "display_data"
    }
   ],
   "source": [
    "onlyHiCon = True\n",
    "halfsz = True;\n",
    "scale = 0.5 if halfsz else 1\n",
    "\n",
    "spec_str = '_onlyHiCon' if onlyHiCon else '';\n",
    "\n",
    "saveName = '02_00_maxSuprDistr%s%s.pdf' % (spec_str, '_halfSz' if halfsz else '')\n",
    "\n",
    "f = plt.figure(figsize=hf.set_size(scale*tex_width))\n",
    "\n",
    "vls = df_subset['maxSuppr_all%s' % spec_str];\n",
    "\n",
    "if suppr_ind==2:\n",
    "    bins = np.linspace(-4,0,11); # suppr. rel to base stimulus response\n",
    "else:\n",
    "    bins = np.linspace(-2,0,9); # z-scored units\n",
    "tickVals = np.linspace(bins[1], bins[-2], len(bins)-2)\n",
    "stepSize = (bins[-1] - bins[0])/(len(bins)-1);\n",
    "binPlotLocs = bins[1:] - 0.5*stepSize;\n",
    "clipLow, clipHigh = bins[1]-0.5*stepSize, bins[-2]+0.5*stepSize;\n",
    "width = 0.8*stepSize;\n",
    "\n",
    "# vls = np.log2(hf.flatten_list(group[kywrd].values));\n",
    "clipped = np.clip(vls, clipLow, clipHigh);\n",
    "vals, _ = np.histogram(clipped, bins=bins)\n",
    "    \n",
    "plt.bar(binPlotLocs, vals, width=width, align='center', color=clr,\n",
    "                 label='%s' % (name,));\n",
    "\n",
    "tickStrs = ['%.2f' % x for x in tickVals];\n",
    "tickStrs[0] = '$>$%s' % tickStrs[0];\n",
    "tickStrs[-1] = '$<$%s' % tickStrs[-1];\n",
    "if halfsz:\n",
    "    tickStrs = [str_val if np.mod(str_i,2)==0 else '' for str_i,str_val in enumerate(tickStrs)]\n",
    "plt.xticks(ticks=tickVals, labels=tickStrs);\n",
    "\n",
    "# sns.histplot(data=df_subset, x='maxSuppr_all%s' % spec_str, color='k', \n",
    "#              fill=False, bins=np.linspace(-2, 0, 9))\n",
    "\n",
    "plt.axvline(thresh_val, color='k', linestyle='--');\n",
    "plt.xlabel('Max suppression')\n",
    "sns.despine(offset=sns_offset)\n",
    "\n",
    "for jj, axis in enumerate([plt.gca().xaxis, plt.gca().yaxis]):\n",
    "    if jj==1: # i.e. y axis, make sure we have tick labels, here, too\n",
    "        from matplotlib.ticker import MaxNLocator\n",
    "        axis.set_major_locator(MaxNLocator(3, integer=True))\n",
    "\n",
    "# now save\n",
    "if not os.path.exists(save_loc):\n",
    "    os.makedirs(save_loc)\n",
    "pdfSv = pltSave.PdfPages(save_loc + saveName);\n",
    "f = plt.gcf()\n",
    "pdfSv.savefig(f, bbox_inches='tight') # only one figure here...\n",
    "pdfSv.close()"
   ]
  },
  {
   "cell_type": "code",
   "execution_count": 2090,
   "metadata": {},
   "outputs": [
    {
     "data": {
      "image/png": "[encoded data removed]",
      "text/plain": [
       "<Figure size 469x289.858 with 1 Axes>"
      ]
     },
     "metadata": {
      "needs_background": "light"
     },
     "output_type": "display_data"
    }
   ],
   "source": [
    "onlyHiCon = True\n",
    "spec_str = '_onlyHiCon' if onlyHiCon else '';\n",
    "\n",
    "saveName = '02_00_maxSuprDistr%s.pdf' % spec_str\n",
    "\n",
    "f = plt.figure(figsize=hf.set_size(tex_width))\n",
    "\n",
    "sns.histplot(data=df_subset, x='maxSuppr_all%s' % spec_str, bins=np.linspace(-2, 0, 13))\n",
    "plt.axvline(thresh_val, color='k', linestyle='--');\n",
    "plt.xlabel('Max suppression')\n",
    "sns.despine(offset=sns_offset)\n",
    "\n",
    "# now save\n",
    "if not os.path.exists(save_loc):\n",
    "    os.makedirs(save_loc)\n",
    "pdfSv = pltSave.PdfPages(save_loc + saveName);\n",
    "f = plt.gcf()\n",
    "pdfSv.savefig(f, bbox_inches='tight') # only one figure here...\n",
    "pdfSv.close()"
   ]
  },
  {
   "cell_type": "code",
   "execution_count": 2091,
   "metadata": {
    "scrolled": true
   },
   "outputs": [
    {
     "data": {
      "text/plain": [
       "respMeasurePrint  showsSuppr\n",
       "complex           False         13\n",
       "                  True           7\n",
       "simple            True          14\n",
       "                  False         13\n",
       "Name: showsSuppr, dtype: int64"
      ]
     },
     "execution_count": 2091,
     "metadata": {},
     "output_type": "execute_result"
    }
   ],
   "source": [
    "df_subset.groupby('respMeasurePrint')['showsSuppr'].value_counts()"
   ]
  },
  {
   "cell_type": "code",
   "execution_count": 2092,
   "metadata": {
    "scrolled": true
   },
   "outputs": [
    {
     "name": "stdout",
     "output_type": "stream",
     "text": [
      "respMeasurePrint\n",
      "complex   0.350\n",
      "simple    0.519\n",
      "Name: showsSuppr, dtype: float64\n",
      "\n",
      "...and if we cut the lowVE ones:\n",
      "\n",
      "respMeasurePrint\n",
      "complex   0.368\n",
      "simple    0.636\n",
      "Name: showsSuppr, dtype: float64\n"
     ]
    }
   ],
   "source": [
    "print(df_subset.groupby('respMeasurePrint')['showsSuppr'].mean())\n",
    "print('\\n...and if we cut the lowVE ones:\\n')\n",
    "print(df_subset_lowVEcut.groupby('respMeasurePrint')['showsSuppr'].mean())"
   ]
  },
  {
   "cell_type": "code",
   "execution_count": 2093,
   "metadata": {},
   "outputs": [
    {
     "name": "stdout",
     "output_type": "stream",
     "text": [
      "44% of cells overall show suppression\n",
      "...51% if we cut the noisy ones\n"
     ]
    }
   ],
   "source": [
    "ovr_supr = df_subset['showsSuppr'].mean()\n",
    "print('%d%% of cells overall show suppression' % (100*ovr_supr))\n",
    "ovr_supr_cut = df_subset_lowVEcut['showsSuppr'].mean()\n",
    "print('...%d%% if we cut the noisy ones' % (100*ovr_supr_cut))"
   ]
  },
  {
   "cell_type": "markdown",
   "metadata": {},
   "source": [
    "##### And what about targeted vs. non-targeted?"
   ]
  },
  {
   "cell_type": "code",
   "execution_count": 2094,
   "metadata": {},
   "outputs": [
    {
     "data": {
      "text/plain": [
       "wasTarget  showsSuppr\n",
       "False      False          8\n",
       "           True           5\n",
       "True       False         18\n",
       "           True          16\n",
       "Name: showsSuppr, dtype: int64"
      ]
     },
     "execution_count": 2094,
     "metadata": {},
     "output_type": "execute_result"
    }
   ],
   "source": [
    "df_subset.groupby('wasTarget')['showsSuppr'].value_counts()"
   ]
  },
  {
   "cell_type": "code",
   "execution_count": 2096,
   "metadata": {},
   "outputs": [
    {
     "data": {
      "text/html": [
       "<div>\n",
       "<style scoped>\n",
       "    .dataframe tbody tr th:only-of-type {\n",
       "        vertical-align: middle;\n",
       "    }\n",
       "\n",
       "    .dataframe tbody tr th {\n",
       "        vertical-align: top;\n",
       "    }\n",
       "\n",
       "    .dataframe thead th {\n",
       "        text-align: right;\n",
       "    }\n",
       "</style>\n",
       "<table border=\"1\" class=\"dataframe\">\n",
       "  <thead>\n",
       "    <tr style=\"text-align: right;\">\n",
       "      <th></th>\n",
       "      <th>mean</th>\n",
       "      <th>median</th>\n",
       "    </tr>\n",
       "    <tr>\n",
       "      <th>wasTarget</th>\n",
       "      <th></th>\n",
       "      <th></th>\n",
       "    </tr>\n",
       "  </thead>\n",
       "  <tbody>\n",
       "    <tr>\n",
       "      <th>False</th>\n",
       "      <td>0.124</td>\n",
       "      <td>0.097</td>\n",
       "    </tr>\n",
       "    <tr>\n",
       "      <th>True</th>\n",
       "      <td>0.231</td>\n",
       "      <td>0.193</td>\n",
       "    </tr>\n",
       "  </tbody>\n",
       "</table>\n",
       "</div>"
      ],
      "text/plain": [
       "           mean  median\n",
       "wasTarget              \n",
       "False     0.124   0.097\n",
       "True      0.231   0.193"
      ]
     },
     "execution_count": 2096,
     "metadata": {},
     "output_type": "execute_result"
    }
   ],
   "source": [
    "df_subset.groupby('wasTarget')['baseAsMaxFrac'].agg(['mean', 'median'])"
   ]
  },
  {
   "cell_type": "markdown",
   "metadata": {},
   "source": [
    "So, by this measure, a slightly greater fraction of simple cells shows suppression. This is likely due, in part, due to the greater difficulty in measuring suppression for DC responses! This discrepancy becomes larger if we filter out the very noisy cells (*e.g. sfVarExpl<80%*)"
   ]
  },
  {
   "cell_type": "markdown",
   "metadata": {},
   "source": [
    "### What are the mask SFs relative to the cell's preference?"
   ]
  },
  {
   "cell_type": "code",
   "execution_count": 2097,
   "metadata": {},
   "outputs": [
    {
     "name": "stderr",
     "output_type": "stream",
     "text": [
      "/users/plevy/miniconda3/envs/pytorch-lcv/lib/python3.6/site-packages/seaborn/distributions.py:2551: FutureWarning: `distplot` is a deprecated function and will be removed in a future version. Please adapt your code to use either `displot` (a figure-level function with similar flexibility) or `histplot` (an axes-level function for histograms).\n",
      "  warnings.warn(msg, FutureWarning)\n"
     ]
    },
    {
     "data": {
      "text/plain": [
       "<AxesSubplot:xlabel='baseCon', ylabel='Density'>"
      ]
     },
     "execution_count": 2097,
     "metadata": {},
     "output_type": "execute_result"
    },
    {
     "data": {
      "image/png": "[encoded data removed]",
      "text/plain": [
       "<Figure size 432x288 with 1 Axes>"
      ]
     },
     "metadata": {
      "needs_background": "light"
     },
     "output_type": "display_data"
    }
   ],
   "source": [
    "sns.distplot(df_subset['baseCon'])"
   ]
  },
  {
   "cell_type": "code",
   "execution_count": 2098,
   "metadata": {},
   "outputs": [
    {
     "data": {
      "text/plain": [
       "<matplotlib.lines.Line2D at 0x7ff02bd90da0>"
      ]
     },
     "execution_count": 2098,
     "metadata": {},
     "output_type": "execute_result"
    },
    {
     "data": {
      "image/png": "[encoded data removed]",
      "text/plain": [
       "<Figure size 432x288 with 1 Axes>"
      ]
     },
     "metadata": {
      "needs_background": "light"
     },
     "output_type": "display_data"
    }
   ],
   "source": [
    "plt.stem(sorted(df_subset['baseCon']))\n",
    "plt.axhline(.33)"
   ]
  },
  {
   "cell_type": "markdown",
   "metadata": {},
   "source": [
    "*Note that only one cell (V1_BB/6) had a base contrast higher than 0.32; accordingly, that cell had a reduced range of mask contrasts to ensure that the summed contrast never exceeded 1; this cell had very low firing rates and was excluded from the primary analyses, anyway, due to a lack of measurable suppression.*"
   ]
  },
  {
   "cell_type": "code",
   "execution_count": 2102,
   "metadata": {},
   "outputs": [
    {
     "data": {
      "text/plain": [
       "cellNum\n",
       "1     [0.7501777055930572]\n",
       "2     [0.7501777055930572]\n",
       "3     [0.7501777055930572]\n",
       "4     [0.7501777055930572]\n",
       "5     [0.7501777055930572]\n",
       "6     [0.7501777055930572]\n",
       "7     [0.7501777055930572]\n",
       "8     [0.7501777055930572]\n",
       "9     [0.7501777055930572]\n",
       "10    [0.7501777055930572]\n",
       "11    [0.7501777055930572]\n",
       "12    [0.7501777055930572]\n",
       "13    [0.7501777055930572]\n",
       "14    [0.7501777055930572]\n",
       "15    [0.7501777055930572]\n",
       "16    [0.7501777055930572]\n",
       "17    [0.7501777055930572]\n",
       "18    [0.7501777055930572]\n",
       "19    [0.7501777055930572]\n",
       "20    [0.7501777055930572]\n",
       "21    [0.7501777055930572]\n",
       "22    [0.7501777055930572]\n",
       "23    [0.7501777055930572]\n",
       "24    [0.7501777055930572]\n",
       "25    [0.7501777055930572]\n",
       "26    [0.7501777055930572]\n",
       "27    [0.7501777055930572]\n",
       "28    [0.7501777055930572]\n",
       "29    [0.7501777055930572]\n",
       "30    [0.7501777055930572]\n",
       "31    [0.7501777055930572]\n",
       "32    [0.7501777055930572]\n",
       "33    [0.7501777055930572]\n",
       "34    [0.7501777055930572]\n",
       "35    [0.7501777055930572]\n",
       "36    [0.7501777055930572]\n",
       "37    [0.7501777055930572]\n",
       "38    [0.7501777055930572]\n",
       "39    [0.7501777055930572]\n",
       "40    [0.7501777055930572]\n",
       "41    [0.4997821201473117]\n",
       "42    [0.4997821201473117]\n",
       "43    [0.7501777055930572]\n",
       "44    [0.7501777055930572]\n",
       "45    [0.7501777055930572]\n",
       "46    [0.7501777055930572]\n",
       "47    [0.7501777055930572]\n",
       "Name: maskSf, dtype: object"
      ]
     },
     "execution_count": 2102,
     "metadata": {},
     "output_type": "execute_result"
    }
   ],
   "source": [
    "get_rats = lambda x: np.log2(np.unique(np.round(x[1:]/x[0:-1], 3)))\n",
    "df_subset['maskSf'].apply(get_rats)"
   ]
  },
  {
   "cell_type": "markdown",
   "metadata": {},
   "source": [
    "The above tells us that the typical step between successive mask SFs was 0.75 octaves"
   ]
  },
  {
   "cell_type": "code",
   "execution_count": 2104,
   "metadata": {},
   "outputs": [
    {
     "data": {
      "image/png": "[encoded data removed]",
      "text/plain": [
       "<Figure size 469x289.858 with 2 Axes>"
      ]
     },
     "metadata": {
      "needs_background": "light"
     },
     "output_type": "display_data"
    }
   ],
   "source": [
    "saveName = '02_01_maskSfs_relPeak.pdf'\n",
    "\n",
    "# first, how common are mask Sfs based on relation to the peak\n",
    "bins = np.linspace(-3,4,8); # in octaves\n",
    "# bins = np.linspace(-4,4,9); # in octaves\n",
    "tickVals = np.linspace(bins[1], bins[-2], len(bins)-2)\n",
    "\n",
    "stepSize = (bins[-1] - bins[0])/(len(bins)-1);\n",
    "binPlotLocs = bins[1:] - 0.5*stepSize;\n",
    "clipLow, clipHigh = bins[1]-0.5*stepSize, bins[-2]+0.5*stepSize;\n",
    "width = hist_width*stepSize;\n",
    "\n",
    "kywrd = 'maskSf_relPref';\n",
    "\n",
    "f, ax = plt.subplots(2,1, figsize=hf.set_size(tex_width), sharex=True, sharey=True)\n",
    "use_norm = False;\n",
    "to_div = [];\n",
    "\n",
    "for (plt_i, (name,group)), clr in zip(enumerate(only_suppr.groupby('respMeasurePrint')), colors):\n",
    "    vls = np.log2(hf.flatten_list(group[kywrd].values));\n",
    "    clipped = np.clip(vls, clipLow, clipHigh);\n",
    "    vals, _ = np.histogram(clipped, bins=bins)\n",
    "    vals_norm = vals/np.sum(vals)\n",
    "    \n",
    "    to_use = vals_norm if use_norm else vals;\n",
    "    \n",
    "    ax[plt_i].bar(binPlotLocs, to_use, width=width, align='center', color=clr,\n",
    "                 label='%s' % (name,));\n",
    "    \n",
    "    to_div.append(to_use)\n",
    "    \n",
    "    tickStrs = ['%d' % x for x in tickVals];\n",
    "    tickStrs[0] = '$>$%s' % tickStrs[0];\n",
    "    tickStrs[-1] = '$<$%s' % tickStrs[-1];\n",
    "    ax[plt_i].set_xticks(tickVals);\n",
    "    ax[plt_i].set_xticklabels(tickStrs);\n",
    "#     ax[plt_i].plot(np.nanmedian(vls), 1.2*np.nanmax(to_use), 'v', color=clr)\n",
    "    if plt_i==1:\n",
    "        ax[plt_i].set_xlabel('Mask SF relative to peak (oct.)')\n",
    "    ax[plt_i].set_ylabel('# with SF')\n",
    "    \n",
    "f.suptitle('Distribution of maskSfs relative to peak')\n",
    "f.legend()\n",
    "f.tight_layout()\n",
    "sns.despine(offset=sns_offset)\n",
    "\n",
    "# now save\n",
    "if not os.path.exists(save_loc):\n",
    "    os.makedirs(save_loc)\n",
    "pdfSv = pltSave.PdfPages(save_loc + saveName);\n",
    "f = plt.gcf()\n",
    "pdfSv.savefig(f, bbox_inches='tight') # only one figure here...\n",
    "pdfSv.close()"
   ]
  },
  {
   "cell_type": "markdown",
   "metadata": {},
   "source": [
    "#### And, how common is suppression at a given SF?"
   ]
  },
  {
   "cell_type": "code",
   "execution_count": 2105,
   "metadata": {},
   "outputs": [
    {
     "data": {
      "image/png": "[encoded data removed]",
      "text/plain": [
       "<Figure size 234.5x144.929 with 1 Axes>"
      ]
     },
     "metadata": {
      "needs_background": "light"
     },
     "output_type": "display_data"
    }
   ],
   "source": [
    "halfsz = True;\n",
    "incl_legend = False;\n",
    "scale = 0.5 if halfsz else 1\n",
    "incl_sem = True;\n",
    "\n",
    "saveName = '02_02_suprOccurBySf%s%s.pdf' % ('_halfSz' if halfsz else '', '_noLgnd' if not incl_legend else '')\n",
    "\n",
    "f = plt.figure(figsize=hf.set_size(scale*tex_width))\n",
    "\n",
    "for (plt_i, (name,group)), divs, clr in zip(enumerate(only_suppr.groupby('respMeasurePrint')), to_div, colors):\n",
    "\n",
    "    relPref, threshSf = np.vstack(group['maskSf_relPref']), np.vstack(group['thresh_sf'])\n",
    "    meetsThresh = relPref[threshSf]\n",
    "    vls = np.log2(meetsThresh);\n",
    "    clipped = np.clip(vls, clipLow, clipHigh);\n",
    "    vals, _ = np.histogram(clipped, bins=bins)\n",
    "    vals_normed = vals/divs\n",
    "    if incl_sem:\n",
    "        plt.errorbar(binPlotLocs-((2*plt_i-1)*0.03), vals_normed, yerr=1/divs, label='%s [n=%d]' % (name, relPref.shape[0]), color=clr)\n",
    "    else:\n",
    "        plt.plot(binPlotLocs-((2*plt_i-1)*0.03), vals_normed, '-o', label='%s [n=%d]' % (name, relPref.shape[0]), color=clr)\n",
    "    # slight offset to avoid overlapping...\n",
    "    plt.xlabel('Mask SF relative to peak (oct.)')\n",
    "    plt.ylabel('Occur. of suppr.')\n",
    "\n",
    "# plt.title('Occurance of suppression by spatial frequency');\n",
    "sns.despine(offset=sns_offset)\n",
    "if incl_legend:\n",
    "    plt.legend();\n",
    "\n",
    "# adjust as needed for any specific plot\n",
    "plt.gca().xaxis.set_major_locator(MaxNLocator(nbins=7))\n",
    "plt.gca().yaxis.set_major_locator(mpl.ticker.FixedLocator([0,0.5,1]))\n",
    "    \n",
    "# now save\n",
    "if not os.path.exists(save_loc):\n",
    "    os.makedirs(save_loc)\n",
    "pdfSv = pltSave.PdfPages(save_loc + saveName);\n",
    "f = plt.gcf()\n",
    "pdfSv.savefig(f, bbox_inches='tight') # only one figure here...\n",
    "pdfSv.close()"
   ]
  },
  {
   "cell_type": "code",
   "execution_count": 2106,
   "metadata": {
    "scrolled": true
   },
   "outputs": [],
   "source": [
    "maskCons_overall = np.unique(np.round(hf.flatten_list(only_suppr['maskCon']), 2))# round to the nearest hundredth\n",
    "if len(maskCons_overall)>8: # oy...\n",
    "    print('needed to manually set mask contrasts --> did you somehow include a lot of cells?')\n",
    "    maskCons_overall = np.geomspace(0.01, 0.64, 7)"
   ]
  },
  {
   "cell_type": "markdown",
   "metadata": {},
   "source": [
    "### What is the tuning of the suppression?"
   ]
  },
  {
   "cell_type": "code",
   "execution_count": 2107,
   "metadata": {},
   "outputs": [],
   "source": [
    "### plot for simple and complex"
   ]
  },
  {
   "cell_type": "code",
   "execution_count": 2108,
   "metadata": {},
   "outputs": [
    {
     "data": {
      "image/png": "[encoded data removed]",
      "text/plain": [
       "<Figure size 469x579.716 with 2 Axes>"
      ]
     },
     "metadata": {
      "needs_background": "light"
     },
     "output_type": "display_data"
    }
   ],
   "source": [
    "cmplxOnlySuppr = False;\n",
    "\n",
    "saveName = '02_03_avgSuprTuning%s.pdf' % ('_allComplexConds' if not cmplxOnlySuppr else '')\n",
    "\n",
    "f, ax = plt.subplots(2,1, figsize=hf.set_size(tex_width, extra_height=2));\n",
    "\n",
    "for (plt_i, (name,group)), divs, clr in zip(enumerate(only_suppr.groupby('respMeasurePrint')), to_div, colors):\n",
    "\n",
    "    allThreshBin, allThreshVals, relPref = np.stack(group['thresh']), np.stack(group['baseDiffs']), np.vstack(group['maskSf_relPref'])\n",
    "    # annoying transposes to get things working...\n",
    "    allThreshVals_norm = np.divide(-allThreshVals[..., -1].T, np.nanmin(allThreshVals[...,-1], axis=(1, 2))).T\n",
    "\n",
    "    for con_i in range(allThreshBin.shape[1]): # nCons\n",
    "        curr_vals = allThreshVals_norm[:,con_i,:];\n",
    "        \n",
    "        curr_avg_supr = np.zeros((len(bins)-1, ));\n",
    "\n",
    "        relPref, thresh = np.vstack(group['maskSf_relPref']), np.vstack(allThreshBin[:,con_i,:])\n",
    "        # if DC (i.e. name=='complex'), then we should only average where suppression is present\n",
    "        # --- otherwise, we can just sum up?\n",
    "        if name=='complex' and cmplxOnlySuppr: # then we should subset only those that show suppr.\n",
    "            curr_sfs = np.log2(relPref[thresh])\n",
    "            curr_vals_pass = curr_vals[thresh]\n",
    "            if curr_sfs.size==0: # nothing to plot\n",
    "                continue;\n",
    "        else: # we can add everything...\n",
    "            curr_sfs = np.log2(relPref)\n",
    "            curr_vals_pass = curr_vals\n",
    "        # otherwise, let's count up how many times each binned (rel. SF) shows up, and average the tot. suppr\n",
    "        curr_counts = np.histogram(np.clip(curr_sfs, clipLow,clipHigh), bins=bins)[0];\n",
    "        curr_inds = np.digitize(np.clip(curr_sfs, clipLow,clipHigh), bins=bins)\n",
    "        # in place op\n",
    "        np.add.at(curr_avg_supr, curr_inds-1, curr_vals_pass)\n",
    "        curr_avg_supr /= curr_counts\n",
    "        nonan = ~np.isnan(curr_avg_supr);\n",
    "\n",
    "        ax[plt_i].plot(binPlotLocs, curr_avg_supr, '-o', color=clr, \n",
    "                       alpha=(1+con_i)/allThreshBin.shape[1], label='%.2f' % (maskCons_overall[con_i]))\n",
    "#         ax[plt_i].plot(binPlotLocs[nonan], curr_avg_supr[nonan], '-o', color='k', \n",
    "#                        alpha=(1+con_i)/allThreshBin.shape[1], label='%d%%' % (100*maskCons_overall[con_i]))\n",
    "        \n",
    "        if plt_i==1:\n",
    "            ax[plt_i].set_xlabel('Mask SF relative to peak (oct.)')\n",
    "        ax[plt_i].set_ylabel('Normalized suppression')\n",
    "        ax[plt_i].legend();\n",
    "f.tight_layout();\n",
    "f.suptitle('Tuning of suppression by spatial frequency');\n",
    "sns.despine(offset=sns_offset)\n",
    "\n",
    "# now save\n",
    "if not os.path.exists(save_loc):\n",
    "    os.makedirs(save_loc)\n",
    "pdfSv = pltSave.PdfPages(save_loc + saveName);\n",
    "f = plt.gcf()\n",
    "pdfSv.savefig(f, bbox_inches='tight') # only one figure here...\n",
    "pdfSv.close()"
   ]
  },
  {
   "cell_type": "markdown",
   "metadata": {},
   "source": [
    "#### Including just for simple cells (or just complex)"
   ]
  },
  {
   "cell_type": "code",
   "execution_count": 1309,
   "metadata": {},
   "outputs": [
    {
     "name": "stderr",
     "output_type": "stream",
     "text": [
      "/users/plevy/miniconda3/envs/pytorch-lcv/lib/python3.6/site-packages/ipykernel_launcher.py:49: RuntimeWarning: invalid value encountered in true_divide\n"
     ]
    },
    {
     "data": {
      "image/png": "[encoded data removed]",
      "text/plain": [
       "<Figure size 469x289.858 with 1 Axes>"
      ]
     },
     "metadata": {
      "needs_background": "light"
     },
     "output_type": "display_data"
    }
   ],
   "source": [
    "onlySuprCells = True\n",
    "onlySuprConds = True\n",
    "incl_sem = True;\n",
    "\n",
    "halfsz = False;\n",
    "scale = 0.5 if halfsz else 1\n",
    "\n",
    "useSimple = 1;\n",
    "\n",
    "saveName = '02_03a_avgSuprTuning_only%s_%s_%s%s%s.pdf' % ('Simple' if useSimple else 'Complex', 'onlySuprCells' if onlySuprCells else 'allCells',\n",
    "                                                         'onlySuprConds' if onlySuprConds else 'allConds',\n",
    "                                                           '_noSEM' if not incl_sem else '',\n",
    "                                                           '_halfSz' if halfsz else '')\n",
    "# all cells\n",
    "if onlySuprCells:\n",
    "    to_use = only_suppr[only_suppr['respMeasure']==useSimple];\n",
    "else:\n",
    "    to_use = df_subset[df_subset['respMeasure']==useSimple];\n",
    "\n",
    "\n",
    "allThreshBin, allThreshVals, relPref = np.stack(to_use['thresh']), np.stack(to_use['baseDiffs']), np.vstack(to_use['maskSf_relPref'])\n",
    "# annoying transposes to get things working...\n",
    "allThreshVals_norm = np.divide(-allThreshVals[..., -1].T, np.nanmin(allThreshVals[...,-1], axis=(1, 2))).T\n",
    "# not norm by per-cell max\n",
    "# allThreshVals_norm = allThreshVals[..., -1]\n",
    "\n",
    "plt.figure(figsize=hf.set_size(scale*tex_width))\n",
    "\n",
    "for con_i in range(allThreshBin.shape[1]): # nCons\n",
    "    curr_vals = allThreshVals_norm[:,con_i,:];\n",
    "\n",
    "    curr_avg_supr = np.zeros((len(bins)-1, ));\n",
    "\n",
    "    relPref, thresh = np.vstack(to_use['maskSf_relPref']), np.vstack(allThreshBin[:,con_i,:])\n",
    "    \n",
    "    if onlySuprConds: # consider only conditions that meet suppression threshold\n",
    "        curr_sfs = np.log2(relPref[thresh])\n",
    "        curr_vals_pass = curr_vals[thresh]\n",
    "        if curr_sfs.size==0: # nothing to plot\n",
    "            continue;\n",
    "    else: # consider all conditions\n",
    "        curr_sfs = np.log2(relPref)\n",
    "        curr_vals_pass = curr_vals\n",
    "    \n",
    "    curr_counts = np.histogram(np.clip(curr_sfs, clipLow,clipHigh), bins=bins)[0];\n",
    "    curr_inds = np.digitize(np.clip(curr_sfs, clipLow,clipHigh), bins=bins)\n",
    "    # in place op\n",
    "    np.add.at(curr_avg_supr, curr_inds-1, curr_vals_pass)\n",
    "    curr_avg_supr /= curr_counts\n",
    "    # and some variance metric?\n",
    "    stdz = np.zeros((len(bins)-1, ));\n",
    "    stdz[np.unique(curr_inds)-1] = [np.nanstd(curr_vals_pass[curr_inds==x]) for x in np.unique(curr_inds)]\n",
    "    varz = np.zeros((len(bins)-1, ));\n",
    "    varz[np.unique(curr_inds)-1] = [np.nanvar(curr_vals_pass[curr_inds==x]) for x in np.unique(curr_inds)]\n",
    "\n",
    "    sem_est = stdz/np.sqrt(curr_counts) # s.e.m.?\n",
    "\n",
    "    if incl_sem:\n",
    "        curr_jitter = hf.random_in_range([-0.15,0.15])[0];\n",
    "        plt.errorbar(binPlotLocs+curr_jitter, curr_avg_supr, yerr=sem_est, color='k', \n",
    "                   alpha=(1+con_i)/allThreshBin.shape[1], label='%.2f' % (maskCons_overall[con_i]))\n",
    "    else:\n",
    "        plt.plot(binPlotLocs, curr_avg_supr, '-o', color='k', \n",
    "                   alpha=(1+con_i)/allThreshBin.shape[1], label='%.2f' % (maskCons_overall[con_i]))\n",
    "\n",
    "\n",
    "    if plt_i==1:\n",
    "        plt.xlabel('Mask SF relative to peak (oct.)')\n",
    "    plt.ylabel('Suppression (norm.)')\n",
    "    plt.legend();\n",
    "    plt.axhline(0, color='k', linestyle='--')\n",
    "    \n",
    "f.tight_layout();\n",
    "plt.title('Tuning of suppression by spatial frequency [n=%d]' % to_use.shape[0]);\n",
    "sns.despine(offset=sns_offset)\n",
    "\n",
    "# now save\n",
    "if not os.path.exists(save_loc):\n",
    "    os.makedirs(save_loc)\n",
    "pdfSv = pltSave.PdfPages(save_loc + saveName);\n",
    "f = plt.gcf()\n",
    "pdfSv.savefig(f, bbox_inches='tight') # only one figure here...\n",
    "pdfSv.close()"
   ]
  },
  {
   "cell_type": "markdown",
   "metadata": {},
   "source": [
    "### *Quick* look at relationship between suppression and other characteristics?\n",
    "\n",
    "First, not split by DC/F1, then split by DC/F1:"
   ]
  },
  {
   "cell_type": "code",
   "execution_count": 2119,
   "metadata": {},
   "outputs": [],
   "source": [
    "# curr_subset = df_subset\n",
    "curr_subset = df_subset[df_subset['wasTarget']]"
   ]
  },
  {
   "cell_type": "code",
   "execution_count": 2121,
   "metadata": {},
   "outputs": [
    {
     "name": "stdout",
     "output_type": "stream",
     "text": [
      "f1f0_ratio 0.84[17] vs 1.27[16]: \n",
      "\tp=1.47e-01 [t]\n",
      "\tp=3.72e-01 [ks]\n",
      "meanResp 14.08[18] vs 24.63[16]: \n",
      "\tp=2.74e-02 [t]\n",
      "\tp=6.70e-02 [ks]\n",
      "maxResp 76.80[18] vs 119.03[16]: \n",
      "\tp=1.87e-02 [t]\n",
      "\tp=5.97e-02 [ks]\n",
      "baseResp_mean 11.83[18] vs 42.19[16]: \n",
      "\tp=7.32e-04 [t]\n",
      "\tp=4.25e-03 [ks]\n",
      "baseVarEst 4.83[18] vs 4.08[16]: \n",
      "\tp=6.34e-01 [t]\n",
      "\tp=4.88e-03 [ks]\n",
      "baseAsMaxFrac 0.14[18] vs 0.33[16]: \n",
      "\tp=7.91e-04 [t]\n",
      "\tp=3.06e-02 [ks]\n",
      "dog_mod_slope -0.12[18] vs -0.08[16]: \n",
      "\tp=5.75e-01 [t]\n",
      "\tp=5.49e-01 [ks]\n",
      "dog_bwHalf_hiCon 2.51[14] vs 1.80[7]: \n",
      "\tp=3.20e-02 [t]\n",
      "\tp=2.11e-01 [ks]\n",
      "dog_bw34_hiCon 1.75[16] vs 1.50[12]: \n",
      "\tp=3.39e-01 [t]\n",
      "\tp=9.01e-01 [ks]\n",
      "charFreq 663.87[18] vs 2.07[16]: \n",
      "\tp=3.53e-01 [t]\n",
      "\tp=1.02e-01 [ks]\n",
      "sfPref 1.25[18] vs 1.02[16]: \n",
      "\tp=4.02e-01 [t]\n",
      "\tp=2.61e-01 [ks]\n",
      "sfVarExpl_hiCon 66.63[18] vs 93.92[16]: \n",
      "\tp=2.12e-02 [t]\n",
      "\tp=1.53e-01 [ks]\n",
      "rfsize.gsf_model 2.18[18] vs 1.45[16]: \n",
      "\tp=2.27e-01 [t]\n",
      "\tp=3.14e-01 [ks]\n",
      "rfsize.surrDiam_model 5.27[18] vs 5.06[16]: \n",
      "\tp=7.54e-01 [t]\n",
      "\tp=3.14e-01 [ks]\n",
      "rfsize.suprInd_model 0.38[18] vs 0.40[16]: \n",
      "\tp=8.17e-01 [t]\n",
      "\tp=3.32e-01 [ks]\n",
      "ori.bw 69.08[18] vs 68.18[16]: \n",
      "\tp=9.22e-01 [t]\n",
      "\tp=7.35e-01 [ks]\n",
      "tf.tfBW_oct 2.51[9] vs 2.16[7]: \n",
      "\tp=6.37e-01 [t]\n",
      "\tp=9.64e-01 [ks]\n",
      "tf.tfPref 7.77[18] vs 13.52[16]: \n",
      "\tp=3.57e-02 [t]\n",
      "\tp=3.06e-02 [ks]\n"
     ]
    }
   ],
   "source": [
    "to_test = ['f1f0_ratio', 'meanResp', 'maxResp', 'baseResp_mean', 'baseVarEst', 'baseAsMaxFrac',\n",
    "           'dog_mod_slope', 'dog_bwHalf_hiCon', 'dog_bw34_hiCon', 'charFreq', 'sfPref', 'sfVarExpl_hiCon',\n",
    "           'rfsize.gsf_model', 'rfsize.surrDiam_model', 'rfsize.suprInd_model', \n",
    "             'ori.bw', 'tf.tfBW_oct', 'tf.tfPref']\n",
    "\n",
    "for fld in to_test:\n",
    "    valz = (*curr_subset.groupby('showsSuppr')[fld].apply(np.array), )\n",
    "    ncells = [len(hf.nan_rm(x)) for x in valz]\n",
    "    tst_t = ss.ttest_ind(*valz, nan_policy='omit')\n",
    "    tst_k = ss.ks_2samp(*valz, )\n",
    "\n",
    "    print('%s %.2f[%d] vs %.2f[%d]: \\n\\tp=%.2e [t]\\n\\tp=%.2e [ks]' % (fld, np.nanmean(valz[0]), ncells[0], \n",
    "                                                  np.nanmean(valz[1]), ncells[1], tst_t.pvalue, tst_k.pvalue))"
   ]
  },
  {
   "cell_type": "code",
   "execution_count": 2109,
   "metadata": {},
   "outputs": [
    {
     "name": "stdout",
     "output_type": "stream",
     "text": [
      "\n",
      "*****\n",
      "Analysis for complex cells:\n",
      "****\n",
      "\n",
      "f1f0_ratio 0.47[13] vs 0.41[7]: \n",
      "\tp=5.14e-01 [t]\n",
      "\tp=5.35e-01 [ks]\n",
      "meanResp 16.76[13] vs 29.07[7]: \n",
      "\tp=9.04e-02 [t]\n",
      "\tp=2.99e-01 [ks]\n",
      "maxResp 86.31[13] vs 152.57[7]: \n",
      "\tp=1.11e-02 [t]\n",
      "\tp=1.69e-01 [ks]\n",
      "baseResp_mean 17.70[13] vs 60.11[7]: \n",
      "\tp=1.01e-03 [t]\n",
      "\tp=1.20e-02 [ks]\n",
      "baseVarEst 8.09[13] vs 9.04[7]: \n",
      "\tp=7.00e-01 [t]\n",
      "\tp=1.11e-01 [ks]\n",
      "baseAsMaxFrac 0.20[13] vs 0.38[7]: \n",
      "\tp=6.95e-03 [t]\n",
      "\tp=3.64e-02 [ks]\n",
      "dog_mod_slope -0.14[13] vs -0.20[7]: \n",
      "\tp=5.82e-01 [t]\n",
      "\tp=6.41e-01 [ks]\n",
      "dog_bwHalf_hiCon 2.54[10] vs 1.76[5]: \n",
      "\tp=4.77e-02 [t]\n",
      "\tp=1.69e-01 [ks]\n",
      "dog_bw34_hiCon 1.82[12] vs 1.37[7]: \n",
      "\tp=2.20e-01 [t]\n",
      "\tp=5.88e-01 [ks]\n",
      "charFreq 2.35[13] vs 2.30[7]: \n",
      "\tp=9.07e-01 [t]\n",
      "\tp=4.83e-01 [ks]\n",
      "sfPref 1.33[13] vs 1.49[7]: \n",
      "\tp=6.49e-01 [t]\n",
      "\tp=4.83e-01 [ks]\n",
      "sfVarExpl_hiCon 89.73[13] vs 96.34[7]: \n",
      "\tp=4.46e-01 [t]\n",
      "\tp=5.88e-01 [ks]\n",
      "rfsize.gsf_model 2.60[13] vs 1.84[7]: \n",
      "\tp=4.61e-01 [t]\n",
      "\tp=3.44e-01 [ks]\n",
      "rfsize.surrDiam_model 5.20[13] vs 5.24[7]: \n",
      "\tp=9.60e-01 [t]\n",
      "\tp=5.35e-01 [ks]\n",
      "rfsize.suprInd_model 0.32[13] vs 0.43[7]: \n",
      "\tp=4.99e-01 [t]\n",
      "\tp=6.41e-01 [ks]\n",
      "ori.bw 63.72[13] vs 61.69[7]: \n",
      "\tp=8.21e-01 [t]\n",
      "\tp=5.35e-01 [ks]\n",
      "tf.tfBW_oct 2.39[6] vs 2.20[5]: \n",
      "\tp=8.52e-01 [t]\n",
      "\tp=5.35e-01 [ks]\n",
      "tf.tfPref 8.47[13] vs 11.16[7]: \n",
      "\tp=4.07e-01 [t]\n",
      "\tp=2.99e-01 [ks]\n",
      "\n",
      "*****\n",
      "Analysis for simple cells:\n",
      "****\n",
      "\n",
      "f1f0_ratio 2.31[12] vs 1.96[14]: \n",
      "\tp=3.82e-01 [t]\n",
      "\tp=7.82e-01 [ks]\n",
      "meanResp 9.15[13] vs 15.97[14]: \n",
      "\tp=5.90e-02 [t]\n",
      "\tp=1.11e-01 [ks]\n",
      "maxResp 56.54[13] vs 71.48[14]: \n",
      "\tp=2.90e-01 [t]\n",
      "\tp=2.89e-01 [ks]\n",
      "baseResp_mean 3.12[13] vs 20.03[14]: \n",
      "\tp=6.05e-03 [t]\n",
      "\tp=4.90e-03 [ks]\n",
      "baseVarEst 0.75[13] vs 0.32[14]: \n",
      "\tp=1.20e-04 [t]\n",
      "\tp=1.23e-03 [ks]\n",
      "baseAsMaxFrac 0.06[13] vs 0.24[14]: \n",
      "\tp=1.72e-03 [t]\n",
      "\tp=4.90e-03 [ks]\n",
      "dog_mod_slope 0.02[13] vs 0.01[14]: \n",
      "\tp=9.22e-01 [t]\n",
      "\tp=3.98e-01 [ks]\n",
      "dog_bwHalf_hiCon 2.48[8] vs 2.41[4]: \n",
      "\tp=9.00e-01 [t]\n",
      "\tp=3.71e-01 [ks]\n",
      "dog_bw34_hiCon 1.65[9] vs 1.66[7]: \n",
      "\tp=9.85e-01 [t]\n",
      "\tp=7.64e-01 [ks]\n",
      "charFreq 918.03[13] vs 1.84[14]: \n",
      "\tp=3.08e-01 [t]\n",
      "\tp=3.43e-01 [ks]\n",
      "sfPref 0.87[13] vs 0.58[14]: \n",
      "\tp=2.12e-01 [t]\n",
      "\tp=4.46e-01 [ks]\n",
      "sfVarExpl_hiCon 57.98[13] vs 87.66[14]: \n",
      "\tp=2.63e-02 [t]\n",
      "\tp=1.11e-01 [ks]\n",
      "rfsize.gsf_model 2.06[13] vs 0.90[14]: \n",
      "\tp=5.92e-02 [t]\n",
      "\tp=4.46e-01 [ks]\n",
      "rfsize.surrDiam_model 5.24[13] vs 4.71[14]: \n",
      "\tp=5.71e-01 [t]\n",
      "\tp=4.92e-01 [ks]\n",
      "rfsize.suprInd_model 0.41[13] vs 0.47[14]: \n",
      "\tp=6.43e-01 [t]\n",
      "\tp=3.98e-01 [ks]\n",
      "ori.bw 67.05[13] vs 79.60[14]: \n",
      "\tp=2.87e-01 [t]\n",
      "\tp=1.64e-01 [ks]\n",
      "tf.tfBW_oct 2.65[8] vs 1.61[4]: \n",
      "\tp=1.64e-01 [t]\n",
      "\tp=3.71e-01 [ks]\n",
      "tf.tfPref 8.58[13] vs 11.99[14]: \n",
      "\tp=2.84e-01 [t]\n",
      "\tp=4.92e-01 [ks]\n"
     ]
    }
   ],
   "source": [
    "to_test = ['f1f0_ratio', 'meanResp', 'maxResp', 'baseResp_mean', 'baseVarEst', 'baseAsMaxFrac',\n",
    "           'dog_mod_slope', 'dog_bwHalf_hiCon', 'dog_bw34_hiCon', 'charFreq', 'sfPref', 'sfVarExpl_hiCon',\n",
    "           'rfsize.gsf_model', 'rfsize.surrDiam_model', 'rfsize.suprInd_model', \n",
    "             'ori.bw', 'tf.tfBW_oct', 'tf.tfPref']\n",
    "\n",
    "for (name,df_subset_) in df_subset.groupby('respMeasurePrint'):\n",
    "    print('\\n*****\\nAnalysis for %s cells:\\n****\\n' % name);\n",
    "    for fld in to_test:\n",
    "        valz = (*df_subset_.groupby('showsSuppr')[fld].apply(np.array), )\n",
    "        ncells = [len(hf.nan_rm(x)) for x in valz]\n",
    "        tst_t = ss.ttest_ind(*valz, nan_policy='omit')\n",
    "        tst_k = ss.ks_2samp(*valz, )\n",
    "\n",
    "        print('%s %.2f[%d] vs %.2f[%d]: \\n\\tp=%.2e [t]\\n\\tp=%.2e [ks]' % (fld, np.nanmean(valz[0]), ncells[0], \n",
    "                                                      np.nanmean(valz[1]), ncells[1], tst_t.pvalue, tst_k.pvalue))"
   ]
  },
  {
   "cell_type": "markdown",
   "metadata": {},
   "source": [
    "#### Some selected correlations?\n",
    "\n",
    "nSuppr, meanSuppr, maxSuppr are three measures to consider!"
   ]
  },
  {
   "cell_type": "code",
   "execution_count": 2110,
   "metadata": {},
   "outputs": [],
   "source": [
    "if log_y:\n",
    "    orig_vals = which_data_curr[y];\n",
    "    which_data_curr['%s_log' % y] = np.sign(orig_vals) * np.log(np.abs(orig_vals));"
   ]
  },
  {
   "cell_type": "code",
   "execution_count": 2115,
   "metadata": {},
   "outputs": [
    {
     "data": {
      "image/png": "[encoded data removed]",
      "text/plain": [
       "<Figure size 234.5x144.929 with 1 Axes>"
      ]
     },
     "metadata": {
      "needs_background": "light"
     },
     "output_type": "display_data"
    }
   ],
   "source": [
    "halfsz = True;\n",
    "scale = 0.5 if halfsz else 1\n",
    "\n",
    "log_y = True\n",
    "# log_y = False\n",
    "\n",
    "only_f1 = False\n",
    "\n",
    "# can be eval. for all\n",
    "y = 'maxSuppr_all'\n",
    "# only for suppr. cells\n",
    "# y = 'meanSuppr'\n",
    "# y = 'maxSuppr'\n",
    "# y = 'nSuppr'\n",
    "\n",
    "# x = 'baseResp_mean'\n",
    "# x = 'baseAsMaxFrac'\n",
    "# x = 'baseAsMeanFrac'\n",
    "# x = 'dog_bwHalf_hiCon'\n",
    "# x = 'dog_bw34_hiCon'\n",
    "# x = 'sfVarExpl_hiCon'\n",
    "# x = 'rfsize.suprInd_model'\n",
    "# x= 'sfPref'\n",
    "# x = 'tf.tfBW_oct'\n",
    "x = 'tf.tfPref'\n",
    "# x = 'rfsize.surrDiam_model'\n",
    "# x = 'rfsize.gsf_model'\n",
    "# x = 'dog_mod_slope'\n",
    "\n",
    "which_data_curr = df_subset\n",
    "if only_f1:\n",
    "    which_data_curr = which_data_curr[which_data_curr['respMeasure']==1];\n",
    "\n",
    "saveName = '02_04a_%s_%s%s%s%s.pdf' % (x,y, '_halfSz' if halfsz else '', '_lgY' if log_y else '', '_onlyF1')\n",
    "\n",
    "f = plt.figure(figsize=hf.set_size(scale*tex_width))\n",
    "\n",
    "if log_y:\n",
    "    orig_vals = which_data_curr[y];\n",
    "    y = '%s_log' % y; # rename y\n",
    "    which_data_curr[y] = np.sign(orig_vals) * np.log(np.abs(orig_vals));\n",
    "\n",
    "if only_f1:\n",
    "    sns.scatterplot(data=which_data_curr, x=x, y=y, alpha=1, edgecolor='w', linewidth=1,legend=False, color='k');\n",
    "else: # then we color/separate by F1\n",
    "    sns.scatterplot(data=which_data_curr, x=x, y=y, alpha=1, edgecolor='w', linewidth=1, hue='respMeasurePrint', \n",
    "                palette=colors, legend=False, color='k');\n",
    "r2, p, n = pearson_r_pandas(which_data_curr, x, y);\n",
    "plt.xlabel(x);\n",
    "plt.ylabel(y);\n",
    "plt.title('[n=%d]: r2=%.2f, p=%.2e' % (n, r2, p), fontsize='x-small')\n",
    "\n",
    "# adjust as needed for any specific plot\n",
    "plt.gca().xaxis.set_major_locator(MaxNLocator(nbins=6))\n",
    "\n",
    "sns.despine(offset=sns_offset)\n",
    "\n",
    "# # now save\n",
    "if not os.path.exists(save_loc):\n",
    "    os.makedirs(save_loc)\n",
    "pdfSv = pltSave.PdfPages(save_loc + saveName);\n",
    "f = plt.gcf()\n",
    "pdfSv.savefig(f, bbox_inches='tight') # only one figure here...\n",
    "pdfSv.close()"
   ]
  },
  {
   "cell_type": "code",
   "execution_count": null,
   "metadata": {},
   "outputs": [],
   "source": []
  },
  {
   "cell_type": "code",
   "execution_count": null,
   "metadata": {
    "scrolled": true
   },
   "outputs": [],
   "source": []
  }
 ],
 "metadata": {
  "kernelspec": {
   "display_name": "Python 3",
   "language": "python",
   "name": "python3"
  },
  "language_info": {
   "codemirror_mode": {
    "name": "ipython",
    "version": 3
   },
   "file_extension": ".py",
   "mimetype": "text/x-python",
   "name": "python",
   "nbconvert_exporter": "python",
   "pygments_lexer": "ipython3",
   "version": "3.6.12"
  }
 },
 "nbformat": 4,
 "nbformat_minor": 4
}
