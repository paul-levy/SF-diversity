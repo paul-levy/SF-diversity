{
 "cells": [
  {
   "cell_type": "markdown",
   "metadata": {},
   "source": [
    "### Currently, this notebook is used for:\n",
    "    - loading the sfMixLGN experiment data in python format\n",
    "    - plotting responses"
   ]
  },
  {
   "cell_type": "markdown",
   "metadata": {},
   "source": [
    "### Set up"
   ]
  },
  {
   "cell_type": "code",
   "execution_count": null,
   "metadata": {
    "collapsed": false
   },
   "outputs": [],
   "source": [
    "import os\n",
    "import numpy as np\n",
    "import matplotlib\n",
    "matplotlib.use('TkAgg') # to avoid GUI/cluster issues...\n",
    "import matplotlib.pyplot as plt\n",
    "import matplotlib.backends.backend_pdf as pltSave\n",
    "import helper_fcns\n",
    "import autoreload\n",
    "\n",
    "import sys # so that we can import model_responses (in different folder)\n",
    "import model_responses\n",
    "\n",
    "% matplotlib inline \n",
    "\n",
    "plt.style.use('https://raw.githubusercontent.com/paul-levy/SF_diversity/master/Analysis/Functions/paul_plt_cluster.mplstyle');\n",
    "\n",
    "# at CNS\n",
    "# dataPath = '/arc/2.2/p1/plevy/SF_diversity/sfDiv-OriModel/sfDiv-python/altExp/recordings/';\n",
    "# savePath = '/arc/2.2/p1/plevy/SF_diversity/sfDiv-OriModel/sfDiv-python/altExp/analysis/';\n",
    "# personal mac\n",
    "dataPath = '/Users/paulgerald/work/sfDiversity/sfDiv-OriModel/sfDiv-python/LGN/data/sfMixLGN/';\n",
    "save_loc = '/Users/paulgerald/work/sfDiversity/sfDiv-OriModel/sfDiv-python/LGN/analysis/figures/';\n",
    "\n",
    "conDig = 3; # round contrast to the 3rd digit\n",
    "fullWaveform = 1;\n",
    "\n",
    "which_cell = 10; # index into the dataList\n",
    "\n",
    "dataList = np.load(dataPath + 'dataList.npy', encoding='latin1').item();\n",
    "\n",
    "if fullWaveform:\n",
    "    waveStr = '_fullWave'\n",
    "else:\n",
    "    waveStr = '';\n",
    "    \n",
    "cellStruct = np.load(dataPath + dataList['unitName'][which_cell] + '_sfm' + waveStr + '.npy', encoding='latin1').item();"
   ]
  },
  {
   "cell_type": "code",
   "execution_count": null,
   "metadata": {
    "collapsed": false
   },
   "outputs": [],
   "source": [
    "autoreload.reload(helper_fcns)"
   ]
  },
  {
   "cell_type": "code",
   "execution_count": null,
   "metadata": {
    "collapsed": true
   },
   "outputs": [],
   "source": [
    "data = cellStruct['sfm']['exp']['trial'];"
   ]
  },
  {
   "cell_type": "markdown",
   "metadata": {},
   "source": [
    "A quick look at spikes versus f1 power"
   ]
  },
  {
   "cell_type": "code",
   "execution_count": null,
   "metadata": {
    "collapsed": false
   },
   "outputs": [],
   "source": [
    "plt.plot(data['spikeCount'], np.abs(data['f1']), 'o')"
   ]
  },
  {
   "cell_type": "markdown",
   "metadata": {},
   "source": [
    "### Organize data\n",
    "#### determine contrasts, center spatial frequency, dispersions"
   ]
  },
  {
   "cell_type": "code",
   "execution_count": null,
   "metadata": {
    "collapsed": false
   },
   "outputs": [],
   "source": [
    "data = cellStruct['sfm']['exp']['trial'];\n",
    "\n",
    "resp, stimVals, val_con_by_disp, validByStimVal, mdRsp = helper_fcns.tabulate_responses(cellStruct);\n",
    "\n",
    "all_disps = stimVals[0];\n",
    "all_cons = stimVals[1];\n",
    "all_sfs = stimVals[2];\n",
    "\n",
    "nCons = len(all_cons);\n",
    "nSfs = len(all_sfs);\n",
    "nDisps = len(all_disps);"
   ]
  },
  {
   "cell_type": "markdown",
   "metadata": {},
   "source": [
    "#### Unpack responses"
   ]
  },
  {
   "cell_type": "code",
   "execution_count": null,
   "metadata": {
    "collapsed": true
   },
   "outputs": [],
   "source": [
    "# respMean = resp[0];\n",
    "# respStd = resp[1];\n",
    "predMean = resp[2];\n",
    "predStd = resp[3];\n",
    "respMean = resp[4];\n",
    "respStd = resp[5];\n"
   ]
  },
  {
   "cell_type": "markdown",
   "metadata": {},
   "source": [
    "#### Load descriptive model fits"
   ]
  },
  {
   "cell_type": "code",
   "execution_count": null,
   "metadata": {
    "collapsed": false
   },
   "outputs": [],
   "source": [
    "descrFits = np.load(dataPath + 'descrFits.npy', encoding = 'latin1').item();\n",
    "descrFits = descrFits[which_cell]['params']; # just get this cell"
   ]
  },
  {
   "cell_type": "markdown",
   "metadata": {},
   "source": [
    "### Plots"
   ]
  },
  {
   "cell_type": "markdown",
   "metadata": {},
   "source": [
    "#### Plots by dispersion"
   ]
  },
  {
   "cell_type": "code",
   "execution_count": null,
   "metadata": {
    "collapsed": false
   },
   "outputs": [],
   "source": [
    "fDisp = []; dispAx = [];\n",
    "\n",
    "sfs_plot = np.logspace(np.log10(all_sfs[0]), np.log10(all_sfs[-1]), 100);    \n",
    "\n",
    "for d in range(nDisps):\n",
    "    \n",
    "    v_cons = val_con_by_disp[d];\n",
    "    n_v_cons = len(v_cons);\n",
    "    \n",
    "    fCurr, dispCurr = plt.subplots(n_v_cons, 1, figsize=(40, n_v_cons*10));\n",
    "    fDisp.append(fCurr)\n",
    "    dispAx.append(dispCurr);\n",
    "    \n",
    "    maxResp = np.max(np.max(respMean[d, ~np.isnan(respMean[d, :, :])]));\n",
    "    \n",
    "    for c in reversed(range(n_v_cons)):\n",
    "        c_plt_ind = len(v_cons) - c - 1;\n",
    "        v_sfs = ~np.isnan(respMean[d, :, v_cons[c]]);\n",
    "        \n",
    "        # plot data\n",
    "        dispAx[d][c_plt_ind].errorbar(all_sfs[v_sfs], respMean[d, v_sfs, v_cons[c]], \n",
    "                                      respStd[d, v_sfs, v_cons[c]], fmt='o');\n",
    "        # plot linear prediction\n",
    "        dispAx[d][c_plt_ind].errorbar(all_sfs[v_sfs], predMean[d, v_sfs, v_cons[c]], \n",
    "                                      predStd[d, v_sfs, v_cons[c]], fmt='x');\n",
    "        \n",
    "        # plot descriptive model fit\n",
    "#         curr_mod_params = descrFits[d, v_cons[c], :];\n",
    "        #dispAx[d][c_plt_ind].plot(sfs_plot, helper_fcns.flexible_Gauss(curr_mod_params, sfs_plot))\n",
    "        \n",
    "        dispAx[d][c_plt_ind].set_xlim((min(all_sfs), max(all_sfs)));\n",
    "        dispAx[d][c_plt_ind].set_ylim((0, 1.5*maxResp));\n",
    "        \n",
    "        dispAx[d][c_plt_ind].set_xscale('log');\n",
    "#         dispAx[d][c].set_yscale('log');\n",
    "        dispAx[d][c_plt_ind].set_xlabel('sf (c/deg)'); \n",
    "        dispAx[d][c_plt_ind].set_ylabel('resp (sps)');\n",
    "        dispAx[d][c_plt_ind].set_title('D%d: contrast: %.3f' % (d+1, all_cons[v_cons[c]]));\n",
    "\n",
    "\n",
    "saveName = \"/cell_%d.pdf\" % (which_cell+1)\n",
    "full_save = os.path.dirname(str(save_loc + 'byDisp/'));\n",
    "if not os.path.exists(full_save):\n",
    "    os.makedirs(full_save)\n",
    "pdfSv = pltSave.PdfPages(full_save + saveName);\n",
    "for f in fDisp:\n",
    "    pdfSv.savefig(f)\n",
    "pdfSv.close()\n"
   ]
  },
  {
   "cell_type": "markdown",
   "metadata": {},
   "source": [
    "#### Plot just sfMix contrasts"
   ]
  },
  {
   "cell_type": "code",
   "execution_count": null,
   "metadata": {
    "collapsed": false
   },
   "outputs": [],
   "source": [
    "# i.e. highest (up to) 4 contrasts for each dispersion\n",
    "\n",
    "plot_descr = 0;\n",
    "\n",
    "mixCons = 4;\n",
    "maxResp = np.max(np.max(np.max(respMean[~np.isnan(respMean)])));\n",
    "\n",
    "f, sfMixAx = plt.subplots(mixCons, nDisps, figsize=(40, 30));\n",
    "\n",
    "sfs_plot = np.logspace(np.log10(all_sfs[0]), np.log10(all_sfs[-1]), 100);\n",
    "\n",
    "for d in range(nDisps):\n",
    "    v_cons = np.array(val_con_by_disp[d]);\n",
    "    n_v_cons = len(v_cons);\n",
    "    v_cons = v_cons[np.arange(np.maximum(0, n_v_cons -mixCons), n_v_cons)]; # max(1, .) for when there are fewer contrasts than 4\n",
    "    n_v_cons = len(v_cons);\n",
    "    \n",
    "    for c in reversed(range(n_v_cons)):\n",
    "        c_plt_ind = n_v_cons - c - 1;\n",
    "        sfMixAx[c_plt_ind, d].set_title('con:' + str(np.round(all_cons[v_cons[c]], 2)))\n",
    "        v_sfs = ~np.isnan(respMean[d, :, v_cons[c]]);\n",
    "        \n",
    "        # plot data\n",
    "        sfMixAx[c_plt_ind, d].errorbar(all_sfs[v_sfs], respMean[d, v_sfs, v_cons[c]], \n",
    "                                       respStd[d, v_sfs, v_cons[c]], fmt='o');\n",
    "\n",
    "        # plot linear prediction\n",
    "        sfMixAx[c_plt_ind, d].errorbar(all_sfs[v_sfs], predMean[d, v_sfs, v_cons[c]], \n",
    "                                      predStd[d, v_sfs, v_cons[c]], fmt='x');\n",
    "        \n",
    "        # plot descriptive model fit\n",
    "        if plot_descr:\n",
    "            curr_mod_params = descrFits[d, v_cons[c], :];\n",
    "        #sfMixAx[c_plt_ind, d].plot(sfs_plot, helper_fcns.flexible_Gauss(curr_mod_params, sfs_plot))\n",
    "\n",
    "        sfMixAx[c_plt_ind, d].set_xlim((np.min(all_sfs), np.max(all_sfs)));\n",
    "        sfMixAx[c_plt_ind, d].set_ylim((0, 1.5*maxResp));\n",
    "        sfMixAx[c_plt_ind, d].set_xscale('log');\n",
    "        sfMixAx[c_plt_ind, d].set_xlabel('sf (c/deg)');\n",
    "        sfMixAx[c_plt_ind, d].set_ylabel('resp (sps)');\n",
    "        \n",
    "saveName = \"/cell_%d.pdf\" % (which_cell+1)\n",
    "full_save = os.path.dirname(str(save_loc + 'sfMixOnly/'));\n",
    "if not os.path.exists(full_save):\n",
    "    os.makedirs(full_save)\n",
    "pdfSv = pltSave.PdfPages(full_save + saveName);\n",
    "pdfSv.savefig(f) # only one figure here...\n",
    "pdfSv.close()"
   ]
  },
  {
   "cell_type": "markdown",
   "metadata": {},
   "source": [
    "#### Plot contrast response functions"
   ]
  },
  {
   "cell_type": "code",
   "execution_count": null,
   "metadata": {
    "collapsed": false
   },
   "outputs": [],
   "source": [
    "crfAx = []; fCRF = [];\n",
    "\n",
    "for d in range(nDisps):\n",
    "    \n",
    "    # which sfs have at least one contrast presentation?\n",
    "    v_sfs = np.where(np.sum(~np.isnan(respMean[d, :, :]), axis = 1) > 0);\n",
    "    n_v_sfs = len(v_sfs[0])\n",
    "    fCurr, crfCurr = plt.subplots(1, n_v_sfs, figsize=(n_v_sfs*15, 20), sharex = True, sharey = True);\n",
    "    fCRF.append(fCurr)\n",
    "    crfAx.append(crfCurr);\n",
    "    \n",
    "    for sf in range(n_v_sfs):\n",
    "        sf_ind = v_sfs[0][sf];\n",
    "        v_cons = ~np.isnan(respMean[d, sf_ind, :]);\n",
    "        n_cons = sum(v_cons);\n",
    "        \n",
    "        # 0.1 minimum to keep plot axis range OK...should find alternative\n",
    "        crfAx[d][sf].errorbar(all_cons[v_cons], np.maximum(np.reshape([respMean[d, sf_ind, v_cons]], (n_cons, )), 0.1),\n",
    "                            np.reshape([respStd[d, sf_ind, v_cons]], (n_cons, )), fmt='o');\n",
    "        crfAx[d][sf].set_xscale('log');\n",
    "        crfAx[d][sf].set_yscale('log');\n",
    "        crfAx[d][sf].set_xlabel('contrast');\n",
    "        crfAx[d][sf].set_ylabel('resp (sps)');\n",
    "        crfAx[d][sf].set_title('D%d: sf: %.3f' % (d+1, all_sfs[sf_ind]));\n",
    "\n",
    "saveName = \"/cell_%d.pdf\" % (which_cell+1)\n",
    "full_save = os.path.dirname(str(save_loc + 'CRF/'));\n",
    "if not os.path.exists(full_save):\n",
    "    os.makedirs(full_save)\n",
    "pdfSv = pltSave.PdfPages(full_save + saveName);\n",
    "for f in fCRF:\n",
    "    pdfSv.savefig(f)\n",
    "pdfSv.close()"
   ]
  },
  {
   "cell_type": "code",
   "execution_count": null,
   "metadata": {
    "collapsed": true
   },
   "outputs": [],
   "source": []
  }
 ],
 "metadata": {
  "kernelspec": {
   "display_name": "Python 3",
   "language": "python",
   "name": "python3"
  },
  "language_info": {
   "codemirror_mode": {
    "name": "ipython",
    "version": 3
   },
   "file_extension": ".py",
   "mimetype": "text/x-python",
   "name": "python",
   "nbconvert_exporter": "python",
   "pygments_lexer": "ipython3",
   "version": "3.6.0"
  }
 },
 "nbformat": 4,
 "nbformat_minor": 2
}
