{
 "cells": [
  {
   "cell_type": "markdown",
   "metadata": {},
   "source": [
    "### Currently, this notebook is used for:\n",
    "    - loading the sfMixLGN experiment data in python format\n",
    "    - plotting responses"
   ]
  },
  {
   "cell_type": "markdown",
   "metadata": {},
   "source": [
    "### Set up"
   ]
  },
  {
   "cell_type": "code",
   "execution_count": 1,
   "metadata": {
    "collapsed": false
   },
   "outputs": [],
   "source": [
    "import os\n",
    "import numpy as np\n",
    "import matplotlib\n",
    "matplotlib.use('TkAgg') # to avoid GUI/cluster issues...\n",
    "import matplotlib.pyplot as plt\n",
    "import matplotlib.backends.backend_pdf as pltSave\n",
    "import helper_fcns\n",
    "import autoreload\n",
    "\n",
    "import sys # so that we can import model_responses (in different folder)\n",
    "import model_responses\n",
    "\n",
    "% matplotlib inline \n",
    "\n",
    "plt.style.use('https://raw.githubusercontent.com/paul-levy/SF_diversity/master/Analysis/Functions/paul_plt_cluster.mplstyle');\n",
    "\n",
    "# at CNS\n",
    "# dataPath = '/arc/2.2/p1/plevy/SF_diversity/sfDiv-OriModel/sfDiv-python/altExp/recordings/';\n",
    "# savePath = '/arc/2.2/p1/plevy/SF_diversity/sfDiv-OriModel/sfDiv-python/altExp/analysis/';\n",
    "# personal mac\n",
    "dataPath = '/Users/paulgerald/work/sfDiversity/sfDiv-OriModel/sfDiv-python/LGN/analysis/structures/';\n",
    "save_loc = '/Users/paulgerald/work/sfDiversity/sfDiv-OriModel/sfDiv-python/LGN/analysis/figures/';\n",
    "\n",
    "conDig = 3; # round contrast to the 3rd digit\n",
    "fullWaveform = 0;\n",
    "\n",
    "which_cell = 31; # index into the dataList\n",
    "\n",
    "dataList = np.load(dataPath + 'dataList.npy', encoding='latin1').item();\n",
    "\n",
    "if fullWaveform:\n",
    "    waveStr = '_fullWave'\n",
    "else:\n",
    "    waveStr = '';\n",
    "    \n",
    "cellStruct = np.load(dataPath + dataList['unitName'][which_cell] + '_sfm' + waveStr + '.npy', encoding='latin1').item();"
   ]
  },
  {
   "cell_type": "code",
   "execution_count": 2,
   "metadata": {
    "collapsed": true
   },
   "outputs": [],
   "source": [
    "data = cellStruct['sfm']['exp']['trial'];"
   ]
  },
  {
   "cell_type": "markdown",
   "metadata": {},
   "source": [
    "A quick look at spikes versus f1 power"
   ]
  },
  {
   "cell_type": "code",
   "execution_count": 3,
   "metadata": {
    "collapsed": false
   },
   "outputs": [
    {
     "name": "stderr",
     "output_type": "stream",
     "text": [
      "/Users/paulgerald/anaconda3/lib/python3.6/site-packages/matplotlib/font_manager.py:1297: UserWarning: findfont: Font family ['serif'] not found. Falling back to DejaVu Sans\n",
      "  (prop.get_family(), self.defaultFamily[fontext]))\n"
     ]
    },
    {
     "data": {
      "image/png": "[encoded data removed]",
      "text/plain": [
       "<matplotlib.figure.Figure at 0x11a1f3e80>"
      ]
     },
     "metadata": {},
     "output_type": "display_data"
    }
   ],
   "source": [
    "plt.plot(np.abs(data['f1']), np.abs(data['spikeCount']), 'o');\n",
    "plt.xlabel('f1');\n",
    "plt.ylabel('spike count');"
   ]
  },
  {
   "cell_type": "markdown",
   "metadata": {},
   "source": [
    "### Organize data\n",
    "#### determine contrasts, center spatial frequency, dispersions"
   ]
  },
  {
   "cell_type": "code",
   "execution_count": 41,
   "metadata": {
    "collapsed": false
   },
   "outputs": [],
   "source": [
    "data = cellStruct['sfm']['exp']['trial'];\n",
    "\n",
    "resp, stimVals, val_con_by_disp, validByStimVal, mdRsp = helper_fcns.tabulate_responses(cellStruct);\n",
    "\n",
    "all_disps = stimVals[0];\n",
    "all_cons = stimVals[1];\n",
    "all_sfs = stimVals[2];\n",
    "\n",
    "nCons = len(all_cons);\n",
    "nSfs = len(all_sfs);\n",
    "nDisps = len(all_disps);"
   ]
  },
  {
   "cell_type": "markdown",
   "metadata": {},
   "source": [
    "#### Unpack responses"
   ]
  },
  {
   "cell_type": "code",
   "execution_count": 52,
   "metadata": {
    "collapsed": true
   },
   "outputs": [],
   "source": [
    "autoreload.reload(helper_fcns);"
   ]
  },
  {
   "cell_type": "code",
   "execution_count": 53,
   "metadata": {
    "collapsed": true
   },
   "outputs": [],
   "source": [
    "# respMean = resp[0];\n",
    "# respStd = resp[1];\n",
    "predMean = resp[2];\n",
    "predStd = resp[3];\n",
    "respMean = resp[4];\n",
    "respStd = resp[5];\n",
    "predF1mean = resp[6];\n",
    "predF1std = resp[7];\n",
    "rM_summary = np.reshape([np.sum(x) for x in respMean.flatten()], respMean.shape)\n",
    "rS_summary = np.reshape([np.sqrt(np.sum(np.square(x))) for x in respStd.flatten()], respStd.shape)"
   ]
  },
  {
   "cell_type": "code",
   "execution_count": 67,
   "metadata": {
    "collapsed": true
   },
   "outputs": [],
   "source": [
    "z = respMean[1, :, :].flatten()"
   ]
  },
  {
   "cell_type": "code",
   "execution_count": 104,
   "metadata": {
    "collapsed": false
   },
   "outputs": [],
   "source": [
    "zz = [np.max(x) for x in z]"
   ]
  },
  {
   "cell_type": "code",
   "execution_count": null,
   "metadata": {
    "collapsed": true
   },
   "outputs": [],
   "source": []
  },
  {
   "cell_type": "markdown",
   "metadata": {},
   "source": [
    "#### Load descriptive model fits"
   ]
  },
  {
   "cell_type": "code",
   "execution_count": null,
   "metadata": {
    "collapsed": false
   },
   "outputs": [],
   "source": [
    "descrFits = np.load(dataPath + 'descrFits.npy', encoding = 'latin1').item();\n",
    "descrFits = descrFits[which_cell]['params']; # just get this cell"
   ]
  },
  {
   "cell_type": "markdown",
   "metadata": {},
   "source": [
    "### Plots"
   ]
  },
  {
   "cell_type": "markdown",
   "metadata": {},
   "source": [
    "#### Plots by dispersion"
   ]
  },
  {
   "cell_type": "code",
   "execution_count": null,
   "metadata": {
    "collapsed": false
   },
   "outputs": [],
   "source": [
    "fDisp = []; dispAx = [];\n",
    "\n",
    "sfs_plot = np.logspace(np.log10(all_sfs[0]), np.log10(all_sfs[-1]), 100);    \n",
    "\n",
    "for d in range(nDisps):\n",
    "    \n",
    "    v_cons = val_con_by_disp[d];\n",
    "    n_v_cons = len(v_cons);\n",
    "    \n",
    "    fCurr, dispCurr = plt.subplots(n_v_cons, 1, figsize=(40, n_v_cons*10));\n",
    "    fDisp.append(fCurr)\n",
    "    dispAx.append(dispCurr);\n",
    "    \n",
    "    maxResp = np.max(np.max(respMean[d, ~np.isnan(respMean[d, :, :])]));\n",
    "    \n",
    "    for c in reversed(range(n_v_cons)):\n",
    "        c_plt_ind = len(v_cons) - c - 1;\n",
    "        v_sfs = ~np.isnan(respMean[d, :, v_cons[c]]);\n",
    "        \n",
    "        # plot data\n",
    "        dispAx[d][c_plt_ind].errorbar(all_sfs[v_sfs], respMean[d, v_sfs, v_cons[c]], \n",
    "                                      respStd[d, v_sfs, v_cons[c]], fmt='o');\n",
    "        # plot linear prediction\n",
    "        dispAx[d][c_plt_ind].errorbar(all_sfs[v_sfs], predMean[d, v_sfs, v_cons[c]], \n",
    "                                      predStd[d, v_sfs, v_cons[c]], fmt='x');\n",
    "        \n",
    "        # plot descriptive model fit\n",
    "#         curr_mod_params = descrFits[d, v_cons[c], :];\n",
    "        #dispAx[d][c_plt_ind].plot(sfs_plot, helper_fcns.flexible_Gauss(curr_mod_params, sfs_plot))\n",
    "        \n",
    "        dispAx[d][c_plt_ind].set_xlim((min(all_sfs), max(all_sfs)));\n",
    "        dispAx[d][c_plt_ind].set_ylim((0, 1.5*maxResp));\n",
    "        \n",
    "        dispAx[d][c_plt_ind].set_xscale('log');\n",
    "#         dispAx[d][c].set_yscale('log');\n",
    "        dispAx[d][c_plt_ind].set_xlabel('sf (c/deg)'); \n",
    "        dispAx[d][c_plt_ind].set_ylabel('resp (sps)');\n",
    "        dispAx[d][c_plt_ind].set_title('D%d: contrast: %.3f' % (d+1, all_cons[v_cons[c]]));\n",
    "\n",
    "\n",
    "saveName = \"/cell_%d.pdf\" % (which_cell+1)\n",
    "full_save = os.path.dirname(str(save_loc + 'byDisp/'));\n",
    "if not os.path.exists(full_save):\n",
    "    os.makedirs(full_save)\n",
    "pdfSv = pltSave.PdfPages(full_save + saveName);\n",
    "for f in fDisp:\n",
    "    pdfSv.savefig(f)\n",
    "pdfSv.close()\n"
   ]
  },
  {
   "cell_type": "markdown",
   "metadata": {},
   "source": [
    "#### Plot just sfMix contrasts"
   ]
  },
  {
   "cell_type": "code",
   "execution_count": null,
   "metadata": {
    "collapsed": false
   },
   "outputs": [],
   "source": [
    "# i.e. highest (up to) 4 contrasts for each dispersion\n",
    "\n",
    "plot_descr = 0;\n",
    "\n",
    "mixCons = 4;\n",
    "maxResp = np.max(np.max(np.max(respMean[~np.isnan(respMean)])));\n",
    "\n",
    "f, sfMixAx = plt.subplots(mixCons, nDisps, figsize=(40, 30));\n",
    "\n",
    "sfs_plot = np.logspace(np.log10(all_sfs[0]), np.log10(all_sfs[-1]), 100);\n",
    "\n",
    "for d in range(nDisps):\n",
    "    v_cons = np.array(val_con_by_disp[d]);\n",
    "    n_v_cons = len(v_cons);\n",
    "    v_cons = v_cons[np.arange(np.maximum(0, n_v_cons -mixCons), n_v_cons)]; # max(1, .) for when there are fewer contrasts than 4\n",
    "    n_v_cons = len(v_cons);\n",
    "    \n",
    "    for c in reversed(range(n_v_cons)):\n",
    "        c_plt_ind = n_v_cons - c - 1;\n",
    "        sfMixAx[c_plt_ind, d].set_title('con:' + str(np.round(all_cons[v_cons[c]], 2)))\n",
    "        v_sfs = ~np.isnan(respMean[d, :, v_cons[c]]);\n",
    "        \n",
    "        # plot data\n",
    "        sfMixAx[c_plt_ind, d].errorbar(all_sfs[v_sfs], respMean[d, v_sfs, v_cons[c]], \n",
    "                                       respStd[d, v_sfs, v_cons[c]], fmt='o');\n",
    "\n",
    "        # plot linear prediction\n",
    "        sfMixAx[c_plt_ind, d].errorbar(all_sfs[v_sfs], predMean[d, v_sfs, v_cons[c]], \n",
    "                                      predStd[d, v_sfs, v_cons[c]], fmt='x');\n",
    "        \n",
    "        # plot descriptive model fit\n",
    "        if plot_descr:\n",
    "            curr_mod_params = descrFits[d, v_cons[c], :];\n",
    "        #sfMixAx[c_plt_ind, d].plot(sfs_plot, helper_fcns.flexible_Gauss(curr_mod_params, sfs_plot))\n",
    "\n",
    "        sfMixAx[c_plt_ind, d].set_xlim((np.min(all_sfs), np.max(all_sfs)));\n",
    "        sfMixAx[c_plt_ind, d].set_ylim((0, 1.5*maxResp));\n",
    "        sfMixAx[c_plt_ind, d].set_xscale('log');\n",
    "        sfMixAx[c_plt_ind, d].set_xlabel('sf (c/deg)');\n",
    "        sfMixAx[c_plt_ind, d].set_ylabel('resp (sps)');\n",
    "        \n",
    "saveName = \"/cell_%d.pdf\" % (which_cell+1)\n",
    "full_save = os.path.dirname(str(save_loc + 'sfMixOnly/'));\n",
    "if not os.path.exists(full_save):\n",
    "    os.makedirs(full_save)\n",
    "pdfSv = pltSave.PdfPages(full_save + saveName);\n",
    "pdfSv.savefig(f) # only one figure here...\n",
    "pdfSv.close()"
   ]
  },
  {
   "cell_type": "markdown",
   "metadata": {},
   "source": [
    "#### Plot contrast response functions"
   ]
  },
  {
   "cell_type": "code",
   "execution_count": null,
   "metadata": {
    "collapsed": false
   },
   "outputs": [],
   "source": [
    "crfAx = []; fCRF = [];\n",
    "\n",
    "for d in range(nDisps):\n",
    "    \n",
    "    # which sfs have at least one contrast presentation?\n",
    "    v_sfs = np.where(np.sum(~np.isnan(respMean[d, :, :]), axis = 1) > 0);\n",
    "    n_v_sfs = len(v_sfs[0])\n",
    "    fCurr, crfCurr = plt.subplots(1, n_v_sfs, figsize=(n_v_sfs*15, 20), sharex = True, sharey = True);\n",
    "    fCRF.append(fCurr)\n",
    "    crfAx.append(crfCurr);\n",
    "    \n",
    "    for sf in range(n_v_sfs):\n",
    "        sf_ind = v_sfs[0][sf];\n",
    "        v_cons = ~np.isnan(respMean[d, sf_ind, :]);\n",
    "        n_cons = sum(v_cons);\n",
    "        \n",
    "        # 0.1 minimum to keep plot axis range OK...should find alternative\n",
    "        crfAx[d][sf].errorbar(all_cons[v_cons], np.maximum(np.reshape([respMean[d, sf_ind, v_cons]], (n_cons, )), 0.1),\n",
    "                            np.reshape([respStd[d, sf_ind, v_cons]], (n_cons, )), fmt='o');\n",
    "        crfAx[d][sf].set_xscale('log');\n",
    "        crfAx[d][sf].set_yscale('log');\n",
    "        crfAx[d][sf].set_xlabel('contrast');\n",
    "        crfAx[d][sf].set_ylabel('resp (sps)');\n",
    "        crfAx[d][sf].set_title('D%d: sf: %.3f' % (d+1, all_sfs[sf_ind]));\n",
    "\n",
    "saveName = \"/cell_%d.pdf\" % (which_cell+1)\n",
    "full_save = os.path.dirname(str(save_loc + 'CRF/'));\n",
    "if not os.path.exists(full_save):\n",
    "    os.makedirs(full_save)\n",
    "pdfSv = pltSave.PdfPages(full_save + saveName);\n",
    "for f in fCRF:\n",
    "    pdfSv.savefig(f)\n",
    "pdfSv.close()"
   ]
  },
  {
   "cell_type": "markdown",
   "metadata": {},
   "source": [
    "### Fourier analysis"
   ]
  },
  {
   "cell_type": "code",
   "execution_count": 489,
   "metadata": {
    "collapsed": true
   },
   "outputs": [],
   "source": [
    "autoreload.reload(helper_fcns);"
   ]
  },
  {
   "cell_type": "markdown",
   "metadata": {},
   "source": [
    "Section for testing out Fourier analysis in python - create a PSTH from the spike times and take the Fourier transform to determine the response amplitude at a given frequency. We will looking specifically for responses at the stimulus temporal frequencies. "
   ]
  },
  {
   "cell_type": "markdown",
   "metadata": {},
   "source": [
    "First, find out which trials are valid (i.e. not blanks)"
   ]
  },
  {
   "cell_type": "code",
   "execution_count": 490,
   "metadata": {
    "collapsed": true
   },
   "outputs": [],
   "source": [
    "val_trials = np.where(~np.isnan(data['tf'][0]))[0];"
   ]
  },
  {
   "cell_type": "markdown",
   "metadata": {},
   "source": [
    "Sort the data in terms of which trials have the largest f1 component"
   ]
  },
  {
   "cell_type": "code",
   "execution_count": 491,
   "metadata": {
    "collapsed": true
   },
   "outputs": [],
   "source": [
    "b = np.argsort(np.abs(data['f1'][val_trials]))"
   ]
  },
  {
   "cell_type": "markdown",
   "metadata": {},
   "source": [
    "Now which of those indices correspond to dispersed gratings (just so it's easier to check)"
   ]
  },
  {
   "cell_type": "code",
   "execution_count": 492,
   "metadata": {
    "collapsed": false
   },
   "outputs": [
    {
     "data": {
      "text/plain": [
       "array([204, 320, 347, 376, 385, 388, 403, 410, 420, 444, 457, 458, 463,\n",
       "       468, 474, 475, 476, 483, 484, 509, 510, 522, 525, 529, 533, 536,\n",
       "       538, 542, 546, 548, 552, 554, 558, 562, 566, 569, 576, 581, 586,\n",
       "       588, 598, 604, 606, 608, 609, 610, 615, 628, 630, 631, 632, 637,\n",
       "       644, 647, 652, 656, 660, 661, 665, 667, 671, 678, 679, 680, 685,\n",
       "       688, 689, 690, 695, 701, 702, 705, 714, 718, 719, 721, 732, 744,\n",
       "       754, 759, 765, 766, 767, 768, 773, 774, 776, 782, 788, 820])"
      ]
     },
     "execution_count": 492,
     "metadata": {},
     "output_type": "execute_result"
    }
   ],
   "source": [
    "np.where(data['num_comps'][val_trials][b] == 5)[0]"
   ]
  },
  {
   "cell_type": "markdown",
   "metadata": {},
   "source": [
    "Organize the temporal frequencies for each (valid) trial"
   ]
  },
  {
   "cell_type": "code",
   "execution_count": 520,
   "metadata": {
    "collapsed": true
   },
   "outputs": [],
   "source": [
    "sp = np.array(np.nan * np.zeros(900, ), dtype='O')"
   ]
  },
  {
   "cell_type": "code",
   "execution_count": 528,
   "metadata": {
    "collapsed": false
   },
   "outputs": [
    {
     "data": {
      "text/plain": [
       "4"
      ]
     },
     "execution_count": 528,
     "metadata": {},
     "output_type": "execute_result"
    }
   ],
   "source": [
    "sp[5]"
   ]
  },
  {
   "cell_type": "code",
   "execution_count": 519,
   "metadata": {
    "collapsed": false
   },
   "outputs": [
    {
     "data": {
      "text/plain": [
       "dtype('float64')"
      ]
     },
     "execution_count": 519,
     "metadata": {},
     "output_type": "execute_result"
    }
   ],
   "source": [
    "bbbb.dtype"
   ]
  },
  {
   "cell_type": "code",
   "execution_count": 493,
   "metadata": {
    "collapsed": false
   },
   "outputs": [],
   "source": [
    "bbbb = np.vstack((data['tf'][0], data['tf'][1], data['tf'][2], data['tf'][3], data['tf'][4]));\n",
    "all_all_tfs = np.transpose(bbbb)[val_trials];\n",
    "all_tfs = all_all_tfs.astype(int)\n",
    "atz = [[x[0]] if x[0] == x[1] else x for x in all_tfs];"
   ]
  },
  {
   "cell_type": "markdown",
   "metadata": {},
   "source": [
    "Now do the analysis: create psth, fourier transform"
   ]
  },
  {
   "cell_type": "code",
   "execution_count": 495,
   "metadata": {
    "collapsed": true
   },
   "outputs": [],
   "source": [
    "binWidth = 1e-3; # in s\n",
    "whichInd = 890; # which index into \"b\"\n",
    "stimDur = 1; # in s"
   ]
  },
  {
   "cell_type": "code",
   "execution_count": 496,
   "metadata": {
    "collapsed": false
   },
   "outputs": [],
   "source": [
    "psth_blank, _ = helper_fcns.make_psth(binWidth, stimDur, allSpikes);\n",
    "spect_blank, _ = helper_fcns.spike_fft(psth_blank);"
   ]
  },
  {
   "cell_type": "code",
   "execution_count": 497,
   "metadata": {
    "collapsed": true
   },
   "outputs": [],
   "source": [
    "psth, _ = helper_fcns.make_psth(binWidth, stimDur, allSpikes[val_trials]);\n",
    "psth_abbr = [x[50:] for x in psth];"
   ]
  },
  {
   "cell_type": "code",
   "execution_count": 511,
   "metadata": {
    "collapsed": false
   },
   "outputs": [
    {
     "data": {
      "text/plain": [
       "array([34.12434186, 14.45664844,  5.62609282,  4.48807985,  2.01222224])"
      ]
     },
     "execution_count": 511,
     "metadata": {},
     "output_type": "execute_result"
    }
   ],
   "source": [
    "rel_power[b[820]]"
   ]
  },
  {
   "cell_type": "code",
   "execution_count": 498,
   "metadata": {
    "collapsed": false
   },
   "outputs": [
    {
     "ename": "ValueError",
     "evalue": "The truth value of an array with more than one element is ambiguous. Use a.any() or a.all()",
     "output_type": "error",
     "traceback": [
      "\u001b[0;31m---------------------------------------------------------------------------\u001b[0m",
      "\u001b[0;31mValueError\u001b[0m                                Traceback (most recent call last)",
      "\u001b[0;32m<ipython-input-498-4dc0d06bd406>\u001b[0m in \u001b[0;36m<module>\u001b[0;34m()\u001b[0m\n\u001b[1;32m      1\u001b[0m \u001b[0mspect\u001b[0m\u001b[0;34m,\u001b[0m \u001b[0mrel_power\u001b[0m \u001b[0;34m=\u001b[0m \u001b[0mhelper_fcns\u001b[0m\u001b[0;34m.\u001b[0m\u001b[0mspike_fft\u001b[0m\u001b[0;34m(\u001b[0m\u001b[0mpsth\u001b[0m\u001b[0;34m,\u001b[0m \u001b[0matz\u001b[0m\u001b[0;34m)\u001b[0m\u001b[0;34m;\u001b[0m\u001b[0;34m\u001b[0m\u001b[0m\n\u001b[0;32m----> 2\u001b[0;31m \u001b[0mspect_abbr\u001b[0m\u001b[0;34m,\u001b[0m \u001b[0mrel_power_abbr\u001b[0m \u001b[0;34m=\u001b[0m \u001b[0mhelper_fcns\u001b[0m\u001b[0;34m.\u001b[0m\u001b[0mspike_fft\u001b[0m\u001b[0;34m(\u001b[0m\u001b[0mpsth_abbr\u001b[0m\u001b[0;34m,\u001b[0m \u001b[0mall_tfs\u001b[0m\u001b[0;34m)\u001b[0m\u001b[0;34m;\u001b[0m\u001b[0;34m\u001b[0m\u001b[0m\n\u001b[0m",
      "\u001b[0;32m/Users/paulgerald/work/sfDiversity/sfDiv-OriModel/sfDiv-python/LGN/analysis/functions/helper_fcns.py\u001b[0m in \u001b[0;36mspike_fft\u001b[0;34m(psth, tfs)\u001b[0m\n\u001b[1;32m     84\u001b[0m     \u001b[0mspectrum\u001b[0m \u001b[0;34m=\u001b[0m \u001b[0;34m[\u001b[0m\u001b[0mnp\u001b[0m\u001b[0;34m.\u001b[0m\u001b[0mabs\u001b[0m\u001b[0;34m(\u001b[0m\u001b[0mnp\u001b[0m\u001b[0;34m.\u001b[0m\u001b[0mfft\u001b[0m\u001b[0;34m.\u001b[0m\u001b[0mfft\u001b[0m\u001b[0;34m(\u001b[0m\u001b[0mx\u001b[0m\u001b[0;34m)\u001b[0m\u001b[0;34m)\u001b[0m \u001b[0;32mfor\u001b[0m \u001b[0mx\u001b[0m \u001b[0;32min\u001b[0m \u001b[0mpsth\u001b[0m\u001b[0;34m]\u001b[0m\u001b[0;34m;\u001b[0m\u001b[0;34m\u001b[0m\u001b[0m\n\u001b[1;32m     85\u001b[0m \u001b[0;34m\u001b[0m\u001b[0m\n\u001b[0;32m---> 86\u001b[0;31m     \u001b[0;32mif\u001b[0m \u001b[0mtfs\u001b[0m\u001b[0;34m:\u001b[0m\u001b[0;34m\u001b[0m\u001b[0m\n\u001b[0m\u001b[1;32m     87\u001b[0m       \u001b[0mrel_power\u001b[0m \u001b[0;34m=\u001b[0m \u001b[0;34m[\u001b[0m\u001b[0mspectrum\u001b[0m\u001b[0;34m[\u001b[0m\u001b[0mi\u001b[0m\u001b[0;34m]\u001b[0m\u001b[0;34m[\u001b[0m\u001b[0mtfs\u001b[0m\u001b[0;34m[\u001b[0m\u001b[0mi\u001b[0m\u001b[0;34m]\u001b[0m\u001b[0;34m]\u001b[0m \u001b[0;32mfor\u001b[0m \u001b[0mi\u001b[0m \u001b[0;32min\u001b[0m \u001b[0mrange\u001b[0m\u001b[0;34m(\u001b[0m\u001b[0mlen\u001b[0m\u001b[0;34m(\u001b[0m\u001b[0mtfs\u001b[0m\u001b[0;34m)\u001b[0m\u001b[0;34m)\u001b[0m\u001b[0;34m]\u001b[0m\u001b[0;34m;\u001b[0m\u001b[0;34m\u001b[0m\u001b[0m\n\u001b[1;32m     88\u001b[0m     \u001b[0;32melse\u001b[0m\u001b[0;34m:\u001b[0m\u001b[0;34m\u001b[0m\u001b[0m\n",
      "\u001b[0;31mValueError\u001b[0m: The truth value of an array with more than one element is ambiguous. Use a.any() or a.all()"
     ]
    }
   ],
   "source": [
    "spect, rel_power = helper_fcns.spike_fft(psth, atz);\n",
    "spect_abbr, rel_power_abbr = helper_fcns.spike_fft(psth_abbr, all_tfs);"
   ]
  },
  {
   "cell_type": "code",
   "execution_count": 417,
   "metadata": {
    "collapsed": false
   },
   "outputs": [
    {
     "name": "stderr",
     "output_type": "stream",
     "text": [
      "/Users/paulgerald/anaconda3/lib/python3.6/site-packages/ipykernel/__main__.py:5: DeprecationWarning: object of type <class 'float'> cannot be safely interpreted as an integer.\n"
     ]
    }
   ],
   "source": [
    "allSpikes = data['spikeTimes'];\n",
    "valInd = b[whichInd];\n",
    "trial = val_trials[valInd];\n",
    "\n",
    "times = np.linspace(0, stimDur, 1+stimDur/binWidth);\n",
    "c1 = []; c2 = []; c3 = []; c4 = []; c5 = [];\n",
    "\n",
    "sfs_curr = [x[trial] for x in data['sf']];\n",
    "cons_curr = [x[trial] for x in data['con']];\n",
    "\n",
    "tfs_curr = all_tfs[valInd]; # index the below separately, since we've already \"killed\" invalid trials from this \n",
    "psth_curr = psth[valInd];\n",
    "spect_curr = spect[valInd];\n",
    "rel_power_curr = rel_power[valInd];\n",
    "\n",
    "psth_abbr_curr = psth_abbr[valInd]; \n",
    "spect_abbr_curr = spect_abbr[valInd];\n",
    "rp_abbr_curr = rel_power_abbr[valInd];\n",
    "\n",
    "nyquist = int(len(spectrum)/2);\n",
    "crop_fft = int(np.minimum(nyquist, 3*np.max(tfsCurr)));"
   ]
  },
  {
   "cell_type": "code",
   "execution_count": null,
   "metadata": {
    "collapsed": true
   },
   "outputs": [],
   "source": []
  },
  {
   "cell_type": "code",
   "execution_count": 448,
   "metadata": {
    "collapsed": false
   },
   "outputs": [
    {
     "name": "stderr",
     "output_type": "stream",
     "text": [
      "/Users/paulgerald/anaconda3/lib/python3.6/site-packages/matplotlib/font_manager.py:1297: UserWarning: findfont: Font family ['serif'] not found. Falling back to DejaVu Sans\n",
      "  (prop.get_family(), self.defaultFamily[fontext]))\n"
     ]
    },
    {
     "data": {
      "image/png": "[encoded data removed]",
      "text/plain": [
       "<matplotlib.figure.Figure at 0x1146f7748>"
      ]
     },
     "metadata": {},
     "output_type": "display_data"
    }
   ],
   "source": [
    "f, ax = plt.subplots(1, 3, figsize=(20, 4))\n",
    "\n",
    "plt.subplot(1, 3, 1);\n",
    "plt.plot(times[0:-1], psth_blank);\n",
    "# plt.plot(times[0:-1], psth_curr);\n",
    "# plt.plot(times[0:-1], psth);\n",
    "plt.xlabel('time (s)');\n",
    "plt.ylabel('spikes (count)')\n",
    "\n",
    "plt.subplot(1, 3, 2);\n",
    "plt.stem(np.abs(spect_blank[0:crop_fft]), alpha=0.4);\n",
    "# plt.stem(np.abs(spect_curr[0:crop_fft]), alpha=0.4);\n",
    "# plt.stem(np.abs(spect_abbr_curr[0:crop_fft]), alpha=0.4, color='r');\n",
    "c1 = plt.axvline(tfs_curr[0], ls='dashed', color='k');\n",
    "if data['num_comps'][trial] > 1:\n",
    "    c2 = plt.axvline(tfs_curr[1], ls='dashed', color='r')\n",
    "    c3 = plt.axvline(tfs_curr[2], ls='dashed', color='g')\n",
    "    c4 = plt.axvline(tfs_curr[3], ls='dashed', color='b')\n",
    "    c5 = plt.axvline(tfs_curr[4], ls='dashed', color='c')\n",
    "    \n",
    "plt.xlabel('temporal frequency (hz)');\n",
    "plt.ylabel('power')\n",
    "if not c2:\n",
    "    plt.legend([c1], ['stimulus TF'])\n",
    "else:\n",
    "    plt.legend((c1, c2, c3, c4, c5), ('tf1', 'tf2', 'tf3', 'tf4', 'tf5'));\n",
    "\n",
    "plt.subplot(1, 3, 3);\n",
    "if c2:\n",
    "    full = plt.plot(np.arange(6), np.insert(rel_power_curr, 0, spect_curr[0]), 'o'); # to plot the DC\n",
    "#     abbr = plt.plot(np.arange(6), np.insert(rp_abbr_curr, 0, spect_abbr_curr[0]), 'o'); # to plot the DC\n",
    "    plt.xticks(np.arange(6), ('DC', 'tf1', 'tf2', 'tf3', 'tf4', 'tf5'))\n",
    "    plt.xlim([-1, 7])\n",
    "else:\n",
    "    full = plt.plot(np.arange(2), [spect_curr[0], rel_power_curr[0]], 'o');\n",
    "#     abbr = plt.plot(np.arange(2), [spect_abbr_curr[0], rp_abbr_curr[0]], 'o');\n",
    "    plt.xticks(np.arange(2), ('DC', 'f1'))\n",
    "    plt.xlim([-1, 3])\n",
    "    \n",
    "plt.xlabel('Stimulus component');\n",
    "plt.ylabel('Power');\n",
    "plt.ylim([-0.1*spect_curr[0], 1.1*spect_curr[0]]);\n",
    "# plt.legend((full[0], abbr[0]), ('full', 'abbreviated'));\n",
    "\n",
    "plt.suptitle('%s #%d, tr %d: (sf, con, tf, d) = (%.2f, %.2f, %d, %d)' % (dataList['unitType'][which_cell], which_cell+1, trial+1,\n",
    "                                                                    sfs_curr[0], np.sum(cons_curr), tfs_curr[0], data['num_comps'][trial]));"
   ]
  },
  {
   "cell_type": "code",
   "execution_count": null,
   "metadata": {
    "collapsed": true
   },
   "outputs": [],
   "source": []
  },
  {
   "cell_type": "code",
   "execution_count": null,
   "metadata": {
    "collapsed": true
   },
   "outputs": [],
   "source": []
  },
  {
   "cell_type": "code",
   "execution_count": null,
   "metadata": {
    "collapsed": true
   },
   "outputs": [],
   "source": []
  }
 ],
 "metadata": {
  "kernelspec": {
   "display_name": "Python 3",
   "language": "python",
   "name": "python3"
  },
  "language_info": {
   "codemirror_mode": {
    "name": "ipython",
    "version": 3
   },
   "file_extension": ".py",
   "mimetype": "text/x-python",
   "name": "python",
   "nbconvert_exporter": "python",
   "pygments_lexer": "ipython3",
   "version": "3.6.0"
  }
 },
 "nbformat": 4,
 "nbformat_minor": 2
}
