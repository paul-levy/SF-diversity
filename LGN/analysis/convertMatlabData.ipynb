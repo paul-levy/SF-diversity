{
 "cells": [
  {
   "cell_type": "markdown",
   "metadata": {},
   "source": [
    "# Converting matlab data into python"
   ]
  },
  {
   "cell_type": "code",
   "execution_count": 15,
   "metadata": {
    "collapsed": false
   },
   "outputs": [],
   "source": [
    "import numpy as np\n",
    "import math, os\n",
    "import sys\n",
    "sys.path.insert(0, 'functions/'); # add this path for makeStimulus\n",
    "import makeStimulus\n",
    "import model_responses\n",
    "import autoreload\n",
    "\n",
    "import pdb\n",
    "\n",
    "# constants - directories\n",
    "loc_matData = '/arc/2.2/p1/plevy/SF_diversity/sfDiv-OriModel/sfDiv-python/LGN/data/sfMixLGN/matlab/';\n",
    "loc_pyData = '/arc/2.2/p1/plevy/SF_diversity/sfDiv-OriModel/sfDiv-python/LGN/data/sfMixLGN/';\n",
    "# loc_matData = '/Users/paulgerald/work/sfDiversity/sfDiv-OriModel/sfDiv-python/LGN/data/sfMixLGN/';\n",
    "# loc_pyData = '/Users/paulgerald/work/sfDiversity/sfDiv-OriModel/sfDiv-python/LGN/data/sfMixLGN/';"
   ]
  },
  {
   "cell_type": "code",
   "execution_count": 10,
   "metadata": {
    "collapsed": false
   },
   "outputs": [],
   "source": [
    "autoreload.reload(model_responses);"
   ]
  },
  {
   "cell_type": "markdown",
   "metadata": {},
   "source": [
    "## The original conversion"
   ]
  },
  {
   "cell_type": "markdown",
   "metadata": {},
   "source": [
    "### Converting files"
   ]
  },
  {
   "cell_type": "markdown",
   "metadata": {},
   "source": [
    "First, get the .mat files to convert; then, convert unless already done "
   ]
  },
  {
   "cell_type": "code",
   "execution_count": 16,
   "metadata": {
    "collapsed": false
   },
   "outputs": [],
   "source": [
    "files = os.listdir(loc_matData)"
   ]
  },
  {
   "cell_type": "code",
   "execution_count": 17,
   "metadata": {
    "collapsed": false
   },
   "outputs": [
    {
     "data": {
      "text/plain": [
       "['m675r4_sfm.mat',\n",
       " 'm675r6_sfm.mat',\n",
       " 'm675r8_sfm.mat',\n",
       " 'm675r13_sfm.mat',\n",
       " 'm675r15_sfm.mat',\n",
       " 'm675r16_sfm.mat',\n",
       " 'm675r17_sfm.mat',\n",
       " 'm675r18_sfm.mat',\n",
       " 'm675r19_sfm.mat',\n",
       " 'm675r20_sfm.mat',\n",
       " 'm675r21_sfm.mat',\n",
       " 'm675r22_sfm.mat',\n",
       " 'm675r23_sfm.mat',\n",
       " 'm675r24_sfm.mat',\n",
       " 'm675r26_sfm.mat',\n",
       " 'm675r27_sfm.mat',\n",
       " 'm675r32_sfm.mat',\n",
       " 'm675r33_sfm.mat',\n",
       " 'm675r36_sfm.mat',\n",
       " 'm675r37_sfm.mat',\n",
       " 'm675r38_sfm.mat',\n",
       " 'm675r39_sfm.mat',\n",
       " 'm675r40_sfm.mat',\n",
       " 'm675r42_sfm.mat',\n",
       " 'm675r43_sfm.mat',\n",
       " 'm675r45_sfm.mat',\n",
       " 'm675r47_sfm.mat',\n",
       " 'm675r48_sfm.mat',\n",
       " 'm675r49_sfm.mat',\n",
       " 'm675r50_sfm.mat',\n",
       " 'm675r51_sfm.mat',\n",
       " 'm675r52_sfm.mat',\n",
       " 'm675r54_sfm.mat',\n",
       " 'm675r56_sfm.mat',\n",
       " 'm675r13_sfm_fullWave.mat',\n",
       " 'm675r15_sfm_fullWave.mat',\n",
       " 'm675r16_sfm_fullWave.mat',\n",
       " 'm675r17_sfm_fullWave.mat',\n",
       " 'm675r4_sfm_fullWave.mat',\n",
       " 'm675r18_sfm_fullWave.mat',\n",
       " 'm675r19_sfm_fullWave.mat',\n",
       " 'm675r20_sfm_fullWave.mat',\n",
       " 'm675r21_sfm_fullWave.mat',\n",
       " 'm675r22_sfm_fullWave.mat',\n",
       " 'm675r23_sfm_fullWave.mat',\n",
       " 'm675r24_sfm_fullWave.mat',\n",
       " 'm675r26_sfm_fullWave.mat',\n",
       " 'm675r27_sfm_fullWave.mat',\n",
       " 'm675r32_sfm_fullWave.mat',\n",
       " 'm675r33_sfm_fullWave.mat',\n",
       " 'm675r36_sfm_fullWave.mat',\n",
       " 'm675r37_sfm_fullWave.mat',\n",
       " 'm675r38_sfm_fullWave.mat',\n",
       " 'm675r39_sfm_fullWave.mat',\n",
       " 'm675r40_sfm_fullWave.mat',\n",
       " 'm675r42_sfm_fullWave.mat',\n",
       " 'm675r43_sfm_fullWave.mat',\n",
       " 'm675r45_sfm_fullWave.mat',\n",
       " 'm675r47_sfm_fullWave.mat',\n",
       " 'm675r48_sfm_fullWave.mat',\n",
       " 'm675r49_sfm_fullWave.mat',\n",
       " 'm675r50_sfm_fullWave.mat',\n",
       " 'm675r51_sfm_fullWave.mat',\n",
       " 'm675r52_sfm_fullWave.mat',\n",
       " 'm675r54_sfm_fullWave.mat',\n",
       " 'm675r56_sfm_fullWave.mat',\n",
       " 'm675r6_sfm_fullWave.mat',\n",
       " 'm675r8_sfm_fullWave.mat']"
      ]
     },
     "execution_count": 17,
     "metadata": {},
     "output_type": "execute_result"
    }
   ],
   "source": [
    "files"
   ]
  },
  {
   "cell_type": "code",
   "execution_count": 18,
   "metadata": {
    "collapsed": false
   },
   "outputs": [],
   "source": [
    "for i in files:\n",
    "    if i.find('#') >= 0:\n",
    "#         os.rename(loc_matData + i, loc_matData + i.replace('#', ''))\n",
    "        print('renaming %s to %s' % (loc_matData + i, loc_matData + i.replace('#', '')))\n"
   ]
  },
  {
   "cell_type": "code",
   "execution_count": 19,
   "metadata": {
    "collapsed": false
   },
   "outputs": [
    {
     "name": "stdout",
     "output_type": "stream",
     "text": [
      "loading: m675r4_sfm.mat\n",
      "now saving...\n",
      "loading: m675r6_sfm.mat\n",
      "now saving...\n",
      "loading: m675r8_sfm.mat\n",
      "now saving...\n",
      "loading: m675r13_sfm.mat\n",
      "now saving...\n",
      "loading: m675r15_sfm.mat\n",
      "now saving...\n",
      "loading: m675r16_sfm.mat\n",
      "now saving...\n",
      "loading: m675r17_sfm.mat\n",
      "now saving...\n",
      "loading: m675r18_sfm.mat\n",
      "now saving...\n",
      "loading: m675r19_sfm.mat\n",
      "now saving...\n",
      "loading: m675r20_sfm.mat\n",
      "now saving...\n",
      "loading: m675r21_sfm.mat\n",
      "now saving...\n",
      "loading: m675r22_sfm.mat\n",
      "now saving...\n",
      "loading: m675r23_sfm.mat\n",
      "now saving...\n",
      "loading: m675r24_sfm.mat\n",
      "now saving...\n",
      "loading: m675r26_sfm.mat\n",
      "now saving...\n",
      "loading: m675r27_sfm.mat\n",
      "now saving...\n",
      "loading: m675r32_sfm.mat\n",
      "now saving...\n",
      "loading: m675r33_sfm.mat\n",
      "now saving...\n",
      "loading: m675r36_sfm.mat\n",
      "now saving...\n",
      "loading: m675r37_sfm.mat\n",
      "now saving...\n",
      "loading: m675r38_sfm.mat\n",
      "now saving...\n",
      "loading: m675r39_sfm.mat\n",
      "now saving...\n",
      "loading: m675r40_sfm.mat\n",
      "now saving...\n",
      "loading: m675r42_sfm.mat\n",
      "now saving...\n",
      "loading: m675r43_sfm.mat\n",
      "now saving...\n",
      "loading: m675r45_sfm.mat\n",
      "now saving...\n",
      "loading: m675r47_sfm.mat\n",
      "now saving...\n",
      "loading: m675r48_sfm.mat\n",
      "now saving...\n",
      "loading: m675r49_sfm.mat\n",
      "now saving...\n",
      "loading: m675r50_sfm.mat\n",
      "now saving...\n",
      "loading: m675r51_sfm.mat\n",
      "now saving...\n",
      "loading: m675r52_sfm.mat\n",
      "now saving...\n",
      "loading: m675r54_sfm.mat\n",
      "now saving...\n",
      "loading: m675r56_sfm.mat\n",
      "now saving...\n",
      "loading: m675r33_sfm_fullWave.mat\n",
      "now saving...\n",
      "loading: m675r36_sfm_fullWave.mat\n",
      "now saving...\n",
      "loading: m675r37_sfm_fullWave.mat\n",
      "now saving...\n",
      "loading: m675r38_sfm_fullWave.mat\n",
      "now saving...\n",
      "loading: m675r39_sfm_fullWave.mat\n",
      "now saving...\n",
      "loading: m675r40_sfm_fullWave.mat\n",
      "now saving...\n",
      "loading: m675r42_sfm_fullWave.mat\n",
      "now saving...\n",
      "loading: m675r43_sfm_fullWave.mat\n",
      "now saving...\n",
      "loading: m675r45_sfm_fullWave.mat\n",
      "now saving...\n",
      "loading: m675r47_sfm_fullWave.mat\n",
      "now saving...\n",
      "loading: m675r48_sfm_fullWave.mat\n",
      "now saving...\n",
      "loading: m675r49_sfm_fullWave.mat\n",
      "now saving...\n",
      "loading: m675r50_sfm_fullWave.mat\n",
      "now saving...\n",
      "loading: m675r51_sfm_fullWave.mat\n",
      "now saving...\n",
      "loading: m675r52_sfm_fullWave.mat\n",
      "now saving...\n",
      "loading: m675r54_sfm_fullWave.mat\n",
      "now saving...\n",
      "loading: m675r56_sfm_fullWave.mat\n",
      "now saving...\n"
     ]
    }
   ],
   "source": [
    "# convert individual files\n",
    "unitName = [];\n",
    "for i in files:\n",
    "    # if file has 'sfm' in it and starts with m then \n",
    "    if i.find('sfm') >= 0 and i.startswith('m'):\n",
    "        \n",
    "        # don't convert if it already exists\n",
    "        if os.path.exists(loc_pyData + i.replace('.mat', '.npy')):\n",
    "            if i.endswith('.npy'): # only add once (not also with .mat)\n",
    "                unitName.append(i[0:i.find('_')]) # go up to the '_' character\n",
    "            continue;\n",
    "                \n",
    "        print(\"loading: \" + i)\n",
    "        matData = makeStimulus.loadmat(loc_matData + i);\n",
    "        S = matData.get('S'); # the actual data structure\n",
    "        \n",
    "        print(\"now saving...\")\n",
    "        saveName = loc_pyData + i.replace('.mat', '.npy');\n",
    "        np.save(saveName, S)\n",
    "        \n",
    "        unitName.append(i[0:i.find('_')]) # go up to the '_' character"
   ]
  },
  {
   "cell_type": "code",
   "execution_count": 20,
   "metadata": {
    "collapsed": false
   },
   "outputs": [
    {
     "data": {
      "text/plain": [
       "['m675r4',\n",
       " 'm675r6',\n",
       " 'm675r8',\n",
       " 'm675r13',\n",
       " 'm675r15',\n",
       " 'm675r16',\n",
       " 'm675r17',\n",
       " 'm675r18',\n",
       " 'm675r19',\n",
       " 'm675r20',\n",
       " 'm675r21',\n",
       " 'm675r22',\n",
       " 'm675r23',\n",
       " 'm675r24',\n",
       " 'm675r26',\n",
       " 'm675r27',\n",
       " 'm675r32',\n",
       " 'm675r33',\n",
       " 'm675r36',\n",
       " 'm675r37',\n",
       " 'm675r38',\n",
       " 'm675r39',\n",
       " 'm675r40',\n",
       " 'm675r42',\n",
       " 'm675r43',\n",
       " 'm675r45',\n",
       " 'm675r47',\n",
       " 'm675r48',\n",
       " 'm675r49',\n",
       " 'm675r50',\n",
       " 'm675r51',\n",
       " 'm675r52',\n",
       " 'm675r54',\n",
       " 'm675r56',\n",
       " 'm675r33',\n",
       " 'm675r36',\n",
       " 'm675r37',\n",
       " 'm675r38',\n",
       " 'm675r39',\n",
       " 'm675r40',\n",
       " 'm675r42',\n",
       " 'm675r43',\n",
       " 'm675r45',\n",
       " 'm675r47',\n",
       " 'm675r48',\n",
       " 'm675r49',\n",
       " 'm675r50',\n",
       " 'm675r51',\n",
       " 'm675r52',\n",
       " 'm675r54',\n",
       " 'm675r56']"
      ]
     },
     "execution_count": 20,
     "metadata": {},
     "output_type": "execute_result"
    }
   ],
   "source": [
    "unitName"
   ]
  },
  {
   "cell_type": "markdown",
   "metadata": {},
   "source": [
    "Create/update data list"
   ]
  },
  {
   "cell_type": "code",
   "execution_count": 21,
   "metadata": {
    "collapsed": false
   },
   "outputs": [],
   "source": [
    "if os.path.exists(loc_pyData + 'dataList.npy'):\n",
    "    dataList = np.load(loc_pyData + 'dataList.npy').item();\n",
    "    dataList['unitName'] = unitName;\n",
    "    np.save(loc_pyData + 'dataList.npy', dataList);\n",
    "else: # unitType, isolation, comment must be filled in by hand at later time\n",
    "    dataList = dict();\n",
    "    dataList['unitName'] = unitName;\n",
    "    dataList['unitType'] = [];\n",
    "    dataList['isolation'] = [];\n",
    "    dataList['comment'] = [];\n",
    "    np.save(loc_pyData + 'dataList.npy', dataList);"
   ]
  },
  {
   "cell_type": "code",
   "execution_count": 22,
   "metadata": {
    "collapsed": false
   },
   "outputs": [],
   "source": [
    "dataList = np.load(loc_pyData + 'dataList.npy').item();"
   ]
  },
  {
   "cell_type": "code",
   "execution_count": 23,
   "metadata": {
    "collapsed": false
   },
   "outputs": [
    {
     "data": {
      "text/plain": [
       "{'comment': [],\n",
       " 'isolation': [],\n",
       " 'unitName': ['m675r4',\n",
       "  'm675r6',\n",
       "  'm675r8',\n",
       "  'm675r13',\n",
       "  'm675r15',\n",
       "  'm675r16',\n",
       "  'm675r17',\n",
       "  'm675r18',\n",
       "  'm675r19',\n",
       "  'm675r20',\n",
       "  'm675r21',\n",
       "  'm675r22',\n",
       "  'm675r23',\n",
       "  'm675r24',\n",
       "  'm675r26',\n",
       "  'm675r27',\n",
       "  'm675r32',\n",
       "  'm675r33',\n",
       "  'm675r36',\n",
       "  'm675r37',\n",
       "  'm675r38',\n",
       "  'm675r39',\n",
       "  'm675r40',\n",
       "  'm675r42',\n",
       "  'm675r43',\n",
       "  'm675r45',\n",
       "  'm675r47',\n",
       "  'm675r48',\n",
       "  'm675r49',\n",
       "  'm675r50',\n",
       "  'm675r51',\n",
       "  'm675r52',\n",
       "  'm675r54',\n",
       "  'm675r56',\n",
       "  'm675r33',\n",
       "  'm675r36',\n",
       "  'm675r37',\n",
       "  'm675r38',\n",
       "  'm675r39',\n",
       "  'm675r40',\n",
       "  'm675r42',\n",
       "  'm675r43',\n",
       "  'm675r45',\n",
       "  'm675r47',\n",
       "  'm675r48',\n",
       "  'm675r49',\n",
       "  'm675r50',\n",
       "  'm675r51',\n",
       "  'm675r52',\n",
       "  'm675r54',\n",
       "  'm675r56'],\n",
       " 'unitType': []}"
      ]
     },
     "execution_count": 23,
     "metadata": {},
     "output_type": "execute_result"
    }
   ],
   "source": [
    "dataList"
   ]
  },
  {
   "cell_type": "code",
   "execution_count": null,
   "metadata": {
    "collapsed": true
   },
   "outputs": [],
   "source": []
  },
  {
   "cell_type": "markdown",
   "metadata": {},
   "source": [
    "Likely not needed, this section was from converting the previous data set where normalization responses where already computed in Matlab"
   ]
  },
  {
   "cell_type": "code",
   "execution_count": null,
   "metadata": {
    "collapsed": false
   },
   "outputs": [],
   "source": [
    "# change some things around...\n",
    "for i in dataList['unitName']:\n",
    "\n",
    "    print(\"changing: \" + i)\n",
    "    S = np.load(loc_pyData + i + '_sfm.npy').item(); # the actual data structure\n",
    "    \n",
    "    if S.get('sfm').get('mod'):\n",
    "        if S.get('sfm').get('mod').get('normalization') and S.get('sfm').get('mod').get('normalization_py'):\n",
    "            \n",
    "            S['sfm']['mod']['norm_old'] = S['sfm']['mod']['normalization'];\n",
    "            S['sfm']['mod']['normalization'] = S['sfm']['mod']['normalization_py'];\n",
    "            S['sfm']['mod'].pop('normalization_py');\n",
    "            \n",
    "            print(\"now saving...\")\n",
    "            saveName = loc_pyData + i + '_sfm.npy';\n",
    "            np.save(saveName, S)"
   ]
  },
  {
   "cell_type": "markdown",
   "metadata": {},
   "source": [
    "## General 'update python structs' here"
   ]
  },
  {
   "cell_type": "markdown",
   "metadata": {},
   "source": [
    "Use this section to update something about each cell in the dataList (change appropriate field(s))"
   ]
  },
  {
   "cell_type": "code",
   "execution_count": 24,
   "metadata": {
    "collapsed": true
   },
   "outputs": [],
   "source": [
    "dL = np.load(loc_pyData + 'dataList.npy').item();"
   ]
  },
  {
   "cell_type": "code",
   "execution_count": 32,
   "metadata": {
    "collapsed": false
   },
   "outputs": [],
   "source": [
    "for i in dL['unitName']:\n",
    "    S = np.load(loc_pyData + i + '_sfm.npy').item();\n",
    "    if 'descr_model' in S['sfm']:\n",
    "        S['sfm'].pop('descr_model');\n",
    "        np.save(loc_pyData + i + '_sfm.npy', S);\n",
    "        print('Removed descr_model from ' + i);"
   ]
  },
  {
   "cell_type": "code",
   "execution_count": null,
   "metadata": {
    "collapsed": true
   },
   "outputs": [],
   "source": []
  }
 ],
 "metadata": {
  "kernelspec": {
   "display_name": "Python 3",
   "language": "python",
   "name": "python3"
  },
  "language_info": {
   "codemirror_mode": {
    "name": "ipython",
    "version": 3
   },
   "file_extension": ".py",
   "mimetype": "text/x-python",
   "name": "python",
   "nbconvert_exporter": "python",
   "pygments_lexer": "ipython3",
   "version": "3.6.0"
  }
 },
 "nbformat": 4,
 "nbformat_minor": 2
}
