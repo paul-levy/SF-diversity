{
 "cells": [
  {
   "cell_type": "code",
   "execution_count": 5,
   "metadata": {
    "collapsed": false
   },
   "outputs": [],
   "source": [
    "import numpy as np\n",
    "import math, os\n",
    "import makeStimulus\n",
    "import autoreload\n",
    "\n",
    "import pdb\n",
    "\n",
    "# constants - directories\n",
    "loc_matData = '/Users/paulgerald/work/sfDiversity/sfDiv-OriModel/sfDiv-python/LGN/sach-data/';\n",
    "loc_pyData = '/Users/paulgerald/work/sfDiversity/sfDiv-OriModel/sfDiv-python/LGN/sach-data/';"
   ]
  },
  {
   "cell_type": "markdown",
   "metadata": {},
   "source": [
    "## The original conversion"
   ]
  },
  {
   "cell_type": "code",
   "execution_count": 8,
   "metadata": {
    "collapsed": false
   },
   "outputs": [],
   "source": [
    "# read in data list\n",
    "sachData = makeStimulus.loadmat(loc_matData + 'cssData_17feb09.mat')\n",
    "saveName = loc_pyData + 'sachData.npy';"
   ]
  },
  {
   "cell_type": "markdown",
   "metadata": {},
   "source": [
    "If you look further into sachData as it comes out of the makeStimulus.loadmat, we need to do more work! All of the data is wrapped up in a <i>scipy.io.matlab.mio5_params.mat_struct object</i>. Let's unpack it in the following loop, where I know this structure works only because of trial and error (i.e. investigating each field in the data structure)"
   ]
  },
  {
   "cell_type": "code",
   "execution_count": 83,
   "metadata": {
    "collapsed": true
   },
   "outputs": [],
   "source": [
    "sachDataPy = dict();"
   ]
  },
  {
   "cell_type": "code",
   "execution_count": 84,
   "metadata": {
    "collapsed": false
   },
   "outputs": [],
   "source": [
    "for c in range(len(sachData['cssData'])):\n",
    "    sachDataPy[c] = dict();\n",
    "    for field in sachData['cssData'][c]._fieldnames:\n",
    "        if field.startswith('data'): # nested...\n",
    "            sachDataPy[c]['data'] = dict();\n",
    "            for field_i in eval('sachData[\\'cssData\\'][c].%s._fieldnames' % field):\n",
    "                exec('sachDataPy[c][\\'data\\'][\\'%s\\'] = sachData[\\'cssData\\'][c].%s.%s' % (field_i, field, field_i));\n",
    "        else:\n",
    "            exec('sachDataPy[c][\\'%s\\'] = sachData[\\'cssData\\'][c].%s' % (field, field));"
   ]
  },
  {
   "cell_type": "code",
   "execution_count": 85,
   "metadata": {
    "collapsed": true
   },
   "outputs": [],
   "source": [
    "np.save(saveName, sachDataPy)"
   ]
  },
  {
   "cell_type": "code",
   "execution_count": 89,
   "metadata": {
    "collapsed": true
   },
   "outputs": [],
   "source": [
    "sdp = np.load(saveName).item()"
   ]
  },
  {
   "cell_type": "code",
   "execution_count": 103,
   "metadata": {
    "collapsed": false
   },
   "outputs": [
    {
     "data": {
      "text/plain": [
       "dict_keys(['cont', 'sf', 'f0', 'f0sem', 'f1', 'f1sem', 'f1_psth', 'f1ph', 'f1ph_sem', 'f1_psth_phase', 'psth', 'psth_sem', 'tf', 'cntr_size', 'surr_inner', 'opac0', 'opac1', 'addunit', 'size', 'phase_cntr', 'f1cntr', 'f1cntr_sem', 'f1cntr_psth', 'phase_surr', 'f1surr', 'f1surr_sem', 'f1surr_psth', 'f1sd', 'f0sd', 'f0arr', 'f1arr', 'f1pharr', 'psth2', 'psth2_sd', 'psth2_sem'])"
      ]
     },
     "execution_count": 103,
     "metadata": {},
     "output_type": "execute_result"
    }
   ],
   "source": [
    "sdp[30]['data'].keys()"
   ]
  },
  {
   "cell_type": "code",
   "execution_count": 104,
   "metadata": {
    "collapsed": false
   },
   "outputs": [
    {
     "ename": "NameError",
     "evalue": "name 'plt' is not defined",
     "output_type": "error",
     "traceback": [
      "\u001b[0;31m---------------------------------------------------------------------------\u001b[0m",
      "\u001b[0;31mNameError\u001b[0m                                 Traceback (most recent call last)",
      "\u001b[0;32m<ipython-input-104-d5150d0431d0>\u001b[0m in \u001b[0;36m<module>\u001b[0;34m()\u001b[0m\n\u001b[1;32m      1\u001b[0m \u001b[0mcellNum\u001b[0m \u001b[0;34m=\u001b[0m \u001b[0;36m1\u001b[0m\u001b[0;34m;\u001b[0m\u001b[0;34m\u001b[0m\u001b[0m\n\u001b[0;32m----> 2\u001b[0;31m \u001b[0mplt\u001b[0m\u001b[0;34m.\u001b[0m\u001b[0mplot\u001b[0m\u001b[0;34m(\u001b[0m\u001b[0msdp\u001b[0m\u001b[0;34m[\u001b[0m\u001b[0mcellNum\u001b[0m\u001b[0;34m-\u001b[0m\u001b[0;36m1\u001b[0m\u001b[0;34m]\u001b[0m\u001b[0;34m[\u001b[0m\u001b[0;34m'data'\u001b[0m\u001b[0;34m]\u001b[0m\u001b[0;34m[\u001b[0m\u001b[0;34m'cont'\u001b[0m\u001b[0;34m]\u001b[0m\u001b[0;34m,\u001b[0m \u001b[0msdp\u001b[0m\u001b[0;34m[\u001b[0m\u001b[0mcellNum\u001b[0m\u001b[0;34m-\u001b[0m\u001b[0;36m1\u001b[0m\u001b[0;34m]\u001b[0m\u001b[0;34m[\u001b[0m\u001b[0;34m'data'\u001b[0m\u001b[0;34m]\u001b[0m\u001b[0;34m[\u001b[0m\u001b[0;34m'cont'\u001b[0m\u001b[0;34m]\u001b[0m\u001b[0;34m[\u001b[0m\u001b[0;34m'f0'\u001b[0m\u001b[0;34m]\u001b[0m\u001b[0;34m)\u001b[0m\u001b[0;34m\u001b[0m\u001b[0m\n\u001b[0m",
      "\u001b[0;31mNameError\u001b[0m: name 'plt' is not defined"
     ]
    }
   ],
   "source": [
    "cellNum = 1;\n",
    "plt.plot(sdp[cellNum-1]['data']['cont'], sdp[cellNum-1]['data']['cont']['f0'])"
   ]
  },
  {
   "cell_type": "code",
   "execution_count": null,
   "metadata": {
    "collapsed": true
   },
   "outputs": [],
   "source": []
  }
 ],
 "metadata": {
  "kernelspec": {
   "display_name": "Python 3",
   "language": "python",
   "name": "python3"
  },
  "language_info": {
   "codemirror_mode": {
    "name": "ipython",
    "version": 3
   },
   "file_extension": ".py",
   "mimetype": "text/x-python",
   "name": "python",
   "nbconvert_exporter": "python",
   "pygments_lexer": "ipython3",
   "version": "3.6.0"
  }
 },
 "nbformat": 4,
 "nbformat_minor": 2
}
