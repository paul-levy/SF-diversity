{
 "cells": [
  {
   "cell_type": "markdown",
   "metadata": {},
   "source": [
    "# Ch. 1 - descriptive fit analysis"
   ]
  },
  {
   "cell_type": "markdown",
   "metadata": {},
   "source": [
    "Last access (y.m.d): 21.05.18  \n",
    "Last update (y.m.d): 21.05.18   "
   ]
  },
  {
   "cell_type": "markdown",
   "metadata": {},
   "source": [
    "In this notebook, I gather all V1 [or LGN] cells (data, model, descriptive fits) and analyze based on this complete set.\n",
    "\n",
    "### Table of contents\n",
    "\n",
    "- Initialize  \n",
    "- Gather  \n",
    "- Distribution of tuning measures **(0)**\n",
    "  - model free measures  \n",
    "  - comparison with derived measures  \n",
    "  - comparison with Cavanuagh, other datasets  \n",
    "- Simple vs complex **(1)**\n",
    "- Tuning shifts as scatter plots, ratios **(2)**\n",
    "  - Preferred spatial frequency with contrast \n",
    "  - Center of mass with contrast \n",
    "  - SFBW with contrast \n",
    "  - sfVariance with contrast \n",
    "- Trajectories of tuning metrics across contrasts  **(3)**"
   ]
  },
  {
   "cell_type": "markdown",
   "metadata": {},
   "source": [
    "## Intialize"
   ]
  },
  {
   "cell_type": "code",
   "execution_count": 296,
   "metadata": {},
   "outputs": [],
   "source": [
    "import pandas as pd\n",
    "import pdb\n",
    "import warnings\n",
    "warnings.filterwarnings(action='once')"
   ]
  },
  {
   "cell_type": "code",
   "execution_count": 297,
   "metadata": {},
   "outputs": [],
   "source": [
    "import numpy as np\n",
    "import os\n",
    "import helper_fcns as hf\n",
    "# import model_responses as mr\n",
    "import scipy.stats as ss\n",
    "from scipy.stats.mstats import gmean\n",
    "from scipy.stats import ks_2samp, kstest, linregress\n",
    "import itertools\n",
    "import autoreload\n",
    "from IPython.core.display import display, HTML, Image\n",
    "\n",
    "import seaborn as sns\n",
    "import matplotlib.pyplot as plt\n",
    "plt.style.use('https://raw.githubusercontent.com/paul-levy/SF_diversity/master/paul_plt_style.mplstyle');\n",
    "import matplotlib.cm as cm\n",
    "import matplotlib.backends.backend_pdf as pltSave\n",
    "%matplotlib inline\n",
    "plt.style.use('https://raw.githubusercontent.com/paul-levy/SF_diversity/master/paul_plt_style.mplstyle');\n",
    "\n",
    "base_dir = os.getcwd() + '/';"
   ]
  },
  {
   "cell_type": "code",
   "execution_count": 298,
   "metadata": {},
   "outputs": [],
   "source": [
    "# Before any plotting, fix plotting paramaters\n",
    "plt.style.use('https://raw.githubusercontent.com/paul-levy/SF_diversity/master/paul_plt_style.mplstyle');\n",
    "from matplotlib import rcParams\n",
    "rcParams['font.size'] = 20;\n",
    "rcParams['pdf.fonttype'] = 42 # should be 42, but there are kerning issues                                                                                                                                                                                                    \n",
    "rcParams['ps.fonttype'] = 42 # should be 42, but there are kerning issues                                                                                                                                                                                                     \n",
    "\n",
    "rcParams['lines.linewidth'] = 2.5;\n",
    "rcParams['lines.markeredgewidth'] = 0; # no edge, since weird tings happen then\n",
    "rcParams['axes.linewidth'] = 1.5;\n",
    "rcParams['lines.markersize'] = 5;\n",
    "\n",
    "rcParams['xtick.major.size'] = 15\n",
    "rcParams['xtick.minor.size'] = 8\n",
    "rcParams['ytick.major.size'] = 15\n",
    "rcParams['ytick.minor.size'] = 8\n",
    "\n",
    "rcParams['xtick.major.width'] = 5\n",
    "rcParams['xtick.minor.width'] = 2\n",
    "rcParams['ytick.major.width'] = 5\n",
    "rcParams['ytick.minor.width'] = 2\n",
    "\n",
    "rcParams['font.family'] = 'DejaVu Sans'\n",
    "rcParams['font.style'] = 'oblique';\n",
    "rcParams['font.size'] = 20;"
   ]
  },
  {
   "cell_type": "markdown",
   "metadata": {},
   "source": [
    "## Gather data\n",
    "\n",
    "Now, let's create a large list which will combine data/fits/analyses from all cells for all of the above experiments. For each cell, let's keep track of:\n",
    "* \"meta\" parameters:\n",
    "    * which experiment directory\n",
    "    * which dataList, fitList, descrFit, rvcFit\n",
    "    * which cell number within those lists\n",
    "    * which experiment index?\n",
    "    * which stimulus values (i.e. dispersions, sfs, contrasts)\n",
    "* inferred parameters:\n",
    "    * prefSf (for all conditions), along with % var explained\n",
    "    * c50 (again, for all conditions)\n",
    "* model parameters\n",
    "    * fit parameters, loss value for weighted and flat"
   ]
  },
  {
   "cell_type": "markdown",
   "metadata": {},
   "source": [
    "#### Load the jointList"
   ]
  },
  {
   "cell_type": "code",
   "execution_count": 299,
   "metadata": {},
   "outputs": [],
   "source": [
    "whichArea = 'V1'; # 'LGN' or 'V1'\n",
    "wMods = 1; # if wMods \n",
    "wModStr = '_wMods' if wMods else ''\n",
    "\n",
    "fitBase = '210518'; # descriptive fits (rvc,SF tuning)\n",
    "#fitBase = '210503'; # descriptive fits (rvc,SF tuning)\n",
    "fitBaseMod = '210331'; # model fits\n",
    "\n",
    "suffix = '%s%s_210518_vT70_dvT70' % (whichArea, wModStr)\n",
    "# suffix = 'V1_wMods_210429_vT70_dvT60'\n",
    "# suffix = 'V1_take2_210331_vT70_dvT60'\n",
    "# suffix = 'V1_210331_vT70_dvT60'\n",
    "# suffix = 'V1_200609_vT70_dvT60'\n",
    "try:\n",
    "    jointList = hf.np_smart_load(base_dir + 'jointList_%s.npy' % suffix)\n",
    "    if jointList == []:\n",
    "        jointList = np.load(base_dir + 'jointList_%s.npy' % suffix, allow_pickle=True);\n",
    "except: # if it wasn't pickled, then we'll need to just load without the .item which is implicit in hf.np_smart_load\n",
    "    jointList = np.load(base_dir + 'jointList_%s.npy' % suffix, allow_pickle=True);\n",
    "#     jointList = np.load(base_dir + 'jointList_%s.npy' % suffix);\n",
    "\n",
    "\n",
    "saveName = 'figures/reports/descrAnalysis_%s_%s/' % (suffix, whichArea) # for one save name for all figures\n",
    "save_loc = base_dir + saveName;"
   ]
  },
  {
   "cell_type": "code",
   "execution_count": 300,
   "metadata": {},
   "outputs": [],
   "source": [
    "### Additional, temporary (for doing _here_) cutting of V1/ cells\n",
    "# -- for details, see chapter 1 sandbox on choosing from the sorted cells in V1/\n",
    "to_keep = np.array([1, 3, 5, 7, 8, 10, 11, 13, 14, 15, 16, 17, 19, 21, 22, 23, 27, 28, 29, 31, 34, 35, 36, 37, 38, 39, 40, 41, 43, 44, 45, 46, 47, 48, 49, 50, 51, 52, 53, 54, 55,\\\n",
    " 56]);\n",
    "\n",
    "orig_keys = jointList.keys()\n",
    "jointListTrim = jointList.copy()\n",
    "\n",
    "\n",
    "for key in orig_keys:\n",
    "    expDir = jointList[key]['metadata']['fullPath'].split('/')[-3];\n",
    "    if expDir == 'V1':\n",
    "        if jointList[key]['metadata']['cellNum'] not in to_keep:\n",
    "            jointListTrim.pop(key, None)\n",
    "            \n",
    "jointList = jointListTrim.copy()"
   ]
  },
  {
   "cell_type": "code",
   "execution_count": 301,
   "metadata": {},
   "outputs": [
    {
     "name": "stdout",
     "output_type": "stream",
     "text": [
      "We cut 12 cells (11.01% of the original 109)\n"
     ]
    }
   ],
   "source": [
    "### Trim the jointList on some criteria?\n",
    "# A: must have at least one single grating tuning curve which has non-nan varExpl (i.e. > dogVarExplThresh) \n",
    "# --- for the diff-of-gauss tuning fit\n",
    "\n",
    "# Get the keys as ints for easy indexing\n",
    "keysAsInts = np.array([int(x) for x in jointList.keys()])\n",
    "\n",
    "prevCells = len(jointList)\n",
    "critA = np.where([len(np.where(~np.isnan(jointList[x]['metrics']['dog_varExpl'][0,:]))[0]) > 0 for x in sorted(jointList.keys())])[0]\n",
    "\n",
    "jointListTrim = {key: jointList[keysAsInts[key]] for key in critA}\n",
    "jointList = jointListTrim\n",
    "\n",
    "remCells = len(jointList)\n",
    "\n",
    "nCut = prevCells-remCells\n",
    "\n",
    "print('We cut %d cells (%.2f%% of the original %d)' % (nCut, 100*nCut/prevCells, prevCells))\n",
    "\n",
    "# also get the keys as ints for easy indexing\n",
    "keysAsInts = np.array([int(x) for x in jointList.keys()])"
   ]
  },
  {
   "cell_type": "markdown",
   "metadata": {},
   "source": [
    "#### Compute relevant metrics, gather into pandas structure"
   ]
  },
  {
   "cell_type": "code",
   "execution_count": 302,
   "metadata": {},
   "outputs": [],
   "source": [
    "### Get relevant metrics at high, one-third, lowest contrast\n",
    "\n",
    "whichFit = 0; # 0 for flexible gauss, 1 for DoG\n",
    "prefix = 'dog_' if whichFit else '';\n",
    "\n",
    "highSf, thirdSf, _ = hf.jl_get_metric_highComp(jointList, '%spSf' % prefix, whichFit, 0)\n",
    "_, lowSf, compConsSf = hf.jl_get_metric_highComp(jointList, '%spSf' % prefix, whichFit, 1)\n",
    "\n",
    "highSf70, thirdSf70, _ = hf.jl_get_metric_highComp(jointList, '%ssf70' % prefix, whichFit, 0)\n",
    "_, lowSf70, compConsSf70 = hf.jl_get_metric_highComp(jointList, '%ssf70' % prefix, whichFit, 1)\n",
    "\n",
    "highBwHalf, thirdBwHalf, _ = hf.jl_get_metric_highComp(jointList, '%sbwHalf' % prefix, whichFit, 0)\n",
    "_, lowBwHalf, compConsBwHalf = hf.jl_get_metric_highComp(jointList, '%sbwHalf' % prefix, whichFit, 1)\n",
    "\n",
    "highBw34, thirdBw34, _ = hf.jl_get_metric_highComp(jointList, '%sbwHalf' % prefix, whichFit, 0)\n",
    "_, lowBw34, compConsBw34 = hf.jl_get_metric_highComp(jointList, '%sbwHalf' % prefix, whichFit, 1)\n",
    "\n",
    "sigLow_h, sigLow_t, _ = hf.jl_get_metric_highComp(jointList, 'bw_sigma', 0, 0, extraInds=0)\n",
    "sigUpper_h, sigUpper_t, compConsSig = hf.jl_get_metric_highComp(jointList, 'bw_sigma', 0, 0, extraInds=1)\n",
    "\n",
    "_, sigLow_l, _ = hf.jl_get_metric_highComp(jointList, 'bw_sigma', 0, 1, extraInds=0)\n",
    "_, sigUpper_l, _ = hf.jl_get_metric_highComp(jointList, 'bw_sigma', 0, 1, extraInds=1)\n"
   ]
  },
  {
   "cell_type": "code",
   "execution_count": 306,
   "metadata": {},
   "outputs": [
    {
     "name": "stderr",
     "output_type": "stream",
     "text": [
      "/users/plevy/miniconda3/envs/pytorch-lcv/lib/python3.6/site-packages/ipykernel_launcher.py:12: VisibleDeprecationWarning: Creating an ndarray from ragged nested sequences (which is a list-or-tuple of lists-or-tuples-or ndarrays with different lengths or shapes) is deprecated. If you meant to do this, you must specify 'dtype=object' when creating the ndarray\n",
      "  if sys.path[0] == '':\n"
     ]
    }
   ],
   "source": [
    "### Get some metadata, relevant tunings\n",
    "expDir = np.array([jointList[i]['metadata']['fullPath'].split('/')[-3] for i in jointList.keys()])\n",
    "cellNum = np.array([jointList[i]['metadata']['cellNum'] for i in jointList.keys()])\n",
    "\n",
    "cellIndex = ['%s/%s' % (e,d) for e,d in zip(expDir, cellNum)]\n",
    "\n",
    "# cellType = np.array([jointList[i]['metadata']['cellType'] for i in jointList.keys()])\n",
    "f1f0 = np.array([jointList[i]['metrics']['f1f0_ratio'] for i in jointList.keys()])\n",
    "disp, con = 0,-1 # high contrast, single grating\n",
    "highCom = np.array([jointList[i]['metrics']['sfCom'][disp,con] for i in jointList.keys()])\n",
    "\n",
    "sf_vals = np.array([jointList[i]['metadata']['stimVals'][2] for i in jointList.keys()]);\n",
    "\n",
    "centralSf = np.copy(highSf); # highSf is prefSf at high contrast\n",
    "# IF it's undefined, we'll replace with the C.O.M.\n",
    "whereNan = np.where(np.isnan(centralSf))\n",
    "centralSf[whereNan] = highCom[whereNan]; \n",
    "\n",
    "prefSfInd = [np.argmin(np.square(prefSf - sf_val)) for (prefSf,sf_val) in zip(centralSf, sf_vals)];\n",
    "\n",
    "# conGain = [jointList[i]['metrics']['conGain'][0, sfInd] for i,sfInd in zip(jointList.keys(), prefSfInd)];\n",
    "# conGain = np.array([jointList[i]['metrics']['conGain'][0, sfInd] for i,sfInd in zip(jointList.keys(), prefSfInd)]);\n",
    "c50 = np.array([jointList[i]['metrics']['c50'][0, sfInd] for i,sfInd in zip(jointList.keys(), prefSfInd)]);\n",
    "c50_eval = np.array([jointList[i]['metrics']['c50_eval'][0, sfInd] for i,sfInd in zip(jointList.keys(), prefSfInd)]);\n"
   ]
  },
  {
   "cell_type": "code",
   "execution_count": 307,
   "metadata": {},
   "outputs": [],
   "source": [
    "### Organize into pandas DF\n",
    "\n",
    "all_metr = np.vstack((f1f0, #conGain,\n",
    "                      c50, c50_eval, highSf, thirdSf, lowSf, compConsSf,\n",
    "                     highSf70, thirdSf70, lowSf70, compConsSf70,\n",
    "                     highBwHalf, thirdBwHalf, lowBwHalf, compConsBwHalf,\n",
    "                     highBw34, thirdBw34, lowBw34, compConsBw34,\n",
    "                     sigLow_h, sigLow_t, sigLow_l, compConsSig,\n",
    "                     sigUpper_h, sigUpper_t, sigUpper_l));\n",
    "# cellType, cellType, \n",
    "all_names = ['f1f0', #'conGain',\n",
    "             'c50', 'c50_eval', 'psfHigh', 'psfThird', 'psfLow', 'consLowSf',\n",
    "            'sf70High', 'sf70Third', 'sf70Low', 'consLowSf70',\n",
    "            'bwHalfHigh', 'bwHalfThird', 'bwHalfLow', 'consLowBwHalf',\n",
    "            'bw34High', 'bw34Third', 'bw34Low', 'consLowBw34',\n",
    "            'sigLowerHigh', 'sigLowerThird', 'sigLowerLow', 'consLowSig',\n",
    "            'sigUpperHigh', 'sigUpperThird', 'sigUpperLow']\n",
    "\n",
    "df = pd.DataFrame(all_metr.transpose(), columns=all_names).convert_dtypes(convert_string=False)\n"
   ]
  },
  {
   "cell_type": "code",
   "execution_count": 309,
   "metadata": {},
   "outputs": [],
   "source": [
    "# Create first with JUST numeric types\n",
    "df = pd.DataFrame(np.transpose([f1f0, #conGain, \n",
    "                                c50, c50_eval, highSf, thirdSf, lowSf, compConsSf,\n",
    "                     highSf70, thirdSf70, lowSf70, compConsSf70,\n",
    "                     highBwHalf, thirdBwHalf, lowBwHalf, compConsBwHalf,\n",
    "                     highBw34, thirdBw34, lowBw34, compConsBw34,\n",
    "                     sigLow_h, sigLow_t, sigLow_l, compConsSig,\n",
    "                     sigUpper_h, sigUpper_t, sigUpper_l]), \n",
    "                  index=cellIndex, columns=all_names)\n",
    "# THEN, add in the non-numeric types\n",
    "# df.insert(0, 'type', cellType)\n",
    "df.insert(1, 'expDir', expDir)"
   ]
  },
  {
   "cell_type": "code",
   "execution_count": 293,
   "metadata": {},
   "outputs": [
    {
     "data": {
      "text/plain": [
       "<AxesSubplot:xlabel='conGain', ylabel='Count'>"
      ]
     },
     "execution_count": 293,
     "metadata": {},
     "output_type": "execute_result"
    },
    {
     "data": {
      "image/png": "[encoded data removed]",
      "text/plain": [
       "<Figure size 432x288 with 1 Axes>"
      ]
     },
     "metadata": {
      "needs_background": "light"
     },
     "output_type": "display_data"
    }
   ],
   "source": [
    "df.groupby('type')\n",
    "sns.histplot(df['conGain'])"
   ]
  },
  {
   "cell_type": "code",
   "execution_count": 310,
   "metadata": {},
   "outputs": [
    {
     "data": {
      "text/plain": [
       "expDir\n",
       "V1         34\n",
       "V1_orig    56\n",
       "altExp      7\n",
       "dtype: int64"
      ]
     },
     "execution_count": 310,
     "metadata": {},
     "output_type": "execute_result"
    }
   ],
   "source": [
    "df.groupby('expDir').size()"
   ]
  },
  {
   "cell_type": "code",
   "execution_count": null,
   "metadata": {},
   "outputs": [],
   "source": [
    "56"
   ]
  }
 ],
 "metadata": {
  "kernelspec": {
   "display_name": "Python 3",
   "language": "python",
   "name": "python3"
  },
  "language_info": {
   "codemirror_mode": {
    "name": "ipython",
    "version": 3
   },
   "file_extension": ".py",
   "mimetype": "text/x-python",
   "name": "python",
   "nbconvert_exporter": "python",
   "pygments_lexer": "ipython3",
   "version": "3.6.12"
  }
 },
 "nbformat": 4,
 "nbformat_minor": 4
}
