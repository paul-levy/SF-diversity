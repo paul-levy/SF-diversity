{
 "cells": [
  {
   "cell_type": "markdown",
   "metadata": {},
   "source": [
    "# Thesis revisions\n",
    "Last used: 23.04.15  \n",
    "Last modified: 23.04.15  "
   ]
  },
  {
   "cell_type": "markdown",
   "metadata": {},
   "source": [
    "**This notebook serves to organize analyses for thesis revisions; these analyses don't fit neatly into the chapter-specific notebooks.**"
   ]
  },
  {
   "cell_type": "code",
   "execution_count": 44,
   "metadata": {},
   "outputs": [],
   "source": [
    "import os, pdb\n",
    "import scipy.stats as ss\n",
    "import scipy.odr.odrpack as odrpack\n",
    "from scipy.stats.mstats import gmean\n",
    "from scipy.stats import ks_2samp, kstest, linregress\n",
    "import itertools\n",
    "import autoreload\n",
    "from IPython.core.display import display, HTML, Image\n",
    "\n",
    "import seaborn as sns\n",
    "import matplotlib as mpl\n",
    "import matplotlib.pyplot as plt\n",
    "import matplotlib.cm as cm\n",
    "import matplotlib.backends.backend_pdf as pltSave\n",
    "from matplotlib.ticker import FuncFormatter\n",
    "\n",
    "import helper_fcns as hf\n",
    "import plot_sf_figs as psf\n",
    "import numpy as np\n",
    "import pandas as pd\n",
    "\n",
    "from helper_fcns_sfBB import compute_f1f0 as bb_compute_f1f0\n",
    "from helper_fcns_sfBB import get_resp_str\n",
    "\n",
    "import warnings\n",
    "warnings.filterwarnings(action='once')\n",
    "\n",
    "\n",
    "base_dir = os.getcwd() + '/';\n",
    "\n",
    "# what's the save name for this analysis?\n",
    "saveName = 'figures/reports/ch00_thesis_revisions/'; # for one save name for all figures\n",
    "save_loc = base_dir + saveName;"
   ]
  },
  {
   "cell_type": "code",
   "execution_count": 40,
   "metadata": {},
   "outputs": [],
   "source": [
    "from matplotlib import rcParams\n",
    "\n",
    "tex_width = 469; # per \\layout in Overleaf on document\n",
    "sns_offset = 2;\n",
    "\n",
    "rcParams.update(mpl.rcParamsDefault)\n",
    "\n",
    "fontsz = 12;\n",
    "tick_scalar = 1.5;\n",
    "\n",
    "rcParams['pdf.fonttype'] = 42\n",
    "rcParams['ps.fonttype'] = 42\n",
    "\n",
    "params = {'text.usetex' : False,\n",
    "          'font.size' : fontsz,\n",
    "          'font.family': 'lmodern',\n",
    "           'font.style': 'italic'}\n",
    "plt.rcParams.update(params)\n",
    "\n",
    "rcParams['lines.markeredgewidth'] = 0; # no edge, since weird tings happen then\n",
    "\n",
    "tick_adj = ['xtick.major.size', 'xtick.minor.size', 'ytick.major.size', 'ytick.minor.size']\n",
    "for adj in tick_adj:\n",
    "    rcParams[adj] = rcParams[adj] * tick_scalar;"
   ]
  },
  {
   "cell_type": "code",
   "execution_count": 46,
   "metadata": {},
   "outputs": [],
   "source": [
    "%matplotlib inline"
   ]
  },
  {
   "cell_type": "markdown",
   "metadata": {},
   "source": [
    "## Table of contents\n",
    "- Contrast, normalization, and d-DoG-S explanations: simple plots used in public talk\n",
    "- Stimulus size in the experiments"
   ]
  },
  {
   "cell_type": "markdown",
   "metadata": {},
   "source": [
    "### Simple functions"
   ]
  },
  {
   "cell_type": "code",
   "execution_count": 41,
   "metadata": {},
   "outputs": [],
   "source": [
    "def inv_sig(x):\n",
    "    return -np.log((1-x)/x);"
   ]
  },
  {
   "cell_type": "markdown",
   "metadata": {},
   "source": [
    "## Contrast, normalization, and d-DoG-S explanations\n",
    "This was used for the public talk of the defense, and should be here rather than in a chapter-specific notebook"
   ]
  },
  {
   "cell_type": "markdown",
   "metadata": {},
   "source": [
    "*First plot: Luminance vs. dva; vary the additive term in the plotting line and change the save name to demonstrate varied phase*"
   ]
  },
  {
   "cell_type": "code",
   "execution_count": 47,
   "metadata": {},
   "outputs": [
    {
     "name": "stderr",
     "output_type": "stream",
     "text": [
      "findfont: Font family ['lmodern'] not found. Falling back to DejaVu Sans.\n"
     ]
    },
    {
     "data": {
      "image/png": "[encoded data removed]",
      "text/plain": [
       "<Figure size 216x216 with 1 Axes>"
      ]
     },
     "metadata": {
      "needs_background": "light"
     },
     "output_type": "display_data"
    }
   ],
   "source": [
    "plt.figure(figsize=(3, 3))\n",
    "plt.xlabel('Degrees of visual angle')\n",
    "plt.ylabel('Luminance')\n",
    "\n",
    "sf1 = .3\n",
    "sf2 = 1\n",
    "sf3 = 3\n",
    "mean_lum = 50\n",
    "\n",
    "xvals = np.linspace(-2.5, 2.5, 500)\n",
    "plt.plot(xvals, mean_lum + mean_lum*np.sin(2*np.pi*xvals*sf1 + 1.5), color='k')\n",
    "sns.despine(offset=sns_offset)\n",
    "\n",
    "saveName = \"/000_sfExpl_ph3.pdf\"\n",
    "if not os.path.exists(save_loc):\n",
    "    os.makedirs(save_loc)\n",
    "pdfSv = pltSave.PdfPages(save_loc + saveName);\n",
    "pdfSv.savefig(plt.gcf(), bbox_inches='tight') # only one figure here...\n",
    "pdfSv.close()"
   ]
  },
  {
   "cell_type": "markdown",
   "metadata": {},
   "source": [
    "*Vary the lines of this cell to demonstrate varying SF and/or contrast*"
   ]
  },
  {
   "cell_type": "code",
   "execution_count": 43,
   "metadata": {},
   "outputs": [],
   "source": [
    "plt.figure(figsize=(3, 3))\n",
    "plt.xlabel('Degrees of visual angle')\n",
    "plt.ylabel('Luminance')\n",
    "\n",
    "sf1 = .3\n",
    "sf2 = 1\n",
    "sf3 = 3\n",
    "mean_lum = 50\n",
    "\n",
    "xvals = np.linspace(-2.5, 2.5, 500)\n",
    "plt.plot(xvals, mean_lum + mean_lum*np.sin(2*np.pi*xvals*sf1), color='k', alpha=0.3)\n",
    "# plt.plot(xvals, mean_lum + mean_lum*np.sin(2*np.pi*xvals*sf2), color='k', alpha=0.3)\n",
    "# plt.plot(xvals, mean_lum + mean_lum*np.sin(2*np.pi*xvals*sf3), color='k')\n",
    "plt.plot(xvals, mean_lum + .33*mean_lum*np.sin(2*np.pi*xvals*sf1), color='k')\n",
    "sns.despine(offset=sns_offset)\n",
    "\n",
    "saveName = \"/000_sfExpl.pdf\"\n",
    "if not os.path.exists(save_loc):\n",
    "    os.makedirs(save_loc)\n",
    "pdfSv = pltSave.PdfPages(save_loc + saveName);\n",
    "pdfSv.savefig(plt.gcf(), bbox_inches='tight') # only one figure here...\n",
    "pdfSv.close()"
   ]
  },
  {
   "cell_type": "markdown",
   "metadata": {},
   "source": [
    "*This plot demonstrates spatial frequency tuning with and without gain control*"
   ]
  },
  {
   "cell_type": "code",
   "execution_count": null,
   "metadata": {},
   "outputs": [],
   "source": [
    "gain_control_on = 0 # or off [0]\n",
    "\n",
    "plt.figure(figsize=(3, 3))\n",
    "plt.xlabel('Spatial frequency (c/deg)')\n",
    "plt.ylabel('Response (a.u.)')\n",
    "\n",
    "sf_vals = np.geomspace(0.3, 10, 100)\n",
    "resp = hf.get_descrResp([10, 0.1, 0.7, 3], sf_vals, DoGmodel=1)\n",
    "resp /= np.max(resp)\n",
    "resp = np.square(resp)\n",
    "\n",
    "plt.semilogx(sf_vals, np.minimum(thresh, thresh*resp), color='k')\n",
    "if gain_control_on:\n",
    "    thresh = 0.5\n",
    "    pw = 0.33\n",
    "\n",
    "    plt.semilogx(sf_vals, np.minimum(thresh, np.power(0.66, pw)*thresh*resp), color='k', alpha=0.66)\n",
    "    plt.semilogx(sf_vals, np.minimum(thresh, np.power(0.5, pw)*thresh*resp), color='k', alpha=0.5)\n",
    "    plt.semilogx(sf_vals, np.minimum(thresh, np.power(0.33, pw)*thresh*resp), color='k', alpha=0.33)\n",
    "    plt.semilogx(sf_vals, np.minimum(thresh, np.power(0.1, pw)*thresh*resp), color='k', alpha=0.1)\n",
    "else:\n",
    "    thresh = 0.5\n",
    "    to_sub = 0.2 * np.max(resp)\n",
    "\n",
    "    plt.semilogx(sf_vals, np.maximum(0, 0.66*resp - to_sub), color='k', alpha=0.66)\n",
    "    plt.semilogx(sf_vals, np.maximum(0, 0.5*resp - to_sub), color='k', alpha=0.5)\n",
    "    plt.semilogx(sf_vals, np.maximum(0, 0.33*resp - to_sub), color='k', alpha=0.33)\n",
    "    plt.semilogx(sf_vals, np.maximum(0, 0.1*resp - to_sub), color='k', alpha=0.1)\n",
    "\n",
    "sns.despine(offset=sns_offset)\n",
    "\n",
    "saveName = \"/0000_gainControl_%s.pdf\" % (\"on\" if gain_control_on else \"off\")\n",
    "if not os.path.exists(save_loc):\n",
    "    os.makedirs(save_loc)\n",
    "pdfSv = pltSave.PdfPages(save_loc + saveName);\n",
    "pdfSv.savefig(plt.gcf(), bbox_inches='tight') # only one figure here...\n",
    "pdfSv.close()"
   ]
  },
  {
   "cell_type": "markdown",
   "metadata": {},
   "source": [
    "*This plot shows the sharpening of SF tuning via the d-DoG-S model*"
   ]
  },
  {
   "cell_type": "code",
   "execution_count": null,
   "metadata": {},
   "outputs": [],
   "source": [
    "normed = True;\n",
    "\n",
    "\n",
    "f, ax = plt.subplots(1, 2, figsize=(10, 5))\n",
    "\n",
    "ref_params_dog1 = [100, 0.1, inv_sig(0.7), 2];\n",
    "ref_params_dog2 = [inv_sig(0.95), 2, inv_sig(0.7), 2]; # the center params (first two) are relative to dog1\n",
    "ref_params_sep = [-np.inf, 0];\n",
    "\n",
    "ref_params_all = np.hstack((ref_params_dog1, ref_params_dog2, ref_params_sep))\n",
    "ref_params_dog1_only = np.hstack((ref_params_dog1, [-np.inf,1,0,0], ref_params_sep))\n",
    "ref_params_dog2_only = np.hstack((np.hstack((ref_params_dog1[0]*hf.sigmoid(ref_params_dog2[0]), \n",
    "                                             ref_params_dog1[1]*ref_params_dog2[1],\n",
    "                                             ref_params_dog2[2:], [-np.inf,1,0,0])), ref_params_sep))\n",
    "# sf values\n",
    "vals = np.geomspace(0.1, 8, 100);\n",
    "\n",
    "del_linewidth = True;\n",
    "\n",
    "# SPACE\n",
    "space, samps, dc, df1, df2 = hf.parker_hawken(np.copy(ref_params_all), inSpace=True,\n",
    "                                              debug=True, isMult=True, ref_params=None);\n",
    "\n",
    "ax[0].plot(samps, space, 'k-')#, label='full');                                                                                                                                                                                                                                                                                           \n",
    "# and plot the constitutent parts                                                                                                                                                                                                                                                                                                                               \n",
    "ax[0].plot(samps, dc, 'k--')#, label='center');                                                                                                                                                                                                                                                                                           \n",
    "# ax[0].plot(samps, df1, 'r--')#, label='f1');                                                                                                                                                                                                                                                                                              \n",
    "ax[0].plot(samps, df2, 'k:')#, label='f2');  \n",
    "ax[0].set_xlabel('Degrees of visual angle')\n",
    "ax[0].set_ylabel('Sensitivity (a.u.)')\n",
    "\n",
    "\n",
    "# FOURIER\n",
    "prms_norm = np.copy(ref_params_all);\n",
    "prms_norm[-1] = np.Inf; # biggest response when spacing is max\n",
    "to_norm = np.nanmax(hf.parker_hawken(prms_norm, stim_sf=vals)) if normed else 1\n",
    "\n",
    "ax[1].plot(vals, hf.parker_hawken(ref_params_all, stim_sf=vals)/to_norm, 'k-')\n",
    "ax[1].plot(vals, hf.parker_hawken(ref_params_dog1_only, stim_sf=vals)/to_norm, 'k--')\n",
    "ax[1].plot(vals, hf.parker_hawken(ref_params_dog2_only, stim_sf=vals)/to_norm, 'k:')\n",
    "ax[1].set_xscale(\"log\")\n",
    "ax[1].set_yscale(\"log\")\n",
    "ax[1].axis('equal')\n",
    "ax[1].set_ylim([0.01, 1])\n",
    "\n",
    "ax[1].set_xlabel('Spatial frequency (c/deg)')\n",
    "ax[1].set_ylabel('Response (a.u.)')\n",
    "\n",
    "from matplotlib.ticker import FuncFormatter\n",
    "for i in range(2):\n",
    "    for jj, axis in enumerate([ax[i].xaxis, ax[i].yaxis]):\n",
    "        axis.set_major_formatter(FuncFormatter(lambda x,y: '%d' % x if x>=1 else '%.1f' % x)) # this will make everything in non-scientific notation!                                                                                                                                                                                                                     \n",
    "        if jj==1: # i.e. y axis, make sure we have tick labels, here, too                                                                                                                                                                                                                                                                                                 \n",
    "            axis.set_tick_params(labelleft=True);\n",
    "\n",
    "\n",
    "sns.despine(offset=5)\n",
    "f.tight_layout()\n",
    "\n",
    "saveName = \"/0000_ddogs.pdf\"\n",
    "if not os.path.exists(save_loc):\n",
    "    os.makedirs(save_loc)\n",
    "pdfSv = pltSave.PdfPages(save_loc + saveName);\n",
    "pdfSv.savefig(plt.gcf(), bbox_inches='tight') # only one figure here...\n",
    "pdfSv.close()"
   ]
  },
  {
   "cell_type": "markdown",
   "metadata": {},
   "source": [
    "## Stimulus size used\n",
    "\n",
    "Per Hawk's comments, the text wasn't clear enough as to what stimulus size was used for the experiments. Here, I'll plot the distribution of stimulus sizes used in the experiments, split by LGN/V1 data.\n",
    "\n",
    "*Note that we know Sach's experiments (34 LGN cells) used 8 degree patches for all cells.*"
   ]
  },
  {
   "cell_type": "code",
   "execution_count": 48,
   "metadata": {},
   "outputs": [],
   "source": [
    "# Load jointLists\n",
    "lgn_jointList = hf.np_smart_load('jointList_LGN_230121_vT00_dvT00_jt7.npy')\n",
    "v1_jointList = hf.np_smart_load('jointList_wMods_V1_230121vE_vT00_dvT00_m3j10.npy')\n",
    "\n",
    "# --- also add a better access to expDir to lgn, v1_jointList\n",
    "nCells_lgn = len(lgn_jointList.keys())\n",
    "lgn_expDirs = [lgn_jointList[x][\"metadata\"][\"fullPath\"].split('/')[-3] for x in range(nCells_lgn)]\n",
    "nCells_v1 = len(v1_jointList.keys())\n",
    "v1_expDirs = [v1_jointList[x][\"metadata\"][\"fullPath\"].split('/')[-3] for x in range(nCells_v1)]"
   ]
  },
  {
   "cell_type": "markdown",
   "metadata": {},
   "source": [
    "##### LGN"
   ]
  },
  {
   "cell_type": "code",
   "execution_count": 88,
   "metadata": {},
   "outputs": [],
   "source": [
    "stimSize_lgn = np.nan * np.zeros((nCells_lgn,))\n",
    "\n",
    "for cell_i, expDir in enumerate(lgn_expDirs):\n",
    "    if expDir == \"sach\":\n",
    "        stimSize_lgn[cell_i] = 8\n",
    "    else:\n",
    "        # load current cell\n",
    "        curr_meta = lgn_jointList[cell_i][\"metadata\"]\n",
    "        curr_cell = hf.np_smart_load(os.path.join(expDir, \"structures\", f\"{curr_meta['expName']}_sfm.npy\"))\n",
    "        stimSize_lgn[cell_i] = curr_cell[\"sfm\"][\"exp\"][\"size\"]\n",
    "        \n",
    "stimSize_noSach = np.round(stimSize_lgn[stimSize!=8], 1) # only Sach will be exactly 8 (as int, not float)\n",
    "# Now after this, round to nearest tenth...\n",
    "stimSize_lgn = np.round(stimSize_lgn, 1)"
   ]
  },
  {
   "cell_type": "code",
   "execution_count": 91,
   "metadata": {},
   "outputs": [
    {
     "data": {
      "image/png": "[encoded data removed]",
      "text/plain": [
       "<Figure size 864x360 with 2 Axes>"
      ]
     },
     "metadata": {
      "needs_background": "light"
     },
     "output_type": "display_data"
    }
   ],
   "source": [
    "f, ax = plt.subplots(1, 2, figsize=(12, 5))\n",
    "thresh = 4 # want to know how many cells below this size\n",
    "\n",
    "# All data\n",
    "ax[0].set_title(f\"All LGN: {np.sum(stimSize_lgn<thresh)} out of {len(stimSize_lgn)} below {thresh} degrees\")\n",
    "sns.histplot(np.round(stimSize_lgn, 3), bins=np.linspace(0.5, 10.5, 11), ax=ax[0])\n",
    "# No Sach\n",
    "ax[1].set_title(f\"All LGN: {np.sum(stimSize_noSach<thresh)} out of {len(stimSize_noSach)} below {thresh} degrees\")\n",
    "sns.histplot(np.round(stimSize_noSach, 3), bins=np.linspace(0.5, 10.5, 11), ax=ax[1])\n",
    "\n",
    "f.suptitle(\"LGN stimulus sizes\")\n",
    "\n",
    "sns.despine(offset=sns_offset)\n",
    "\n",
    "saveName = \"/01_stimSize_lgn.pdf\"\n",
    "if not os.path.exists(save_loc):\n",
    "    os.makedirs(save_loc)\n",
    "pdfSv = pltSave.PdfPages(save_loc + saveName);\n",
    "pdfSv.savefig(plt.gcf(), bbox_inches='tight') # only one figure here...\n",
    "pdfSv.close()"
   ]
  },
  {
   "cell_type": "markdown",
   "metadata": {},
   "source": [
    "##### V1"
   ]
  },
  {
   "cell_type": "code",
   "execution_count": 104,
   "metadata": {},
   "outputs": [],
   "source": [
    "stimSize_v1 = np.nan * np.zeros((nCells_v1,))\n",
    "\n",
    "for cell_i, expDir in enumerate(v1_expDirs):\n",
    "    suffix = \"sfBB\" if expDir==\"V1_BB\" else \"sfm\"\n",
    "    # load current cell\n",
    "    curr_meta = v1_jointList[cell_i][\"metadata\"]\n",
    "    curr_cell = hf.np_smart_load(os.path.join(expDir, \"structures\", f\"{curr_meta['expName']}_{suffix}.npy\"))\n",
    "    if expDir == \"V1_BB\":\n",
    "        stimSize_v1[cell_i] = np.unique(curr_cell[\"sfBB_core\"][\"trial\"][\"size\"])\n",
    "    else:\n",
    "        stimSize_v1[cell_i] = curr_cell[\"sfm\"][\"exp\"][\"size\"]\n"
   ]
  },
  {
   "cell_type": "code",
   "execution_count": null,
   "metadata": {},
   "outputs": [],
   "source": [
    "sns.histplot(stimSize_v1)"
   ]
  },
  {
   "cell_type": "code",
   "execution_count": null,
   "metadata": {},
   "outputs": [],
   "source": [
    "f, ax = plt.subplots(1, 2, figsize=(12, 5))\n",
    "thresh = 4 # want to know how many cells below this size\n",
    "\n",
    "# All data\n",
    "ax[0].set_title(f\"All LGN: {np.sum(stimSize_lgn<thresh)} out of {len(stimSize_lgn)} below {thresh} degrees\")\n",
    "sns.histplot(np.round(stimSize_lgn, 3), bins=np.linspace(0.5, 10.5, 11), ax=ax[0])\n",
    "# No Sach\n",
    "ax[1].set_title(f\"All LGN: {np.sum(stimSize_noSach<thresh)} out of {len(stimSize_noSach)} below {thresh} degrees\")\n",
    "sns.histplot(np.round(stimSize_noSach, 3), bins=np.linspace(0.5, 10.5, 11), ax=ax[1])\n",
    "\n",
    "f.suptitle(\"LGN stimulus sizes\")\n",
    "\n",
    "sns.despine(offset=sns_offset)\n",
    "\n",
    "saveName = \"/01_stimSize_lgn.pdf\"\n",
    "if not os.path.exists(save_loc):\n",
    "    os.makedirs(save_loc)\n",
    "pdfSv = pltSave.PdfPages(save_loc + saveName);\n",
    "pdfSv.savefig(plt.gcf(), bbox_inches='tight') # only one figure here...\n",
    "pdfSv.close()"
   ]
  }
 ],
 "metadata": {
  "kernelspec": {
   "display_name": "Python 3",
   "language": "python",
   "name": "python3"
  },
  "language_info": {
   "codemirror_mode": {
    "name": "ipython",
    "version": 3
   },
   "file_extension": ".py",
   "mimetype": "text/x-python",
   "name": "python",
   "nbconvert_exporter": "python",
   "pygments_lexer": "ipython3",
   "version": "3.6.12"
  }
 },
 "nbformat": 4,
 "nbformat_minor": 4
}
