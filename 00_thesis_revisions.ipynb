{
 "cells": [
  {
   "cell_type": "markdown",
   "metadata": {},
   "source": [
    "# Thesis revisions\n",
    "Last used: 23.04.19  \n",
    "Last modified: 23.04.19  "
   ]
  },
  {
   "cell_type": "code",
   "execution_count": 357,
   "metadata": {},
   "outputs": [],
   "source": [
    "%load_ext autoreload\n",
    "%autoreload 2"
   ]
  },
  {
   "cell_type": "markdown",
   "metadata": {},
   "source": [
    "**This notebook serves to organize analyses for thesis revisions; these analyses don't fit neatly into the chapter-specific notebooks.**"
   ]
  },
  {
   "cell_type": "code",
   "execution_count": 465,
   "metadata": {},
   "outputs": [],
   "source": [
    "import os, pdb\n",
    "import scipy.stats as ss\n",
    "import scipy.odr.odrpack as odrpack\n",
    "from scipy.stats.mstats import gmean\n",
    "from scipy.stats import ks_2samp, kstest, linregress\n",
    "import itertools\n",
    "import autoreload\n",
    "from IPython.core.display import display, HTML, Image\n",
    "\n",
    "import seaborn as sns\n",
    "import matplotlib as mpl\n",
    "import matplotlib.pyplot as plt\n",
    "import matplotlib.cm as cm\n",
    "import matplotlib.backends.backend_pdf as pltSave\n",
    "from matplotlib.ticker import FuncFormatter\n",
    "\n",
    "import helper_fcns as hf\n",
    "import helper_fcns_sfBB as hf_sf\n",
    "import plot_sf_figs as psf\n",
    "import numpy as np\n",
    "\n",
    "import pandas as pd\n",
    "\n",
    "from helper_fcns_sfBB import compute_f1f0 as bb_compute_f1f0\n",
    "from helper_fcns_sfBB import get_resp_str\n",
    "\n",
    "import warnings\n",
    "warnings.filterwarnings(action='once')\n",
    "\n",
    "\n",
    "base_dir = os.getcwd() + '/';\n",
    "\n",
    "# what's the save name for this analysis?\n",
    "saveName = 'figures/reports/ch00_thesis_revisions/'; # for one save name for all figures\n",
    "save_loc = base_dir + saveName;"
   ]
  },
  {
   "cell_type": "code",
   "execution_count": 359,
   "metadata": {},
   "outputs": [],
   "source": [
    "from matplotlib import rcParams\n",
    "\n",
    "tex_width = 469; # per \\layout in Overleaf on document\n",
    "sns_offset = 2;\n",
    "\n",
    "rcParams.update(mpl.rcParamsDefault)\n",
    "\n",
    "fontsz = 12;\n",
    "tick_scalar = 1.5;\n",
    "\n",
    "rcParams['pdf.fonttype'] = 42\n",
    "rcParams['ps.fonttype'] = 42\n",
    "\n",
    "params = {'text.usetex' : False,\n",
    "          'font.size' : fontsz,\n",
    "          'font.family': 'lmodern',\n",
    "           'font.style': 'italic'}\n",
    "plt.rcParams.update(params)\n",
    "\n",
    "rcParams['lines.markeredgewidth'] = 0; # no edge, since weird tings happen then\n",
    "\n",
    "tick_adj = ['xtick.major.size', 'xtick.minor.size', 'ytick.major.size', 'ytick.minor.size']\n",
    "for adj in tick_adj:\n",
    "    rcParams[adj] = rcParams[adj] * tick_scalar;"
   ]
  },
  {
   "cell_type": "code",
   "execution_count": 360,
   "metadata": {},
   "outputs": [],
   "source": [
    "%matplotlib inline"
   ]
  },
  {
   "cell_type": "markdown",
   "metadata": {},
   "source": [
    "## Table of contents\n",
    "- Contrast, normalization, and d-DoG-S explanations: simple plots used in public talk\n",
    "- Stimulus size in the experiments\n",
    "- Temporal dynamics"
   ]
  },
  {
   "cell_type": "markdown",
   "metadata": {},
   "source": [
    "### Simple functions"
   ]
  },
  {
   "cell_type": "code",
   "execution_count": 41,
   "metadata": {},
   "outputs": [],
   "source": [
    "def inv_sig(x):\n",
    "    return -np.log((1-x)/x);"
   ]
  },
  {
   "cell_type": "markdown",
   "metadata": {},
   "source": [
    "# Contrast, normalization, and d-DoG-S explanations\n",
    "This was used for the public talk of the defense, and should be here rather than in a chapter-specific notebook"
   ]
  },
  {
   "cell_type": "markdown",
   "metadata": {},
   "source": [
    "*First plot: Luminance vs. dva; vary the additive term in the plotting line and change the save name to demonstrate varied phase*"
   ]
  },
  {
   "cell_type": "code",
   "execution_count": 47,
   "metadata": {},
   "outputs": [
    {
     "name": "stderr",
     "output_type": "stream",
     "text": [
      "findfont: Font family ['lmodern'] not found. Falling back to DejaVu Sans.\n"
     ]
    },
    {
     "data": {
      "image/png": "[encoded data removed]",
      "text/plain": [
       "<Figure size 216x216 with 1 Axes>"
      ]
     },
     "metadata": {
      "needs_background": "light"
     },
     "output_type": "display_data"
    }
   ],
   "source": [
    "plt.figure(figsize=(3, 3))\n",
    "plt.xlabel('Degrees of visual angle')\n",
    "plt.ylabel('Luminance')\n",
    "\n",
    "sf1 = .3\n",
    "sf2 = 1\n",
    "sf3 = 3\n",
    "mean_lum = 50\n",
    "\n",
    "xvals = np.linspace(-2.5, 2.5, 500)\n",
    "plt.plot(xvals, mean_lum + mean_lum*np.sin(2*np.pi*xvals*sf1 + 1.5), color='k')\n",
    "sns.despine(offset=sns_offset)\n",
    "\n",
    "saveName = \"/000_sfExpl_ph3.pdf\"\n",
    "if not os.path.exists(save_loc):\n",
    "    os.makedirs(save_loc)\n",
    "pdfSv = pltSave.PdfPages(save_loc + saveName);\n",
    "pdfSv.savefig(plt.gcf(), bbox_inches='tight') # only one figure here...\n",
    "pdfSv.close()"
   ]
  },
  {
   "cell_type": "markdown",
   "metadata": {},
   "source": [
    "*Vary the lines of this cell to demonstrate varying SF and/or contrast*"
   ]
  },
  {
   "cell_type": "code",
   "execution_count": 43,
   "metadata": {},
   "outputs": [],
   "source": [
    "plt.figure(figsize=(3, 3))\n",
    "plt.xlabel('Degrees of visual angle')\n",
    "plt.ylabel('Luminance')\n",
    "\n",
    "sf1 = .3\n",
    "sf2 = 1\n",
    "sf3 = 3\n",
    "mean_lum = 50\n",
    "\n",
    "xvals = np.linspace(-2.5, 2.5, 500)\n",
    "plt.plot(xvals, mean_lum + mean_lum*np.sin(2*np.pi*xvals*sf1), color='k', alpha=0.3)\n",
    "# plt.plot(xvals, mean_lum + mean_lum*np.sin(2*np.pi*xvals*sf2), color='k', alpha=0.3)\n",
    "# plt.plot(xvals, mean_lum + mean_lum*np.sin(2*np.pi*xvals*sf3), color='k')\n",
    "plt.plot(xvals, mean_lum + .33*mean_lum*np.sin(2*np.pi*xvals*sf1), color='k')\n",
    "sns.despine(offset=sns_offset)\n",
    "\n",
    "saveName = \"/000_sfExpl.pdf\"\n",
    "if not os.path.exists(save_loc):\n",
    "    os.makedirs(save_loc)\n",
    "pdfSv = pltSave.PdfPages(save_loc + saveName);\n",
    "pdfSv.savefig(plt.gcf(), bbox_inches='tight') # only one figure here...\n",
    "pdfSv.close()"
   ]
  },
  {
   "cell_type": "markdown",
   "metadata": {},
   "source": [
    "*This plot demonstrates spatial frequency tuning with and without gain control*"
   ]
  },
  {
   "cell_type": "code",
   "execution_count": null,
   "metadata": {},
   "outputs": [],
   "source": [
    "gain_control_on = 0 # or off [0]\n",
    "\n",
    "plt.figure(figsize=(3, 3))\n",
    "plt.xlabel('Spatial frequency (c/deg)')\n",
    "plt.ylabel('Response (a.u.)')\n",
    "\n",
    "sf_vals = np.geomspace(0.3, 10, 100)\n",
    "resp = hf.get_descrResp([10, 0.1, 0.7, 3], sf_vals, DoGmodel=1)\n",
    "resp /= np.max(resp)\n",
    "resp = np.square(resp)\n",
    "\n",
    "plt.semilogx(sf_vals, np.minimum(thresh, thresh*resp), color='k')\n",
    "if gain_control_on:\n",
    "    thresh = 0.5\n",
    "    pw = 0.33\n",
    "\n",
    "    plt.semilogx(sf_vals, np.minimum(thresh, np.power(0.66, pw)*thresh*resp), color='k', alpha=0.66)\n",
    "    plt.semilogx(sf_vals, np.minimum(thresh, np.power(0.5, pw)*thresh*resp), color='k', alpha=0.5)\n",
    "    plt.semilogx(sf_vals, np.minimum(thresh, np.power(0.33, pw)*thresh*resp), color='k', alpha=0.33)\n",
    "    plt.semilogx(sf_vals, np.minimum(thresh, np.power(0.1, pw)*thresh*resp), color='k', alpha=0.1)\n",
    "else:\n",
    "    thresh = 0.5\n",
    "    to_sub = 0.2 * np.max(resp)\n",
    "\n",
    "    plt.semilogx(sf_vals, np.maximum(0, 0.66*resp - to_sub), color='k', alpha=0.66)\n",
    "    plt.semilogx(sf_vals, np.maximum(0, 0.5*resp - to_sub), color='k', alpha=0.5)\n",
    "    plt.semilogx(sf_vals, np.maximum(0, 0.33*resp - to_sub), color='k', alpha=0.33)\n",
    "    plt.semilogx(sf_vals, np.maximum(0, 0.1*resp - to_sub), color='k', alpha=0.1)\n",
    "\n",
    "sns.despine(offset=sns_offset)\n",
    "\n",
    "saveName = \"/0000_gainControl_%s.pdf\" % (\"on\" if gain_control_on else \"off\")\n",
    "if not os.path.exists(save_loc):\n",
    "    os.makedirs(save_loc)\n",
    "pdfSv = pltSave.PdfPages(save_loc + saveName);\n",
    "pdfSv.savefig(plt.gcf(), bbox_inches='tight') # only one figure here...\n",
    "pdfSv.close()"
   ]
  },
  {
   "cell_type": "markdown",
   "metadata": {},
   "source": [
    "*This plot shows the sharpening of SF tuning via the d-DoG-S model*"
   ]
  },
  {
   "cell_type": "code",
   "execution_count": null,
   "metadata": {},
   "outputs": [],
   "source": [
    "normed = True;\n",
    "\n",
    "\n",
    "f, ax = plt.subplots(1, 2, figsize=(10, 5))\n",
    "\n",
    "ref_params_dog1 = [100, 0.1, inv_sig(0.7), 2];\n",
    "ref_params_dog2 = [inv_sig(0.95), 2, inv_sig(0.7), 2]; # the center params (first two) are relative to dog1\n",
    "ref_params_sep = [-np.inf, 0];\n",
    "\n",
    "ref_params_all = np.hstack((ref_params_dog1, ref_params_dog2, ref_params_sep))\n",
    "ref_params_dog1_only = np.hstack((ref_params_dog1, [-np.inf,1,0,0], ref_params_sep))\n",
    "ref_params_dog2_only = np.hstack((np.hstack((ref_params_dog1[0]*hf.sigmoid(ref_params_dog2[0]), \n",
    "                                             ref_params_dog1[1]*ref_params_dog2[1],\n",
    "                                             ref_params_dog2[2:], [-np.inf,1,0,0])), ref_params_sep))\n",
    "# sf values\n",
    "vals = np.geomspace(0.1, 8, 100);\n",
    "\n",
    "del_linewidth = True;\n",
    "\n",
    "# SPACE\n",
    "space, samps, dc, df1, df2 = hf.parker_hawken(np.copy(ref_params_all), inSpace=True,\n",
    "                                              debug=True, isMult=True, ref_params=None);\n",
    "\n",
    "ax[0].plot(samps, space, 'k-')#, label='full');                                                                                                                                                                                                                                                                                           \n",
    "# and plot the constitutent parts                                                                                                                                                                                                                                                                                                                               \n",
    "ax[0].plot(samps, dc, 'k--')#, label='center');                                                                                                                                                                                                                                                                                           \n",
    "# ax[0].plot(samps, df1, 'r--')#, label='f1');                                                                                                                                                                                                                                                                                              \n",
    "ax[0].plot(samps, df2, 'k:')#, label='f2');  \n",
    "ax[0].set_xlabel('Degrees of visual angle')\n",
    "ax[0].set_ylabel('Sensitivity (a.u.)')\n",
    "\n",
    "\n",
    "# FOURIER\n",
    "prms_norm = np.copy(ref_params_all);\n",
    "prms_norm[-1] = np.Inf; # biggest response when spacing is max\n",
    "to_norm = np.nanmax(hf.parker_hawken(prms_norm, stim_sf=vals)) if normed else 1\n",
    "\n",
    "ax[1].plot(vals, hf.parker_hawken(ref_params_all, stim_sf=vals)/to_norm, 'k-')\n",
    "ax[1].plot(vals, hf.parker_hawken(ref_params_dog1_only, stim_sf=vals)/to_norm, 'k--')\n",
    "ax[1].plot(vals, hf.parker_hawken(ref_params_dog2_only, stim_sf=vals)/to_norm, 'k:')\n",
    "ax[1].set_xscale(\"log\")\n",
    "ax[1].set_yscale(\"log\")\n",
    "ax[1].axis('equal')\n",
    "ax[1].set_ylim([0.01, 1])\n",
    "\n",
    "ax[1].set_xlabel('Spatial frequency (c/deg)')\n",
    "ax[1].set_ylabel('Response (a.u.)')\n",
    "\n",
    "from matplotlib.ticker import FuncFormatter\n",
    "for i in range(2):\n",
    "    for jj, axis in enumerate([ax[i].xaxis, ax[i].yaxis]):\n",
    "        axis.set_major_formatter(FuncFormatter(lambda x,y: '%d' % x if x>=1 else '%.1f' % x)) # this will make everything in non-scientific notation!                                                                                                                                                                                                                     \n",
    "        if jj==1: # i.e. y axis, make sure we have tick labels, here, too                                                                                                                                                                                                                                                                                                 \n",
    "            axis.set_tick_params(labelleft=True);\n",
    "\n",
    "\n",
    "sns.despine(offset=5)\n",
    "f.tight_layout()\n",
    "\n",
    "saveName = \"/0000_ddogs.pdf\"\n",
    "if not os.path.exists(save_loc):\n",
    "    os.makedirs(save_loc)\n",
    "pdfSv = pltSave.PdfPages(save_loc + saveName);\n",
    "pdfSv.savefig(plt.gcf(), bbox_inches='tight') # only one figure here...\n",
    "pdfSv.close()"
   ]
  },
  {
   "cell_type": "markdown",
   "metadata": {},
   "source": [
    "# Stimulus size used\n",
    "\n",
    "Per Hawk's comments, the text wasn't clear enough as to what stimulus size was used for the experiments. Here, I'll plot the distribution of stimulus sizes used in the experiments, split by LGN/V1 data.\n",
    "\n",
    "*Note that we know Sach's experiments (34 LGN cells) used 8 degree patches for all cells.*\n",
    "\n",
    "**NOTE: Jointlists created after 23.04.15 will have stimSize as metadata key!**"
   ]
  },
  {
   "cell_type": "code",
   "execution_count": 225,
   "metadata": {},
   "outputs": [],
   "source": [
    "# Load jointLists\n",
    "lgn_jointList = hf.np_smart_load('jointList_LGN_230415_vT00_dvT00_jt7.npy')\n",
    "v1_jointList = hf.np_smart_load('jointList_wMods_V1_230415vE_vT00_dvT00_m3j10.npy')\n",
    "\n",
    "# --- also add a better access to expDir to lgn, v1_jointList\n",
    "nCells_lgn = len(lgn_jointList.keys())\n",
    "lgn_expDirs = [lgn_jointList[x][\"metadata\"][\"fullPath\"].split('/')[-3] for x in range(nCells_lgn)]\n",
    "nCells_v1 = len(v1_jointList.keys())\n",
    "v1_expDirs = [v1_jointList[x][\"metadata\"][\"fullPath\"].split('/')[-3] for x in range(nCells_v1)]\n",
    "\n",
    "stimSize_lgn = hf.jl_get_metric_byCon(lgn_jointList, ['stimSize'], conVal=None, disp=None, fieldOverwrite='metadata')[0]\n",
    "stimSize_v1 = hf.jl_get_metric_byCon(v1_jointList, ['stimSize'], conVal=None, disp=None, fieldOverwrite='metadata')[0]\n",
    "\n",
    "# And also get measured RF size...\n",
    "rfsize_lgn = hf.jl_get_metric_byCon(lgn_jointList, ['rfsize', 'gsf_model'], conVal=None, disp=None, fieldOverwrite='basics')[0]\n",
    "rfsize_v1 = hf.jl_get_metric_byCon(v1_jointList, ['rfsize', 'gsf_model'], conVal=None, disp=None, fieldOverwrite='basics')[0]\n",
    "rfsize_data_lgn = hf.jl_get_metric_byCon(lgn_jointList, ['rfsize', 'gsf_data'], conVal=None, disp=None, fieldOverwrite='basics')[0]\n",
    "rfsize_data_v1 = hf.jl_get_metric_byCon(v1_jointList, ['rfsize', 'gsf_data'], conVal=None, disp=None, fieldOverwrite='basics')[0]\n"
   ]
  },
  {
   "cell_type": "markdown",
   "metadata": {},
   "source": [
    "### First, for all cells (none excluded)"
   ]
  },
  {
   "cell_type": "markdown",
   "metadata": {},
   "source": [
    "##### LGN"
   ]
  },
  {
   "cell_type": "code",
   "execution_count": 219,
   "metadata": {},
   "outputs": [],
   "source": [
    "# Now after this, round to nearest tenth...\n",
    "stimSize_lgn = np.round(stimSize_lgn, 1)\n",
    "# And get only non-Sach\n",
    "stimSize_noSach = stimSize_lgn[~np.in1d(lgn_expDirs, 'sach')]"
   ]
  },
  {
   "cell_type": "code",
   "execution_count": 253,
   "metadata": {},
   "outputs": [
    {
     "data": {
      "image/png": "[encoded data removed]",
      "text/plain": [
       "<Figure size 864x360 with 2 Axes>"
      ]
     },
     "metadata": {
      "needs_background": "light"
     },
     "output_type": "display_data"
    }
   ],
   "source": [
    "f, ax = plt.subplots(1, 2, figsize=(12, 5))\n",
    "thresh = 4 # want to know how many cells below this size\n",
    "\n",
    "# All data\n",
    "ax[0].set_title(f\"All LGN: {np.sum(stimSize_lgn<thresh)} out of {len(stimSize_lgn)} below {thresh} degrees\")\n",
    "sns.histplot(np.round(stimSize_lgn, 3), bins=np.linspace(0.5, 10.5, 11), ax=ax[0])\n",
    "# No Sach\n",
    "ax[1].set_title(f\"All LGN: {np.sum(stimSize_noSach<thresh)} out of {len(stimSize_noSach)} below {thresh} degrees\")\n",
    "sns.histplot(np.round(stimSize_noSach, 3), bins=np.linspace(0.5, 10.5, 11), ax=ax[1])\n",
    "\n",
    "for i in range(2):\n",
    "    ax[i].set_xlabel(\"Stimulus size (deg)\")\n",
    "\n",
    "f.suptitle(\"LGN stimulus sizes\")\n",
    "\n",
    "sns.despine(offset=sns_offset)\n",
    "\n",
    "saveName = \"/01_stimSize_lgn.pdf\"\n",
    "if not os.path.exists(save_loc):\n",
    "    os.makedirs(save_loc)\n",
    "pdfSv = pltSave.PdfPages(save_loc + saveName);\n",
    "pdfSv.savefig(plt.gcf(), bbox_inches='tight') # only one figure here...\n",
    "pdfSv.close()"
   ]
  },
  {
   "cell_type": "markdown",
   "metadata": {},
   "source": [
    "##### V1\n",
    "Eeks...we used much smaller stimulus size than previously thought. Will need to comment on this in thesis, vis-a-vis resolving lower spatial frequencies."
   ]
  },
  {
   "cell_type": "code",
   "execution_count": 221,
   "metadata": {},
   "outputs": [],
   "source": [
    "# round to nearest tenth\n",
    "stimSize_v1 = np.round(stimSize_v1, 1) # round to tenth"
   ]
  },
  {
   "cell_type": "code",
   "execution_count": 252,
   "metadata": {},
   "outputs": [
    {
     "data": {
      "image/png": "[encoded data removed]",
      "text/plain": [
       "<Figure size 432x288 with 1 Axes>"
      ]
     },
     "metadata": {
      "needs_background": "light"
     },
     "output_type": "display_data"
    }
   ],
   "source": [
    "plt.figure()\n",
    "thresh = 1.5 # want to know how many cells below this size\n",
    "\n",
    "# All data\n",
    "plt.title(f\"All V1: {np.sum(stimSize_v1<thresh)} out of {len(stimSize_v1)} below {thresh} degrees\")\n",
    "sns.histplot(np.round(stimSize_v1, 3), bins=np.linspace(0.5, 10.5, 11))\n",
    "plt.xlabel(\"Stimulus size (deg)\")\n",
    "\n",
    "sns.despine(offset=sns_offset)\n",
    "\n",
    "saveName = \"/01_stimSize_v1.pdf\"\n",
    "if not os.path.exists(save_loc):\n",
    "    os.makedirs(save_loc)\n",
    "pdfSv = pltSave.PdfPages(save_loc + saveName);\n",
    "pdfSv.savefig(plt.gcf(), bbox_inches='tight') # only one figure here...\n",
    "pdfSv.close()"
   ]
  },
  {
   "cell_type": "code",
   "execution_count": 387,
   "metadata": {},
   "outputs": [
    {
     "data": {
      "image/png": "[encoded data removed]",
      "text/plain": [
       "<Figure size 720x360 with 2 Axes>"
      ]
     },
     "metadata": {
      "needs_background": "light"
     },
     "output_type": "display_data"
    }
   ],
   "source": [
    "hist_width = 0.9\n",
    "use_norm = True\n",
    "halfsz = True\n",
    "\n",
    "f, ax = plt.subplots(1, 2, figsize=(10,5))\n",
    "\n",
    "rfsize_v1_clip = np.clip(rfsize_v1, 0.1, None)\n",
    "\n",
    "# Scatter\n",
    "plt.subplot(1,2,1)\n",
    "plt.scatter(stimSize_v1, rfsize_v1_clip)\n",
    "plt.xscale(\"log\")\n",
    "plt.yscale(\"log\")\n",
    "plt.xlabel(\"Stimulus size (deg)\")\n",
    "plt.ylabel(\"Receptive field size (deg)\")\n",
    "plt.plot([0.1, 10], [0.1, 10], 'k--')\n",
    "plt.axis(\"scaled\");\n",
    "rv, pv = ss.pearsonr(stimSize_v1[no_nan], rfsize_v1[no_nan])\n",
    "plt.title(f\"Stim. and RF size correlated (r={rv:.2f}, p={pv:.2e})\")\n",
    "\n",
    "# Ratio\n",
    "plt.subplot(1,2,2)\n",
    "\n",
    "bins = np.linspace(-4, 4, 9) # in log space\n",
    "tickVals = np.linspace(bins[1], bins[-2], len(bins)-2)\n",
    "stepSize = (bins[-1] - bins[0])/(len(bins)-1);\n",
    "binPlotLocs = bins[1:] - 0.5*stepSize;\n",
    "clipLow, clipHigh = bins[1]-0.5*stepSize, bins[-2]+0.5*stepSize;\n",
    "width = hist_width*stepSize;\n",
    "\n",
    "ratios = np.log2(stimSize_v1/rfsize_v1_clip)\n",
    "clipped = np.clip(ratios, clipLow, clipHigh);\n",
    "vals, _ = np.histogram(clipped, bins=bins)\n",
    "vals_norm = vals/np.sum(vals)\n",
    "\n",
    "to_use = vals_norm if use_norm else vals;\n",
    "plt.bar(binPlotLocs, to_use, width=width, align='center')\n",
    "plt.xlabel(\"stim:RF\")\n",
    "plt.title(f\"Stim::RF size ratio\")\n",
    "tickStrs = ['%.2f' % np.power(2,x) for x in tickVals];\n",
    "tickStrs[0] = '$>$%s' % tickStrs[0];\n",
    "tickStrs[-1] = '$<$%s' % tickStrs[-1];\n",
    "if halfsz: # take out every other...\n",
    "    tickStrs = [str_val if np.mod(str_i,2)==1 else '' for str_i,str_val in enumerate(tickStrs)]\n",
    "plt.xticks(ticks=tickVals, labels=tickStrs);\n",
    "plt.title(f\"Median ratio is {np.nanmedian(np.power(2,ratios)):.2f}\")\n",
    "\n",
    "sns.despine(offset=5)\n",
    "\n",
    "saveName = \"/01_stimSize_v1_wRFsize.pdf\"\n",
    "if not os.path.exists(save_loc):\n",
    "    os.makedirs(save_loc)\n",
    "pdfSv = pltSave.PdfPages(save_loc + saveName);\n",
    "pdfSv.savefig(plt.gcf(), bbox_inches='tight') # only one figure here...\n",
    "pdfSv.close()"
   ]
  },
  {
   "cell_type": "markdown",
   "metadata": {},
   "source": [
    "### Then, with inclusion criteria"
   ]
  },
  {
   "cell_type": "markdown",
   "metadata": {},
   "source": [
    "##### Chapter 1 inclusion"
   ]
  },
  {
   "cell_type": "code",
   "execution_count": 472,
   "metadata": {},
   "outputs": [],
   "source": [
    "# Load jointLists\n",
    "lgn_jointList = hf.np_smart_load('jointList_LGN_230415_vT00_dvT00_jt7.npy')\n",
    "# NOTE THE DIFFERENT DATE\n",
    "v1_jointList = hf.np_smart_load('jointList_wMods_V1_230420vE_vT00_dvT00_m3j10.npy')"
   ]
  },
  {
   "cell_type": "code",
   "execution_count": 473,
   "metadata": {},
   "outputs": [
    {
     "name": "stderr",
     "output_type": "stream",
     "text": [
      "<string>:6: DeprecationWarning: Calling nonzero on 0d arrays is deprecated, as it behaves surprisingly. Use `atleast_1d(cond).nonzero()` if the old behavior was intended. If the context of this warning is of the form `arr[nonzero(cond)]`, just use `arr[cond]`.\n"
     ]
    },
    {
     "name": "stdout",
     "output_type": "stream",
     "text": [
      "[LGN] We cut 7 cells (6.09% of the original 115)\n",
      "[V1] We cut 26 cells (15.29% of the original 170)\n"
     ]
    },
    {
     "name": "stderr",
     "output_type": "stream",
     "text": [
      "/users/plevy/miniconda3/envs/pytorch-lcv/lib/python3.6/site-packages/ipykernel_launcher.py:50: SettingWithCopyWarning: \n",
      "A value is trying to be set on a copy of a slice from a DataFrame\n",
      "\n",
      "See the caveats in the documentation: https://pandas.pydata.org/pandas-docs/stable/user_guide/indexing.html#returning-a-view-versus-a-copy\n"
     ]
    }
   ],
   "source": [
    "joints = [lgn_jointList, v1_jointList]\n",
    "whichAreas = ['LGN', 'V1']\n",
    "\n",
    "### First, trim the non-included cells from the jointList\n",
    "for ii, jointList in enumerate(joints):\n",
    "    # Get the keys as ints for easy indexing\n",
    "    keysAsInts = np.array([int(x) for x in jointList.keys()])\n",
    "\n",
    "    prevCells = len(jointList)\n",
    "    \n",
    "    critA = np.where([len(np.where(~np.isnan(jointList[x]['metrics']['dog_varExpl'][0,-1]))[0]) > 0 for x in sorted(jointList.keys())])[0]\n",
    "\n",
    "    jointListTrim = {key: jointList[keysAsInts[key]] for key in critA}\n",
    "    joints[ii] = jointListTrim\n",
    "\n",
    "    remCells = len(joints[ii])\n",
    "\n",
    "    nCut = prevCells-remCells\n",
    "\n",
    "    print('[%s] We cut %d cells (%.2f%% of the original %d)' % (whichAreas[ii], nCut, 100*nCut/prevCells, prevCells))\n",
    "\n",
    "    # also get the keys as ints for easy indexing\n",
    "    keysAsInts = np.array([int(x) for x in jointList.keys()])\n",
    "    \n",
    "### Then, let's also re-arrange into a pandas data frame\n",
    "megas = [];\n",
    "\n",
    "for jointList, whichArea in zip(joints, whichAreas):\n",
    "\n",
    "    ohno = pd.DataFrame.from_dict(jointList) #, orient='index')\n",
    "\n",
    "    meta = pd.json_normalize([ohno[x]['metadata'] for x in sorted(ohno.keys())])\n",
    "    metr = pd.json_normalize([ohno[x]['metrics'] for x in sorted(ohno.keys())])\n",
    "    modl = pd.json_normalize([ohno[x]['model'] for x in sorted(ohno.keys())])\n",
    "    # supr = pd.json_normalize([ohno[x]['superpos'] for x in sorted(ohno.keys())])\n",
    "    basc = pd.json_normalize([ohno[x]['basics'] for x in sorted(ohno.keys())])\n",
    "\n",
    "    mega = pd.concat((meta, metr, modl, basc), axis=1);\n",
    "    \n",
    "    # First, classify as simple or complex [FOR USE WITH V1]\n",
    "    simple = mega['f1f0_ratio'] > 1\n",
    "    msk = np.copy(simple)\n",
    "    simple[~msk] = 'complex'\n",
    "    simple[msk] = 'simple'\n",
    "    mega['simple'] = simple\n",
    "    # Then, if LGN, group all of the others together, label new type as triType\n",
    "    if whichArea == 'LGN':\n",
    "        cellTypes = mega['cellType'];\n",
    "        non_mp = np.logical_and(~(cellTypes=='parvo'), ~(cellTypes=='magno'))\n",
    "        cellTypes[non_mp] = 'other'\n",
    "        mega['triType'] = cellTypes;\n",
    "        \n",
    "    megas.append(mega);\n",
    "    \n",
    "# Finally, unpack the trimmed dataframes\n",
    "lgn_jointList, v1_jointList = megas\n",
    "# --- also add a better access to expDir to lgn, v1_jointList\n",
    "lgn_jointList['expDir'] = lgn_jointList['fullPath'].apply(lambda x: x.split('/')[-3])\n",
    "v1_jointList['expDir'] = v1_jointList['fullPath'].apply(lambda x: x.split('/')[-3])"
   ]
  },
  {
   "cell_type": "markdown",
   "metadata": {},
   "source": [
    "##### LGN"
   ]
  },
  {
   "cell_type": "code",
   "execution_count": 403,
   "metadata": {},
   "outputs": [],
   "source": [
    "# Now after this, round to nearest tenth...\n",
    "stimSize_lgn = np.round(lgn_jointList[\"stimSize\"], 1)\n",
    "# And get only non-Sach\n",
    "stimSize_noSach = stimSize_lgn[~np.in1d(lgn_jointList[\"expDir\"], 'sach')]"
   ]
  },
  {
   "cell_type": "code",
   "execution_count": 404,
   "metadata": {},
   "outputs": [
    {
     "data": {
      "image/png": "[encoded data removed]",
      "text/plain": [
       "<Figure size 864x360 with 2 Axes>"
      ]
     },
     "metadata": {
      "needs_background": "light"
     },
     "output_type": "display_data"
    }
   ],
   "source": [
    "f, ax = plt.subplots(1, 2, figsize=(12, 5))\n",
    "thresh = 4 # want to know how many cells below this size\n",
    "\n",
    "# All data\n",
    "ax[0].set_title(f\"All LGN: {np.sum(stimSize_lgn<thresh)} out of {len(stimSize_lgn)} below {thresh} degrees\")\n",
    "sns.histplot(np.round(stimSize_lgn, 3), bins=np.linspace(0.5, 10.5, 11), ax=ax[0])\n",
    "# No Sach\n",
    "ax[1].set_title(f\"All LGN: {np.sum(stimSize_noSach<thresh)} out of {len(stimSize_noSach)} below {thresh} degrees\")\n",
    "sns.histplot(np.round(stimSize_noSach, 3), bins=np.linspace(0.5, 10.5, 11), ax=ax[1])\n",
    "\n",
    "for i in range(2):\n",
    "    ax[i].set_xlabel(\"Stimulus size (deg)\")\n",
    "\n",
    "f.suptitle(\"LGN stimulus sizes\")\n",
    "\n",
    "sns.despine(offset=sns_offset)\n",
    "\n",
    "saveName = \"/01ch1_stimSize_lgn.pdf\"\n",
    "if not os.path.exists(save_loc):\n",
    "    os.makedirs(save_loc)\n",
    "pdfSv = pltSave.PdfPages(save_loc + saveName);\n",
    "pdfSv.savefig(plt.gcf(), bbox_inches='tight') # only one figure here...\n",
    "pdfSv.close()"
   ]
  },
  {
   "cell_type": "markdown",
   "metadata": {},
   "source": [
    "##### V1"
   ]
  },
  {
   "cell_type": "code",
   "execution_count": 449,
   "metadata": {},
   "outputs": [
    {
     "data": {
      "text/html": [
       "<div>\n",
       "<style scoped>\n",
       "    .dataframe tbody tr th:only-of-type {\n",
       "        vertical-align: middle;\n",
       "    }\n",
       "\n",
       "    .dataframe tbody tr th {\n",
       "        vertical-align: top;\n",
       "    }\n",
       "\n",
       "    .dataframe thead th {\n",
       "        text-align: right;\n",
       "    }\n",
       "</style>\n",
       "<table border=\"1\" class=\"dataframe\">\n",
       "  <thead>\n",
       "    <tr style=\"text-align: right;\">\n",
       "      <th></th>\n",
       "      <th>expDir</th>\n",
       "      <th>cellNum</th>\n",
       "      <th>stimSize</th>\n",
       "      <th>rfsize.gsf_data</th>\n",
       "      <th>rfsize.gsf_model</th>\n",
       "    </tr>\n",
       "  </thead>\n",
       "  <tbody>\n",
       "    <tr>\n",
       "      <th>0</th>\n",
       "      <td>V1_orig</td>\n",
       "      <td>1</td>\n",
       "      <td>1.745910</td>\n",
       "      <td>1.596690</td>\n",
       "      <td>1.24</td>\n",
       "    </tr>\n",
       "    <tr>\n",
       "      <th>1</th>\n",
       "      <td>V1_orig</td>\n",
       "      <td>2</td>\n",
       "      <td>3.999170</td>\n",
       "      <td>3.999170</td>\n",
       "      <td>5.93</td>\n",
       "    </tr>\n",
       "    <tr>\n",
       "      <th>2</th>\n",
       "      <td>V1_orig</td>\n",
       "      <td>3</td>\n",
       "      <td>0.626736</td>\n",
       "      <td>0.626736</td>\n",
       "      <td>0.51</td>\n",
       "    </tr>\n",
       "    <tr>\n",
       "      <th>3</th>\n",
       "      <td>V1_orig</td>\n",
       "      <td>4</td>\n",
       "      <td>2.193580</td>\n",
       "      <td>1.596690</td>\n",
       "      <td>1.65</td>\n",
       "    </tr>\n",
       "    <tr>\n",
       "      <th>4</th>\n",
       "      <td>V1_orig</td>\n",
       "      <td>5</td>\n",
       "      <td>2.506940</td>\n",
       "      <td>2.521870</td>\n",
       "      <td>2.39</td>\n",
       "    </tr>\n",
       "  </tbody>\n",
       "</table>\n",
       "</div>"
      ],
      "text/plain": [
       "    expDir  cellNum  stimSize  rfsize.gsf_data  rfsize.gsf_model\n",
       "0  V1_orig        1  1.745910         1.596690              1.24\n",
       "1  V1_orig        2  3.999170         3.999170              5.93\n",
       "2  V1_orig        3  0.626736         0.626736              0.51\n",
       "3  V1_orig        4  2.193580         1.596690              1.65\n",
       "4  V1_orig        5  2.506940         2.521870              2.39"
      ]
     },
     "execution_count": 449,
     "metadata": {},
     "output_type": "execute_result"
    }
   ],
   "source": [
    "v1_jointList[[\"expDir\", \"cellNum\", \"stimSize\", \"rfsize.gsf_data\", \"rfsize.gsf_model\"]].head()"
   ]
  },
  {
   "cell_type": "code",
   "execution_count": 460,
   "metadata": {},
   "outputs": [],
   "source": [
    "# Now after this, round to nearest tenth...\n",
    "stimSize_v1 = np.round(v1_jointList[\"stimSize\"], 1)\n",
    "# rfsize_v1 = v1_jointList[\"rfsize.gsf_data\"]\n",
    "rfsize_v1 = v1_jointList[\"rfsize.gsf_model\"]\n",
    "no_nan = np.logical_and(~np.isnan(stimSize_v1), ~np.isnan(rfsize_v1))"
   ]
  },
  {
   "cell_type": "code",
   "execution_count": 461,
   "metadata": {},
   "outputs": [
    {
     "data": {
      "image/png": "[encoded data removed]",
      "text/plain": [
       "<Figure size 432x288 with 1 Axes>"
      ]
     },
     "metadata": {
      "needs_background": "light"
     },
     "output_type": "display_data"
    }
   ],
   "source": [
    "plt.figure()\n",
    "thresh = 1.5 # want to know how many cells below this size\n",
    "\n",
    "# All data\n",
    "plt.title(f\"All V1: {np.sum(stimSize_v1<thresh)} out of {len(stimSize_v1)} below {thresh} degrees\")\n",
    "bins = np.linspace(-3, 3, 13)\n",
    "sns.histplot(np.log2(np.round(stimSize_v1, 3)), bins=bins)\n",
    "plt.xlabel(\"Stimulus size (deg)\")\n",
    "tickStrs = ['%.2f' % np.power(2,x) for x in bins];\n",
    "# if halfsz: # take out every other...\n",
    "tickStrs = [str_val if np.mod(str_i,2)==0 else '' for str_i,str_val in enumerate(tickStrs)]\n",
    "plt.xticks(ticks=bins, labels=tickStrs)\n",
    "\n",
    "\n",
    "sns.despine(offset=sns_offset)\n",
    "\n",
    "saveName = \"/01ch1_stimSize_v1.pdf\"\n",
    "if not os.path.exists(save_loc):\n",
    "    os.makedirs(save_loc)\n",
    "pdfSv = pltSave.PdfPages(save_loc + saveName);\n",
    "pdfSv.savefig(plt.gcf(), bbox_inches='tight') # only one figure here...\n",
    "pdfSv.close()"
   ]
  },
  {
   "cell_type": "code",
   "execution_count": 463,
   "metadata": {},
   "outputs": [
    {
     "data": {
      "image/png": "[encoded data removed]",
      "text/plain": [
       "<Figure size 720x360 with 2 Axes>"
      ]
     },
     "metadata": {
      "needs_background": "light"
     },
     "output_type": "display_data"
    }
   ],
   "source": [
    "hist_width = 0.9\n",
    "use_norm = True\n",
    "halfsz = True\n",
    "\n",
    "f, ax = plt.subplots(1, 2, figsize=(10,5))\n",
    "\n",
    "rfsize_v1_clip = np.clip(rfsize_v1, 0.1, None)\n",
    "\n",
    "# Scatter\n",
    "plt.subplot(1,2,1)\n",
    "plt.scatter(stimSize_v1, rfsize_v1_clip)\n",
    "plt.xscale(\"log\")\n",
    "plt.yscale(\"log\")\n",
    "plt.xlabel(\"Stimulus size (deg)\")\n",
    "plt.ylabel(\"Receptive field size (deg)\")\n",
    "plt.plot([0.1, 10], [0.1, 10], 'k--')\n",
    "plt.axis(\"scaled\");\n",
    "rv, pv = ss.pearsonr(stimSize_v1[no_nan], rfsize_v1[no_nan])\n",
    "plt.title(f\"Stim. and RF size correlated (r={rv:.2f}, p={pv:.2e})\")\n",
    "\n",
    "# Ratio\n",
    "plt.subplot(1,2,2)\n",
    "\n",
    "bins = np.linspace(-4, 4, 9) # in log space\n",
    "tickVals = np.linspace(bins[1], bins[-2], len(bins)-2)\n",
    "stepSize = (bins[-1] - bins[0])/(len(bins)-1);\n",
    "binPlotLocs = bins[1:] - 0.5*stepSize;\n",
    "clipLow, clipHigh = bins[1]-0.5*stepSize, bins[-2]+0.5*stepSize;\n",
    "width = hist_width*stepSize;\n",
    "\n",
    "ratios = np.log2(stimSize_v1/rfsize_v1_clip)\n",
    "clipped = np.clip(ratios, clipLow, clipHigh);\n",
    "vals, _ = np.histogram(clipped, bins=bins)\n",
    "vals_norm = vals/np.sum(vals)\n",
    "\n",
    "to_use = vals_norm if use_norm else vals;\n",
    "plt.bar(binPlotLocs, to_use, width=width, align='center')\n",
    "plt.xlabel(\"stim:RF ratio\")\n",
    "tickStrs = ['%.2f' % np.power(2,x) for x in tickVals];\n",
    "tickStrs[0] = '$>$%s' % tickStrs[0];\n",
    "tickStrs[-1] = '$<$%s' % tickStrs[-1];\n",
    "if halfsz: # take out every other...\n",
    "    tickStrs = [str_val if np.mod(str_i,2)==1 else '' for str_i,str_val in enumerate(tickStrs)]\n",
    "plt.xticks(ticks=tickVals, labels=tickStrs);\n",
    "plt.title(f\"Median ratio is {np.nanmedian(np.power(2,ratios)):.2f} [n={len(ratios)}]\")\n",
    "\n",
    "sns.despine(offset=5)\n",
    "\n",
    "saveName = \"/01ch1_stimSize_v1_wRFsize.pdf\"\n",
    "if not os.path.exists(save_loc):\n",
    "    os.makedirs(save_loc)\n",
    "pdfSv = pltSave.PdfPages(save_loc + saveName);\n",
    "pdfSv.savefig(plt.gcf(), bbox_inches='tight') # only one figure here...\n",
    "pdfSv.close()"
   ]
  },
  {
   "cell_type": "markdown",
   "metadata": {},
   "source": [
    "# Temporal dynamics\n",
    "Per RK and MJH, I should look at the temporal dynamics of certain cells. Namely, do we see different effects early on vs. later in the response? This is motivated by the work of Bredfeldt + Ringach (2002) as well as Mazer et al (2002), among others, which show that early responses are unsuppressed and more LGN-like (i.e. lower spatial frequency tuning)"
   ]
  },
  {
   "cell_type": "code",
   "execution_count": 607,
   "metadata": {},
   "outputs": [],
   "source": [
    "expDir = \"V1_BB\"\n",
    "cellNum = 13\n",
    "# expDir = \"altExp\"\n",
    "# cellNum = 4\n",
    "\n",
    "isBB = expDir==\"V1_BB\"\n",
    "\n",
    "expStr = \"_sfBB\" if isBB else \"_sfm\"\n",
    "curr_loc = np.where(np.logical_and(v1_jointList[\"cellNum\"]==cellNum, v1_jointList[\"expDir\"]==expDir))[0]"
   ]
  },
  {
   "cell_type": "code",
   "execution_count": 639,
   "metadata": {},
   "outputs": [
    {
     "data": {
      "text/plain": [
       "array([ True,  True,  True,  True,  True,  True,  True,  True,  True,\n",
       "        True,  True,  True,  True,  True,  True,  True,  True,  True,\n",
       "        True,  True,  True,  True,  True,  True,  True,  True,  True,\n",
       "        True,  True,  True,  True,  True,  True,  True,  True,  True,\n",
       "        True,  True,  True,  True,  True,  True,  True,  True,  True,\n",
       "        True,  True,  True,  True,  True,  True,  True,  True,  True,\n",
       "       False, False, False, False, False, False, False, False, False,\n",
       "       False, False, False, False, False, False, False, False, False,\n",
       "       False, False, False, False, False, False, False, False, False,\n",
       "       False, False, False, False, False, False, False, False, False,\n",
       "       False, False, False, False, False, False, False, False, False,\n",
       "       False, False, False, False, False, False, False, False, False,\n",
       "       False, False, False, False, False, False, False, False, False,\n",
       "       False, False, False, False, False, False, False, False, False,\n",
       "       False, False, False, False, False, False, False, False, False,\n",
       "       False, False, False, False, False, False, False, False, False,\n",
       "       False, False, False, False, False, False, False, False, False,\n",
       "       False, False, False, False, False, False, False, False, False,\n",
       "       False, False, False, False, False, False, False, False, False,\n",
       "       False, False, False, False, False, False, False, False, False,\n",
       "       False, False, False, False, False, False, False])"
      ]
     },
     "execution_count": 639,
     "metadata": {},
     "output_type": "execute_result"
    }
   ],
   "source": [
    "tr_inf[\"spikeTimes\"][0] < (.2*1e4)"
   ]
  },
  {
   "cell_type": "code",
   "execution_count": 643,
   "metadata": {},
   "outputs": [],
   "source": [
    "ok_times = tr_inf[\"spikeTimes\"][0] < (.2*1e4)\n",
    "ha = [].extend(tr_inf[\"spikeTimes\"][0][ok_times])"
   ]
  },
  {
   "cell_type": "code",
   "execution_count": 644,
   "metadata": {},
   "outputs": [],
   "source": [
    "ha"
   ]
  },
  {
   "cell_type": "code",
   "execution_count": null,
   "metadata": {},
   "outputs": [],
   "source": []
  },
  {
   "cell_type": "code",
   "execution_count": 608,
   "metadata": {},
   "outputs": [],
   "source": [
    "# get experiment name, load cell\n",
    "curr_entry = v1_jointList.iloc[curr_loc]\n",
    "expName = f\"{curr_entry['expName'].values[0]}{expStr}.npy\"\n",
    "expInd = curr_entry[\"expInd\"].values[0]\n",
    "cell = hf.np_smart_load(curr_entry[\"fullPath\"].values[0] + expName);\n",
    "if isBB:\n",
    "    tr_inf = cell['sfBB_core']\n",
    "    nTrials = len(tr_inf[\"spikeCounts\"]);\n",
    "    time_scalar = 1e-4 # the spike times are in 1/10th ms, so multiply by 1e-4 to convert to S\n",
    "else:\n",
    "    tr_inf = cell['sfm']['exp']['trial']\n",
    "    nTrials = len(tr_inf[\"num\"]);\n",
    "    time_scalar = 1 # already in s\n",
    "\n",
    "stimDur = hf.get_exp_params(expInd, forceDir=expDir).stimDur;\n",
    "spike_times = [time_scalar*tr_inf[\"spikeTimes\"][x] for x in range(nTrials)]; \n",
    "psth, bins = hf.make_psth(spike_times, stimDur=stimDur);\n",
    "\n",
    "\n",
    "# NOTE: NOT CURRENTLY WORKING FOR NON-BB DATA\n",
    "counts, centers = hf.make_psth_slide(spike_times, stimDur=stimDur)\n"
   ]
  },
  {
   "cell_type": "code",
   "execution_count": 629,
   "metadata": {},
   "outputs": [
    {
     "data": {
      "image/png": "[encoded data removed]",
      "text/plain": [
       "<Figure size 432x288 with 1 Axes>"
      ]
     },
     "metadata": {
      "needs_background": "light"
     },
     "output_type": "display_data"
    }
   ],
   "source": [
    "if isBB:\n",
    "    trials = hf_sf.get_valid_trials(tr_inf, 1, 0, 3, 3) # tr_inf, maskON, baseON, conIND, sfIND\n",
    "    \n",
    "for trial_i, trial in enumerate(trials):\n",
    "    only_spikes = np.where(psth[trial])[0]\n",
    "    mdn = np.nanmedian(counts[trial])\n",
    "    plt.plot(bins[trial][only_spikes], trial_i + mdn*psth[trial][only_spikes], 'v')\n",
    "#     plt.plot(centers, trial_i + counts[trial])\n",
    "#     plt.plot(centers, counts[trial])\n",
    "plt.title(f\"{np.mean(tr_inf['spikeCounts'][trials])} spikes in {stimDur} s\");\n",
    "plt.xlabel(\"Time (s)\");\n",
    "plt.ylabel(\"Rate\");"
   ]
  },
  {
   "cell_type": "markdown",
   "metadata": {},
   "source": [
    "#### The next two cells (early_times, late_times) demonstrate how we can analyze early/late response\n",
    "Rather than re-doing our analyses to work with subsets of the stimulus duration, we'll just take the portion of the response we're interested in (*note: should be integer fraction of the total duration*) and replicate it to fill out that time:\n",
    "\n",
    "- For example, if we want the first 200ms of a 1s stimulus presentation, simply \"copy\" the spikes in that window and shift them by 200, 400, 600, and 800ms\n",
    "    - i.e. spikes at (0.03, 0.15, 0.19) become (0.23, 0.35, 0.39), then (0.43, 0.55, 0.59), and so on"
   ]
  },
  {
   "cell_type": "code",
   "execution_count": 677,
   "metadata": {},
   "outputs": [],
   "source": [
    "early_times = dict();\n",
    "\n",
    "for tr_i, spikeTimes in enumerate(tr_inf[\"spikeTimes\"]):\n",
    "    hmm = np.array([])\n",
    "    window_start = 0\n",
    "    window_dur = 0.2\n",
    "    frac = int(1/window_dur)\n",
    "    msTenthToS = 1e4\n",
    "\n",
    "    ok_times = np.logical_and(spikeTimes>(window_start*msTenthToS), \n",
    "                              spikeTimes<((window_dur+window_start)*msTenthToS))\n",
    "\n",
    "    for i in range(frac):\n",
    "        hmm = np.concatenate((hmm, i*window*msTenthToS + spikeTimes[ok_times]))\n",
    "    early_times[tr_i] = hmm"
   ]
  },
  {
   "cell_type": "code",
   "execution_count": 710,
   "metadata": {},
   "outputs": [],
   "source": [
    "late_times = dict();\n",
    "\n",
    "for tr_i, spikeTimes in enumerate(tr_inf[\"spikeTimes\"]):\n",
    "    hmm = np.array([])\n",
    "    window_start = 0.5\n",
    "    window_dur = 0.5\n",
    "    frac = int(1/window_dur)\n",
    "    msTenthToS = 1e4\n",
    "\n",
    "    ok_times = np.logical_and(spikeTimes>(window_start*msTenthToS), \n",
    "                              spikeTimes<((window_dur+window_start)*msTenthToS))\n",
    "    times_reset = spikeTimes[ok_times] - window_start*msTenthToS\n",
    "    for i in range(frac):\n",
    "        hmm = np.concatenate((hmm, i*window_dur*msTenthToS + times_reset))\n",
    "    late_times[tr_i] = hmm"
   ]
  },
  {
   "cell_type": "code",
   "execution_count": 713,
   "metadata": {},
   "outputs": [
    {
     "data": {
      "image/png": "[encoded data removed]",
      "text/plain": [
       "<Figure size 432x288 with 2 Axes>"
      ]
     },
     "metadata": {
      "needs_background": "light"
     },
     "output_type": "display_data"
    }
   ],
   "source": [
    "tr_i = 220\n",
    "\n",
    "f, ax = plt.subplots()\n",
    "\n",
    "for i in range(2):\n",
    "    \n",
    "    plt.subplot(1,2,i+1)\n",
    "    plt.plot(early_times[tr_i], label=\"early\", color='r', linestyle='--')\n",
    "    orig_len = len(tr_inf[\"spikeTimes\"][tr_i])\n",
    "    late_len = len(late_times[tr_i])\n",
    "    if i == 0: # shift to check alignment at end...\n",
    "        lbl = \"late (shift)\"\n",
    "        xvals = np.arange(late_len) - (late_len-orig_len)\n",
    "    else:\n",
    "        lbl = \"late\"\n",
    "        xvals = np.arange(late_len)\n",
    "    plt.plot(xvals, late_times[tr_i], label=lbl, color='b', linestyle='--')\n",
    "\n",
    "    plt.plot(tr_inf[\"spikeTimes\"][tr_i], label=\"original\", color='k', linewidth=3)\n",
    "    plt.legend();\n",
    "    plt.xlabel(\"Spike #\");\n",
    "    plt.ylabel(\"Time (0.1ms)\");"
   ]
  },
  {
   "cell_type": "code",
   "execution_count": null,
   "metadata": {},
   "outputs": [],
   "source": []
  }
 ],
 "metadata": {
  "kernelspec": {
   "display_name": "Python 3",
   "language": "python",
   "name": "python3"
  },
  "language_info": {
   "codemirror_mode": {
    "name": "ipython",
    "version": 3
   },
   "file_extension": ".py",
   "mimetype": "text/x-python",
   "name": "python",
   "nbconvert_exporter": "python",
   "pygments_lexer": "ipython3",
   "version": "3.6.12"
  }
 },
 "nbformat": 4,
 "nbformat_minor": 4
}
