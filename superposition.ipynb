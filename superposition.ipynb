{
 "cells": [
  {
   "cell_type": "markdown",
   "metadata": {},
   "source": [
    "# Superposition\n",
    "\n",
    "Last access (y.m.d): 22.09.18  \n",
    "Last update (y.m.d): 20.06.10  "
   ]
  },
  {
   "cell_type": "markdown",
   "metadata": {},
   "source": [
    "In this notebook, I'll look at truly testing the superposition aspect of the newer V1 experiments. In particular, for a given stimulus with dispersion > 1 (i.e. not just a single grating), the components of that stimulus will have been presented in isolation. This allows us to test $R_{1+2+..}$ against $R_1 + R_2 + ...$, where $_i$ are different stimulus components.\n",
    "\n",
    "### Table of contents\n",
    "\n",
    "- Example cell or experiment\n",
    "   - suppression index (all conditions)  \n",
    "   - sf tuning predictions   \n",
    "   - rvc predictions  \n",
    "- All V1 data   \n"
   ]
  },
  {
   "cell_type": "code",
   "execution_count": 1,
   "metadata": {},
   "outputs": [],
   "source": [
    "import os\n",
    "import numpy as np\n",
    "import matplotlib\n",
    "# matplotlib.use('TkAgg') # to avoid GUI/cluster issues...\n",
    "import matplotlib.pyplot as plt\n",
    "import matplotlib.backends.backend_pdf as pltSave\n",
    "import matplotlib.animation as anim\n",
    "import matplotlib.cm as cm\n",
    "import seaborn as sns\n",
    "import itertools\n",
    "import helper_fcns as hf\n",
    "import autoreload\n",
    "import scipy.optimize as opt\n",
    "from scipy.stats.mstats import gmean as geomean\n",
    "\n",
    "import sys # so that we can import model_responses (in different folder)\n",
    "\n",
    "import warnings\n",
    "warnings.filterwarnings('once');\n",
    "\n",
    "%matplotlib inline\n",
    "\n",
    "plt.style.use('https://raw.githubusercontent.com/paul-levy/SF_diversity/master/paul_plt_style.mplstyle');\n",
    "\n",
    "basePath = os.getcwd() + '/'"
   ]
  },
  {
   "cell_type": "code",
   "execution_count": 2,
   "metadata": {},
   "outputs": [],
   "source": [
    "# Before any plotting, fix plotting paramaters\n",
    "plt.style.use('https://raw.githubusercontent.com/paul-levy/SF_diversity/master/paul_plt_style.mplstyle');\n",
    "from matplotlib import rcParams\n",
    "rcParams['font.size'] = 20;\n",
    "rcParams['pdf.fonttype'] = 42 # should be 42, but there are kerning issues                                                                                                                                                                                                    \n",
    "rcParams['ps.fonttype'] = 42 # should be 42, but there are kerning issues                                                                                                                                                                                                     \n",
    "\n",
    "rcParams['lines.linewidth'] = 2.5;\n",
    "rcParams['axes.linewidth'] = 1.5;\n",
    "rcParams['lines.markersize'] = 8; # this is in style sheet, just being explicit\n",
    "rcParams['lines.markeredgewidth'] = 0; # no edge, since weird tings happen then\n",
    "\n",
    "rcParams['xtick.major.size'] = 15\n",
    "rcParams['xtick.minor.size'] = 5; # no minor ticks\n",
    "rcParams['ytick.major.size'] = 15\n",
    "rcParams['ytick.minor.size'] = 0; # no minor ticks\n",
    "\n",
    "rcParams['xtick.major.width'] = 2\n",
    "rcParams['xtick.minor.width'] = 2;\n",
    "rcParams['ytick.major.width'] = 2\n",
    "rcParams['ytick.minor.width'] = 0\n",
    "\n",
    "rcParams['font.style'] = 'oblique';\n",
    "rcParams['font.size'] = 20;"
   ]
  },
  {
   "cell_type": "markdown",
   "metadata": {},
   "source": [
    "## Example cell or experiment\n",
    "\n",
    "This section of code is used to look at just one cell or one experiment (e.g. all of V1_orig).\n",
    "\n",
    "In this section, I outline some of the key components of the analysis and make helpful visualizations."
   ]
  },
  {
   "cell_type": "markdown",
   "metadata": {},
   "source": [
    "### Suppression index"
   ]
  },
  {
   "cell_type": "code",
   "execution_count": 9,
   "metadata": {},
   "outputs": [],
   "source": [
    "## edit\n",
    "expDir   = 'V1/';\n",
    "dataListNm = hf.get_datalist(expDir);\n",
    "# dataListNm = 'dataList_glx.npy';\n",
    "descrFits_f0 = None;\n",
    "if expDir == 'V1/':\n",
    "    rvcMod = 1;\n",
    "elif expDir == 'LGN/':\n",
    "    rvcMod = 0; \n",
    "\n",
    "rvcName = 'rvcFitsHPC_220718' # updated - computes RVC for best responses (i.e. f0 or f1)\n",
    "dFits_base = 'descrFitsHPC_220811vEs_phAdj';\n",
    "# rvcName = 'rvcFits_191023' # updated - computes RVC for best responses (i.e. f0 or f1)\n",
    "# dFits_base = 'descrFits_191023';\n",
    "dMod_num, dLoss_num = 3, 2; # see hf.descrFit_name/descrMod_name/etc for details\n",
    "dFits_mod = hf.descrMod_name(dMod_num)\n",
    "\n",
    "descrFits_name = hf.descrFit_name(lossType=dLoss_num, descrBase=dFits_base, modelName=dFits_mod);\n",
    "    \n",
    "# expDir   = 'altExp/';\n",
    "# dataListNm = hf.get_datalist(expDir);\n",
    "# descrFits_f0 = 'descrFits_190503_poiss_flex.npy';\n",
    "# rvcName = None;\n",
    "# rvcnm = 'rvcFits_190905_pos.npy';\n",
    "# rvcName = 'rvcFits_190905_pos.npy';\n",
    "\n",
    "## now, let it run\n",
    "dataPath = basePath + expDir + 'structures/'\n",
    "save_loc = basePath + expDir + 'figures/'\n",
    "\n",
    "dataList = hf.np_smart_load(dataPath + dataListNm);\n",
    "descrFits = hf.np_smart_load(dataPath + descrFits_name);"
   ]
  },
  {
   "cell_type": "code",
   "execution_count": 12,
   "metadata": {},
   "outputs": [],
   "source": [
    "savePlt=0;\n",
    "save_locSuper = save_loc + 'superposition_220918_fromNB/'\n",
    "# save_locSuper = save_loc + 'superposition_200305/'\n",
    "if not os.path.exists(save_locSuper):\n",
    "    os.makedirs(save_locSuper)"
   ]
  },
  {
   "cell_type": "code",
   "execution_count": 13,
   "metadata": {},
   "outputs": [],
   "source": [
    "# pick one cell? or a set?\n",
    "cells = [12]; \n",
    "\n",
    "# or do all?\n",
    "# cells = np.arange(1, 1+len(dataList['unitName']))\n",
    "\n",
    "# or or subset of all cells?\n",
    "# cells = np.setxor1d(np.arange(1, 1+len(dataList['unitName'])), np.array([2, 9, 13, 16, 18, 19, 24, 30, 29, 33, 34]))"
   ]
  },
  {
   "cell_type": "code",
   "execution_count": 14,
   "metadata": {},
   "outputs": [],
   "source": [
    "zr_rm = lambda x: x[x>0];\n",
    "# more flexible - only get values where x AND z are greater than some value \"gt\" (e.g. 0, 1, 0.4, ...)\n",
    "zr_rm_pair = lambda x, z, gt: [x[np.logical_and(x>gt, z>gt)], z[np.logical_and(x>gt, z>gt)]];\n",
    "# zr_rm_pair = lambda x, z: [x[np.logical_and(x>0, z>0)], z[np.logical_and(x>0, z>0)]] if np.logical_and(x!=[], z!=[])==True else [], [];"
   ]
  },
  {
   "cell_type": "code",
   "execution_count": 15,
   "metadata": {},
   "outputs": [],
   "source": [
    "# here, we'll save measures we are going use for analysis purpose - e.g. supperssion index, c50\n",
    "suppr_cell = dict();"
   ]
  },
  {
   "cell_type": "code",
   "execution_count": 17,
   "metadata": {},
   "outputs": [],
   "source": [
    "for i in cells:\n",
    "    curr_suppr = dict();\n",
    "    try:\n",
    "        nRows, nCols = 6, 2;\n",
    "        \n",
    "        which_cell = i; # which cell - index will be which_cell - 1\n",
    "        cellName = dataList['unitName'][which_cell-1];\n",
    "        expInd = hf.get_exp_ind(dataPath, cellName)[0]\n",
    "        S = hf.np_smart_load(dataPath + cellName + '_sfm.npy')\n",
    "        expData = S['sfm']['exp']['trial'];\n",
    "        \n",
    "        # 0th, let's load the basic tuning characterizations AND the descriptive fit\n",
    "        dfit_curr = descrFits[which_cell-1]['params'][0,-1,:]; # single grating, highest contrast\n",
    "        # - then the basics\n",
    "        basic_names, basic_order = dataList['basicProgName'][which_cell-1], dataList['basicProgOrder']\n",
    "        basics = hf.get_basic_tunings(basic_names, basic_order)\n",
    "        try:\n",
    "            oriBW, oriCV = basics['ori']['bw'], basics['ori']['cv'];\n",
    "        except:\n",
    "            oriBW, oriCV = np.nan, np.nan;\n",
    "        try:\n",
    "            tfBW = basics['tf']['tfBW_oct'];\n",
    "        except:\n",
    "            tfBW = np.nan;\n",
    "        try:\n",
    "            suprMod = basics['rfsize']['suprInd_model'];\n",
    "        except:\n",
    "            suprMod = np.nan;\n",
    "        try:\n",
    "            suprDat = basics['rfsize']['suprInd_data'];\n",
    "        except:\n",
    "            suprDat = np.nan;\n",
    "        \n",
    "        ### NOW...\n",
    "        try:\n",
    "            cellType = dataList['unitType'][which_cell-1];\n",
    "        except:\n",
    "            # TODO: note, this is dangerous; thus far, only V1 cells don't have 'unitType' field in dataList, so we can safely do this                                                                                                                                                  \n",
    "            cellType = 'V1';\n",
    "        \n",
    "        # first, compute f1f0 ratio to determine if we look at f0 or f1 response\n",
    "        f1f0_rat = hf.compute_f1f0(expData, which_cell, expInd, dataPath, descrFitName_f0=descrFits_f0)[0];\n",
    "        curr_suppr['f1f0'] = f1f0_rat;\n",
    "        \n",
    "        if f1f0_rat > 1 or expDir == 'LGN/': # i.e. if we're looking at a simple cell, then let's get F1\n",
    "            if rvcName is not None:\n",
    "                rvcFits = hf.get_rvc_fits(dataPath, expInd, which_cell, rvcName=rvcName, rvcMod=rvcMod);\n",
    "            else:\n",
    "                rvcFits = None\n",
    "            spikes_byComp = hf.get_spikes(expData, get_f0=0, rvcFits=rvcFits, expInd=expInd);\n",
    "            spikes = np.array([np.sum(x) for x in spikes_byComp]);\n",
    "            rates = True; # when we get the spikes from rvcFits, they've already been converted into rates (in hf.get_all_fft)\n",
    "            baseline = None; # f1 has no \"DC\", yadig?\n",
    "        else: # otherwise, if it's complex, just get F0\n",
    "            spikes = hf.get_spikes(expData, get_f0=1, rvcFits=None, expInd=expInd);\n",
    "            rates = False; # get_spikes without rvcFits is directly from spikeCount, which is counts, not rates!\n",
    "            baseline = hf.blankResp(expData, expInd)[0]; # we'll plot the spontaneous rate\n",
    "            # why mult by stimDur? well, spikes are not rates but baseline is, so we convert baseline to count (i.e. not rate, too)\n",
    "            spikes = spikes - baseline*hf.get_exp_params(expInd).stimDur; \n",
    "        \n",
    "        _, _, respOrg, respAll = hf.organize_resp(spikes, expData, expInd);\n",
    "        resps, stimVals, val_con_by_disp, _, _ = hf.tabulate_responses(expData, expInd, overwriteSpikes=spikes, respsAsRates=rates);\n",
    "        predResps = resps[2];\n",
    "    \n",
    "        respMean = resps[0]; # equivalent to resps[0];\n",
    "        respStd = np.nanstd(respAll, -1); # take std of all responses for a given condition\n",
    "        # compute SEM, too\n",
    "        findNaN = np.isnan(respAll);\n",
    "        nonNaN  = np.sum(findNaN == False, axis=-1);\n",
    "        respSem = np.nanstd(respAll, -1) / np.sqrt(nonNaN);\n",
    "\n",
    "        ###########\n",
    "        ### first, fit a smooth function to the overall pred V measured responses\n",
    "        ### --- from this, we can measure how each example superposition deviates from a central tendency\n",
    "        ### --- i.e. the residual relative to the \"standard\" input:output relationship\n",
    "        ###########\n",
    "        all_resps = respMean[1:, :, :].flatten() # all disp>0\n",
    "        all_preds = predResps[1:, :, :].flatten() # all disp>0\n",
    "        # a model which allows negative fits\n",
    "#         myFit = lambda x, t0, t1, t2: t0 + t1*x + t2*x*x;\n",
    "#         non_nan = np.where(~np.isnan(all_preds)); # cannot fit negative values with naka-rushton...\n",
    "#         fitz, _ = opt.curve_fit(myFit, all_preds[non_nan], all_resps[non_nan], p0=[-5, 10, 5], maxfev=5000)\n",
    "        # naka rushton - BUT automatic 0 for baseline...\n",
    "        myFit = lambda x, g, expon, c50: hf.naka_rushton(x, [0, g, expon, c50]) \n",
    "        non_neg = np.where(all_preds>0) # cannot fit negative values with naka-rushton...\n",
    "        fitz, _ = opt.curve_fit(myFit, all_preds[non_neg], all_resps[non_neg], p0=[100, 2, 25], maxfev=5000)\n",
    "        \n",
    "        ### organize stimulus information\n",
    "        all_disps = stimVals[0];\n",
    "        all_cons = stimVals[1];\n",
    "        all_sfs = stimVals[2];\n",
    "\n",
    "        nCons = len(all_cons);\n",
    "        nSfs = len(all_sfs);\n",
    "        nDisps = len(all_disps);\n",
    "\n",
    "        maxResp = np.maximum(np.nanmax(respMean), np.nanmax(predResps));\n",
    "        # by disp\n",
    "        clrs_d = cm.viridis(np.linspace(0,0.75,nDisps-1));\n",
    "        lbls_d = ['disp: %s' % str(x) for x in range(nDisps)];\n",
    "        # by sf\n",
    "        val_sfs = hf.get_valid_sfs(S, disp=1, con=val_con_by_disp[1][0], expInd=expInd) # pick \n",
    "        clrs_sf = cm.viridis(np.linspace(0,.75,len(val_sfs)));\n",
    "        lbls_sf = ['sf: %.2f' % all_sfs[x] for x in val_sfs];\n",
    "        # by con\n",
    "        val_con = all_cons;\n",
    "        clrs_con = cm.viridis(np.linspace(0,.75,len(val_con)));\n",
    "        lbls_con = ['con: %.2f' % x for x in val_con];\n",
    "\n",
    "        ### create the figure\n",
    "        fSuper, ax = plt.subplots(nRows, nCols, figsize=(10*nCols, 8*nRows))\n",
    "        sns.despine(fig=fSuper, offset=10)\n",
    "        \n",
    "        allMix = [];\n",
    "        allSum = [];\n",
    "\n",
    "        ### plot reference tuning [row 1 (i.e. 2nd row)]\n",
    "        ## on the right, SF tuning (high contrast)\n",
    "        sfRef = hf.nan_rm(respMean[0, :, -1]); # high contrast tuning\n",
    "        ax[1, 1].plot(all_sfs, sfRef, 'k-', marker='o', label='ref. tuning (d0, high con)', clip_on=False)\n",
    "        ax[1, 1].set_xscale('log')\n",
    "        ax[1, 1].set_xlim((0.1, 10));\n",
    "        ax[1, 1].set_xlabel('sf (c/deg)')\n",
    "        ax[1, 1].set_ylabel('response (spikes/s)')\n",
    "        ax[1, 1].set_ylim((-5, 1.1*np.nanmax(sfRef)));\n",
    "        ax[1, 1].legend(fontsize='x-small');\n",
    "        ## then on the left, RVC (peak SF)\n",
    "        sfPeak = np.argmax(sfRef); # stupid/simple, but just get the rvc for the max response\n",
    "        v_cons_single = val_con_by_disp[0]\n",
    "        rvcRef = hf.nan_rm(respMean[0, sfPeak, v_cons_single]);\n",
    "        # now, if possible, let's also plot the RVC fit\n",
    "        if rvcName is not None:\n",
    "            rvcFits = hf.get_rvc_fits(dataPath, expInd, which_cell, rvcName=rvcName, rvcMod=rvcMod);\n",
    "            rel_rvc = rvcFits[0]['params'][sfPeak]; # we get 0 dispersion, peak SF\n",
    "            plt_cons = np.geomspace(all_cons[0], all_cons[-1], 50);\n",
    "            if rvcMod == 0:\n",
    "                rvc_mod = hf.get_rvc_model();\n",
    "                c50, pk = rel_rvc[-1], rvcFits[0]['conGain'][sfPeak];\n",
    "                rvcmodResp = rvc_mod(*rel_rvc, plt_cons);\n",
    "            else: # i.e. mod=1 or mod=2\n",
    "                c50, pk = rel_rvc[3], rvcFits[0]['conGain'][sfPeak];\n",
    "                rvcmodResp = hf.naka_rushton(plt_cons, rel_rvc);\n",
    "            if baseline is not None:\n",
    "                rvcmodResp = rvcmodResp - baseline; \n",
    "            ax[1, 0].plot(plt_cons, rvcmodResp, 'k--', label='rvc fit (c50=%.2f, gain=%0f)' %(c50, pk))\n",
    "            # and save it\n",
    "            curr_suppr['c50'] = c50; curr_suppr['conGain'] = pk;\n",
    "\n",
    "        ax[1, 0].plot(all_cons[v_cons_single], rvcRef, 'k-', marker='o', label='ref. tuning (d0, peak SF)', clip_on=False)\n",
    "#         ax[1, 0].set_xscale('log')\n",
    "        ax[1, 0].set_xlabel('contrast (%)');\n",
    "        ax[1, 0].set_ylabel('response (spikes/s)')\n",
    "        ax[1, 0].set_ylim((-5, 1.1*np.nanmax(rvcRef)));\n",
    "        ax[1, 0].legend(fontsize='x-small');\n",
    "\n",
    "        # plot the fitted model on each axis\n",
    "        pred_plt = np.linspace(0, np.nanmax(all_preds), 100);\n",
    "        ax[0, 0].plot(pred_plt, myFit(pred_plt, *fitz), 'r--', label='fit')\n",
    "        ax[0, 1].plot(pred_plt, myFit(pred_plt, *fitz), 'r--', label='fit')\n",
    "\n",
    "        for d in range(nDisps):\n",
    "            if d == 0: # we don't care about single gratings!\n",
    "                dispRats = [];\n",
    "                continue; \n",
    "            v_cons = np.array(val_con_by_disp[d]);\n",
    "            n_v_cons = len(v_cons);\n",
    "\n",
    "            # plot split out by each contrast [0,1]\n",
    "            for c in reversed(range(n_v_cons)):\n",
    "                v_sfs = hf.get_valid_sfs(S, d, v_cons[c], expInd)\n",
    "                for s in v_sfs:\n",
    "                    mixResp = respMean[d, s, v_cons[c]];\n",
    "                    allMix.append(mixResp);\n",
    "                    sumResp = predResps[d, s, v_cons[c]];\n",
    "                    allSum.append(sumResp);\n",
    "        #             print('condition: d(%d), c(%d), sf(%d):: pred(%.2f)|real(%.2f)' % (d, v_cons[c], s, sumResp, mixResp))\n",
    "                    # PLOT in by-disp panel\n",
    "                    if c == 0 and s == v_sfs[0]:\n",
    "                        ax[0, 0].plot(sumResp, mixResp, 'o', color=clrs_d[d-1], label=lbls_d[d], clip_on=False)\n",
    "                    else:\n",
    "                        ax[0, 0].plot(sumResp, mixResp, 'o', color=clrs_d[d-1], clip_on=False)\n",
    "                    # PLOT in by-sf panel\n",
    "                    sfInd = np.where(np.array(v_sfs) == s)[0][0]; # will only be one entry, so just \"unpack\"\n",
    "                    if d == 1 and c == 0:\n",
    "                        ax[0, 1].plot(sumResp, mixResp, 'o', color=clrs_sf[sfInd], label=lbls_sf[sfInd], clip_on=False);\n",
    "                    else:\n",
    "                        ax[0, 1].plot(sumResp, mixResp, 'o', color=clrs_sf[sfInd], clip_on=False);\n",
    "                    # plot baseline, if f0...\n",
    "#                     if baseline is not None:\n",
    "#                         [ax[0, i].axhline(baseline, linestyle='--', color='k', label='spon. rate') for i in range(2)];\n",
    "\n",
    "\n",
    "            # plot averaged across all cons/sfs (i.e. average for the whole dispersion) [1,0]\n",
    "            mixDisp = respMean[d, :, :].flatten();\n",
    "            sumDisp = predResps[d, :, :].flatten();\n",
    "            mixDisp, sumDisp = zr_rm_pair(mixDisp, sumDisp, 0.5); # remove any values < 0.5\n",
    "            curr_rats = np.divide(mixDisp, sumDisp)\n",
    "            curr_mn = geomean(curr_rats); curr_std = np.std(np.log10(curr_rats));\n",
    "#             curr_rat = geomean(np.divide(mixDisp, sumDisp));\n",
    "            ax[2, 0].bar(d, curr_mn, yerr=curr_std, color=clrs_d[d-1]);\n",
    "            ax[2, 0].set_yscale('log')\n",
    "            ax[2, 0].set_ylim(0.1, 10);\n",
    "#             ax[2, 0].yaxis.set_ticks(minorticks)\n",
    "            dispRats.append(curr_mn);\n",
    "#             ax[2, 0].bar(d, np.mean(np.divide(mixDisp, sumDisp)), color=clrs_d[d-1]);\n",
    "\n",
    "            # also, let's plot the (signed) error relative to the fit\n",
    "            errs = mixDisp - myFit(sumDisp, *fitz);\n",
    "            ax[3, 0].bar(d, np.mean(errs), yerr=np.std(errs), color=clrs_d[d-1])\n",
    "            # -- and normalized by the prediction output response\n",
    "            errs_norm = np.divide(mixDisp - myFit(sumDisp, *fitz), myFit(sumDisp, *fitz));\n",
    "            ax[4, 0].bar(d, np.mean(errs_norm), yerr=np.std(errs_norm), color=clrs_d[d-1])\n",
    "            \n",
    "            # and set some labels/lines, as needed\n",
    "            if d == 1:\n",
    "                ax[2, 0].set_xlabel('dispersion');\n",
    "                ax[2, 0].set_ylabel('suppression ratio')\n",
    "                ax[2, 0].axhline(1, ls='--', color='k')\n",
    "                ax[3, 0].set_xlabel('dispersion');\n",
    "                ax[3, 0].set_ylabel('mean (signed) error')\n",
    "                ax[3, 0].axhline(0, ls='--', color='k')\n",
    "                ax[4, 0].set_xlabel('dispersion');\n",
    "                ax[4, 0].set_ylabel('mean (signed) error -- as frac. of fit prediction')\n",
    "                ax[4, 0].axhline(0, ls='--', color='k')\n",
    "\n",
    "            curr_suppr['supr_disp'] = dispRats;\n",
    "            \n",
    "        ### plot averaged across all cons/disps\n",
    "        sfInds = []; sfRats = []; sfRatStd = []; \n",
    "        sfErrs = []; sfErrsStd = []; sfErrsInd = []; sfErrsIndStd = []; \n",
    "        sfErrsRat = []; sfErrsRatStd = []; # mixture response divided by NR value at that prediction\n",
    "        curr_errNormFactor = [];\n",
    "        for s in range(len(val_sfs)):\n",
    "            try: # not all sfs will have legitmate values;\n",
    "                # only get mixtures (i.e. ignore single gratings)\n",
    "                mixSf = respMean[1:, val_sfs[s], :].flatten();\n",
    "                sumSf = predResps[1:, val_sfs[s], :].flatten();\n",
    "                mixSf, sumSf = zr_rm_pair(mixSf, sumSf, 0.5);\n",
    "                rats_curr = np.divide(mixSf, sumSf); \n",
    "                sfInds.append(s); sfRats.append(geomean(rats_curr)); sfRatStd.append(np.std(np.log10(rats_curr)));\n",
    "                \n",
    "                curr_NR = myFit(sumSf, *fitz)\n",
    "                curr_err = mixSf - curr_NR;\n",
    "                sfErrs.append(np.mean(curr_err));\n",
    "                sfErrsStd.append(np.std(curr_err))\n",
    "                \n",
    "                curr_errNorm = np.divide(mixSf - curr_NR, mixSf + curr_NR);\n",
    "                sfErrsInd.append(np.mean(curr_errNorm));\n",
    "                sfErrsIndStd.append(np.std(curr_errNorm))\n",
    " \n",
    "                curr_errRat = np.divide(mixSf, curr_NR);\n",
    "                sfErrsRat.append(np.mean(curr_errRat));\n",
    "                sfErrsRatStd.append(np.std(curr_errRat));\n",
    "\n",
    "                curr_normFactors = np.array(curr_NR)\n",
    "                curr_errNormFactor.append(geomean(curr_normFactors[curr_normFactors>0]));\n",
    "                \n",
    "            except:\n",
    "                pass\n",
    "            \n",
    "        # get the offset/scale of the ratio so that we can plot a rescaled/flipped version of\n",
    "        # the high con/single grat tuning for reference...does the suppression match the response?\n",
    "        offset, scale = np.nanmax(sfRats), np.nanmax(sfRats) - np.nanmin(sfRats);\n",
    "        sfRef = hf.nan_rm(respMean[0, val_sfs, -1]); # high contrast tuning\n",
    "        sfRefShift = offset - scale * (sfRef/np.nanmax(sfRef))\n",
    "        ax[2,1].scatter(all_sfs[val_sfs][sfInds], sfRats, color=clrs_sf[sfInds], clip_on=False)\n",
    "        ax[2,1].errorbar(all_sfs[val_sfs][sfInds], sfRats, sfRatStd, color='k', linestyle='-', clip_on=False, label='suppression tuning')\n",
    "#         ax[2,1].plot(all_sfs[val_sfs][sfInds], sfRats, 'k-', clip_on=False, label='suppression tuning')\n",
    "        ax[2,1].plot(all_sfs[val_sfs], sfRefShift, 'k--', label='ref. tuning', clip_on=False)\n",
    "        ax[2,1].axhline(1, ls='--', color='k')\n",
    "        ax[2,1].set_xlabel('sf (cpd)')\n",
    "        ax[2,1].set_xscale('log')\n",
    "        ax[2,1].set_xlim((0.1, 10));\n",
    "#         ax[2,1].set_xlim((np.min(all_sfs), np.max(all_sfs)));\n",
    "        ax[2,1].set_ylabel('suppression ratio (wrt linear)');\n",
    "        ax[2,1].set_yscale('log')\n",
    "#         ax[2,1].yaxis.set_ticks(minorticks)\n",
    "        ax[2,1].set_ylim(0.1, 10);        \n",
    "        ax[2,1].legend(fontsize='x-small');\n",
    "        curr_suppr['supr_sf'] = sfRats;\n",
    "\n",
    "        ### residuals from fit of suppression\n",
    "        # mean signed error: and labels/plots for the error as f'n of SF\n",
    "        ax[3,1].axhline(0, ls='--', color='k')\n",
    "        ax[3,1].set_xlabel('sf (cpd)')\n",
    "        ax[3,1].set_xscale('log')\n",
    "        ax[3,1].set_xlim((0.1, 10));\n",
    "#         ax[3,1].set_xlim((np.min(all_sfs), np.max(all_sfs)));\n",
    "        ax[3,1].set_ylabel('mean (signed) error');\n",
    "        ax[3,1].errorbar(all_sfs[val_sfs][sfInds], sfErrs, sfErrsStd, marker='o', color='k', linestyle='-', clip_on=False)\n",
    "        # -- and normalized by the prediction output response\n",
    "        ax[4,1].axhline(0, ls='--', color='k')\n",
    "        ax[4,1].set_xlabel('sf (cpd)')\n",
    "        ax[4,1].set_xscale('log')\n",
    "        ax[4,1].set_xlim((0.1, 10));\n",
    "        #         ax[4,1].set_xlim((np.min(all_sfs), np.max(all_sfs)));\n",
    "        ax[4,1].set_ylim((-1, 1))\n",
    "        ax[4,1].set_ylabel('mean (signed) error index');\n",
    "        ax[4,1].errorbar(all_sfs[val_sfs][sfInds], sfErrsInd, sfErrsIndStd, marker='o', color='k', linestyle='-', clip_on=False)\n",
    "        # -- and simply the ratio between the mixture response and the mean expected mix response (i.e. Naka-Rushton)\n",
    "        # --- equivalent to the suppression ratio, but relative to the NR fit rather than perfect linear summation\n",
    "        ax[5,1].scatter(all_sfs[val_sfs][sfInds], sfErrsRat, color=clrs_sf[sfInds], clip_on=False)\n",
    "        ax[5,1].errorbar(all_sfs[val_sfs][sfInds], sfErrsRat, sfErrsRatStd, color='k', linestyle='-', clip_on=False, label='suppression tuning')\n",
    "        ax[5,1].axhline(1, ls='--', color='k')\n",
    "        ax[5,1].set_xlabel('sf (cpd)')\n",
    "        ax[5,1].set_xscale('log')\n",
    "        ax[5,1].set_xlim((0.1, 10));\n",
    "        ax[5,1].set_ylabel('suppression ratio (wrt NR)');\n",
    "        ax[5,1].set_yscale('log', basey=2)\n",
    "#         ax[2,1].yaxis.set_ticks(minorticks)\n",
    "        ax[5,1].set_ylim(0.1, 10);        \n",
    "        ax[5,1].legend(fontsize='x-small');\n",
    "        # - compute the variance!\n",
    "        val_errs = np.logical_and(~np.isnan(sfErrsRat), np.logical_and(np.array(sfErrsRatStd)>0, np.array(sfErrsRatStd) < 1.25));        errsratVar = np.var(sfErrsRat);\n",
    "        # - and put that value on the plot\n",
    "        ax[5,1].text(0.1, 2, 'var=%.2f' % errsratVar);        \n",
    "    \n",
    "#         # color bar...from https://stackoverflow.com/questions/25668828/how-to-create-colour-gradient-in-python\n",
    "#         def colorFader(c1,c2,mix=0): #fade (linear interpolate) from color c1 (at mix=0) to c2 (mix=1)\n",
    "#             c1=np.array(mpl.colors.to_rgb(c1))\n",
    "#             c2=np.array(mpl.colors.to_rgb(c2))\n",
    "#             return matplotlib.colors.to_hex((1-mix)*c1 + mix*c2)\n",
    "\n",
    "        n = 500\n",
    "        clrs_bar = cm.viridis(np.linspace(0,0.75, n));\n",
    "\n",
    "        for x in range(n):\n",
    "            ax[5,0].axvline(x, color=clrs_bar[x], linewidth=4) \n",
    "  \n",
    "        # compute the variance for the sfErrsInd\n",
    "        val_errs = np.logical_and(~np.isnan(sfErrsInd), np.logical_and(np.array(sfErrsIndStd) > 0, np.array(sfErrsIndStd) < 1.25));\n",
    "        sfErrsInd_var = np.var(np.array(sfErrsInd)[val_errs])\n",
    "        curr_suppr['sfErrsInd_var'] = sfErrsInd_var;\n",
    "        # - and put that value on the plot\n",
    "        ax[4,1].text(0.1, -0.25, 'var=%.2f' % sfErrsInd_var);\n",
    "\n",
    "        \n",
    "        #########\n",
    "        ### NOW, let's evaluate the derivative of the SF tuning curve and get the correlation with the errors\n",
    "        #########\n",
    "        mod_sfs = np.geomspace(all_sfs[0], all_sfs[-1], 1000);\n",
    "        mod_resp = hf.get_descrResp(dfit_curr, mod_sfs, DoGmodel=dMod_num);\n",
    "        deriv = np.divide(np.diff(mod_resp), np.diff(mod_sfs))\n",
    "        deriv_norm = np.divide(deriv, np.nanmax(deriv));\n",
    "        # - then, what indices to evaluate for comparing with sfErr?\n",
    "        errSfs = all_sfs[val_sfs][sfInds];\n",
    "        mod_inds = [np.argmin(np.square(mod_sfs-x)) for x in errSfs];\n",
    "        deriv_norm_eval = deriv_norm[mod_inds];\n",
    "        # -- plot on [1, 1] (i.e. where the data is)\n",
    "        ax[1,1].plot(mod_sfs, mod_resp, 'k--', label='fit (g)')\n",
    "        ax[1,1].legend();\n",
    "        # Duplicate \"twin\" the axis to create a second y-axis\n",
    "        ax2 = ax[1,1].twinx();\n",
    "        ax2.set_ylim([-1, 1]); # since the g' is normalized\n",
    "        # make a plot with different y-axis using second axis object\n",
    "        ax2.plot(mod_sfs[1:], deriv_norm, '--', color=\"red\", label='g\\'');\n",
    "        ax2.set_ylabel(\"deriv. (normalized)\",color=\"red\")\n",
    "        ax2.legend();\n",
    "        sns.despine(ax=ax2, offset=10, right=False);\n",
    "        # -- and let's plot rescaled and shifted version in [2,1]\n",
    "        offset, scale = np.nanmax(sfRats), np.nanmax(sfRats) - np.nanmin(sfRats);\n",
    "        derivShift = offset - scale * (deriv_norm/np.nanmax(deriv_norm));\n",
    "        ax[2,1].plot(mod_sfs[1:], derivShift, 'r--', label='deriv(ref. tuning)', clip_on=False)\n",
    "        ax[2,1].legend(fontsize='x-small');\n",
    "        # - then, normalize the sfErrs/sfErrsNorm and compute the correlation coefficient\n",
    "        norm_sfErr = np.divide(sfErrs, np.nanmax(np.abs(sfErrs)));\n",
    "        norm_sfErrNorm = np.divide(sfErrsInd, np.nanmax(np.abs(sfErrsInd))); # remember, sfErrsNorm is normalized per condition; this is overall\n",
    "        non_nan = np.logical_and(~np.isnan(norm_sfErr), ~np.isnan(deriv_norm_eval))\n",
    "        corr_nsf, corr_nsfN = np.corrcoef(deriv_norm_eval[non_nan], norm_sfErr[non_nan])[0,1], np.corrcoef(deriv_norm_eval[non_nan], norm_sfErrNorm[non_nan])[0,1]\n",
    "        curr_suppr['corr_derivWithErr'] = corr_nsf;\n",
    "        curr_suppr['corr_derivWithErrNorm'] = corr_nsfN;\n",
    "        ax[3,1].text(0.1, 0.25*np.nanmax(sfErrs), 'corr w/g\\' = %.2f' % corr_nsf)\n",
    "        ax[4,1].text(0.1, 0.25, 'corr w/g\\' = %.2f' % corr_nsfN)          \n",
    "            \n",
    "        # make a polynomial fit\n",
    "        hmm = np.polyfit(allSum, allMix, deg=1) # returns [a, b] in ax + b \n",
    "        curr_suppr['supr_index'] = hmm[0];\n",
    "\n",
    "        suppr_cell[i] = curr_suppr;\n",
    "        \n",
    "        for j in range(1):\n",
    "            for jj in range(nCols):\n",
    "                ax[j, jj].axis('square')\n",
    "                ax[j, jj].set_xlabel('predicted');\n",
    "                ax[j, jj].set_ylabel('superposition');\n",
    "                ax[j, jj].plot([0, 1*maxResp], [0, 1*maxResp], 'k--')\n",
    "                ax[j, jj].set_xlim((-5, maxResp));\n",
    "                ax[j, jj].set_ylim((-5, 1.1*maxResp));\n",
    "                ax[j, jj].set_title('Suppression index: %.2f' % hmm[0])\n",
    "                ax[j, jj].legend(fontsize='x-small');\n",
    "                print('good...')\n",
    "\n",
    "        fSuper.suptitle('Superposition: %s #%d [%s; f1f0 %.2f; szSupr[dt/md] %.2f/%.2f; oriBW|CV %.2f|%.2f; tfBW %.2f]' % (cellType, which_cell, cellName, f1f0_rat, suprDat, suprMod, oriBW, oriCV, tfBW))\n",
    "\n",
    "        if savePlt:\n",
    "            save_name = 'cell_%03d.pdf' % which_cell\n",
    "            pdfSv = pltSave.PdfPages(str(save_locSuper + save_name));\n",
    "            pdfSv.savefig(fSuper)\n",
    "            pdfSv.close();\n",
    "\n",
    "    except: # i.e. ignore this cell - some cells have improper data/expo files\n",
    "        pass;"
   ]
  },
  {
   "cell_type": "code",
   "execution_count": 18,
   "metadata": {},
   "outputs": [
    {
     "data": {
      "text/plain": [
       "'/arc/2.2/p1/plevy/SF_diversity/sfDiv-OriModel/sfDiv-python/V1/figures/superposition_220918_fromNB/'"
      ]
     },
     "execution_count": 18,
     "metadata": {},
     "output_type": "execute_result"
    }
   ],
   "source": [
    "save_locSuper"
   ]
  },
  {
   "cell_type": "code",
   "execution_count": 19,
   "metadata": {},
   "outputs": [
    {
     "ename": "NameError",
     "evalue": "name 'fSuper' is not defined",
     "output_type": "error",
     "traceback": [
      "\u001b[0;31m---------------------------------------------------------------------------\u001b[0m",
      "\u001b[0;31mNameError\u001b[0m                                 Traceback (most recent call last)",
      "\u001b[0;32m<ipython-input-19-b371d9ccf2e7>\u001b[0m in \u001b[0;36m<module>\u001b[0;34m\u001b[0m\n\u001b[1;32m      1\u001b[0m \u001b[0msave_name\u001b[0m \u001b[0;34m=\u001b[0m \u001b[0;34m'colorbar_ex.pdf'\u001b[0m\u001b[0;34m\u001b[0m\u001b[0;34m\u001b[0m\u001b[0m\n\u001b[1;32m      2\u001b[0m \u001b[0mpdfSv\u001b[0m \u001b[0;34m=\u001b[0m \u001b[0mpltSave\u001b[0m\u001b[0;34m.\u001b[0m\u001b[0mPdfPages\u001b[0m\u001b[0;34m(\u001b[0m\u001b[0mstr\u001b[0m\u001b[0;34m(\u001b[0m\u001b[0msave_locSuper\u001b[0m \u001b[0;34m+\u001b[0m \u001b[0msave_name\u001b[0m\u001b[0;34m)\u001b[0m\u001b[0;34m)\u001b[0m\u001b[0;34m;\u001b[0m\u001b[0;34m\u001b[0m\u001b[0;34m\u001b[0m\u001b[0m\n\u001b[0;32m----> 3\u001b[0;31m \u001b[0mpdfSv\u001b[0m\u001b[0;34m.\u001b[0m\u001b[0msavefig\u001b[0m\u001b[0;34m(\u001b[0m\u001b[0mfSuper\u001b[0m\u001b[0;34m)\u001b[0m\u001b[0;34m\u001b[0m\u001b[0;34m\u001b[0m\u001b[0m\n\u001b[0m\u001b[1;32m      4\u001b[0m \u001b[0mpdfSv\u001b[0m\u001b[0;34m.\u001b[0m\u001b[0mclose\u001b[0m\u001b[0;34m(\u001b[0m\u001b[0;34m)\u001b[0m\u001b[0;34m;\u001b[0m\u001b[0;34m\u001b[0m\u001b[0;34m\u001b[0m\u001b[0m\n",
      "\u001b[0;31mNameError\u001b[0m: name 'fSuper' is not defined"
     ]
    }
   ],
   "source": [
    "save_name = 'colorbar_ex.pdf'\n",
    "pdfSv = pltSave.PdfPages(str(save_locSuper + save_name));\n",
    "pdfSv.savefig(fSuper)\n",
    "pdfSv.close();"
   ]
  },
  {
   "cell_type": "markdown",
   "metadata": {},
   "source": [
    "#### Example for VSS poster 2020\n",
    "I've picked two example points on the superposition plots and want to show the component response for the poster. I've picked V1/12, points 88 and 299 (in the overall, flattened allResps array)"
   ]
  },
  {
   "cell_type": "code",
   "execution_count": 20,
   "metadata": {},
   "outputs": [
    {
     "ename": "NameError",
     "evalue": "name 'all_preds' is not defined",
     "output_type": "error",
     "traceback": [
      "\u001b[0;31m---------------------------------------------------------------------------\u001b[0m",
      "\u001b[0;31mNameError\u001b[0m                                 Traceback (most recent call last)",
      "\u001b[0;32m<ipython-input-20-19b87179a912>\u001b[0m in \u001b[0;36m<module>\u001b[0;34m\u001b[0m\n\u001b[1;32m      1\u001b[0m \u001b[0;31m# ex 1 of constraining the point we want -\u001b[0m\u001b[0;34m\u001b[0m\u001b[0;34m\u001b[0m\u001b[0;34m\u001b[0m\u001b[0m\n\u001b[0;32m----> 2\u001b[0;31m \u001b[0mpredConstr\u001b[0m \u001b[0;34m=\u001b[0m \u001b[0mnp\u001b[0m\u001b[0;34m.\u001b[0m\u001b[0mwhere\u001b[0m\u001b[0;34m(\u001b[0m\u001b[0mnp\u001b[0m\u001b[0;34m.\u001b[0m\u001b[0mlogical_and\u001b[0m\u001b[0;34m(\u001b[0m\u001b[0mall_preds\u001b[0m\u001b[0;34m>\u001b[0m\u001b[0;36m45\u001b[0m\u001b[0;34m,\u001b[0m \u001b[0mall_preds\u001b[0m\u001b[0;34m<\u001b[0m\u001b[0;36m55\u001b[0m\u001b[0;34m)\u001b[0m\u001b[0;34m)\u001b[0m\u001b[0;34m;\u001b[0m\u001b[0;34m\u001b[0m\u001b[0;34m\u001b[0m\u001b[0m\n\u001b[0m\u001b[1;32m      3\u001b[0m \u001b[0mmeasConstr\u001b[0m \u001b[0;34m=\u001b[0m \u001b[0mnp\u001b[0m\u001b[0;34m.\u001b[0m\u001b[0mwhere\u001b[0m\u001b[0;34m(\u001b[0m\u001b[0mnp\u001b[0m\u001b[0;34m.\u001b[0m\u001b[0mlogical_and\u001b[0m\u001b[0;34m(\u001b[0m\u001b[0mall_resps\u001b[0m\u001b[0;34m>\u001b[0m\u001b[0;36m60\u001b[0m\u001b[0;34m,\u001b[0m \u001b[0mall_resps\u001b[0m\u001b[0;34m<\u001b[0m\u001b[0;36m65\u001b[0m\u001b[0;34m)\u001b[0m\u001b[0;34m)\u001b[0m\u001b[0;34m;\u001b[0m\u001b[0;34m\u001b[0m\u001b[0;34m\u001b[0m\u001b[0m\n\u001b[1;32m      4\u001b[0m \u001b[0mjointConstr\u001b[0m \u001b[0;34m=\u001b[0m \u001b[0mnp\u001b[0m\u001b[0;34m.\u001b[0m\u001b[0mintersect1d\u001b[0m\u001b[0;34m(\u001b[0m\u001b[0mpredConstr\u001b[0m\u001b[0;34m,\u001b[0m \u001b[0mmeasConstr\u001b[0m\u001b[0;34m)\u001b[0m\u001b[0;34m\u001b[0m\u001b[0;34m\u001b[0m\u001b[0m\n\u001b[1;32m      5\u001b[0m \u001b[0mprint\u001b[0m\u001b[0;34m(\u001b[0m\u001b[0mjointConstr\u001b[0m\u001b[0;34m)\u001b[0m\u001b[0;34m\u001b[0m\u001b[0;34m\u001b[0m\u001b[0m\n",
      "\u001b[0;31mNameError\u001b[0m: name 'all_preds' is not defined"
     ]
    }
   ],
   "source": [
    "# ex 1 of constraining the point we want - \n",
    "predConstr = np.where(np.logical_and(all_preds>45, all_preds<55));\n",
    "measConstr = np.where(np.logical_and(all_resps>60, all_resps<65));\n",
    "jointConstr = np.intersect1d(predConstr, measConstr)\n",
    "print(jointConstr)\n",
    "\n",
    "# ex 2 of constraining the point we want - \n",
    "predConstr = np.where(np.logical_and(all_preds>75, all_preds<85));\n",
    "measConstr = np.where(np.logical_and(all_resps>50, all_resps<60));\n",
    "jointConstr = np.intersect1d(predConstr, measConstr)\n",
    "print(jointConstr)\n",
    "\n",
    "# ex 3 of constraining the point we want - \n",
    "predConstr = np.where(np.logical_and(all_preds>100, all_preds<110));\n",
    "measConstr = np.where(np.logical_and(all_resps>60, all_resps<65));\n",
    "jointConstr = np.intersect1d(predConstr, measConstr)\n",
    "print(jointConstr)\n",
    "\n",
    "\n",
    "# ex 4 of constraining the point we want - \n",
    "predConstr = np.where(np.logical_and(all_preds>35, all_preds<40));\n",
    "measConstr = np.where(np.logical_and(all_resps>45, all_resps<55));\n",
    "jointConstr = np.intersect1d(predConstr, measConstr)\n",
    "print(jointConstr)"
   ]
  },
  {
   "cell_type": "code",
   "execution_count": 115,
   "metadata": {},
   "outputs": [
    {
     "name": "stdout",
     "output_type": "stream",
     "text": [
      "(1, 2, 15)\n"
     ]
    }
   ],
   "source": [
    "overallInd = 249; # use 88 or 299 or...., in turn\n",
    "total_shape = list(respMean.shape);\n",
    "# total_shape[0] = total_shape[0]\n",
    "cond = np.unravel_index(overallInd, total_shape)\n",
    "print(cond)"
   ]
  },
  {
   "cell_type": "markdown",
   "metadata": {},
   "source": [
    "The above tells me what condition to look at (add +1 to the dispersion!, since we skip over single gratings in the overall all_preds & all_resps)\n",
    "\n",
    "**ADJUST HERE ACCORDINGLY**"
   ]
  },
  {
   "cell_type": "code",
   "execution_count": 22,
   "metadata": {},
   "outputs": [
    {
     "ename": "NameError",
     "evalue": "name 'expData' is not defined",
     "output_type": "error",
     "traceback": [
      "\u001b[0;31m---------------------------------------------------------------------------\u001b[0m",
      "\u001b[0;31mNameError\u001b[0m                                 Traceback (most recent call last)",
      "\u001b[0;32m<ipython-input-22-258fdb2c0436>\u001b[0m in \u001b[0;36m<module>\u001b[0;34m\u001b[0m\n\u001b[0;32m----> 1\u001b[0;31m \u001b[0mvt\u001b[0m \u001b[0;34m=\u001b[0m \u001b[0mhf\u001b[0m\u001b[0;34m.\u001b[0m\u001b[0mget_valid_trials\u001b[0m\u001b[0;34m(\u001b[0m\u001b[0mexpData\u001b[0m\u001b[0;34m,\u001b[0m \u001b[0mdisp\u001b[0m\u001b[0;34m=\u001b[0m\u001b[0;36m2\u001b[0m\u001b[0;34m,\u001b[0m \u001b[0mcon\u001b[0m\u001b[0;34m=\u001b[0m\u001b[0;36m15\u001b[0m\u001b[0;34m,\u001b[0m \u001b[0msf\u001b[0m\u001b[0;34m=\u001b[0m\u001b[0;36m2\u001b[0m\u001b[0;34m,\u001b[0m \u001b[0mexpInd\u001b[0m\u001b[0;34m=\u001b[0m\u001b[0mexpInd\u001b[0m\u001b[0;34m)\u001b[0m\u001b[0;34m[\u001b[0m\u001b[0;36m0\u001b[0m\u001b[0;34m]\u001b[0m\u001b[0;34m\u001b[0m\u001b[0;34m\u001b[0m\u001b[0m\n\u001b[0m",
      "\u001b[0;31mNameError\u001b[0m: name 'expData' is not defined"
     ]
    }
   ],
   "source": [
    "vt = hf.get_valid_trials(expData, disp=2, con=15, sf=2, expInd=expInd)[0]"
   ]
  },
  {
   "cell_type": "markdown",
   "metadata": {},
   "source": [
    "comps[0] is the mean predicted (and s.e.m.) response per component, comps[1] is per trial, per component"
   ]
  },
  {
   "cell_type": "code",
   "execution_count": 21,
   "metadata": {},
   "outputs": [
    {
     "ename": "NameError",
     "evalue": "name 'expData' is not defined",
     "output_type": "error",
     "traceback": [
      "\u001b[0;31m---------------------------------------------------------------------------\u001b[0m",
      "\u001b[0;31mNameError\u001b[0m                                 Traceback (most recent call last)",
      "\u001b[0;32m<ipython-input-21-8fc4e90e65ae>\u001b[0m in \u001b[0;36m<module>\u001b[0;34m\u001b[0m\n\u001b[0;32m----> 1\u001b[0;31m \u001b[0mcomps\u001b[0m \u001b[0;34m=\u001b[0m \u001b[0mhf\u001b[0m\u001b[0;34m.\u001b[0m\u001b[0mget_isolated_responseAdj\u001b[0m\u001b[0;34m(\u001b[0m\u001b[0mexpData\u001b[0m\u001b[0;34m,\u001b[0m \u001b[0mvt\u001b[0m\u001b[0;34m,\u001b[0m \u001b[0mspikes\u001b[0m\u001b[0;34m)\u001b[0m\u001b[0;34m\u001b[0m\u001b[0;34m\u001b[0m\u001b[0m\n\u001b[0m\u001b[1;32m      2\u001b[0m \u001b[0mperComp_resp\u001b[0m \u001b[0;34m=\u001b[0m \u001b[0mcomps\u001b[0m\u001b[0;34m[\u001b[0m\u001b[0;36m0\u001b[0m\u001b[0;34m]\u001b[0m\u001b[0;34m;\u001b[0m \u001b[0;31m# mean\u001b[0m\u001b[0;34m\u001b[0m\u001b[0;34m\u001b[0m\u001b[0m\n\u001b[1;32m      3\u001b[0m \u001b[0mperComp_con\u001b[0m \u001b[0;34m=\u001b[0m \u001b[0mnp\u001b[0m\u001b[0;34m.\u001b[0m\u001b[0marray\u001b[0m\u001b[0;34m(\u001b[0m\u001b[0mcomps\u001b[0m\u001b[0;34m[\u001b[0m\u001b[0;36m2\u001b[0m\u001b[0;34m]\u001b[0m\u001b[0;34m)\u001b[0m\u001b[0;34m.\u001b[0m\u001b[0mflatten\u001b[0m\u001b[0;34m(\u001b[0m\u001b[0;34m)\u001b[0m\u001b[0;34m;\u001b[0m\u001b[0;34m\u001b[0m\u001b[0;34m\u001b[0m\u001b[0m\n\u001b[1;32m      4\u001b[0m \u001b[0mperComp_sf\u001b[0m \u001b[0;34m=\u001b[0m \u001b[0mnp\u001b[0m\u001b[0;34m.\u001b[0m\u001b[0marray\u001b[0m\u001b[0;34m(\u001b[0m\u001b[0mcomps\u001b[0m\u001b[0;34m[\u001b[0m\u001b[0;36m3\u001b[0m\u001b[0;34m]\u001b[0m\u001b[0;34m)\u001b[0m\u001b[0;34m.\u001b[0m\u001b[0mflatten\u001b[0m\u001b[0;34m(\u001b[0m\u001b[0;34m)\u001b[0m\u001b[0;34m;\u001b[0m\u001b[0;34m\u001b[0m\u001b[0;34m\u001b[0m\u001b[0m\n\u001b[1;32m      5\u001b[0m \u001b[0;34m\u001b[0m\u001b[0m\n",
      "\u001b[0;31mNameError\u001b[0m: name 'expData' is not defined"
     ]
    }
   ],
   "source": [
    "comps = hf.get_isolated_responseAdj(expData, vt, spikes)\n",
    "perComp_resp = comps[0]; # mean\n",
    "perComp_con = np.array(comps[2]).flatten();\n",
    "perComp_sf = np.array(comps[3]).flatten();\n",
    "\n",
    "# now, further separate perComp_resp!\n",
    "perComp_mean = np.array([perComp_resp[x][0] for x in range(len(perComp_resp))])\n",
    "perComp_sem = np.array([perComp_resp[x][1] for x in range(len(perComp_resp))])\n",
    "\n",
    "# put them in order for plotting...\n",
    "perComp_order = np.argsort(perComp_sf);"
   ]
  },
  {
   "cell_type": "code",
   "execution_count": 118,
   "metadata": {},
   "outputs": [
    {
     "name": "stdout",
     "output_type": "stream",
     "text": [
      "102.75618864185532\n"
     ]
    }
   ],
   "source": [
    "check_sum = np.sum(perComp_mean)\n",
    "print(check_sum)"
   ]
  },
  {
   "cell_type": "code",
   "execution_count": 119,
   "metadata": {},
   "outputs": [
    {
     "data": {
      "image/png": "[encoded data removed]",
      "text/plain": [
       "<matplotlib.figure.Figure at 0x7f916e556748>"
      ]
     },
     "metadata": {
      "needs_background": "light"
     },
     "output_type": "display_data"
    }
   ],
   "source": [
    "# plt.xscale('log');\n",
    "# plt.xlim([0.1, 10]);\n",
    "\n",
    "totalMeasure = all_resps[overallInd]\n",
    "totalPred = np.sum(perComp_mean)\n",
    "totalCon = np.round(100*np.sum(perComp_con), 0);\n",
    "centerSF = np.round(np.median(perComp_sf), 1);\n",
    "\n",
    "f = plt.figure(figsize=(6, 5))\n",
    "\n",
    "nPts = 100;\n",
    "clrMap = cm.gray(np.linspace(0, 0.75, nPts));\n",
    "clrInds = nPts-np.round(perComp_con[perComp_order]*nPts, 0).astype(int)\n",
    "plt.errorbar(perComp_sf[perComp_order], perComp_mean[perComp_order], yerr=perComp_sem[perComp_order], color='k', linestyle='--')\n",
    "plt.scatter(perComp_sf[perComp_order], perComp_mean[perComp_order], color=clrMap[clrInds, :], s=100)\n",
    "plt.xscale('log');\n",
    "plt.yscale('log')\n",
    "plt.xlim([0.2, 10])\n",
    "plt.ylim([1e-0, 5e1])\n",
    "plt.xlabel('sf (cyc/deg)');\n",
    "plt.ylabel('response (imp/s)');\n",
    "NR_resp = myFit(totalPred, *fitz)\n",
    "plt.title('Pred: %.1f  (imp/s), Meas: %.1f, NR: %.1f' % (totalPred, totalMeasure, NR_resp), fontsize='small')\n",
    "plt.text(np.log10(3), 40, 'total con=%d%%, ctrSF = %.1f cyc/deg' % (totalCon, centerSF), fontsize='small')\n",
    "ax_curr = plt.gca();\n",
    "ax_curr.set_aspect('equal')\n",
    "sns.despine(offset=5);\n",
    "\n",
    "save_name = 'superposition_ex_v1cell12_trial%d.pdf' % overallInd\n",
    "pdfSv = pltSave.PdfPages(str(save_locSuper + save_name));\n",
    "pdfSv.savefig(f)\n",
    "pdfSv.close();"
   ]
  },
  {
   "cell_type": "code",
   "execution_count": 133,
   "metadata": {},
   "outputs": [],
   "source": [
    "# m = 49.3; p = 40.4\n",
    "m = 64.9; p = 74.3"
   ]
  },
  {
   "cell_type": "code",
   "execution_count": 134,
   "metadata": {},
   "outputs": [
    {
     "data": {
      "text/plain": [
       "-0.06752873563218385"
      ]
     },
     "execution_count": 134,
     "metadata": {},
     "output_type": "execute_result"
    }
   ],
   "source": [
    "(m-p)/(m+p)"
   ]
  },
  {
   "cell_type": "markdown",
   "metadata": {},
   "source": [
    "#### Back to regularly scheduled programming"
   ]
  },
  {
   "cell_type": "code",
   "execution_count": null,
   "metadata": {},
   "outputs": [],
   "source": [
    "if len(cells) == len(dataList['unitName']): # i.e. only save if it's the full dataset\n",
    "    np.save('V1/structures/superposition_analysis.npy', suppr_cell)"
   ]
  },
  {
   "cell_type": "code",
   "execution_count": null,
   "metadata": {},
   "outputs": [],
   "source": [
    "f1f0s = [suppr_cell[x]['f1f0'] for x in sorted(suppr_cell.keys())]\n",
    "c50s = [suppr_cell[x]['c50'] for x in sorted(suppr_cell.keys())]\n",
    "conGain = [suppr_cell[x]['conGain'] for x in sorted(suppr_cell.keys())]\n",
    "supr_sfs = [suppr_cell[x]['supr_sf'] for x in sorted(suppr_cell.keys())]\n",
    "supr_disps = [suppr_cell[x]['supr_disp'] for x in sorted(suppr_cell.keys())]\n",
    "supr_index = [suppr_cell[x]['supr_index'] for x in sorted(suppr_cell.keys())]"
   ]
  },
  {
   "cell_type": "code",
   "execution_count": null,
   "metadata": {},
   "outputs": [],
   "source": [
    "nrow, ncol = 3, 3;\n",
    "f, ax = plt.subplots(nrow, ncol, figsize=(10*ncol, 10*nrow))\n",
    "# f, ax = plt.subplots(nrow, ncol, figsize=(12*ncol, 12*nrow))\n",
    "\n",
    "# c50 vs. suppression index\n",
    "ax[0, 0].plot(c50s, supr_index, 'o');\n",
    "ax[0, 0].set_xlabel('c50');\n",
    "ax[0, 0].set_ylabel('suppression index');\n",
    "ax[0, 0].set_xscale('log')\n",
    "\n",
    "# conGain vs. suppression index\n",
    "ax[1, 0].plot(conGain, supr_index, 'o');\n",
    "ax[1, 0].set_xlabel('con gain');\n",
    "ax[1, 0].set_ylabel('suppression index');\n",
    "ax[1, 0].set_xscale('log')\n",
    "\n",
    "# f1f0 vs. suppression index\n",
    "ax[2, 0].plot(f1f0s, supr_index, 'o');\n",
    "ax[2, 0].set_xlabel('f1f0 ratio');\n",
    "ax[2, 0].set_ylabel('suppression index');\n",
    "# ax[2, 0].set_xscale('log')\n",
    "\n",
    "# sfs, colored by c50\n",
    "c50_vals = np.log(c50s);\n",
    "c50_zto1 = 0.75*np.divide(c50_vals-np.min(c50_vals), np.max(c50_vals) - np.min(c50_vals));\n",
    "[ax[0, 1].semilogy(sfs, color=cm.gray(c50_z)) for sfs, c50_z in zip(supr_sfs, c50_zto1)];\n",
    "ax[0, 1].set_xlabel('sf index');\n",
    "ax[0, 1].set_ylabel('superposition ratio');\n",
    "# hacky, but do it fo rnow\n",
    "ax[0, 1].set_ylim([0.1, 10])\n",
    "minorticks = np.hstack((np.linspace(0.1, 1, 10), np.linspace(1, 10, 10)))\n",
    "ax[0, 1].yaxis.set_ticks(minorticks)\n",
    "# ax[, 1].set_yticks\n",
    "# ax[0, 1].yaxis.label(True, which='minor');\n",
    "ax[0, 1].set_title('lighter is higher c50');\n",
    "\n",
    "# sfs, colored by conGain\n",
    "# cg = [x if type(x) == np.float64 else x[0] for x in conGain]; # strange packaging of some conGain values :: TODO - check why (problem should be in rvc_fit or in superposition above)\n",
    "# gain_vals = np.log(cg);\n",
    "# gain_zto1 = 0.75*np.divide(gain_vals-np.min(gain_vals), np.max(gain_vals) - np.min(gain_vals));\n",
    "# [ax[1, 1].semilogy(sfs, color=cm.gray(gain_z)) for sfs, gain_z in zip(supr_sfs, gain_zto1)];\n",
    "# ax[1, 1].set_xlabel('sf index');\n",
    "# ax[1, 1].set_ylabel('superposition ratio');\n",
    "# # hacky, but do it for now\n",
    "# ax[1, 1].set_ylim([0.1, 10])\n",
    "# minorticks = np.hstack((np.linspace(0.1, 1, 10), np.linspace(1, 10, 10)))\n",
    "# ax[1, 1].yaxis.set_ticks(minorticks)\n",
    "# # ax[1, 1].yaxis.label(True, which='minor')\n",
    "# ax[1, 1].set_title('lighter is higher con gain')\n",
    "\n",
    "# sfs, colored by f1f0\n",
    "f1f0_vals = f1f0s; # no need to log\n",
    "f1f0_zto1 = 0.75*np.divide(f1f0_vals-np.min(f1f0_vals), np.max(f1f0_vals) - np.min(f1f0_vals));\n",
    "[ax[2, 1].semilogy(sfs, color=cm.gray(f1f0_z)) for sfs, f1f0_z in zip(supr_sfs, f1f0_zto1)];\n",
    "ax[2, 1].set_xlabel('sf index');\n",
    "ax[2, 1].set_ylabel('superposition ratio');\n",
    "# hacky, but do it for now\n",
    "ax[2, 1].set_ylim([0.1, 10])\n",
    "minorticks = np.hstack((np.linspace(0.1, 1, 10), np.linspace(1, 10, 10)))\n",
    "ax[2, 1].yaxis.set_ticks(minorticks)\n",
    "# ax[2, 1].yaxis.label(True, which='minor')\n",
    "ax[2, 1].set_title('lighter is higher f1f0')\n",
    "\n",
    "# disp, colored by c50\n",
    "c50_vals = np.log(c50s);\n",
    "c50_zto1 = 0.75*np.divide(c50_vals-np.min(c50_vals), np.max(c50_vals) - np.min(c50_vals));\n",
    "[ax[0, 2].semilogy(dsp, color=cm.gray(c50_z)) for dsp, c50_z in zip(supr_disps, c50_zto1)];\n",
    "ax[0, 2].set_xlabel('dispersion index');\n",
    "ax[0, 2].set_ylabel('superposition ratio');\n",
    "# ax[0, 2].set_ylim([0.25, 4])\n",
    "ax[0, 2].set_yscale('log');\n",
    "ax[0, 2].set_ylim([0.1, 10]);\n",
    "ax[0, 2].yaxis.set_ticks(minorticks)\n",
    "ax[0, 2].set_title('lighter is higher c50');\n",
    "\n",
    "# disp, colored by conGain\n",
    "# cg = [x if type(x) == np.float64 else x[0] for x in conGain]; # strange packaging of some conGain values :: TODO - check why (problem should be in rvc_fit or in superposition above)\n",
    "# gain_vals = np.log(cg);\n",
    "# gain_zto1 = 0.75*np.divide(gain_vals-np.min(gain_vals), np.max(gain_vals) - np.min(gain_vals));\n",
    "# [ax[1, 2].semilogy(dsp, color=cm.gray(gain_z)) for dsp, gain_z in zip(supr_disps, gain_zto1)];\n",
    "# ax[1, 2].set_xlabel('dispersion index');\n",
    "# ax[1, 2].set_ylabel('superposition ratio');\n",
    "# ax[1, 2].set_yscale('log')\n",
    "# ax[1, 2].set_ylim([0.1, 10])\n",
    "# ax[1, 2].yaxis.set_ticks(minorticks)\n",
    "# ax[1, 2].set_title('lighter is higher con gain')\n",
    "\n",
    "# disp, colored by f1f0\n",
    "f1f0_vals = f1f0s; # no need to log these values\n",
    "f1f0_zto1 = 0.75*np.divide(f1f0_vals-np.min(f1f0_vals), np.max(f1f0_vals) - np.min(f1f0_vals));\n",
    "[ax[2, 2].semilogy(dsp, color=cm.gray(f1f0_z)) for dsp, f1f0_z in zip(supr_disps, f1f0_zto1)];\n",
    "ax[2, 2].set_xlabel('dispersion index');\n",
    "ax[2, 2].set_ylabel('superposition ratio');\n",
    "ax[2, 2].set_yscale('log')\n",
    "ax[2, 2].yaxis.set_ticks(minorticks)\n",
    "ax[2, 2].set_ylim([0.1, 10])\n",
    "ax[2, 2].set_title('lighter is higher f1f0')\n",
    "\n",
    "f.suptitle('Looking into superposition')\n",
    "\n",
    "sns.despine(offset=10);\n",
    "\n",
    "if savePlt:\n",
    "    save_name = 'superposition_corr.pdf'\n",
    "    pdfSv = pltSave.PdfPages(str(save_locSuper + save_name));\n",
    "    pdfSv.savefig(f)\n",
    "    pdfSv.close();"
   ]
  },
  {
   "cell_type": "code",
   "execution_count": 10,
   "metadata": {},
   "outputs": [
    {
     "data": {
      "text/plain": [
       "array([0.426072, 0.604814, 0.858899, 1.21967 , 1.732   , 2.45944 ,\n",
       "       3.4924  , 4.95924 , 7.04214 ])"
      ]
     },
     "execution_count": 10,
     "metadata": {},
     "output_type": "execute_result"
    }
   ],
   "source": [
    "all_sfs[val_sfs][sfInds]"
   ]
  },
  {
   "cell_type": "code",
   "execution_count": 16,
   "metadata": {},
   "outputs": [
    {
     "data": {
      "text/plain": [
       "array([0.604814, 0.858899, 1.21967 , 1.732   , 2.45944 , 3.4924  ,\n",
       "       4.95924 , 7.04214 ])"
      ]
     },
     "execution_count": 16,
     "metadata": {},
     "output_type": "execute_result"
    }
   ],
   "source": [
    "val_x"
   ]
  },
  {
   "cell_type": "code",
   "execution_count": null,
   "metadata": {},
   "outputs": [],
   "source": []
  },
  {
   "cell_type": "markdown",
   "metadata": {},
   "source": [
    "### Predicted SF tuning\n",
    "\n",
    "Now, let's get a sense for how the single gratings predict spatial frequency tuning to mixtures."
   ]
  },
  {
   "cell_type": "code",
   "execution_count": null,
   "metadata": {},
   "outputs": [],
   "source": [
    "## edit\n",
    "expDir   = 'V1/';\n",
    "dataListNm = hf.get_datalist(expDir);\n",
    "descrFits_f0 = None;\n",
    "rvcName = 'rvcFits_191023'\n",
    "rvcMod = 1; # Movshon (0); naka-rushton (1); peirce (2)\n",
    "\n",
    "# expDir   = 'altExp/';\n",
    "# dataListNm = hf.get_datalist(expDir);\n",
    "# descrFits_f0 = 'descrFits_190503_poiss_flex.npy';\n",
    "# rvcName = None\n",
    "\n",
    "## now, let it run\n",
    "dataPath = basePath + expDir + 'structures/'\n",
    "\n",
    "dataList = hf.np_smart_load(dataPath + dataListNm);"
   ]
  },
  {
   "cell_type": "code",
   "execution_count": null,
   "metadata": {},
   "outputs": [],
   "source": []
  },
  {
   "cell_type": "code",
   "execution_count": null,
   "metadata": {},
   "outputs": [],
   "source": [
    "savePlt=1;\n",
    "save_locTune = save_locSuper + 'tuning_sf/'\n",
    "if not os.path.exists(save_locTune):\n",
    "    os.makedirs(save_locTune)"
   ]
  },
  {
   "cell_type": "code",
   "execution_count": null,
   "metadata": {},
   "outputs": [],
   "source": [
    "# pick one cell?\n",
    "# cells = [3]; \n",
    "\n",
    "# or do all?\n",
    "cells = np.arange(1, 1+len(dataList['unitName']))"
   ]
  },
  {
   "cell_type": "code",
   "execution_count": null,
   "metadata": {},
   "outputs": [],
   "source": [
    "# set up colors, labels                                                                                                                                                            \n",
    "predClr = 'r';\n",
    "predTxt = 'prediction';\n",
    "dataClr = 'k';\n",
    "dataTxt = 'data';\n",
    "diffClr = 'b';\n",
    "diffTxt = 'resp - pred';"
   ]
  },
  {
   "cell_type": "code",
   "execution_count": null,
   "metadata": {},
   "outputs": [],
   "source": [
    "for i in cells:\n",
    "\n",
    "    try: # might have some bad cells, so we just continue/skip in that case\n",
    "        ####\n",
    "        ## gather information\n",
    "        ####\n",
    "        which_cell = i; # which cell - index will be which_cell - 1\n",
    "        cellName = dataList['unitName'][which_cell-1];\n",
    "        expInd = hf.get_exp_ind(dataPath, cellName)[0]\n",
    "        S = hf.np_smart_load(dataPath + cellName + '_sfm.npy')\n",
    "        expData = S['sfm']['exp']['trial'];\n",
    "\n",
    "        try:\n",
    "            cellType = dataList['unitType'][which_cell-1];\n",
    "        except:\n",
    "            # TODO: note, this is dangerous; thus far, only V1 cells don't have 'unitType' field in dataList, so we can safely do this                                                                                                                                                  \n",
    "            cellType = 'V1';\n",
    "        \n",
    "        # first, compute f1f0 ratio to determine if we look at f0 or f1 response\n",
    "        f1f0_rat = hf.compute_f1f0(expData, which_cell, expInd, dataPath, descrFitName_f0=descrFits_f0)[0];\n",
    "\n",
    "        if f1f0_rat > 1 or expDir=='LGN/': # i.e. if we're looking at a simple cell, then let's get F1\n",
    "            if rvcName is not None:\n",
    "                rvcFits = hf.get_rvc_fits(dataPath, expInd, which_cell, rvcName=rvcName, rvcMod=rvcMod);\n",
    "            else:\n",
    "                rvcFits = None\n",
    "            spikes_byComp = hf.get_spikes(expData, get_f0=0, rvcFits=rvcFits, expInd=expInd);\n",
    "            spikes = np.array([np.sum(x) for x in spikes_byComp]);\n",
    "            rates = True; # when we get the spikes from rvcFits, they've already been converted into rates (in hf.get_all_fft)\n",
    "            baseline = None; # f1 has no \"DC\", yadig?\n",
    "        else: # otherwise, if it's complex, just get F0 - and baseline subtract!\n",
    "            spikes = hf.get_spikes(expData, get_f0=1, rvcFits=None, expInd=expInd);\n",
    "            rates = False; # get_spikes without rvcFits is directly from spikeCount, which is counts, not rates!\n",
    "            baseline = hf.blankResp(expData, expInd)[0]; # we'll plot the spontaneous rate\n",
    "            spikes = spikes - baseline*hf.get_exp_params(expInd).stimDur; # why mult by stimDur? well, spikes are not rates but baseline is, so we convert baseline to count (i.e. not rate, too)\n",
    "            \n",
    "        _, _, respOrg, respAll = hf.organize_resp(spikes, expData, expInd);\n",
    "        resps, stimVals, val_con_by_disp, validByStimVal, _ = hf.tabulate_responses(expData, expInd, overwriteSpikes=spikes, respsAsRates=rates);\n",
    "\n",
    "        # get response mean/s.e.m.\n",
    "        respMean = resps[0]; # could be resps[0], too...\n",
    "        findNaN = np.isnan(respAll);\n",
    "        nonNaN  = np.sum(findNaN == False, axis=-1);\n",
    "        respSem = np.nanstd(respAll, -1) / np.sqrt(nonNaN);\n",
    "        # and prediction mean/\n",
    "        predResps = resps[2];\n",
    "        predStd   = resps[3];\n",
    "\n",
    "        ### organize stimulus information\n",
    "        all_disps = stimVals[0];\n",
    "        all_cons = stimVals[1];\n",
    "        all_sfs = stimVals[2];\n",
    "\n",
    "        nCons = len(all_cons);\n",
    "        nSfs = len(all_sfs);\n",
    "        nDisps = len(all_disps);\n",
    "\n",
    "        ####\n",
    "        ## now we plot\n",
    "        ####\n",
    "        fDisp = []; dispAx = [];\n",
    "\n",
    "        sfs_plot = np.logspace(np.log10(all_sfs[0]), np.log10(all_sfs[-1]), 100);\n",
    "\n",
    "        mixDisps = all_disps[all_disps>1]\n",
    "\n",
    "        for d, d_val in enumerate(mixDisps):\n",
    "\n",
    "            d_ind = d+1;\n",
    "            v_cons = val_con_by_disp[d_ind];\n",
    "            n_v_cons = len(v_cons);\n",
    "            nPanels = 2;\n",
    "            fCurr, dispCurr = plt.subplots(n_v_cons, nPanels, figsize=(nPanels*10, n_v_cons*6), sharey=False);\n",
    "#             fCurr, dispCurr = plt.subplots(n_v_cons, nPanels, figsize=(nPanels*12, n_v_cons*8), sharey=False);\n",
    "            fDisp.append(fCurr)\n",
    "            dispAx.append(dispCurr);\n",
    "\n",
    "            fCurr.suptitle('Superposition tuning: %s #%d [%s; f1f0 %.2f]' % (cellType, which_cell, cellName, f1f0_rat))\n",
    "\n",
    "            maxResp = np.max(np.max(respMean[d_ind, ~np.isnan(respMean[d_ind, :, :])]));\n",
    "            maxPred = np.max(np.max(predResps[d_ind, ~np.isnan(predResps[d_ind, :, :])]));\n",
    "            maxPlot = np.maximum(maxResp, maxPred);\n",
    "\n",
    "            for c in reversed(range(n_v_cons)):\n",
    "                c_plt_ind = len(v_cons) - c - 1;\n",
    "                v_sfs = hf.get_valid_sfs(expData, d_ind, v_cons[c], expInd, stimVals, validByStimVal)\n",
    "\n",
    "                curr_sfs  = all_sfs[v_sfs];\n",
    "                curr_resp = respMean[d_ind, v_sfs, v_cons[c]]; # data response                                                                               \n",
    "                curr_pred = predResps[d_ind, v_sfs, v_cons[c]]; # predicted response                                                                            \n",
    "\n",
    "                ### LEFT SIDE: data versus prediction\n",
    "                ## plot data\n",
    "                dispAx[d][c_plt_ind, 0].errorbar(curr_sfs, curr_resp,\n",
    "                                                 respSem[d_ind, v_sfs, v_cons[c]], color=dataClr, fmt='-o', clip_on=False, label=dataTxt);\n",
    "        #         dispAx[d][c_plt_ind].axhline(blankMean, color=dataClr, linestyle='dashed', label='spon. rate');\n",
    "                # and baseline if applicable\n",
    "                if baseline is not None:\n",
    "#                     dispAx[d][c_plt_ind, 0].axhline(baseline, linestyle='--', color='k', label='spon. rate')\n",
    "                    dispAx[d][c_plt_ind, 0].set_ylabel('resp abv baseline (spikes/s)', fontsize='x-small');\n",
    "                else:\n",
    "                    dispAx[d][c_plt_ind, 0].set_ylabel('resp (spikes/s)', fontsize='x-small');\n",
    "\n",
    "                ## plot prediction\n",
    "                dispAx[d][c_plt_ind, 0].plot(curr_sfs, curr_pred, linestyle='-', marker='o', alpha=0.7, color=predClr, clip_on=False, label=predTxt);\n",
    "        #         dispAx[d][c_plt_ind, 0].errorbar(curr_sfs, curr_pred, predStd[d_ind, v_sfs, v_cons[c]], fmt='-o', alpha=0.7, color=predClr, clip_on=False, label=predTxt);\n",
    "        #         dispAx[d][c_plt_ind].axhline(modSponRate, color=modClr, linestyle='dashed')\n",
    "\n",
    "                ## labels\n",
    "                dispAx[d][c_plt_ind, 0].set_ylim((0, 1.1*maxPlot));\n",
    "                dispAx[d][c_plt_ind, 0].set_ylabel('resp (spikes/s)', fontsize='x-small');\n",
    "\n",
    "                ### RIGHT SIDE: difference plot\n",
    "                ## plot difference\n",
    "                curr_diff = curr_resp - curr_pred;\n",
    "                dispAx[d][c_plt_ind, 1].plot(curr_sfs, curr_diff, ls='-', marker='o', color=diffClr, label=diffTxt)\n",
    "                # and \"no effect\" line\n",
    "                dispAx[d][c_plt_ind, 1].axhline(0, linestyle='--', color='k', label='pred. match')\n",
    "\n",
    "                ## and the tuning curve for single gratings at high contrast\n",
    "                # ...does the superposition failure match the response?\n",
    "                # TODO: make reference curve not just high contrast?\n",
    "                sfRef = hf.nan_rm(respMean[0, :, -1]); # high contrast tuning\n",
    "                dispAx[d][c_plt_ind, 1].plot(all_sfs, sfRef, 'k-', label='ref. tuning (d0, high con)', clip_on=False)\n",
    "\n",
    "                ## labels\n",
    "                dispAx[d][c_plt_ind, 1].set_ylabel('resp difference (spikes/)', fontsize='x-small');\n",
    "\n",
    "                # Set ticks out, remove top/right axis, put ticks only on bottom/left\n",
    "                for i in range(nPanels):\n",
    "                    dispAx[d][c_plt_ind, i].legend(fontsize='xx-small'); # set up legend\n",
    "\n",
    "                    dispAx[d][c_plt_ind, i].set_xlim((min(all_sfs), max(all_sfs)));\n",
    "                    dispAx[d][c_plt_ind, i].set_xscale('log');\n",
    "                    if c == 0: # i.e. only the last c_plt_ind\n",
    "                        dispAx[d][c_plt_ind, i].set_xlabel('sf (c/deg)', fontsize='x-small');\n",
    "\n",
    "                    dispAx[d][c_plt_ind, i].set_title('D%02d: contrast: %.3f' % (d_ind, all_cons[v_cons[c]]), fontsize='small');\n",
    "\n",
    "                    dispAx[d][c_plt_ind, i].tick_params(labelsize=15, width=1, length=8, direction='out');\n",
    "                    dispAx[d][c_plt_ind, i].tick_params(width=1, length=4, which='minor', direction='out'); # minor ticks, too...                                                            \n",
    "                    sns.despine(ax=dispAx[d][c_plt_ind, i], offset=10, trim=False);\n",
    "    \n",
    "        if savePlt:\n",
    "            save_name = 'cell_%03d.pdf' % which_cell\n",
    "            pdfSv = pltSave.PdfPages(str(save_locTune + save_name));\n",
    "            for f in fDisp:\n",
    "                pdfSv.savefig(f)\n",
    "                plt.close(f)\n",
    "            pdfSv.close();\n",
    "\n",
    "    except: # i.e. ignore this cell - some cells have improper data/expo files\n",
    "        pass;"
   ]
  },
  {
   "cell_type": "markdown",
   "metadata": {},
   "source": [
    "### Predicted RVC\n",
    "\n",
    "Now, let's get a sense for how the single gratings predict response versus contrast to mixture stimuli."
   ]
  },
  {
   "cell_type": "code",
   "execution_count": null,
   "metadata": {},
   "outputs": [],
   "source": [
    "## edit\n",
    "expDir   = 'V1/';\n",
    "dataListNm = hf.get_datalist(expDir);\n",
    "descrFits_f0 = None;\n",
    "rvcName = 'rvcFits_191023'\n",
    "rvcMod = 1;\n",
    "\n",
    "# expDir   = 'altExp/';\n",
    "# dataListNm = hf.get_datalist(expDir);\n",
    "# descrFits_f0 = 'descrFits_190503_poiss_flex.npy';\n",
    "# rvcName = None\n",
    "\n",
    "## now, let it run\n",
    "dataPath = basePath + expDir + 'structures/'\n",
    "\n",
    "dataList = hf.np_smart_load(dataPath + dataListNm);"
   ]
  },
  {
   "cell_type": "code",
   "execution_count": null,
   "metadata": {},
   "outputs": [],
   "source": [
    "savePlt=1;\n",
    "save_locTune = save_locSuper + 'tuning_rvc/'\n",
    "if not os.path.exists(save_locTune):\n",
    "    os.makedirs(save_locTune)"
   ]
  },
  {
   "cell_type": "code",
   "execution_count": null,
   "metadata": {},
   "outputs": [],
   "source": [
    "# set up colors, labels                                                                                                                                                            \n",
    "predClr = 'r';\n",
    "predTxt = 'prediction';\n",
    "dataClr = 'k';\n",
    "dataTxt = 'data';\n",
    "diffClr = 'b';\n",
    "diffTxt = 'resp - pred';"
   ]
  },
  {
   "cell_type": "code",
   "execution_count": null,
   "metadata": {},
   "outputs": [],
   "source": [
    "# pick one cell?\n",
    "# cells = [3]; \n",
    "\n",
    "# or do all?\n",
    "cells = np.arange(1, 1+len(dataList['unitName']))\n",
    "\n",
    "# cells_full = cells;\n",
    "# cells = cells_full"
   ]
  },
  {
   "cell_type": "code",
   "execution_count": null,
   "metadata": {},
   "outputs": [],
   "source": [
    "for i in cells:\n",
    "\n",
    "#     try: # might have some bad cells, so we just continue/skip in that case\n",
    "        ####\n",
    "        ## gather information\n",
    "        ####\n",
    "        which_cell = i; # which cell - index will be which_cell - 1\n",
    "        cellName = dataList['unitName'][which_cell-1];\n",
    "        expInd = hf.get_exp_ind(dataPath, cellName)[0]\n",
    "        S = hf.np_smart_load(dataPath + cellName + '_sfm.npy')\n",
    "        expData = S['sfm']['exp']['trial'];\n",
    "\n",
    "        try:\n",
    "            cellType = dataList['unitType'][which_cell-1];\n",
    "        except:\n",
    "            # TODO: note, this is dangerous; thus far, only V1 cells don't have 'unitType' field in dataList, so we can safely do this                                                                                                                                                  \n",
    "            cellType = 'V1';\n",
    "        \n",
    "        # first, compute f1f0 ratio to determine if we look at f0 or f1 response\n",
    "        f1f0_rat = hf.compute_f1f0(expData, which_cell, expInd, dataPath, descrFitName_f0=descrFits_f0)[0];\n",
    "\n",
    "        if f1f0_rat > 1e3: # i.e. if we're looking at a simple cell, then let's get F1\n",
    "            if rvcName is not None:\n",
    "                rvcFits = hf.get_rvc_fits(dataPath, expInd, which_cell, rvcName=rvcName, rvcMod=rvcMod);\n",
    "            else:\n",
    "                rvcFits = None\n",
    "            spikes_byComp = hf.get_spikes(expData, get_f0=0, rvcFits=rvcFits, expInd=expInd);\n",
    "            spikes = np.array([np.sum(x) for x in spikes_byComp]);\n",
    "            rates = True; # when we get the spikes from rvcFits, they've already been converted into rates (in hf.get_all_fft)\n",
    "            baseline = None; # f1 has no \"DC\", yadig?\n",
    "        else: # otherwise, if it's complex, just get F0\n",
    "            spikes = hf.get_spikes(expData, get_f0=1, rvcFits=None, expInd=expInd);\n",
    "            rates = False; # get_spikes without rvcFits is directly from spikeCount, which is counts, not rates!\n",
    "            baseline = hf.blankResp(expData, expInd)[0]; # we'll plot the spontaneous rate\n",
    "            # why mult by stimDur below? well, spikes are not rates but baseline is, so we convert baseline to count (i.e. not rate, too)\n",
    "            spikes = spikes - baseline*hf.get_exp_params(expInd).stimDur;\n",
    "\n",
    "        _, _, respOrg, respAll = hf.organize_resp(spikes, expData, expInd);\n",
    "        resps, stimVals, val_con_by_disp, validByStimVal, _ = hf.tabulate_responses(expData, expInd, overwriteSpikes=spikes, respsAsRates=rates);\n",
    "\n",
    "        # get response mean/s.e.m.\n",
    "        respMean = resps[0]; # could be resps[0], too...\n",
    "        findNaN = np.isnan(respAll);\n",
    "        nonNaN  = np.sum(findNaN == False, axis=-1);\n",
    "        respSem = np.nanstd(respAll, -1) / np.sqrt(nonNaN);\n",
    "        # and prediction mean/\n",
    "        predResps = resps[2];\n",
    "        predStd   = resps[3];\n",
    "\n",
    "        ### organize stimulus information\n",
    "        all_disps = stimVals[0];\n",
    "        all_cons = stimVals[1];\n",
    "        all_sfs = stimVals[2];\n",
    "\n",
    "        nCons = len(all_cons);\n",
    "        nSfs = len(all_sfs);\n",
    "        nDisps = len(all_disps);\n",
    "\n",
    "        ####\n",
    "        ## now we plot\n",
    "        ####\n",
    "        fDisp = []; dispAx = [];\n",
    "\n",
    "        sfs_plot = np.logspace(np.log10(all_sfs[0]), np.log10(all_sfs[-1]), 100);\n",
    "\n",
    "        mixDisps = all_disps[all_disps>1]\n",
    "\n",
    "        for d, d_val in enumerate(mixDisps):\n",
    "\n",
    "            d_ind = d+1;\n",
    "\n",
    "            v_sf_inds = hf.get_valid_sfs(expData, d_ind, val_con_by_disp[d_ind][0], expInd, stimVals, validByStimVal);\n",
    "            n_v_sfs = len(v_sf_inds);\n",
    "\n",
    "            nPanels = 2;\n",
    "            fCurr, dispCurr = plt.subplots(n_v_sfs, nPanels, figsize=(nPanels*12, n_v_sfs*8), sharey=False);\n",
    "            fDisp.append(fCurr)\n",
    "            dispAx.append(dispCurr);\n",
    "\n",
    "            fCurr.suptitle('Superposition RVC: %s #%d [%s; f1f0 %.2f]' % (cellType, which_cell, cellName, f1f0_rat))\n",
    "\n",
    "            maxResp = np.max(np.max(respMean[d_ind, ~np.isnan(respMean[d_ind, :, :])]));\n",
    "            maxPred = np.max(np.max(predResps[d_ind, ~np.isnan(predResps[d_ind, :, :])]));\n",
    "            maxPlot = np.maximum(maxResp, maxPred);\n",
    "\n",
    "            for sf_ind_curr, sf_ind_total in enumerate(v_sf_inds):\n",
    "                v_cons = val_con_by_disp[d_ind];\n",
    "                curr_cons = all_cons[v_cons];\n",
    "\n",
    "                curr_resp = respMean[d_ind, sf_ind_total, v_cons]; # data response                                                                               \n",
    "                curr_pred = predResps[d_ind, sf_ind_total, v_cons]; # predicted response                                                                            \n",
    "\n",
    "                ### LEFT SIDE: data versus prediction\n",
    "                ## plot data                                                                                                                                                               \n",
    "                dispAx[d][sf_ind_curr, 0].errorbar(curr_cons, curr_resp,\n",
    "                                                 respSem[d_ind, sf_ind_total, v_cons], color=dataClr, fmt='-o', clip_on=False, label=dataTxt);\n",
    "        #         dispAx[d][c_plt_ind].axhline(blankMean, color=dataClr, linestyle='dashed', label='spon. rate');\n",
    "                # and baseline if applicable\n",
    "                if baseline is not None:\n",
    "#                     dispAx[d][c_plt_ind, 0].axhline(baseline, linestyle='--', color='k', label='spon. rate')\n",
    "                    dispAx[d][sf_ind_curr, 0].set_ylabel('resp abv baseline (spikes/s)', fontsize='x-small');\n",
    "                else:\n",
    "                    dispAx[d][sf_ind_curr, 0].set_ylabel('resp (spikes/s)', fontsize='x-small');\n",
    "\n",
    "                ## plot prediction\n",
    "                dispAx[d][sf_ind_curr, 0].plot(curr_cons, curr_pred, linestyle='-', marker='o', alpha=0.7, color=predClr, clip_on=False, label=predTxt);\n",
    "        #         dispAx[d][sf_ind_curr, 0].errorbar(curr_sfs, curr_pred, predStd[d_ind, v_sfs, v_cons[c]], fmt='-o', alpha=0.7, color=predClr, clip_on=False, label=predTxt);\n",
    "        #         dispAx[d][sf_ind_curr].axhline(modSponRate, color=modClr, linestyle='dashed')\n",
    "\n",
    "                ## labels, lims\n",
    "                dispAx[d][sf_ind_curr, 0].set_ylim((0, 1.1*maxPlot));\n",
    "                dispAx[d][sf_ind_curr, 0].set_ylabel('resp (spikes/s)', fontsize='x-small');\n",
    "                dispAx[d][sf_ind_curr, 0].set_xlim((0.3, np.max(all_cons)));\n",
    "\n",
    "                ### RIGHT SIDE: difference plot\n",
    "                ## plot difference\n",
    "                curr_diff = curr_resp - curr_pred;\n",
    "                dispAx[d][sf_ind_curr, 1].plot(curr_cons, curr_diff, ls='-', marker='o', color=diffClr, label=diffTxt)\n",
    "                # and \"no effect\" line\n",
    "                dispAx[d][sf_ind_curr, 1].axhline(0, linestyle='--', color='k', label='pred. match')\n",
    "\n",
    "                ## and then the tuning curve for single gratings at high contrast\n",
    "                # ...does the superposition failure match the response?\n",
    "                # TODO: make reference curve not just high contrast?\n",
    "                sfRef = hf.nan_rm(respMean[0, :, -1]); # high contrast tuning\n",
    "                sfPeak = np.argmax(sfRef); # stupid/simple, but just get the rvc for the max response\n",
    "                v_cons_single = val_con_by_disp[0]\n",
    "                rvcRef = hf.nan_rm(respMean[0, sfPeak, v_cons_single]);\n",
    "                dispAx[d][sf_ind_curr, 1].plot(all_cons[v_cons_single], rvcRef, 'k-', label='ref. tuning (d0, peak SF)', clip_on=False)\n",
    "                dispAx[d][sf_ind_curr, 1].set_xlim((np.min(all_cons), np.max(all_cons)));\n",
    "\n",
    "                ## labels\n",
    "                dispAx[d][sf_ind_curr, 1].set_ylabel('resp difference (spikes/)', fontsize='x-small');\n",
    "\n",
    "                # Set ticks out, remove top/right axis, put ticks only on bottom/left\n",
    "                for i in range(nPanels):\n",
    "                    dispAx[d][sf_ind_curr, i].legend(fontsize='xx-small'); # set up legend\n",
    "\n",
    "#                     dispAx[d][sf_ind_curr, i].set_xlim((min(curr_cons), max(curr_cons)));\n",
    "                    dispAx[d][sf_ind_curr, i].set_xscale('log');\n",
    "                    if sf_ind_curr == 0:\n",
    "                        dispAx[d][sf_ind_curr, i].set_xlabel('contrast (%)', fontsize='x-small');\n",
    "\n",
    "                    dispAx[d][sf_ind_curr, i].set_title('D%02d: sf: %.2f' % (d_ind, all_sfs[sf_ind_total]), fontsize='small');\n",
    "\n",
    "                    dispAx[d][sf_ind_curr, i].tick_params(labelsize=15, width=1, length=8, direction='out');\n",
    "                    dispAx[d][sf_ind_curr, i].tick_params(width=1, length=4, which='minor', direction='out'); # minor ticks, too...                                                            \n",
    "                    sns.despine(ax=dispAx[d][sf_ind_curr, i], offset=10, trim=False);\n",
    "    \n",
    "        if savePlt:\n",
    "            save_name = 'cell_%03d.pdf' % which_cell\n",
    "            pdfSv = pltSave.PdfPages(str(save_locTune + save_name));\n",
    "            for f in fDisp:\n",
    "                pdfSv.savefig(f)\n",
    "                plt.close(f)\n",
    "            pdfSv.close();\n",
    "\n",
    "#     except: # i.e. ignore this cell - some cells have improper data/expo files\n",
    "#         pass;"
   ]
  },
  {
   "cell_type": "markdown",
   "metadata": {},
   "source": [
    "## Full analysis\n",
    "\n",
    "Here, we'll try to further develop superposition analysis for all possible cells. Importantly, we can only analyze altExp/ and V1/ experiments (i.e. not V1_orig/) due to the needed construction of the stimulus set. Recall that the superposition analysis seeks to predict the response to mixture stimuli from the responses to constituent gratings when presented alone."
   ]
  },
  {
   "cell_type": "markdown",
   "metadata": {},
   "source": [
    "Now, let's gather the same pred/mix responses for all cells"
   ]
  },
  {
   "cell_type": "code",
   "execution_count": null,
   "metadata": {},
   "outputs": [],
   "source": [
    "# suppInds = [];\n",
    "# for nm, ind in zip(dataList['unitName'], range(len(dataList['unitName']))):\n",
    "    \n",
    "#     try:\n",
    "#         # load cell\n",
    "#         expInd = hf.get_exp_ind(dataPath, nm)[0]\n",
    "#         S = hf.np_smart_load(dataPath + nm + '_sfm.npy')\n",
    "#         expData = S['sfm']['exp']['trial'];\n",
    "#     except:\n",
    "#         continue;\n",
    "    \n",
    "#     ### organize responses\n",
    "#     resps, stimVals, val_con_by_disp, _, _ = hf.tabulate_responses(expData, expInd);\n",
    "#     ### WARNING: WARNING: resps is WITHOUT any rvcAdjustment\n",
    "#     predResps = resps[2];\n",
    "#     rvcFits = hf.get_rvc_fits(dataPath, expInd, ind, rvcName='None');\n",
    "#     spikes  = hf.get_spikes(expData, rvcFits=rvcFits, expInd=expInd);\n",
    "#     _, _, respOrg, respAll    = hf.organize_resp(spikes, expData, expInd);\n",
    "\n",
    "#     respMean = respOrg;\n",
    "#     respStd = np.nanstd(respAll, -1); # take std of all responses for a given condition                                                                                                                         \n",
    "#     # compute SEM, too                                                                                                                                                                                          \n",
    "#     findNaN = np.isnan(respAll);\n",
    "#     nonNaN  = np.sum(findNaN == False, axis=-1);\n",
    "#     respSem = np.nanstd(respAll, -1) / np.sqrt(nonNaN);\n",
    "\n",
    "#     ### organize stimulus information\n",
    "#     all_disps, all_cons, all_sfs = stimVals[0:3];\n",
    "#     nCons, nSfs, nDisps = len(all_cons), len(all_sfs), len(all_disps);\n",
    "    \n",
    "#     allMix = [];\n",
    "#     allSum = [];\n",
    "\n",
    "#     for d in range(nDisps):\n",
    "#         if d == 0: # we don't care about single gratings!\n",
    "#             continue; \n",
    "#         v_cons = np.array(val_con_by_disp[d]);\n",
    "#         n_v_cons = len(v_cons);\n",
    "\n",
    "#         for c in reversed(range(n_v_cons)):\n",
    "#             v_sfs = hf.get_valid_sfs(S, d, v_cons[c], expInd)\n",
    "#             for s in v_sfs:\n",
    "#                 mixResp = respMean[d, s, v_cons[c]];\n",
    "#                 allMix.append(mixResp);\n",
    "#                 sumResp = predResps[d, s, v_cons[c]];\n",
    "#                 allSum.append(sumResp);\n",
    "    \n",
    "#     hmm = np.polyfit(allSum, allMix, deg=1) # returns [a, b] in ax + b \n",
    "#     suppInds.append(hmm[0])\n",
    "    "
   ]
  },
  {
   "cell_type": "markdown",
   "metadata": {},
   "source": [
    "## Quick dive of superposition analysis above\n"
   ]
  },
  {
   "cell_type": "code",
   "execution_count": null,
   "metadata": {},
   "outputs": [],
   "source": []
  },
  {
   "cell_type": "code",
   "execution_count": null,
   "metadata": {},
   "outputs": [],
   "source": [
    "lgn_supr = hf.np_smart_load('LGN/structures/superposition_analysis.npy')\n",
    "v1_supr = hf.np_smart_load('V1/structures/superposition_analysis.npy')\n",
    "\n",
    "both_supr = (lgn_supr, v1_supr);\n"
   ]
  },
  {
   "cell_type": "code",
   "execution_count": null,
   "metadata": {},
   "outputs": [],
   "source": [
    "# First, let's find out which keys (i.e. cells) have the full set of dispersions\n",
    "ok_inds = [np.array([int(x) if len(y[x]['supr_disp'])>1 else np.nan for x in y.keys()]) for y in both_supr]\n",
    "ok_inds = [x[~np.isnan(x)] for x in ok_inds]"
   ]
  },
  {
   "cell_type": "code",
   "execution_count": null,
   "metadata": {},
   "outputs": [],
   "source": [
    "# now, let's look at the error correlations with the SF tuning curve derivative\n",
    "err_corr = [np.array([y[x]['corr_derivWithErr'] for x in inds]) for y,key,inds in zip(both_supr, keys, ok_inds)];\n",
    "errNorm_corr = [np.array([y[x]['corr_derivWithErrNorm'] for x in inds]) for y,key,inds in zip(both_supr, keys, ok_inds)];\n",
    "# - then, clean the NaN\n",
    "err_corr = [x[~np.isnan(x)] for x in err_corr]\n",
    "errNorm_corr = [x[~np.isnan(x)] for x in errNorm_corr]"
   ]
  },
  {
   "cell_type": "code",
   "execution_count": null,
   "metadata": {
    "scrolled": false
   },
   "outputs": [],
   "source": [
    "bins = np.linspace(-1, 1, num=11);\n",
    "lbls = ['LGN (n=%d)' % len(err_corr[0]), 'V1 (n=%d)' % len(err_corr[1])];\n",
    "clrs = ['k', 'r']\n",
    "# now, the two plots\n",
    "f, ax = plt.subplots(2, 1, figsize=(20, 40));\n",
    "# 1st, mean error\n",
    "ax[0].hist(err_corr, bins, label=lbls, color=clrs, rwidth=0.8, alpha=0.6);\n",
    "ax[0].legend();\n",
    "ax[0].set_title('Correlation b/t g\\' and mean error from suppression');\n",
    "# 2nd, mean normalized error\n",
    "ax[1].hist(errNorm_corr, bins, label=lbls, color=clrs, rwidth=0.8, alpha=0.6);\n",
    "ax[1].legend();\n",
    "ax[1].set_title('Correlation b/t g\\' and mean normalized error from suppression');\n",
    "\n",
    "if savePlt:\n",
    "    save_name = '_corrs_w_tuning.pdf'\n",
    "    pdfSv = pltSave.PdfPages(str(save_locSuper + save_name));\n",
    "    pdfSv.savefig(f)\n",
    "    pdfSv.close();"
   ]
  },
  {
   "cell_type": "code",
   "execution_count": null,
   "metadata": {},
   "outputs": [],
   "source": []
  },
  {
   "cell_type": "code",
   "execution_count": null,
   "metadata": {},
   "outputs": [],
   "source": []
  },
  {
   "cell_type": "markdown",
   "metadata": {},
   "source": [
    "## Extra/old"
   ]
  },
  {
   "cell_type": "code",
   "execution_count": null,
   "metadata": {},
   "outputs": [],
   "source": [
    "# ################\n",
    "# ## DO YOU WANT TO RUN THIS?\n",
    "# ## DEBUGGING new changes in tabulate_responses --- works!\n",
    "# ################\n",
    "# resps_GT, stimVals_GT, val_con_by_disp_GT, _, _ = hf.tabulate_responses(expData, expInd);\n",
    "# resps_F0, stimVals_F0, val_con_by_disp_F0, _, _ = hf.tabulate_responses(expData, expInd, overwriteSpikes=expData['spikeCount']);\n",
    "# f1_sum = np.array([np.sum(x)for x in expData['f1']]);\n",
    "# resps_F1, stimVals_F1, val_con_by_disp_F1, _, _ = hf.tabulate_responses(expData, expInd, overwriteSpikes=f1_sum);\n",
    "# f1_sum_adj = spikes\n",
    "# resps_F1_adj, stimVals_F1_adj, val_con_by_disp_F1_adj, _, _ = hf.tabulate_responses(expData, expInd, overwriteSpikes=f1_sum_adj);"
   ]
  },
  {
   "cell_type": "markdown",
   "metadata": {},
   "source": [
    "# oh"
   ]
  },
  {
   "cell_type": "code",
   "execution_count": 812,
   "metadata": {},
   "outputs": [
    {
     "data": {
      "text/plain": [
       "<module 'helper_fcns' from '/arc/2.2/p1/plevy/SF_diversity/sfDiv-OriModel/sfDiv-python/helper_fcns.py'>"
      ]
     },
     "execution_count": 812,
     "metadata": {},
     "output_type": "execute_result"
    }
   ],
   "source": [
    "autoreload.reload(hf)"
   ]
  },
  {
   "cell_type": "code",
   "execution_count": 813,
   "metadata": {},
   "outputs": [],
   "source": [
    "which_cell = 10; # which cell - index will be which_cell - 1\n",
    "cellName = dataList['unitName'][which_cell-1];\n",
    "expInd = hf.get_exp_ind(dataPath, cellName)[0]\n",
    "S = hf.np_smart_load(dataPath + cellName + '_sfm.npy')\n",
    "expData = S['sfm']['exp']['trial'];\n",
    "\n",
    "# 0th, let's load the basic tuning characterizations AND the descriptive fit\n",
    "dfit_curr = descrFits[which_cell-1]['params'][0,-1,:]; # single grating, highest contrast\n",
    "# - then the basics\n",
    "basic_names, basic_order = dataList['basicProgName'][which_cell-1], dataList['basicProgOrder']\n",
    "basics = hf.get_basic_tunings(basic_names, basic_order)"
   ]
  },
  {
   "cell_type": "code",
   "execution_count": 814,
   "metadata": {},
   "outputs": [],
   "source": [
    "[rf, tf, sf, rvc, ori] = [basics[x] for x in ['rfsize', 'tf', 'sf', 'rvc', 'ori']]"
   ]
  },
  {
   "cell_type": "code",
   "execution_count": 815,
   "metadata": {},
   "outputs": [],
   "source": [
    "prms = ori['params']"
   ]
  },
  {
   "cell_type": "code",
   "execution_count": 816,
   "metadata": {},
   "outputs": [
    {
     "data": {
      "text/plain": [
       "array([48.28710704,  0.253463  ,  1.44951335,  0.66063222,  2.8434917 ])"
      ]
     },
     "execution_count": 816,
     "metadata": {},
     "output_type": "execute_result"
    }
   ],
   "source": [
    "prms"
   ]
  },
  {
   "cell_type": "code",
   "execution_count": 789,
   "metadata": {},
   "outputs": [],
   "source": [
    "prms = np.copy(ori['params']);\n",
    "prms[0] = 46\n",
    "# prms[1] = 0.05\n",
    "prms[3] = 0.7"
   ]
  },
  {
   "cell_type": "code",
   "execution_count": 817,
   "metadata": {},
   "outputs": [
    {
     "data": {
      "text/plain": [
       "Text(0.5,1,'Peak 83 deg, bw 11 deg, cv 0.47, ds 0.34')"
      ]
     },
     "execution_count": 817,
     "metadata": {},
     "output_type": "execute_result"
    },
    {
     "data": {
      "image/png": "[encoded data removed]",
      "text/plain": [
       "<matplotlib.figure.Figure at 0x7f0e209abba8>"
      ]
     },
     "metadata": {
      "needs_background": "light"
     },
     "output_type": "display_data"
    }
   ],
   "source": [
    "orivals, oriresps, oristderr = [ori['ori_exp'][x] for x in ['oriVals', 'counts_mean', 'counts_stderr']];\n",
    "plt.errorbar(orivals, oriresps, oristderr, fmt='o', color='k');\n",
    "# model                                                                                                                                                                                                                                                                       \n",
    "plt_oris = np.linspace(0, 2*np.pi, 100);\n",
    "mod_resp = ori['oriMod'](*prms, plt_oris)\n",
    "plt.plot(np.rad2deg(plt_oris), mod_resp, 'k-');\n",
    "plt.title('Peak %d deg, bw %d deg, cv %.2f, ds %.2f' % (ori['pref'], ori['bw'], ori['cv'], ori['DS']))\n",
    "#ax[2, 0].legend();"
   ]
  },
  {
   "cell_type": "code",
   "execution_count": 811,
   "metadata": {},
   "outputs": [],
   "source": [
    "oriResps, oriVals = ori['ori_exp']['counts_mean'], ori['ori_exp']['oriVals'];\n",
    "oriAsRad = np.deg2rad(oriVals);\n",
    "sigma = np.ones_like(oriAsRad);\n",
    "k = 0.01\n",
    "mod = ori['oriMod']\n",
    "\n",
    "maxResp, baseline = np.max(oriResps), np.min(oriResps)"
   ]
  },
  {
   "cell_type": "code",
   "execution_count": 792,
   "metadata": {},
   "outputs": [],
   "source": [
    "curr_obj = lambda params: np.sum(np.divide(np.square(oriResps - mod(*params, oriAsRad)), (k+np.square(sigma))));"
   ]
  },
  {
   "cell_type": "code",
   "execution_count": 793,
   "metadata": {},
   "outputs": [
    {
     "data": {
      "text/plain": [
       "array([41.38179017,  0.25706349,  1.49324832,  0.77835356,  2.64320652])"
      ]
     },
     "execution_count": 793,
     "metadata": {},
     "output_type": "execute_result"
    }
   ],
   "source": [
    "ori['params']"
   ]
  },
  {
   "cell_type": "code",
   "execution_count": 794,
   "metadata": {},
   "outputs": [
    {
     "data": {
      "text/plain": [
       "array([46.        ,  0.25706349,  1.49324832,  0.7       ,  2.64320652])"
      ]
     },
     "execution_count": 794,
     "metadata": {},
     "output_type": "execute_result"
    }
   ],
   "source": [
    "prms"
   ]
  },
  {
   "cell_type": "code",
   "execution_count": 795,
   "metadata": {},
   "outputs": [
    {
     "data": {
      "text/plain": [
       "128.20604957907528"
      ]
     },
     "execution_count": 795,
     "metadata": {},
     "output_type": "execute_result"
    }
   ],
   "source": [
    "curr_obj(prms)"
   ]
  },
  {
   "cell_type": "code",
   "execution_count": 796,
   "metadata": {},
   "outputs": [
    {
     "data": {
      "text/plain": [
       "222.346828627118"
      ]
     },
     "execution_count": 796,
     "metadata": {},
     "output_type": "execute_result"
    }
   ],
   "source": [
    "curr_obj(ori['params'])"
   ]
  },
  {
   "cell_type": "code",
   "execution_count": 607,
   "metadata": {},
   "outputs": [
    {
     "data": {
      "text/plain": [
       "array([0.95186438, 0.31862508, 0.70371571, 0.16296734, 0.        ])"
      ]
     },
     "execution_count": 607,
     "metadata": {},
     "output_type": "execute_result"
    }
   ],
   "source": [
    "ori['params']"
   ]
  },
  {
   "cell_type": "code",
   "execution_count": null,
   "metadata": {},
   "outputs": [],
   "source": []
  }
 ],
 "metadata": {
  "kernelspec": {
   "display_name": "Python 3",
   "language": "python",
   "name": "python3"
  },
  "language_info": {
   "codemirror_mode": {
    "name": "ipython",
    "version": 3
   },
   "file_extension": ".py",
   "mimetype": "text/x-python",
   "name": "python",
   "nbconvert_exporter": "python",
   "pygments_lexer": "ipython3",
   "version": "3.6.12"
  }
 },
 "nbformat": 4,
 "nbformat_minor": 2
}
