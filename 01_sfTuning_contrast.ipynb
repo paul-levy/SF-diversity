{
 "cells": [
  {
   "cell_type": "markdown",
   "metadata": {},
   "source": [
    "# The contrast-dependence of spatial frequency tuning\n",
    "## Thesis chapter 1/publication\n",
    "\n",
    "Here, we'll organize (better than has been organized in the predecesor notebooks __{analysis_ch1, analysis_ch1_suppl, descrAnalysisV1-allExps, V1_clustering, and descrAnalysisLGN]}__ the analysis for chapter 1 of my thesis. The primary intention behind re-doing this notebook (_again_) is that per a meeting in April 2022, Tony and Eero suggested we write this chapter as a paper fit for publication.\n",
    "\n",
    "In particular, writing this chapter as a paper necessitates re-doing some of the analyses from Sach Sokol's thesis (specifically, his 3rd chapter)."
   ]
  },
  {
   "cell_type": "markdown",
   "metadata": {},
   "source": [
    "Last access (y.m.d): 22.06.02   \n",
    "Last update (y.m.d): 22.05.31  "
   ]
  },
  {
   "cell_type": "code",
   "execution_count": 1714,
   "metadata": {},
   "outputs": [],
   "source": [
    "import helper_fcns as hf\n",
    "import numpy as np\n",
    "\n",
    "import warnings\n",
    "warnings.filterwarnings(action='once')\n",
    "\n",
    "import os, pdb\n",
    "import scipy.stats as ss\n",
    "import scipy.odr.odrpack as odrpack\n",
    "from scipy.stats.mstats import gmean\n",
    "from scipy.stats import ks_2samp, kstest, linregress\n",
    "import itertools\n",
    "import autoreload\n",
    "from IPython.core.display import display, HTML, Image\n",
    "\n",
    "import seaborn as sns\n",
    "import matplotlib.pyplot as plt\n",
    "plt.style.use('https://raw.githubusercontent.com/paul-levy/SF_diversity/master/paul_plt_style.mplstyle');\n",
    "import matplotlib.cm as cm\n",
    "import matplotlib.backends.backend_pdf as pltSave\n",
    "%matplotlib inline\n",
    "plt.style.use('https://raw.githubusercontent.com/paul-levy/SF_diversity/master/paul_plt_style.mplstyle');\n",
    "\n",
    "base_dir = os.getcwd() + '/';\n",
    "\n",
    "# what's the save name for this analysis?\n",
    "saveName = 'figures/reports/ch01_sfTuning_contrast/'; # for one save name for all figures\n",
    "save_loc = base_dir + saveName;"
   ]
  },
  {
   "cell_type": "code",
   "execution_count": 1715,
   "metadata": {},
   "outputs": [],
   "source": [
    "# Before any plotting, fix plotting paramaters\n",
    "plt.style.use('https://raw.githubusercontent.com/paul-levy/SF_diversity/master/paul_plt_style.mplstyle');\n",
    "from matplotlib import rcParams\n",
    "rcParams['font.size'] = 20;\n",
    "rcParams['pdf.fonttype'] = 42 # should be 42, but there are kerning issues                                                                                                                                                                                                    \n",
    "rcParams['ps.fonttype'] = 42 # should be 42, but there are kerning issues                                                                                                                                                                                                     \n",
    "\n",
    "rcParams['lines.linewidth'] = 2.5;\n",
    "rcParams['lines.markeredgewidth'] = 0; # no edge, since weird tings happen then\n",
    "rcParams['axes.linewidth'] = 1.5;\n",
    "rcParams['lines.markersize'] = 5;\n",
    "\n",
    "rcParams['xtick.major.size'] = 15\n",
    "rcParams['xtick.minor.size'] = 8\n",
    "rcParams['ytick.major.size'] = 15\n",
    "rcParams['ytick.minor.size'] = 8\n",
    "\n",
    "rcParams['xtick.major.width'] = 5\n",
    "rcParams['xtick.minor.width'] = 2\n",
    "rcParams['ytick.major.width'] = 5\n",
    "rcParams['ytick.minor.width'] = 2\n",
    "\n",
    "rcParams['font.family'] = 'DejaVu Sans'\n",
    "rcParams['font.style'] = 'oblique';\n",
    "rcParams['font.size'] = 20;"
   ]
  },
  {
   "cell_type": "markdown",
   "metadata": {},
   "source": [
    "# 1.1 LGN"
   ]
  },
  {
   "cell_type": "markdown",
   "metadata": {},
   "source": [
    "### 1.1.01 - Scaled vs. separate Difference-of-Gaussians (DoG) \n",
    "\n",
    "The first key analysis in Sach's thesis is showing that spatial frequency tuning is contrast dependent. Using a $\\chi^2$ analysis, he shows that despite using extra parameters, a separate-per-contrast Difference-of-Gaussians (DoG) model outperforms a scaled DoG model. In the scaled model, the shapes and relative magnitudes of the gaussians are fixed, and the resultant curve can only be shifted vertically (i.e. changing response magnitude).\n",
    "\n",
    "As of 22.04.20, we will not replicate this analysis, taking it as a well-justified in the literature."
   ]
  },
  {
   "cell_type": "markdown",
   "metadata": {},
   "source": [
    "### 1.1.02 - Determining which DoG parameters matter most\n",
    "\n",
    "In section 3.3.4 (_Which DoG parameters can account for contrast-dependent tuning?_), Sach asks which of the DoG parameters are most needed to be adjustable across contrast. Using the more common approaches of the time (thesis defended in 2009), he used a $\\chi^2$ analysis which compared the loss of each model while taking into account the number of free parameters. Since computational resources and accessibility have greatly improved in the interim period, we'll instead use cross-validation to compare the different models.\n",
    "\n",
    "#### The models\n",
    "- $\\Delta$_volume ratio_ (2*$n_{con}$ + 2 free parameters) - center and surround radii are fixed\n",
    "- $\\Delta$_center radius_ (2*$n_{con}$ + 2 free parameters) - surround radius and relative surround gain are fixed\n",
    "    - Note that the surround radius is fixed in absolute terms\n",
    "- $\\Delta$_surround radius_ (2*$n_{con}$ + 2 free parameters) - center radius and relative surround gain are fixed\n",
    "- $\\Delta$_center-surround_ (3*$n_{con}$ + 1 free parameters) - relative surround gain is fixed\n",
    "\n",
    "And for thorough comparison, we also include the model with which most prior analysis was done\n",
    "\n",
    "- $\\Delta$_center radius + vol_ (3*$n_{con}$ + 1 free parameters) - relative surround radius is fixed\n",
    "    - This model differs from $\\Delta$_center radius_ in that the surround radius is fixed in relative terms to the center radius at contrast. Further, the relative Gaussian volumes are allowed to changed (since the relative surround gain term is free at each contrast)\n",
    "\n",
    "#### Cross-validation\n",
    "In cross-validation, we partition the data into training and test, optimizing the model jointly across all contrasts based only on the training data. We then evaluate the model on the heldout (i.e. test) portion of the data, and assess the loss function. If model X has better training performance than model Y but worse test performance, then we can say that model X is simply overfitting the data. For example, we know that a well-parameterized model with more free parameters will outperform one with fewer parameters; however, how those models perform on heldout data is a better measure of the model's explanatory capabilities.\n"
   ]
  },
  {
   "cell_type": "markdown",
   "metadata": {},
   "source": [
    "#### Model performance (all data)\n",
    "First, we'll compare the model performance when fitting to all of the data."
   ]
  },
  {
   "cell_type": "code",
   "execution_count": 1721,
   "metadata": {},
   "outputs": [],
   "source": [
    "# Specify which data to load\n",
    "expDir = 'LGN'\n",
    "# expDir = 'LGN/sach/'\n",
    "phAdj = 1;\n",
    "# phAdj = 0;\n",
    "\n",
    "isSach = 1 if 'sach' in expDir else 0;\n",
    "expDir_str = 'sach' if isSach else expDir\n",
    "if phAdj:\n",
    "    date = '220531' if isSach else '220531'\n",
    "#     date = '220513a' if isSach else '220512'\n",
    "else:\n",
    "    date = '220510' if isSach else '220519'\n",
    "#     date = '220510' if isSach else '220505'\n",
    "\n",
    "# joints = [2,3,4,5,6];\n",
    "# nFreeParams = [3,2,2,2,3]; # how many free params per condition?\n",
    "joints = [2,3,4,5,7,6]#,8];\n",
    "nFreeParams = [3,2,2,2,2,3]#,2]; # how many free params per condition?\n",
    "# joints = [2,7]#,8];\n",
    "# nFreeParams = [3,2]#,2]; # how many free params per condition?\n",
    "# names = ['ctr. r. + vol', 'ctr.r. slope, surrRad'];\n",
    "# names = ['ctr. r. + vol', 'vol. ratio', 'surr. r', 'ctr. r', 'ctr-surr'];\n",
    "if len(joints)>5:\n",
    "    names = ['ctr. r. + vol', 'vol. ratio', 'surr. r', 'ctr. r', 'ctr. r. slope, surrRad', 'ctr-surr'];\n",
    "#     names.append('ctr. r. slope, surrGain');    \n",
    "    \n",
    "isHPC = 1;\n",
    "loss_type = 2;\n",
    "dog_model = 1;\n",
    "if isSach:\n",
    "    dogName = 'descrFits%s_s%s' % ('HPC' if isHPC else '', date);\n",
    "else:\n",
    "    dogName = 'descrFits%s_%s' % ('HPC' if isHPC else '', date);\n",
    "# NOTE: Yes, the naming convention for surr/center radius models are reversed from the fit names\n",
    "# --- that's because here (and in Sach's thesis) we model the name by what does shift\n",
    "# --- in my naming convention, we name it after what does NOT shift with contrast\n",
    "nMods = len(joints);\n",
    "ref_ind = 0; # in the index of the joints that we'll use as the reference\n",
    "param_color = ['', '', 'r', 'k']; # what color based on # params per condition\n",
    "\n",
    "ref_mod = hf.np_smart_load('%s/structures/%s' % (expDir, hf.descrFit_name(loss_type, descrBase=dogName, modelName=hf.descrMod_name(dog_model), joint=joints[ref_ind], phAdj=phAdj)));\n",
    "nCells = len(ref_mod.keys());\n",
    "\n",
    "# Now, organize all of the loss values - raw and normalized by the reference models\n",
    "raw_ind = 0;\n",
    "norm_ind = 1;\n",
    "nlls_all = np.nan * np.zeros((nCells, nMods, 2)); # end is [raw_ind, norm_ind]\n",
    "\n",
    "for i,j in enumerate(joints):\n",
    "    curr_mod = hf.np_smart_load('%s/structures/%s' % (expDir, hf.descrFit_name(loss_type, descrBase=dogName, modelName=hf.descrMod_name(dog_model), joint=j, phAdj=phAdj)));\n",
    "    if curr_mod == []:\n",
    "        continue;\n",
    "    if isSach:\n",
    "        nlls_all[:, i, 0] = np.array([curr_mod[x]['totalNLL'] for x in range(nCells)]);\n",
    "    else:\n",
    "        nlls_all[:, i, 0] = np.array([curr_mod[x]['totalNLL'][0] for x in range(nCells)]);\n",
    "    \n",
    "# then normalize, too:\n",
    "nlls_all[:,:,1] = np.divide(nlls_all[:,:,0], np.repeat(np.transpose([nlls_all[:,ref_ind,0]]), nMods, axis=1))"
   ]
  },
  {
   "cell_type": "markdown",
   "metadata": {},
   "source": [
    "Now plot the distributions of losses across all cells (again, this is fitting to all data)"
   ]
  },
  {
   "cell_type": "code",
   "execution_count": 1722,
   "metadata": {},
   "outputs": [
    {
     "name": "stderr",
     "output_type": "stream",
     "text": [
      "/users/plevy/miniconda3/envs/pytorch-lcv/lib/python3.6/site-packages/seaborn/categorical.py:1296: UserWarning: 46.9% of the points cannot be placed; you may want to decrease the size of the markers or use stripplot.\n",
      "  warnings.warn(msg, UserWarning)\n"
     ]
    },
    {
     "data": {
      "image/png": "[encoded data removed]",
      "text/plain": [
       "<Figure size 720x720 with 1 Axes>"
      ]
     },
     "metadata": {
      "needs_background": "light"
     },
     "output_type": "display_data"
    }
   ],
   "source": [
    "use_norm = 1;\n",
    "upper_bound = 2 if use_norm else 1e2;\n",
    "\n",
    "f = plt.figure(figsize=(5*nMods, 10));\n",
    "\n",
    "# for ind in range(nMods):\n",
    "    \n",
    "#     sns.swarmplot(y=nlls_all[:,ind,use_norm], x=[ind]);\n",
    "#     viol = plt.violinplot(dataset=nlls_all[:,ind,use_norm], positions=[ind], showextrema=False, widths=0.7);\n",
    "\n",
    "#     # make all the violin stuff black and transparent\n",
    "#     for vp in viol['bodies']:\n",
    "#         vp.set_color(param_color[nFreeParams[ind]])\n",
    "#         vp.set_alpha(0.2);\n",
    "\n",
    "[plt.plot(i+0.15, np.nanmedian(nlls_all[:,i,use_norm]), '<', color=param_color[nFreeParams[i]], markersize=10) for i in range(nMods)]\n",
    "sns.swarmplot(x=np.tile(np.arange(nMods), nCells), y=hf.flatten_list(np.clip(nlls_all[:,:,use_norm], None, upper_bound)), hue=np.tile([param_color[nFreeParams[x]] for x in range(nMods)], nCells));\n",
    "sns.despine(offset=10)\n",
    "\n",
    "if use_norm:\n",
    "    plt.axhline(1, color='k', linestyle='--', alpha=0.3)\n",
    "\n",
    "plt.xlabel('model');\n",
    "plt.ylabel('Distribution of %sloss across cells' % '(norm.) ' if use_norm else '');\n",
    "plt.xticks(ticks=np.arange(nMods), labels=[r'$\\Delta$%s' % x for x in names], rotation=30);\n",
    "plt.title('Comparing loss across models (LGN, %s)' % date);\n",
    "\n",
    "f.tight_layout();\n",
    "\n",
    "saveName = \"/01_01_02a_loss_nonCV_%s%s.pdf\" % (date, '_norm' if use_norm else '');\n",
    "curr_dir = os.path.dirname(save_loc+saveName);\n",
    "if not os.path.exists(curr_dir):\n",
    "    os.makedirs(curr_dir);\n",
    "pdfSv = pltSave.PdfPages(save_loc + saveName);\n",
    "pdfSv.savefig(f); # only one figure here...\n",
    "pdfSv.close()"
   ]
  },
  {
   "cell_type": "markdown",
   "metadata": {},
   "source": [
    "##### Interlude/optional: Plot loss, by cell, for selected joint models, against separate fits\n",
    "\n",
    "Per T.M., 22.05.27"
   ]
  },
  {
   "cell_type": "code",
   "execution_count": 1710,
   "metadata": {},
   "outputs": [],
   "source": [
    "sep_fits = hf.np_smart_load('%s/structures/%s' % (expDir, hf.descrFit_name(loss_type, descrBase=dogName, modelName=hf.descrMod_name(dog_model), joint=0, phAdj=phAdj)));\n",
    "sep_nlls = np.array([np.nansum(sep_fits[x]['NLL'][0]) for x in range(len(sep_fits.keys()))]);\n",
    "\n",
    "which_joints = [2,7];\n",
    "# which_joints = [2,7,3];\n",
    "which_inds = [np.where(np.array(joints)==x)[0][0] for x in which_joints]\n"
   ]
  },
  {
   "cell_type": "code",
   "execution_count": 1713,
   "metadata": {
    "scrolled": false
   },
   "outputs": [
    {
     "data": {
      "image/png": "[encoded data removed]",
      "text/plain": [
       "<Figure size 5832x360 with 1 Axes>"
      ]
     },
     "metadata": {
      "needs_background": "light"
     },
     "output_type": "display_data"
    }
   ],
   "source": [
    "to_norm = 1; # normalize to sep. fit or no?\n",
    "\n",
    "# n_rows = np.floor(np.sqrt(nCells)).astype(int);\n",
    "# n_cols = np.ceil(nCells/n_rows).astype(int);\n",
    "\n",
    "# f, ax = plt.subplots(n_rows, n_cols, figsize=(5*n_cols, 5*n_rows));\n",
    "plt.figure(figsize=(1*nCells,5))\n",
    "\n",
    "mdn_rats = [np.nanmedian(np.divide(nlls_all[:,wi,0], sep_nlls)) for wi in which_inds]\n",
    "mn_rats = [np.nanmean(np.divide(nlls_all[:,wi,0], sep_nlls)) for wi in which_inds]\n",
    "\n",
    "for cl in range(nCells):\n",
    "    \n",
    "    joint_vals = [nlls_all[cl,x,0] for x in which_inds];\n",
    "    all_vals = (sep_nlls[cl], *joint_vals, )\n",
    "    \n",
    "    if to_norm:\n",
    "        all_vals = all_vals/all_vals[0];\n",
    "        \n",
    "    n_mods = len(all_vals)\n",
    "    steps = cl+1 + 0.25*np.linspace(-1,1,n_mods)\n",
    "    plt.scatter(steps, all_vals)\n",
    "\n",
    "plt.axhline(mdn_rats[0], color='k', linestyle='--', label='median ratio for separate xc (%.2f)' % mdn_rats[0], alpha=0.3)\n",
    "plt.axhline(mdn_rats[1], color='b', linestyle='--', label='median ratio for slope xc (%.2f)' % mdn_rats[1], alpha=0.3)\n",
    "# plt.axhline(mdn_rats[2], color='r', linestyle='--', label='median ratio for vol. ratio', alpha=0.3)\n",
    "plt.legend();\n",
    "\n",
    "plt.ylabel('%sLoss' % ('(norm.) ' if to_norm else ''));\n",
    "plt.xlabel('Cell');\n",
    "sns.despine(offset=5)\n",
    "    \n",
    "pdfSv = pltSave.PdfPages(save_loc + '220531_phAdv_normNLL_byMod_forTony.pdf');\n",
    "pdfSv.savefig(plt.gcf()); # only one figure here...\n",
    "pdfSv.close()\n"
   ]
  },
  {
   "cell_type": "markdown",
   "metadata": {},
   "source": [
    "Back to where we were"
   ]
  },
  {
   "cell_type": "code",
   "execution_count": 1454,
   "metadata": {},
   "outputs": [],
   "source": [
    "ref_mod = hf.np_smart_load('%s/structures/%s' % (expDir, hf.descrFit_name(loss_type, descrBase=dogName, modelName=hf.descrMod_name(dog_model), joint=2)));\n",
    "\n",
    "slp_mod = hf.np_smart_load('%s/structures/%s' % (expDir, hf.descrFit_name(loss_type, descrBase=dogName, modelName=hf.descrMod_name(dog_model), joint=7)));\n",
    "\n",
    "nuName = dogName.replace('19','20')\n",
    "slp_mod_nu = hf.np_smart_load('%s/structures/%s' % (expDir, hf.descrFit_name(loss_type, descrBase=nuName, modelName=hf.descrMod_name(dog_model), joint=7)));\n",
    "# poisson loss...\n",
    "slp_mod_poiss = hf.np_smart_load('%s/structures/%s' % (expDir, hf.descrFit_name(lossType=3, descrBase=nuName, modelName=hf.descrMod_name(dog_model), joint=7)));\n"
   ]
  },
  {
   "cell_type": "code",
   "execution_count": 1455,
   "metadata": {},
   "outputs": [],
   "source": [
    "def bin_offsets(nBins, width):\n",
    "    if np.mod(nBins,2) == 0: # i.e. even # of bins\n",
    "        return width*np.linspace(-0.5-(nBins/2-1), 0.5+(nBins/2-1), nBins)\n",
    "    else: # i.e. odd # of bins\n",
    "        return width*np.linspace(-np.floor(nBins/2), np.floor(nBins/2), nBins)"
   ]
  },
  {
   "cell_type": "code",
   "execution_count": 1566,
   "metadata": {},
   "outputs": [],
   "source": [
    "smn_loss = np.array([slp_mod_nu[x]['totalNLL'][0] for x in range(81)])\n",
    "\n",
    "restrName = dogName.replace('19','26')\n",
    "slp_mod_restr = hf.np_smart_load('%s/structures/%s' % (expDir, hf.descrFit_name(loss_type, descrBase=restrName, modelName=hf.descrMod_name(dog_model), joint=7)));\n",
    "\n",
    "smr_loss = np.array([slp_mod_restr[x]['totalNLL'][0] for x in range(81)])"
   ]
  },
  {
   "cell_type": "code",
   "execution_count": 1590,
   "metadata": {},
   "outputs": [],
   "source": [
    "slps_smr = np.array([-slp_mod_restr[x]['paramList'][0][1] for x in range(81)])"
   ]
  },
  {
   "cell_type": "code",
   "execution_count": null,
   "metadata": {},
   "outputs": [],
   "source": [
    "plt."
   ]
  },
  {
   "cell_type": "code",
   "execution_count": 1591,
   "metadata": {},
   "outputs": [
    {
     "data": {
      "text/plain": [
       "(array([ 1.,  3.,  9., 31., 29.,  7.,  0.,  0.]),\n",
       " array([-0.5  , -0.375, -0.25 , -0.125,  0.   ,  0.125,  0.25 ,  0.375,\n",
       "         0.5  ]),\n",
       " <BarContainer object of 8 artists>)"
      ]
     },
     "execution_count": 1591,
     "metadata": {},
     "output_type": "execute_result"
    },
    {
     "data": {
      "image/png": "[encoded data removed]",
      "text/plain": [
       "<Figure size 432x288 with 1 Axes>"
      ]
     },
     "metadata": {
      "needs_background": "light"
     },
     "output_type": "display_data"
    }
   ],
   "source": [
    "plt.hist(slps_smr, bins = np.linspace(-0.5, 0.5, 9))"
   ]
  },
  {
   "cell_type": "code",
   "execution_count": 1574,
   "metadata": {},
   "outputs": [
    {
     "data": {
      "image/png": "[encoded data removed]",
      "text/plain": [
       "<Figure size 432x288 with 1 Axes>"
      ]
     },
     "metadata": {
      "needs_background": "light"
     },
     "output_type": "display_data"
    }
   ],
   "source": [
    "plt.hist(np.divide(smr_loss, smn_loss),bins=np.linspace(0.9,1.3,9));"
   ]
  },
  {
   "cell_type": "code",
   "execution_count": 1579,
   "metadata": {},
   "outputs": [
    {
     "data": {
      "text/plain": [
       "[<matplotlib.lines.Line2D at 0x7fc307dd3e80>]"
      ]
     },
     "execution_count": 1579,
     "metadata": {},
     "output_type": "execute_result"
    },
    {
     "data": {
      "image/png": "[encoded data removed]",
      "text/plain": [
       "<Figure size 432x288 with 1 Axes>"
      ]
     },
     "metadata": {
      "needs_background": "light"
     },
     "output_type": "display_data"
    }
   ],
   "source": [
    "plt.scatter(smn_loss, smr_loss)\n",
    "plt.xscale('log');\n",
    "plt.yscale('log')\n",
    "plt.plot([5e0,2e2],[5e0,2e2],'k--', alpha=0.3)"
   ]
  },
  {
   "cell_type": "code",
   "execution_count": 1524,
   "metadata": {},
   "outputs": [
    {
     "data": {
      "image/png": "[encoded data removed]",
      "text/plain": [
       "<Figure size 720x360 with 1 Axes>"
      ]
     },
     "metadata": {
      "needs_background": "light"
     },
     "output_type": "display_data"
    }
   ],
   "source": [
    "slps = np.array([slp_mod[x]['paramList'][0][1] for x in range(81)])\n",
    "slps = -slps; # why invert? Because f_c and x_c are inversely proportional, and we normally get slopes for f_c\n",
    "\n",
    "slps_nu = np.array([slp_mod_nu[x]['paramList'][0][1] for x in range(81)])\n",
    "slps_nu = -slps_nu; # why invert? Because f_c and x_c are inversely proportional, and we normally get slopes for f_c\n",
    "\n",
    "slps_poiss = np.array([slp_mod_poiss[x]['paramList'][0][1] for x in range(81)])\n",
    "slps_poiss = -slps_poiss; # why invert? Because f_c and x_c are inversely proportional, and we normally get slopes for f_c\n",
    "\n",
    "slps_to_use = slps_nu;\n",
    "\n",
    "bins = np.linspace(-0.5, 0.5, 9);\n",
    "stepSize = (bins[-1] - bins[0])/(len(bins)-1);\n",
    "binPlotLocs = bins[1:] - 0.5*stepSize;\n",
    "clipLow, clipHigh = bins[1]-0.5*stepSize, bins[-2]+0.5*stepSize;\n",
    "\n",
    "cnt = 1; # we're not splitting these data\n",
    "\n",
    "tickVals = np.linspace(bins[1], bins[-2], len(bins)-2)\n",
    "\n",
    "to_comp = [];\n",
    "\n",
    "width = 0.8*stepSize/cnt;\n",
    "offset = bin_offsets(cnt, width)[0];\n",
    "no_effect = 0;\n",
    "\n",
    "# clipped = [np.clip(x, clipLow, clipHigh) for x in slps];\n",
    "clipped = slps_to_use;\n",
    "vals, _ = np.histogram(clipped, bins=bins)\n",
    "vals_norm = vals/np.sum(vals)\n",
    "\n",
    "# calculate\n",
    "# nSF = [len(x) for x in psfs_clipped]\n",
    "mdn = np.nanmedian(slps_to_use);\n",
    "mn = np.nanmean(slps_to_use);\n",
    "# gmnSF = [gmean(hf.nan_rm(x)) for x in psfs];\n",
    "\n",
    "plt.figure(figsize=(10,5))\n",
    "plt.plot(mdn, 1.2*np.max(vals_norm), 'v', color='k', markersize=15)\n",
    "\n",
    "pval_curr = ss.ttest_1samp(slps_to_use, no_effect) # check if the slopes are diff. from, e.g. 0\n",
    "\n",
    "plt.bar(binPlotLocs+offset, vals_norm, width=width, align='center', color='k',\n",
    "        label='%s [n=%d, md/mn=%.2f/%.2f; p=%.2e]' % ('oh', np.sum(vals), mdn, mn, pval_curr.pvalue), alpha=1);\n",
    "tickStrs = ['%.2f' % x for x in tickVals];\n",
    "#     tickStrs = ['%.2f' % np.power(2, x) for x in tickVals];\n",
    "tickStrs[0] = '<%s' % tickStrs[0];\n",
    "tickStrs[-1] = '>%s' % tickStrs[-1];\n",
    "plt.axvline(0, color='k', linestyle='--')\n",
    "plt.xticks(tickVals, tickStrs);\n",
    "plt.legend(fontsize='x-small');\n",
    "sns.despine(offset=10)\n"
   ]
  },
  {
   "cell_type": "code",
   "execution_count": 1505,
   "metadata": {},
   "outputs": [
    {
     "data": {
      "image/png": "[encoded data removed]",
      "text/plain": [
       "<Figure size 1080x360 with 1 Axes>"
      ]
     },
     "metadata": {
      "needs_background": "light"
     },
     "output_type": "display_data"
    }
   ],
   "source": [
    "gt0_count = 0;\n",
    "wgt0_count = 0;\n",
    "cnt_gt0 = [];\n",
    "\n",
    "plt.figure(figsize=(15,5))\n",
    "\n",
    "for cl in range(81):\n",
    "    nBoots = 100\n",
    "    slps_boot = np.array([-slp_mod_nu[cl]['boot_paramList'][x][0][1] for x in range(nBoots)]);\n",
    "    cnt_gt0.append(np.sum(slps_boot>0))\n",
    "    ci = [np.nanpercentile(slps_boot, 2.5), np.nanpercentile(slps_boot, 97.5)]\n",
    "    \n",
    "    viol = plt.violinplot(dataset=slps_boot, positions=[cl+1], showextrema=False, widths=0.7);\n",
    "\n",
    "    is_gt0 = ci[0] > 0; # is even the 95% lower bound above 0?\n",
    "    clr = 'red' if is_gt0 else 'black';\n",
    "    if not is_gt0:\n",
    "        if np.nanmedian(slps_boot)>0:\n",
    "            md_gt0 = True;\n",
    "#             clr = 'g'\n",
    "        else:\n",
    "            md_gt0 = False;\n",
    "    gt0_count += is_gt0\n",
    "    wgt0_count += np.logical_or(is_gt0, md_gt0)\n",
    "    for vp in viol['bodies']:\n",
    "        vp.set_color(clr)\n",
    "        vp.set_alpha(0.5);"
   ]
  },
  {
   "cell_type": "code",
   "execution_count": 1544,
   "metadata": {},
   "outputs": [
    {
     "data": {
      "text/plain": [
       "[<matplotlib.lines.Line2D at 0x7fc301b6f6d8>]"
      ]
     },
     "execution_count": 1544,
     "metadata": {},
     "output_type": "execute_result"
    },
    {
     "data": {
      "image/png": "[encoded data removed]",
      "text/plain": [
       "<Figure size 432x288 with 1 Axes>"
      ]
     },
     "metadata": {
      "needs_background": "light"
     },
     "output_type": "display_data"
    }
   ],
   "source": [
    "plt.plot(sorted(slp_mod_nu[14]['boot_params'][:,0,-1,1]))"
   ]
  },
  {
   "cell_type": "code",
   "execution_count": 1548,
   "metadata": {},
   "outputs": [],
   "source": [
    "surr_rats = np.array([slp_mod_nu[x]['params'][0][-1,-1] for x in range(81)])"
   ]
  },
  {
   "cell_type": "code",
   "execution_count": 1549,
   "metadata": {},
   "outputs": [
    {
     "data": {
      "text/plain": [
       "[<matplotlib.lines.Line2D at 0x7fc304c8b6a0>]"
      ]
     },
     "execution_count": 1549,
     "metadata": {},
     "output_type": "execute_result"
    },
    {
     "data": {
      "image/png": "[encoded data removed]",
      "text/plain": [
       "<Figure size 432x288 with 1 Axes>"
      ]
     },
     "metadata": {
      "needs_background": "light"
     },
     "output_type": "display_data"
    }
   ],
   "source": [
    "plt.plot(sorted(surr_rats));"
   ]
  },
  {
   "cell_type": "code",
   "execution_count": 1531,
   "metadata": {},
   "outputs": [
    {
     "data": {
      "image/png": "[encoded data removed]",
      "text/plain": [
       "<Figure size 432x288 with 1 Axes>"
      ]
     },
     "metadata": {
      "needs_background": "light"
     },
     "output_type": "display_data"
    }
   ],
   "source": [
    "cl = 76\n",
    "slps_boot = np.array([-slp_mod_nu[cl-1]['boot_paramList'][x][0][1] for x in range(nBoots)]);\n",
    "\n",
    "plt.plot(sorted(slps_boot))\n",
    "plt.axhline(0, color='k', linestyle='--')\n",
    "plt.title('Cell %02d --> median = %.3f, #gt0=%02d' % (cl, np.nanmedian(slps_boot), cnt_gt0[cl-1]))\n",
    "sns.despine(offset=10)"
   ]
  },
  {
   "cell_type": "code",
   "execution_count": 1439,
   "metadata": {},
   "outputs": [
    {
     "data": {
      "text/plain": [
       "(array([ 7.,  5.,  8.,  7.,  5.,  8.,  9.,  9.,  7., 16.]),\n",
       " array([  0.,  10.,  20.,  30.,  40.,  50.,  60.,  70.,  80.,  90., 100.]),\n",
       " <BarContainer object of 10 artists>)"
      ]
     },
     "execution_count": 1439,
     "metadata": {},
     "output_type": "execute_result"
    },
    {
     "data": {
      "image/png": "[encoded data removed]",
      "text/plain": [
       "<Figure size 432x288 with 1 Axes>"
      ]
     },
     "metadata": {
      "needs_background": "light"
     },
     "output_type": "display_data"
    }
   ],
   "source": [
    "plt.hist(cnt_gt0)"
   ]
  },
  {
   "cell_type": "code",
   "execution_count": 1461,
   "metadata": {},
   "outputs": [
    {
     "name": "stdout",
     "output_type": "stream",
     "text": [
      "Cell 12 -- xc with con\n",
      "f_c slope = 0.097 | 0.097 (nu) | 0.014 (poiss)\n",
      "***low con***\n",
      "\n",
      "0.192 -- 0.238 -- 0.238 -- 0.189\n",
      "0.236 -- 0.230 -- 0.230 -- 0.188\n",
      "0.229 -- 0.221 -- 0.221 -- 0.187\n",
      "0.214 -- 0.214 -- 0.213 -- 0.186\n",
      "0.203 -- 0.206 -- 0.206 -- 0.185\n",
      "0.197 -- 0.199 -- 0.199 -- 0.184\n",
      "nan -- nan -- nan -- nan\n",
      "0.211 -- 0.192 -- 0.191 -- 0.183\n",
      "nan -- nan -- nan -- nan\n",
      "0.174 -- 0.185 -- 0.185 -- 0.182\n",
      "nan -- nan -- nan -- nan\n",
      "0.173 -- 0.178 -- 0.178 -- 0.181\n",
      "\n",
      "***high con***\n"
     ]
    }
   ],
   "source": [
    "cl = 11\n",
    "rxc = ref_mod[cl]['params'][0,:,1]\n",
    "sxc = slp_mod[cl]['params'][0,:,1]\n",
    "sxc_nu = slp_mod_nu[cl]['params'][0,:,1]\n",
    "sxc_po = slp_mod_poiss[cl]['params'][0,:,1];\n",
    "\n",
    "print('Cell %02d -- xc with con' % (cl+1))\n",
    "print('f_c slope = %.3f | %.3f (nu) | %.3f (poiss)' % (slps[cl], slps_nu[cl], slps_poiss[cl]))\n",
    "print('***low con***\\n')\n",
    "[print('%.3f -- %.3f -- %.3f -- %.3f' % (x,y,z,w)) for x,y,z,w in zip(rxc, sxc, sxc_nu, sxc_po)]\n",
    "print('\\n***high con***')\n"
   ]
  },
  {
   "cell_type": "code",
   "execution_count": 1361,
   "metadata": {},
   "outputs": [
    {
     "data": {
      "text/plain": [
       "[<matplotlib.lines.Line2D at 0x7fc2fd929748>]"
      ]
     },
     "execution_count": 1361,
     "metadata": {},
     "output_type": "execute_result"
    },
    {
     "data": {
      "image/png": "[encoded data removed]",
      "text/plain": [
       "<Figure size 432x288 with 1 Axes>"
      ]
     },
     "metadata": {
      "needs_background": "light"
     },
     "output_type": "display_data"
    }
   ],
   "source": [
    "plt.plot(slps[ooo])"
   ]
  },
  {
   "cell_type": "code",
   "execution_count": 1351,
   "metadata": {},
   "outputs": [
    {
     "data": {
      "text/plain": [
       "array([-1.27904877e-01, -2.30106432e-02, -4.27949466e-02, -1.12646259e-01,\n",
       "       -3.69466506e-02, -1.04980096e-01, -7.02541601e-03, -2.98309643e-02,\n",
       "       -6.10673567e-04, -1.00323856e-01, -4.41162884e-02, -1.01072952e-01,\n",
       "       -5.65849505e-02, -1.53692707e-01, -1.71243086e-01, -1.28412038e-01,\n",
       "       -2.17865352e-02, -3.19540977e-01, -7.75213420e-01, -1.39885157e-01,\n",
       "       -1.67019129e-01, -2.69431412e-01, -1.17915407e-01, -5.39366268e-02,\n",
       "       -3.68034542e-02, -1.65916786e-01, -7.85414279e-02, -1.33475974e-01,\n",
       "       -8.81617069e-02, -2.81737477e-01, -1.76737234e-01, -1.72187269e-01,\n",
       "       -1.14046916e-01, -3.60945314e-01, -2.50216182e-02, -4.95113619e-02,\n",
       "       -8.57744273e-03, -4.58095819e-02, -1.69124994e-02], dtype=float32)"
      ]
     },
     "execution_count": 1351,
     "metadata": {},
     "output_type": "execute_result"
    }
   ],
   "source": [
    "slps[ooo]"
   ]
  },
  {
   "cell_type": "code",
   "execution_count": 1315,
   "metadata": {},
   "outputs": [
    {
     "data": {
      "text/plain": [
       "array([0.07923251, 0.07867881, 0.07812899, 0.07758301, 0.07704084,\n",
       "       0.07650246, 0.07596784, 0.07543696, 0.07490979, 0.0743863 ])"
      ]
     },
     "execution_count": 1315,
     "metadata": {},
     "output_type": "execute_result"
    }
   ],
   "source": [
    "hf.get_xc_from_slope(slp_mod[0]['paramList'][0][0], slp_mod[0]['paramList'][0][1], np.geomspace(0.05, 1, 10))"
   ]
  },
  {
   "cell_type": "code",
   "execution_count": 1311,
   "metadata": {},
   "outputs": [
    {
     "data": {
      "text/plain": [
       "-0.021068253"
      ]
     },
     "execution_count": 1311,
     "metadata": {},
     "output_type": "execute_result"
    }
   ],
   "source": [
    "slp_mod[0]['paramList'][0][1]"
   ]
  },
  {
   "cell_type": "code",
   "execution_count": 1307,
   "metadata": {},
   "outputs": [
    {
     "data": {
      "text/plain": [
       "array([0.07577714, 0.05656189, 0.07540366, 0.08172701, 0.06637932,\n",
       "       0.08405022,        nan, 0.07529292,        nan, 0.068873  ,\n",
       "              nan, 0.07411203], dtype=float32)"
      ]
     },
     "execution_count": 1307,
     "metadata": {},
     "output_type": "execute_result"
    }
   ],
   "source": [
    "ref_mod[0]['params'][0,:,1]"
   ]
  },
  {
   "cell_type": "code",
   "execution_count": 1308,
   "metadata": {},
   "outputs": [
    {
     "data": {
      "text/plain": [
       "array([0.07923251, 0.0786033 , 0.07798805, 0.07737675, 0.07676833,\n",
       "       0.07616874,        nan, 0.0755689 ,        nan, 0.07497469,\n",
       "              nan, 0.07438631], dtype=float32)"
      ]
     },
     "execution_count": 1308,
     "metadata": {},
     "output_type": "execute_result"
    }
   ],
   "source": [
    "slp_mod[0]['params'][0,:,1]"
   ]
  },
  {
   "cell_type": "code",
   "execution_count": 1304,
   "metadata": {},
   "outputs": [
    {
     "data": {
      "text/plain": [
       "array([[ 18.91334152,  20.15448952,  20.1104641 ,  18.91353989,\n",
       "         19.9374733 ,  18.78870583],\n",
       "       [  9.38549328,  10.56095314,  10.94600964,  11.11075974,\n",
       "         10.12720871,   9.20439625],\n",
       "       [  6.82949352,   7.6562891 ,   7.72590113,   7.62571287,\n",
       "          7.65413618,   7.19801617],\n",
       "       [ 10.61305523,  14.02886009,  13.82113743,  11.47661304,\n",
       "         12.07708359,  11.53504944],\n",
       "       [  8.43782139,   8.79623508,  10.03298378,   9.93947411,\n",
       "          8.74705505,   9.57156277],\n",
       "       [  8.22328663,   9.77304935,   9.22811794,   9.05360413,\n",
       "          9.68777275,   8.06601715],\n",
       "       [  6.83019114,   7.90656567,   7.73687267,   7.39413786,\n",
       "          7.7516551 ,   6.67886734],\n",
       "       [  8.02203751,   8.97694874,   8.57293034,   8.62434959,\n",
       "          8.83478928,   8.27922058],\n",
       "       [ 13.50419807,  14.27695179,  15.28047466,  14.50031662,\n",
       "         13.69399261,  14.20572853],\n",
       "       [ 20.29660606,  23.00917625,  22.51488304,  21.22006798,\n",
       "         22.82781219,  19.48495865],\n",
       "       [ 25.2993145 ,  27.08111954,  25.83271599,  25.29938126,\n",
       "         26.00408363,  24.70344925],\n",
       "       [ 21.7120018 ,  25.05500412,  24.14682388,  22.36869621,\n",
       "         22.91701126,  21.80178642],\n",
       "       [  7.12049341,   9.07345676,   9.01988029,   9.14096832,\n",
       "          8.47721958,   8.08076477],\n",
       "       [  6.43434763,   7.62188339,   6.98643589,   7.1773057 ,\n",
       "          7.6144762 ,   5.76153421],\n",
       "       [ 21.89992905,  23.33463669,  23.19878578,  26.13911057,\n",
       "         23.1921196 ,  20.22271156],\n",
       "       [  6.0566864 ,   7.25986052,   7.19009733,   6.73550653,\n",
       "          7.20936441,   5.75657749],\n",
       "       [ 22.3579483 ,  23.75124168,  23.71626854,  23.67647171,\n",
       "         23.72293472,  22.18299294],\n",
       "       [  6.76484489,   8.63882732,   7.71454525,   7.67325544,\n",
       "          8.63876629,   6.37030363],\n",
       "       [  5.96343327,   8.64332962,   9.75684452,   8.57570171,\n",
       "          7.56645346,   7.76408339],\n",
       "       [  5.72780991,  11.07728767,  13.36946678,   7.68725157,\n",
       "          7.659904  ,   6.02224588],\n",
       "       [  5.50904989,   6.66642523,   6.57971573,   8.02899647,\n",
       "          6.66555023,   6.69138575],\n",
       "       [ 11.18233776,  12.51007843,  12.33623123,  14.54220676,\n",
       "         11.93322659,  11.32742882],\n",
       "       [ 20.79873657,  24.14372063,  23.18554497,  22.9592247 ,\n",
       "         23.62621307,  18.01166534],\n",
       "       [  6.06324005,   7.4592452 ,   6.85686159,   7.53094912,\n",
       "          6.8754077 ,   6.68390989],\n",
       "       [ 13.33077717,  14.74863911,  17.1506691 ,  15.17183304,\n",
       "         14.28337097,  13.21261978],\n",
       "       [  3.20379925,   3.76095247,   3.64953804,   4.80268812,\n",
       "          3.69529724,   2.98416424],\n",
       "       [  5.65011215,   6.45289135,   6.4284811 ,   5.99035597,\n",
       "          6.38030624,   5.66595745],\n",
       "       [  9.07138252,   9.59737968,   9.5001049 ,   9.55036354,\n",
       "          9.24193192,   9.05511951],\n",
       "       [ 15.23664856,  17.82356644,  14.58870411,  19.02994919,\n",
       "         16.62958527,  14.74189663],\n",
       "       [  6.19709587,   8.39323711,   7.83547878,   8.00961971,\n",
       "          7.25306082,   6.76516342],\n",
       "       [ 11.78839874,  12.82848358,  13.38104153,  15.16255665,\n",
       "         12.51268959,  11.48326492],\n",
       "       [  6.82237577,  10.49301529,   8.83626461,   7.57453203,\n",
       "          7.5100255 ,   6.13768911],\n",
       "       [ 10.81263828,  11.76403809,  11.90045357,  11.18113613,\n",
       "         11.72292042,  11.02362537],\n",
       "       [ 11.29401779,  12.74924278,  14.84793568,  15.10003567,\n",
       "         12.74692631,  11.3456974 ],\n",
       "       [ 11.49480915,  12.51258469,  12.35142326,  12.41363335,\n",
       "         12.13914299,  11.44300747],\n",
       "       [ 13.83651447,  15.03559589,  14.82195568,  13.8664875 ,\n",
       "         14.40787888,  13.4759407 ],\n",
       "       [ 39.97258759,  42.00003052,  40.2037468 ,  40.30166626,\n",
       "         41.52181244,  39.59070587],\n",
       "       [  7.28143072,   7.70894337,   7.69724274,   7.83876467,\n",
       "          7.69431305,   7.4292469 ],\n",
       "       [  5.81841803,   6.71585226,   6.51701641,   6.357759  ,\n",
       "          6.43810797,   5.47877789],\n",
       "       [ 18.66557884,  19.58847809,  20.31037712,  18.66559982,\n",
       "         19.64432144,  18.50470734],\n",
       "       [ 33.14971924,  36.67435074,  38.11127853,  34.21614838,\n",
       "         35.86001587,  33.29153061],\n",
       "       [ 27.44257355,  36.85853577,  34.24476242,  27.71805   ,\n",
       "         28.35936546,  27.35556602],\n",
       "       [ 31.58726883,  33.73894119,  34.83069611,  31.58731079,\n",
       "         32.88551331,  31.06543541],\n",
       "       [ 13.8633709 ,  19.71928978,  20.45410347,  13.90931988,\n",
       "         19.28637123,  13.83926773],\n",
       "       [ 28.00206184,  32.67949677,  32.82454681,  28.75610733,\n",
       "         28.92734718,  28.15136719],\n",
       "       [  7.77660942,   9.01965809,   8.57036877,   8.61639023,\n",
       "          8.80541992,   7.97604322],\n",
       "       [ 12.58878994,  14.40078545,  15.3205471 ,  13.73344707,\n",
       "         14.23019695,  12.12108326],\n",
       "       [ 11.24961758,  13.11269093,  13.8725872 ,  11.70154285,\n",
       "         13.09571266,  11.14170742],\n",
       "       [  5.01745319,   6.4138155 ,   5.92458725,   5.85227633,\n",
       "          6.35700274,   5.03913975],\n",
       "       [  7.29668379,  11.36463547,  10.98753834,   7.78620338,\n",
       "          8.22096539,   7.3430953 ],\n",
       "       [ 15.66891479,  19.07220078,  19.76802826,  16.99958992,\n",
       "         18.49195099,  16.9251976 ],\n",
       "       [ 12.94403267,  16.4609642 ,  17.44336319,  15.04093933,\n",
       "         16.43167114,  14.21509361],\n",
       "       [ 15.19876194,  17.00736618,  18.09848595,  15.19128704,\n",
       "         15.94139099,  15.02095318],\n",
       "       [ 19.98217964,  20.8632431 ,  20.98111153,  19.98220444,\n",
       "         20.79407501,  19.90334129],\n",
       "       [  4.36679888,   5.57673931,   5.65409899,   5.15454769,\n",
       "          5.04359198,   4.33697081],\n",
       "       [ 13.07261848,  14.64609909,  14.09319878,  13.67848015,\n",
       "         22.18424225,  12.97372246],\n",
       "       [ 10.57141876,  13.92660904,  12.23830986,  11.1219902 ,\n",
       "         12.48970985,   8.93632793],\n",
       "       [ 10.49512005,  12.31702995,  14.01213837,  10.49512196,\n",
       "         11.33659172,  10.49525642],\n",
       "       [  9.9454937 ,  11.14235115,  11.82671547,  13.30912876,\n",
       "         10.99088478,  10.37603569],\n",
       "       [ 34.58201599,  44.14324951,  44.60128403,  34.59886169,\n",
       "         39.39452744,  34.53612137],\n",
       "       [  8.60034561,  11.20300484,  10.10477924,   9.47139835,\n",
       "         11.20229149,   8.84703255],\n",
       "       [ 32.20909882,  37.03911591,  36.58896255,  32.20910645,\n",
       "         36.76980972,  32.20912552],\n",
       "       [ 21.21989822,  24.66916656,  24.49918556,  21.96764183,\n",
       "         23.16986656,  20.94861794],\n",
       "       [ 26.17890167,  28.93400002,  29.21565437,  33.28170395,\n",
       "         28.71684837,  27.16032982],\n",
       "       [ 13.56890678,  18.0695076 ,  18.77415657,  17.35487175,\n",
       "         14.0281086 ,  14.17474651],\n",
       "       [ 11.3590889 ,  22.39247513,  13.28826618,  14.86269855,\n",
       "         15.24490929,   9.41307163],\n",
       "       [  9.08480453,  15.15683365,  10.15797615,   9.89041519,\n",
       "          9.88852787,   9.05047131],\n",
       "       [ 28.20198822,  34.78859329,  34.0523262 ,  33.1427002 ,\n",
       "         34.39827347,  28.88380051],\n",
       "       [ 36.63603973,  37.85762405,  36.79137039,  37.7503624 ,\n",
       "         37.71055603,  35.79347229],\n",
       "       [ 63.57460022,  67.59416199,  67.40786743,  65.70571899,\n",
       "         63.92115784,  64.57815552],\n",
       "       [ 27.73691368,  29.51722336,  29.66677666,  31.12630081,\n",
       "         29.47195053,  27.81842613],\n",
       "       [204.62658691, 209.52487183, 209.89331055, 210.13710022,\n",
       "        209.08383179, 204.48225403],\n",
       "       [ 50.65800858,  52.60335922,  51.84482193,  52.36966324,\n",
       "         52.59761047,  50.07566452],\n",
       "       [214.47503662, 228.5309906 , 228.36515808, 214.4733429 ,\n",
       "        217.22872925, 214.47085571],\n",
       "       [ 22.39572525,  24.74436951,  24.02087975,  22.70192719,\n",
       "         23.04979134,  22.23574066],\n",
       "       [ 24.38685799,  27.72307014,  28.50971794,  27.5273838 ,\n",
       "         26.13602448,  24.65796852],\n",
       "       [ 14.6398077 ,  18.55523872,  17.22307396,  15.97002411,\n",
       "         16.3416214 ,  13.89830971],\n",
       "       [ 19.95919609,  21.52133751,  21.22807693,  20.10971642,\n",
       "         21.52078819,  19.99416733],\n",
       "       [ 14.62215328,  22.33844948,  19.4018631 ,  19.04022598,\n",
       "         18.395298  ,  14.59818745],\n",
       "       [ 23.86282921,  27.58870125,  28.47240067,  25.52436066,\n",
       "         27.4020977 ,  24.42443085],\n",
       "       [ 41.1801796 ,  48.15280151,  47.30303192,  45.60487747,\n",
       "         45.97877121,  40.4017601 ]])"
      ]
     },
     "execution_count": 1304,
     "metadata": {},
     "output_type": "execute_result"
    }
   ],
   "source": [
    "nlls_all[:,:,0]"
   ]
  },
  {
   "cell_type": "markdown",
   "metadata": {},
   "source": [
    "#### Cross-validation by trial, train fraction = 0.8\n",
    "\n",
    "As a first attempt, we keep 80% of the data for training and holdout the remaining for testing. We'll first show the training performance and then show loss on test performance."
   ]
  },
  {
   "cell_type": "code",
   "execution_count": 375,
   "metadata": {},
   "outputs": [
    {
     "name": "stderr",
     "output_type": "stream",
     "text": [
      "/users/plevy/miniconda3/envs/pytorch-lcv/lib/python3.6/site-packages/ipykernel_launcher.py:50: RuntimeWarning: invalid value encountered in true_divide\n",
      "/users/plevy/miniconda3/envs/pytorch-lcv/lib/python3.6/site-packages/ipykernel_launcher.py:53: RuntimeWarning: All-NaN slice encountered\n"
     ]
    }
   ],
   "source": [
    "# Specify which data to load\n",
    "date = '220504'\n",
    "isHPC = 1;\n",
    "expDir = 'LGN'\n",
    "loss_type = 1;\n",
    "dog_model = 1;\n",
    "has_tr_subset = True;\n",
    "dogName = 'descrFits%s_%s' % ('HPC' if isHPC else '', date);\n",
    "\n",
    "joints = [3,4,5];\n",
    "# joints = [2,3,4,5,6];\n",
    "# NOTE: Yes, the naming convention for surr/center radius models are reversed from the fit names\n",
    "# --- that's because here (and in Sach's thesis) we model the name by what does shift\n",
    "# --- in my naming convention, we name it after what does NOT shift with contrast\n",
    "names = ['vol. ratio', 'surr. r', 'ctr. r'];\n",
    "# names = ['ctr. r. + vol', 'vol. ratio', 'surr. r', 'ctr. r', 'ctr-surr'];\n",
    "nMods = len(joints);\n",
    "ref_ind = 0; # in the index of the joints that we'll use as the reference\n",
    "nFreeParams = [2,2,2]; # how many free params per condition?\n",
    "# nFreeParams = [3,2,2,2,3]; # how many free params per condition?\n",
    "param_color = ['', '', 'r', 'k']; # what color based on # params per condition\n",
    "\n",
    "ref_mod = hf.np_smart_load('%s/structures/%s' % (expDir, hf.descrFit_name(loss_type, descrBase=dogName, modelName=hf.descrMod_name(dog_model), joint=joints[ref_ind])));\n",
    "nCells = len(ref_mod.keys());\n",
    "nBoots = ref_mod[0]['boot_paramList'].shape[0];\n",
    "\n",
    "# Now, organize all of the loss values - raw and normalized by the reference models\n",
    "raw_ind = 0;\n",
    "norm_ind = 1;\n",
    "nlls_train_all = np.nan * np.zeros((nCells, nBoots, nMods, 2)); # end is [raw_ind, norm_ind]\n",
    "nlls_train_subset_all = np.nan * np.zeros((nCells, nBoots, nMods, 2)); # end is [raw_ind, norm_ind]\n",
    "nlls_test_all = np.copy(nlls_train_all)\n",
    "\n",
    "for i,j in enumerate(joints):\n",
    "    curr_mod = hf.np_smart_load('%s/structures/%s' % (expDir, hf.descrFit_name(loss_type, descrBase=dogName, modelName=hf.descrMod_name(dog_model), joint=j)));\n",
    "#     nlls_train_all[:, :, i, 0] = [np.nansum(curr_mod[x]['boot_NLL_cv_train'][0][:,0,:], axis=1) for x in range(nCells)];\n",
    "#     nlls_test_all[:, :, i, 0] = [np.nansum(curr_mod[x]['boot_NLL_cv_test'][0][:,0,:], axis=1) for x in range(nCells)];\n",
    "#     if has_tr_subset:\n",
    "#         nlls_train_subset_all[:, :, i, 0] = [np.nansum(curr_mod[x]['boot_NLL_cv_train_subset'][0][:,0,:], axis=1) for x in range(nCells)];\n",
    "    for c in range(nCells):\n",
    "        if 'boot_NLL_cv_train' in curr_mod[c]:\n",
    "            nlls_train_all[c, :, i, 0] = np.nansum(curr_mod[c]['boot_NLL_cv_train'][0][:,0,:], axis=1);\n",
    "        if 'boot_NLL_cv_test' in curr_mod[c]:\n",
    "            nlls_test_all[c, :, i, 0] = np.nansum(curr_mod[c]['boot_NLL_cv_test'][0][:,0,:], axis=1)\n",
    "        if has_tr_subset and 'boot_NLL_cv_train_subset' in curr_mod[c]:\n",
    "            nlls_train_subset_all[c, :, i, 0] = np.nansum(curr_mod[c]['boot_NLL_cv_train_subset'][0][:,0,:], axis=1)\n",
    "\n",
    "\n",
    "# then, normalize, too:\n",
    "nlls_train_all[:,:,:,1] = np.divide(nlls_train_all[:,:,:,0], np.expand_dims(np.nanmin(nlls_train_all[:,:,ref_ind,0], axis=1), axis=(1,2)))\n",
    "nlls_test_all[:,:,:,1] = np.divide(nlls_test_all[:,:,:,0], np.expand_dims(np.nanmin(nlls_test_all[:,:,ref_ind,0], axis=1), axis=(1,2)))\n",
    "if has_tr_subset:\n",
    "    nlls_train_subset_all[:,:,:,1] = np.divide(nlls_train_subset_all[:,:,:,0], np.expand_dims(np.nanmin(nlls_train_subset_all[:,:,ref_ind,0], axis=1), axis=(1,2)))\n"
   ]
  },
  {
   "cell_type": "code",
   "execution_count": 376,
   "metadata": {},
   "outputs": [
    {
     "name": "stderr",
     "output_type": "stream",
     "text": [
      "/users/plevy/miniconda3/envs/pytorch-lcv/lib/python3.6/site-packages/ipykernel_launcher.py:23: RuntimeWarning: Mean of empty slice\n",
      "/users/plevy/miniconda3/envs/pytorch-lcv/lib/python3.6/site-packages/ipykernel_launcher.py:23: RuntimeWarning: Mean of empty slice\n",
      "/users/plevy/miniconda3/envs/pytorch-lcv/lib/python3.6/site-packages/ipykernel_launcher.py:23: RuntimeWarning: Mean of empty slice\n",
      "/users/plevy/miniconda3/envs/pytorch-lcv/lib/python3.6/site-packages/ipykernel_launcher.py:23: RuntimeWarning: Mean of empty slice\n",
      "/users/plevy/miniconda3/envs/pytorch-lcv/lib/python3.6/site-packages/ipykernel_launcher.py:23: RuntimeWarning: Mean of empty slice\n",
      "/users/plevy/miniconda3/envs/pytorch-lcv/lib/python3.6/site-packages/ipykernel_launcher.py:23: RuntimeWarning: Mean of empty slice\n",
      "/users/plevy/miniconda3/envs/pytorch-lcv/lib/python3.6/site-packages/ipykernel_launcher.py:23: RuntimeWarning: Mean of empty slice\n",
      "/users/plevy/miniconda3/envs/pytorch-lcv/lib/python3.6/site-packages/ipykernel_launcher.py:23: RuntimeWarning: Mean of empty slice\n",
      "/users/plevy/miniconda3/envs/pytorch-lcv/lib/python3.6/site-packages/ipykernel_launcher.py:23: RuntimeWarning: Mean of empty slice\n",
      "/users/plevy/miniconda3/envs/pytorch-lcv/lib/python3.6/site-packages/ipykernel_launcher.py:23: RuntimeWarning: Mean of empty slice\n",
      "/users/plevy/miniconda3/envs/pytorch-lcv/lib/python3.6/site-packages/ipykernel_launcher.py:23: RuntimeWarning: Mean of empty slice\n",
      "/users/plevy/miniconda3/envs/pytorch-lcv/lib/python3.6/site-packages/ipykernel_launcher.py:23: RuntimeWarning: Mean of empty slice\n",
      "/users/plevy/miniconda3/envs/pytorch-lcv/lib/python3.6/site-packages/ipykernel_launcher.py:23: RuntimeWarning: Mean of empty slice\n",
      "/users/plevy/miniconda3/envs/pytorch-lcv/lib/python3.6/site-packages/ipykernel_launcher.py:23: RuntimeWarning: Mean of empty slice\n",
      "/users/plevy/miniconda3/envs/pytorch-lcv/lib/python3.6/site-packages/ipykernel_launcher.py:23: RuntimeWarning: Mean of empty slice\n",
      "/users/plevy/miniconda3/envs/pytorch-lcv/lib/python3.6/site-packages/ipykernel_launcher.py:23: RuntimeWarning: Mean of empty slice\n",
      "/users/plevy/miniconda3/envs/pytorch-lcv/lib/python3.6/site-packages/ipykernel_launcher.py:23: RuntimeWarning: Mean of empty slice\n",
      "/users/plevy/miniconda3/envs/pytorch-lcv/lib/python3.6/site-packages/ipykernel_launcher.py:23: RuntimeWarning: Mean of empty slice\n",
      "/users/plevy/miniconda3/envs/pytorch-lcv/lib/python3.6/site-packages/ipykernel_launcher.py:23: RuntimeWarning: Mean of empty slice\n",
      "/users/plevy/miniconda3/envs/pytorch-lcv/lib/python3.6/site-packages/ipykernel_launcher.py:23: RuntimeWarning: Mean of empty slice\n",
      "/users/plevy/miniconda3/envs/pytorch-lcv/lib/python3.6/site-packages/ipykernel_launcher.py:11: RuntimeWarning: More than 20 figures have been opened. Figures created through the pyplot interface (`matplotlib.pyplot.figure`) are retained until explicitly closed and may consume too much memory. (To control this warning, see the rcParam `figure.max_open_warning`).\n",
      "  # This is added back by InteractiveShellApp.init_path()\n",
      "/users/plevy/miniconda3/envs/pytorch-lcv/lib/python3.6/site-packages/ipykernel_launcher.py:23: RuntimeWarning: Mean of empty slice\n",
      "/users/plevy/miniconda3/envs/pytorch-lcv/lib/python3.6/site-packages/ipykernel_launcher.py:23: RuntimeWarning: Mean of empty slice\n",
      "/users/plevy/miniconda3/envs/pytorch-lcv/lib/python3.6/site-packages/ipykernel_launcher.py:23: RuntimeWarning: Mean of empty slice\n",
      "/users/plevy/miniconda3/envs/pytorch-lcv/lib/python3.6/site-packages/ipykernel_launcher.py:23: RuntimeWarning: Mean of empty slice\n",
      "/users/plevy/miniconda3/envs/pytorch-lcv/lib/python3.6/site-packages/ipykernel_launcher.py:23: RuntimeWarning: Mean of empty slice\n",
      "/users/plevy/miniconda3/envs/pytorch-lcv/lib/python3.6/site-packages/ipykernel_launcher.py:23: RuntimeWarning: Mean of empty slice\n",
      "/users/plevy/miniconda3/envs/pytorch-lcv/lib/python3.6/site-packages/ipykernel_launcher.py:23: RuntimeWarning: Mean of empty slice\n",
      "/users/plevy/miniconda3/envs/pytorch-lcv/lib/python3.6/site-packages/ipykernel_launcher.py:23: RuntimeWarning: Mean of empty slice\n",
      "/users/plevy/miniconda3/envs/pytorch-lcv/lib/python3.6/site-packages/ipykernel_launcher.py:23: RuntimeWarning: Mean of empty slice\n",
      "/users/plevy/miniconda3/envs/pytorch-lcv/lib/python3.6/site-packages/ipykernel_launcher.py:23: RuntimeWarning: Mean of empty slice\n",
      "/users/plevy/miniconda3/envs/pytorch-lcv/lib/python3.6/site-packages/ipykernel_launcher.py:23: RuntimeWarning: Mean of empty slice\n",
      "/users/plevy/miniconda3/envs/pytorch-lcv/lib/python3.6/site-packages/ipykernel_launcher.py:23: RuntimeWarning: Mean of empty slice\n",
      "/users/plevy/miniconda3/envs/pytorch-lcv/lib/python3.6/site-packages/ipykernel_launcher.py:23: RuntimeWarning: Mean of empty slice\n",
      "/users/plevy/miniconda3/envs/pytorch-lcv/lib/python3.6/site-packages/ipykernel_launcher.py:23: RuntimeWarning: Mean of empty slice\n",
      "/users/plevy/miniconda3/envs/pytorch-lcv/lib/python3.6/site-packages/ipykernel_launcher.py:23: RuntimeWarning: Mean of empty slice\n",
      "/users/plevy/miniconda3/envs/pytorch-lcv/lib/python3.6/site-packages/ipykernel_launcher.py:23: RuntimeWarning: Mean of empty slice\n",
      "/users/plevy/miniconda3/envs/pytorch-lcv/lib/python3.6/site-packages/ipykernel_launcher.py:23: RuntimeWarning: Mean of empty slice\n",
      "/users/plevy/miniconda3/envs/pytorch-lcv/lib/python3.6/site-packages/ipykernel_launcher.py:23: RuntimeWarning: Mean of empty slice\n",
      "/users/plevy/miniconda3/envs/pytorch-lcv/lib/python3.6/site-packages/ipykernel_launcher.py:23: RuntimeWarning: Mean of empty slice\n",
      "/users/plevy/miniconda3/envs/pytorch-lcv/lib/python3.6/site-packages/ipykernel_launcher.py:23: RuntimeWarning: Mean of empty slice\n",
      "/users/plevy/miniconda3/envs/pytorch-lcv/lib/python3.6/site-packages/ipykernel_launcher.py:23: RuntimeWarning: Mean of empty slice\n",
      "/users/plevy/miniconda3/envs/pytorch-lcv/lib/python3.6/site-packages/ipykernel_launcher.py:23: RuntimeWarning: Mean of empty slice\n",
      "/users/plevy/miniconda3/envs/pytorch-lcv/lib/python3.6/site-packages/ipykernel_launcher.py:23: RuntimeWarning: Mean of empty slice\n",
      "/users/plevy/miniconda3/envs/pytorch-lcv/lib/python3.6/site-packages/ipykernel_launcher.py:23: RuntimeWarning: Mean of empty slice\n",
      "/users/plevy/miniconda3/envs/pytorch-lcv/lib/python3.6/site-packages/ipykernel_launcher.py:23: RuntimeWarning: Mean of empty slice\n",
      "/users/plevy/miniconda3/envs/pytorch-lcv/lib/python3.6/site-packages/ipykernel_launcher.py:23: RuntimeWarning: Mean of empty slice\n",
      "/users/plevy/miniconda3/envs/pytorch-lcv/lib/python3.6/site-packages/ipykernel_launcher.py:23: RuntimeWarning: Mean of empty slice\n",
      "/users/plevy/miniconda3/envs/pytorch-lcv/lib/python3.6/site-packages/ipykernel_launcher.py:23: RuntimeWarning: Mean of empty slice\n",
      "/users/plevy/miniconda3/envs/pytorch-lcv/lib/python3.6/site-packages/ipykernel_launcher.py:23: RuntimeWarning: Mean of empty slice\n",
      "/users/plevy/miniconda3/envs/pytorch-lcv/lib/python3.6/site-packages/ipykernel_launcher.py:23: RuntimeWarning: Mean of empty slice\n",
      "/users/plevy/miniconda3/envs/pytorch-lcv/lib/python3.6/site-packages/ipykernel_launcher.py:23: RuntimeWarning: Mean of empty slice\n",
      "/users/plevy/miniconda3/envs/pytorch-lcv/lib/python3.6/site-packages/ipykernel_launcher.py:23: RuntimeWarning: Mean of empty slice\n",
      "/users/plevy/miniconda3/envs/pytorch-lcv/lib/python3.6/site-packages/ipykernel_launcher.py:23: RuntimeWarning: Mean of empty slice\n",
      "/users/plevy/miniconda3/envs/pytorch-lcv/lib/python3.6/site-packages/ipykernel_launcher.py:23: RuntimeWarning: Mean of empty slice\n",
      "/users/plevy/miniconda3/envs/pytorch-lcv/lib/python3.6/site-packages/ipykernel_launcher.py:23: RuntimeWarning: Mean of empty slice\n",
      "/users/plevy/miniconda3/envs/pytorch-lcv/lib/python3.6/site-packages/ipykernel_launcher.py:23: RuntimeWarning: Mean of empty slice\n",
      "/users/plevy/miniconda3/envs/pytorch-lcv/lib/python3.6/site-packages/ipykernel_launcher.py:23: RuntimeWarning: Mean of empty slice\n",
      "/users/plevy/miniconda3/envs/pytorch-lcv/lib/python3.6/site-packages/ipykernel_launcher.py:23: RuntimeWarning: Mean of empty slice\n",
      "/users/plevy/miniconda3/envs/pytorch-lcv/lib/python3.6/site-packages/ipykernel_launcher.py:23: RuntimeWarning: Mean of empty slice\n",
      "/users/plevy/miniconda3/envs/pytorch-lcv/lib/python3.6/site-packages/ipykernel_launcher.py:23: RuntimeWarning: Mean of empty slice\n"
     ]
    },
    {
     "name": "stderr",
     "output_type": "stream",
     "text": [
      "/users/plevy/miniconda3/envs/pytorch-lcv/lib/python3.6/site-packages/ipykernel_launcher.py:23: RuntimeWarning: Mean of empty slice\n",
      "/users/plevy/miniconda3/envs/pytorch-lcv/lib/python3.6/site-packages/ipykernel_launcher.py:23: RuntimeWarning: Mean of empty slice\n",
      "/users/plevy/miniconda3/envs/pytorch-lcv/lib/python3.6/site-packages/ipykernel_launcher.py:23: RuntimeWarning: Mean of empty slice\n",
      "/users/plevy/miniconda3/envs/pytorch-lcv/lib/python3.6/site-packages/ipykernel_launcher.py:23: RuntimeWarning: Mean of empty slice\n",
      "/users/plevy/miniconda3/envs/pytorch-lcv/lib/python3.6/site-packages/ipykernel_launcher.py:23: RuntimeWarning: Mean of empty slice\n",
      "/users/plevy/miniconda3/envs/pytorch-lcv/lib/python3.6/site-packages/ipykernel_launcher.py:23: RuntimeWarning: Mean of empty slice\n",
      "/users/plevy/miniconda3/envs/pytorch-lcv/lib/python3.6/site-packages/ipykernel_launcher.py:23: RuntimeWarning: Mean of empty slice\n",
      "/users/plevy/miniconda3/envs/pytorch-lcv/lib/python3.6/site-packages/ipykernel_launcher.py:23: RuntimeWarning: Mean of empty slice\n",
      "/users/plevy/miniconda3/envs/pytorch-lcv/lib/python3.6/site-packages/ipykernel_launcher.py:23: RuntimeWarning: Mean of empty slice\n",
      "/users/plevy/miniconda3/envs/pytorch-lcv/lib/python3.6/site-packages/ipykernel_launcher.py:23: RuntimeWarning: Mean of empty slice\n",
      "/users/plevy/miniconda3/envs/pytorch-lcv/lib/python3.6/site-packages/ipykernel_launcher.py:23: RuntimeWarning: Mean of empty slice\n",
      "/users/plevy/miniconda3/envs/pytorch-lcv/lib/python3.6/site-packages/seaborn/categorical.py:1296: UserWarning: 50.0% of the points cannot be placed; you may want to decrease the size of the markers or use stripplot.\n",
      "  warnings.warn(msg, UserWarning)\n",
      "/users/plevy/miniconda3/envs/pytorch-lcv/lib/python3.6/site-packages/ipykernel_launcher.py:23: RuntimeWarning: Mean of empty slice\n",
      "/users/plevy/miniconda3/envs/pytorch-lcv/lib/python3.6/site-packages/seaborn/categorical.py:1296: UserWarning: 50.0% of the points cannot be placed; you may want to decrease the size of the markers or use stripplot.\n",
      "  warnings.warn(msg, UserWarning)\n",
      "/users/plevy/miniconda3/envs/pytorch-lcv/lib/python3.6/site-packages/ipykernel_launcher.py:23: RuntimeWarning: Mean of empty slice\n",
      "/users/plevy/miniconda3/envs/pytorch-lcv/lib/python3.6/site-packages/ipykernel_launcher.py:23: RuntimeWarning: Mean of empty slice\n",
      "/users/plevy/miniconda3/envs/pytorch-lcv/lib/python3.6/site-packages/ipykernel_launcher.py:23: RuntimeWarning: Mean of empty slice\n",
      "/users/plevy/miniconda3/envs/pytorch-lcv/lib/python3.6/site-packages/ipykernel_launcher.py:23: RuntimeWarning: Mean of empty slice\n",
      "/users/plevy/miniconda3/envs/pytorch-lcv/lib/python3.6/site-packages/ipykernel_launcher.py:23: RuntimeWarning: Mean of empty slice\n",
      "/users/plevy/miniconda3/envs/pytorch-lcv/lib/python3.6/site-packages/ipykernel_launcher.py:23: RuntimeWarning: Mean of empty slice\n",
      "/users/plevy/miniconda3/envs/pytorch-lcv/lib/python3.6/site-packages/ipykernel_launcher.py:23: RuntimeWarning: Mean of empty slice\n",
      "/users/plevy/miniconda3/envs/pytorch-lcv/lib/python3.6/site-packages/ipykernel_launcher.py:23: RuntimeWarning: Mean of empty slice\n",
      "/users/plevy/miniconda3/envs/pytorch-lcv/lib/python3.6/site-packages/seaborn/categorical.py:1296: UserWarning: 50.0% of the points cannot be placed; you may want to decrease the size of the markers or use stripplot.\n",
      "  warnings.warn(msg, UserWarning)\n",
      "/users/plevy/miniconda3/envs/pytorch-lcv/lib/python3.6/site-packages/ipykernel_launcher.py:23: RuntimeWarning: Mean of empty slice\n",
      "/users/plevy/miniconda3/envs/pytorch-lcv/lib/python3.6/site-packages/seaborn/categorical.py:1296: UserWarning: 50.0% of the points cannot be placed; you may want to decrease the size of the markers or use stripplot.\n",
      "  warnings.warn(msg, UserWarning)\n"
     ]
    },
    {
     "data": {
      "text/plain": [
       "<Figure size 2160x720 with 0 Axes>"
      ]
     },
     "metadata": {},
     "output_type": "display_data"
    },
    {
     "data": {
      "text/plain": [
       "<Figure size 2160x720 with 0 Axes>"
      ]
     },
     "metadata": {},
     "output_type": "display_data"
    },
    {
     "data": {
      "text/plain": [
       "<Figure size 2160x720 with 0 Axes>"
      ]
     },
     "metadata": {},
     "output_type": "display_data"
    },
    {
     "data": {
      "text/plain": [
       "<Figure size 2160x720 with 0 Axes>"
      ]
     },
     "metadata": {},
     "output_type": "display_data"
    },
    {
     "data": {
      "text/plain": [
       "<Figure size 2160x720 with 0 Axes>"
      ]
     },
     "metadata": {},
     "output_type": "display_data"
    },
    {
     "data": {
      "text/plain": [
       "<Figure size 2160x720 with 0 Axes>"
      ]
     },
     "metadata": {},
     "output_type": "display_data"
    },
    {
     "data": {
      "text/plain": [
       "<Figure size 2160x720 with 0 Axes>"
      ]
     },
     "metadata": {},
     "output_type": "display_data"
    },
    {
     "data": {
      "text/plain": [
       "<Figure size 2160x720 with 0 Axes>"
      ]
     },
     "metadata": {},
     "output_type": "display_data"
    },
    {
     "data": {
      "text/plain": [
       "<Figure size 2160x720 with 0 Axes>"
      ]
     },
     "metadata": {},
     "output_type": "display_data"
    },
    {
     "data": {
      "text/plain": [
       "<Figure size 2160x720 with 0 Axes>"
      ]
     },
     "metadata": {},
     "output_type": "display_data"
    },
    {
     "data": {
      "text/plain": [
       "<Figure size 2160x720 with 0 Axes>"
      ]
     },
     "metadata": {},
     "output_type": "display_data"
    },
    {
     "data": {
      "text/plain": [
       "<Figure size 2160x720 with 0 Axes>"
      ]
     },
     "metadata": {},
     "output_type": "display_data"
    },
    {
     "data": {
      "text/plain": [
       "<Figure size 2160x720 with 0 Axes>"
      ]
     },
     "metadata": {},
     "output_type": "display_data"
    },
    {
     "data": {
      "text/plain": [
       "<Figure size 2160x720 with 0 Axes>"
      ]
     },
     "metadata": {},
     "output_type": "display_data"
    },
    {
     "data": {
      "text/plain": [
       "<Figure size 2160x720 with 0 Axes>"
      ]
     },
     "metadata": {},
     "output_type": "display_data"
    },
    {
     "data": {
      "text/plain": [
       "<Figure size 2160x720 with 0 Axes>"
      ]
     },
     "metadata": {},
     "output_type": "display_data"
    },
    {
     "data": {
      "text/plain": [
       "<Figure size 2160x720 with 0 Axes>"
      ]
     },
     "metadata": {},
     "output_type": "display_data"
    },
    {
     "data": {
      "text/plain": [
       "<Figure size 2160x720 with 0 Axes>"
      ]
     },
     "metadata": {},
     "output_type": "display_data"
    },
    {
     "data": {
      "text/plain": [
       "<Figure size 2160x720 with 0 Axes>"
      ]
     },
     "metadata": {},
     "output_type": "display_data"
    },
    {
     "data": {
      "text/plain": [
       "<Figure size 2160x720 with 0 Axes>"
      ]
     },
     "metadata": {},
     "output_type": "display_data"
    },
    {
     "data": {
      "text/plain": [
       "<Figure size 2160x720 with 0 Axes>"
      ]
     },
     "metadata": {},
     "output_type": "display_data"
    },
    {
     "data": {
      "text/plain": [
       "<Figure size 2160x720 with 0 Axes>"
      ]
     },
     "metadata": {},
     "output_type": "display_data"
    },
    {
     "data": {
      "text/plain": [
       "<Figure size 2160x720 with 0 Axes>"
      ]
     },
     "metadata": {},
     "output_type": "display_data"
    },
    {
     "data": {
      "text/plain": [
       "<Figure size 2160x720 with 0 Axes>"
      ]
     },
     "metadata": {},
     "output_type": "display_data"
    },
    {
     "data": {
      "text/plain": [
       "<Figure size 2160x720 with 0 Axes>"
      ]
     },
     "metadata": {},
     "output_type": "display_data"
    },
    {
     "data": {
      "text/plain": [
       "<Figure size 2160x720 with 0 Axes>"
      ]
     },
     "metadata": {},
     "output_type": "display_data"
    },
    {
     "data": {
      "text/plain": [
       "<Figure size 2160x720 with 0 Axes>"
      ]
     },
     "metadata": {},
     "output_type": "display_data"
    },
    {
     "data": {
      "text/plain": [
       "<Figure size 2160x720 with 0 Axes>"
      ]
     },
     "metadata": {},
     "output_type": "display_data"
    },
    {
     "data": {
      "text/plain": [
       "<Figure size 2160x720 with 0 Axes>"
      ]
     },
     "metadata": {},
     "output_type": "display_data"
    },
    {
     "data": {
      "text/plain": [
       "<Figure size 2160x720 with 0 Axes>"
      ]
     },
     "metadata": {},
     "output_type": "display_data"
    },
    {
     "data": {
      "text/plain": [
       "<Figure size 2160x720 with 0 Axes>"
      ]
     },
     "metadata": {},
     "output_type": "display_data"
    },
    {
     "data": {
      "text/plain": [
       "<Figure size 2160x720 with 0 Axes>"
      ]
     },
     "metadata": {},
     "output_type": "display_data"
    },
    {
     "data": {
      "text/plain": [
       "<Figure size 2160x720 with 0 Axes>"
      ]
     },
     "metadata": {},
     "output_type": "display_data"
    },
    {
     "data": {
      "text/plain": [
       "<Figure size 2160x720 with 0 Axes>"
      ]
     },
     "metadata": {},
     "output_type": "display_data"
    },
    {
     "data": {
      "text/plain": [
       "<Figure size 2160x720 with 0 Axes>"
      ]
     },
     "metadata": {},
     "output_type": "display_data"
    },
    {
     "data": {
      "text/plain": [
       "<Figure size 2160x720 with 0 Axes>"
      ]
     },
     "metadata": {},
     "output_type": "display_data"
    },
    {
     "data": {
      "text/plain": [
       "<Figure size 2160x720 with 0 Axes>"
      ]
     },
     "metadata": {},
     "output_type": "display_data"
    },
    {
     "data": {
      "text/plain": [
       "<Figure size 2160x720 with 0 Axes>"
      ]
     },
     "metadata": {},
     "output_type": "display_data"
    },
    {
     "data": {
      "text/plain": [
       "<Figure size 2160x720 with 0 Axes>"
      ]
     },
     "metadata": {},
     "output_type": "display_data"
    },
    {
     "data": {
      "text/plain": [
       "<Figure size 2160x720 with 0 Axes>"
      ]
     },
     "metadata": {},
     "output_type": "display_data"
    },
    {
     "data": {
      "text/plain": [
       "<Figure size 2160x720 with 0 Axes>"
      ]
     },
     "metadata": {},
     "output_type": "display_data"
    },
    {
     "data": {
      "text/plain": [
       "<Figure size 2160x720 with 0 Axes>"
      ]
     },
     "metadata": {},
     "output_type": "display_data"
    },
    {
     "data": {
      "text/plain": [
       "<Figure size 2160x720 with 0 Axes>"
      ]
     },
     "metadata": {},
     "output_type": "display_data"
    },
    {
     "data": {
      "text/plain": [
       "<Figure size 2160x720 with 0 Axes>"
      ]
     },
     "metadata": {},
     "output_type": "display_data"
    },
    {
     "data": {
      "text/plain": [
       "<Figure size 2160x720 with 0 Axes>"
      ]
     },
     "metadata": {},
     "output_type": "display_data"
    },
    {
     "data": {
      "text/plain": [
       "<Figure size 2160x720 with 0 Axes>"
      ]
     },
     "metadata": {},
     "output_type": "display_data"
    },
    {
     "data": {
      "text/plain": [
       "<Figure size 2160x720 with 0 Axes>"
      ]
     },
     "metadata": {},
     "output_type": "display_data"
    },
    {
     "data": {
      "text/plain": [
       "<Figure size 2160x720 with 0 Axes>"
      ]
     },
     "metadata": {},
     "output_type": "display_data"
    },
    {
     "data": {
      "text/plain": [
       "<Figure size 2160x720 with 0 Axes>"
      ]
     },
     "metadata": {},
     "output_type": "display_data"
    },
    {
     "data": {
      "text/plain": [
       "<Figure size 2160x720 with 0 Axes>"
      ]
     },
     "metadata": {},
     "output_type": "display_data"
    },
    {
     "data": {
      "text/plain": [
       "<Figure size 2160x720 with 0 Axes>"
      ]
     },
     "metadata": {},
     "output_type": "display_data"
    },
    {
     "data": {
      "text/plain": [
       "<Figure size 2160x720 with 0 Axes>"
      ]
     },
     "metadata": {},
     "output_type": "display_data"
    },
    {
     "data": {
      "text/plain": [
       "<Figure size 2160x720 with 0 Axes>"
      ]
     },
     "metadata": {},
     "output_type": "display_data"
    },
    {
     "data": {
      "text/plain": [
       "<Figure size 2160x720 with 0 Axes>"
      ]
     },
     "metadata": {},
     "output_type": "display_data"
    },
    {
     "data": {
      "text/plain": [
       "<Figure size 2160x720 with 0 Axes>"
      ]
     },
     "metadata": {},
     "output_type": "display_data"
    },
    {
     "data": {
      "text/plain": [
       "<Figure size 2160x720 with 0 Axes>"
      ]
     },
     "metadata": {},
     "output_type": "display_data"
    },
    {
     "data": {
      "text/plain": [
       "<Figure size 2160x720 with 0 Axes>"
      ]
     },
     "metadata": {},
     "output_type": "display_data"
    },
    {
     "data": {
      "text/plain": [
       "<Figure size 2160x720 with 0 Axes>"
      ]
     },
     "metadata": {},
     "output_type": "display_data"
    },
    {
     "data": {
      "text/plain": [
       "<Figure size 2160x720 with 0 Axes>"
      ]
     },
     "metadata": {},
     "output_type": "display_data"
    },
    {
     "data": {
      "text/plain": [
       "<Figure size 2160x720 with 0 Axes>"
      ]
     },
     "metadata": {},
     "output_type": "display_data"
    },
    {
     "data": {
      "text/plain": [
       "<Figure size 2160x720 with 0 Axes>"
      ]
     },
     "metadata": {},
     "output_type": "display_data"
    },
    {
     "data": {
      "text/plain": [
       "<Figure size 2160x720 with 0 Axes>"
      ]
     },
     "metadata": {},
     "output_type": "display_data"
    },
    {
     "data": {
      "text/plain": [
       "<Figure size 2160x720 with 0 Axes>"
      ]
     },
     "metadata": {},
     "output_type": "display_data"
    },
    {
     "data": {
      "text/plain": [
       "<Figure size 2160x720 with 0 Axes>"
      ]
     },
     "metadata": {},
     "output_type": "display_data"
    },
    {
     "data": {
      "text/plain": [
       "<Figure size 2160x720 with 0 Axes>"
      ]
     },
     "metadata": {},
     "output_type": "display_data"
    },
    {
     "data": {
      "text/plain": [
       "<Figure size 2160x720 with 0 Axes>"
      ]
     },
     "metadata": {},
     "output_type": "display_data"
    },
    {
     "data": {
      "text/plain": [
       "<Figure size 2160x720 with 0 Axes>"
      ]
     },
     "metadata": {},
     "output_type": "display_data"
    },
    {
     "data": {
      "text/plain": [
       "<Figure size 2160x720 with 0 Axes>"
      ]
     },
     "metadata": {},
     "output_type": "display_data"
    },
    {
     "data": {
      "text/plain": [
       "<Figure size 2160x720 with 0 Axes>"
      ]
     },
     "metadata": {},
     "output_type": "display_data"
    },
    {
     "data": {
      "text/plain": [
       "<Figure size 2160x720 with 0 Axes>"
      ]
     },
     "metadata": {},
     "output_type": "display_data"
    },
    {
     "data": {
      "text/plain": [
       "<Figure size 2160x720 with 0 Axes>"
      ]
     },
     "metadata": {},
     "output_type": "display_data"
    },
    {
     "data": {
      "text/plain": [
       "<Figure size 2160x720 with 0 Axes>"
      ]
     },
     "metadata": {},
     "output_type": "display_data"
    },
    {
     "data": {
      "text/plain": [
       "<Figure size 2160x720 with 0 Axes>"
      ]
     },
     "metadata": {},
     "output_type": "display_data"
    },
    {
     "data": {
      "text/plain": [
       "<Figure size 2160x720 with 0 Axes>"
      ]
     },
     "metadata": {},
     "output_type": "display_data"
    },
    {
     "data": {
      "text/plain": [
       "<Figure size 2160x720 with 0 Axes>"
      ]
     },
     "metadata": {},
     "output_type": "display_data"
    },
    {
     "data": {
      "text/plain": [
       "<Figure size 2160x720 with 0 Axes>"
      ]
     },
     "metadata": {},
     "output_type": "display_data"
    },
    {
     "data": {
      "text/plain": [
       "<Figure size 2160x720 with 0 Axes>"
      ]
     },
     "metadata": {},
     "output_type": "display_data"
    },
    {
     "data": {
      "text/plain": [
       "<Figure size 2160x720 with 0 Axes>"
      ]
     },
     "metadata": {},
     "output_type": "display_data"
    },
    {
     "data": {
      "text/plain": [
       "<Figure size 2160x720 with 0 Axes>"
      ]
     },
     "metadata": {},
     "output_type": "display_data"
    },
    {
     "data": {
      "text/plain": [
       "<Figure size 2160x720 with 0 Axes>"
      ]
     },
     "metadata": {},
     "output_type": "display_data"
    },
    {
     "data": {
      "text/plain": [
       "<Figure size 2160x720 with 0 Axes>"
      ]
     },
     "metadata": {},
     "output_type": "display_data"
    }
   ],
   "source": [
    "lbl = ['train', 'subset(tr)', 'test']\n",
    "all_data = [nlls_train_all, nlls_train_subset_all, nlls_test_all]\n",
    "# lbl = ['train', 'test']\n",
    "# all_data = [nlls_train_all, nlls_test_all]\n",
    "\n",
    "nComps = len(lbl);\n",
    "\n",
    "for cell_num in range(nCells):\n",
    "\n",
    "    sharey = True if nComps>2 else False;\n",
    "    f, ax = plt.subplots(1, nComps, figsize=(nComps*10,10), sharey=sharey);\n",
    "\n",
    "#     # train\n",
    "#     sns.swarmplot(x=np.tile(np.arange(nMods), nBoots), y=hf.flatten_list(nlls_train_all[cell_num,:,:,0]), hue=np.tile([param_color[nFreeParams[x]] for x in range(nMods)], nBoots), alpha=0.5, ax=ax[0]);\n",
    "#     [ax[0].plot(i+0.25, np.nanmean(nlls_train_all[cell_num,:,i,0]), '<', color=param_color[nFreeParams[i]], markersize=10) for i in range(nMods)];\n",
    "\n",
    "#     # test\n",
    "#     sns.swarmplot(x=np.tile(np.arange(nMods), nBoots), y=hf.flatten_list(nlls_test_all[cell_num,:,:,0]), hue=np.tile([param_color[nFreeParams[x]] for x in range(nMods)], nBoots), alpha=0.5, ax=ax[1]);\n",
    "#     [ax[1].plot(i+0.25, np.nanmean(nlls_test_all[cell_num,:,i,0]), '<', color=param_color[nFreeParams[i]], markersize=10) for i in range(nMods)];\n",
    "\n",
    "    for j,dta in enumerate(all_data):\n",
    "        sns.swarmplot(x=np.tile(np.arange(nMods), nBoots), y=hf.flatten_list(dta[cell_num,:,:,0]), hue=np.tile([param_color[nFreeParams[x]] for x in range(nMods)], nBoots), alpha=0.5, ax=ax[j]);\n",
    "        [ax[j].plot(i+0.25, np.nanmean(dta[cell_num,:,i,0]), '<', color=param_color[nFreeParams[i]], markersize=10) for i in range(nMods)];\n",
    "\n",
    "    sns.despine(offset=10)\n",
    "    f.suptitle('Comparing models with cross-validation')\n",
    "\n",
    "    for i in range(nComps):\n",
    "        ax[i].set_xlabel('Model');\n",
    "        ax[i].set_ylabel('Loss per joint fit')\n",
    "        ax[i].set_title('%s' % lbl[i]);\n",
    "        ax[i].set_xticklabels(labels=[r'$\\Delta$%s' % x for x in names], rotation=30);\n",
    "\n",
    "    saveName = \"/01_01_02b_comps_%s/cell_%03d.pdf\" % (date, cell_num+1);\n",
    "    curr_dir = os.path.dirname(save_loc+saveName);\n",
    "    if not os.path.exists(curr_dir):\n",
    "        os.makedirs(curr_dir);\n",
    "    pdfSv = pltSave.PdfPages(save_loc + saveName);\n",
    "    pdfSv.savefig(f); # only one figure here...\n",
    "    pdfSv.close()\n",
    "    f.clf();"
   ]
  },
  {
   "cell_type": "markdown",
   "metadata": {},
   "source": [
    "#### Cross-validation by condition\n",
    "\n",
    "Rather than withholding a certain fraction of trials in each condition, we can also cross-validate by leaving out one condition per fit, and evaluating the loss on that heldout condition."
   ]
  },
  {
   "cell_type": "code",
   "execution_count": 926,
   "metadata": {},
   "outputs": [],
   "source": [
    "# np.sum([curr_mod[c]['boot_NLL_cv_test'][0][tot_ind,0,con_ind] for con_ind,tot_ind in enumerate(np.arange(0, nConds, nSfs_curr))])\n"
   ]
  },
  {
   "cell_type": "code",
   "execution_count": 1218,
   "metadata": {},
   "outputs": [],
   "source": [
    "# Load the datalist, so that we can check the responses, and only consider responses > 5 spks/sec?\n",
    "if 'ach' not in expDir:\n",
    "    dl_name = hf.get_datalist(expDir+'/')\n",
    "else:\n",
    "    dl_name = 'sachData.npy'\n",
    "dl = hf.np_smart_load('%s/structures/%s' % (expDir, dl_name));\n",
    "cell_names = dl['unitName'];"
   ]
  },
  {
   "cell_type": "code",
   "execution_count": 1232,
   "metadata": {},
   "outputs": [],
   "source": [
    "# Specify which data to load\n",
    "# -- for LGN, use 220505\n",
    "# -- for Sach, use 220510\n",
    "\n",
    "thresh = 10;\n",
    "# thresh = -100;\n",
    "\n",
    "expDir = 'LGN'\n",
    "# expDir = 'LGN/sach/'\n",
    "# phAdj = 1;\n",
    "phAdj = 0;\n",
    "\n",
    "# joints = [2,3,4,5,6];\n",
    "# names = ['ctr. r. + vol', 'vol. ratio', 'surr. r', 'ctr. r', 'ctr-surr'];\n",
    "\n",
    "# joints = [2,3,4,5,7,6]#,8];\n",
    "# nFreeParams = [3,2,2,2,2,3]#,2]; # how many free params per condition?\n",
    "# names = ['ctr. r. + vol', 'vol. ratio', 'surr. r', 'ctr. r', 'ctr. r. slope, surrRad', 'ctr-surr'];\n",
    "\n",
    "joints = [2,5,7,6]#,8];\n",
    "nFreeParams = [3,2,2,3]#,2]; # how many free params per condition?\n",
    "names = ['ctr. r. + vol', 'ctr. r', 'ctr. r. slope, surrRad', 'ctr-surr'];\n",
    "\n",
    "\n",
    "isSach = 1 if 'sach' in expDir else 0;\n",
    "expDir_str = 'sach' if isSach else expDir\n",
    "if phAdj:\n",
    "    date = '220513a' if isSach else '220512'\n",
    "    phAdj_str = '_phAdj'\n",
    "else:\n",
    "    date = '220510' if isSach else '220519'\n",
    "#     date = '220510' if isSach else '220505'\n",
    "    phAdj_str = ''\n",
    "isHPC = 1;\n",
    "loss_type = 2;\n",
    "dog_model = 1;\n",
    "has_tr_subset = True;\n",
    "if isSach:\n",
    "    dogName = 'descrFits%s_s%s' % ('HPC' if isHPC else '', date);\n",
    "else:\n",
    "    dogName = 'descrFits%s_%s' % ('HPC' if isHPC else '', date);\n",
    "\n",
    "# NOTE: Yes, the naming convention for surr/center radius models are reversed from the fit names\n",
    "# --- that's because here (and in Sach's thesis) we model the name by what does shift\n",
    "# --- in my naming convention, we name it after what does NOT shift with contrast\n",
    "# names = ['vol. ratio', 'surr. r', 'ctr. r'];\n",
    "# names = ['ctr. r. + vol', 'vol. ratio', 'surr. r', 'ctr. r', 'ctr-surr'];\n",
    "# if len(joints)>5:\n",
    "#     names.append('ctr. r. slope, surrRad')\n",
    "#     names.append('ctr. r. slope, surrGain')\n",
    "\n",
    "nMods = len(joints);\n",
    "ref_ind = 0; # in the index of the joints that we'll use as the reference\n",
    "# nFreeParams = [2,2,2]; # how many free params per condition?\n",
    "# nFreeParams = [3,2,2,2,3]; # how many free params per condition?\n",
    "param_color = ['', '', 'r', 'k']; # what color based on # params per condition\n",
    "\n",
    "ref_mod = hf.np_smart_load('%s/structures/%s' % (expDir, hf.descrFit_name(loss_type, descrBase=dogName, modelName=hf.descrMod_name(dog_model), joint=joints[ref_ind], phAdj=phAdj)));\n",
    "nCells = len(ref_mod.keys());\n",
    "if isSach:\n",
    "    nBoots = ref_mod[0]['boot_paramList'].shape[0];\n",
    "else:\n",
    "    nBoots = ref_mod[0]['boot_paramList'].shape[0];\n",
    "\n",
    "# Now, organize all of the loss values - raw and normalized by the reference models\n",
    "train_ind=0;\n",
    "test_ind=1;\n",
    "### As for organizing/analyzing, let's do the following:\n",
    "# 1. Here, each model gets one number - total loss across all conditions\n",
    "# --- then ...,2 for non-heldout total LOSS [0] and [1] for the sum of all single-condition-holdout test losses\n",
    "nlls_summary = np.nan * np.zeros((nCells, nMods, 2));\n",
    "# 2. Now, split the loss into condition - i.e. one test loss per sfXcon condition\n",
    "# --- and again ...,2 for loss when condition incl. in fit [0] and [1] heldout (i.e. test)\n",
    "# - Well, first we need to find out how many CONS/SFS for each cell\n",
    "# --- we can work backwords, since nBoots for c-v by cond. is nB=nCons*nSfs and the length of NLL is #cons\n",
    "if isSach:\n",
    "    nCons_perCell = np.array([ref_mod[c]['NLL'].shape[-1] for c in ref_mod.keys()]);\n",
    "    nBoots_perCell = np.array([ref_mod[c]['boot_NLL_cv_test'].shape[0] for c in ref_mod.keys()]);\n",
    "else:\n",
    "    nCons_perCell = np.array([np.sum(~np.isnan(ref_mod[c]['NLL'][0])) for c in ref_mod.keys()]);\n",
    "    nBoots_perCell = np.array([ref_mod[c]['boot_NLL_cv_test'][0].shape[0] for c in ref_mod.keys()]);\n",
    "nSfs_perCell = np.divide(nBoots_perCell, nCons_perCell).astype('int');\n",
    "nCons, nSfs = np.max(nCons_perCell), np.max(nSfs_perCell);\n",
    "# NOTE: As of 22.05.11, we can only evaluate loss per contrast for the full model (i.e. train)\n",
    "nlls_summary_perCon = np.nan * np.zeros((nCells, nMods, nCons, 2));\n",
    "nlls_summary_perSf = np.nan * np.zeros((nCells, nMods, nSfs, 2));\n",
    "# nlls_summary_perCond = np.nan * np.zeros((nCells, nMods, nCons, nSfs, 2));\n",
    "sfs_perCell = [];\n",
    "ref_charFreq_perCell = [];\n",
    "\n",
    "for i,j in enumerate(joints):\n",
    "    curr_mod = hf.np_smart_load('%s/structures/%s' % (expDir, hf.descrFit_name(loss_type, descrBase=dogName, modelName=hf.descrMod_name(dog_model), joint=j, phAdj=phAdj)));\n",
    "    for c in range(nCells):\n",
    "        \n",
    "        # let's find out the high contrast char. freq as inferred from the ref mod\n",
    "        ref_charFreq_perCell.append(hf.dog_charFreq(ref_mod[c]['params'][0,-1], DoGmodel=dog_model));\n",
    "        \n",
    "        # let's also load the current cell and get the SFS so we can:\n",
    "        # - evaluate the REFERENCE model (only) on these SFS\n",
    "        # --- why ref. model? so that we make sure that we consider the same conditions for all models\n",
    "        # - and optionally filter out any conditions with a response below a particular value\n",
    "        # NOTE: boot_NLL_cv conditions are ordered by sf\n",
    "        # -- i.e. conditions 0-X are the lowest contrast, first X SFs; then X+1-2x are second lowest contrast...and so on\n",
    "        curr_cell = hf.np_smart_load('%s/structures/%s_sfm.npy' % (expDir, cell_names[c]));\n",
    "        expInd = hf.get_exp_ind('%s/structures/' % expDir, cell_names[c])[0];\n",
    "        _,conds,vc,_,_=hf.tabulate_responses(curr_cell['sfm']['exp']['trial'], expInd=expInd)\n",
    "        sfs = conds[2]\n",
    "        sfs_perCell.append(sfs);\n",
    "        mod_resps = np.array([hf.get_descrResp(ref_mod[c]['params'][0,x], sfs, DoGmodel=dog_model) for x in np.where(~np.isnan(ref_mod[c]['params'][0,:,-1]))[0]]);\n",
    "        # ^ mod_resps is nCons x nSfs (i.e. exactly as boot_NLL_cv once flattened)\n",
    "        mod_rps = mod_resps.flatten();\n",
    "        inval_conds = np.where(mod_rps<thresh)[0];\n",
    "        test_nll = np.copy(curr_mod[c]['boot_NLL_cv_test']) if isSach else curr_mod[c]['boot_NLL_cv_test'][0];\n",
    "        if isSach:\n",
    "            test_nll[inval_conds] = 0; # just zero it\n",
    "        else:\n",
    "            test_nll[inval_conds,0] = 0; # just zero it           \n",
    "        \n",
    "        # First, handle the totalNLL\n",
    "        # -- train\n",
    "        try:\n",
    "            nlls_summary[c,i,train_ind] = curr_mod[c]['totalNLL'] if isSach else curr_mod[c]['totalNLL'][0] \n",
    "        except:\n",
    "            pass;\n",
    "        # -- test\n",
    "        try:\n",
    "            nlls_summary[c,i,test_ind] = np.nansum(test_nll) if isSach else np.nansum(test_nll[:,0]); # if not Sach, we have to specify that it's zero dispersion\n",
    "        except:\n",
    "            pass;\n",
    "        # Now, we'll split per contrast\n",
    "        # -- train\n",
    "        try:\n",
    "            curr_perCond = hf.nan_rm(curr_mod[c]['NLL']) if isSach else hf.nan_rm(curr_mod[c]['NLL'][0]);\n",
    "            nlls_summary_perCon[c,i,0:len(curr_perCond),train_ind] = curr_perCond;\n",
    "        except:\n",
    "            pass;\n",
    "        # -- test\n",
    "        try:\n",
    "            # by contrast\n",
    "            curr_perCond = np.nansum(test_nll, axis=0) if isSach else np.nansum(test_nll[:,0],axis=0)\n",
    "            curr_perCond = curr_perCond[curr_perCond>0]; # if it's 0, then this is just a missing condition\n",
    "            nlls_summary_perCon[c,i,0:len(curr_perCond),test_ind] = curr_perCond;\n",
    "            # and now, by SF, too\n",
    "            nConds = curr_mod[c]['boot_NLL_cv_test'].shape[0] if isSach else curr_mod[c]['boot_NLL_cv_test'][0].shape[0];\n",
    "            nSfs_curr=nSfs_perCell[c];x\n",
    "            if isSach:\n",
    "                curr_perCond = np.array([np.nansum([test_nll[tot_ind,con_ind] for con_ind,tot_ind in enumerate(np.arange(x, nConds, nSfs_curr))]) for x in range(nSfs_curr)]);\n",
    "            else:\n",
    "                val_cons = vc[0]; # 0 disp case\n",
    "                # why? for my data, we need to access only the relevant contrast indices\n",
    "                curr_perCond = np.array([np.nansum([test_nll[tot_ind,0,val_cons[con_ind]] for con_ind,tot_ind in enumerate(np.arange(x, nConds, nSfs_curr))]) for x in range(nSfs_curr)]);\n",
    "            curr_perCond = curr_perCond[curr_perCond>0]; # if it's 0, then this is just a missing condition\n",
    "            nlls_summary_perSf[c,i,0:len(curr_perCond),test_ind] = curr_perCond;\n",
    "        except:\n",
    "            pass;"
   ]
  },
  {
   "cell_type": "markdown",
   "metadata": {},
   "source": [
    "##### Now, let's get some summaries/plots\n",
    "First, across cells"
   ]
  },
  {
   "cell_type": "code",
   "execution_count": 1233,
   "metadata": {},
   "outputs": [],
   "source": [
    "# Here's how we can find out which model had the lowest loss across cells\n",
    "lowest = np.argmin(nlls_summary[:,:,test_ind],axis=1)\n",
    "_, freqs = np.unique(lowest, return_counts=True)"
   ]
  },
  {
   "cell_type": "code",
   "execution_count": 1234,
   "metadata": {},
   "outputs": [
    {
     "name": "stdout",
     "output_type": "stream",
     "text": [
      "(11.1%) 09 out of 81 cells: ctr. r. + vol had the lowest test loss\n",
      "(30.9%) 25 out of 81 cells: ctr. r had the lowest test loss\n",
      "(42.0%) 34 out of 81 cells: ctr. r. slope, surrRad had the lowest test loss\n",
      "(16.0%) 13 out of 81 cells: ctr-surr had the lowest test loss\n"
     ]
    },
    {
     "data": {
      "text/plain": [
       "[None, None, None, None]"
      ]
     },
     "execution_count": 1234,
     "metadata": {},
     "output_type": "execute_result"
    }
   ],
   "source": [
    "[print('(%.1f%%) %02d out of %02d cells: %s had the lowest test loss' % (100*f/nCells, f,nCells,n)) for n,f in zip(names,freqs)]"
   ]
  },
  {
   "cell_type": "code",
   "execution_count": 1235,
   "metadata": {},
   "outputs": [
    {
     "name": "stdout",
     "output_type": "stream",
     "text": [
      "ctr. r. + vol model was best for cells: [19 20 30 35 44 55 56 59 64]\n",
      "ctr. r model was best for cells: [ 2  4  7  8  9 13 14 17 18 21 24 27 31 32 36 49 51 58 60 61 67 69 73 75\n",
      " 76]\n",
      "ctr. r. slope, surrRad model was best for cells: [ 1  3  5 11 12 15 22 23 25 26 33 37 38 40 46 47 48 50 52 53 54 62 63 65\n",
      " 68 70 71 72 74 77 78 79 80 81]\n",
      "ctr-surr model was best for cells: [ 6 10 16 28 29 34 39 41 42 43 45 57 66]\n"
     ]
    }
   ],
   "source": [
    "# And just for debugging purposes, let's list out the cells for which each model was best\n",
    "for ind in np.unique(lowest):\n",
    "    bests = np.where(lowest==ind)[0];\n",
    "    if len(bests)>0:\n",
    "        print('%s model was best for cells: %s' % (names[ind], np.array2string(bests+1))) # add 1 to go from index to cell#\n",
    "    else:\n",
    "        print('%s model was never the best!')"
   ]
  },
  {
   "cell_type": "markdown",
   "metadata": {},
   "source": [
    "Now, let's look _within_ each cell, across contrasts"
   ]
  },
  {
   "cell_type": "code",
   "execution_count": null,
   "metadata": {},
   "outputs": [],
   "source": [
    "lbl = ['train', 'test']\n",
    "\n",
    "for c in range(nCells):\n",
    "\n",
    "    f, ax = plt.subplots(1,2,figsize=(20,8), sharey=True)\n",
    "\n",
    "    for i in range(2):\n",
    "\n",
    "        [ax[i].plot(x[:,i], label='%s [%.2f]' % (md, np.nansum(x[:,i]))) for x,md in zip(nlls_summary_perCon[c], names)]\n",
    "        ax[i].legend(fontsize='x-small');\n",
    "        ax[i].set_xlabel('increasing contrast');\n",
    "        if i==0:\n",
    "            ax[i].set_ylabel('loss across all sfs');\n",
    "        ax[i].set_title('%s loss' % lbl[i])\n",
    "    f.suptitle('Cell %02d - comparing train/test loss across con.' % (c+1))\n",
    "    sns.despine(offset=5)\n",
    "    \n",
    "    # Now save, too\n",
    "    saveName = \"/01_01_02c_comps%s_%s%s/cell_%03d.pdf\" % (expDir_str, date, phAdj_str, c+1);\n",
    "    curr_dir = os.path.dirname(save_loc+saveName);\n",
    "    if not os.path.exists(curr_dir):\n",
    "        os.makedirs(curr_dir);\n",
    "    pdfSv = pltSave.PdfPages(save_loc + saveName);\n",
    "    pdfSv.savefig(f); # only one figure here...\n",
    "    pdfSv.close();\n",
    "    f.clf();"
   ]
  },
  {
   "cell_type": "markdown",
   "metadata": {},
   "source": [
    "...and also across SFs (as of 22.05.18, will ignore the training data, since that's harder to get)"
   ]
  },
  {
   "cell_type": "code",
   "execution_count": 1224,
   "metadata": {},
   "outputs": [
    {
     "name": "stderr",
     "output_type": "stream",
     "text": [
      "/users/plevy/miniconda3/envs/pytorch-lcv/lib/python3.6/site-packages/ipykernel_launcher.py:5: RuntimeWarning: More than 20 figures have been opened. Figures created through the pyplot interface (`matplotlib.pyplot.figure`) are retained until explicitly closed and may consume too much memory. (To control this warning, see the rcParam `figure.max_open_warning`).\n",
      "  \"\"\"\n"
     ]
    },
    {
     "data": {
      "text/plain": [
       "<Figure size 1440x576 with 0 Axes>"
      ]
     },
     "metadata": {},
     "output_type": "display_data"
    },
    {
     "data": {
      "text/plain": [
       "<Figure size 1440x576 with 0 Axes>"
      ]
     },
     "metadata": {},
     "output_type": "display_data"
    },
    {
     "data": {
      "text/plain": [
       "<Figure size 1440x576 with 0 Axes>"
      ]
     },
     "metadata": {},
     "output_type": "display_data"
    },
    {
     "data": {
      "text/plain": [
       "<Figure size 1440x576 with 0 Axes>"
      ]
     },
     "metadata": {},
     "output_type": "display_data"
    },
    {
     "data": {
      "text/plain": [
       "<Figure size 1440x576 with 0 Axes>"
      ]
     },
     "metadata": {},
     "output_type": "display_data"
    },
    {
     "data": {
      "text/plain": [
       "<Figure size 1440x576 with 0 Axes>"
      ]
     },
     "metadata": {},
     "output_type": "display_data"
    },
    {
     "data": {
      "text/plain": [
       "<Figure size 1440x576 with 0 Axes>"
      ]
     },
     "metadata": {},
     "output_type": "display_data"
    },
    {
     "data": {
      "text/plain": [
       "<Figure size 1440x576 with 0 Axes>"
      ]
     },
     "metadata": {},
     "output_type": "display_data"
    },
    {
     "data": {
      "text/plain": [
       "<Figure size 1440x576 with 0 Axes>"
      ]
     },
     "metadata": {},
     "output_type": "display_data"
    },
    {
     "data": {
      "text/plain": [
       "<Figure size 1440x576 with 0 Axes>"
      ]
     },
     "metadata": {},
     "output_type": "display_data"
    },
    {
     "data": {
      "text/plain": [
       "<Figure size 1440x576 with 0 Axes>"
      ]
     },
     "metadata": {},
     "output_type": "display_data"
    },
    {
     "data": {
      "text/plain": [
       "<Figure size 1440x576 with 0 Axes>"
      ]
     },
     "metadata": {},
     "output_type": "display_data"
    },
    {
     "data": {
      "text/plain": [
       "<Figure size 1440x576 with 0 Axes>"
      ]
     },
     "metadata": {},
     "output_type": "display_data"
    },
    {
     "data": {
      "text/plain": [
       "<Figure size 1440x576 with 0 Axes>"
      ]
     },
     "metadata": {},
     "output_type": "display_data"
    },
    {
     "data": {
      "text/plain": [
       "<Figure size 1440x576 with 0 Axes>"
      ]
     },
     "metadata": {},
     "output_type": "display_data"
    },
    {
     "data": {
      "text/plain": [
       "<Figure size 1440x576 with 0 Axes>"
      ]
     },
     "metadata": {},
     "output_type": "display_data"
    },
    {
     "data": {
      "text/plain": [
       "<Figure size 1440x576 with 0 Axes>"
      ]
     },
     "metadata": {},
     "output_type": "display_data"
    },
    {
     "data": {
      "text/plain": [
       "<Figure size 1440x576 with 0 Axes>"
      ]
     },
     "metadata": {},
     "output_type": "display_data"
    },
    {
     "data": {
      "text/plain": [
       "<Figure size 1440x576 with 0 Axes>"
      ]
     },
     "metadata": {},
     "output_type": "display_data"
    },
    {
     "data": {
      "text/plain": [
       "<Figure size 1440x576 with 0 Axes>"
      ]
     },
     "metadata": {},
     "output_type": "display_data"
    },
    {
     "data": {
      "text/plain": [
       "<Figure size 1440x576 with 0 Axes>"
      ]
     },
     "metadata": {},
     "output_type": "display_data"
    },
    {
     "data": {
      "text/plain": [
       "<Figure size 1440x576 with 0 Axes>"
      ]
     },
     "metadata": {},
     "output_type": "display_data"
    },
    {
     "data": {
      "text/plain": [
       "<Figure size 1440x576 with 0 Axes>"
      ]
     },
     "metadata": {},
     "output_type": "display_data"
    },
    {
     "data": {
      "text/plain": [
       "<Figure size 1440x576 with 0 Axes>"
      ]
     },
     "metadata": {},
     "output_type": "display_data"
    },
    {
     "data": {
      "text/plain": [
       "<Figure size 1440x576 with 0 Axes>"
      ]
     },
     "metadata": {},
     "output_type": "display_data"
    },
    {
     "data": {
      "text/plain": [
       "<Figure size 1440x576 with 0 Axes>"
      ]
     },
     "metadata": {},
     "output_type": "display_data"
    },
    {
     "data": {
      "text/plain": [
       "<Figure size 1440x576 with 0 Axes>"
      ]
     },
     "metadata": {},
     "output_type": "display_data"
    },
    {
     "data": {
      "text/plain": [
       "<Figure size 1440x576 with 0 Axes>"
      ]
     },
     "metadata": {},
     "output_type": "display_data"
    },
    {
     "data": {
      "text/plain": [
       "<Figure size 1440x576 with 0 Axes>"
      ]
     },
     "metadata": {},
     "output_type": "display_data"
    },
    {
     "data": {
      "text/plain": [
       "<Figure size 1440x576 with 0 Axes>"
      ]
     },
     "metadata": {},
     "output_type": "display_data"
    },
    {
     "data": {
      "text/plain": [
       "<Figure size 1440x576 with 0 Axes>"
      ]
     },
     "metadata": {},
     "output_type": "display_data"
    },
    {
     "data": {
      "text/plain": [
       "<Figure size 1440x576 with 0 Axes>"
      ]
     },
     "metadata": {},
     "output_type": "display_data"
    },
    {
     "data": {
      "text/plain": [
       "<Figure size 1440x576 with 0 Axes>"
      ]
     },
     "metadata": {},
     "output_type": "display_data"
    },
    {
     "data": {
      "text/plain": [
       "<Figure size 1440x576 with 0 Axes>"
      ]
     },
     "metadata": {},
     "output_type": "display_data"
    },
    {
     "data": {
      "text/plain": [
       "<Figure size 1440x576 with 0 Axes>"
      ]
     },
     "metadata": {},
     "output_type": "display_data"
    },
    {
     "data": {
      "text/plain": [
       "<Figure size 1440x576 with 0 Axes>"
      ]
     },
     "metadata": {},
     "output_type": "display_data"
    },
    {
     "data": {
      "text/plain": [
       "<Figure size 1440x576 with 0 Axes>"
      ]
     },
     "metadata": {},
     "output_type": "display_data"
    },
    {
     "data": {
      "text/plain": [
       "<Figure size 1440x576 with 0 Axes>"
      ]
     },
     "metadata": {},
     "output_type": "display_data"
    },
    {
     "data": {
      "text/plain": [
       "<Figure size 1440x576 with 0 Axes>"
      ]
     },
     "metadata": {},
     "output_type": "display_data"
    },
    {
     "data": {
      "text/plain": [
       "<Figure size 1440x576 with 0 Axes>"
      ]
     },
     "metadata": {},
     "output_type": "display_data"
    },
    {
     "data": {
      "text/plain": [
       "<Figure size 1440x576 with 0 Axes>"
      ]
     },
     "metadata": {},
     "output_type": "display_data"
    },
    {
     "data": {
      "text/plain": [
       "<Figure size 1440x576 with 0 Axes>"
      ]
     },
     "metadata": {},
     "output_type": "display_data"
    },
    {
     "data": {
      "text/plain": [
       "<Figure size 1440x576 with 0 Axes>"
      ]
     },
     "metadata": {},
     "output_type": "display_data"
    },
    {
     "data": {
      "text/plain": [
       "<Figure size 1440x576 with 0 Axes>"
      ]
     },
     "metadata": {},
     "output_type": "display_data"
    },
    {
     "data": {
      "text/plain": [
       "<Figure size 1440x576 with 0 Axes>"
      ]
     },
     "metadata": {},
     "output_type": "display_data"
    },
    {
     "data": {
      "text/plain": [
       "<Figure size 1440x576 with 0 Axes>"
      ]
     },
     "metadata": {},
     "output_type": "display_data"
    },
    {
     "data": {
      "text/plain": [
       "<Figure size 1440x576 with 0 Axes>"
      ]
     },
     "metadata": {},
     "output_type": "display_data"
    },
    {
     "data": {
      "text/plain": [
       "<Figure size 1440x576 with 0 Axes>"
      ]
     },
     "metadata": {},
     "output_type": "display_data"
    },
    {
     "data": {
      "text/plain": [
       "<Figure size 1440x576 with 0 Axes>"
      ]
     },
     "metadata": {},
     "output_type": "display_data"
    },
    {
     "data": {
      "text/plain": [
       "<Figure size 1440x576 with 0 Axes>"
      ]
     },
     "metadata": {},
     "output_type": "display_data"
    },
    {
     "data": {
      "text/plain": [
       "<Figure size 1440x576 with 0 Axes>"
      ]
     },
     "metadata": {},
     "output_type": "display_data"
    },
    {
     "data": {
      "text/plain": [
       "<Figure size 1440x576 with 0 Axes>"
      ]
     },
     "metadata": {},
     "output_type": "display_data"
    },
    {
     "data": {
      "text/plain": [
       "<Figure size 1440x576 with 0 Axes>"
      ]
     },
     "metadata": {},
     "output_type": "display_data"
    },
    {
     "data": {
      "text/plain": [
       "<Figure size 1440x576 with 0 Axes>"
      ]
     },
     "metadata": {},
     "output_type": "display_data"
    },
    {
     "data": {
      "text/plain": [
       "<Figure size 1440x576 with 0 Axes>"
      ]
     },
     "metadata": {},
     "output_type": "display_data"
    },
    {
     "data": {
      "text/plain": [
       "<Figure size 1440x576 with 0 Axes>"
      ]
     },
     "metadata": {},
     "output_type": "display_data"
    },
    {
     "data": {
      "text/plain": [
       "<Figure size 1440x576 with 0 Axes>"
      ]
     },
     "metadata": {},
     "output_type": "display_data"
    },
    {
     "data": {
      "text/plain": [
       "<Figure size 1440x576 with 0 Axes>"
      ]
     },
     "metadata": {},
     "output_type": "display_data"
    },
    {
     "data": {
      "text/plain": [
       "<Figure size 1440x576 with 0 Axes>"
      ]
     },
     "metadata": {},
     "output_type": "display_data"
    },
    {
     "data": {
      "text/plain": [
       "<Figure size 1440x576 with 0 Axes>"
      ]
     },
     "metadata": {},
     "output_type": "display_data"
    },
    {
     "data": {
      "text/plain": [
       "<Figure size 1440x576 with 0 Axes>"
      ]
     },
     "metadata": {},
     "output_type": "display_data"
    },
    {
     "data": {
      "text/plain": [
       "<Figure size 1440x576 with 0 Axes>"
      ]
     },
     "metadata": {},
     "output_type": "display_data"
    },
    {
     "data": {
      "text/plain": [
       "<Figure size 1440x576 with 0 Axes>"
      ]
     },
     "metadata": {},
     "output_type": "display_data"
    },
    {
     "data": {
      "text/plain": [
       "<Figure size 1440x576 with 0 Axes>"
      ]
     },
     "metadata": {},
     "output_type": "display_data"
    },
    {
     "data": {
      "text/plain": [
       "<Figure size 1440x576 with 0 Axes>"
      ]
     },
     "metadata": {},
     "output_type": "display_data"
    },
    {
     "data": {
      "text/plain": [
       "<Figure size 1440x576 with 0 Axes>"
      ]
     },
     "metadata": {},
     "output_type": "display_data"
    },
    {
     "data": {
      "text/plain": [
       "<Figure size 1440x576 with 0 Axes>"
      ]
     },
     "metadata": {},
     "output_type": "display_data"
    },
    {
     "data": {
      "text/plain": [
       "<Figure size 1440x576 with 0 Axes>"
      ]
     },
     "metadata": {},
     "output_type": "display_data"
    },
    {
     "data": {
      "text/plain": [
       "<Figure size 1440x576 with 0 Axes>"
      ]
     },
     "metadata": {},
     "output_type": "display_data"
    },
    {
     "data": {
      "text/plain": [
       "<Figure size 1440x576 with 0 Axes>"
      ]
     },
     "metadata": {},
     "output_type": "display_data"
    },
    {
     "data": {
      "text/plain": [
       "<Figure size 1440x576 with 0 Axes>"
      ]
     },
     "metadata": {},
     "output_type": "display_data"
    },
    {
     "data": {
      "text/plain": [
       "<Figure size 1440x576 with 0 Axes>"
      ]
     },
     "metadata": {},
     "output_type": "display_data"
    },
    {
     "data": {
      "text/plain": [
       "<Figure size 1440x576 with 0 Axes>"
      ]
     },
     "metadata": {},
     "output_type": "display_data"
    },
    {
     "data": {
      "text/plain": [
       "<Figure size 1440x576 with 0 Axes>"
      ]
     },
     "metadata": {},
     "output_type": "display_data"
    },
    {
     "data": {
      "text/plain": [
       "<Figure size 1440x576 with 0 Axes>"
      ]
     },
     "metadata": {},
     "output_type": "display_data"
    },
    {
     "data": {
      "text/plain": [
       "<Figure size 1440x576 with 0 Axes>"
      ]
     },
     "metadata": {},
     "output_type": "display_data"
    },
    {
     "data": {
      "text/plain": [
       "<Figure size 1440x576 with 0 Axes>"
      ]
     },
     "metadata": {},
     "output_type": "display_data"
    },
    {
     "data": {
      "text/plain": [
       "<Figure size 1440x576 with 0 Axes>"
      ]
     },
     "metadata": {},
     "output_type": "display_data"
    },
    {
     "data": {
      "text/plain": [
       "<Figure size 1440x576 with 0 Axes>"
      ]
     },
     "metadata": {},
     "output_type": "display_data"
    },
    {
     "data": {
      "text/plain": [
       "<Figure size 1440x576 with 0 Axes>"
      ]
     },
     "metadata": {},
     "output_type": "display_data"
    },
    {
     "data": {
      "text/plain": [
       "<Figure size 1440x576 with 0 Axes>"
      ]
     },
     "metadata": {},
     "output_type": "display_data"
    }
   ],
   "source": [
    "lbl = ['train', 'test']\n",
    "\n",
    "for c in range(nCells):\n",
    "\n",
    "    f, ax = plt.subplots(1,2,figsize=(20,8), sharey=True)\n",
    "\n",
    "    for i in range(2):\n",
    "\n",
    "        # messy code, but we're subsetting the loss per Sf to match the length of the actual SFS that appear for this cell (we build the array to handle the largets possible # of sfs)\n",
    "        [ax[i].semilogx(sfs_perCell[c], x[np.arange(len(sfs_perCell[c])), i], label='%s [%.2f]' % (md, np.nansum(x[:,i]))) for x,md in zip(nlls_summary_perSf[c], names)]\n",
    "#         [ax[i].plot(x[:,i], label='%s [%.2f]' % (md, np.nansum(x[:,i]))) for x,md in zip(nlls_summary_perSf[c], names)]\n",
    "        ax[i].legend(fontsize='x-small');\n",
    "        if i == 1:\n",
    "            ax[i].axvline(ref_charFreq_perCell[c], linestyle='--', alpha=0.3)\n",
    "        if i==0:\n",
    "            ax[i].set_ylabel('loss across all contrasts');\n",
    "        ax[i].set_title('%s loss' % lbl[i])\n",
    "    f.suptitle('Cell %02d - comparing train/test loss across SF (index)' % (c+1))\n",
    "    sns.despine(offset=5)\n",
    "    \n",
    "    # Now save, too\n",
    "    saveName = \"/01_01_02c_comps%s_%s%s/bySf_cell_%03d.pdf\" % (expDir_str, date, phAdj_str, c+1);\n",
    "    curr_dir = os.path.dirname(save_loc+saveName);\n",
    "    if not os.path.exists(curr_dir):\n",
    "        os.makedirs(curr_dir);\n",
    "    pdfSv = pltSave.PdfPages(save_loc + saveName);\n",
    "    pdfSv.savefig(f); # only one figure here...\n",
    "    pdfSv.close();\n",
    "    f.clf();"
   ]
  },
  {
   "cell_type": "markdown",
   "metadata": {},
   "source": [
    "#### Interlude: Comparing volRatio (e.g. only center gain shifts) vs model in which center gain and radius can shift"
   ]
  },
  {
   "cell_type": "code",
   "execution_count": 1291,
   "metadata": {},
   "outputs": [
    {
     "data": {
      "text/plain": [
       "'descrFitsHPC_220519'"
      ]
     },
     "execution_count": 1291,
     "metadata": {},
     "output_type": "execute_result"
    }
   ],
   "source": [
    "dogName"
   ]
  },
  {
   "cell_type": "code",
   "execution_count": 1300,
   "metadata": {
    "scrolled": false
   },
   "outputs": [
    {
     "data": {
      "image/png": "[encoded data removed]",
      "text/plain": [
       "<Figure size 1440x576 with 3 Axes>"
      ]
     },
     "metadata": {
      "needs_background": "light"
     },
     "output_type": "display_data"
    }
   ],
   "source": [
    "lt = 2; # loss type\n",
    "dn = 'descrFitsHPC_220519'\n",
    "dm = 1; # dog model\n",
    "jnt = 3; # which joint type to load?\n",
    "vr = hf.np_smart_load('%s/structures/%s' % (expDir, hf.descrFit_name(lt, descrBase=dn, modelName=hf.descrMod_name(dm), joint=jnt, phAdj=-1)));\n",
    "\n",
    "prms_ref = vr[74]['params'][0,-1];\n",
    "sfs = np.geomspace(0.1,2,100);\n",
    "\n",
    "steps = np.arange(1,4,0.5)\n",
    "\n",
    "f, ax = plt.subplots(1, 3, figsize=(20,8))#, sharex=True, sharey=True);\n",
    "\n",
    "for i in steps:\n",
    "\n",
    "    # first, change only the center gain (i.e. delta volume...)\n",
    "    prms_curr = np.copy(prms_a);\n",
    "    prms_curr[0] = prms_curr[0]/i\n",
    "\n",
    "    ax[0].loglog(sfs, hf.get_descrResp(prms_curr, sfs, 1), color='k');\n",
    "    ax[1].loglog(sfs, hf.get_descrResp(prms_curr, sfs, 1), color='k', alpha=0.3);\n",
    "    ax[0].axis('equal');\n",
    "    ax[0].set_ylim([5e0, 3e2])\n",
    "    \n",
    "    # then, also change the center radius\n",
    "    prms_curr[1] = prms_curr[1]*np.power(i, 0.25); # 4th power just to make the differences less stark...\n",
    "    ax[2].loglog(sfs, hf.get_descrResp(prms_curr, sfs, 1), color='r');\n",
    "    ax[1].loglog(sfs, hf.get_descrResp(prms_curr, sfs, 1), color='r', alpha=0.3);\n",
    "    ax[2].axis('equal');\n",
    "    ax[2].set_ylim([5e0, 3e2])\n",
    "\n",
    "   \n",
    "    ax[1].axis('equal');\n",
    "    ax[1].set_ylim([5e0, 3e2])\n"
   ]
  },
  {
   "cell_type": "code",
   "execution_count": null,
   "metadata": {},
   "outputs": [],
   "source": []
  },
  {
   "cell_type": "code",
   "execution_count": 840,
   "metadata": {},
   "outputs": [
    {
     "data": {
      "text/plain": [
       "(81, 7, 11, 2)"
      ]
     },
     "execution_count": 840,
     "metadata": {},
     "output_type": "execute_result"
    }
   ],
   "source": [
    "nlls_summary_perSf.shape"
   ]
  },
  {
   "cell_type": "code",
   "execution_count": 857,
   "metadata": {},
   "outputs": [
    {
     "data": {
      "text/plain": [
       "(81, 7, 11, 2)"
      ]
     },
     "execution_count": 857,
     "metadata": {},
     "output_type": "execute_result"
    }
   ],
   "source": [
    "nlls_summary_perSf.shape"
   ]
  },
  {
   "cell_type": "code",
   "execution_count": 861,
   "metadata": {},
   "outputs": [
    {
     "data": {
      "text/plain": [
       "array([1.82562542, 1.63666403, 1.81104732, 1.47182488, 2.71209955,\n",
       "       1.4137392 , 2.76793146])"
      ]
     },
     "execution_count": 861,
     "metadata": {},
     "output_type": "execute_result"
    }
   ],
   "source": [
    "nlls_summary_perSf[45,:,-3,1]"
   ]
  },
  {
   "cell_type": "code",
   "execution_count": 860,
   "metadata": {},
   "outputs": [
    {
     "data": {
      "text/plain": [
       "array([2.43792725, 0.95836103, 1.11097932, 1.71929193, 3.7235508 ,\n",
       "       1.23199368, 3.7647047 ])"
      ]
     },
     "execution_count": 860,
     "metadata": {},
     "output_type": "execute_result"
    }
   ],
   "source": [
    "nlls_summary_perSf[4,:,-3,1]"
   ]
  },
  {
   "cell_type": "code",
   "execution_count": 849,
   "metadata": {},
   "outputs": [
    {
     "data": {
      "text/plain": [
       "array([[3.80026579, 0.83619457, 0.33138499, 0.40872857, 0.49870372,\n",
       "        1.14088392, 1.3713783 , 1.17187798, 2.43792725,        nan,\n",
       "               nan],\n",
       "       [3.81955695, 0.76390767, 0.27976018, 0.25278738, 0.44662476,\n",
       "        1.06000316, 1.22319162, 0.94020379, 0.95836103,        nan,\n",
       "               nan],\n",
       "       [2.21463656, 0.3606168 , 0.34687713, 0.31712756, 0.46362698,\n",
       "        0.94576359, 2.19754457, 0.85412997, 1.11097932,        nan,\n",
       "               nan],\n",
       "       [2.94116378, 0.60775548, 0.39087319, 0.23985654, 0.7863068 ,\n",
       "        1.14692581, 1.48091555, 1.17275465, 1.71929193,        nan,\n",
       "               nan],\n",
       "       [3.08905745, 0.47167683, 0.36670679, 0.27754152, 0.62585962,\n",
       "        0.92494762, 2.05699539, 1.19365752, 3.7235508 ,        nan,\n",
       "               nan],\n",
       "       [3.43502831, 0.65983844, 0.55951512, 0.22841446, 1.84784794,\n",
       "        1.60114193, 1.13316524, 1.13475049, 1.23199368,        nan,\n",
       "               nan],\n",
       "       [2.89677548, 0.35696429, 1.02322757, 0.81354058, 1.01125181,\n",
       "        2.14398193, 2.00184011, 3.23088932, 3.7647047 ,        nan,\n",
       "               nan]])"
      ]
     },
     "execution_count": 849,
     "metadata": {},
     "output_type": "execute_result"
    }
   ],
   "source": [
    "nlls_summary_perSf[4,:,:,1]"
   ]
  },
  {
   "cell_type": "code",
   "execution_count": 864,
   "metadata": {},
   "outputs": [
    {
     "data": {
      "text/plain": [
       "array([[3.80026579, 0.83619457, 0.33138499, 0.40872857, 0.49870372,\n",
       "        1.14088392, 1.3713783 , 1.17187798, 2.43792725,        nan,\n",
       "               nan],\n",
       "       [3.81955695, 0.76390767, 0.27976018, 0.25278738, 0.44662476,\n",
       "        1.06000316, 1.22319162, 0.94020379, 0.95836103,        nan,\n",
       "               nan],\n",
       "       [2.21463656, 0.3606168 , 0.34687713, 0.31712756, 0.46362698,\n",
       "        0.94576359, 2.19754457, 0.85412997, 1.11097932,        nan,\n",
       "               nan],\n",
       "       [2.94116378, 0.60775548, 0.39087319, 0.23985654, 0.7863068 ,\n",
       "        1.14692581, 1.48091555, 1.17275465, 1.71929193,        nan,\n",
       "               nan],\n",
       "       [3.08905745, 0.47167683, 0.36670679, 0.27754152, 0.62585962,\n",
       "        0.92494762, 2.05699539, 1.19365752, 3.7235508 ,        nan,\n",
       "               nan],\n",
       "       [3.43502831, 0.65983844, 0.55951512, 0.22841446, 1.84784794,\n",
       "        1.60114193, 1.13316524, 1.13475049, 1.23199368,        nan,\n",
       "               nan],\n",
       "       [2.89677548, 0.35696429, 1.02322757, 0.81354058, 1.01125181,\n",
       "        2.14398193, 2.00184011, 3.23088932, 3.7647047 ,        nan,\n",
       "               nan]])"
      ]
     },
     "execution_count": 864,
     "metadata": {},
     "output_type": "execute_result"
    }
   ],
   "source": [
    "nlls_summary_perSf[4,:,:,1]"
   ]
  },
  {
   "cell_type": "code",
   "execution_count": 869,
   "metadata": {},
   "outputs": [
    {
     "data": {
      "text/plain": [
       "array([2, 6, 1, 5, 1, 4, 5, 2, 1, 0, 0])"
      ]
     },
     "execution_count": 869,
     "metadata": {},
     "output_type": "execute_result"
    }
   ],
   "source": [
    "np.argmin(nlls_summary_perSf[4,:,:,1],axis=0)"
   ]
  },
  {
   "cell_type": "code",
   "execution_count": null,
   "metadata": {},
   "outputs": [],
   "source": []
  }
 ],
 "metadata": {
  "kernelspec": {
   "display_name": "Python 3",
   "language": "python",
   "name": "python3"
  },
  "language_info": {
   "codemirror_mode": {
    "name": "ipython",
    "version": 3
   },
   "file_extension": ".py",
   "mimetype": "text/x-python",
   "name": "python",
   "nbconvert_exporter": "python",
   "pygments_lexer": "ipython3",
   "version": "3.6.12"
  }
 },
 "nbformat": 4,
 "nbformat_minor": 4
}
