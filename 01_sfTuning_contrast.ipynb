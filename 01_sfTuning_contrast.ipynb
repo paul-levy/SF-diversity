{
 "cells": [
  {
   "cell_type": "markdown",
   "metadata": {},
   "source": [
    "# The contrast-dependence of spatial frequency tuning\n",
    "## Thesis chapter 1/publication\n",
    "\n",
    "Here, we'll organize (better than has been organized in the predecesor notebooks __{analysis_ch1, analysis_ch1_suppl, descrAnalysisV1-allExps, V1_clustering, and descrAnalysisLGN]}__ the analysis for chapter 1 of my thesis. The primary intention behind re-doing this notebook (_again_) is that per a meeting in April 2022, Tony and Eero suggested we write this chapter as a paper fit for publication.\n",
    "\n",
    "In particular, writing this chapter as a paper necessitates re-doing some of the analyses from Sach Sokol's thesis (specifically, his 3rd chapter)."
   ]
  },
  {
   "cell_type": "markdown",
   "metadata": {},
   "source": [
    "Last access (y.m.d): 22.06.14   \n",
    "Last update (y.m.d): 22.06.14  "
   ]
  },
  {
   "cell_type": "code",
   "execution_count": 1790,
   "metadata": {},
   "outputs": [],
   "source": [
    "import helper_fcns as hf\n",
    "import numpy as np\n",
    "\n",
    "import warnings\n",
    "warnings.filterwarnings(action='once')\n",
    "\n",
    "import os, pdb\n",
    "import scipy.stats as ss\n",
    "import scipy.odr.odrpack as odrpack\n",
    "from scipy.stats.mstats import gmean\n",
    "from scipy.stats import ks_2samp, kstest, linregress\n",
    "import itertools\n",
    "import autoreload\n",
    "from IPython.core.display import display, HTML, Image\n",
    "\n",
    "import seaborn as sns\n",
    "import matplotlib.pyplot as plt\n",
    "plt.style.use('https://raw.githubusercontent.com/paul-levy/SF_diversity/master/paul_plt_style.mplstyle');\n",
    "import matplotlib.cm as cm\n",
    "import matplotlib.backends.backend_pdf as pltSave\n",
    "%matplotlib inline\n",
    "plt.style.use('https://raw.githubusercontent.com/paul-levy/SF_diversity/master/paul_plt_style.mplstyle');\n",
    "\n",
    "base_dir = os.getcwd() + '/';\n",
    "\n",
    "# what's the save name for this analysis?\n",
    "saveName = 'figures/reports/ch01_sfTuning_contrast/'; # for one save name for all figures\n",
    "save_loc = base_dir + saveName;"
   ]
  },
  {
   "cell_type": "code",
   "execution_count": 1791,
   "metadata": {},
   "outputs": [],
   "source": [
    "# Before any plotting, fix plotting paramaters\n",
    "plt.style.use('https://raw.githubusercontent.com/paul-levy/SF_diversity/master/paul_plt_style.mplstyle');\n",
    "from matplotlib import rcParams\n",
    "rcParams['font.size'] = 20;\n",
    "rcParams['pdf.fonttype'] = 42 # should be 42, but there are kerning issues                                                                                                                                                                                                    \n",
    "rcParams['ps.fonttype'] = 42 # should be 42, but there are kerning issues                                                                                                                                                                                                     \n",
    "\n",
    "rcParams['lines.linewidth'] = 2.5;\n",
    "rcParams['lines.markeredgewidth'] = 0; # no edge, since weird tings happen then\n",
    "rcParams['axes.linewidth'] = 1.5;\n",
    "rcParams['lines.markersize'] = 5;\n",
    "\n",
    "rcParams['xtick.major.size'] = 15\n",
    "rcParams['xtick.minor.size'] = 8\n",
    "rcParams['ytick.major.size'] = 15\n",
    "rcParams['ytick.minor.size'] = 8\n",
    "\n",
    "rcParams['xtick.major.width'] = 5\n",
    "rcParams['xtick.minor.width'] = 2\n",
    "rcParams['ytick.major.width'] = 5\n",
    "rcParams['ytick.minor.width'] = 2\n",
    "\n",
    "rcParams['font.family'] = 'DejaVu Sans'\n",
    "rcParams['font.style'] = 'oblique';\n",
    "rcParams['font.size'] = 20;"
   ]
  },
  {
   "cell_type": "markdown",
   "metadata": {},
   "source": [
    "# 1.1 LGN"
   ]
  },
  {
   "cell_type": "markdown",
   "metadata": {},
   "source": [
    "### 1.1.00 - Example tuning curves for M, P neurons\n",
    "\n",
    "There's nothing to do _here_, since we'll simply use the example tuning curves that we've produced elsewhere. As of 22.06.14, I'll aim for a 4-panel figure, where we have 2 examples each from M & P - maybe three with varying degrees of shifts, and one with no shift (or 2+2).\n"
   ]
  },
  {
   "cell_type": "markdown",
   "metadata": {},
   "source": [
    "### 1.1.01 - Scaled vs. separate Difference-of-Gaussians (DoG) \n",
    "\n",
    "The first key analysis in Sach's thesis is showing that spatial frequency tuning is contrast dependent. Using a $\\chi^2$ analysis, he shows that despite using extra parameters, a separate-per-contrast Difference-of-Gaussians (DoG) model outperforms a scaled DoG model. In the scaled model, the shapes and relative magnitudes of the gaussians are fixed, and the resultant curve can only be shifted vertically (i.e. changing response magnitude).\n",
    "\n",
    "As of 22.04.20, we will not replicate this analysis, taking it as a well-justified in the literature."
   ]
  },
  {
   "cell_type": "markdown",
   "metadata": {},
   "source": [
    "### 1.1.02 - Determining which DoG parameters matter most\n",
    "\n",
    "In section 3.3.4 (_Which DoG parameters can account for contrast-dependent tuning?_), Sach asks which of the DoG parameters are most needed to be adjustable across contrast. Using the more common approaches of the time (thesis defended in 2009), he used a $\\chi^2$ analysis which compared the loss of each model while taking into account the number of free parameters. Since computational resources and accessibility have greatly improved in the interim period, we'll instead use cross-validation to compare the different models.\n",
    "\n",
    "#### The models\n",
    "- $\\Delta$_volume ratio_ (2*$n_{con}$ + 2 free parameters) - center and surround radii are fixed\n",
    "- $\\Delta$_center radius_ (2*$n_{con}$ + 2 free parameters) - surround radius and relative surround gain are fixed\n",
    "    - Note that the surround radius is fixed in absolute terms\n",
    "- $\\Delta$_surround radius_ (2*$n_{con}$ + 2 free parameters) - center radius and relative surround gain are fixed\n",
    "- $\\Delta$_center-surround_ (3*$n_{con}$ + 1 free parameters) - relative surround gain is fixed\n",
    "\n",
    "And for thorough comparison, we also include the model with which most prior analysis was done\n",
    "\n",
    "- $\\Delta$_center radius + vol_ (3*$n_{con}$ + 1 free parameters) - relative surround radius is fixed\n",
    "    - This model differs from $\\Delta$_center radius_ in that the surround radius is fixed in relative terms to the center radius at contrast. Further, the relative Gaussian volumes are allowed to changed (since the relative surround gain term is free at each contrast)\n",
    "    \n",
    "and, as of 22.06.07, a more succinct version of the above model in which the center radius is determined by a slope, rather than fit per-contrast:\n",
    "\n",
    "- $\\Delta$_center radius slope + vol_ (2*$n_{con}$ + 3 free parameters) - relative surround radius is fixed\n",
    "    - This model differs from $\\Delta$_center radius + vol_ in that the center radius is determined by a model in which we assume a power law relationship between log contrast and log center radius, i.e. $$r(c) = x^{a + b*log_x(c)}$$ with x=10. Thus, the $n_{con}$ parameters giving the center radii become just 2 (intercept, $a$; and slope, $b$)\n",
    "\n",
    "#### Cross-validation\n",
    "\n",
    "In cross-validation, we partition the data into training and test, optimizing the model jointly across all contrasts based only on the training data. We then evaluate the model on the heldout (i.e. test) portion of the data, and assess the loss function. If model X has better training performance than model Y but worse test performance, then we can say that model X is simply overfitting the data. For example, we know that a well-parameterized model with more free parameters will outperform one with fewer parameters; however, how those models perform on heldout data is a better measure of the model's explanatory capabilities.\n",
    "\n",
    "NOTE: Rather than cross-validation by trial, as described above, for the paper/chapter, we will perform cross-validation by holding out on conditions, i.e. leave-one-out cross-validation. Thus, out of N conditions in the SF x CON stimulus matrix, we'll sequentially leave out some condition (sf_i, con_j), fit the model(s), and then evaluate the loss on the heldout condition.\n"
   ]
  },
  {
   "cell_type": "markdown",
   "metadata": {},
   "source": [
    "#### Model performance (all data)\n",
    "First, we'll compare the model performance when fitting to all of the data."
   ]
  },
  {
   "cell_type": "code",
   "execution_count": 1936,
   "metadata": {},
   "outputs": [
    {
     "name": "stderr",
     "output_type": "stream",
     "text": [
      "/users/plevy/miniconda3/envs/pytorch-lcv/lib/python3.6/site-packages/ipykernel_launcher.py:73: DeprecationWarning: elementwise comparison failed; this will raise an error in the future.\n"
     ]
    }
   ],
   "source": [
    "# Specify which data to load\n",
    "phAdj = 1;\n",
    "# phAdj = 0;\n",
    "\n",
    "expDirs = ['LGN', 'LGN/sach/'];\n",
    "joints = [0,2,5,7]\n",
    "nFreeParams = [4,3,2,2]\n",
    "names = ['free', 'ctr. r. + vol', 'ctr. r', 'ctr.r. slope, surrRad'];\n",
    "\n",
    "nlls_all = [];\n",
    "\n",
    "for expDir in expDirs:\n",
    "\n",
    "    isSach = 1 if 'sach' in expDir else 0;\n",
    "    expDir_str = 'sach' if isSach else expDir\n",
    "    if phAdj:\n",
    "        date = '220609'\n",
    "    #     date = '220513a' if isSach else '220512'\n",
    "    else:\n",
    "        date = '220609'\n",
    "    #     date = '220510' if isSach else '220519'\n",
    "\n",
    "\n",
    "    # joints = [0,2,4,6,7]\n",
    "    # nFreeParams = [4,3,2,3,2]\n",
    "    # names = ['free', 'ctr. r. + vol', 'ctr. r', 'ctr-surr', 'ctr.r. slope, surrRad'];\n",
    "\n",
    "    # joints = [2,7]#,8];\n",
    "    # nFreeParams = [3,2]#,2]; # how many free params per condition?\n",
    "    # joints = [2,3,4,5,6];\n",
    "    # nFreeParams = [3,2,2,2,3]; # how many free params per condition?\n",
    "    # names = ['ctr. r. + vol', 'ctr.r. slope, surrRad'];\n",
    "    # names = ['ctr. r. + vol', 'vol. ratio', 'surr. r', 'ctr. r', 'ctr-surr'];\n",
    "    # if len(joints)>5:\n",
    "    #     names = ['ctr. r. + vol', 'vol. ratio', 'surr. r', 'ctr. r', 'ctr. r. slope, surrRad', 'ctr-surr'];\n",
    "    #     names.append('ctr. r. slope, surrGain');    \n",
    "\n",
    "    isHPC = 1;\n",
    "    loss_type = 2;\n",
    "    dog_model = 1;\n",
    "    if isSach:\n",
    "        dogName = 'descrFits%s_s%s' % ('HPC' if isHPC else '', date);\n",
    "    else:\n",
    "        dogName = 'descrFits%s_%s' % ('HPC' if isHPC else '', date);\n",
    "    # NOTE: Yes, the naming convention for surr/center radius models are reversed from the fit names\n",
    "    # --- that's because here (and in Sach's thesis) we model the name by what does shift\n",
    "    # --- in my naming convention, we name it after what does NOT shift with contrast\n",
    "    nMods = len(joints);\n",
    "    ref_ind = 0; # in the index of the joints that we'll use as the reference\n",
    "    param_color = ['', '', 'r', 'k', 'b']; # what color based on # params per condition\n",
    "\n",
    "    ref_mod = hf.np_smart_load('%s/structures/%s' % (expDir, hf.descrFit_name(loss_type, descrBase=dogName, modelName=hf.descrMod_name(dog_model), joint=joints[ref_ind], phAdj=phAdj)));\n",
    "    nCells = len(ref_mod.keys());\n",
    "\n",
    "    # Now, organize all of the loss values - raw and normalized by the reference models\n",
    "    raw_ind = 0;\n",
    "    norm_ind = 1;\n",
    "    nlls_curr = np.nan * np.zeros((nCells, nMods, 2)); # end is [raw_ind, norm_ind]\n",
    "\n",
    "    for i,j in enumerate(joints):\n",
    "        curr_mod = hf.np_smart_load('%s/structures/%s' % (expDir, hf.descrFit_name(loss_type, descrBase=dogName, modelName=hf.descrMod_name(dog_model), joint=j, phAdj=phAdj)));\n",
    "        if curr_mod == []:\n",
    "            continue;\n",
    "        if isSach:\n",
    "            nlls_curr[:, i, 0] = np.array([curr_mod[x]['totalNLL'] for x in range(nCells)]) if j>0 else np.array([np.nansum(curr_mod[x]['NLL']) for x in range(nCells)]);\n",
    "        else:\n",
    "            nlls_curr[:, i, 0] = np.array([curr_mod[x]['totalNLL'][0] for x in range(nCells)]) if j>0 else np.array([np.nansum(curr_mod[x]['NLL'][0]) for x in range(nCells)]);\n",
    "\n",
    "    # then normalize, too:\n",
    "    nlls_curr[:,:,1] = np.divide(nlls_curr[:,:,0], np.repeat(np.transpose([nlls_curr[:,ref_ind,0]]), nMods, axis=1))\n",
    "    \n",
    "    # and add to overall list...\n",
    "    if nlls_all == []:\n",
    "        nlls_all = nlls_curr;\n",
    "    else:\n",
    "        nlls_all = np.vstack((nlls_all, nlls_curr));"
   ]
  },
  {
   "cell_type": "markdown",
   "metadata": {},
   "source": [
    "Now plot the distributions of losses across all cells (again, this is fitting to all data)"
   ]
  },
  {
   "cell_type": "code",
   "execution_count": 1937,
   "metadata": {},
   "outputs": [
    {
     "name": "stderr",
     "output_type": "stream",
     "text": [
      "/users/plevy/miniconda3/envs/pytorch-lcv/lib/python3.6/site-packages/numpy/lib/nanfunctions.py:1114: RuntimeWarning: All-NaN slice encountered\n",
      "  overwrite_input=overwrite_input)\n",
      "/users/plevy/miniconda3/envs/pytorch-lcv/lib/python3.6/site-packages/seaborn/categorical.py:1296: UserWarning: 62.6% of the points cannot be placed; you may want to decrease the size of the markers or use stripplot.\n",
      "  warnings.warn(msg, UserWarning)\n"
     ]
    },
    {
     "data": {
      "image/png": "[encoded data removed]",
      "text/plain": [
       "<Figure size 1440x720 with 1 Axes>"
      ]
     },
     "metadata": {
      "needs_background": "light"
     },
     "output_type": "display_data"
    }
   ],
   "source": [
    "use_norm = 1;\n",
    "upper_bound = 2 if use_norm else 1e2;\n",
    "\n",
    "f = plt.figure(figsize=(5*nMods, 10));\n",
    "\n",
    "# for ind in range(nMods):\n",
    "    \n",
    "#     sns.swarmplot(y=nlls_all[:,ind,use_norm], x=[ind]);\n",
    "#     viol = plt.violinplot(dataset=nlls_all[:,ind,use_norm], positions=[ind], showextrema=False, widths=0.7);\n",
    "\n",
    "#     # make all the violin stuff black and transparent\n",
    "#     for vp in viol['bodies']:\n",
    "#         vp.set_color(param_color[nFreeParams[ind]])\n",
    "#         vp.set_alpha(0.2);\n",
    "\n",
    "nCells = nlls_all.shape[0]\n",
    "[plt.plot(i+0.15, np.nanmedian(nlls_all[:,i,use_norm]), '<', color=param_color[nFreeParams[i]], markersize=10) for i in range(nMods)]\n",
    "sns.swarmplot(x=np.tile(np.arange(nMods), nCells), y=hf.flatten_list(np.clip(nlls_all[:,:,use_norm], None, upper_bound)), hue=np.tile([param_color[nFreeParams[x]] for x in range(nMods)], nCells));\n",
    "sns.despine(offset=10)\n",
    "\n",
    "if use_norm:\n",
    "    plt.axhline(1, color='k', linestyle='--', alpha=0.3)\n",
    "\n",
    "plt.xlabel('model');\n",
    "plt.ylabel('Distribution of %sloss across cells' % '(norm.) ' if use_norm else '');\n",
    "plt.xticks(ticks=np.arange(nMods), labels=[r'$\\Delta$%s' % x for x in names], rotation=30);\n",
    "plt.title('Comparing loss across models (LGN, %s)' % date);\n",
    "plt.tick_params(axis='x', which='minor', bottom=False)\n",
    "plt.tick_params(axis='y', which='minor', left=False)\n",
    "\n",
    "f.tight_layout();\n",
    "\n",
    "saveName = \"/01_01_02a_loss_nonCV_%s%s.pdf\" % (date, '_norm' if use_norm else '');\n",
    "curr_dir = os.path.dirname(save_loc+saveName);\n",
    "if not os.path.exists(curr_dir):\n",
    "    os.makedirs(curr_dir);\n",
    "pdfSv = pltSave.PdfPages(save_loc + saveName);\n",
    "pdfSv.savefig(f); # only one figure here...\n",
    "pdfSv.close()"
   ]
  },
  {
   "cell_type": "markdown",
   "metadata": {},
   "source": [
    "##### Interlude/optional: Plot loss, by cell, for selected joint models, against separate fits\n",
    "\n",
    "Per T.M., 22.05.27"
   ]
  },
  {
   "cell_type": "code",
   "execution_count": 1801,
   "metadata": {},
   "outputs": [],
   "source": [
    "sep_fits = hf.np_smart_load('%s/structures/%s' % (expDir, hf.descrFit_name(loss_type, descrBase=dogName, modelName=hf.descrMod_name(dog_model), joint=0, phAdj=phAdj)));\n",
    "sep_nlls = np.array([np.nansum(sep_fits[x]['NLL'][0]) for x in range(len(sep_fits.keys()))]);\n",
    "\n",
    "which_joints = [2,7];\n",
    "# which_joints = [2,7,3];\n",
    "which_inds = [np.where(np.array(joints)==x)[0][0] for x in which_joints]\n"
   ]
  },
  {
   "cell_type": "code",
   "execution_count": 1713,
   "metadata": {
    "scrolled": false
   },
   "outputs": [
    {
     "data": {
      "image/png": "[encoded data removed]",
      "text/plain": [
       "<Figure size 5832x360 with 1 Axes>"
      ]
     },
     "metadata": {
      "needs_background": "light"
     },
     "output_type": "display_data"
    }
   ],
   "source": [
    "to_norm = 1; # normalize to sep. fit or no?\n",
    "\n",
    "# n_rows = np.floor(np.sqrt(nCells)).astype(int);\n",
    "# n_cols = np.ceil(nCells/n_rows).astype(int);\n",
    "\n",
    "# f, ax = plt.subplots(n_rows, n_cols, figsize=(5*n_cols, 5*n_rows));\n",
    "plt.figure(figsize=(1*nCells,5))\n",
    "\n",
    "mdn_rats = [np.nanmedian(np.divide(nlls_all[:,wi,0], sep_nlls)) for wi in which_inds]\n",
    "mn_rats = [np.nanmean(np.divide(nlls_all[:,wi,0], sep_nlls)) for wi in which_inds]\n",
    "\n",
    "for cl in range(nCells):\n",
    "    \n",
    "    joint_vals = [nlls_all[cl,x,0] for x in which_inds];\n",
    "    all_vals = (sep_nlls[cl], *joint_vals, )\n",
    "    \n",
    "    if to_norm:\n",
    "        all_vals = all_vals/all_vals[0];\n",
    "        \n",
    "    n_mods = len(all_vals)\n",
    "    steps = cl+1 + 0.25*np.linspace(-1,1,n_mods)\n",
    "    plt.scatter(steps, all_vals)\n",
    "\n",
    "plt.axhline(mdn_rats[0], color='k', linestyle='--', label='median ratio for separate xc (%.2f)' % mdn_rats[0], alpha=0.3)\n",
    "plt.axhline(mdn_rats[1], color='b', linestyle='--', label='median ratio for slope xc (%.2f)' % mdn_rats[1], alpha=0.3)\n",
    "# plt.axhline(mdn_rats[2], color='r', linestyle='--', label='median ratio for vol. ratio', alpha=0.3)\n",
    "plt.legend();\n",
    "\n",
    "plt.ylabel('%sLoss' % ('(norm.) ' if to_norm else ''));\n",
    "plt.xlabel('Cell');\n",
    "sns.despine(offset=5)\n",
    "    \n",
    "pdfSv = pltSave.PdfPages(save_loc + '220531_phAdv_normNLL_byMod_forTony.pdf');\n",
    "pdfSv.savefig(plt.gcf()); # only one figure here...\n",
    "pdfSv.close()\n"
   ]
  },
  {
   "cell_type": "markdown",
   "metadata": {},
   "source": [
    "Back to where we were"
   ]
  },
  {
   "cell_type": "markdown",
   "metadata": {},
   "source": [
    "#### Cross-validation by trial, train fraction = 0.8\n",
    "\n",
    "As a first attempt, we keep 80% of the data for training and holdout the remaining for testing. We'll first show the training performance and then show loss on test performance."
   ]
  },
  {
   "cell_type": "code",
   "execution_count": 375,
   "metadata": {},
   "outputs": [
    {
     "name": "stderr",
     "output_type": "stream",
     "text": [
      "/users/plevy/miniconda3/envs/pytorch-lcv/lib/python3.6/site-packages/ipykernel_launcher.py:50: RuntimeWarning: invalid value encountered in true_divide\n",
      "/users/plevy/miniconda3/envs/pytorch-lcv/lib/python3.6/site-packages/ipykernel_launcher.py:53: RuntimeWarning: All-NaN slice encountered\n"
     ]
    }
   ],
   "source": [
    "# # Specify which data to load\n",
    "# date = '220504'\n",
    "# isHPC = 1;\n",
    "# expDir = 'LGN'\n",
    "# loss_type = 1;\n",
    "# dog_model = 1;\n",
    "# has_tr_subset = True;\n",
    "# dogName = 'descrFits%s_%s' % ('HPC' if isHPC else '', date);\n",
    "\n",
    "# joints = [3,4,5];\n",
    "# # joints = [2,3,4,5,6];\n",
    "# # NOTE: Yes, the naming convention for surr/center radius models are reversed from the fit names\n",
    "# # --- that's because here (and in Sach's thesis) we model the name by what does shift\n",
    "# # --- in my naming convention, we name it after what does NOT shift with contrast\n",
    "# names = ['vol. ratio', 'surr. r', 'ctr. r'];\n",
    "# # names = ['ctr. r. + vol', 'vol. ratio', 'surr. r', 'ctr. r', 'ctr-surr'];\n",
    "# nMods = len(joints);\n",
    "# ref_ind = 0; # in the index of the joints that we'll use as the reference\n",
    "# nFreeParams = [2,2,2]; # how many free params per condition?\n",
    "# # nFreeParams = [3,2,2,2,3]; # how many free params per condition?\n",
    "# param_color = ['', '', 'r', 'k']; # what color based on # params per condition\n",
    "\n",
    "# ref_mod = hf.np_smart_load('%s/structures/%s' % (expDir, hf.descrFit_name(loss_type, descrBase=dogName, modelName=hf.descrMod_name(dog_model), joint=joints[ref_ind])));\n",
    "# nCells = len(ref_mod.keys());\n",
    "# nBoots = ref_mod[0]['boot_paramList'].shape[0];\n",
    "\n",
    "# # Now, organize all of the loss values - raw and normalized by the reference models\n",
    "# raw_ind = 0;\n",
    "# norm_ind = 1;\n",
    "# nlls_train_all = np.nan * np.zeros((nCells, nBoots, nMods, 2)); # end is [raw_ind, norm_ind]\n",
    "# nlls_train_subset_all = np.nan * np.zeros((nCells, nBoots, nMods, 2)); # end is [raw_ind, norm_ind]\n",
    "# nlls_test_all = np.copy(nlls_train_all)\n",
    "\n",
    "# for i,j in enumerate(joints):\n",
    "#     curr_mod = hf.np_smart_load('%s/structures/%s' % (expDir, hf.descrFit_name(loss_type, descrBase=dogName, modelName=hf.descrMod_name(dog_model), joint=j)));\n",
    "# #     nlls_train_all[:, :, i, 0] = [np.nansum(curr_mod[x]['boot_NLL_cv_train'][0][:,0,:], axis=1) for x in range(nCells)];\n",
    "# #     nlls_test_all[:, :, i, 0] = [np.nansum(curr_mod[x]['boot_NLL_cv_test'][0][:,0,:], axis=1) for x in range(nCells)];\n",
    "# #     if has_tr_subset:\n",
    "# #         nlls_train_subset_all[:, :, i, 0] = [np.nansum(curr_mod[x]['boot_NLL_cv_train_subset'][0][:,0,:], axis=1) for x in range(nCells)];\n",
    "#     for c in range(nCells):\n",
    "#         if 'boot_NLL_cv_train' in curr_mod[c]:\n",
    "#             nlls_train_all[c, :, i, 0] = np.nansum(curr_mod[c]['boot_NLL_cv_train'][0][:,0,:], axis=1);\n",
    "#         if 'boot_NLL_cv_test' in curr_mod[c]:\n",
    "#             nlls_test_all[c, :, i, 0] = np.nansum(curr_mod[c]['boot_NLL_cv_test'][0][:,0,:], axis=1)\n",
    "#         if has_tr_subset and 'boot_NLL_cv_train_subset' in curr_mod[c]:\n",
    "#             nlls_train_subset_all[c, :, i, 0] = np.nansum(curr_mod[c]['boot_NLL_cv_train_subset'][0][:,0,:], axis=1)\n",
    "\n",
    "\n",
    "# # then, normalize, too:\n",
    "# nlls_train_all[:,:,:,1] = np.divide(nlls_train_all[:,:,:,0], np.expand_dims(np.nanmin(nlls_train_all[:,:,ref_ind,0], axis=1), axis=(1,2)))\n",
    "# nlls_test_all[:,:,:,1] = np.divide(nlls_test_all[:,:,:,0], np.expand_dims(np.nanmin(nlls_test_all[:,:,ref_ind,0], axis=1), axis=(1,2)))\n",
    "# if has_tr_subset:\n",
    "#     nlls_train_subset_all[:,:,:,1] = np.divide(nlls_train_subset_all[:,:,:,0], np.expand_dims(np.nanmin(nlls_train_subset_all[:,:,ref_ind,0], axis=1), axis=(1,2)))\n"
   ]
  },
  {
   "cell_type": "code",
   "execution_count": 376,
   "metadata": {},
   "outputs": [
    {
     "name": "stderr",
     "output_type": "stream",
     "text": [
      "/users/plevy/miniconda3/envs/pytorch-lcv/lib/python3.6/site-packages/ipykernel_launcher.py:23: RuntimeWarning: Mean of empty slice\n",
      "/users/plevy/miniconda3/envs/pytorch-lcv/lib/python3.6/site-packages/ipykernel_launcher.py:23: RuntimeWarning: Mean of empty slice\n",
      "/users/plevy/miniconda3/envs/pytorch-lcv/lib/python3.6/site-packages/ipykernel_launcher.py:23: RuntimeWarning: Mean of empty slice\n",
      "/users/plevy/miniconda3/envs/pytorch-lcv/lib/python3.6/site-packages/ipykernel_launcher.py:23: RuntimeWarning: Mean of empty slice\n",
      "/users/plevy/miniconda3/envs/pytorch-lcv/lib/python3.6/site-packages/ipykernel_launcher.py:23: RuntimeWarning: Mean of empty slice\n",
      "/users/plevy/miniconda3/envs/pytorch-lcv/lib/python3.6/site-packages/ipykernel_launcher.py:23: RuntimeWarning: Mean of empty slice\n",
      "/users/plevy/miniconda3/envs/pytorch-lcv/lib/python3.6/site-packages/ipykernel_launcher.py:23: RuntimeWarning: Mean of empty slice\n",
      "/users/plevy/miniconda3/envs/pytorch-lcv/lib/python3.6/site-packages/ipykernel_launcher.py:23: RuntimeWarning: Mean of empty slice\n",
      "/users/plevy/miniconda3/envs/pytorch-lcv/lib/python3.6/site-packages/ipykernel_launcher.py:23: RuntimeWarning: Mean of empty slice\n",
      "/users/plevy/miniconda3/envs/pytorch-lcv/lib/python3.6/site-packages/ipykernel_launcher.py:23: RuntimeWarning: Mean of empty slice\n",
      "/users/plevy/miniconda3/envs/pytorch-lcv/lib/python3.6/site-packages/ipykernel_launcher.py:23: RuntimeWarning: Mean of empty slice\n",
      "/users/plevy/miniconda3/envs/pytorch-lcv/lib/python3.6/site-packages/ipykernel_launcher.py:23: RuntimeWarning: Mean of empty slice\n",
      "/users/plevy/miniconda3/envs/pytorch-lcv/lib/python3.6/site-packages/ipykernel_launcher.py:23: RuntimeWarning: Mean of empty slice\n",
      "/users/plevy/miniconda3/envs/pytorch-lcv/lib/python3.6/site-packages/ipykernel_launcher.py:23: RuntimeWarning: Mean of empty slice\n",
      "/users/plevy/miniconda3/envs/pytorch-lcv/lib/python3.6/site-packages/ipykernel_launcher.py:23: RuntimeWarning: Mean of empty slice\n",
      "/users/plevy/miniconda3/envs/pytorch-lcv/lib/python3.6/site-packages/ipykernel_launcher.py:23: RuntimeWarning: Mean of empty slice\n",
      "/users/plevy/miniconda3/envs/pytorch-lcv/lib/python3.6/site-packages/ipykernel_launcher.py:23: RuntimeWarning: Mean of empty slice\n",
      "/users/plevy/miniconda3/envs/pytorch-lcv/lib/python3.6/site-packages/ipykernel_launcher.py:23: RuntimeWarning: Mean of empty slice\n",
      "/users/plevy/miniconda3/envs/pytorch-lcv/lib/python3.6/site-packages/ipykernel_launcher.py:23: RuntimeWarning: Mean of empty slice\n",
      "/users/plevy/miniconda3/envs/pytorch-lcv/lib/python3.6/site-packages/ipykernel_launcher.py:23: RuntimeWarning: Mean of empty slice\n",
      "/users/plevy/miniconda3/envs/pytorch-lcv/lib/python3.6/site-packages/ipykernel_launcher.py:11: RuntimeWarning: More than 20 figures have been opened. Figures created through the pyplot interface (`matplotlib.pyplot.figure`) are retained until explicitly closed and may consume too much memory. (To control this warning, see the rcParam `figure.max_open_warning`).\n",
      "  # This is added back by InteractiveShellApp.init_path()\n",
      "/users/plevy/miniconda3/envs/pytorch-lcv/lib/python3.6/site-packages/ipykernel_launcher.py:23: RuntimeWarning: Mean of empty slice\n",
      "/users/plevy/miniconda3/envs/pytorch-lcv/lib/python3.6/site-packages/ipykernel_launcher.py:23: RuntimeWarning: Mean of empty slice\n",
      "/users/plevy/miniconda3/envs/pytorch-lcv/lib/python3.6/site-packages/ipykernel_launcher.py:23: RuntimeWarning: Mean of empty slice\n",
      "/users/plevy/miniconda3/envs/pytorch-lcv/lib/python3.6/site-packages/ipykernel_launcher.py:23: RuntimeWarning: Mean of empty slice\n",
      "/users/plevy/miniconda3/envs/pytorch-lcv/lib/python3.6/site-packages/ipykernel_launcher.py:23: RuntimeWarning: Mean of empty slice\n",
      "/users/plevy/miniconda3/envs/pytorch-lcv/lib/python3.6/site-packages/ipykernel_launcher.py:23: RuntimeWarning: Mean of empty slice\n",
      "/users/plevy/miniconda3/envs/pytorch-lcv/lib/python3.6/site-packages/ipykernel_launcher.py:23: RuntimeWarning: Mean of empty slice\n",
      "/users/plevy/miniconda3/envs/pytorch-lcv/lib/python3.6/site-packages/ipykernel_launcher.py:23: RuntimeWarning: Mean of empty slice\n",
      "/users/plevy/miniconda3/envs/pytorch-lcv/lib/python3.6/site-packages/ipykernel_launcher.py:23: RuntimeWarning: Mean of empty slice\n",
      "/users/plevy/miniconda3/envs/pytorch-lcv/lib/python3.6/site-packages/ipykernel_launcher.py:23: RuntimeWarning: Mean of empty slice\n",
      "/users/plevy/miniconda3/envs/pytorch-lcv/lib/python3.6/site-packages/ipykernel_launcher.py:23: RuntimeWarning: Mean of empty slice\n",
      "/users/plevy/miniconda3/envs/pytorch-lcv/lib/python3.6/site-packages/ipykernel_launcher.py:23: RuntimeWarning: Mean of empty slice\n",
      "/users/plevy/miniconda3/envs/pytorch-lcv/lib/python3.6/site-packages/ipykernel_launcher.py:23: RuntimeWarning: Mean of empty slice\n",
      "/users/plevy/miniconda3/envs/pytorch-lcv/lib/python3.6/site-packages/ipykernel_launcher.py:23: RuntimeWarning: Mean of empty slice\n",
      "/users/plevy/miniconda3/envs/pytorch-lcv/lib/python3.6/site-packages/ipykernel_launcher.py:23: RuntimeWarning: Mean of empty slice\n",
      "/users/plevy/miniconda3/envs/pytorch-lcv/lib/python3.6/site-packages/ipykernel_launcher.py:23: RuntimeWarning: Mean of empty slice\n",
      "/users/plevy/miniconda3/envs/pytorch-lcv/lib/python3.6/site-packages/ipykernel_launcher.py:23: RuntimeWarning: Mean of empty slice\n",
      "/users/plevy/miniconda3/envs/pytorch-lcv/lib/python3.6/site-packages/ipykernel_launcher.py:23: RuntimeWarning: Mean of empty slice\n",
      "/users/plevy/miniconda3/envs/pytorch-lcv/lib/python3.6/site-packages/ipykernel_launcher.py:23: RuntimeWarning: Mean of empty slice\n",
      "/users/plevy/miniconda3/envs/pytorch-lcv/lib/python3.6/site-packages/ipykernel_launcher.py:23: RuntimeWarning: Mean of empty slice\n",
      "/users/plevy/miniconda3/envs/pytorch-lcv/lib/python3.6/site-packages/ipykernel_launcher.py:23: RuntimeWarning: Mean of empty slice\n",
      "/users/plevy/miniconda3/envs/pytorch-lcv/lib/python3.6/site-packages/ipykernel_launcher.py:23: RuntimeWarning: Mean of empty slice\n",
      "/users/plevy/miniconda3/envs/pytorch-lcv/lib/python3.6/site-packages/ipykernel_launcher.py:23: RuntimeWarning: Mean of empty slice\n",
      "/users/plevy/miniconda3/envs/pytorch-lcv/lib/python3.6/site-packages/ipykernel_launcher.py:23: RuntimeWarning: Mean of empty slice\n",
      "/users/plevy/miniconda3/envs/pytorch-lcv/lib/python3.6/site-packages/ipykernel_launcher.py:23: RuntimeWarning: Mean of empty slice\n",
      "/users/plevy/miniconda3/envs/pytorch-lcv/lib/python3.6/site-packages/ipykernel_launcher.py:23: RuntimeWarning: Mean of empty slice\n",
      "/users/plevy/miniconda3/envs/pytorch-lcv/lib/python3.6/site-packages/ipykernel_launcher.py:23: RuntimeWarning: Mean of empty slice\n",
      "/users/plevy/miniconda3/envs/pytorch-lcv/lib/python3.6/site-packages/ipykernel_launcher.py:23: RuntimeWarning: Mean of empty slice\n",
      "/users/plevy/miniconda3/envs/pytorch-lcv/lib/python3.6/site-packages/ipykernel_launcher.py:23: RuntimeWarning: Mean of empty slice\n",
      "/users/plevy/miniconda3/envs/pytorch-lcv/lib/python3.6/site-packages/ipykernel_launcher.py:23: RuntimeWarning: Mean of empty slice\n",
      "/users/plevy/miniconda3/envs/pytorch-lcv/lib/python3.6/site-packages/ipykernel_launcher.py:23: RuntimeWarning: Mean of empty slice\n",
      "/users/plevy/miniconda3/envs/pytorch-lcv/lib/python3.6/site-packages/ipykernel_launcher.py:23: RuntimeWarning: Mean of empty slice\n",
      "/users/plevy/miniconda3/envs/pytorch-lcv/lib/python3.6/site-packages/ipykernel_launcher.py:23: RuntimeWarning: Mean of empty slice\n",
      "/users/plevy/miniconda3/envs/pytorch-lcv/lib/python3.6/site-packages/ipykernel_launcher.py:23: RuntimeWarning: Mean of empty slice\n",
      "/users/plevy/miniconda3/envs/pytorch-lcv/lib/python3.6/site-packages/ipykernel_launcher.py:23: RuntimeWarning: Mean of empty slice\n",
      "/users/plevy/miniconda3/envs/pytorch-lcv/lib/python3.6/site-packages/ipykernel_launcher.py:23: RuntimeWarning: Mean of empty slice\n",
      "/users/plevy/miniconda3/envs/pytorch-lcv/lib/python3.6/site-packages/ipykernel_launcher.py:23: RuntimeWarning: Mean of empty slice\n",
      "/users/plevy/miniconda3/envs/pytorch-lcv/lib/python3.6/site-packages/ipykernel_launcher.py:23: RuntimeWarning: Mean of empty slice\n",
      "/users/plevy/miniconda3/envs/pytorch-lcv/lib/python3.6/site-packages/ipykernel_launcher.py:23: RuntimeWarning: Mean of empty slice\n",
      "/users/plevy/miniconda3/envs/pytorch-lcv/lib/python3.6/site-packages/ipykernel_launcher.py:23: RuntimeWarning: Mean of empty slice\n"
     ]
    },
    {
     "name": "stderr",
     "output_type": "stream",
     "text": [
      "/users/plevy/miniconda3/envs/pytorch-lcv/lib/python3.6/site-packages/ipykernel_launcher.py:23: RuntimeWarning: Mean of empty slice\n",
      "/users/plevy/miniconda3/envs/pytorch-lcv/lib/python3.6/site-packages/ipykernel_launcher.py:23: RuntimeWarning: Mean of empty slice\n",
      "/users/plevy/miniconda3/envs/pytorch-lcv/lib/python3.6/site-packages/ipykernel_launcher.py:23: RuntimeWarning: Mean of empty slice\n",
      "/users/plevy/miniconda3/envs/pytorch-lcv/lib/python3.6/site-packages/ipykernel_launcher.py:23: RuntimeWarning: Mean of empty slice\n",
      "/users/plevy/miniconda3/envs/pytorch-lcv/lib/python3.6/site-packages/ipykernel_launcher.py:23: RuntimeWarning: Mean of empty slice\n",
      "/users/plevy/miniconda3/envs/pytorch-lcv/lib/python3.6/site-packages/ipykernel_launcher.py:23: RuntimeWarning: Mean of empty slice\n",
      "/users/plevy/miniconda3/envs/pytorch-lcv/lib/python3.6/site-packages/ipykernel_launcher.py:23: RuntimeWarning: Mean of empty slice\n",
      "/users/plevy/miniconda3/envs/pytorch-lcv/lib/python3.6/site-packages/ipykernel_launcher.py:23: RuntimeWarning: Mean of empty slice\n",
      "/users/plevy/miniconda3/envs/pytorch-lcv/lib/python3.6/site-packages/ipykernel_launcher.py:23: RuntimeWarning: Mean of empty slice\n",
      "/users/plevy/miniconda3/envs/pytorch-lcv/lib/python3.6/site-packages/ipykernel_launcher.py:23: RuntimeWarning: Mean of empty slice\n",
      "/users/plevy/miniconda3/envs/pytorch-lcv/lib/python3.6/site-packages/ipykernel_launcher.py:23: RuntimeWarning: Mean of empty slice\n",
      "/users/plevy/miniconda3/envs/pytorch-lcv/lib/python3.6/site-packages/seaborn/categorical.py:1296: UserWarning: 50.0% of the points cannot be placed; you may want to decrease the size of the markers or use stripplot.\n",
      "  warnings.warn(msg, UserWarning)\n",
      "/users/plevy/miniconda3/envs/pytorch-lcv/lib/python3.6/site-packages/ipykernel_launcher.py:23: RuntimeWarning: Mean of empty slice\n",
      "/users/plevy/miniconda3/envs/pytorch-lcv/lib/python3.6/site-packages/seaborn/categorical.py:1296: UserWarning: 50.0% of the points cannot be placed; you may want to decrease the size of the markers or use stripplot.\n",
      "  warnings.warn(msg, UserWarning)\n",
      "/users/plevy/miniconda3/envs/pytorch-lcv/lib/python3.6/site-packages/ipykernel_launcher.py:23: RuntimeWarning: Mean of empty slice\n",
      "/users/plevy/miniconda3/envs/pytorch-lcv/lib/python3.6/site-packages/ipykernel_launcher.py:23: RuntimeWarning: Mean of empty slice\n",
      "/users/plevy/miniconda3/envs/pytorch-lcv/lib/python3.6/site-packages/ipykernel_launcher.py:23: RuntimeWarning: Mean of empty slice\n",
      "/users/plevy/miniconda3/envs/pytorch-lcv/lib/python3.6/site-packages/ipykernel_launcher.py:23: RuntimeWarning: Mean of empty slice\n",
      "/users/plevy/miniconda3/envs/pytorch-lcv/lib/python3.6/site-packages/ipykernel_launcher.py:23: RuntimeWarning: Mean of empty slice\n",
      "/users/plevy/miniconda3/envs/pytorch-lcv/lib/python3.6/site-packages/ipykernel_launcher.py:23: RuntimeWarning: Mean of empty slice\n",
      "/users/plevy/miniconda3/envs/pytorch-lcv/lib/python3.6/site-packages/ipykernel_launcher.py:23: RuntimeWarning: Mean of empty slice\n",
      "/users/plevy/miniconda3/envs/pytorch-lcv/lib/python3.6/site-packages/ipykernel_launcher.py:23: RuntimeWarning: Mean of empty slice\n",
      "/users/plevy/miniconda3/envs/pytorch-lcv/lib/python3.6/site-packages/seaborn/categorical.py:1296: UserWarning: 50.0% of the points cannot be placed; you may want to decrease the size of the markers or use stripplot.\n",
      "  warnings.warn(msg, UserWarning)\n",
      "/users/plevy/miniconda3/envs/pytorch-lcv/lib/python3.6/site-packages/ipykernel_launcher.py:23: RuntimeWarning: Mean of empty slice\n",
      "/users/plevy/miniconda3/envs/pytorch-lcv/lib/python3.6/site-packages/seaborn/categorical.py:1296: UserWarning: 50.0% of the points cannot be placed; you may want to decrease the size of the markers or use stripplot.\n",
      "  warnings.warn(msg, UserWarning)\n"
     ]
    },
    {
     "data": {
      "text/plain": [
       "<Figure size 2160x720 with 0 Axes>"
      ]
     },
     "metadata": {},
     "output_type": "display_data"
    },
    {
     "data": {
      "text/plain": [
       "<Figure size 2160x720 with 0 Axes>"
      ]
     },
     "metadata": {},
     "output_type": "display_data"
    },
    {
     "data": {
      "text/plain": [
       "<Figure size 2160x720 with 0 Axes>"
      ]
     },
     "metadata": {},
     "output_type": "display_data"
    },
    {
     "data": {
      "text/plain": [
       "<Figure size 2160x720 with 0 Axes>"
      ]
     },
     "metadata": {},
     "output_type": "display_data"
    },
    {
     "data": {
      "text/plain": [
       "<Figure size 2160x720 with 0 Axes>"
      ]
     },
     "metadata": {},
     "output_type": "display_data"
    },
    {
     "data": {
      "text/plain": [
       "<Figure size 2160x720 with 0 Axes>"
      ]
     },
     "metadata": {},
     "output_type": "display_data"
    },
    {
     "data": {
      "text/plain": [
       "<Figure size 2160x720 with 0 Axes>"
      ]
     },
     "metadata": {},
     "output_type": "display_data"
    },
    {
     "data": {
      "text/plain": [
       "<Figure size 2160x720 with 0 Axes>"
      ]
     },
     "metadata": {},
     "output_type": "display_data"
    },
    {
     "data": {
      "text/plain": [
       "<Figure size 2160x720 with 0 Axes>"
      ]
     },
     "metadata": {},
     "output_type": "display_data"
    },
    {
     "data": {
      "text/plain": [
       "<Figure size 2160x720 with 0 Axes>"
      ]
     },
     "metadata": {},
     "output_type": "display_data"
    },
    {
     "data": {
      "text/plain": [
       "<Figure size 2160x720 with 0 Axes>"
      ]
     },
     "metadata": {},
     "output_type": "display_data"
    },
    {
     "data": {
      "text/plain": [
       "<Figure size 2160x720 with 0 Axes>"
      ]
     },
     "metadata": {},
     "output_type": "display_data"
    },
    {
     "data": {
      "text/plain": [
       "<Figure size 2160x720 with 0 Axes>"
      ]
     },
     "metadata": {},
     "output_type": "display_data"
    },
    {
     "data": {
      "text/plain": [
       "<Figure size 2160x720 with 0 Axes>"
      ]
     },
     "metadata": {},
     "output_type": "display_data"
    },
    {
     "data": {
      "text/plain": [
       "<Figure size 2160x720 with 0 Axes>"
      ]
     },
     "metadata": {},
     "output_type": "display_data"
    },
    {
     "data": {
      "text/plain": [
       "<Figure size 2160x720 with 0 Axes>"
      ]
     },
     "metadata": {},
     "output_type": "display_data"
    },
    {
     "data": {
      "text/plain": [
       "<Figure size 2160x720 with 0 Axes>"
      ]
     },
     "metadata": {},
     "output_type": "display_data"
    },
    {
     "data": {
      "text/plain": [
       "<Figure size 2160x720 with 0 Axes>"
      ]
     },
     "metadata": {},
     "output_type": "display_data"
    },
    {
     "data": {
      "text/plain": [
       "<Figure size 2160x720 with 0 Axes>"
      ]
     },
     "metadata": {},
     "output_type": "display_data"
    },
    {
     "data": {
      "text/plain": [
       "<Figure size 2160x720 with 0 Axes>"
      ]
     },
     "metadata": {},
     "output_type": "display_data"
    },
    {
     "data": {
      "text/plain": [
       "<Figure size 2160x720 with 0 Axes>"
      ]
     },
     "metadata": {},
     "output_type": "display_data"
    },
    {
     "data": {
      "text/plain": [
       "<Figure size 2160x720 with 0 Axes>"
      ]
     },
     "metadata": {},
     "output_type": "display_data"
    },
    {
     "data": {
      "text/plain": [
       "<Figure size 2160x720 with 0 Axes>"
      ]
     },
     "metadata": {},
     "output_type": "display_data"
    },
    {
     "data": {
      "text/plain": [
       "<Figure size 2160x720 with 0 Axes>"
      ]
     },
     "metadata": {},
     "output_type": "display_data"
    },
    {
     "data": {
      "text/plain": [
       "<Figure size 2160x720 with 0 Axes>"
      ]
     },
     "metadata": {},
     "output_type": "display_data"
    },
    {
     "data": {
      "text/plain": [
       "<Figure size 2160x720 with 0 Axes>"
      ]
     },
     "metadata": {},
     "output_type": "display_data"
    },
    {
     "data": {
      "text/plain": [
       "<Figure size 2160x720 with 0 Axes>"
      ]
     },
     "metadata": {},
     "output_type": "display_data"
    },
    {
     "data": {
      "text/plain": [
       "<Figure size 2160x720 with 0 Axes>"
      ]
     },
     "metadata": {},
     "output_type": "display_data"
    },
    {
     "data": {
      "text/plain": [
       "<Figure size 2160x720 with 0 Axes>"
      ]
     },
     "metadata": {},
     "output_type": "display_data"
    },
    {
     "data": {
      "text/plain": [
       "<Figure size 2160x720 with 0 Axes>"
      ]
     },
     "metadata": {},
     "output_type": "display_data"
    },
    {
     "data": {
      "text/plain": [
       "<Figure size 2160x720 with 0 Axes>"
      ]
     },
     "metadata": {},
     "output_type": "display_data"
    },
    {
     "data": {
      "text/plain": [
       "<Figure size 2160x720 with 0 Axes>"
      ]
     },
     "metadata": {},
     "output_type": "display_data"
    },
    {
     "data": {
      "text/plain": [
       "<Figure size 2160x720 with 0 Axes>"
      ]
     },
     "metadata": {},
     "output_type": "display_data"
    },
    {
     "data": {
      "text/plain": [
       "<Figure size 2160x720 with 0 Axes>"
      ]
     },
     "metadata": {},
     "output_type": "display_data"
    },
    {
     "data": {
      "text/plain": [
       "<Figure size 2160x720 with 0 Axes>"
      ]
     },
     "metadata": {},
     "output_type": "display_data"
    },
    {
     "data": {
      "text/plain": [
       "<Figure size 2160x720 with 0 Axes>"
      ]
     },
     "metadata": {},
     "output_type": "display_data"
    },
    {
     "data": {
      "text/plain": [
       "<Figure size 2160x720 with 0 Axes>"
      ]
     },
     "metadata": {},
     "output_type": "display_data"
    },
    {
     "data": {
      "text/plain": [
       "<Figure size 2160x720 with 0 Axes>"
      ]
     },
     "metadata": {},
     "output_type": "display_data"
    },
    {
     "data": {
      "text/plain": [
       "<Figure size 2160x720 with 0 Axes>"
      ]
     },
     "metadata": {},
     "output_type": "display_data"
    },
    {
     "data": {
      "text/plain": [
       "<Figure size 2160x720 with 0 Axes>"
      ]
     },
     "metadata": {},
     "output_type": "display_data"
    },
    {
     "data": {
      "text/plain": [
       "<Figure size 2160x720 with 0 Axes>"
      ]
     },
     "metadata": {},
     "output_type": "display_data"
    },
    {
     "data": {
      "text/plain": [
       "<Figure size 2160x720 with 0 Axes>"
      ]
     },
     "metadata": {},
     "output_type": "display_data"
    },
    {
     "data": {
      "text/plain": [
       "<Figure size 2160x720 with 0 Axes>"
      ]
     },
     "metadata": {},
     "output_type": "display_data"
    },
    {
     "data": {
      "text/plain": [
       "<Figure size 2160x720 with 0 Axes>"
      ]
     },
     "metadata": {},
     "output_type": "display_data"
    },
    {
     "data": {
      "text/plain": [
       "<Figure size 2160x720 with 0 Axes>"
      ]
     },
     "metadata": {},
     "output_type": "display_data"
    },
    {
     "data": {
      "text/plain": [
       "<Figure size 2160x720 with 0 Axes>"
      ]
     },
     "metadata": {},
     "output_type": "display_data"
    },
    {
     "data": {
      "text/plain": [
       "<Figure size 2160x720 with 0 Axes>"
      ]
     },
     "metadata": {},
     "output_type": "display_data"
    },
    {
     "data": {
      "text/plain": [
       "<Figure size 2160x720 with 0 Axes>"
      ]
     },
     "metadata": {},
     "output_type": "display_data"
    },
    {
     "data": {
      "text/plain": [
       "<Figure size 2160x720 with 0 Axes>"
      ]
     },
     "metadata": {},
     "output_type": "display_data"
    },
    {
     "data": {
      "text/plain": [
       "<Figure size 2160x720 with 0 Axes>"
      ]
     },
     "metadata": {},
     "output_type": "display_data"
    },
    {
     "data": {
      "text/plain": [
       "<Figure size 2160x720 with 0 Axes>"
      ]
     },
     "metadata": {},
     "output_type": "display_data"
    },
    {
     "data": {
      "text/plain": [
       "<Figure size 2160x720 with 0 Axes>"
      ]
     },
     "metadata": {},
     "output_type": "display_data"
    },
    {
     "data": {
      "text/plain": [
       "<Figure size 2160x720 with 0 Axes>"
      ]
     },
     "metadata": {},
     "output_type": "display_data"
    },
    {
     "data": {
      "text/plain": [
       "<Figure size 2160x720 with 0 Axes>"
      ]
     },
     "metadata": {},
     "output_type": "display_data"
    },
    {
     "data": {
      "text/plain": [
       "<Figure size 2160x720 with 0 Axes>"
      ]
     },
     "metadata": {},
     "output_type": "display_data"
    },
    {
     "data": {
      "text/plain": [
       "<Figure size 2160x720 with 0 Axes>"
      ]
     },
     "metadata": {},
     "output_type": "display_data"
    },
    {
     "data": {
      "text/plain": [
       "<Figure size 2160x720 with 0 Axes>"
      ]
     },
     "metadata": {},
     "output_type": "display_data"
    },
    {
     "data": {
      "text/plain": [
       "<Figure size 2160x720 with 0 Axes>"
      ]
     },
     "metadata": {},
     "output_type": "display_data"
    },
    {
     "data": {
      "text/plain": [
       "<Figure size 2160x720 with 0 Axes>"
      ]
     },
     "metadata": {},
     "output_type": "display_data"
    },
    {
     "data": {
      "text/plain": [
       "<Figure size 2160x720 with 0 Axes>"
      ]
     },
     "metadata": {},
     "output_type": "display_data"
    },
    {
     "data": {
      "text/plain": [
       "<Figure size 2160x720 with 0 Axes>"
      ]
     },
     "metadata": {},
     "output_type": "display_data"
    },
    {
     "data": {
      "text/plain": [
       "<Figure size 2160x720 with 0 Axes>"
      ]
     },
     "metadata": {},
     "output_type": "display_data"
    },
    {
     "data": {
      "text/plain": [
       "<Figure size 2160x720 with 0 Axes>"
      ]
     },
     "metadata": {},
     "output_type": "display_data"
    },
    {
     "data": {
      "text/plain": [
       "<Figure size 2160x720 with 0 Axes>"
      ]
     },
     "metadata": {},
     "output_type": "display_data"
    },
    {
     "data": {
      "text/plain": [
       "<Figure size 2160x720 with 0 Axes>"
      ]
     },
     "metadata": {},
     "output_type": "display_data"
    },
    {
     "data": {
      "text/plain": [
       "<Figure size 2160x720 with 0 Axes>"
      ]
     },
     "metadata": {},
     "output_type": "display_data"
    },
    {
     "data": {
      "text/plain": [
       "<Figure size 2160x720 with 0 Axes>"
      ]
     },
     "metadata": {},
     "output_type": "display_data"
    },
    {
     "data": {
      "text/plain": [
       "<Figure size 2160x720 with 0 Axes>"
      ]
     },
     "metadata": {},
     "output_type": "display_data"
    },
    {
     "data": {
      "text/plain": [
       "<Figure size 2160x720 with 0 Axes>"
      ]
     },
     "metadata": {},
     "output_type": "display_data"
    },
    {
     "data": {
      "text/plain": [
       "<Figure size 2160x720 with 0 Axes>"
      ]
     },
     "metadata": {},
     "output_type": "display_data"
    },
    {
     "data": {
      "text/plain": [
       "<Figure size 2160x720 with 0 Axes>"
      ]
     },
     "metadata": {},
     "output_type": "display_data"
    },
    {
     "data": {
      "text/plain": [
       "<Figure size 2160x720 with 0 Axes>"
      ]
     },
     "metadata": {},
     "output_type": "display_data"
    },
    {
     "data": {
      "text/plain": [
       "<Figure size 2160x720 with 0 Axes>"
      ]
     },
     "metadata": {},
     "output_type": "display_data"
    },
    {
     "data": {
      "text/plain": [
       "<Figure size 2160x720 with 0 Axes>"
      ]
     },
     "metadata": {},
     "output_type": "display_data"
    },
    {
     "data": {
      "text/plain": [
       "<Figure size 2160x720 with 0 Axes>"
      ]
     },
     "metadata": {},
     "output_type": "display_data"
    },
    {
     "data": {
      "text/plain": [
       "<Figure size 2160x720 with 0 Axes>"
      ]
     },
     "metadata": {},
     "output_type": "display_data"
    },
    {
     "data": {
      "text/plain": [
       "<Figure size 2160x720 with 0 Axes>"
      ]
     },
     "metadata": {},
     "output_type": "display_data"
    },
    {
     "data": {
      "text/plain": [
       "<Figure size 2160x720 with 0 Axes>"
      ]
     },
     "metadata": {},
     "output_type": "display_data"
    },
    {
     "data": {
      "text/plain": [
       "<Figure size 2160x720 with 0 Axes>"
      ]
     },
     "metadata": {},
     "output_type": "display_data"
    },
    {
     "data": {
      "text/plain": [
       "<Figure size 2160x720 with 0 Axes>"
      ]
     },
     "metadata": {},
     "output_type": "display_data"
    },
    {
     "data": {
      "text/plain": [
       "<Figure size 2160x720 with 0 Axes>"
      ]
     },
     "metadata": {},
     "output_type": "display_data"
    }
   ],
   "source": [
    "# lbl = ['train', 'subset(tr)', 'test']\n",
    "# all_data = [nlls_train_all, nlls_train_subset_all, nlls_test_all]\n",
    "# # lbl = ['train', 'test']\n",
    "# # all_data = [nlls_train_all, nlls_test_all]\n",
    "\n",
    "# nComps = len(lbl);\n",
    "\n",
    "# for cell_num in range(nCells):\n",
    "\n",
    "#     sharey = True if nComps>2 else False;\n",
    "#     f, ax = plt.subplots(1, nComps, figsize=(nComps*10,10), sharey=sharey);\n",
    "\n",
    "# #     # train\n",
    "# #     sns.swarmplot(x=np.tile(np.arange(nMods), nBoots), y=hf.flatten_list(nlls_train_all[cell_num,:,:,0]), hue=np.tile([param_color[nFreeParams[x]] for x in range(nMods)], nBoots), alpha=0.5, ax=ax[0]);\n",
    "# #     [ax[0].plot(i+0.25, np.nanmean(nlls_train_all[cell_num,:,i,0]), '<', color=param_color[nFreeParams[i]], markersize=10) for i in range(nMods)];\n",
    "\n",
    "# #     # test\n",
    "# #     sns.swarmplot(x=np.tile(np.arange(nMods), nBoots), y=hf.flatten_list(nlls_test_all[cell_num,:,:,0]), hue=np.tile([param_color[nFreeParams[x]] for x in range(nMods)], nBoots), alpha=0.5, ax=ax[1]);\n",
    "# #     [ax[1].plot(i+0.25, np.nanmean(nlls_test_all[cell_num,:,i,0]), '<', color=param_color[nFreeParams[i]], markersize=10) for i in range(nMods)];\n",
    "\n",
    "#     for j,dta in enumerate(all_data):\n",
    "#         sns.swarmplot(x=np.tile(np.arange(nMods), nBoots), y=hf.flatten_list(dta[cell_num,:,:,0]), hue=np.tile([param_color[nFreeParams[x]] for x in range(nMods)], nBoots), alpha=0.5, ax=ax[j]);\n",
    "#         [ax[j].plot(i+0.25, np.nanmean(dta[cell_num,:,i,0]), '<', color=param_color[nFreeParams[i]], markersize=10) for i in range(nMods)];\n",
    "\n",
    "#     sns.despine(offset=10)\n",
    "#     f.suptitle('Comparing models with cross-validation')\n",
    "\n",
    "#     for i in range(nComps):\n",
    "#         ax[i].set_xlabel('Model');\n",
    "#         ax[i].set_ylabel('Loss per joint fit')\n",
    "#         ax[i].set_title('%s' % lbl[i]);\n",
    "#         ax[i].set_xticklabels(labels=[r'$\\Delta$%s' % x for x in names], rotation=30);\n",
    "\n",
    "#     saveName = \"/01_01_02b_comps_%s/cell_%03d.pdf\" % (date, cell_num+1);\n",
    "#     curr_dir = os.path.dirname(save_loc+saveName);\n",
    "#     if not os.path.exists(curr_dir):\n",
    "#         os.makedirs(curr_dir);\n",
    "#     pdfSv = pltSave.PdfPages(save_loc + saveName);\n",
    "#     pdfSv.savefig(f); # only one figure here...\n",
    "#     pdfSv.close()\n",
    "#     f.clf();"
   ]
  },
  {
   "cell_type": "markdown",
   "metadata": {},
   "source": [
    "#### Cross-validation by condition\n",
    "\n",
    "Rather than withholding a certain fraction of trials in each condition, we can also cross-validate by leaving out one condition per fit, and evaluating the loss on that heldout condition."
   ]
  },
  {
   "cell_type": "code",
   "execution_count": 1789,
   "metadata": {},
   "outputs": [
    {
     "data": {
      "text/plain": [
       "['LGN', 'LGN/sach/']"
      ]
     },
     "execution_count": 1789,
     "metadata": {},
     "output_type": "execute_result"
    }
   ],
   "source": [
    "expDirs"
   ]
  },
  {
   "cell_type": "code",
   "execution_count": 1921,
   "metadata": {},
   "outputs": [
    {
     "name": "stdout",
     "output_type": "stream",
     "text": [
      "LGN --> 81 cells\n",
      "LGN/sach/ --> 34 cells\n"
     ]
    },
    {
     "name": "stderr",
     "output_type": "stream",
     "text": [
      "/users/plevy/miniconda3/envs/pytorch-lcv/lib/python3.6/site-packages/ipykernel_launcher.py:156: DeprecationWarning: elementwise comparison failed; this will raise an error in the future.\n"
     ]
    }
   ],
   "source": [
    "# Specify which data to load\n",
    "# -- for LGN, use 220505\n",
    "# -- for Sach, use 220510\n",
    "\n",
    "# thresh = 10;\n",
    "thresh = -1e5;\n",
    "\n",
    "phAdj = 1;\n",
    "# phAdj = 0;\n",
    "\n",
    "nlls_summary_all = [];\n",
    "\n",
    "for expDir in expDirs:\n",
    "\n",
    "    # Load the datalist, so that we can check the responses, and only consider responses > 5 spks/sec?\n",
    "    if 'ach' not in expDir:\n",
    "        dl_name = hf.get_datalist(expDir+'/')\n",
    "    else:\n",
    "        dl_name = 'sachData.npy'\n",
    "    dl = hf.np_smart_load('%s/structures/%s' % (expDir, dl_name));\n",
    "    if 'ach' not in expDir:\n",
    "        cell_names = dl['unitName'];\n",
    "\n",
    "    isSach = 1 if 'sach' in expDir else 0;\n",
    "    expDir_str = 'sach' if isSach else expDir\n",
    "    if phAdj:\n",
    "        date = '220607'\n",
    "#         date = '220513a' if isSach else '220512'\n",
    "    else:\n",
    "        date = '220510' if isSach else '220519'\n",
    "    #     date = '220510' if isSach else '220505'\n",
    "    isHPC = 1;\n",
    "    loss_type = 2;\n",
    "    dog_model = 1;\n",
    "    if isSach:\n",
    "        dogName = 'descrFits%s_s%s' % ('HPC' if isHPC else '', date);\n",
    "    else:\n",
    "        dogName = 'descrFits%s_%s' % ('HPC' if isHPC else '', date);\n",
    "\n",
    "    nMods = len(joints);\n",
    "    ref_ind = 1; # in the index of the joints that we'll use as the reference\n",
    "\n",
    "    ref_mod = hf.np_smart_load('%s/structures/%s' % (expDir, hf.descrFit_name(loss_type, descrBase=dogName, modelName=hf.descrMod_name(dog_model), joint=joints[ref_ind], phAdj=phAdj)));\n",
    "    nCells = len(ref_mod.keys());\n",
    "    if isSach:\n",
    "        nBoots = ref_mod[0]['boot_paramList'].shape[0];\n",
    "    else:\n",
    "        nBoots = ref_mod[0]['boot_paramList'].shape[0];\n",
    "\n",
    "    print('%s --> %02d cells' % (expDir, nCells))\n",
    "    \n",
    "    # Now, organize all of the loss values - raw and normalized by the reference models\n",
    "    train_ind=0;\n",
    "    test_ind=1;\n",
    "    ### As for organizing/analyzing, let's do the following:\n",
    "    # 1. Here, each model gets one number - total loss across all conditions\n",
    "    # --- then ...,2 for non-heldout total LOSS [0] and [1] for the sum of all single-condition-holdout test losses\n",
    "    nlls_summary = np.nan * np.zeros((nCells, nMods, 2));\n",
    "    # 2. Now, split the loss into condition - i.e. one test loss per sfXcon condition\n",
    "    # --- and again ...,2 for loss when condition incl. in fit [0] and [1] heldout (i.e. test)\n",
    "    # - Well, first we need to find out how many CONS/SFS for each cell\n",
    "    # --- we can work backwords, since nBoots for c-v by cond. is nB=nCons*nSfs and the length of NLL is #cons\n",
    "    if isSach:\n",
    "        nCons_perCell = np.array([ref_mod[c]['NLL'].shape[-1] for c in ref_mod.keys()]);\n",
    "        nBoots_perCell = np.array([ref_mod[c]['boot_NLL_cv_test'].shape[0] for c in ref_mod.keys()]);\n",
    "    else:\n",
    "        nCons_perCell = np.array([np.sum(~np.isnan(ref_mod[c]['NLL'][0])) for c in ref_mod.keys()]);\n",
    "        nBoots_perCell = np.array([ref_mod[c]['boot_NLL_cv_test'][0].shape[0] for c in ref_mod.keys()]);\n",
    "    nSfs_perCell = np.divide(nBoots_perCell, nCons_perCell).astype('int');\n",
    "    nCons, nSfs = np.max(nCons_perCell), np.max(nSfs_perCell);\n",
    "    # NOTE: As of 22.05.11, we can only evaluate loss per contrast for the full model (i.e. train)\n",
    "    nlls_summary_perCon = np.nan * np.zeros((nCells, nMods, nCons, 2));\n",
    "    nlls_summary_perSf = np.nan * np.zeros((nCells, nMods, nSfs, 2));\n",
    "    # nlls_summary_perCond = np.nan * np.zeros((nCells, nMods, nCons, nSfs, 2));\n",
    "    sfs_perCell = [];\n",
    "    ref_charFreq_perCell = [];\n",
    "\n",
    "    for i,j in enumerate(joints):\n",
    "        curr_mod = hf.np_smart_load('%s/structures/%s' % (expDir, hf.descrFit_name(loss_type, descrBase=dogName, modelName=hf.descrMod_name(dog_model), joint=j, phAdj=phAdj)));\n",
    "        for c in range(nCells):\n",
    "\n",
    "            # let's find out the high contrast char. freq as inferred from the ref mod\n",
    "            if not isSach:\n",
    "                ref_charFreq_perCell.append(hf.dog_charFreq(ref_mod[c]['params'][0,-1], DoGmodel=dog_model));\n",
    "            else: # high contrast\n",
    "                ref_charFreq_perCell.append(hf.dog_charFreq(ref_mod[c]['params'][-1], DoGmodel=dog_model));\n",
    "\n",
    "            test_nll = np.copy(curr_mod[c]['boot_NLL_cv_test']) if isSach else curr_mod[c]['boot_NLL_cv_test'][0];\n",
    "            \n",
    "            if thresh>0:\n",
    "                cell_name = cell_names[c] if not isSach else dl[c]['cellName']\n",
    "\n",
    "                # let's also load the current cell and get the SFS so we can:\n",
    "                # - evaluate the REFERENCE model (only) on these SFS\n",
    "                # --- why ref. model? so that we make sure that we consider the same conditions for all models\n",
    "                # - and optionally filter out any conditions with a response below a particular value\n",
    "                # NOTE: boot_NLL_cv conditions are ordered by sf\n",
    "                # -- i.e. conditions 0-X are the lowest contrast, first X SFs; then X+1-2x are second lowest contrast...and so on\n",
    "                curr_cell = hf.np_smart_load('%s/structures/%s_sfm.npy' % (expDir, cell_names[c]));\n",
    "                expInd = hf.get_exp_ind('%s/structures/' % expDir, cell_names[c])[0];\n",
    "                _,conds,vc,_,_=hf.tabulate_responses(curr_cell['sfm']['exp']['trial'], expInd=expInd)\n",
    "                sfs = conds[2]\n",
    "                sfs_perCell.append(sfs);\n",
    "                mod_resps = np.array([hf.get_descrResp(ref_mod[c]['params'][0,x], sfs, DoGmodel=dog_model) for x in np.where(~np.isnan(ref_mod[c]['params'][0,:,-1]))[0]]);\n",
    "                # ^ mod_resps is nCons x nSfs (i.e. exactly as boot_NLL_cv once flattened)\n",
    "                mod_rps = mod_resps.flatten();\n",
    "                inval_conds = np.where(mod_rps<thresh)[0];\n",
    "\n",
    "                if isSach:\n",
    "                    test_nll[inval_conds] = 0; # just zero it\n",
    "                else:\n",
    "                    test_nll[inval_conds,0] = 0; # just zero it           \n",
    "\n",
    "            # First, handle the totalNLL\n",
    "            # -- train\n",
    "            try:\n",
    "                if j>0:\n",
    "                    nlls_summary[c,i,train_ind] = curr_mod[c]['totalNLL'] if isSach else curr_mod[c]['totalNLL'][0] \n",
    "                else:\n",
    "                    nlls_summary[c,i,train_ind] = np.nansum(curr_mod[c]['NLL']) if isSach else np.nansum(curr_mod[c]['NLL'][0])\n",
    "            except:\n",
    "                pass;\n",
    "            # -- test\n",
    "            try:\n",
    "                nlls_summary[c,i,test_ind] = np.nansum(test_nll) if isSach else np.nansum(test_nll[:,0]); # if not Sach, we have to specify that it's zero dispersion\n",
    "            except:\n",
    "                pass;\n",
    "            # Now, we'll split per contrast\n",
    "            # -- train\n",
    "            try:\n",
    "                curr_perCond = hf.nan_rm(curr_mod[c]['NLL']) if isSach else hf.nan_rm(curr_mod[c]['NLL'][0]);\n",
    "                nlls_summary_perCon[c,i,0:len(curr_perCond),train_ind] = curr_perCond;\n",
    "            except:\n",
    "                pass;\n",
    "            # -- test\n",
    "            try:\n",
    "                # by contrast\n",
    "                curr_perCond = np.nansum(test_nll, axis=0) if isSach else np.nansum(test_nll[:,0],axis=0)\n",
    "                curr_perCond = curr_perCond[curr_perCond>0]; # if it's 0, then this is just a missing condition\n",
    "                nlls_summary_perCon[c,i,0:len(curr_perCond),test_ind] = curr_perCond;\n",
    "                # and now, by SF, too\n",
    "                nConds = curr_mod[c]['boot_NLL_cv_test'].shape[0] if isSach else curr_mod[c]['boot_NLL_cv_test'][0].shape[0];\n",
    "                nSfs_curr=nSfs_perCell[c];x\n",
    "                if isSach:\n",
    "                    curr_perCond = np.array([np.nansum([test_nll[tot_ind,con_ind] for con_ind,tot_ind in enumerate(np.arange(x, nConds, nSfs_curr))]) for x in range(nSfs_curr)]);\n",
    "                else:\n",
    "                    val_cons = vc[0]; # 0 disp case\n",
    "                    # why? for my data, we need to access only the relevant contrast indices\n",
    "                    curr_perCond = np.array([np.nansum([test_nll[tot_ind,0,val_cons[con_ind]] for con_ind,tot_ind in enumerate(np.arange(x, nConds, nSfs_curr))]) for x in range(nSfs_curr)]);\n",
    "                curr_perCond = curr_perCond[curr_perCond>0]; # if it's 0, then this is just a missing condition\n",
    "                nlls_summary_perSf[c,i,0:len(curr_perCond),test_ind] = curr_perCond;\n",
    "            except:\n",
    "                pass;\n",
    "            \n",
    "    # then, combine!\n",
    "    if nlls_summary_all == []:\n",
    "        nlls_summary_all = nlls_summary;\n",
    "    else:\n",
    "        nlls_summary_all = np.vstack((nlls_summary_all, nlls_summary));\n"
   ]
  },
  {
   "cell_type": "markdown",
   "metadata": {},
   "source": [
    "##### Now, let's get some summaries/plots\n",
    "First, across cells"
   ]
  },
  {
   "cell_type": "code",
   "execution_count": 1922,
   "metadata": {},
   "outputs": [
    {
     "data": {
      "image/png": "[encoded data removed]",
      "text/plain": [
       "<Figure size 720x360 with 1 Axes>"
      ]
     },
     "metadata": {
      "needs_background": "light"
     },
     "output_type": "display_data"
    }
   ],
   "source": [
    "plt.figure(figsize=(10,5))\n",
    "\n",
    "# Here's how we can find out which model had the lowest loss across cells\n",
    "lowest = np.argmin(nlls_summary_all[:,:,test_ind],axis=1)\n",
    "_, freqs = np.unique(lowest, return_counts=True)\n",
    "nCells = nlls_summary_all.shape[0]\n",
    "\n",
    "plt.bar(range(nMods), height=freqs/np.sum(freqs), color=[param_color[x] for x in nFreeParams])\n",
    "sns.despine(offset=10)\n",
    "\n",
    "plt.xlabel('model');\n",
    "plt.ylabel('Fraction that model was best');\n",
    "plt.tick_params(axis='x', which='minor', bottom=False)\n",
    "plt.xticks(ticks=np.arange(nMods), labels=[r'$\\Delta$%s' % x for x in names], rotation=30);\n",
    "plt.title('Cros-validated test performance (LGN, %s)' % date);\n",
    "\n"
   ]
  },
  {
   "cell_type": "code",
   "execution_count": 1923,
   "metadata": {},
   "outputs": [
    {
     "name": "stdout",
     "output_type": "stream",
     "text": [
      "(4.3%) 05 out of 115 cells: free had the lowest test loss\n",
      "(9.6%) 11 out of 115 cells: ctr. r. + vol had the lowest test loss\n",
      "(47.0%) 54 out of 115 cells: ctr. r had the lowest test loss\n",
      "(39.1%) 45 out of 115 cells: ctr.r. slope, surrRad had the lowest test loss\n"
     ]
    },
    {
     "data": {
      "text/plain": [
       "[None, None, None, None]"
      ]
     },
     "execution_count": 1923,
     "metadata": {},
     "output_type": "execute_result"
    }
   ],
   "source": [
    "[print('(%.1f%%) %02d out of %02d cells: %s had the lowest test loss' % (100*f/nCells, f,nCells,n)) for n,f in zip(names,freqs)]"
   ]
  },
  {
   "cell_type": "code",
   "execution_count": 1924,
   "metadata": {},
   "outputs": [
    {
     "name": "stdout",
     "output_type": "stream",
     "text": [
      "free model was best for cells: [25 34 56 66 81]\n",
      "ctr. r. + vol model was best for cells: [ 18  19  20  32  55  61  64  69  76  78 106]\n",
      "ctr. r model was best for cells: [  4   5   7   8  10  11  14  16  21  22  23  24  26  27  28  29  35  36\n",
      "  38  39  41  42  44  45  46  47  48  49  52  53  58  62  67  75  83  84\n",
      "  85  88  91  95  96  97  98  99 100 101 102 103 104 107 108 113 114 115]\n",
      "ctr.r. slope, surrRad model was best for cells: [  1   2   3   6   9  12  13  15  17  30  31  33  37  40  43  50  51  54\n",
      "  57  59  60  63  65  68  70  71  72  73  74  77  79  80  82  86  87  89\n",
      "  90  92  93  94 105 109 110 111 112]\n"
     ]
    }
   ],
   "source": [
    "# And just for debugging purposes, let's list out the cells for which each model was best\n",
    "for ind in np.unique(lowest):\n",
    "    bests = np.where(lowest==ind)[0];\n",
    "    if len(bests)>0:\n",
    "        print('%s model was best for cells: %s' % (names[ind], np.array2string(bests+1))) # add 1 to go from index to cell#\n",
    "    else:\n",
    "        print('%s model was never the best!')"
   ]
  },
  {
   "cell_type": "markdown",
   "metadata": {},
   "source": [
    "Now, let's look _within_ each cell, across contrasts"
   ]
  },
  {
   "cell_type": "code",
   "execution_count": 1890,
   "metadata": {},
   "outputs": [
    {
     "name": "stderr",
     "output_type": "stream",
     "text": [
      "/users/plevy/miniconda3/envs/pytorch-lcv/lib/python3.6/site-packages/ipykernel_launcher.py:5: RuntimeWarning: More than 20 figures have been opened. Figures created through the pyplot interface (`matplotlib.pyplot.figure`) are retained until explicitly closed and may consume too much memory. (To control this warning, see the rcParam `figure.max_open_warning`).\n",
      "  \"\"\"\n"
     ]
    },
    {
     "ename": "IndexError",
     "evalue": "index 34 is out of bounds for axis 0 with size 34",
     "output_type": "error",
     "traceback": [
      "\u001b[0;31m---------------------------------------------------------------------------\u001b[0m",
      "\u001b[0;31mIndexError\u001b[0m                                Traceback (most recent call last)",
      "\u001b[0;32m<ipython-input-1890-7f58758fbe56>\u001b[0m in \u001b[0;36m<module>\u001b[0;34m\u001b[0m\n\u001b[1;32m      7\u001b[0m     \u001b[0;32mfor\u001b[0m \u001b[0mi\u001b[0m \u001b[0;32min\u001b[0m \u001b[0mrange\u001b[0m\u001b[0;34m(\u001b[0m\u001b[0;36m2\u001b[0m\u001b[0;34m)\u001b[0m\u001b[0;34m:\u001b[0m\u001b[0;34m\u001b[0m\u001b[0;34m\u001b[0m\u001b[0m\n\u001b[1;32m      8\u001b[0m \u001b[0;34m\u001b[0m\u001b[0m\n\u001b[0;32m----> 9\u001b[0;31m         \u001b[0;34m[\u001b[0m\u001b[0max\u001b[0m\u001b[0;34m[\u001b[0m\u001b[0mi\u001b[0m\u001b[0;34m]\u001b[0m\u001b[0;34m.\u001b[0m\u001b[0mplot\u001b[0m\u001b[0;34m(\u001b[0m\u001b[0mx\u001b[0m\u001b[0;34m[\u001b[0m\u001b[0;34m:\u001b[0m\u001b[0;34m,\u001b[0m\u001b[0mi\u001b[0m\u001b[0;34m]\u001b[0m\u001b[0;34m,\u001b[0m \u001b[0mlabel\u001b[0m\u001b[0;34m=\u001b[0m\u001b[0;34m'%s [%.2f]'\u001b[0m \u001b[0;34m%\u001b[0m \u001b[0;34m(\u001b[0m\u001b[0mmd\u001b[0m\u001b[0;34m,\u001b[0m \u001b[0mnp\u001b[0m\u001b[0;34m.\u001b[0m\u001b[0mnansum\u001b[0m\u001b[0;34m(\u001b[0m\u001b[0mx\u001b[0m\u001b[0;34m[\u001b[0m\u001b[0;34m:\u001b[0m\u001b[0;34m,\u001b[0m\u001b[0mi\u001b[0m\u001b[0;34m]\u001b[0m\u001b[0;34m)\u001b[0m\u001b[0;34m)\u001b[0m\u001b[0;34m)\u001b[0m \u001b[0;32mfor\u001b[0m \u001b[0mx\u001b[0m\u001b[0;34m,\u001b[0m\u001b[0mmd\u001b[0m \u001b[0;32min\u001b[0m \u001b[0mzip\u001b[0m\u001b[0;34m(\u001b[0m\u001b[0mnlls_summary_perCon\u001b[0m\u001b[0;34m[\u001b[0m\u001b[0mc\u001b[0m\u001b[0;34m]\u001b[0m\u001b[0;34m,\u001b[0m \u001b[0mnames\u001b[0m\u001b[0;34m)\u001b[0m\u001b[0;34m]\u001b[0m\u001b[0;34m\u001b[0m\u001b[0;34m\u001b[0m\u001b[0m\n\u001b[0m\u001b[1;32m     10\u001b[0m         \u001b[0max\u001b[0m\u001b[0;34m[\u001b[0m\u001b[0mi\u001b[0m\u001b[0;34m]\u001b[0m\u001b[0;34m.\u001b[0m\u001b[0mlegend\u001b[0m\u001b[0;34m(\u001b[0m\u001b[0mfontsize\u001b[0m\u001b[0;34m=\u001b[0m\u001b[0;34m'x-small'\u001b[0m\u001b[0;34m)\u001b[0m\u001b[0;34m;\u001b[0m\u001b[0;34m\u001b[0m\u001b[0;34m\u001b[0m\u001b[0m\n\u001b[1;32m     11\u001b[0m         \u001b[0max\u001b[0m\u001b[0;34m[\u001b[0m\u001b[0mi\u001b[0m\u001b[0;34m]\u001b[0m\u001b[0;34m.\u001b[0m\u001b[0mset_xlabel\u001b[0m\u001b[0;34m(\u001b[0m\u001b[0;34m'increasing contrast'\u001b[0m\u001b[0;34m)\u001b[0m\u001b[0;34m;\u001b[0m\u001b[0;34m\u001b[0m\u001b[0;34m\u001b[0m\u001b[0m\n",
      "\u001b[0;31mIndexError\u001b[0m: index 34 is out of bounds for axis 0 with size 34"
     ]
    },
    {
     "data": {
      "text/plain": [
       "<Figure size 1440x576 with 0 Axes>"
      ]
     },
     "metadata": {},
     "output_type": "display_data"
    },
    {
     "data": {
      "text/plain": [
       "<Figure size 1440x576 with 0 Axes>"
      ]
     },
     "metadata": {},
     "output_type": "display_data"
    },
    {
     "data": {
      "text/plain": [
       "<Figure size 1440x576 with 0 Axes>"
      ]
     },
     "metadata": {},
     "output_type": "display_data"
    },
    {
     "data": {
      "text/plain": [
       "<Figure size 1440x576 with 0 Axes>"
      ]
     },
     "metadata": {},
     "output_type": "display_data"
    },
    {
     "data": {
      "text/plain": [
       "<Figure size 1440x576 with 0 Axes>"
      ]
     },
     "metadata": {},
     "output_type": "display_data"
    },
    {
     "data": {
      "text/plain": [
       "<Figure size 1440x576 with 0 Axes>"
      ]
     },
     "metadata": {},
     "output_type": "display_data"
    },
    {
     "data": {
      "text/plain": [
       "<Figure size 1440x576 with 0 Axes>"
      ]
     },
     "metadata": {},
     "output_type": "display_data"
    },
    {
     "data": {
      "text/plain": [
       "<Figure size 1440x576 with 0 Axes>"
      ]
     },
     "metadata": {},
     "output_type": "display_data"
    },
    {
     "data": {
      "text/plain": [
       "<Figure size 1440x576 with 0 Axes>"
      ]
     },
     "metadata": {},
     "output_type": "display_data"
    },
    {
     "data": {
      "text/plain": [
       "<Figure size 1440x576 with 0 Axes>"
      ]
     },
     "metadata": {},
     "output_type": "display_data"
    },
    {
     "data": {
      "text/plain": [
       "<Figure size 1440x576 with 0 Axes>"
      ]
     },
     "metadata": {},
     "output_type": "display_data"
    },
    {
     "data": {
      "text/plain": [
       "<Figure size 1440x576 with 0 Axes>"
      ]
     },
     "metadata": {},
     "output_type": "display_data"
    },
    {
     "data": {
      "text/plain": [
       "<Figure size 1440x576 with 0 Axes>"
      ]
     },
     "metadata": {},
     "output_type": "display_data"
    },
    {
     "data": {
      "text/plain": [
       "<Figure size 1440x576 with 0 Axes>"
      ]
     },
     "metadata": {},
     "output_type": "display_data"
    },
    {
     "data": {
      "text/plain": [
       "<Figure size 1440x576 with 0 Axes>"
      ]
     },
     "metadata": {},
     "output_type": "display_data"
    },
    {
     "data": {
      "text/plain": [
       "<Figure size 1440x576 with 0 Axes>"
      ]
     },
     "metadata": {},
     "output_type": "display_data"
    },
    {
     "data": {
      "text/plain": [
       "<Figure size 1440x576 with 0 Axes>"
      ]
     },
     "metadata": {},
     "output_type": "display_data"
    },
    {
     "data": {
      "text/plain": [
       "<Figure size 1440x576 with 0 Axes>"
      ]
     },
     "metadata": {},
     "output_type": "display_data"
    },
    {
     "data": {
      "text/plain": [
       "<Figure size 1440x576 with 0 Axes>"
      ]
     },
     "metadata": {},
     "output_type": "display_data"
    },
    {
     "data": {
      "text/plain": [
       "<Figure size 1440x576 with 0 Axes>"
      ]
     },
     "metadata": {},
     "output_type": "display_data"
    },
    {
     "data": {
      "text/plain": [
       "<Figure size 1440x576 with 0 Axes>"
      ]
     },
     "metadata": {},
     "output_type": "display_data"
    },
    {
     "data": {
      "text/plain": [
       "<Figure size 1440x576 with 0 Axes>"
      ]
     },
     "metadata": {},
     "output_type": "display_data"
    },
    {
     "data": {
      "text/plain": [
       "<Figure size 1440x576 with 0 Axes>"
      ]
     },
     "metadata": {},
     "output_type": "display_data"
    },
    {
     "data": {
      "text/plain": [
       "<Figure size 1440x576 with 0 Axes>"
      ]
     },
     "metadata": {},
     "output_type": "display_data"
    },
    {
     "data": {
      "text/plain": [
       "<Figure size 1440x576 with 0 Axes>"
      ]
     },
     "metadata": {},
     "output_type": "display_data"
    },
    {
     "data": {
      "text/plain": [
       "<Figure size 1440x576 with 0 Axes>"
      ]
     },
     "metadata": {},
     "output_type": "display_data"
    },
    {
     "data": {
      "text/plain": [
       "<Figure size 1440x576 with 0 Axes>"
      ]
     },
     "metadata": {},
     "output_type": "display_data"
    },
    {
     "data": {
      "text/plain": [
       "<Figure size 1440x576 with 0 Axes>"
      ]
     },
     "metadata": {},
     "output_type": "display_data"
    },
    {
     "data": {
      "text/plain": [
       "<Figure size 1440x576 with 0 Axes>"
      ]
     },
     "metadata": {},
     "output_type": "display_data"
    },
    {
     "data": {
      "text/plain": [
       "<Figure size 1440x576 with 0 Axes>"
      ]
     },
     "metadata": {},
     "output_type": "display_data"
    },
    {
     "data": {
      "text/plain": [
       "<Figure size 1440x576 with 0 Axes>"
      ]
     },
     "metadata": {},
     "output_type": "display_data"
    },
    {
     "data": {
      "text/plain": [
       "<Figure size 1440x576 with 0 Axes>"
      ]
     },
     "metadata": {},
     "output_type": "display_data"
    },
    {
     "data": {
      "text/plain": [
       "<Figure size 1440x576 with 0 Axes>"
      ]
     },
     "metadata": {},
     "output_type": "display_data"
    },
    {
     "data": {
      "text/plain": [
       "<Figure size 1440x576 with 0 Axes>"
      ]
     },
     "metadata": {},
     "output_type": "display_data"
    },
    {
     "data": {
      "image/png": "[encoded data removed]",
      "text/plain": [
       "<Figure size 1440x576 with 2 Axes>"
      ]
     },
     "metadata": {
      "needs_background": "light"
     },
     "output_type": "display_data"
    }
   ],
   "source": [
    "lbl = ['train', 'test']\n",
    "\n",
    "for c in range(nCells):\n",
    "\n",
    "    f, ax = plt.subplots(1,2,figsize=(20,8), sharey=True)\n",
    "\n",
    "    for i in range(2):\n",
    "\n",
    "        [ax[i].plot(x[:,i], label='%s [%.2f]' % (md, np.nansum(x[:,i]))) for x,md in zip(nlls_summary_perCon[c], names)]\n",
    "        ax[i].legend(fontsize='x-small');\n",
    "        ax[i].set_xlabel('increasing contrast');\n",
    "        if i==0:\n",
    "            ax[i].set_ylabel('loss across all sfs');\n",
    "        ax[i].set_title('%s loss' % lbl[i])\n",
    "    f.suptitle('Cell %02d - comparing train/test loss across con.' % (c+1))\n",
    "    sns.despine(offset=5)\n",
    "    \n",
    "    # Now save, too\n",
    "    saveName = \"/01_01_02c_comps%s_%s%s/cell_%03d.pdf\" % (expDir_str, date, phAdj_str, c+1);\n",
    "    curr_dir = os.path.dirname(save_loc+saveName);\n",
    "    if not os.path.exists(curr_dir):\n",
    "        os.makedirs(curr_dir);\n",
    "    pdfSv = pltSave.PdfPages(save_loc + saveName);\n",
    "    pdfSv.savefig(f); # only one figure here...\n",
    "    pdfSv.close();\n",
    "    f.clf();"
   ]
  },
  {
   "cell_type": "markdown",
   "metadata": {},
   "source": [
    "...and also across SFs (as of 22.05.18, will ignore the training data, since that's harder to get)"
   ]
  },
  {
   "cell_type": "code",
   "execution_count": 1224,
   "metadata": {},
   "outputs": [
    {
     "name": "stderr",
     "output_type": "stream",
     "text": [
      "/users/plevy/miniconda3/envs/pytorch-lcv/lib/python3.6/site-packages/ipykernel_launcher.py:5: RuntimeWarning: More than 20 figures have been opened. Figures created through the pyplot interface (`matplotlib.pyplot.figure`) are retained until explicitly closed and may consume too much memory. (To control this warning, see the rcParam `figure.max_open_warning`).\n",
      "  \"\"\"\n"
     ]
    },
    {
     "data": {
      "text/plain": [
       "<Figure size 1440x576 with 0 Axes>"
      ]
     },
     "metadata": {},
     "output_type": "display_data"
    },
    {
     "data": {
      "text/plain": [
       "<Figure size 1440x576 with 0 Axes>"
      ]
     },
     "metadata": {},
     "output_type": "display_data"
    },
    {
     "data": {
      "text/plain": [
       "<Figure size 1440x576 with 0 Axes>"
      ]
     },
     "metadata": {},
     "output_type": "display_data"
    },
    {
     "data": {
      "text/plain": [
       "<Figure size 1440x576 with 0 Axes>"
      ]
     },
     "metadata": {},
     "output_type": "display_data"
    },
    {
     "data": {
      "text/plain": [
       "<Figure size 1440x576 with 0 Axes>"
      ]
     },
     "metadata": {},
     "output_type": "display_data"
    },
    {
     "data": {
      "text/plain": [
       "<Figure size 1440x576 with 0 Axes>"
      ]
     },
     "metadata": {},
     "output_type": "display_data"
    },
    {
     "data": {
      "text/plain": [
       "<Figure size 1440x576 with 0 Axes>"
      ]
     },
     "metadata": {},
     "output_type": "display_data"
    },
    {
     "data": {
      "text/plain": [
       "<Figure size 1440x576 with 0 Axes>"
      ]
     },
     "metadata": {},
     "output_type": "display_data"
    },
    {
     "data": {
      "text/plain": [
       "<Figure size 1440x576 with 0 Axes>"
      ]
     },
     "metadata": {},
     "output_type": "display_data"
    },
    {
     "data": {
      "text/plain": [
       "<Figure size 1440x576 with 0 Axes>"
      ]
     },
     "metadata": {},
     "output_type": "display_data"
    },
    {
     "data": {
      "text/plain": [
       "<Figure size 1440x576 with 0 Axes>"
      ]
     },
     "metadata": {},
     "output_type": "display_data"
    },
    {
     "data": {
      "text/plain": [
       "<Figure size 1440x576 with 0 Axes>"
      ]
     },
     "metadata": {},
     "output_type": "display_data"
    },
    {
     "data": {
      "text/plain": [
       "<Figure size 1440x576 with 0 Axes>"
      ]
     },
     "metadata": {},
     "output_type": "display_data"
    },
    {
     "data": {
      "text/plain": [
       "<Figure size 1440x576 with 0 Axes>"
      ]
     },
     "metadata": {},
     "output_type": "display_data"
    },
    {
     "data": {
      "text/plain": [
       "<Figure size 1440x576 with 0 Axes>"
      ]
     },
     "metadata": {},
     "output_type": "display_data"
    },
    {
     "data": {
      "text/plain": [
       "<Figure size 1440x576 with 0 Axes>"
      ]
     },
     "metadata": {},
     "output_type": "display_data"
    },
    {
     "data": {
      "text/plain": [
       "<Figure size 1440x576 with 0 Axes>"
      ]
     },
     "metadata": {},
     "output_type": "display_data"
    },
    {
     "data": {
      "text/plain": [
       "<Figure size 1440x576 with 0 Axes>"
      ]
     },
     "metadata": {},
     "output_type": "display_data"
    },
    {
     "data": {
      "text/plain": [
       "<Figure size 1440x576 with 0 Axes>"
      ]
     },
     "metadata": {},
     "output_type": "display_data"
    },
    {
     "data": {
      "text/plain": [
       "<Figure size 1440x576 with 0 Axes>"
      ]
     },
     "metadata": {},
     "output_type": "display_data"
    },
    {
     "data": {
      "text/plain": [
       "<Figure size 1440x576 with 0 Axes>"
      ]
     },
     "metadata": {},
     "output_type": "display_data"
    },
    {
     "data": {
      "text/plain": [
       "<Figure size 1440x576 with 0 Axes>"
      ]
     },
     "metadata": {},
     "output_type": "display_data"
    },
    {
     "data": {
      "text/plain": [
       "<Figure size 1440x576 with 0 Axes>"
      ]
     },
     "metadata": {},
     "output_type": "display_data"
    },
    {
     "data": {
      "text/plain": [
       "<Figure size 1440x576 with 0 Axes>"
      ]
     },
     "metadata": {},
     "output_type": "display_data"
    },
    {
     "data": {
      "text/plain": [
       "<Figure size 1440x576 with 0 Axes>"
      ]
     },
     "metadata": {},
     "output_type": "display_data"
    },
    {
     "data": {
      "text/plain": [
       "<Figure size 1440x576 with 0 Axes>"
      ]
     },
     "metadata": {},
     "output_type": "display_data"
    },
    {
     "data": {
      "text/plain": [
       "<Figure size 1440x576 with 0 Axes>"
      ]
     },
     "metadata": {},
     "output_type": "display_data"
    },
    {
     "data": {
      "text/plain": [
       "<Figure size 1440x576 with 0 Axes>"
      ]
     },
     "metadata": {},
     "output_type": "display_data"
    },
    {
     "data": {
      "text/plain": [
       "<Figure size 1440x576 with 0 Axes>"
      ]
     },
     "metadata": {},
     "output_type": "display_data"
    },
    {
     "data": {
      "text/plain": [
       "<Figure size 1440x576 with 0 Axes>"
      ]
     },
     "metadata": {},
     "output_type": "display_data"
    },
    {
     "data": {
      "text/plain": [
       "<Figure size 1440x576 with 0 Axes>"
      ]
     },
     "metadata": {},
     "output_type": "display_data"
    },
    {
     "data": {
      "text/plain": [
       "<Figure size 1440x576 with 0 Axes>"
      ]
     },
     "metadata": {},
     "output_type": "display_data"
    },
    {
     "data": {
      "text/plain": [
       "<Figure size 1440x576 with 0 Axes>"
      ]
     },
     "metadata": {},
     "output_type": "display_data"
    },
    {
     "data": {
      "text/plain": [
       "<Figure size 1440x576 with 0 Axes>"
      ]
     },
     "metadata": {},
     "output_type": "display_data"
    },
    {
     "data": {
      "text/plain": [
       "<Figure size 1440x576 with 0 Axes>"
      ]
     },
     "metadata": {},
     "output_type": "display_data"
    },
    {
     "data": {
      "text/plain": [
       "<Figure size 1440x576 with 0 Axes>"
      ]
     },
     "metadata": {},
     "output_type": "display_data"
    },
    {
     "data": {
      "text/plain": [
       "<Figure size 1440x576 with 0 Axes>"
      ]
     },
     "metadata": {},
     "output_type": "display_data"
    },
    {
     "data": {
      "text/plain": [
       "<Figure size 1440x576 with 0 Axes>"
      ]
     },
     "metadata": {},
     "output_type": "display_data"
    },
    {
     "data": {
      "text/plain": [
       "<Figure size 1440x576 with 0 Axes>"
      ]
     },
     "metadata": {},
     "output_type": "display_data"
    },
    {
     "data": {
      "text/plain": [
       "<Figure size 1440x576 with 0 Axes>"
      ]
     },
     "metadata": {},
     "output_type": "display_data"
    },
    {
     "data": {
      "text/plain": [
       "<Figure size 1440x576 with 0 Axes>"
      ]
     },
     "metadata": {},
     "output_type": "display_data"
    },
    {
     "data": {
      "text/plain": [
       "<Figure size 1440x576 with 0 Axes>"
      ]
     },
     "metadata": {},
     "output_type": "display_data"
    },
    {
     "data": {
      "text/plain": [
       "<Figure size 1440x576 with 0 Axes>"
      ]
     },
     "metadata": {},
     "output_type": "display_data"
    },
    {
     "data": {
      "text/plain": [
       "<Figure size 1440x576 with 0 Axes>"
      ]
     },
     "metadata": {},
     "output_type": "display_data"
    },
    {
     "data": {
      "text/plain": [
       "<Figure size 1440x576 with 0 Axes>"
      ]
     },
     "metadata": {},
     "output_type": "display_data"
    },
    {
     "data": {
      "text/plain": [
       "<Figure size 1440x576 with 0 Axes>"
      ]
     },
     "metadata": {},
     "output_type": "display_data"
    },
    {
     "data": {
      "text/plain": [
       "<Figure size 1440x576 with 0 Axes>"
      ]
     },
     "metadata": {},
     "output_type": "display_data"
    },
    {
     "data": {
      "text/plain": [
       "<Figure size 1440x576 with 0 Axes>"
      ]
     },
     "metadata": {},
     "output_type": "display_data"
    },
    {
     "data": {
      "text/plain": [
       "<Figure size 1440x576 with 0 Axes>"
      ]
     },
     "metadata": {},
     "output_type": "display_data"
    },
    {
     "data": {
      "text/plain": [
       "<Figure size 1440x576 with 0 Axes>"
      ]
     },
     "metadata": {},
     "output_type": "display_data"
    },
    {
     "data": {
      "text/plain": [
       "<Figure size 1440x576 with 0 Axes>"
      ]
     },
     "metadata": {},
     "output_type": "display_data"
    },
    {
     "data": {
      "text/plain": [
       "<Figure size 1440x576 with 0 Axes>"
      ]
     },
     "metadata": {},
     "output_type": "display_data"
    },
    {
     "data": {
      "text/plain": [
       "<Figure size 1440x576 with 0 Axes>"
      ]
     },
     "metadata": {},
     "output_type": "display_data"
    },
    {
     "data": {
      "text/plain": [
       "<Figure size 1440x576 with 0 Axes>"
      ]
     },
     "metadata": {},
     "output_type": "display_data"
    },
    {
     "data": {
      "text/plain": [
       "<Figure size 1440x576 with 0 Axes>"
      ]
     },
     "metadata": {},
     "output_type": "display_data"
    },
    {
     "data": {
      "text/plain": [
       "<Figure size 1440x576 with 0 Axes>"
      ]
     },
     "metadata": {},
     "output_type": "display_data"
    },
    {
     "data": {
      "text/plain": [
       "<Figure size 1440x576 with 0 Axes>"
      ]
     },
     "metadata": {},
     "output_type": "display_data"
    },
    {
     "data": {
      "text/plain": [
       "<Figure size 1440x576 with 0 Axes>"
      ]
     },
     "metadata": {},
     "output_type": "display_data"
    },
    {
     "data": {
      "text/plain": [
       "<Figure size 1440x576 with 0 Axes>"
      ]
     },
     "metadata": {},
     "output_type": "display_data"
    },
    {
     "data": {
      "text/plain": [
       "<Figure size 1440x576 with 0 Axes>"
      ]
     },
     "metadata": {},
     "output_type": "display_data"
    },
    {
     "data": {
      "text/plain": [
       "<Figure size 1440x576 with 0 Axes>"
      ]
     },
     "metadata": {},
     "output_type": "display_data"
    },
    {
     "data": {
      "text/plain": [
       "<Figure size 1440x576 with 0 Axes>"
      ]
     },
     "metadata": {},
     "output_type": "display_data"
    },
    {
     "data": {
      "text/plain": [
       "<Figure size 1440x576 with 0 Axes>"
      ]
     },
     "metadata": {},
     "output_type": "display_data"
    },
    {
     "data": {
      "text/plain": [
       "<Figure size 1440x576 with 0 Axes>"
      ]
     },
     "metadata": {},
     "output_type": "display_data"
    },
    {
     "data": {
      "text/plain": [
       "<Figure size 1440x576 with 0 Axes>"
      ]
     },
     "metadata": {},
     "output_type": "display_data"
    },
    {
     "data": {
      "text/plain": [
       "<Figure size 1440x576 with 0 Axes>"
      ]
     },
     "metadata": {},
     "output_type": "display_data"
    },
    {
     "data": {
      "text/plain": [
       "<Figure size 1440x576 with 0 Axes>"
      ]
     },
     "metadata": {},
     "output_type": "display_data"
    },
    {
     "data": {
      "text/plain": [
       "<Figure size 1440x576 with 0 Axes>"
      ]
     },
     "metadata": {},
     "output_type": "display_data"
    },
    {
     "data": {
      "text/plain": [
       "<Figure size 1440x576 with 0 Axes>"
      ]
     },
     "metadata": {},
     "output_type": "display_data"
    },
    {
     "data": {
      "text/plain": [
       "<Figure size 1440x576 with 0 Axes>"
      ]
     },
     "metadata": {},
     "output_type": "display_data"
    },
    {
     "data": {
      "text/plain": [
       "<Figure size 1440x576 with 0 Axes>"
      ]
     },
     "metadata": {},
     "output_type": "display_data"
    },
    {
     "data": {
      "text/plain": [
       "<Figure size 1440x576 with 0 Axes>"
      ]
     },
     "metadata": {},
     "output_type": "display_data"
    },
    {
     "data": {
      "text/plain": [
       "<Figure size 1440x576 with 0 Axes>"
      ]
     },
     "metadata": {},
     "output_type": "display_data"
    },
    {
     "data": {
      "text/plain": [
       "<Figure size 1440x576 with 0 Axes>"
      ]
     },
     "metadata": {},
     "output_type": "display_data"
    },
    {
     "data": {
      "text/plain": [
       "<Figure size 1440x576 with 0 Axes>"
      ]
     },
     "metadata": {},
     "output_type": "display_data"
    },
    {
     "data": {
      "text/plain": [
       "<Figure size 1440x576 with 0 Axes>"
      ]
     },
     "metadata": {},
     "output_type": "display_data"
    },
    {
     "data": {
      "text/plain": [
       "<Figure size 1440x576 with 0 Axes>"
      ]
     },
     "metadata": {},
     "output_type": "display_data"
    },
    {
     "data": {
      "text/plain": [
       "<Figure size 1440x576 with 0 Axes>"
      ]
     },
     "metadata": {},
     "output_type": "display_data"
    },
    {
     "data": {
      "text/plain": [
       "<Figure size 1440x576 with 0 Axes>"
      ]
     },
     "metadata": {},
     "output_type": "display_data"
    },
    {
     "data": {
      "text/plain": [
       "<Figure size 1440x576 with 0 Axes>"
      ]
     },
     "metadata": {},
     "output_type": "display_data"
    },
    {
     "data": {
      "text/plain": [
       "<Figure size 1440x576 with 0 Axes>"
      ]
     },
     "metadata": {},
     "output_type": "display_data"
    }
   ],
   "source": [
    "lbl = ['train', 'test']\n",
    "\n",
    "for c in range(nCells):\n",
    "\n",
    "    f, ax = plt.subplots(1,2,figsize=(20,8), sharey=True)\n",
    "\n",
    "    for i in range(2):\n",
    "\n",
    "        # messy code, but we're subsetting the loss per Sf to match the length of the actual SFS that appear for this cell (we build the array to handle the largets possible # of sfs)\n",
    "        [ax[i].semilogx(sfs_perCell[c], x[np.arange(len(sfs_perCell[c])), i], label='%s [%.2f]' % (md, np.nansum(x[:,i]))) for x,md in zip(nlls_summary_perSf[c], names)]\n",
    "#         [ax[i].plot(x[:,i], label='%s [%.2f]' % (md, np.nansum(x[:,i]))) for x,md in zip(nlls_summary_perSf[c], names)]\n",
    "        ax[i].legend(fontsize='x-small');\n",
    "        if i == 1:\n",
    "            ax[i].axvline(ref_charFreq_perCell[c], linestyle='--', alpha=0.3)\n",
    "        if i==0:\n",
    "            ax[i].set_ylabel('loss across all contrasts');\n",
    "        ax[i].set_title('%s loss' % lbl[i])\n",
    "    f.suptitle('Cell %02d - comparing train/test loss across SF (index)' % (c+1))\n",
    "    sns.despine(offset=5)\n",
    "    \n",
    "    # Now save, too\n",
    "    saveName = \"/01_01_02c_comps%s_%s%s/bySf_cell_%03d.pdf\" % (expDir_str, date, phAdj_str, c+1);\n",
    "    curr_dir = os.path.dirname(save_loc+saveName);\n",
    "    if not os.path.exists(curr_dir):\n",
    "        os.makedirs(curr_dir);\n",
    "    pdfSv = pltSave.PdfPages(save_loc + saveName);\n",
    "    pdfSv.savefig(f); # only one figure here...\n",
    "    pdfSv.close();\n",
    "    f.clf();"
   ]
  },
  {
   "cell_type": "markdown",
   "metadata": {},
   "source": [
    "#### Interlude: Comparing volRatio (e.g. only center gain shifts) vs model in which center gain and radius can shift"
   ]
  },
  {
   "cell_type": "code",
   "execution_count": 1291,
   "metadata": {},
   "outputs": [
    {
     "data": {
      "text/plain": [
       "'descrFitsHPC_220519'"
      ]
     },
     "execution_count": 1291,
     "metadata": {},
     "output_type": "execute_result"
    }
   ],
   "source": [
    "dogName"
   ]
  },
  {
   "cell_type": "code",
   "execution_count": 1300,
   "metadata": {
    "scrolled": false
   },
   "outputs": [
    {
     "data": {
      "image/png": "[encoded data removed]",
      "text/plain": [
       "<Figure size 1440x576 with 3 Axes>"
      ]
     },
     "metadata": {
      "needs_background": "light"
     },
     "output_type": "display_data"
    }
   ],
   "source": [
    "lt = 2; # loss type\n",
    "dn = 'descrFitsHPC_220519'\n",
    "dm = 1; # dog model\n",
    "jnt = 3; # which joint type to load?\n",
    "vr = hf.np_smart_load('%s/structures/%s' % (expDir, hf.descrFit_name(lt, descrBase=dn, modelName=hf.descrMod_name(dm), joint=jnt, phAdj=-1)));\n",
    "\n",
    "prms_ref = vr[74]['params'][0,-1];\n",
    "sfs = np.geomspace(0.1,2,100);\n",
    "\n",
    "steps = np.arange(1,4,0.5)\n",
    "\n",
    "f, ax = plt.subplots(1, 3, figsize=(20,8))#, sharex=True, sharey=True);\n",
    "\n",
    "for i in steps:\n",
    "\n",
    "    # first, change only the center gain (i.e. delta volume...)\n",
    "    prms_curr = np.copy(prms_a);\n",
    "    prms_curr[0] = prms_curr[0]/i\n",
    "\n",
    "    ax[0].loglog(sfs, hf.get_descrResp(prms_curr, sfs, 1), color='k');\n",
    "    ax[1].loglog(sfs, hf.get_descrResp(prms_curr, sfs, 1), color='k', alpha=0.3);\n",
    "    ax[0].axis('equal');\n",
    "    ax[0].set_ylim([5e0, 3e2])\n",
    "    \n",
    "    # then, also change the center radius\n",
    "    prms_curr[1] = prms_curr[1]*np.power(i, 0.25); # 4th power just to make the differences less stark...\n",
    "    ax[2].loglog(sfs, hf.get_descrResp(prms_curr, sfs, 1), color='r');\n",
    "    ax[1].loglog(sfs, hf.get_descrResp(prms_curr, sfs, 1), color='r', alpha=0.3);\n",
    "    ax[2].axis('equal');\n",
    "    ax[2].set_ylim([5e0, 3e2])\n",
    "\n",
    "   \n",
    "    ax[1].axis('equal');\n",
    "    ax[1].set_ylim([5e0, 3e2])\n"
   ]
  },
  {
   "cell_type": "code",
   "execution_count": null,
   "metadata": {},
   "outputs": [],
   "source": []
  },
  {
   "cell_type": "code",
   "execution_count": 840,
   "metadata": {},
   "outputs": [
    {
     "data": {
      "text/plain": [
       "(81, 7, 11, 2)"
      ]
     },
     "execution_count": 840,
     "metadata": {},
     "output_type": "execute_result"
    }
   ],
   "source": [
    "nlls_summary_perSf.shape"
   ]
  },
  {
   "cell_type": "code",
   "execution_count": 857,
   "metadata": {},
   "outputs": [
    {
     "data": {
      "text/plain": [
       "(81, 7, 11, 2)"
      ]
     },
     "execution_count": 857,
     "metadata": {},
     "output_type": "execute_result"
    }
   ],
   "source": [
    "nlls_summary_perSf.shape"
   ]
  },
  {
   "cell_type": "code",
   "execution_count": 861,
   "metadata": {},
   "outputs": [
    {
     "data": {
      "text/plain": [
       "array([1.82562542, 1.63666403, 1.81104732, 1.47182488, 2.71209955,\n",
       "       1.4137392 , 2.76793146])"
      ]
     },
     "execution_count": 861,
     "metadata": {},
     "output_type": "execute_result"
    }
   ],
   "source": [
    "nlls_summary_perSf[45,:,-3,1]"
   ]
  },
  {
   "cell_type": "code",
   "execution_count": 860,
   "metadata": {},
   "outputs": [
    {
     "data": {
      "text/plain": [
       "array([2.43792725, 0.95836103, 1.11097932, 1.71929193, 3.7235508 ,\n",
       "       1.23199368, 3.7647047 ])"
      ]
     },
     "execution_count": 860,
     "metadata": {},
     "output_type": "execute_result"
    }
   ],
   "source": [
    "nlls_summary_perSf[4,:,-3,1]"
   ]
  },
  {
   "cell_type": "code",
   "execution_count": 849,
   "metadata": {},
   "outputs": [
    {
     "data": {
      "text/plain": [
       "array([[3.80026579, 0.83619457, 0.33138499, 0.40872857, 0.49870372,\n",
       "        1.14088392, 1.3713783 , 1.17187798, 2.43792725,        nan,\n",
       "               nan],\n",
       "       [3.81955695, 0.76390767, 0.27976018, 0.25278738, 0.44662476,\n",
       "        1.06000316, 1.22319162, 0.94020379, 0.95836103,        nan,\n",
       "               nan],\n",
       "       [2.21463656, 0.3606168 , 0.34687713, 0.31712756, 0.46362698,\n",
       "        0.94576359, 2.19754457, 0.85412997, 1.11097932,        nan,\n",
       "               nan],\n",
       "       [2.94116378, 0.60775548, 0.39087319, 0.23985654, 0.7863068 ,\n",
       "        1.14692581, 1.48091555, 1.17275465, 1.71929193,        nan,\n",
       "               nan],\n",
       "       [3.08905745, 0.47167683, 0.36670679, 0.27754152, 0.62585962,\n",
       "        0.92494762, 2.05699539, 1.19365752, 3.7235508 ,        nan,\n",
       "               nan],\n",
       "       [3.43502831, 0.65983844, 0.55951512, 0.22841446, 1.84784794,\n",
       "        1.60114193, 1.13316524, 1.13475049, 1.23199368,        nan,\n",
       "               nan],\n",
       "       [2.89677548, 0.35696429, 1.02322757, 0.81354058, 1.01125181,\n",
       "        2.14398193, 2.00184011, 3.23088932, 3.7647047 ,        nan,\n",
       "               nan]])"
      ]
     },
     "execution_count": 849,
     "metadata": {},
     "output_type": "execute_result"
    }
   ],
   "source": [
    "nlls_summary_perSf[4,:,:,1]"
   ]
  },
  {
   "cell_type": "code",
   "execution_count": 864,
   "metadata": {},
   "outputs": [
    {
     "data": {
      "text/plain": [
       "array([[3.80026579, 0.83619457, 0.33138499, 0.40872857, 0.49870372,\n",
       "        1.14088392, 1.3713783 , 1.17187798, 2.43792725,        nan,\n",
       "               nan],\n",
       "       [3.81955695, 0.76390767, 0.27976018, 0.25278738, 0.44662476,\n",
       "        1.06000316, 1.22319162, 0.94020379, 0.95836103,        nan,\n",
       "               nan],\n",
       "       [2.21463656, 0.3606168 , 0.34687713, 0.31712756, 0.46362698,\n",
       "        0.94576359, 2.19754457, 0.85412997, 1.11097932,        nan,\n",
       "               nan],\n",
       "       [2.94116378, 0.60775548, 0.39087319, 0.23985654, 0.7863068 ,\n",
       "        1.14692581, 1.48091555, 1.17275465, 1.71929193,        nan,\n",
       "               nan],\n",
       "       [3.08905745, 0.47167683, 0.36670679, 0.27754152, 0.62585962,\n",
       "        0.92494762, 2.05699539, 1.19365752, 3.7235508 ,        nan,\n",
       "               nan],\n",
       "       [3.43502831, 0.65983844, 0.55951512, 0.22841446, 1.84784794,\n",
       "        1.60114193, 1.13316524, 1.13475049, 1.23199368,        nan,\n",
       "               nan],\n",
       "       [2.89677548, 0.35696429, 1.02322757, 0.81354058, 1.01125181,\n",
       "        2.14398193, 2.00184011, 3.23088932, 3.7647047 ,        nan,\n",
       "               nan]])"
      ]
     },
     "execution_count": 864,
     "metadata": {},
     "output_type": "execute_result"
    }
   ],
   "source": [
    "nlls_summary_perSf[4,:,:,1]"
   ]
  },
  {
   "cell_type": "code",
   "execution_count": 869,
   "metadata": {},
   "outputs": [
    {
     "data": {
      "text/plain": [
       "array([2, 6, 1, 5, 1, 4, 5, 2, 1, 0, 0])"
      ]
     },
     "execution_count": 869,
     "metadata": {},
     "output_type": "execute_result"
    }
   ],
   "source": [
    "np.argmin(nlls_summary_perSf[4,:,:,1],axis=0)"
   ]
  },
  {
   "cell_type": "code",
   "execution_count": null,
   "metadata": {},
   "outputs": [],
   "source": []
  }
 ],
 "metadata": {
  "kernelspec": {
   "display_name": "Python 3",
   "language": "python",
   "name": "python3"
  },
  "language_info": {
   "codemirror_mode": {
    "name": "ipython",
    "version": 3
   },
   "file_extension": ".py",
   "mimetype": "text/x-python",
   "name": "python",
   "nbconvert_exporter": "python",
   "pygments_lexer": "ipython3",
   "version": "3.6.12"
  }
 },
 "nbformat": 4,
 "nbformat_minor": 4
}
