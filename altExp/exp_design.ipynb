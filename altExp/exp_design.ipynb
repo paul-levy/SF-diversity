{
 "cells": [
  {
   "cell_type": "markdown",
   "metadata": {},
   "source": [
    "## Experiment design"
   ]
  },
  {
   "cell_type": "markdown",
   "metadata": {},
   "source": [
    "We are overhauling the experimental design (i.e. stimuli) for the upcoming V1 acute experiment - expected start date is the week of December 11th, 2017. Now that our interest lies in the interaction between contrast and spectral dispersion rather than just spectral dispersion, we will present our stimuli at more contrasts. To compensate for more contrasts, we will reduce the number of dispersion families.\n",
    "\n",
    "We also plan to more carefully choose our contrasts and spatial frequencies of both our single gratings and our dispersed stimuli so that we can completely make linear predictions for all presented stimuli. In short, any grating which appears as part of a dispersed grating will also be presented in isolation with the exact same contrast and spatial frequency. To ensure compatability of the data sets, we hope to keep the contrast profile (as a function of spatial frequency) similar to that used in the previous sfMix experiment."
   ]
  },
  {
   "cell_type": "code",
   "execution_count": 38,
   "metadata": {
    "collapsed": false
   },
   "outputs": [],
   "source": [
    "import numpy as np\n",
    "verbose = 1; # print some output?\n",
    "from scipy.stats import norm"
   ]
  },
  {
   "cell_type": "markdown",
   "metadata": {},
   "source": [
    "### Previous experimental design"
   ]
  },
  {
   "cell_type": "code",
   "execution_count": 39,
   "metadata": {
    "collapsed": false,
    "scrolled": true
   },
   "outputs": [
    {
     "name": "stdout",
     "output_type": "stream",
     "text": [
      "The spatial frequency centers were: [  0.3    0.43   0.6    0.86   1.22   1.73   2.46   3.49   4.96   7.04  10.  ]\n",
      "The gratings of each dispersed stimuli were separated by 0.375 octaves\n",
      "The contrast profiles are as follows:\n",
      "Family 1: [ 0.  0.  0.  0.  1.  0.  0.  0.  0.]\n",
      "Family 2: [ 0.     0.     0.002  0.162  0.672  0.162  0.002  0.     0.   ]\n",
      "Family 3: [ 0.     0.007  0.063  0.241  0.378  0.241  0.063  0.007  0.   ]\n",
      "Family 4: [ 0.022  0.06   0.122  0.187  0.216  0.187  0.122  0.06   0.022]\n",
      "Family 5: [ 0.071  0.097  0.121  0.139  0.145  0.139  0.121  0.097  0.071]\n"
     ]
    }
   ],
   "source": [
    "sfCenters = np.logspace(np.log10(0.3), np.log10(10), 11)\n",
    "\n",
    "nGrats = 9; # 9 gratings make up the stimulus\n",
    "dispSpread = 1.5; # 1.5 octaves on either side of the center\n",
    "octSeries = np.linspace(dispSpread, -dispSpread, nGrats)\n",
    "octStep = np.abs(np.unique(np.diff(octSeries)))\n",
    "\n",
    "nFam = 5;\n",
    "spreadVec = np.logspace(np.log10(.125), np.log10(1.25), nFam);\n",
    "conProf = np.zeros((nFam, nGrats));\n",
    "for i in range(nFam):\n",
    "    profTemp = norm.pdf(octSeries, 0, spreadVec[i]);\n",
    "    conProf[i] = profTemp / np.sum(profTemp)\n",
    "    if i == 0:\n",
    "        conProf[i] = np.round(conProf[i], 0) # we made the lowest dispersion just a single grating\n",
    "    \n",
    "if verbose:\n",
    "    print('The spatial frequency centers were: ' + str(np.round(sfCenters, 2)));\n",
    "    print('The gratings of each dispersed stimuli were separated by ' + str(np.round(octStep[0], 3)) + ' octaves');\n",
    "    print('The contrast profiles are as follows:')\n",
    "    for i in range(nFam):\n",
    "        print('Family ' + str(i+1) + ': ' + str(np.round(conProf[i], 3)))"
   ]
  },
  {
   "cell_type": "code",
   "execution_count": 40,
   "metadata": {
    "collapsed": false
   },
   "outputs": [
    {
     "name": "stdout",
     "output_type": "stream",
     "text": [
      "Experiment length (in minutes) without blanks: 22.67\n"
     ]
    }
   ],
   "source": [
    "nCondSfMix = nFam*2*len(sfCenters) # 2 for 2 contrasts (high/low)\n",
    "nCondCRF = 10; # 10 contrasts, 1 SF\n",
    "nCondOri = 16; # ori16\n",
    "nTrials = 10*(nCondSfMix + nCondCRF + nCondOri);\n",
    "if verbose:\n",
    "    print('Experiment length (in minutes) without blanks: ' + str(np.round(nTrials/60.0, 2)))"
   ]
  },
  {
   "cell_type": "markdown",
   "metadata": {},
   "source": [
    "### Shifting the spatial frequencies"
   ]
  },
  {
   "cell_type": "markdown",
   "metadata": {},
   "source": [
    "In the Expo program, we have a free parameter \"sfRel\" which permits a shifting of the spatial frequencies used. For example, if a cell has a fairly low high-frequency cutoff, we can have sfRel lower than the \"standard\" (1.73) so that more spatial frequencies are in the pass-band of such a low-pass cell."
   ]
  },
  {
   "cell_type": "code",
   "execution_count": 41,
   "metadata": {
    "collapsed": false
   },
   "outputs": [
    {
     "name": "stdout",
     "output_type": "stream",
     "text": [
      "SF multipliers are:\n",
      "\t[ 0.17  0.25  0.35  0.5   0.7   1.    1.42  2.02  2.86  4.07  5.77]\n"
     ]
    }
   ],
   "source": [
    "defaultSfs = np.logspace(np.log10(0.3), np.log10(10), 11)\n",
    "sfAnchor = np.median(defaultSfs);\n",
    "sfMult = sfAnchor / defaultSfs\n",
    "if verbose:\n",
    "    print('SF multipliers are:\\n\\t' + str(np.round(np.sort(sfMult), 2)))"
   ]
  },
  {
   "cell_type": "code",
   "execution_count": 42,
   "metadata": {
    "collapsed": false
   },
   "outputs": [
    {
     "name": "stdout",
     "output_type": "stream",
     "text": [
      "With sfRel 1.73 cpd, new sfCenters are\n",
      "\t[ 0.3   0.43  0.6   0.86  1.22  1.73  2.46  3.49  4.95  7.03  9.99]\n"
     ]
    }
   ],
   "source": [
    "sfRel = 1.73\n",
    "sfShifts = sfRel * sfMult\n",
    "if verbose:\n",
    "    print('With sfRel ' + str(sfRel) + ' cpd, new sfCenters are\\n\\t' + str(np.round(np.sort(sfShifts), 2)))"
   ]
  },
  {
   "cell_type": "markdown",
   "metadata": {},
   "source": [
    "## New experimental design"
   ]
  },
  {
   "cell_type": "markdown",
   "metadata": {},
   "source": [
    "### First attempt:"
   ]
  },
  {
   "cell_type": "code",
   "execution_count": 55,
   "metadata": {
    "collapsed": false
   },
   "outputs": [
    {
     "ename": "TypeError",
     "evalue": "slice indices must be integers or None or have an __index__ method",
     "output_type": "error",
     "traceback": [
      "\u001b[0;31m---------------------------------------------------------------------------\u001b[0m",
      "\u001b[0;31mTypeError\u001b[0m                                 Traceback (most recent call last)",
      "\u001b[0;32m<ipython-input-55-97f7100b569c>\u001b[0m in \u001b[0;36m<module>\u001b[0;34m()\u001b[0m\n\u001b[0;32m----> 1\u001b[0;31m \u001b[0msfAll\u001b[0m\u001b[0;34m[\u001b[0m\u001b[0msfsLost\u001b[0m\u001b[0;34m[\u001b[0m\u001b[0;36m1\u001b[0m\u001b[0;34m]\u001b[0m\u001b[0;34m/\u001b[0m\u001b[0;36m2\u001b[0m\u001b[0;34m:\u001b[0m\u001b[0mnSfsTot\u001b[0m\u001b[0;34m-\u001b[0m\u001b[0msfsLost\u001b[0m\u001b[0;34m[\u001b[0m\u001b[0;36m1\u001b[0m\u001b[0;34m]\u001b[0m\u001b[0;34m/\u001b[0m\u001b[0;36m2\u001b[0m\u001b[0;34m]\u001b[0m\u001b[0;34m\u001b[0m\u001b[0m\n\u001b[0m",
      "\u001b[0;31mTypeError\u001b[0m: slice indices must be integers or None or have an __index__ method"
     ]
    }
   ],
   "source": [
    "sfAll[sfsLost[1]/2:nSfsTot-sfsLost[1]/2]"
   ]
  },
  {
   "cell_type": "code",
   "execution_count": 58,
   "metadata": {
    "collapsed": false
   },
   "outputs": [
    {
     "name": "stdout",
     "output_type": "stream",
     "text": [
      "Dispersion level 1 sf centers:[  0.3    0.43   0.6    0.86   1.22   1.73   2.46   3.49   4.96   7.04  10.  ]\n",
      "Dispersion level 2 sf centers:[ 0.43  0.6   0.86  1.22  1.73  2.46  3.49  4.96  7.04]\n",
      "Dispersion level 3 sf centers:[ 0.6   0.86  1.22  1.73  2.46  3.49  4.96]\n",
      "Dispersion level 4 sf centers:[ 0.86  1.22  1.73  2.46  3.49]\n"
     ]
    }
   ],
   "source": [
    "nDisps = 4;\n",
    "\n",
    "nSfsTot = 11;\n",
    "sfsLost = [0, 2, 4, 6];\n",
    "sfMin = 0.3;\n",
    "sfMax = 10;\n",
    "\n",
    "nSfCenters = np.subtract(nSfsTot, sfsLost)\n",
    "sfAll = np.logspace(np.log10(sfMin), np.log10(sfMax), nSfsTot)\n",
    "sfCenters = [sfAll[sfsLost[0]:nSfsTot-sfsLost[0]], sfAll[int(sfsLost[1]/2):nSfsTot-int(sfsLost[1]/2)], \n",
    "             sfAll[int(sfsLost[2]/2):nSfsTot-int(sfsLost[2]/2)], sfAll[int(sfsLost[3]/2):nSfsTot-int(sfsLost[3]/2)]];\n",
    "\n",
    "nCons = 9;\n",
    "nSfMixCons = 4;\n",
    "conMin = 0.05;\n",
    "conMax = 1;\n",
    "\n",
    "if verbose:\n",
    "    for i in range(nDisps):\n",
    "        print('Dispersion level ' + str(i+1) + ' sf centers:' + str(np.round(sfCenters[i], 2)))"
   ]
  },
  {
   "cell_type": "code",
   "execution_count": 59,
   "metadata": {
    "collapsed": false
   },
   "outputs": [
    {
     "name": "stdout",
     "output_type": "stream",
     "text": [
      "Con min = 0.05; Con max = 1; use 9 contrasts\n",
      "If we logarithmically space the contrasts, we get the following:\n",
      "\t[ 0.05   0.073  0.106  0.154  0.224  0.325  0.473  0.688  1.   ]\n",
      "Rounded to the nearest hundredth, we get:\n",
      "\t[ 0.05  0.07  0.11  0.15  0.22  0.33  0.47  0.69  1.  ]\n"
     ]
    }
   ],
   "source": [
    "logCons = np.logspace(np.log10(conMin), np.log10(conMax), nCons);\n",
    "if verbose:\n",
    "    print('Con min = ' + str(conMin) + '; Con max = ' + str(conMax) + '; use ' + str(nCons) + ' contrasts')\n",
    "    print('If we logarithmically space the contrasts, we get the following:\\n\\t' + str(np.round(logCons, 3)))\n",
    "    print('Rounded to the nearest hundredth, we get:\\n\\t' + str(np.round(logCons, 2)))"
   ]
  },
  {
   "cell_type": "code",
   "execution_count": 60,
   "metadata": {
    "collapsed": true
   },
   "outputs": [],
   "source": [
    "profs = [];"
   ]
  },
  {
   "cell_type": "code",
   "execution_count": 61,
   "metadata": {
    "collapsed": false
   },
   "outputs": [
    {
     "name": "stdout",
     "output_type": "stream",
     "text": [
      "Total contrast = 1\n",
      "Family 1: [ 1.] /// sum = 1.0\n",
      "Family 2: [ 0.154  0.688  0.154] /// sum = 1.0\n",
      "Family 3: [ 0.106  0.224  0.325  0.224  0.106] /// sum = 0.98\n",
      "Family 4: [ 0.073  0.106  0.154  0.325  0.154  0.106  0.073] /// sum = 0.99\n"
     ]
    }
   ],
   "source": [
    "profs.append([]);\n",
    "d1cent = -1;\n",
    "d2cent = 7;\n",
    "d3cent = 5;\n",
    "d4cent = 5;\n",
    "profs[0].append([logCons[d1cent]]);\n",
    "profs[0].append([logCons[d2cent-4], logCons[d2cent], logCons[d2cent-4]]);\n",
    "profs[0].append([logCons[d3cent-3], logCons[d3cent-1], logCons[d3cent], logCons[d3cent-1], logCons[d3cent-3]]);\n",
    "profs[0].append([logCons[d4cent-4], logCons[d4cent-3], logCons[d4cent-2], logCons[d4cent], logCons[d4cent-2], logCons[d4cent-3], logCons[d4cent-4]]);\n",
    "# profs1.append([logCons[1], logCons[2], logCons[3], logCons[4], logCons[3], logCons[2], logCons[1]])\n",
    "\n",
    "if verbose:\n",
    "    print('Total contrast = 1')\n",
    "    for i in range(nDisps):\n",
    "        print('Family ' + str(i+1) + ': ' + str(np.round(profs[0][i], 3)) + ' /// sum = ' + str(np.round(np.sum(profs[0][i]), 2)))"
   ]
  },
  {
   "cell_type": "code",
   "execution_count": 62,
   "metadata": {
    "collapsed": false
   },
   "outputs": [
    {
     "name": "stdout",
     "output_type": "stream",
     "text": [
      "Total contrast = 0.69\n",
      "Family 1: [ 0.688] /// sum = 0.69\n",
      "Family 2: [ 0.106  0.473  0.106] /// sum = 0.68\n",
      "Family 3: [ 0.073  0.154  0.224  0.154  0.073] /// sum = 0.68\n",
      "Family 4: [ 0.05   0.073  0.106  0.224  0.106  0.073  0.05 ] /// sum = 0.68\n"
     ]
    }
   ],
   "source": [
    "profs.append([]);\n",
    "d1cent = -2;\n",
    "d2cent = 6;\n",
    "d3cent = 4;\n",
    "d4cent = 4;\n",
    "profs[1].append([logCons[-2]]);\n",
    "profs[1].append([logCons[d2cent-4], logCons[d2cent], logCons[d2cent-4]]);\n",
    "profs[1].append([logCons[d3cent-3], logCons[d3cent-1], logCons[d3cent], logCons[d3cent-1], logCons[d3cent-3]]);\n",
    "profs[1].append([logCons[d4cent-4], logCons[d4cent-3], logCons[d4cent-2], logCons[d4cent], logCons[d4cent-2], logCons[d4cent-3], logCons[d4cent-4]]);\n",
    "\n",
    "if verbose:\n",
    "    print('Total contrast = ' + str(np.round(logCons[d1cent], 2)))\n",
    "    for i in range(nDisps):\n",
    "        print('Family ' + str(i+1) + ': ' + str(np.round(profs[1][i], 3)) + ' /// sum = ' + str(np.round(np.sum(profs[1][i]), 2)))"
   ]
  },
  {
   "cell_type": "code",
   "execution_count": 63,
   "metadata": {
    "collapsed": false
   },
   "outputs": [
    {
     "name": "stdout",
     "output_type": "stream",
     "text": [
      "Total contrast = 0.47\n",
      "Family 1: [ 0.473] /// sum = 0.47\n",
      "Family 2: [ 0.073  0.325  0.073] /// sum = 0.47\n",
      "Family 3: [ 0.05   0.106  0.154  0.106  0.05 ] /// sum = 0.47\n"
     ]
    }
   ],
   "source": [
    "profs.append([]);\n",
    "d1cent = -3;\n",
    "d2cent = 5;\n",
    "d3cent = 3;\n",
    "profs[2].append([logCons[d1cent]]);\n",
    "profs[2].append([logCons[d2cent-4], logCons[d2cent], logCons[d2cent-4]]);\n",
    "profs[2].append([logCons[d3cent-3], logCons[d3cent-1], logCons[d3cent], logCons[d3cent-1], logCons[d3cent-3]]);\n",
    "# profs.append([logCons[0], logCons[1], logCons[2], logCons[3], logCons[2], logCons[1], logCons[0]])\n",
    "\n",
    "if verbose:\n",
    "    print('Total contrast = ' + str(np.round(logCons[d1cent], 2)))\n",
    "    for i in range(nDisps-1):\n",
    "        print('Family ' + str(i+1) + ': ' + str(np.round(profs[2][i], 3)) + ' /// sum = ' + str(np.round(np.sum(profs[2][i]), 2)))"
   ]
  },
  {
   "cell_type": "code",
   "execution_count": 64,
   "metadata": {
    "collapsed": false
   },
   "outputs": [
    {
     "name": "stdout",
     "output_type": "stream",
     "text": [
      "Total contrast = 0.33\n",
      "Family 1: [ 0.325] /// sum = 0.33\n",
      "Family 2: [ 0.05   0.224  0.05 ] /// sum = 0.32\n"
     ]
    }
   ],
   "source": [
    "profs.append([]);\n",
    "d1cent = -4;\n",
    "d2cent = 4;\n",
    "d3cent = 2;\n",
    "profs[3].append([logCons[d1cent]]);\n",
    "profs[3].append([logCons[d2cent-4], logCons[d2cent], logCons[d2cent-4]]);\n",
    "profs[3].append([logCons[d3cent-2], logCons[d3cent-1], logCons[d3cent], logCons[d3cent-1], logCons[d3cent-2]]);\n",
    "# profs.append([logCons[0], logCons[1], logCons[2], logCons[3], logCons[2], logCons[1], logCons[0]])\n",
    "\n",
    "if verbose:\n",
    "    print('Total contrast = ' + str(np.round(logCons[d1cent], 2)))\n",
    "    for i in range(nDisps-2):\n",
    "        print('Family ' + str(i+1) + ': ' + str(np.round(profs[3][i], 3)) + ' /// sum = ' + str(np.round(np.sum(profs[3][i]), 2)))"
   ]
  },
  {
   "cell_type": "markdown",
   "metadata": {},
   "source": [
    "Now we check the ratios; note that I changed the \"formula\" for the the third level of dispersion at the lowest contrast"
   ]
  },
  {
   "cell_type": "code",
   "execution_count": 65,
   "metadata": {
    "collapsed": false
   },
   "outputs": [
    {
     "name": "stdout",
     "output_type": "stream",
     "text": [
      "Total contrasts: [ 0.325  0.473  0.688  1.   ]\n",
      "\n",
      "Dispersion level: 1\n",
      "The ratio of contrasts by component are: \n",
      "\tratio: [ 1.]\n",
      "\tratio: [ 0.688]\n",
      "\tratio: [ 0.473]\n",
      "\tratio: [ 0.325]\n",
      "\n",
      "Dispersion level: 2\n",
      "The ratio of contrasts by component are: \n",
      "\tratio: [ 1.  1.  1.]\n",
      "\tratio: [ 0.688  0.688  0.688]\n",
      "\tratio: [ 0.473  0.473  0.473]\n",
      "\tratio: [ 0.325  0.325  0.325]\n",
      "\n",
      "Dispersion level: 3\n",
      "The ratio of contrasts by component are: \n",
      "\tratio: [ 1.  1.  1.  1.  1.]\n",
      "\tratio: [ 0.688  0.688  0.688  0.688  0.688]\n",
      "\tratio: [ 0.473  0.473  0.473  0.473  0.473]\n",
      "\tratio: [ 0.473  0.325  0.325  0.325  0.473]\n",
      "\n",
      "Dispersion level: 4\n",
      "The ratio of contrasts by component are: \n",
      "\tratio: [ 1.  1.  1.  1.  1.  1.  1.]\n",
      "\tratio: [ 0.688  0.688  0.688  0.688  0.688  0.688  0.688]\n"
     ]
    },
    {
     "ename": "IndexError",
     "evalue": "list index out of range",
     "output_type": "error",
     "traceback": [
      "\u001b[0;31m---------------------------------------------------------------------------\u001b[0m",
      "\u001b[0;31mIndexError\u001b[0m                                Traceback (most recent call last)",
      "\u001b[0;32m<ipython-input-65-5f5c3c1fd453>\u001b[0m in \u001b[0;36m<module>\u001b[0;34m()\u001b[0m\n\u001b[1;32m      4\u001b[0m     \u001b[0mprint\u001b[0m\u001b[0;34m(\u001b[0m\u001b[0;34m'The ratio of contrasts by component are: '\u001b[0m\u001b[0;34m)\u001b[0m\u001b[0;34m\u001b[0m\u001b[0m\n\u001b[1;32m      5\u001b[0m     \u001b[0;32mfor\u001b[0m \u001b[0mc\u001b[0m \u001b[0;32min\u001b[0m \u001b[0mrange\u001b[0m\u001b[0;34m(\u001b[0m\u001b[0mlen\u001b[0m\u001b[0;34m(\u001b[0m\u001b[0mprofs\u001b[0m\u001b[0;34m)\u001b[0m\u001b[0;34m)\u001b[0m\u001b[0;34m:\u001b[0m \u001b[0;31m# how many contrasts?\u001b[0m\u001b[0;34m\u001b[0m\u001b[0m\n\u001b[0;32m----> 6\u001b[0;31m         \u001b[0mrat\u001b[0m \u001b[0;34m=\u001b[0m \u001b[0mnp\u001b[0m\u001b[0;34m.\u001b[0m\u001b[0mdivide\u001b[0m\u001b[0;34m(\u001b[0m\u001b[0mprofs\u001b[0m\u001b[0;34m[\u001b[0m\u001b[0mc\u001b[0m\u001b[0;34m]\u001b[0m\u001b[0;34m[\u001b[0m\u001b[0md\u001b[0m\u001b[0;34m]\u001b[0m\u001b[0;34m,\u001b[0m \u001b[0mprofs\u001b[0m\u001b[0;34m[\u001b[0m\u001b[0;36m0\u001b[0m\u001b[0;34m]\u001b[0m\u001b[0;34m[\u001b[0m\u001b[0md\u001b[0m\u001b[0;34m]\u001b[0m\u001b[0;34m)\u001b[0m\u001b[0;34m;\u001b[0m\u001b[0;34m\u001b[0m\u001b[0m\n\u001b[0m\u001b[1;32m      7\u001b[0m         \u001b[0mprint\u001b[0m\u001b[0;34m(\u001b[0m\u001b[0;34m'\\tratio: '\u001b[0m \u001b[0;34m+\u001b[0m \u001b[0mstr\u001b[0m\u001b[0;34m(\u001b[0m\u001b[0mnp\u001b[0m\u001b[0;34m.\u001b[0m\u001b[0mround\u001b[0m\u001b[0;34m(\u001b[0m\u001b[0mrat\u001b[0m\u001b[0;34m,\u001b[0m \u001b[0;36m3\u001b[0m\u001b[0;34m)\u001b[0m\u001b[0;34m)\u001b[0m\u001b[0;34m)\u001b[0m\u001b[0;34m\u001b[0m\u001b[0m\n",
      "\u001b[0;31mIndexError\u001b[0m: list index out of range"
     ]
    }
   ],
   "source": [
    "print('Total contrasts: ' + str(np.round(logCons[5:], 3)))\n",
    "for d in range(nDisps):\n",
    "    print('\\nDispersion level: ' + str(d+1));\n",
    "    print('The ratio of contrasts by component are: ')\n",
    "    for c in range(len(profs)): # how many contrasts?\n",
    "        rat = np.divide(profs[c][d], profs[0][d]);\n",
    "        print('\\tratio: ' + str(np.round(rat, 3)))"
   ]
  },
  {
   "cell_type": "markdown",
   "metadata": {},
   "source": [
    "And how many conditions? I.e. how much experimental time will be needed?"
   ]
  },
  {
   "cell_type": "code",
   "execution_count": 66,
   "metadata": {
    "collapsed": false
   },
   "outputs": [
    {
     "name": "stdout",
     "output_type": "stream",
     "text": [
      "Experiment length (in minutes) without blanks: 27.17\n"
     ]
    }
   ],
   "source": [
    "nConds = nCons*nSfCenters[0] + nSfMixCons*nSfCenters[1] + nSfMixCons*nSfCenters[2]\n",
    "if verbose:\n",
    "    print('Experiment length (in minutes) without blanks: ' + str(np.round(nConds*10/60.0, 2)))"
   ]
  },
  {
   "cell_type": "markdown",
   "metadata": {},
   "source": [
    "### Contrast and opacity"
   ]
  },
  {
   "cell_type": "markdown",
   "metadata": {},
   "source": [
    "Expo works in layers, and thus opacity must be used rather than contrast (or contrast alone, per se) to manipulate the effective contrast of each stimulus component. The following code, inherited from Robbe Goris, allows one to convert between opacity and contrast.\n",
    "\n",
    "As coded in Expo, I used contrast to go between overall contrast levels (i.e. total contrast of 1 or 0.68 or etc...) and opacity to determine the contrast of each grating <i>within</i> a given total contrast level"
   ]
  },
  {
   "cell_type": "code",
   "execution_count": 73,
   "metadata": {
    "collapsed": true
   },
   "outputs": [],
   "source": [
    "nGrats = 7"
   ]
  },
  {
   "cell_type": "code",
   "execution_count": 72,
   "metadata": {
    "collapsed": false
   },
   "outputs": [
    {
     "data": {
      "text/plain": [
       "[0.072710771672447674,\n",
       " 0.1057371263440564,\n",
       " 0.15376456101806876,\n",
       " 0.32517245631211816,\n",
       " 0.15376456101806876,\n",
       " 0.1057371263440564,\n",
       " 0.072710771672447674]"
      ]
     },
     "execution_count": 72,
     "metadata": {},
     "output_type": "execute_result"
    }
   ],
   "source": [
    "profs[0][3]"
   ]
  },
  {
   "cell_type": "markdown",
   "metadata": {},
   "source": [
    "#### Contrast to opacity"
   ]
  },
  {
   "cell_type": "markdown",
   "metadata": {},
   "source": [
    "First, convert the desired contrast distribution into a vector of length nGrats with 0 for no grating and ordered highest to lowest contrast"
   ]
  },
  {
   "cell_type": "code",
   "execution_count": 262,
   "metadata": {
    "collapsed": true
   },
   "outputs": [],
   "source": [
    "dispInd = 1; # which dispersion level [0-3]?\n",
    "totalConInd = 0; # which total contrast level [0-3]?"
   ]
  },
  {
   "cell_type": "code",
   "execution_count": 263,
   "metadata": {
    "collapsed": false
   },
   "outputs": [],
   "source": [
    "conSort = np.zeros((nGrats, ))\n",
    "curr_cons = profs[totalConInd][dispInd]\n",
    "# conSort[nGrats-len(curr_cons):nGrats] = np.sort(curr_cons)\n",
    "conSort[0:len(curr_cons)] = np.flip(np.sort(curr_cons), axis=0)"
   ]
  },
  {
   "cell_type": "code",
   "execution_count": 264,
   "metadata": {
    "collapsed": false
   },
   "outputs": [
    {
     "data": {
      "text/plain": [
       "array([ 0.68765602,  0.15376456,  0.15376456,  0.        ,  0.        ,\n",
       "        0.        ,  0.        ])"
      ]
     },
     "execution_count": 264,
     "metadata": {},
     "output_type": "execute_result"
    }
   ],
   "source": [
    "conSort"
   ]
  },
  {
   "cell_type": "code",
   "execution_count": 265,
   "metadata": {
    "collapsed": true
   },
   "outputs": [],
   "source": [
    "opac = np.zeros((nGrats, ))"
   ]
  },
  {
   "cell_type": "code",
   "execution_count": 266,
   "metadata": {
    "collapsed": false
   },
   "outputs": [],
   "source": [
    "opac[nGrats-1] = conSort[nGrats-1]\n",
    "opac[nGrats-2] = conSort[nGrats-2]/((1 - opac[nGrats-1]));\n",
    "opac[nGrats-3] = conSort[nGrats-3]/((1 - opac[nGrats-1])*(1 - opac[nGrats-2]));\n",
    "opac[nGrats-4] = conSort[nGrats-4]/((1 - opac[nGrats-1])*(1 - opac[nGrats-2])*(1 - opac[nGrats-3]));\n",
    "opac[nGrats-5] = conSort[nGrats-5]/((1 - opac[nGrats-1])*(1 - opac[nGrats-2])*(1 - opac[nGrats-3])*(1 - opac[nGrats-4]));\n",
    "opac[nGrats-6] = conSort[nGrats-6]/((1 - opac[nGrats-1])*(1 - opac[nGrats-2])*(1 - opac[nGrats-3])*(1 - opac[nGrats-4])*(1 - opac[nGrats-5]));\n",
    "opac[nGrats-7] = conSort[nGrats-7]/((1 - opac[nGrats-1])*(1 - opac[nGrats-2])*(1 - opac[nGrats-3])*(1 - opac[nGrats-4])*(1 - opac[nGrats-5])*(1 - opac[nGrats-6]));"
   ]
  },
  {
   "cell_type": "code",
   "execution_count": 267,
   "metadata": {
    "collapsed": false
   },
   "outputs": [
    {
     "name": "stdout",
     "output_type": "stream",
     "text": [
      "Opacity values: [ 0.99304685  0.18170423  0.15376456  0.          0.          0.          0.        ]\n"
     ]
    }
   ],
   "source": [
    "if verbose:\n",
    "    print('Opacity values: ' + str(np.transpose(opac)))"
   ]
  },
  {
   "cell_type": "markdown",
   "metadata": {},
   "source": [
    "#### Opacity to contrast"
   ]
  },
  {
   "cell_type": "code",
   "execution_count": 251,
   "metadata": {
    "collapsed": true
   },
   "outputs": [],
   "source": [
    "cons = np.zeros((nGrats, ))"
   ]
  },
  {
   "cell_type": "code",
   "execution_count": 273,
   "metadata": {
    "collapsed": false
   },
   "outputs": [],
   "source": [
    "temp = dict()\n",
    "# usually one constant value across each component for a given value \n",
    "temp['con'] = 0.688*np.ones((nGrats, 1))\n",
    "# input by hand from Expo to check\n",
    "temp['opa'] = opac\n",
    "# temp['opa'] = [ 0.993,  0.18170423,  0.15376456,  0.0,  0.0,  0.,          0.        ]"
   ]
  },
  {
   "cell_type": "code",
   "execution_count": 274,
   "metadata": {
    "collapsed": false
   },
   "outputs": [],
   "source": [
    "cons[nGrats-1] = temp['con'][nGrats-1]*temp['opa'][nGrats-1];\n",
    "cons[nGrats-2] = temp['con'][nGrats-2]*temp['opa'][nGrats-2]*(1-temp['opa'][nGrats-1]);\n",
    "cons[nGrats-3] = temp['con'][nGrats-3]*temp['opa'][nGrats-3]*(1-temp['opa'][nGrats-1])*(1-temp['opa'][nGrats-2]);\n",
    "cons[nGrats-4] = temp['con'][nGrats-4]*temp['opa'][nGrats-4]*(1-temp['opa'][nGrats-1])*(1-temp['opa'][nGrats-2])*(1-temp['opa'][nGrats-3]);\n",
    "cons[nGrats-5] = temp['con'][nGrats-5]*temp['opa'][nGrats-5]*(1-temp['opa'][nGrats-1])*(1-temp['opa'][nGrats-2])*(1-temp['opa'][nGrats-3])*(1-temp['opa'][nGrats-4]);\n",
    "cons[nGrats-6] = temp['con'][nGrats-6]*temp['opa'][nGrats-6]*(1-temp['opa'][nGrats-1])*(1-temp['opa'][nGrats-2])*(1-temp['opa'][nGrats-3])*(1-temp['opa'][nGrats-4])*(1-temp['opa'][nGrats-5]);\n",
    "cons[nGrats-7] = temp['con'][nGrats-7]*temp['opa'][nGrats-7]*(1-temp['opa'][nGrats-1])*(1-temp['opa'][nGrats-2])*(1-temp['opa'][nGrats-3])*(1-temp['opa'][nGrats-4])*(1-temp['opa'][nGrats-5])*(1-temp['opa'][nGrats-6]);"
   ]
  },
  {
   "cell_type": "code",
   "execution_count": 275,
   "metadata": {
    "collapsed": false
   },
   "outputs": [
    {
     "data": {
      "text/plain": [
       "array([ 0.47310734,  0.10579002,  0.10579002,  0.        ,  0.        ,\n",
       "        0.        ,  0.        ])"
      ]
     },
     "execution_count": 275,
     "metadata": {},
     "output_type": "execute_result"
    }
   ],
   "source": [
    "cons"
   ]
  },
  {
   "cell_type": "code",
   "execution_count": 276,
   "metadata": {
    "collapsed": false
   },
   "outputs": [
    {
     "data": {
      "text/plain": [
       "0.68468737905120147"
      ]
     },
     "execution_count": 276,
     "metadata": {},
     "output_type": "execute_result"
    }
   ],
   "source": [
    "np.sum(cons)"
   ]
  },
  {
   "cell_type": "code",
   "execution_count": null,
   "metadata": {
    "collapsed": true
   },
   "outputs": [],
   "source": []
  }
 ],
 "metadata": {
  "kernelspec": {
   "display_name": "Python 3",
   "language": "python",
   "name": "python3"
  },
  "language_info": {
   "codemirror_mode": {
    "name": "ipython",
    "version": 3
   },
   "file_extension": ".py",
   "mimetype": "text/x-python",
   "name": "python",
   "nbconvert_exporter": "python",
   "pygments_lexer": "ipython3",
   "version": "3.6.0"
  }
 },
 "nbformat": 4,
 "nbformat_minor": 2
}
