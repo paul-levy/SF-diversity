{
 "cells": [
  {
   "cell_type": "markdown",
   "metadata": {},
   "source": [
    "# Chapter 1: The contrast-dependence of spatial frequency tuning\n",
    "Here, we'll organize (better than has been organized in the predecesor notebooks [descrAnalysisV1-allExps, V1_clustering, and descrAnalysisLGN]) the analysis for chapter 1 of my thesis."
   ]
  },
  {
   "cell_type": "markdown",
   "metadata": {},
   "source": [
    "Last access (y.m.d): 22.07.16  \n",
    "Last update (y.m.d): 22.07.13  "
   ]
  },
  {
   "cell_type": "markdown",
   "metadata": {},
   "source": [
    "### Table of contents\n",
    "\n",
    "- Initialize  \n",
    "- Gather data\n",
    "- Distribution of tuning measures **(0)**\n",
    "  - model free measures  \n",
    "  - comparison with derived measures  \n",
    "  - comparison with Cavanuagh, other datasets  \n",
    "- Tuning shifts with contrast **(1)**\n",
    "  - Characteristic frequency, i.e. $f_c$\n",
    "  - Bandwidth\n",
    "  - sf70\n",
    "- Shifts with contrast, refined view  **(2)**\n",
    "  - Trajectory of metric (usually $f_c$) against contrast\n",
    "      - Violinplot of distr. of bootstrap slopes ($\\delta(x)$ across contrast) per cell\n",
    "      - Plot distribution of fit slope across cells\n",
    "  - Scatter plot of sf70 - high contrast to {1/3rd contrast, low contrast)\n",
    "- Mechanism (DoG analysis) **(3)**\n",
    "    - i.e. Sach plot"
   ]
  },
  {
   "cell_type": "markdown",
   "metadata": {},
   "source": [
    "## Initialize"
   ]
  },
  {
   "cell_type": "code",
   "execution_count": 571,
   "metadata": {},
   "outputs": [],
   "source": [
    "import pandas as pd\n",
    "import pdb\n",
    "import warnings\n",
    "warnings.filterwarnings(action='once')\n",
    "\n",
    "import numpy as np\n",
    "import os\n",
    "import helper_fcns as hf\n",
    "# import model_responses as mr\n",
    "import scipy.stats as ss\n",
    "import scipy.odr.odrpack as odrpack\n",
    "from scipy.stats.mstats import gmean\n",
    "from scipy.stats import ks_2samp, kstest, linregress\n",
    "import itertools\n",
    "import autoreload\n",
    "from IPython.core.display import display, HTML, Image\n",
    "\n",
    "import seaborn as sns\n",
    "import matplotlib as mpl\n",
    "import matplotlib.pyplot as plt\n",
    "import matplotlib.cm as cm\n",
    "import matplotlib.backends.backend_pdf as pltSave\n",
    "\n",
    "# plt.style.use('https://raw.githubusercontent.com/paul-levy/SF_diversity/master/paul_plt_style.mplstyle');\n",
    "\n",
    "base_dir = os.getcwd() + '/';\n",
    "\n",
    "%matplotlib inline"
   ]
  },
  {
   "cell_type": "code",
   "execution_count": 572,
   "metadata": {},
   "outputs": [
    {
     "name": "stderr",
     "output_type": "stream",
     "text": [
      "/users/plevy/miniconda3/envs/pytorch-lcv/lib/python3.6/site-packages/ipykernel_launcher.py:16: MatplotlibDeprecationWarning: Support for setting the 'text.latex.preamble' or 'pgf.preamble' rcParam to a list of strings is deprecated since 3.3 and will be removed two minor releases later; set it to a single string instead.\n",
      "  app.launch_new_instance()\n"
     ]
    }
   ],
   "source": [
    "from matplotlib import rcParams\n",
    "\n",
    "tex_width = 469; # per \\layout in Overleaf on document\n",
    "sns_offset = 2; \n",
    "hist_width = 0.9;\n",
    "hist_ytitle = 0.94; # moves the overall title a bit further down on histogram plots0\n",
    "\n",
    "rcParams.update(mpl.rcParamsDefault)\n",
    "\n",
    "fontsz = 12;\n",
    "tick_scalar = 1.5;\n",
    "\n",
    "rcParams['pdf.fonttype'] = 42\n",
    "rcParams['ps.fonttype'] = 42\n",
    "\n",
    "rcParams['text.latex.preamble']=[r\"\\usepackage{lmodern}\"]\n",
    "params = {'text.usetex' : True,\n",
    "          'font.size' : fontsz,\n",
    "          'font.family': 'lmodern',\n",
    "           'font.style': 'italic'}\n",
    "plt.rcParams.update(params)\n",
    "\n",
    "# rcParams['lines.linewidth'] = 2.5;\n",
    "rcParams['lines.markeredgewidth'] = 0; # no edge, since weird tings happen then\n",
    "# rcParams['axes.linewidth'] = 2; # was 1.5\n",
    "# rcParams['lines.markersize'] = 5;\n",
    "\n",
    "tick_adj = ['xtick.major.size', 'xtick.minor.size', 'ytick.major.size', 'ytick.minor.size']\n",
    "for adj in tick_adj:\n",
    "    rcParams[adj] = rcParams[adj] * tick_scalar;\n",
    "    \n",
    "%matplotlib inline"
   ]
  },
  {
   "cell_type": "markdown",
   "metadata": {},
   "source": [
    "## Gather data\n",
    "\n",
    "Now, let's create a large list which will combine data/fits/analyses from all cells for all of the above experiments. For each cell, let's keep track of:\n",
    "* \"meta\" parameters:\n",
    "    * which experiment directory\n",
    "    * which dataList, fitList, descrFit, rvcFit\n",
    "    * which cell number within those lists\n",
    "    * which experiment index?\n",
    "    * which stimulus values (i.e. dispersions, sfs, contrasts)\n",
    "* inferred parameters:\n",
    "    * prefSf (for all conditions), along with % var explained\n",
    "    * c50 (again, for all conditions)\n",
    "* model parameters\n",
    "    * fit parameters, loss value for weighted and flat"
   ]
  },
  {
   "cell_type": "code",
   "execution_count": 573,
   "metadata": {},
   "outputs": [],
   "source": [
    "autoreload.reload(hf);"
   ]
  },
  {
   "cell_type": "code",
   "execution_count": 639,
   "metadata": {},
   "outputs": [],
   "source": [
    "whichArea = 'V1' ; # 'LGN' or 'V1'\n",
    "# whichArea = 'LGN'; # 'LGN' or 'V1'\n",
    "wMods = 0 if whichArea == 'V1' else 0; # if wMods \n",
    "wModStr = '_wMods' if wMods else ''\n",
    "\n",
    "if whichArea == 'V1':\n",
    "    whichMod = 3; # applies only for V1\n",
    "    jointType = 9 if whichMod==3 else 7;\n",
    "else:\n",
    "    whichMod = 1; # applies only for V1, anyway...\n",
    "    jointType = 7;\n",
    "inclBB = False\n",
    "\n",
    "alt_suffix = '_vEs' if inclBB else '_onlyV1';\n",
    "\n",
    "cut_by_slope = 0; # if cut_by_slope, we cut all cells that will not meet the #of conditions for cFreq slope-fitting;\n",
    "# --- otherwise, we just make sure that there's at least one condition above threshold...\n",
    "need_for_slope = 3 if whichArea=='LGN' else 3; # if X, then we need X contrast conditions to fit a slope\n",
    "# need_for_slope = 3 if whichArea=='LGN' else 2; # if X, then we need X contrast conditions to fit a slope\n",
    "\n",
    "toGroup = 'simple' if whichArea == 'V1' else 'triType'; # triType is 'magno', 'parvo', 'other'\n",
    "\n",
    "fitBase = '220702' if whichArea == 'LGN' else '220707vEs'; # descriptive fits (rvc,SF tuning)\n",
    "# fitBase = '220609' if whichArea == 'LGN' else '220702'; # descriptive fits (rvc,SF tuning)\n",
    "fitBaseMod = '210331'; # model fits\n",
    "\n",
    "if whichArea == 'LGN':\n",
    "    thresh = 0;\n",
    "#     thresh = 65;\n",
    "    if jointType == 0:\n",
    "        suffix = '%s%s_220615_vT%02d_dvT%02d_jt0' % (whichArea, wModStr, thresh, thresh)\n",
    "    if jointType == 2:\n",
    "        suffix = '%s%s_220614_vT%02d_dvT%02d_jt2' % (whichArea, wModStr, thresh, thresh)\n",
    "    elif jointType == 7:\n",
    "        suffix = '%s%s_220613_vT%02d_dvT%02d' % (whichArea, wModStr, thresh, thresh)\n",
    "#         suffix = '%s%s_220704_vT%02d_dvT%02d' % (whichArea, wModStr, thresh, thresh)\n",
    "#         suffix = '%s%s_220629_vT%02d_dvT%02d' % (whichArea, wModStr, thresh, thresh)\n",
    "else:\n",
    "    thresh = 0; # 70\n",
    "#     suffix = '%s%s_220703_vT%02d_dvT%02d_m%dj%d%s' % (whichArea, wModStr, thresh, thresh, whichMod, jointType, alt_suffix)\n",
    "#     suffix = '%s%s_220704_vT%02d_dvT%02d_m%dj%d%s' % (whichArea, wModStr, thresh, thresh, whichMod, jointType, alt_suffix)\n",
    "    suffix = '%s%s_220716alt_vT%02d_dvT%02d_m%dj%d%s' % (whichArea, wModStr, thresh, thresh, whichMod, jointType, alt_suffix)\n",
    "#     suffix = '%s%s_220708_vT%02d_dvT%02d_m%dj%d%s' % (whichArea, wModStr, thresh, thresh, whichMod, jointType, alt_suffix)\n",
    "\n",
    "try:\n",
    "    jointList = hf.np_smart_load(base_dir + 'jointList_%s.npy' % suffix)\n",
    "    if jointList == []:\n",
    "        jointList = np.load(base_dir + 'jointList_%s.npy' % suffix, allow_pickle=True);\n",
    "except: # if it wasn't pickled, then we'll need to just load without the .item which is implicit in hf.np_smart_load\n",
    "    jointList = np.load(base_dir + 'jointList_%s.npy' % suffix, allow_pickle=True);\n",
    "#     jointList = np.load(base_dir + 'jointList_%s.npy' % suffix);\n",
    "\n",
    "slope_spec = '_slp%02d' % need_for_slope if cut_by_slope==1 else '';\n",
    "\n",
    "saveName = 'figures/reports/ch1/%s%s/' % (suffix, slope_spec) # for one save name for all figures\n",
    "save_loc = base_dir + saveName;"
   ]
  },
  {
   "cell_type": "markdown",
   "metadata": {},
   "source": [
    "#### Trim the jointList on some criteria?"
   ]
  },
  {
   "cell_type": "code",
   "execution_count": 640,
   "metadata": {},
   "outputs": [
    {
     "name": "stdout",
     "output_type": "stream",
     "text": [
      "We cut 0 cells (0.00% of the original 81)\n"
     ]
    },
    {
     "name": "stderr",
     "output_type": "stream",
     "text": [
      "<string>:6: DeprecationWarning: Calling nonzero on 0d arrays is deprecated, as it behaves surprisingly. Use `atleast_1d(cond).nonzero()` if the old behavior was intended. If the context of this warning is of the form `arr[nonzero(cond)]`, just use `arr[cond]`.\n"
     ]
    }
   ],
   "source": [
    "# A: must have at least one single grating tuning curve which has non-nan varExpl (i.e. > VarExplThresh) \n",
    "# altA: single grating tuning curve at high contrast must have non-nan varExpl (i.e. > varExplThresh) \n",
    "# --- for the diff-of-gauss tuning fit\n",
    "\n",
    "# Get the keys as ints for easy indexing\n",
    "keysAsInts = np.array([int(x) for x in jointList.keys()])\n",
    "\n",
    "prevCells = len(jointList)\n",
    "if cut_by_slope:\n",
    "    critA = np.where([np.sum(~np.isnan(jointList[x]['metrics']['dog_varExpl'][0])) >= need_for_slope for x in sorted(jointList.keys())])[0]\n",
    "else:\n",
    "    critA = np.where([len(np.where(~np.isnan(jointList[x]['metrics']['dog_varExpl'][0,-1]))[0]) > 0 for x in sorted(jointList.keys())])[0]\n",
    "# critA = np.where([len(np.where(~np.isnan(jointList[x]['metrics']['sfVarExpl'][0,:]))[0]) > 0 for x in sorted(jointList.keys())])[0]\n",
    "\n",
    "\n",
    "jointListTrim = {key: jointList[keysAsInts[key]] for key in critA}\n",
    "jointList = jointListTrim\n",
    "\n",
    "remCells = len(jointList)\n",
    "\n",
    "nCut = prevCells-remCells\n",
    "\n",
    "print('We cut %d cells (%.2f%% of the original %d)' % (nCut, 100*nCut/prevCells, prevCells))\n",
    "\n",
    "# also get the keys as ints for easy indexing\n",
    "keysAsInts = np.array([int(x) for x in jointList.keys()])"
   ]
  },
  {
   "cell_type": "markdown",
   "metadata": {},
   "source": [
    "Now, put this list of dictionaries into a pandas dataframe for better plotting (hacky)\n",
    "\n",
    "- First, create a pandas data frame\n",
    "- Then, json \"normalize\" each top-level dictionary (e.g. metadata) into it's own dataframe\n",
    "- Finally, combine _those_ dataframes into one"
   ]
  },
  {
   "cell_type": "code",
   "execution_count": 641,
   "metadata": {},
   "outputs": [],
   "source": [
    "# ref_slopes = [];\n",
    "# aE = hf.np_smart_load('altExp/structures/descrFitsHPC_220702_sqrt_ddogs_JTflankFixedCopyCtrRaSlope.npy')\n",
    "# v1 = hf.np_smart_load('V1/structures/descrFitsHPC_220702_sqrt_ddogs_JTflankFixedCopyCtrRaSlope.npy')\n",
    "\n",
    "# ref_slopes.extend([-aE[x]['paramList'][0][1] if np.all(~np.isnan(aE[x]['paramList'][0])) else np.nan for x in range(8)])\n",
    "# ref_slopes.extend([-v1[x]['paramList'][0][1] if np.all(~np.isnan(v1[x]['paramList'][0]))  else np.nan for x in range(81)])\n",
    "# ref_slopes = np.array(ref_slopes)\n",
    "\n",
    "# nu_slopes = [];\n",
    "# aE = hf.np_smart_load('altExp/structures/descrFitsHPC_220702vE_sqrt_ddogs_JTflankFixedCopyCtrRaSlope.npy')\n",
    "# v1 = hf.np_smart_load('V1/structures/descrFitsHPC_220702vE_sqrt_ddogs_JTflankFixedCopyCtrRaSlope.npy')\n",
    "\n",
    "# nu_slopes.extend([-aE[x]['paramList'][0][1] if np.all(~np.isnan(aE[x]['paramList'][0])) else np.nan for x in range(8)])\n",
    "# nu_slopes.extend([-v1[x]['paramList'][0][1] if np.all(~np.isnan(v1[x]['paramList'][0]))  else np.nan for x in range(81)])\n",
    "# nu_slopes = np.array(nu_slopes)"
   ]
  },
  {
   "cell_type": "code",
   "execution_count": 642,
   "metadata": {},
   "outputs": [],
   "source": [
    "# inds_match = np.logical_and(~np.isnan(nu_slopes), ~np.isnan(ref_slopes))\n",
    "\n",
    "# plt.figure(figsize=(10,10))\n",
    "# plt.plot([-1,1],[-1,1],'k--')\n",
    "# plt.scatter(nu_slopes, ref_slopes);\n",
    "# plt.xlabel('lim. con slope')\n",
    "# plt.ylabel('all con slope')\n",
    "# plt.title('Median %.3f|%.3f (x|y)' % (np.nanmedian(nu_slopes[inds_match]), np.nanmedian(ref_slopes[inds_match])));"
   ]
  },
  {
   "cell_type": "code",
   "execution_count": 643,
   "metadata": {},
   "outputs": [],
   "source": [
    "ohno = pd.DataFrame.from_dict(jointList) #, orient='index')\n",
    "\n",
    "meta = pd.json_normalize([ohno[x]['metadata'] for x in sorted(ohno.keys())])\n",
    "metr = pd.json_normalize([ohno[x]['metrics'] for x in sorted(ohno.keys())])\n",
    "modl = pd.json_normalize([ohno[x]['model'] for x in sorted(ohno.keys())])\n",
    "# supr = pd.json_normalize([ohno[x]['superpos'] for x in sorted(ohno.keys())])\n",
    "basc = pd.json_normalize([ohno[x]['basics'] for x in sorted(ohno.keys())])\n",
    "\n",
    "mega = pd.concat((meta, metr, modl, basc), axis=1)"
   ]
  },
  {
   "cell_type": "code",
   "execution_count": 644,
   "metadata": {},
   "outputs": [],
   "source": [
    "colors = [];\n",
    "\n",
    "srt_group = False;\n",
    "\n",
    "# classify as simple or complex [FOR USE WITH V1]\n",
    "simple = mega['f1f0_ratio'] > 1\n",
    "msk = np.copy(simple)\n",
    "simple[~msk] = 'complex'\n",
    "simple[msk] = 'simple'\n",
    "mega['simple'] = simple\n",
    "\n",
    "if whichArea == 'LGN':\n",
    "    cellTypes = mega['cellType'];\n",
    "    non_mp = np.logical_and(~(cellTypes=='parvo'), ~(cellTypes=='magno'))\n",
    "    cellTypes[non_mp] = 'other'\n",
    "    \n",
    "    mega['triType'] = cellTypes;\n",
    "    \n",
    "# get color scheme\n",
    "cnt = 0;\n",
    "grp_names = [];\n",
    "for nm, group in mega.groupby(toGroup, sort=srt_group):\n",
    "    cnt += 1;\n",
    "    grp_names.append(nm)\n",
    "    \n",
    "# colors = cm.viridis(np.linspace(0.15, 0.95, cnt))\n",
    "colors = sns.color_palette('colorblind', n_colors=cnt-1)\n",
    "colors.append((0,0,0)); # add black!\n",
    "\n",
    "if srt_group==False and whichArea=='LGN': # then let's switch the 2nd and 3rd\n",
    "    colors_tmp=colors[1];\n",
    "    colors[1]=colors[2];\n",
    "    colors[2]=colors_tmp;\n",
    "\n",
    "alph= 0.8/cnt\n",
    "alphHist = 1; # the bins are non-overlapping now, so no need for transparency"
   ]
  },
  {
   "cell_type": "code",
   "execution_count": 645,
   "metadata": {},
   "outputs": [
    {
     "data": {
      "text/plain": [
       "['simple', 'complex']"
      ]
     },
     "execution_count": 645,
     "metadata": {},
     "output_type": "execute_result"
    }
   ],
   "source": [
    "grp_names"
   ]
  },
  {
   "cell_type": "code",
   "execution_count": 646,
   "metadata": {},
   "outputs": [
    {
     "data": {
      "image/png": "[encoded data removed]",
      "text/plain": [
       "<Figure size 144x72 with 1 Axes>"
      ]
     },
     "metadata": {
      "needs_background": "light"
     },
     "output_type": "display_data"
    }
   ],
   "source": [
    "sns.palplot(colors)"
   ]
  },
  {
   "cell_type": "markdown",
   "metadata": {},
   "source": [
    "### How many of each cell type?"
   ]
  },
  {
   "cell_type": "code",
   "execution_count": 647,
   "metadata": {},
   "outputs": [
    {
     "name": "stdout",
     "output_type": "stream",
     "text": [
      "081 total cells:\n",
      "  57 of complex\n",
      "  24 of simple\n"
     ]
    }
   ],
   "source": [
    "print('%03d total cells:' % len(mega['cellType']))\n",
    "if whichArea=='LGN':\n",
    "    types = np.array([mega['cellType'][x] for x in range(len(mega['cellType']))])\n",
    "    [print('  %02d of %s' % (np.sum(types==s),s)) for s in np.unique(types)]\n",
    "else:\n",
    "    types = np.array([mega['simple'][x] for x in range(len(mega['cellType']))])\n",
    "    [print('  %02d of %s' % (np.sum(types==s),s)) for s in np.unique(types)]"
   ]
  },
  {
   "cell_type": "markdown",
   "metadata": {},
   "source": [
    "## 00. Set any overall parameters\n",
    "For example, are we getting descr fits or DoG fits?"
   ]
  },
  {
   "cell_type": "code",
   "execution_count": 585,
   "metadata": {},
   "outputs": [],
   "source": [
    "isDog = 1; # 0 if descr; 1 if DoG\n",
    "dog_suffix = 'dog_' if isDog else '';\n",
    "dog_suffix_sv = '_dog' if isDog else '';\n",
    "dog_suffix_plt = 'dog ' if isDog else ''"
   ]
  },
  {
   "cell_type": "markdown",
   "metadata": {},
   "source": [
    "## 0. Distribution of tuning measures\n"
   ]
  },
  {
   "cell_type": "code",
   "execution_count": 509,
   "metadata": {},
   "outputs": [
    {
     "data": {
      "image/png": "[encoded data removed]",
      "text/plain": [
       "<Figure size 1250.67x772.955 with 64 Axes>"
      ]
     },
     "metadata": {
      "needs_background": "light"
     },
     "output_type": "display_data"
    }
   ],
   "source": [
    "if jointType >= 7: # only works if this is the case\n",
    "\n",
    "    n_cells = len(jointList);\n",
    "\n",
    "    n_rows = np.ceil(np.sqrt(n_cells)).astype(int);\n",
    "    n_cols = np.ceil(n_cells/n_rows).astype(int);\n",
    "\n",
    "    f, ax = plt.subplots(n_rows, n_cols, figsize=hf.set_size(tex_width, fraction=n_cols/3, subplots=(n_rows, n_cols)));\n",
    "#     f, ax = plt.subplots(n_rows, n_cols, figsize=(8*n_cols, 4*n_rows));\n",
    "\n",
    "    for ii,cl in enumerate(jointList.keys()):\n",
    "\n",
    "        row_ind, col_ind = np.floor(ii/n_cols).astype(int), np.mod(ii, n_cols);\n",
    "\n",
    "        og_slp = jointList[cl]['metrics']['dog_mod_slope'];\n",
    "        slps = jointList[cl]['metrics']['boot_dog_mod_slope'];\n",
    "\n",
    "        if slps is None:\n",
    "            continue;\n",
    "        \n",
    "        ax[row_ind, col_ind].plot(sorted(slps), clip_on=False)\n",
    "\n",
    "        n_lt0 = len(slps)-np.sum(slps>0);\n",
    "        ax[row_ind, col_ind].axvline(n_lt0, color='k', linestyle='--', label='%02d out of %02d' % (n_lt0, len(slps)))\n",
    "        ax[row_ind, col_ind].axhline(0, color='k', linestyle='--')\n",
    "        ax[row_ind, col_ind].legend(fontsize='x-small');\n",
    "        expdir = jointList[cl]['metadata']['fullPath'].split('/')[-3]\n",
    "        cn = jointList[cl]['metadata']['cellNum']\n",
    "        ax[row_ind, col_ind].set_title('%s %02d (%.3f)' % (expdir, cn, og_slp))\n",
    "        ax[row_ind, col_ind].set_xlim([0,len(slps)]);\n",
    "        ax[row_ind, col_ind].set_ylim([-1, 1])\n",
    "\n",
    "    f.tight_layout();\n",
    "    sns.despine(offset=5)\n",
    "\n",
    "    # now save\n",
    "    saveName = '00_00_jt7_allBootSlopes.pdf'\n",
    "    if not os.path.exists(save_loc):\n",
    "        os.makedirs(save_loc)\n",
    "    pdfSv = pltSave.PdfPages(save_loc + saveName);\n",
    "    pdfSv.savefig(f) # only one figure here...\n",
    "    pdfSv.close()"
   ]
  },
  {
   "cell_type": "code",
   "execution_count": 510,
   "metadata": {},
   "outputs": [],
   "source": [
    "#######################\n",
    "#######################\n",
    "#######################\n",
    "#######################\n",
    "#######################\n",
    "#######################"
   ]
  },
  {
   "cell_type": "code",
   "execution_count": 511,
   "metadata": {},
   "outputs": [],
   "source": [
    "com, _ = hf.jl_get_metric_byCon(jointList, 'sfCom', conVal=1.0, disp=0, valIsFrac=True)\n",
    "var, _ = hf.jl_get_metric_byCon(jointList, 'sfVar', conVal=1.0, disp=0, valIsFrac=True)\n",
    "\n",
    "pSf, _ = hf.jl_get_metric_byCon(jointList, 'boot_%spSf_mn' % dog_suffix, conVal=1.0, disp=0, valIsFrac=True)\n",
    "pSf_stdLog, _ = hf.jl_get_metric_byCon(jointList, 'boot_%spSf_stdLog' % dog_suffix, conVal=1.0, disp=0, valIsFrac=True)\n",
    "# sf70\n",
    "sf70, _ = hf.jl_get_metric_byCon(jointList, 'boot_%ssf70_mn' % dog_suffix, conVal=1.0, disp=0, valIsFrac=True)\n",
    "sf70_stdLog, _ = hf.jl_get_metric_byCon(jointList, 'boot_%ssf70_stdLog' % dog_suffix, conVal=1.0,\n",
    "                                        disp=0, valIsFrac=True)\n",
    "sf70_third, _ = hf.jl_get_metric_byCon(jointList, 'boot_%ssf70_mn' % dog_suffix, conVal=0.33, conTol=0.065,\n",
    "                                       disp=0, valIsFrac=True)\n",
    "sf70_stdLog_third, _ = hf.jl_get_metric_byCon(jointList, 'boot_%ssf70_stdLog' % dog_suffix, conTol=0.065,\n",
    "                                              conVal=0.33, disp=0, valIsFrac=True)\n",
    "# charFreq\n",
    "cFreq, _ = hf.jl_get_metric_byCon(jointList, 'boot_dog_charFreq_mn', conVal=1.0, disp=0, valIsFrac=True)\n",
    "cFreq_stdLog, _ = hf.jl_get_metric_byCon(jointList, 'boot_dog_charFreq_stdLog', conVal=1.0,\n",
    "                                        disp=0, valIsFrac=True)\n",
    "cFreq_third, _ = hf.jl_get_metric_byCon(jointList, 'boot_dog_charFreq_mn', conVal=0.33, conTol=0.065,\n",
    "                                       disp=0, valIsFrac=True)\n",
    "cFreq_stdLog_third, _ = hf.jl_get_metric_byCon(jointList, 'boot_dog_charFreq_stdLog', conTol=0.065,\n",
    "                                              conVal=0.33, disp=0, valIsFrac=True)\n",
    "# bwHalf\n",
    "bwHalf, _ = hf.jl_get_metric_byCon(jointList, 'boot_%sbwHalf_mn' % dog_suffix, conVal=1.0, disp=0, valIsFrac=True)\n",
    "bwHalf_std, _ = hf.jl_get_metric_byCon(jointList, 'boot_%sbwHalf_std' % dog_suffix, conVal=1.0, disp=0, valIsFrac=True)\n",
    "bwHalf_third, _ = hf.jl_get_metric_byCon(jointList, 'boot_%sbwHalf_mn' % dog_suffix, conVal=0.33, disp=0, \n",
    "                                         valIsFrac=True, conTol=0.065)\n",
    "\n",
    "mega['com_h'] = com\n",
    "mega['var_h'] = com\n",
    "\n",
    "mega['pSf_mn'] = pSf\n",
    "mega['pSf_stdLog'] = pSf_stdLog\n",
    "mega['sf70_mn'] = sf70\n",
    "mega['sf70_stdLog'] = sf70_stdLog\n",
    "mega['sf70_mn_third'] = sf70_third\n",
    "mega['sf70_stdLog_third'] = sf70_stdLog_third\n",
    "mega['charFreq_mn'] = cFreq\n",
    "mega['charFreq_stdLog'] = cFreq_stdLog\n",
    "mega['charFreq_mn_third'] = cFreq_third\n",
    "mega['charFreq_stdLog_third'] = cFreq_stdLog_third\n",
    "mega['bwHalf_mn'] = bwHalf\n",
    "mega['bwHalf_std'] = bwHalf_std\n",
    "mega['bwHalf_mn_third'] = bwHalf_third\n",
    "\n",
    "if whichArea == 'LGN':\n",
    "    mega['conGain_max'] = np.array([np.nanmax(mega['conGain'][x][0]) for x in mega['conGain'].keys()])"
   ]
  },
  {
   "cell_type": "code",
   "execution_count": 512,
   "metadata": {},
   "outputs": [],
   "source": [
    "# simple lin. regression\n",
    "def fn(B, x):\n",
    "    return B[0]*x + B[1]\n",
    "linear = odrpack.Model(fn)"
   ]
  },
  {
   "cell_type": "code",
   "execution_count": 513,
   "metadata": {},
   "outputs": [],
   "source": [
    "highSf, compSf, compCons = hf.jl_get_metric_highComp(jointList, 'boot_%ssf70_values' % dog_suffix, 0, 1);"
   ]
  },
  {
   "cell_type": "markdown",
   "metadata": {},
   "source": [
    "##### Show that pSf and sf70 {and then charFreq} are correlated"
   ]
  },
  {
   "cell_type": "code",
   "execution_count": 514,
   "metadata": {
    "scrolled": false
   },
   "outputs": [
    {
     "ename": "TypeError",
     "evalue": "expected non-empty vector for x",
     "output_type": "error",
     "traceback": [
      "\u001b[0;31m---------------------------------------------------------------------------\u001b[0m",
      "\u001b[0;31mTypeError\u001b[0m                                 Traceback (most recent call last)",
      "\u001b[0;32m<ipython-input-514-14e07b6dfe48>\u001b[0m in \u001b[0;36m<module>\u001b[0;34m\u001b[0m\n\u001b[1;32m     10\u001b[0m \u001b[0;34m\u001b[0m\u001b[0m\n\u001b[1;32m     11\u001b[0m \u001b[0;31m# initial guess via simple correlation (ignoring errors)\u001b[0m\u001b[0;34m\u001b[0m\u001b[0;34m\u001b[0m\u001b[0;34m\u001b[0m\u001b[0m\n\u001b[0;32m---> 12\u001b[0;31m \u001b[0minit_guess\u001b[0m \u001b[0;34m=\u001b[0m \u001b[0mnp\u001b[0m\u001b[0;34m.\u001b[0m\u001b[0mpolyfit\u001b[0m\u001b[0;34m(\u001b[0m\u001b[0mnp\u001b[0m\u001b[0;34m.\u001b[0m\u001b[0mlog10\u001b[0m\u001b[0;34m(\u001b[0m\u001b[0mpSf\u001b[0m\u001b[0;34m[\u001b[0m\u001b[0mnon_nan\u001b[0m\u001b[0;34m]\u001b[0m\u001b[0;34m)\u001b[0m\u001b[0;34m,\u001b[0m \u001b[0mnp\u001b[0m\u001b[0;34m.\u001b[0m\u001b[0mlog10\u001b[0m\u001b[0;34m(\u001b[0m\u001b[0msf70\u001b[0m\u001b[0;34m[\u001b[0m\u001b[0mnon_nan\u001b[0m\u001b[0;34m]\u001b[0m\u001b[0;34m)\u001b[0m\u001b[0;34m,\u001b[0m \u001b[0mdeg\u001b[0m\u001b[0;34m=\u001b[0m\u001b[0;36m1\u001b[0m\u001b[0;34m)\u001b[0m\u001b[0;34m\u001b[0m\u001b[0;34m\u001b[0m\u001b[0m\n\u001b[0m\u001b[1;32m     13\u001b[0m \u001b[0;34m\u001b[0m\u001b[0m\n\u001b[1;32m     14\u001b[0m \u001b[0mmyodr\u001b[0m \u001b[0;34m=\u001b[0m \u001b[0modrpack\u001b[0m\u001b[0;34m.\u001b[0m\u001b[0mODR\u001b[0m\u001b[0;34m(\u001b[0m\u001b[0mmydata\u001b[0m\u001b[0;34m,\u001b[0m \u001b[0mlinear\u001b[0m\u001b[0;34m,\u001b[0m \u001b[0mbeta0\u001b[0m\u001b[0;34m=\u001b[0m\u001b[0mnp\u001b[0m\u001b[0;34m.\u001b[0m\u001b[0mflip\u001b[0m\u001b[0;34m(\u001b[0m\u001b[0minit_guess\u001b[0m\u001b[0;34m)\u001b[0m\u001b[0;34m,\u001b[0m \u001b[0miprint\u001b[0m\u001b[0;34m=\u001b[0m\u001b[0;36m2\u001b[0m\u001b[0;34m)\u001b[0m\u001b[0;34m\u001b[0m\u001b[0;34m\u001b[0m\u001b[0m\n",
      "\u001b[0;32m<__array_function__ internals>\u001b[0m in \u001b[0;36mpolyfit\u001b[0;34m(*args, **kwargs)\u001b[0m\n",
      "\u001b[0;32m~/miniconda3/envs/pytorch-lcv/lib/python3.6/site-packages/numpy/lib/polynomial.py\u001b[0m in \u001b[0;36mpolyfit\u001b[0;34m(x, y, deg, rcond, full, w, cov)\u001b[0m\n\u001b[1;32m    597\u001b[0m         \u001b[0;32mraise\u001b[0m \u001b[0mTypeError\u001b[0m\u001b[0;34m(\u001b[0m\u001b[0;34m\"expected 1D vector for x\"\u001b[0m\u001b[0;34m)\u001b[0m\u001b[0;34m\u001b[0m\u001b[0;34m\u001b[0m\u001b[0m\n\u001b[1;32m    598\u001b[0m     \u001b[0;32mif\u001b[0m \u001b[0mx\u001b[0m\u001b[0;34m.\u001b[0m\u001b[0msize\u001b[0m \u001b[0;34m==\u001b[0m \u001b[0;36m0\u001b[0m\u001b[0;34m:\u001b[0m\u001b[0;34m\u001b[0m\u001b[0;34m\u001b[0m\u001b[0m\n\u001b[0;32m--> 599\u001b[0;31m         \u001b[0;32mraise\u001b[0m \u001b[0mTypeError\u001b[0m\u001b[0;34m(\u001b[0m\u001b[0;34m\"expected non-empty vector for x\"\u001b[0m\u001b[0;34m)\u001b[0m\u001b[0;34m\u001b[0m\u001b[0;34m\u001b[0m\u001b[0m\n\u001b[0m\u001b[1;32m    600\u001b[0m     \u001b[0;32mif\u001b[0m \u001b[0my\u001b[0m\u001b[0;34m.\u001b[0m\u001b[0mndim\u001b[0m \u001b[0;34m<\u001b[0m \u001b[0;36m1\u001b[0m \u001b[0;32mor\u001b[0m \u001b[0my\u001b[0m\u001b[0;34m.\u001b[0m\u001b[0mndim\u001b[0m \u001b[0;34m>\u001b[0m \u001b[0;36m2\u001b[0m\u001b[0;34m:\u001b[0m\u001b[0;34m\u001b[0m\u001b[0;34m\u001b[0m\u001b[0m\n\u001b[1;32m    601\u001b[0m         \u001b[0;32mraise\u001b[0m \u001b[0mTypeError\u001b[0m\u001b[0;34m(\u001b[0m\u001b[0;34m\"expected 1D or 2D array for y\"\u001b[0m\u001b[0;34m)\u001b[0m\u001b[0;34m\u001b[0m\u001b[0;34m\u001b[0m\u001b[0m\n",
      "\u001b[0;31mTypeError\u001b[0m: expected non-empty vector for x"
     ]
    }
   ],
   "source": [
    "saveName = '00_00_pSf_sf70_con%s.pdf' % dog_suffix_sv\n",
    "\n",
    "non_nan = np.logical_and(~np.isnan(pSf), ~np.isnan(sf70));\n",
    "\n",
    "pSf_stdLog[pSf_stdLog==0] = 1e-3\n",
    "sf70_stdLog[sf70_stdLog==0] = 1e-3\n",
    "\n",
    "mydata = odrpack.RealData(np.log10(pSf[non_nan]), np.log10(sf70[non_nan]), \n",
    "                          sx=pSf_stdLog[non_nan], sy=sf70_stdLog[non_nan])\n",
    "\n",
    "# initial guess via simple correlation (ignoring errors)\n",
    "init_guess = np.polyfit(np.log10(pSf[non_nan]), np.log10(sf70[non_nan]), deg=1)\n",
    "\n",
    "myodr = odrpack.ODR(mydata, linear, beta0=np.flip(init_guess), iprint=2)\n",
    "myodr.set_iprint(init=2, iter=2, final=2)\n",
    "myoutput = myodr.run()\n",
    "myoutput.pprint()\n",
    "\n",
    "plt.figure(figsize=hf.set_size(width=tex_width));\n",
    "# plt.figure(figsize=(10, 10));\n",
    "\n",
    "grouped = mega.groupby(toGroup, sort=srt_group)\n",
    "\n",
    "for (name, group), clr in zip(grouped, colors):\n",
    "    ok = np.logical_and(~np.isnan(group['pSf_mn']), ~np.isnan(group['sf70_mn']));\n",
    "    plt.errorbar(group['pSf_mn'], group['sf70_mn'], yerr=group['sf70_stdLog'], xerr=group['pSf_stdLog'], \n",
    "                 fmt='o', color=clr, alpha=alph, label='%s [n=%d]' % (name, len(ok)))\n",
    "\n",
    "### Plot unity line, model; set up legend\n",
    "plt.xscale('log')\n",
    "plt.yscale('log')\n",
    "plt.plot([2e-1, 1.5e1], [2e-1, 1.5e1], 'k--', alpha=alph, label='unity');\n",
    "plt.axis('equal')\n",
    "\n",
    "xvals = np.geomspace(2e-1, 1.5e1, 100)\n",
    "plt.plot(xvals, np.power(10, fn(myoutput.beta, np.log10(xvals))), \n",
    "         'r--', label=r'total lsq [m=%.2f]' % (myoutput.beta[0]), alpha=alph);\n",
    "plt.legend(fontsize='small')\n",
    "plt.xlabel(r'$sf_{pref}$ (c/deg)')\n",
    "plt.ylabel(r'$sf_{70}$ (c/deg)')\n",
    "# plt.plot(xvals, np.power(10, f(init_guess, np.log10(xvals))), 'r--', label='1d reg', alpha=0.3);\n",
    "\n",
    "# f.tight_layout();\n",
    "sns.despine(offset=sns_offset);\n",
    "\n",
    "# now save\n",
    "if not os.path.exists(save_loc):\n",
    "    os.makedirs(save_loc)\n",
    "pdfSv = pltSave.PdfPages(save_loc + saveName);\n",
    "f = plt.gcf()\n",
    "pdfSv.savefig(f) # only one figure here...\n",
    "pdfSv.close()\n"
   ]
  },
  {
   "cell_type": "code",
   "execution_count": null,
   "metadata": {
    "scrolled": false
   },
   "outputs": [],
   "source": [
    "saveName = '00_00alt_pSf_charFreq_con%s.pdf' % dog_suffix_sv\n",
    "\n",
    "non_nan = np.logical_and(~np.isnan(pSf), ~np.isnan(sf70));\n",
    "\n",
    "pSf_stdLog[pSf_stdLog==0] = 1e-3\n",
    "sf70_stdLog[sf70_stdLog==0] = 1e-3\n",
    "\n",
    "mydata = odrpack.RealData(np.log10(pSf[non_nan]), np.log10(cFreq[non_nan]), \n",
    "                          sx=pSf_stdLog[non_nan], sy=cFreq_stdLog[non_nan])\n",
    "\n",
    "# initial guess via simple correlation (ignoring errors)\n",
    "init_guess = np.polyfit(np.log10(pSf[non_nan]), np.log10(sf70[non_nan]), deg=1)\n",
    "\n",
    "myodr = odrpack.ODR(mydata, linear, beta0=np.flip(init_guess), iprint=2)\n",
    "myodr.set_iprint(init=2, iter=2, final=2)\n",
    "myoutput = myodr.run()\n",
    "myoutput.pprint()\n",
    "\n",
    "plt.figure(figsize=hf.set_size(width=tex_width));\n",
    "\n",
    "grouped = mega.groupby(toGroup, sort=srt_group)\n",
    "\n",
    "for (name, group), clr in zip(grouped, colors):\n",
    "    ok = np.logical_and(~np.isnan(group['pSf_mn']), ~np.isnan(group['charFreq_mn']));\n",
    "    plt.errorbar(group['pSf_mn'], group['charFreq_mn'], yerr=group['charFreq_stdLog'], xerr=group['pSf_stdLog'], \n",
    "                 fmt='o', color=clr, alpha=alph, label='%s [n=%d]' % (name, len(ok)))\n",
    "\n",
    "### Plot unity line, model; set up legend\n",
    "plt.xscale('log')\n",
    "plt.yscale('log')\n",
    "plt.plot([2e-1, 1.5e1], [2e-1, 1.5e1], 'k--', alpha=alph, label='unity');\n",
    "plt.axis('equal')\n",
    "\n",
    "xvals = np.geomspace(2e-1, 1.5e1, 100)\n",
    "plt.plot(xvals, np.power(10, fn(myoutput.beta, np.log10(xvals))), \n",
    "         'r--', label=r'total lsq [m=%.2f]' % (myoutput.beta[0]), alpha=alph);\n",
    "plt.legend(fontsize='small')\n",
    "plt.xlabel(r'$sf_{pref}$ (c/deg)')\n",
    "plt.ylabel(r'$f_{c}$ (c/deg)')\n",
    "# plt.plot(xvals, np.power(10, f(init_guess, np.log10(xvals))), 'r--', label='1d reg', alpha=0.3);\n",
    "\n",
    "sns.despine(offset=sns_offset);\n",
    "\n",
    "# now save\n",
    "if not os.path.exists(save_loc):\n",
    "    os.makedirs(save_loc)\n",
    "pdfSv = pltSave.PdfPages(save_loc + saveName);\n",
    "f = plt.gcf()\n",
    "pdfSv.savefig(f) # only one figure here...\n",
    "pdfSv.close()\n"
   ]
  },
  {
   "cell_type": "markdown",
   "metadata": {},
   "source": [
    "##### Plot distribution of sf70 at highContrast"
   ]
  },
  {
   "cell_type": "code",
   "execution_count": null,
   "metadata": {},
   "outputs": [],
   "source": [
    "sf70bins = np.linspace(-2, 4, 13)"
   ]
  },
  {
   "cell_type": "code",
   "execution_count": null,
   "metadata": {},
   "outputs": [],
   "source": [
    "def bin_offsets(nBins, width):\n",
    "    if np.mod(nBins,2) == 0: # i.e. even # of bins\n",
    "        return width*np.linspace(-0.5-(nBins/2-1), 0.5+(nBins/2-1), nBins)\n",
    "    else: # i.e. odd # of bins\n",
    "        return width*np.linspace(-np.floor(nBins/2), np.floor(nBins/2), nBins)"
   ]
  },
  {
   "cell_type": "code",
   "execution_count": null,
   "metadata": {},
   "outputs": [],
   "source": [
    "maxCon = 1; # max con...\n",
    "# maxCon = 0; # then we do 1/3 of max\n",
    "\n",
    "lbl = '' if maxCon else '_third'\n",
    "\n",
    "use_norm=False;\n",
    "norm_str = '_normed' if use_norm else '';\n",
    "\n",
    "saveName = '00_01_sf70%s%s%s.pdf' % (lbl, dog_suffix_sv, norm_str)\n",
    "\n",
    "nrow=len(grp_names);\n",
    "f, ax = plt.subplots(nrows=nrow, ncols=1, figsize=(hf.set_size(tex_width, subplots=(1,1))),\n",
    "                     sharex=True, sharey=True)\n",
    "\n",
    "grouped = mega.groupby(toGroup, sort=srt_group)\n",
    "\n",
    "# gather and calculate\n",
    "bins = sf70bins\n",
    "stepSize = (bins[-1] - bins[0])/(len(bins)-1);\n",
    "binPlotLocs = bins[1:] - 0.5*stepSize;\n",
    "clipLow, clipHigh = bins[1]-0.5*stepSize, bins[-2]+0.5*stepSize;\n",
    "\n",
    "tickVals = np.linspace(bins[1], bins[-2], len(bins)-2)\n",
    "\n",
    "to_comp = [];\n",
    "\n",
    "width = hist_width*stepSize;\n",
    "\n",
    "bottom=np.zeros((len(binPlotLocs), ));\n",
    "\n",
    "for (i, (name, group)), clr in zip(enumerate(grouped), colors):\n",
    "    clipped = [np.clip(np.log2(x), clipLow, clipHigh) for x in hf.nan_rm(group['sf70_mn%s' % lbl])];\n",
    "    vals, _ = np.histogram(clipped, bins=bins)\n",
    "    vals_norm = vals/np.sum(vals)\n",
    "\n",
    "    # calculate\n",
    "    # nSF = [len(x) for x in psfs_clipped]\n",
    "    mdn = np.nanmedian(group['sf70_mn%s' % lbl]);\n",
    "    # mnSF = [np.nanmean(x) for x in psfs];\n",
    "    # gmnSF = [gmean(hf.nan_rm(x)) for x in psfs];\n",
    "\n",
    "    to_use = vals_norm if use_norm else vals;\n",
    "    \n",
    "    ax[i].bar(binPlotLocs, to_use, width=width, align='center', color=clr,\n",
    "            label='%s [n=%d, md=%.2f]' % (name, np.sum(vals), mdn), alpha=alphHist);\n",
    "    ax[i].plot(np.log2(mdn), 1.1*np.max(to_use), 'v', color=clr)\n",
    "    \n",
    "    tickStrs = ['%.1f' % np.power(2, x) for x in tickVals];\n",
    "    tickStrs[0] = '$<$%s' % tickStrs[0];\n",
    "    tickStrs[-1] = '$>$%s' % tickStrs[-1];\n",
    "    ax[i].set_xticks(tickVals);\n",
    "    ax[i].set_xticklabels(tickStrs);\n",
    "    \n",
    "    ax[i].legend()\n",
    "    ax[i].set_ylabel('Fraction of cells' if use_norm else 'Cell count');\n",
    "    if i==nrow-1:\n",
    "        ax[i].set_xlabel(r'$sf_{70}$ (c/deg)');\n",
    "        \n",
    "    if len(grouped) > 2: # i.e. it's LGN...\n",
    "        if name == 'other':\n",
    "            continue;\n",
    "        to_comp.append(hf.nan_rm(group['sf70_mn%s' % lbl]))\n",
    "    else:\n",
    "        to_comp.append(hf.nan_rm(group['sf70_mn%s' % lbl]))\n",
    "\n",
    "ttest = ss.ttest_ind(*to_comp);\n",
    "f.suptitle(r'Distribution of $%ssf_{70}$ [p=%.1e]' % (dog_suffix_plt, ttest.pvalue), y=hist_ytitle)#' [%s] (%s, n=%d, median=%.2f, mn=%.2f, gmn=%.2f)' % (fitStr[i], whichArea, nSF[i], medianSF[i], mnSF[i], gmnSF[i]));\n",
    "sns.despine(offset=sns_offset);\n",
    "\n",
    "# now save\n",
    "if not os.path.exists(save_loc):\n",
    "    os.makedirs(save_loc)\n",
    "pdfSv = pltSave.PdfPages(save_loc + saveName);\n",
    "f = plt.gcf()\n",
    "pdfSv.savefig(f) # only one figure here...\n",
    "pdfSv.close()\n"
   ]
  },
  {
   "cell_type": "code",
   "execution_count": null,
   "metadata": {},
   "outputs": [],
   "source": [
    "saveName = '00_01alt_pSf_highCon%s.pdf' % dog_suffix_sv\n",
    "\n",
    "nrow=len(grp_names);\n",
    "f, ax = plt.subplots(nrows=nrow, ncols=1, figsize=(hf.set_size(tex_width, subplots=(nrow,1), extra_height=1-1/nrow)),\n",
    "                     sharex=True, sharey=True)\n",
    "\n",
    "grouped = mega.groupby(toGroup, sort=srt_group)\n",
    "\n",
    "# gather and calculate\n",
    "pSfBins = np.linspace(-1.5, 3.5, 13);\n",
    "bins = pSfBins#sf70bins\n",
    "stepSize = (bins[-1] - bins[0])/(len(bins)-1);\n",
    "binPlotLocs = bins[1:] - 0.5*stepSize;\n",
    "clipLow, clipHigh = bins[1]-0.5*stepSize, bins[-2]+0.5*stepSize;\n",
    "\n",
    "tickVals = np.linspace(bins[1], bins[-2], len(bins)-2)\n",
    "\n",
    "to_comp = [];\n",
    "\n",
    "width = hist_width*stepSize;\n",
    "\n",
    "for (i, (name, group)), clr in zip(enumerate(grouped), colors):\n",
    "    clipped = [np.clip(np.log2(x), clipLow, clipHigh) for x in hf.nan_rm(group['pSf_mn'])];\n",
    "    vals, _ = np.histogram(clipped, bins=bins)\n",
    "    vals_norm = vals/np.sum(vals)\n",
    "\n",
    "    # calculate\n",
    "    # nSF = [len(x) for x in psfs_clipped]\n",
    "    mdn = np.nanmedian(group['pSf_mn']);\n",
    "    # mnSF = [np.nanmean(x) for x in psfs];\n",
    "    # gmnSF = [gmean(hf.nan_rm(x)) for x in psfs];\n",
    "\n",
    "    to_use = vals_norm if use_norm else vals;\n",
    "    \n",
    "    ax[i].plot(np.log2(mdn), 1.1*np.max(to_use), 'v', color=clr, markersize=15)\n",
    "    \n",
    "    ax[i].bar(binPlotLocs, to_use, width=width, align='center', color=clr,\n",
    "            label='%s [n=%d, md=%.2f]' % (name, np.sum(vals), mdn), alpha=alphHist);\n",
    "    tickStrs = ['%.2f' % np.power(2, x) for x in tickVals];\n",
    "    tickStrs[0] = '$<$%s' % tickStrs[0];\n",
    "    tickStrs[-1] = '$>$%s' % tickStrs[-1];\n",
    "    ax[i].set_xticks(tickVals);\n",
    "    ax[i].set_xticklabels(tickStrs);\n",
    "\n",
    "    ax[i].set_ylabel('Fraction of cells' if use_norm else 'Cell count');\n",
    "    if i==nrow-1:\n",
    "        ax[i].set_xlabel(r'$sf_{pref}$ (c/deg)');\n",
    "    ax[i].legend()\n",
    "   \n",
    "    if len(grouped) > 2: # i.e. it's LGN...\n",
    "        if name == 'other':\n",
    "            continue;\n",
    "        to_comp.append(hf.nan_rm(group['pSf_mn']))\n",
    "    else:\n",
    "        to_comp.append(hf.nan_rm(group['pSf_mn']))\n",
    "\n",
    "ttest = ss.ttest_ind(*to_comp);\n",
    "f.suptitle(r'Distribution of $%ssf_{pref}$ [p=%.1e]' % (dog_suffix_plt, ttest.pvalue), y=hist_ytitle)#' [%s] (%s, n=%d, median=%.2f, mn=%.2f, gmn=%.2f)' % (fitStr[i], whichArea, nSF[i], medianSF[i], mnSF[i], gmnSF[i]));\n",
    "# f.tight_layout();\n",
    "sns.despine(offset=sns_offset);\n",
    "\n",
    "# now save\n",
    "if not os.path.exists(save_loc):\n",
    "    os.makedirs(save_loc)\n",
    "pdfSv = pltSave.PdfPages(save_loc + saveName);\n",
    "f = plt.gcf()\n",
    "pdfSv.savefig(f) # only one figure here...\n",
    "pdfSv.close()\n"
   ]
  },
  {
   "cell_type": "code",
   "execution_count": null,
   "metadata": {},
   "outputs": [],
   "source": [
    "nrow=len(grp_names);\n",
    "f, ax = plt.subplots(nrows=nrow, ncols=1, figsize=(hf.set_size(tex_width, subplots=(nrow,1), extra_height=1-1/nrow)),\n",
    "                     sharex=True, sharey=True)\n",
    "\n",
    "use_norm = False;\n",
    "    \n",
    "norm_str = '_normed' if use_norm else '';\n",
    "\n",
    "saveName = '00_01alt_charFreq%s.pdf' % (norm_str)\n",
    "\n",
    "grouped = mega.groupby(toGroup, sort=srt_group)\n",
    "\n",
    "# gather and calculate\n",
    "pSfBins = np.linspace(-1.5, 3.5, 11);\n",
    "bins = pSfBins#sf70bins\n",
    "stepSize = (bins[-1] - bins[0])/(len(bins)-1);\n",
    "binPlotLocs = bins[1:] - 0.5*stepSize;\n",
    "clipLow, clipHigh = bins[1]-0.5*stepSize, bins[-2]+0.5*stepSize;\n",
    "\n",
    "tickVals = np.linspace(bins[1], bins[-2], len(bins)-2)\n",
    "\n",
    "to_comp = [];\n",
    "\n",
    "width = hist_width*stepSize\n",
    "\n",
    "for (i, (name, group)), clr in zip(enumerate(grouped), colors):\n",
    "    clipped = [np.clip(np.log2(x), clipLow, clipHigh) for x in hf.nan_rm(group['charFreq_mn'])];\n",
    "    vals, _ = np.histogram(clipped, bins=bins)\n",
    "    vals_norm = vals/np.sum(vals)\n",
    "\n",
    "    to_use = vals_norm if use_norm else vals;\n",
    "    \n",
    "    # calculate\n",
    "    # nSF = [len(x) for x in psfs_clipped]\n",
    "    mdn = np.nanmedian(group['charFreq_mn']);\n",
    "    # mnSF = [np.nanmean(x) for x in psfs];\n",
    "    # gmnSF = [gmean(hf.nan_rm(x)) for x in psfs];\n",
    "\n",
    "\n",
    "    ax[i].plot(np.log2(mdn), 1.1*np.max(to_use), 'v', color=clr, markersize=15)\n",
    "    ax[i].bar(binPlotLocs, to_use, width=width, align='center', color=clr,\n",
    "            label='%s [n=%d, md=%.2f]' % (name, np.sum(vals), mdn), alpha=alphHist);\n",
    "    tickStrs = ['%.2f' % np.power(2, x) for x in tickVals];\n",
    "    tickStrs[0] = '<%s' % tickStrs[0];\n",
    "    tickStrs[-1] = '>%s' % tickStrs[-1];\n",
    "    ax[i].set_xticks(tickVals);\n",
    "    ax[i].set_xticklabels(tickStrs);\n",
    "   \n",
    "    ax[i].legend()\n",
    "    ax[i].set_ylabel('Fraction of cells' if use_norm else 'Cell count');\n",
    "    if i==nrow-1:\n",
    "        ax[i].set_xlabel(r'$f_c$ (c/deg)');\n",
    "        \n",
    "    if len(grouped) > 2: # i.e. it's LGN...\n",
    "        if name == 'other':\n",
    "            continue;\n",
    "        to_comp.append(hf.nan_rm(group['charFreq_mn']))\n",
    "    else:\n",
    "        to_comp.append(hf.nan_rm(group['charFreq_mn']))\n",
    "\n",
    "ttest = ss.ttest_ind(*to_comp);\n",
    "f.suptitle(r'Distribution of $f_c$ [p=%.1e]' % (ttest.pvalue), y=hist_ytitle);\n",
    "\n",
    "sns.despine(offset=sns_offset);\n",
    "\n",
    "# now save\n",
    "if not os.path.exists(save_loc):\n",
    "    os.makedirs(save_loc)\n",
    "pdfSv = pltSave.PdfPages(save_loc + saveName);\n",
    "f = plt.gcf()\n",
    "pdfSv.savefig(f) # only one figure here...\n",
    "pdfSv.close()\n"
   ]
  },
  {
   "cell_type": "markdown",
   "metadata": {},
   "source": [
    "##### Max. con gain (if LGN, only)"
   ]
  },
  {
   "cell_type": "code",
   "execution_count": null,
   "metadata": {},
   "outputs": [],
   "source": [
    "if whichArea == 'LGN':\n",
    "    \n",
    "    nBins = 8\n",
    "    conGain_bins = np.log10(np.geomspace(12.5, 12.5*np.power(2, nBins-1), nBins));\n",
    "#     conGain_bins = np.log10(np.geomspace(25, 25*np.power(2, nBins-1), nBins));\n",
    "    \n",
    "    use_norm = False;\n",
    "    \n",
    "    norm_str = '_normed' if use_norm else '';\n",
    "    \n",
    "    saveName = '00_01alt_conGain%s.pdf' % (norm_str)\n",
    "\n",
    "    nrow=len(grp_names);\n",
    "    f, ax = plt.subplots(nrows=nrow, ncols=1, figsize=(hf.set_size(tex_width, subplots=(nrow,1), extra_height=1-1/nrow)),\n",
    "                         sharex=True, sharey=True)\n",
    "\n",
    "    grouped = mega.groupby(toGroup, sort=srt_group)\n",
    "\n",
    "    # gather and calculate\n",
    "    bins = conGain_bins\n",
    "    stepSize = (bins[-1] - bins[0])/(len(bins)-1);\n",
    "    binPlotLocs = bins[1:] - 0.5*stepSize;\n",
    "    clipLow, clipHigh = bins[1]-0.5*stepSize, bins[-2]+0.5*stepSize;\n",
    "\n",
    "    tickVals = np.linspace(bins[1], bins[-2], len(bins)-2)\n",
    "\n",
    "    to_comp = [];\n",
    "    \n",
    "    width = hist_width*stepSize\n",
    "    offsets = bin_offsets(cnt, width);\n",
    "    \n",
    "    bottom = np.zeros((len(binPlotLocs), ))\n",
    "    \n",
    "    for (i, (name, group)), clr in zip(enumerate(grouped), colors):\n",
    "        clipped = [np.clip(np.log10(x), clipLow, clipHigh) for x in hf.nan_rm(group['conGain_max'])];\n",
    "        vals, _ = np.histogram(clipped, bins=bins)\n",
    "        vals_norm = vals/np.sum(vals)\n",
    "\n",
    "        to_use = vals_norm if use_norm else vals;\n",
    "\n",
    "        # calculate\n",
    "        # nSF = [len(x) for x in psfs_clipped]\n",
    "        mdn = np.nanmedian(group['conGain_max']);\n",
    "        # mnSF = [np.nanmean(x) for x in psfs];\n",
    "        gmn = gmean(hf.nan_rm(group['conGain_max']));\n",
    "\n",
    "        ax[i].bar(binPlotLocs, to_use, width=width, align='center', color=clr,\n",
    "            label='%s [n=%d, md=%.2f]' % (name, np.sum(vals), mdn), alpha=alphHist);\n",
    "        ax[i].plot(np.log10(mdn), 1.1*np.max(to_use), 'v', color=clr)\n",
    "\n",
    "        tickStrs = ['%d' % np.round(np.power(10, x)) for x in tickVals];\n",
    "        tickStrs[0] = '$<$%s' % tickStrs[0];\n",
    "        tickStrs[-1] = '$>$%s' % tickStrs[-1];\n",
    "        ax[i].set_xticks(tickVals);\n",
    "        ax[i].set_xticklabels(tickStrs);\n",
    "        ax[i].set_ylabel('Fraction of cells' if use_norm else 'Cell count');\n",
    "        ax[i].legend()\n",
    "        if i == nrow-1:\n",
    "            ax[i].set_xlabel('Contrast gain');\n",
    "\n",
    "        if len(grouped) > 2: # i.e. it's LGN...\n",
    "            if name == 'other':\n",
    "                continue;\n",
    "            to_comp.append(hf.nan_rm(group['conGain_max']))\n",
    "        else:\n",
    "            to_comp.append(hf.nan_rm(group['conGain_max']))\n",
    "            \n",
    "    ttest = ss.ttest_ind(*to_comp);\n",
    "    f.suptitle('Distribution of contrast gain [p=%.1e]' % ttest.pvalue, y=hist_ytitle)\n",
    "\n",
    "    sns.despine(offset=sns_offset);\n",
    "\n",
    "    # now save\n",
    "    if not os.path.exists(save_loc):\n",
    "        os.makedirs(save_loc)\n",
    "    pdfSv = pltSave.PdfPages(save_loc + saveName);\n",
    "    f = plt.gcf()\n",
    "    pdfSv.savefig(f) # only one figure here...\n",
    "    pdfSv.close()\n"
   ]
  },
  {
   "cell_type": "markdown",
   "metadata": {},
   "source": [
    "##### Plot distribution of bwHalf at highContrast"
   ]
  },
  {
   "cell_type": "code",
   "execution_count": null,
   "metadata": {},
   "outputs": [],
   "source": [
    "bwHalfbins = np.linspace(1, 5, 9)"
   ]
  },
  {
   "cell_type": "code",
   "execution_count": null,
   "metadata": {},
   "outputs": [],
   "source": [
    "maxCon = 1; # max con...\n",
    "# maxCon = 0; # then we do 1/3 of max\n",
    "\n",
    "lbl = '' if maxCon else '_third'\n",
    "use_norm = False;\n",
    "\n",
    "fewer_ticks = False;\n",
    "\n",
    "norm_str = '_normed' if use_norm else '';\n",
    "\n",
    "saveName = '00_02_bwHalf%s%s.pdf' % (lbl, norm_str)\n",
    "\n",
    "non_nan = ~np.isnan(pSf);\n",
    "\n",
    "nrow=len(grp_names);\n",
    "f, ax = plt.subplots(nrows=nrow, ncols=1, figsize=(hf.set_size(tex_width, subplots=(nrow,1), extra_height=1-1/nrow)),\n",
    "                     sharex=True, sharey=True)\n",
    "\n",
    "grouped = mega.groupby(toGroup, sort=srt_group)\n",
    "\n",
    "# gather and calculate\n",
    "bins = bwHalfbins\n",
    "stepSize = (bins[-1] - bins[0])/(len(bins)-1);\n",
    "binPlotLocs = bins[1:] - 0.5*stepSize;\n",
    "clipLow, clipHigh = bins[1]-0.5*stepSize, bins[-2]+0.5*stepSize;\n",
    "\n",
    "tickVals = np.linspace(bins[1], bins[-2], len(bins)-2)\n",
    "if fewer_ticks:\n",
    "    tickVals = tickVals[0::2]; # every other\n",
    "\n",
    "to_comp = [];\n",
    "\n",
    "width = hist_width*stepSize\n",
    "\n",
    "for (i, (name, group)), clr in zip(enumerate(grouped), colors):\n",
    "    clipped = [np.clip(x, clipLow, clipHigh) for x in hf.nan_rm(group['bwHalf_mn%s' % lbl])];\n",
    "    vals, _ = np.histogram(clipped, bins=bins)\n",
    "    vals_norm = vals/np.sum(vals)\n",
    "\n",
    "    to_use = vals_norm if use_norm else vals;\n",
    "    \n",
    "    # calculate\n",
    "    # nSF = [len(x) for x in psfs_clipped]\n",
    "    mdn = np.nanmedian(group['bwHalf_mn%s' % lbl]);\n",
    "    # mnSF = [np.nanmean(x) for x in psfs];\n",
    "    # gmnSF = [gmean(hf.nan_rm(x)) for x in psfs];\n",
    "\n",
    "    ax[i].bar(binPlotLocs, to_use, width=width, align='center', color=clr,\n",
    "        label='%s [n=%d, md=%.2f oct]' % (name, np.sum(vals), mdn), alpha=alphHist);\n",
    "    ax[i].plot(mdn, 1.1*np.max(to_use), 'v', color=clr)\n",
    "\n",
    "    tickStrs = ['%d' % x if int(x)==x else '%.1f' % x for x in tickVals];\n",
    "    tickStrs[0] = '$<$%s' % tickStrs[0];\n",
    "    tickStrs[-1] = '$>$%s' % tickStrs[-1];\n",
    "    ax[i].set_xticks(tickVals);\n",
    "    ax[i].set_xticklabels(tickStrs);\n",
    "\n",
    "    ax[i].set_ylabel('Fraction of cells' if use_norm else 'Cell count');\n",
    "    ax[i].legend()\n",
    "    if i == nrow-1:\n",
    "        ax[i].set_xlabel('Bandwidth (octaves)');\n",
    "\n",
    "    if len(grouped) > 2: # i.e. it's LGN...\n",
    "        if name == 'other':\n",
    "            continue;\n",
    "        to_comp.append(hf.nan_rm(group['bwHalf_mn%s' % lbl]))\n",
    "    else:\n",
    "        to_comp.append(hf.nan_rm(group['bwHalf_mn%s' % lbl]))\n",
    "\n",
    "ttest = ss.ttest_ind(*to_comp);\n",
    "    \n",
    "f.suptitle(r'Distribution of $bw_{half}$ [p=%.1e]' % ttest.pvalue, y=hist_ytitle)\n",
    "\n",
    "sns.despine(offset=sns_offset);\n",
    "\n",
    "#now save\n",
    "if not os.path.exists(save_loc):\n",
    "    os.makedirs(save_loc)\n",
    "pdfSv = pltSave.PdfPages(save_loc + saveName);\n",
    "f = plt.gcf()\n",
    "pdfSv.savefig(f) # only one figure here...\n",
    "pdfSv.close()\n"
   ]
  },
  {
   "cell_type": "markdown",
   "metadata": {},
   "source": [
    "##### Ask if sf70 and bwHalf are correlated?"
   ]
  },
  {
   "cell_type": "code",
   "execution_count": null,
   "metadata": {},
   "outputs": [],
   "source": [
    "saveName = '00_03a_bwHalf_sf70%s.pdf' % dog_suffix_sv\n",
    "\n",
    "non_nan = np.logical_and(~np.isnan(bwHalf), ~np.isnan(sf70));\n",
    "\n",
    "sf70[sf70_stdLog==0] = 1e-3\n",
    "bwHalf_std[bwHalf_std==0] = 1e-3\n",
    "\n",
    "mydata = odrpack.RealData(bwHalf[non_nan], np.log10(sf70[non_nan]), \n",
    "                          sx=bwHalf_std[non_nan], sy=sf70_stdLog[non_nan])\n",
    "\n",
    "# initial guess via simple correlation (ignoring errors)\n",
    "init_guess = np.polyfit(bwHalf[non_nan], np.log10(sf70[non_nan]), deg=1)\n",
    "\n",
    "myodr = odrpack.ODR(mydata, linear, beta0=np.flip(init_guess), iprint=2)\n",
    "myodr.set_iprint(init=2, iter=2, final=2)\n",
    "myoutput = myodr.run()\n",
    "myoutput.pprint()\n",
    "\n",
    "\n",
    "plt.figure(figsize=hf.set_size(tex_width));\n",
    "\n",
    "grouped = mega.groupby(toGroup, sort=srt_group)\n",
    "\n",
    "for (name, group), clr in zip(grouped, colors):\n",
    "    plt.errorbar(group['bwHalf_mn'], group['sf70_mn'], yerr=group['sf70_stdLog'], xerr=0.1*group['bwHalf_std'], \n",
    "                 fmt='o', alpha=alph, label=name, color=clr)\n",
    "\n",
    "### Plot unity line, model; set up legend\n",
    "# plt.xscale('log')\n",
    "plt.yscale('log')\n",
    "plt.ylim([3e-1, 1.5e1])\n",
    "# plt.plot([2e-1, 1.5e1], [2e-1, 1.5e1], 'k--', alpha=0.3, label='unity');\n",
    "\n",
    "xvals = np.linspace(0, 5, 100)\n",
    "plt.plot(xvals, np.power(10, fn(myoutput.beta, xvals)), \n",
    "         'k--', label=r'total lsq [m=%.2f]' % (myoutput.beta[0]), alpha=alph);\n",
    "plt.legend(fontsize='small')\n",
    "plt.xlabel(r'$bw_{half}$ (oct)')\n",
    "plt.ylabel(r'$sf_{70}$ (c/deg)')\n",
    "# plt.plot(xvals, np.power(10, f(init_guess, np.log10(xvals))), 'r--', label='1d reg', alpha=0.3);\n",
    "\n",
    "sns.despine(offset=sns_offset);\n",
    "\n",
    "# now save\n",
    "if not os.path.exists(save_loc):\n",
    "    os.makedirs(save_loc)\n",
    "pdfSv = pltSave.PdfPages(save_loc + saveName);\n",
    "f = plt.gcf()\n",
    "pdfSv.savefig(f) # only one figure here...\n",
    "pdfSv.close()\n"
   ]
  },
  {
   "cell_type": "code",
   "execution_count": null,
   "metadata": {},
   "outputs": [],
   "source": [
    "saveName = '00_03b_sf70_bwHalf%s.pdf' % dog_suffix_sv\n",
    "\n",
    "non_nan = np.logical_and(~np.isnan(bwHalf), ~np.isnan(sf70));\n",
    "\n",
    "pSf_stdLog[pSf_stdLog==0] = 1e-3\n",
    "\n",
    "\n",
    "plt.figure(figsize=hf.set_size(tex_width));\n",
    "\n",
    "grouped = mega.groupby(toGroup, sort=srt_group)\n",
    "\n",
    "for (name, group), clr in zip(grouped, colors):\n",
    "    plt.errorbar(group['sf70_mn'], group['bwHalf_mn'], xerr=group['sf70_stdLog'], yerr=0.1*group['bwHalf_std'], \n",
    "                 fmt='o', alpha=alph, label=name, color=clr)\n",
    "    \n",
    "    nn = np.logical_and(~np.isnan(group['sf70_mn']), ~np.isnan(group['bwHalf_mn']));\n",
    "    \n",
    "    \n",
    "    mydata = odrpack.RealData(np.log10(group['sf70_mn'][nn]), group['bwHalf_mn'][nn], \n",
    "                              sy=group['bwHalf_std'][nn], sx=group['sf70_stdLog'][nn])\n",
    "\n",
    "    # initial guess via simple correlation (ignoring errors)\n",
    "    init_guess = np.polyfit(np.log10(group['sf70_mn'][nn]), group['bwHalf_mn'][nn], deg=1)\n",
    "\n",
    "    myodr = odrpack.ODR(mydata, linear, beta0=np.flip(init_guess), iprint=2)\n",
    "    myodr.set_iprint(init=2, iter=2, final=2)\n",
    "    myoutput = myodr.run()\n",
    "    myoutput.pprint()\n",
    "\n",
    "    xvals = np.geomspace(4e-1, 1.5e1, 100)\n",
    "    plt.plot(xvals, fn(myoutput.beta, np.log10(xvals)), \n",
    "             '--', color=clr, label=r'total lsq [m=%.2f]' % (myoutput.beta[0]), alpha=alph);\n",
    "    \n",
    "\n",
    "### Plot unity line, model; set up legend\n",
    "plt.xscale('log')\n",
    "# plt.yscale('log')\n",
    "# plt.plot([2e-1, 1.5e1], [2e-1, 1.5e1], 'k--', alpha=0.3, label='unity');\n",
    "\n",
    "plt.legend(fontsize='small')\n",
    "plt.ylabel(r'$bw_{half}$ (oct)')\n",
    "plt.xlabel(r'$sf_{70}$ (c/deg)')\n",
    "# plt.plot(xvals, np.power(10, f(init_guess, np.log10(xvals))), 'r--', label='1d reg', alpha=0.3);\n",
    "\n",
    "sns.despine(offset=sns_offset);\n",
    "\n",
    "# now save\n",
    "if not os.path.exists(save_loc):\n",
    "    os.makedirs(save_loc)\n",
    "pdfSv = pltSave.PdfPages(save_loc + saveName);\n",
    "f = plt.gcf()\n",
    "pdfSv.savefig(f) # only one figure here...\n",
    "pdfSv.close()\n"
   ]
  },
  {
   "cell_type": "code",
   "execution_count": null,
   "metadata": {},
   "outputs": [],
   "source": [
    "def match_lengths(x):\n",
    "    # fill with NaN to make sure that all lists in the array have the same length\n",
    "    max_len = np.max([len(xp) for xp in x])\n",
    "    for i, xp in enumerate(x):\n",
    "        if len(xp) < max_len:\n",
    "            tmp = np.nan * np.zeros((max_len, ));\n",
    "            tmp[0:len(xp)] = xp\n",
    "            x[i] = tmp\n",
    "            \n",
    "    return np.stack(x)"
   ]
  },
  {
   "cell_type": "markdown",
   "metadata": {},
   "source": [
    "## 2. Shifts with contrast, refined view\n",
    "Per discussion in VNL, we should try (or rather, revive) to consider the whole trajectory of sf70 (or bandwidth, or else) with contrast"
   ]
  },
  {
   "cell_type": "markdown",
   "metadata": {},
   "source": [
    "### 01. Plot metric (e.g. sf70) against contrast - for all cells separately and then together"
   ]
  },
  {
   "cell_type": "code",
   "execution_count": 648,
   "metadata": {},
   "outputs": [],
   "source": [
    "import scipy.optimize as opt"
   ]
  },
  {
   "cell_type": "code",
   "execution_count": 649,
   "metadata": {},
   "outputs": [],
   "source": [
    "def fn(x, a, b):\n",
    "    return b + a*x;\n",
    "#     return b + np.log10(a)*np.log10(x);\n"
   ]
  },
  {
   "cell_type": "code",
   "execution_count": 650,
   "metadata": {},
   "outputs": [],
   "source": [
    "# For below plots...\n",
    "# First, let's check which jointTypes are in this jointList --\n",
    "# -- if it's 7, then that means we directly fit the slope\n",
    "jnts = mega['jointType'].unique();\n",
    "\n",
    "incl_slopeMod_slope = True;\n",
    "\n",
    "# from_slopes = False; # make the plots from the slopes???\n",
    "from_slopes = True;\n",
    "\n",
    "if len(jnts)==1 and jnts[0]>=7 and from_slopes:\n",
    "    slope_direct = True\n",
    "else:\n",
    "    slope_direct = False;\n",
    "\n",
    "if incl_slopeMod_slope and not slope_direct: # then we should load the slopes, otherwise\n",
    "\n",
    "    if whichArea == 'LGN':\n",
    "    \n",
    "        slp_date = '220610';\n",
    "        isHPC = 1;\n",
    "        phAdv = 1; # phAdv or no?\n",
    "        loss_type = 2; # sqrt\n",
    "        DoGmodel = 1; # sach DoG\n",
    "        slps = [];\n",
    "        # first, LGN\n",
    "        data_dir = 'LGN/structures/'\n",
    "        descrBase = 'descrFits%s_%s' % ('HPC' if isHPC else '', slp_date)\n",
    "        slp_mod = hf.np_smart_load('%s%s' % (data_dir, hf.descrFit_name(loss_type, descrBase=descrBase, \n",
    "                                                  modelName=hf.descrMod_name(DoGmodel), joint=7, phAdj=phAdv)))\n",
    "        slps_lgn = [-slp_mod[x]['paramList'][0][1] for x in range(len(slp_mod.keys()))];\n",
    "        intrs_lgn = [slp_mod[x]['paramList'][0][0] for x in range(len(slp_mod.keys()))];\n",
    "        slps.extend(slps_lgn)\n",
    "\n",
    "        # then, Sach\n",
    "        data_dir = 'LGN/sach/structures/'\n",
    "        descrBase = 'descrFits%s_s%s' % ('HPC' if isHPC else '', slp_date)\n",
    "        slp_mod = hf.np_smart_load('%s%s' % (data_dir, hf.descrFit_name(loss_type, descrBase=descrBase, \n",
    "                                                  modelName=hf.descrMod_name(DoGmodel), joint=7, phAdj=phAdv)))\n",
    "        slps_sach = [-slp_mod[x]['paramList'][1] for x in range(len(slp_mod.keys()))];\n",
    "        intrs_sach = [slp_mod[x]['paramList'][0] for x in range(len(slp_mod.keys()))];\n",
    "        slps.extend(slps_sach)\n",
    "    \n",
    "    else: # i.e. V1...\n",
    "        \n",
    "        slp_date = '220609';\n",
    "        isHPC = 1;\n",
    "        loss_type = 2; # sqrt\n",
    "        DoGmodel = whichMod; # specified above\n",
    "        slps = []; inters = [];\n",
    "\n",
    "        from helper_fcns_sfBB import compute_f1f0 as bb_compute_f1f0\n",
    "        from helper_fcns_sfBB import get_resp_str\n",
    "        \n",
    "        for curr_dir in ['altExp', 'V1', 'V1_BB', 'V1_orig']:\n",
    "            try:\n",
    "                data_dir = '%s/structures/' % curr_dir\n",
    "                descrBase = 'descrFits%s_%s' % ('HPC' if isHPC else '', slp_date)\n",
    "                slp_mod = hf.np_smart_load('%s%s' % (data_dir, hf.descrFit_name(loss_type, descrBase=descrBase, \n",
    "                                                          modelName=hf.descrMod_name(DoGmodel), joint=7)))\n",
    "                if curr_dir == 'V1_BB': # then we have work to do per cell\n",
    "                    dl = hf.np_smart_load('V1_BB/structures/%s' % hf.get_datalist('V1_BB/'));\n",
    "                    slps_curr = []; intrs_curr = [];\n",
    "                    for ii, expName in enumerate(dl['unitName']):\n",
    "                        cell = hf.np_smart_load('V1_BB/structures/%s_sfBB.npy' % expName);\n",
    "                        expInfo = cell['sfBB_core']; # we ONLY analyze sfBB_core in this jointList (as of 21.05.10)                                                                                                                                                                            \n",
    "                        f1f0_ind = bb_compute_f1f0(expInfo)[0] > 1; # if simple, then index with 1; else, 0                                                                                                                                                                                    \n",
    "                        respKey = get_resp_str(f1f0_ind); # as string, either 'dc', or 'f1'                                           \n",
    "                        slps_curr.extend([-slp_mod[ii][respKey]['mask']['paramList'][0]]);\n",
    "                        intrs_curr.extend([slp_mod[ii][respKey]['mask']['paramList'][1]]);\n",
    "                else:\n",
    "                    slps_curr = [-slp_mod[x]['paramList'][0][1] for x in range(len(slp_mod.keys()))];\n",
    "                    intrs_curr = [slp_mod[x]['paramList'][0][0] for x in range(len(slp_mod.keys()))];\n",
    "                slps.append(slps_curr);\n",
    "                inters.append(intrs_curr);\n",
    "            except:\n",
    "                slps.append([]); inters.append([]);"
   ]
  },
  {
   "cell_type": "code",
   "execution_count": 651,
   "metadata": {
    "scrolled": false
   },
   "outputs": [
    {
     "name": "stderr",
     "output_type": "stream",
     "text": [
      "<>:59: DeprecationWarning: invalid escape sequence \\_\n",
      "/users/plevy/miniconda3/envs/pytorch-lcv/lib/python3.6/site-packages/numpy/lib/nanfunctions.py:1390: RuntimeWarning: All-NaN slice encountered\n",
      "  overwrite_input, interpolation)\n",
      "/users/plevy/miniconda3/envs/pytorch-lcv/lib/python3.6/site-packages/numpy/lib/nanfunctions.py:1665: RuntimeWarning: Degrees of freedom <= 0 for slice.\n",
      "  keepdims=keepdims)\n",
      "/users/plevy/miniconda3/envs/pytorch-lcv/lib/python3.6/site-packages/numpy/core/_asarray.py:83: UserWarning: Warning: converting a masked element to nan.\n",
      "  return array(a, dtype, copy=False, order=order)\n",
      "No handles with labels found to put in legend.\n",
      "/users/plevy/miniconda3/envs/pytorch-lcv/lib/python3.6/site-packages/numpy/lib/nanfunctions.py:1390: RuntimeWarning: All-NaN slice encountered\n",
      "  overwrite_input, interpolation)\n",
      "/users/plevy/miniconda3/envs/pytorch-lcv/lib/python3.6/site-packages/numpy/lib/nanfunctions.py:1665: RuntimeWarning: Degrees of freedom <= 0 for slice.\n",
      "  keepdims=keepdims)\n",
      "/users/plevy/miniconda3/envs/pytorch-lcv/lib/python3.6/site-packages/numpy/core/_asarray.py:83: UserWarning: Warning: converting a masked element to nan.\n",
      "  return array(a, dtype, copy=False, order=order)\n",
      "No handles with labels found to put in legend.\n",
      "/users/plevy/miniconda3/envs/pytorch-lcv/lib/python3.6/site-packages/numpy/lib/nanfunctions.py:1390: RuntimeWarning: All-NaN slice encountered\n",
      "  overwrite_input, interpolation)\n",
      "/users/plevy/miniconda3/envs/pytorch-lcv/lib/python3.6/site-packages/numpy/lib/nanfunctions.py:1665: RuntimeWarning: Degrees of freedom <= 0 for slice.\n",
      "  keepdims=keepdims)\n",
      "/users/plevy/miniconda3/envs/pytorch-lcv/lib/python3.6/site-packages/numpy/core/_asarray.py:83: UserWarning: Warning: converting a masked element to nan.\n",
      "  return array(a, dtype, copy=False, order=order)\n",
      "No handles with labels found to put in legend.\n",
      "/users/plevy/miniconda3/envs/pytorch-lcv/lib/python3.6/site-packages/numpy/lib/nanfunctions.py:1390: RuntimeWarning: All-NaN slice encountered\n",
      "  overwrite_input, interpolation)\n",
      "/users/plevy/miniconda3/envs/pytorch-lcv/lib/python3.6/site-packages/numpy/lib/nanfunctions.py:1665: RuntimeWarning: Degrees of freedom <= 0 for slice.\n",
      "  keepdims=keepdims)\n",
      "/users/plevy/miniconda3/envs/pytorch-lcv/lib/python3.6/site-packages/numpy/core/_asarray.py:83: UserWarning: Warning: converting a masked element to nan.\n",
      "  return array(a, dtype, copy=False, order=order)\n",
      "No handles with labels found to put in legend.\n",
      "/users/plevy/miniconda3/envs/pytorch-lcv/lib/python3.6/site-packages/numpy/lib/nanfunctions.py:1390: RuntimeWarning: All-NaN slice encountered\n",
      "  overwrite_input, interpolation)\n",
      "/users/plevy/miniconda3/envs/pytorch-lcv/lib/python3.6/site-packages/numpy/lib/nanfunctions.py:1665: RuntimeWarning: Degrees of freedom <= 0 for slice.\n",
      "  keepdims=keepdims)\n",
      "/users/plevy/miniconda3/envs/pytorch-lcv/lib/python3.6/site-packages/numpy/core/_asarray.py:83: UserWarning: Warning: converting a masked element to nan.\n",
      "  return array(a, dtype, copy=False, order=order)\n",
      "No handles with labels found to put in legend.\n",
      "/users/plevy/miniconda3/envs/pytorch-lcv/lib/python3.6/site-packages/numpy/lib/nanfunctions.py:1390: RuntimeWarning: All-NaN slice encountered\n",
      "  overwrite_input, interpolation)\n",
      "/users/plevy/miniconda3/envs/pytorch-lcv/lib/python3.6/site-packages/numpy/lib/nanfunctions.py:1665: RuntimeWarning: Degrees of freedom <= 0 for slice.\n",
      "  keepdims=keepdims)\n",
      "/users/plevy/miniconda3/envs/pytorch-lcv/lib/python3.6/site-packages/numpy/core/_asarray.py:83: UserWarning: Warning: converting a masked element to nan.\n",
      "  return array(a, dtype, copy=False, order=order)\n",
      "No handles with labels found to put in legend.\n",
      "/users/plevy/miniconda3/envs/pytorch-lcv/lib/python3.6/site-packages/numpy/lib/nanfunctions.py:1390: RuntimeWarning: All-NaN slice encountered\n",
      "  overwrite_input, interpolation)\n",
      "/users/plevy/miniconda3/envs/pytorch-lcv/lib/python3.6/site-packages/numpy/lib/nanfunctions.py:1665: RuntimeWarning: Degrees of freedom <= 0 for slice.\n",
      "  keepdims=keepdims)\n",
      "/users/plevy/miniconda3/envs/pytorch-lcv/lib/python3.6/site-packages/numpy/core/_asarray.py:83: UserWarning: Warning: converting a masked element to nan.\n",
      "  return array(a, dtype, copy=False, order=order)\n",
      "No handles with labels found to put in legend.\n",
      "/users/plevy/miniconda3/envs/pytorch-lcv/lib/python3.6/site-packages/numpy/lib/nanfunctions.py:1390: RuntimeWarning: All-NaN slice encountered\n",
      "  overwrite_input, interpolation)\n",
      "/users/plevy/miniconda3/envs/pytorch-lcv/lib/python3.6/site-packages/numpy/lib/nanfunctions.py:1665: RuntimeWarning: Degrees of freedom <= 0 for slice.\n",
      "  keepdims=keepdims)\n",
      "/users/plevy/miniconda3/envs/pytorch-lcv/lib/python3.6/site-packages/numpy/core/_asarray.py:83: UserWarning: Warning: converting a masked element to nan.\n",
      "  return array(a, dtype, copy=False, order=order)\n",
      "No handles with labels found to put in legend.\n",
      "/users/plevy/miniconda3/envs/pytorch-lcv/lib/python3.6/site-packages/numpy/lib/nanfunctions.py:1390: RuntimeWarning: All-NaN slice encountered\n",
      "  overwrite_input, interpolation)\n",
      "/users/plevy/miniconda3/envs/pytorch-lcv/lib/python3.6/site-packages/numpy/lib/nanfunctions.py:1665: RuntimeWarning: Degrees of freedom <= 0 for slice.\n",
      "  keepdims=keepdims)\n",
      "/users/plevy/miniconda3/envs/pytorch-lcv/lib/python3.6/site-packages/numpy/core/_asarray.py:83: UserWarning: Warning: converting a masked element to nan.\n",
      "  return array(a, dtype, copy=False, order=order)\n",
      "No handles with labels found to put in legend.\n",
      "/users/plevy/miniconda3/envs/pytorch-lcv/lib/python3.6/site-packages/numpy/lib/nanfunctions.py:1390: RuntimeWarning: All-NaN slice encountered\n",
      "  overwrite_input, interpolation)\n",
      "/users/plevy/miniconda3/envs/pytorch-lcv/lib/python3.6/site-packages/numpy/lib/nanfunctions.py:1665: RuntimeWarning: Degrees of freedom <= 0 for slice.\n",
      "  keepdims=keepdims)\n",
      "/users/plevy/miniconda3/envs/pytorch-lcv/lib/python3.6/site-packages/numpy/core/_asarray.py:83: UserWarning: Warning: converting a masked element to nan.\n",
      "  return array(a, dtype, copy=False, order=order)\n",
      "No handles with labels found to put in legend.\n",
      "/users/plevy/miniconda3/envs/pytorch-lcv/lib/python3.6/site-packages/numpy/lib/nanfunctions.py:1390: RuntimeWarning: All-NaN slice encountered\n",
      "  overwrite_input, interpolation)\n",
      "/users/plevy/miniconda3/envs/pytorch-lcv/lib/python3.6/site-packages/numpy/lib/nanfunctions.py:1665: RuntimeWarning: Degrees of freedom <= 0 for slice.\n",
      "  keepdims=keepdims)\n",
      "/users/plevy/miniconda3/envs/pytorch-lcv/lib/python3.6/site-packages/numpy/core/_asarray.py:83: UserWarning: Warning: converting a masked element to nan.\n",
      "  return array(a, dtype, copy=False, order=order)\n",
      "No handles with labels found to put in legend.\n",
      "/users/plevy/miniconda3/envs/pytorch-lcv/lib/python3.6/site-packages/numpy/lib/nanfunctions.py:1390: RuntimeWarning: All-NaN slice encountered\n",
      "  overwrite_input, interpolation)\n",
      "/users/plevy/miniconda3/envs/pytorch-lcv/lib/python3.6/site-packages/numpy/lib/nanfunctions.py:1665: RuntimeWarning: Degrees of freedom <= 0 for slice.\n",
      "  keepdims=keepdims)\n",
      "/users/plevy/miniconda3/envs/pytorch-lcv/lib/python3.6/site-packages/numpy/core/_asarray.py:83: UserWarning: Warning: converting a masked element to nan.\n",
      "  return array(a, dtype, copy=False, order=order)\n",
      "No handles with labels found to put in legend.\n",
      "/users/plevy/miniconda3/envs/pytorch-lcv/lib/python3.6/site-packages/numpy/lib/nanfunctions.py:1390: RuntimeWarning: All-NaN slice encountered\n",
      "  overwrite_input, interpolation)\n",
      "/users/plevy/miniconda3/envs/pytorch-lcv/lib/python3.6/site-packages/numpy/lib/nanfunctions.py:1665: RuntimeWarning: Degrees of freedom <= 0 for slice.\n",
      "  keepdims=keepdims)\n",
      "/users/plevy/miniconda3/envs/pytorch-lcv/lib/python3.6/site-packages/numpy/core/_asarray.py:83: UserWarning: Warning: converting a masked element to nan.\n",
      "  return array(a, dtype, copy=False, order=order)\n",
      "No handles with labels found to put in legend.\n",
      "/users/plevy/miniconda3/envs/pytorch-lcv/lib/python3.6/site-packages/numpy/lib/nanfunctions.py:1390: RuntimeWarning: All-NaN slice encountered\n",
      "  overwrite_input, interpolation)\n",
      "/users/plevy/miniconda3/envs/pytorch-lcv/lib/python3.6/site-packages/numpy/lib/nanfunctions.py:1665: RuntimeWarning: Degrees of freedom <= 0 for slice.\n",
      "  keepdims=keepdims)\n",
      "/users/plevy/miniconda3/envs/pytorch-lcv/lib/python3.6/site-packages/numpy/core/_asarray.py:83: UserWarning: Warning: converting a masked element to nan.\n",
      "  return array(a, dtype, copy=False, order=order)\n",
      "No handles with labels found to put in legend.\n"
     ]
    },
    {
     "name": "stderr",
     "output_type": "stream",
     "text": [
      "/users/plevy/miniconda3/envs/pytorch-lcv/lib/python3.6/site-packages/numpy/lib/nanfunctions.py:1390: RuntimeWarning: All-NaN slice encountered\n",
      "  overwrite_input, interpolation)\n",
      "/users/plevy/miniconda3/envs/pytorch-lcv/lib/python3.6/site-packages/numpy/lib/nanfunctions.py:1665: RuntimeWarning: Degrees of freedom <= 0 for slice.\n",
      "  keepdims=keepdims)\n",
      "/users/plevy/miniconda3/envs/pytorch-lcv/lib/python3.6/site-packages/numpy/core/_asarray.py:83: UserWarning: Warning: converting a masked element to nan.\n",
      "  return array(a, dtype, copy=False, order=order)\n",
      "No handles with labels found to put in legend.\n",
      "/users/plevy/miniconda3/envs/pytorch-lcv/lib/python3.6/site-packages/numpy/lib/nanfunctions.py:1390: RuntimeWarning: All-NaN slice encountered\n",
      "  overwrite_input, interpolation)\n",
      "/users/plevy/miniconda3/envs/pytorch-lcv/lib/python3.6/site-packages/numpy/lib/nanfunctions.py:1665: RuntimeWarning: Degrees of freedom <= 0 for slice.\n",
      "  keepdims=keepdims)\n",
      "/users/plevy/miniconda3/envs/pytorch-lcv/lib/python3.6/site-packages/numpy/core/_asarray.py:83: UserWarning: Warning: converting a masked element to nan.\n",
      "  return array(a, dtype, copy=False, order=order)\n",
      "No handles with labels found to put in legend.\n",
      "/users/plevy/miniconda3/envs/pytorch-lcv/lib/python3.6/site-packages/numpy/lib/nanfunctions.py:1390: RuntimeWarning: All-NaN slice encountered\n",
      "  overwrite_input, interpolation)\n",
      "/users/plevy/miniconda3/envs/pytorch-lcv/lib/python3.6/site-packages/numpy/lib/nanfunctions.py:1665: RuntimeWarning: Degrees of freedom <= 0 for slice.\n",
      "  keepdims=keepdims)\n",
      "/users/plevy/miniconda3/envs/pytorch-lcv/lib/python3.6/site-packages/numpy/core/_asarray.py:83: UserWarning: Warning: converting a masked element to nan.\n",
      "  return array(a, dtype, copy=False, order=order)\n",
      "No handles with labels found to put in legend.\n",
      "/users/plevy/miniconda3/envs/pytorch-lcv/lib/python3.6/site-packages/numpy/lib/nanfunctions.py:1390: RuntimeWarning: All-NaN slice encountered\n",
      "  overwrite_input, interpolation)\n",
      "/users/plevy/miniconda3/envs/pytorch-lcv/lib/python3.6/site-packages/numpy/lib/nanfunctions.py:1665: RuntimeWarning: Degrees of freedom <= 0 for slice.\n",
      "  keepdims=keepdims)\n",
      "/users/plevy/miniconda3/envs/pytorch-lcv/lib/python3.6/site-packages/numpy/core/_asarray.py:83: UserWarning: Warning: converting a masked element to nan.\n",
      "  return array(a, dtype, copy=False, order=order)\n",
      "No handles with labels found to put in legend.\n",
      "/users/plevy/miniconda3/envs/pytorch-lcv/lib/python3.6/site-packages/numpy/lib/nanfunctions.py:1390: RuntimeWarning: All-NaN slice encountered\n",
      "  overwrite_input, interpolation)\n",
      "/users/plevy/miniconda3/envs/pytorch-lcv/lib/python3.6/site-packages/numpy/lib/nanfunctions.py:1665: RuntimeWarning: Degrees of freedom <= 0 for slice.\n",
      "  keepdims=keepdims)\n",
      "/users/plevy/miniconda3/envs/pytorch-lcv/lib/python3.6/site-packages/numpy/core/_asarray.py:83: UserWarning: Warning: converting a masked element to nan.\n",
      "  return array(a, dtype, copy=False, order=order)\n",
      "No handles with labels found to put in legend.\n",
      "/users/plevy/miniconda3/envs/pytorch-lcv/lib/python3.6/site-packages/ipykernel_launcher.py:47: RuntimeWarning: More than 20 figures have been opened. Figures created through the pyplot interface (`matplotlib.pyplot.figure`) are retained until explicitly closed and may consume too much memory. (To control this warning, see the rcParam `figure.max_open_warning`).\n",
      "/users/plevy/miniconda3/envs/pytorch-lcv/lib/python3.6/site-packages/numpy/lib/nanfunctions.py:1390: RuntimeWarning: All-NaN slice encountered\n",
      "  overwrite_input, interpolation)\n",
      "/users/plevy/miniconda3/envs/pytorch-lcv/lib/python3.6/site-packages/numpy/lib/nanfunctions.py:1665: RuntimeWarning: Degrees of freedom <= 0 for slice.\n",
      "  keepdims=keepdims)\n",
      "/users/plevy/miniconda3/envs/pytorch-lcv/lib/python3.6/site-packages/numpy/core/_asarray.py:83: UserWarning: Warning: converting a masked element to nan.\n",
      "  return array(a, dtype, copy=False, order=order)\n",
      "No handles with labels found to put in legend.\n",
      "/users/plevy/miniconda3/envs/pytorch-lcv/lib/python3.6/site-packages/numpy/lib/nanfunctions.py:1390: RuntimeWarning: All-NaN slice encountered\n",
      "  overwrite_input, interpolation)\n",
      "/users/plevy/miniconda3/envs/pytorch-lcv/lib/python3.6/site-packages/numpy/lib/nanfunctions.py:1665: RuntimeWarning: Degrees of freedom <= 0 for slice.\n",
      "  keepdims=keepdims)\n",
      "/users/plevy/miniconda3/envs/pytorch-lcv/lib/python3.6/site-packages/numpy/core/_asarray.py:83: UserWarning: Warning: converting a masked element to nan.\n",
      "  return array(a, dtype, copy=False, order=order)\n",
      "No handles with labels found to put in legend.\n",
      "/users/plevy/miniconda3/envs/pytorch-lcv/lib/python3.6/site-packages/numpy/lib/nanfunctions.py:1390: RuntimeWarning: All-NaN slice encountered\n",
      "  overwrite_input, interpolation)\n",
      "/users/plevy/miniconda3/envs/pytorch-lcv/lib/python3.6/site-packages/numpy/lib/nanfunctions.py:1665: RuntimeWarning: Degrees of freedom <= 0 for slice.\n",
      "  keepdims=keepdims)\n",
      "/users/plevy/miniconda3/envs/pytorch-lcv/lib/python3.6/site-packages/numpy/core/_asarray.py:83: UserWarning: Warning: converting a masked element to nan.\n",
      "  return array(a, dtype, copy=False, order=order)\n",
      "No handles with labels found to put in legend.\n",
      "/users/plevy/miniconda3/envs/pytorch-lcv/lib/python3.6/site-packages/numpy/lib/nanfunctions.py:1390: RuntimeWarning: All-NaN slice encountered\n",
      "  overwrite_input, interpolation)\n",
      "/users/plevy/miniconda3/envs/pytorch-lcv/lib/python3.6/site-packages/numpy/lib/nanfunctions.py:1665: RuntimeWarning: Degrees of freedom <= 0 for slice.\n",
      "  keepdims=keepdims)\n",
      "/users/plevy/miniconda3/envs/pytorch-lcv/lib/python3.6/site-packages/numpy/core/_asarray.py:83: UserWarning: Warning: converting a masked element to nan.\n",
      "  return array(a, dtype, copy=False, order=order)\n",
      "No handles with labels found to put in legend.\n",
      "/users/plevy/miniconda3/envs/pytorch-lcv/lib/python3.6/site-packages/numpy/lib/nanfunctions.py:1390: RuntimeWarning: All-NaN slice encountered\n",
      "  overwrite_input, interpolation)\n",
      "/users/plevy/miniconda3/envs/pytorch-lcv/lib/python3.6/site-packages/numpy/lib/nanfunctions.py:1665: RuntimeWarning: Degrees of freedom <= 0 for slice.\n",
      "  keepdims=keepdims)\n",
      "/users/plevy/miniconda3/envs/pytorch-lcv/lib/python3.6/site-packages/numpy/core/_asarray.py:83: UserWarning: Warning: converting a masked element to nan.\n",
      "  return array(a, dtype, copy=False, order=order)\n",
      "No handles with labels found to put in legend.\n",
      "/users/plevy/miniconda3/envs/pytorch-lcv/lib/python3.6/site-packages/numpy/lib/nanfunctions.py:1390: RuntimeWarning: All-NaN slice encountered\n",
      "  overwrite_input, interpolation)\n",
      "/users/plevy/miniconda3/envs/pytorch-lcv/lib/python3.6/site-packages/numpy/lib/nanfunctions.py:1665: RuntimeWarning: Degrees of freedom <= 0 for slice.\n",
      "  keepdims=keepdims)\n",
      "/users/plevy/miniconda3/envs/pytorch-lcv/lib/python3.6/site-packages/numpy/core/_asarray.py:83: UserWarning: Warning: converting a masked element to nan.\n",
      "  return array(a, dtype, copy=False, order=order)\n",
      "No handles with labels found to put in legend.\n",
      "/users/plevy/miniconda3/envs/pytorch-lcv/lib/python3.6/site-packages/numpy/lib/nanfunctions.py:1390: RuntimeWarning: All-NaN slice encountered\n",
      "  overwrite_input, interpolation)\n",
      "/users/plevy/miniconda3/envs/pytorch-lcv/lib/python3.6/site-packages/numpy/lib/nanfunctions.py:1665: RuntimeWarning: Degrees of freedom <= 0 for slice.\n",
      "  keepdims=keepdims)\n",
      "/users/plevy/miniconda3/envs/pytorch-lcv/lib/python3.6/site-packages/numpy/core/_asarray.py:83: UserWarning: Warning: converting a masked element to nan.\n",
      "  return array(a, dtype, copy=False, order=order)\n",
      "No handles with labels found to put in legend.\n",
      "/users/plevy/miniconda3/envs/pytorch-lcv/lib/python3.6/site-packages/numpy/lib/nanfunctions.py:1390: RuntimeWarning: All-NaN slice encountered\n",
      "  overwrite_input, interpolation)\n",
      "/users/plevy/miniconda3/envs/pytorch-lcv/lib/python3.6/site-packages/numpy/lib/nanfunctions.py:1665: RuntimeWarning: Degrees of freedom <= 0 for slice.\n",
      "  keepdims=keepdims)\n",
      "/users/plevy/miniconda3/envs/pytorch-lcv/lib/python3.6/site-packages/numpy/core/_asarray.py:83: UserWarning: Warning: converting a masked element to nan.\n",
      "  return array(a, dtype, copy=False, order=order)\n",
      "No handles with labels found to put in legend.\n",
      "/users/plevy/miniconda3/envs/pytorch-lcv/lib/python3.6/site-packages/numpy/lib/nanfunctions.py:1390: RuntimeWarning: All-NaN slice encountered\n",
      "  overwrite_input, interpolation)\n",
      "/users/plevy/miniconda3/envs/pytorch-lcv/lib/python3.6/site-packages/numpy/lib/nanfunctions.py:1665: RuntimeWarning: Degrees of freedom <= 0 for slice.\n",
      "  keepdims=keepdims)\n",
      "/users/plevy/miniconda3/envs/pytorch-lcv/lib/python3.6/site-packages/numpy/core/_asarray.py:83: UserWarning: Warning: converting a masked element to nan.\n",
      "  return array(a, dtype, copy=False, order=order)\n",
      "No handles with labels found to put in legend.\n"
     ]
    },
    {
     "name": "stderr",
     "output_type": "stream",
     "text": [
      "/users/plevy/miniconda3/envs/pytorch-lcv/lib/python3.6/site-packages/numpy/lib/nanfunctions.py:1390: RuntimeWarning: All-NaN slice encountered\n",
      "  overwrite_input, interpolation)\n",
      "/users/plevy/miniconda3/envs/pytorch-lcv/lib/python3.6/site-packages/numpy/lib/nanfunctions.py:1665: RuntimeWarning: Degrees of freedom <= 0 for slice.\n",
      "  keepdims=keepdims)\n",
      "/users/plevy/miniconda3/envs/pytorch-lcv/lib/python3.6/site-packages/numpy/core/_asarray.py:83: UserWarning: Warning: converting a masked element to nan.\n",
      "  return array(a, dtype, copy=False, order=order)\n",
      "No handles with labels found to put in legend.\n",
      "/users/plevy/miniconda3/envs/pytorch-lcv/lib/python3.6/site-packages/numpy/lib/nanfunctions.py:1390: RuntimeWarning: All-NaN slice encountered\n",
      "  overwrite_input, interpolation)\n",
      "/users/plevy/miniconda3/envs/pytorch-lcv/lib/python3.6/site-packages/numpy/lib/nanfunctions.py:1665: RuntimeWarning: Degrees of freedom <= 0 for slice.\n",
      "  keepdims=keepdims)\n",
      "/users/plevy/miniconda3/envs/pytorch-lcv/lib/python3.6/site-packages/numpy/core/_asarray.py:83: UserWarning: Warning: converting a masked element to nan.\n",
      "  return array(a, dtype, copy=False, order=order)\n",
      "No handles with labels found to put in legend.\n",
      "/users/plevy/miniconda3/envs/pytorch-lcv/lib/python3.6/site-packages/numpy/lib/nanfunctions.py:1390: RuntimeWarning: All-NaN slice encountered\n",
      "  overwrite_input, interpolation)\n",
      "/users/plevy/miniconda3/envs/pytorch-lcv/lib/python3.6/site-packages/numpy/lib/nanfunctions.py:1665: RuntimeWarning: Degrees of freedom <= 0 for slice.\n",
      "  keepdims=keepdims)\n",
      "/users/plevy/miniconda3/envs/pytorch-lcv/lib/python3.6/site-packages/numpy/core/_asarray.py:83: UserWarning: Warning: converting a masked element to nan.\n",
      "  return array(a, dtype, copy=False, order=order)\n",
      "No handles with labels found to put in legend.\n",
      "/users/plevy/miniconda3/envs/pytorch-lcv/lib/python3.6/site-packages/numpy/lib/nanfunctions.py:1390: RuntimeWarning: All-NaN slice encountered\n",
      "  overwrite_input, interpolation)\n",
      "/users/plevy/miniconda3/envs/pytorch-lcv/lib/python3.6/site-packages/numpy/lib/nanfunctions.py:1665: RuntimeWarning: Degrees of freedom <= 0 for slice.\n",
      "  keepdims=keepdims)\n",
      "/users/plevy/miniconda3/envs/pytorch-lcv/lib/python3.6/site-packages/numpy/core/_asarray.py:83: UserWarning: Warning: converting a masked element to nan.\n",
      "  return array(a, dtype, copy=False, order=order)\n",
      "No handles with labels found to put in legend.\n",
      "/users/plevy/miniconda3/envs/pytorch-lcv/lib/python3.6/site-packages/numpy/lib/nanfunctions.py:1390: RuntimeWarning: All-NaN slice encountered\n",
      "  overwrite_input, interpolation)\n",
      "/users/plevy/miniconda3/envs/pytorch-lcv/lib/python3.6/site-packages/numpy/lib/nanfunctions.py:1665: RuntimeWarning: Degrees of freedom <= 0 for slice.\n",
      "  keepdims=keepdims)\n",
      "/users/plevy/miniconda3/envs/pytorch-lcv/lib/python3.6/site-packages/numpy/core/_asarray.py:83: UserWarning: Warning: converting a masked element to nan.\n",
      "  return array(a, dtype, copy=False, order=order)\n",
      "No handles with labels found to put in legend.\n",
      "/users/plevy/miniconda3/envs/pytorch-lcv/lib/python3.6/site-packages/numpy/lib/nanfunctions.py:1390: RuntimeWarning: All-NaN slice encountered\n",
      "  overwrite_input, interpolation)\n",
      "/users/plevy/miniconda3/envs/pytorch-lcv/lib/python3.6/site-packages/numpy/lib/nanfunctions.py:1665: RuntimeWarning: Degrees of freedom <= 0 for slice.\n",
      "  keepdims=keepdims)\n",
      "/users/plevy/miniconda3/envs/pytorch-lcv/lib/python3.6/site-packages/numpy/core/_asarray.py:83: UserWarning: Warning: converting a masked element to nan.\n",
      "  return array(a, dtype, copy=False, order=order)\n",
      "No handles with labels found to put in legend.\n",
      "/users/plevy/miniconda3/envs/pytorch-lcv/lib/python3.6/site-packages/numpy/lib/nanfunctions.py:1390: RuntimeWarning: All-NaN slice encountered\n",
      "  overwrite_input, interpolation)\n",
      "/users/plevy/miniconda3/envs/pytorch-lcv/lib/python3.6/site-packages/numpy/lib/nanfunctions.py:1665: RuntimeWarning: Degrees of freedom <= 0 for slice.\n",
      "  keepdims=keepdims)\n",
      "/users/plevy/miniconda3/envs/pytorch-lcv/lib/python3.6/site-packages/numpy/core/_asarray.py:83: UserWarning: Warning: converting a masked element to nan.\n",
      "  return array(a, dtype, copy=False, order=order)\n",
      "No handles with labels found to put in legend.\n",
      "/users/plevy/miniconda3/envs/pytorch-lcv/lib/python3.6/site-packages/numpy/lib/nanfunctions.py:1390: RuntimeWarning: All-NaN slice encountered\n",
      "  overwrite_input, interpolation)\n",
      "/users/plevy/miniconda3/envs/pytorch-lcv/lib/python3.6/site-packages/numpy/lib/nanfunctions.py:1665: RuntimeWarning: Degrees of freedom <= 0 for slice.\n",
      "  keepdims=keepdims)\n",
      "/users/plevy/miniconda3/envs/pytorch-lcv/lib/python3.6/site-packages/numpy/core/_asarray.py:83: UserWarning: Warning: converting a masked element to nan.\n",
      "  return array(a, dtype, copy=False, order=order)\n",
      "No handles with labels found to put in legend.\n",
      "/users/plevy/miniconda3/envs/pytorch-lcv/lib/python3.6/site-packages/numpy/lib/nanfunctions.py:1390: RuntimeWarning: All-NaN slice encountered\n",
      "  overwrite_input, interpolation)\n",
      "/users/plevy/miniconda3/envs/pytorch-lcv/lib/python3.6/site-packages/numpy/lib/nanfunctions.py:1665: RuntimeWarning: Degrees of freedom <= 0 for slice.\n",
      "  keepdims=keepdims)\n",
      "/users/plevy/miniconda3/envs/pytorch-lcv/lib/python3.6/site-packages/numpy/core/_asarray.py:83: UserWarning: Warning: converting a masked element to nan.\n",
      "  return array(a, dtype, copy=False, order=order)\n",
      "No handles with labels found to put in legend.\n",
      "/users/plevy/miniconda3/envs/pytorch-lcv/lib/python3.6/site-packages/numpy/lib/nanfunctions.py:1390: RuntimeWarning: All-NaN slice encountered\n",
      "  overwrite_input, interpolation)\n",
      "/users/plevy/miniconda3/envs/pytorch-lcv/lib/python3.6/site-packages/numpy/lib/nanfunctions.py:1665: RuntimeWarning: Degrees of freedom <= 0 for slice.\n",
      "  keepdims=keepdims)\n",
      "/users/plevy/miniconda3/envs/pytorch-lcv/lib/python3.6/site-packages/numpy/core/_asarray.py:83: UserWarning: Warning: converting a masked element to nan.\n",
      "  return array(a, dtype, copy=False, order=order)\n",
      "No handles with labels found to put in legend.\n",
      "/users/plevy/miniconda3/envs/pytorch-lcv/lib/python3.6/site-packages/numpy/lib/nanfunctions.py:1390: RuntimeWarning: All-NaN slice encountered\n",
      "  overwrite_input, interpolation)\n",
      "/users/plevy/miniconda3/envs/pytorch-lcv/lib/python3.6/site-packages/numpy/lib/nanfunctions.py:1665: RuntimeWarning: Degrees of freedom <= 0 for slice.\n",
      "  keepdims=keepdims)\n",
      "/users/plevy/miniconda3/envs/pytorch-lcv/lib/python3.6/site-packages/numpy/core/_asarray.py:83: UserWarning: Warning: converting a masked element to nan.\n",
      "  return array(a, dtype, copy=False, order=order)\n",
      "No handles with labels found to put in legend.\n",
      "/users/plevy/miniconda3/envs/pytorch-lcv/lib/python3.6/site-packages/numpy/lib/nanfunctions.py:1390: RuntimeWarning: All-NaN slice encountered\n",
      "  overwrite_input, interpolation)\n",
      "/users/plevy/miniconda3/envs/pytorch-lcv/lib/python3.6/site-packages/numpy/lib/nanfunctions.py:1665: RuntimeWarning: Degrees of freedom <= 0 for slice.\n",
      "  keepdims=keepdims)\n",
      "/users/plevy/miniconda3/envs/pytorch-lcv/lib/python3.6/site-packages/numpy/core/_asarray.py:83: UserWarning: Warning: converting a masked element to nan.\n",
      "  return array(a, dtype, copy=False, order=order)\n",
      "No handles with labels found to put in legend.\n",
      "/users/plevy/miniconda3/envs/pytorch-lcv/lib/python3.6/site-packages/numpy/lib/nanfunctions.py:1390: RuntimeWarning: All-NaN slice encountered\n",
      "  overwrite_input, interpolation)\n",
      "/users/plevy/miniconda3/envs/pytorch-lcv/lib/python3.6/site-packages/numpy/lib/nanfunctions.py:1665: RuntimeWarning: Degrees of freedom <= 0 for slice.\n",
      "  keepdims=keepdims)\n",
      "/users/plevy/miniconda3/envs/pytorch-lcv/lib/python3.6/site-packages/numpy/core/_asarray.py:83: UserWarning: Warning: converting a masked element to nan.\n",
      "  return array(a, dtype, copy=False, order=order)\n",
      "No handles with labels found to put in legend.\n",
      "/users/plevy/miniconda3/envs/pytorch-lcv/lib/python3.6/site-packages/numpy/lib/nanfunctions.py:1390: RuntimeWarning: All-NaN slice encountered\n",
      "  overwrite_input, interpolation)\n",
      "/users/plevy/miniconda3/envs/pytorch-lcv/lib/python3.6/site-packages/numpy/lib/nanfunctions.py:1665: RuntimeWarning: Degrees of freedom <= 0 for slice.\n",
      "  keepdims=keepdims)\n",
      "/users/plevy/miniconda3/envs/pytorch-lcv/lib/python3.6/site-packages/numpy/core/_asarray.py:83: UserWarning: Warning: converting a masked element to nan.\n",
      "  return array(a, dtype, copy=False, order=order)\n",
      "No handles with labels found to put in legend.\n"
     ]
    },
    {
     "name": "stderr",
     "output_type": "stream",
     "text": [
      "/users/plevy/miniconda3/envs/pytorch-lcv/lib/python3.6/site-packages/numpy/lib/nanfunctions.py:1390: RuntimeWarning: All-NaN slice encountered\n",
      "  overwrite_input, interpolation)\n",
      "/users/plevy/miniconda3/envs/pytorch-lcv/lib/python3.6/site-packages/numpy/lib/nanfunctions.py:1665: RuntimeWarning: Degrees of freedom <= 0 for slice.\n",
      "  keepdims=keepdims)\n",
      "/users/plevy/miniconda3/envs/pytorch-lcv/lib/python3.6/site-packages/numpy/core/_asarray.py:83: UserWarning: Warning: converting a masked element to nan.\n",
      "  return array(a, dtype, copy=False, order=order)\n",
      "No handles with labels found to put in legend.\n",
      "/users/plevy/miniconda3/envs/pytorch-lcv/lib/python3.6/site-packages/numpy/lib/nanfunctions.py:1390: RuntimeWarning: All-NaN slice encountered\n",
      "  overwrite_input, interpolation)\n",
      "/users/plevy/miniconda3/envs/pytorch-lcv/lib/python3.6/site-packages/numpy/lib/nanfunctions.py:1665: RuntimeWarning: Degrees of freedom <= 0 for slice.\n",
      "  keepdims=keepdims)\n",
      "/users/plevy/miniconda3/envs/pytorch-lcv/lib/python3.6/site-packages/numpy/core/_asarray.py:83: UserWarning: Warning: converting a masked element to nan.\n",
      "  return array(a, dtype, copy=False, order=order)\n",
      "No handles with labels found to put in legend.\n",
      "/users/plevy/miniconda3/envs/pytorch-lcv/lib/python3.6/site-packages/numpy/lib/nanfunctions.py:1390: RuntimeWarning: All-NaN slice encountered\n",
      "  overwrite_input, interpolation)\n",
      "/users/plevy/miniconda3/envs/pytorch-lcv/lib/python3.6/site-packages/numpy/lib/nanfunctions.py:1665: RuntimeWarning: Degrees of freedom <= 0 for slice.\n",
      "  keepdims=keepdims)\n",
      "/users/plevy/miniconda3/envs/pytorch-lcv/lib/python3.6/site-packages/numpy/core/_asarray.py:83: UserWarning: Warning: converting a masked element to nan.\n",
      "  return array(a, dtype, copy=False, order=order)\n",
      "No handles with labels found to put in legend.\n",
      "/users/plevy/miniconda3/envs/pytorch-lcv/lib/python3.6/site-packages/numpy/lib/nanfunctions.py:1390: RuntimeWarning: All-NaN slice encountered\n",
      "  overwrite_input, interpolation)\n",
      "/users/plevy/miniconda3/envs/pytorch-lcv/lib/python3.6/site-packages/numpy/lib/nanfunctions.py:1665: RuntimeWarning: Degrees of freedom <= 0 for slice.\n",
      "  keepdims=keepdims)\n",
      "/users/plevy/miniconda3/envs/pytorch-lcv/lib/python3.6/site-packages/numpy/core/_asarray.py:83: UserWarning: Warning: converting a masked element to nan.\n",
      "  return array(a, dtype, copy=False, order=order)\n",
      "No handles with labels found to put in legend.\n",
      "/users/plevy/miniconda3/envs/pytorch-lcv/lib/python3.6/site-packages/numpy/lib/nanfunctions.py:1390: RuntimeWarning: All-NaN slice encountered\n",
      "  overwrite_input, interpolation)\n",
      "/users/plevy/miniconda3/envs/pytorch-lcv/lib/python3.6/site-packages/numpy/lib/nanfunctions.py:1665: RuntimeWarning: Degrees of freedom <= 0 for slice.\n",
      "  keepdims=keepdims)\n",
      "/users/plevy/miniconda3/envs/pytorch-lcv/lib/python3.6/site-packages/numpy/core/_asarray.py:83: UserWarning: Warning: converting a masked element to nan.\n",
      "  return array(a, dtype, copy=False, order=order)\n",
      "No handles with labels found to put in legend.\n",
      "/users/plevy/miniconda3/envs/pytorch-lcv/lib/python3.6/site-packages/numpy/lib/nanfunctions.py:1390: RuntimeWarning: All-NaN slice encountered\n",
      "  overwrite_input, interpolation)\n",
      "/users/plevy/miniconda3/envs/pytorch-lcv/lib/python3.6/site-packages/numpy/lib/nanfunctions.py:1665: RuntimeWarning: Degrees of freedom <= 0 for slice.\n",
      "  keepdims=keepdims)\n",
      "/users/plevy/miniconda3/envs/pytorch-lcv/lib/python3.6/site-packages/numpy/core/_asarray.py:83: UserWarning: Warning: converting a masked element to nan.\n",
      "  return array(a, dtype, copy=False, order=order)\n",
      "No handles with labels found to put in legend.\n",
      "/users/plevy/miniconda3/envs/pytorch-lcv/lib/python3.6/site-packages/numpy/lib/nanfunctions.py:1390: RuntimeWarning: All-NaN slice encountered\n",
      "  overwrite_input, interpolation)\n",
      "/users/plevy/miniconda3/envs/pytorch-lcv/lib/python3.6/site-packages/numpy/lib/nanfunctions.py:1665: RuntimeWarning: Degrees of freedom <= 0 for slice.\n",
      "  keepdims=keepdims)\n",
      "/users/plevy/miniconda3/envs/pytorch-lcv/lib/python3.6/site-packages/numpy/core/_asarray.py:83: UserWarning: Warning: converting a masked element to nan.\n",
      "  return array(a, dtype, copy=False, order=order)\n",
      "No handles with labels found to put in legend.\n",
      "/users/plevy/miniconda3/envs/pytorch-lcv/lib/python3.6/site-packages/numpy/lib/nanfunctions.py:1390: RuntimeWarning: All-NaN slice encountered\n",
      "  overwrite_input, interpolation)\n",
      "/users/plevy/miniconda3/envs/pytorch-lcv/lib/python3.6/site-packages/numpy/lib/nanfunctions.py:1665: RuntimeWarning: Degrees of freedom <= 0 for slice.\n",
      "  keepdims=keepdims)\n",
      "/users/plevy/miniconda3/envs/pytorch-lcv/lib/python3.6/site-packages/numpy/core/_asarray.py:83: UserWarning: Warning: converting a masked element to nan.\n",
      "  return array(a, dtype, copy=False, order=order)\n",
      "No handles with labels found to put in legend.\n",
      "/users/plevy/miniconda3/envs/pytorch-lcv/lib/python3.6/site-packages/numpy/lib/nanfunctions.py:1390: RuntimeWarning: All-NaN slice encountered\n",
      "  overwrite_input, interpolation)\n",
      "/users/plevy/miniconda3/envs/pytorch-lcv/lib/python3.6/site-packages/numpy/lib/nanfunctions.py:1665: RuntimeWarning: Degrees of freedom <= 0 for slice.\n",
      "  keepdims=keepdims)\n",
      "/users/plevy/miniconda3/envs/pytorch-lcv/lib/python3.6/site-packages/numpy/core/_asarray.py:83: UserWarning: Warning: converting a masked element to nan.\n",
      "  return array(a, dtype, copy=False, order=order)\n",
      "No handles with labels found to put in legend.\n",
      "/users/plevy/miniconda3/envs/pytorch-lcv/lib/python3.6/site-packages/numpy/lib/nanfunctions.py:1390: RuntimeWarning: All-NaN slice encountered\n",
      "  overwrite_input, interpolation)\n",
      "/users/plevy/miniconda3/envs/pytorch-lcv/lib/python3.6/site-packages/numpy/lib/nanfunctions.py:1665: RuntimeWarning: Degrees of freedom <= 0 for slice.\n",
      "  keepdims=keepdims)\n",
      "/users/plevy/miniconda3/envs/pytorch-lcv/lib/python3.6/site-packages/numpy/core/_asarray.py:83: UserWarning: Warning: converting a masked element to nan.\n",
      "  return array(a, dtype, copy=False, order=order)\n",
      "No handles with labels found to put in legend.\n",
      "/users/plevy/miniconda3/envs/pytorch-lcv/lib/python3.6/site-packages/numpy/lib/nanfunctions.py:1390: RuntimeWarning: All-NaN slice encountered\n",
      "  overwrite_input, interpolation)\n",
      "/users/plevy/miniconda3/envs/pytorch-lcv/lib/python3.6/site-packages/numpy/lib/nanfunctions.py:1665: RuntimeWarning: Degrees of freedom <= 0 for slice.\n",
      "  keepdims=keepdims)\n",
      "/users/plevy/miniconda3/envs/pytorch-lcv/lib/python3.6/site-packages/numpy/core/_asarray.py:83: UserWarning: Warning: converting a masked element to nan.\n",
      "  return array(a, dtype, copy=False, order=order)\n",
      "No handles with labels found to put in legend.\n",
      "/users/plevy/miniconda3/envs/pytorch-lcv/lib/python3.6/site-packages/numpy/lib/nanfunctions.py:1390: RuntimeWarning: All-NaN slice encountered\n",
      "  overwrite_input, interpolation)\n",
      "/users/plevy/miniconda3/envs/pytorch-lcv/lib/python3.6/site-packages/numpy/lib/nanfunctions.py:1665: RuntimeWarning: Degrees of freedom <= 0 for slice.\n",
      "  keepdims=keepdims)\n",
      "/users/plevy/miniconda3/envs/pytorch-lcv/lib/python3.6/site-packages/numpy/core/_asarray.py:83: UserWarning: Warning: converting a masked element to nan.\n",
      "  return array(a, dtype, copy=False, order=order)\n",
      "No handles with labels found to put in legend.\n",
      "/users/plevy/miniconda3/envs/pytorch-lcv/lib/python3.6/site-packages/numpy/lib/nanfunctions.py:1390: RuntimeWarning: All-NaN slice encountered\n",
      "  overwrite_input, interpolation)\n",
      "/users/plevy/miniconda3/envs/pytorch-lcv/lib/python3.6/site-packages/numpy/lib/nanfunctions.py:1665: RuntimeWarning: Degrees of freedom <= 0 for slice.\n",
      "  keepdims=keepdims)\n",
      "/users/plevy/miniconda3/envs/pytorch-lcv/lib/python3.6/site-packages/numpy/core/_asarray.py:83: UserWarning: Warning: converting a masked element to nan.\n",
      "  return array(a, dtype, copy=False, order=order)\n",
      "No handles with labels found to put in legend.\n",
      "/users/plevy/miniconda3/envs/pytorch-lcv/lib/python3.6/site-packages/numpy/lib/nanfunctions.py:1390: RuntimeWarning: All-NaN slice encountered\n",
      "  overwrite_input, interpolation)\n",
      "/users/plevy/miniconda3/envs/pytorch-lcv/lib/python3.6/site-packages/numpy/lib/nanfunctions.py:1665: RuntimeWarning: Degrees of freedom <= 0 for slice.\n",
      "  keepdims=keepdims)\n",
      "/users/plevy/miniconda3/envs/pytorch-lcv/lib/python3.6/site-packages/numpy/core/_asarray.py:83: UserWarning: Warning: converting a masked element to nan.\n",
      "  return array(a, dtype, copy=False, order=order)\n",
      "No handles with labels found to put in legend.\n"
     ]
    },
    {
     "name": "stderr",
     "output_type": "stream",
     "text": [
      "/users/plevy/miniconda3/envs/pytorch-lcv/lib/python3.6/site-packages/numpy/lib/nanfunctions.py:1390: RuntimeWarning: All-NaN slice encountered\n",
      "  overwrite_input, interpolation)\n",
      "/users/plevy/miniconda3/envs/pytorch-lcv/lib/python3.6/site-packages/numpy/lib/nanfunctions.py:1665: RuntimeWarning: Degrees of freedom <= 0 for slice.\n",
      "  keepdims=keepdims)\n",
      "/users/plevy/miniconda3/envs/pytorch-lcv/lib/python3.6/site-packages/numpy/core/_asarray.py:83: UserWarning: Warning: converting a masked element to nan.\n",
      "  return array(a, dtype, copy=False, order=order)\n",
      "No handles with labels found to put in legend.\n",
      "/users/plevy/miniconda3/envs/pytorch-lcv/lib/python3.6/site-packages/numpy/lib/nanfunctions.py:1390: RuntimeWarning: All-NaN slice encountered\n",
      "  overwrite_input, interpolation)\n",
      "/users/plevy/miniconda3/envs/pytorch-lcv/lib/python3.6/site-packages/numpy/lib/nanfunctions.py:1665: RuntimeWarning: Degrees of freedom <= 0 for slice.\n",
      "  keepdims=keepdims)\n",
      "/users/plevy/miniconda3/envs/pytorch-lcv/lib/python3.6/site-packages/numpy/core/_asarray.py:83: UserWarning: Warning: converting a masked element to nan.\n",
      "  return array(a, dtype, copy=False, order=order)\n",
      "No handles with labels found to put in legend.\n",
      "/users/plevy/miniconda3/envs/pytorch-lcv/lib/python3.6/site-packages/numpy/lib/nanfunctions.py:1390: RuntimeWarning: All-NaN slice encountered\n",
      "  overwrite_input, interpolation)\n",
      "/users/plevy/miniconda3/envs/pytorch-lcv/lib/python3.6/site-packages/numpy/lib/nanfunctions.py:1665: RuntimeWarning: Degrees of freedom <= 0 for slice.\n",
      "  keepdims=keepdims)\n",
      "/users/plevy/miniconda3/envs/pytorch-lcv/lib/python3.6/site-packages/numpy/core/_asarray.py:83: UserWarning: Warning: converting a masked element to nan.\n",
      "  return array(a, dtype, copy=False, order=order)\n",
      "No handles with labels found to put in legend.\n",
      "/users/plevy/miniconda3/envs/pytorch-lcv/lib/python3.6/site-packages/numpy/lib/nanfunctions.py:1390: RuntimeWarning: All-NaN slice encountered\n",
      "  overwrite_input, interpolation)\n",
      "/users/plevy/miniconda3/envs/pytorch-lcv/lib/python3.6/site-packages/numpy/lib/nanfunctions.py:1665: RuntimeWarning: Degrees of freedom <= 0 for slice.\n",
      "  keepdims=keepdims)\n",
      "/users/plevy/miniconda3/envs/pytorch-lcv/lib/python3.6/site-packages/numpy/core/_asarray.py:83: UserWarning: Warning: converting a masked element to nan.\n",
      "  return array(a, dtype, copy=False, order=order)\n",
      "No handles with labels found to put in legend.\n",
      "/users/plevy/miniconda3/envs/pytorch-lcv/lib/python3.6/site-packages/numpy/lib/nanfunctions.py:1390: RuntimeWarning: All-NaN slice encountered\n",
      "  overwrite_input, interpolation)\n",
      "/users/plevy/miniconda3/envs/pytorch-lcv/lib/python3.6/site-packages/numpy/lib/nanfunctions.py:1665: RuntimeWarning: Degrees of freedom <= 0 for slice.\n",
      "  keepdims=keepdims)\n",
      "/users/plevy/miniconda3/envs/pytorch-lcv/lib/python3.6/site-packages/numpy/core/_asarray.py:83: UserWarning: Warning: converting a masked element to nan.\n",
      "  return array(a, dtype, copy=False, order=order)\n",
      "No handles with labels found to put in legend.\n",
      "/users/plevy/miniconda3/envs/pytorch-lcv/lib/python3.6/site-packages/numpy/lib/nanfunctions.py:1390: RuntimeWarning: All-NaN slice encountered\n",
      "  overwrite_input, interpolation)\n",
      "/users/plevy/miniconda3/envs/pytorch-lcv/lib/python3.6/site-packages/numpy/lib/nanfunctions.py:1665: RuntimeWarning: Degrees of freedom <= 0 for slice.\n",
      "  keepdims=keepdims)\n",
      "/users/plevy/miniconda3/envs/pytorch-lcv/lib/python3.6/site-packages/numpy/core/_asarray.py:83: UserWarning: Warning: converting a masked element to nan.\n",
      "  return array(a, dtype, copy=False, order=order)\n",
      "No handles with labels found to put in legend.\n",
      "/users/plevy/miniconda3/envs/pytorch-lcv/lib/python3.6/site-packages/numpy/lib/nanfunctions.py:1390: RuntimeWarning: All-NaN slice encountered\n",
      "  overwrite_input, interpolation)\n",
      "/users/plevy/miniconda3/envs/pytorch-lcv/lib/python3.6/site-packages/numpy/lib/nanfunctions.py:1665: RuntimeWarning: Degrees of freedom <= 0 for slice.\n",
      "  keepdims=keepdims)\n",
      "/users/plevy/miniconda3/envs/pytorch-lcv/lib/python3.6/site-packages/numpy/core/_asarray.py:83: UserWarning: Warning: converting a masked element to nan.\n",
      "  return array(a, dtype, copy=False, order=order)\n",
      "No handles with labels found to put in legend.\n",
      "/users/plevy/miniconda3/envs/pytorch-lcv/lib/python3.6/site-packages/numpy/lib/nanfunctions.py:1390: RuntimeWarning: All-NaN slice encountered\n",
      "  overwrite_input, interpolation)\n",
      "/users/plevy/miniconda3/envs/pytorch-lcv/lib/python3.6/site-packages/numpy/lib/nanfunctions.py:1665: RuntimeWarning: Degrees of freedom <= 0 for slice.\n",
      "  keepdims=keepdims)\n",
      "/users/plevy/miniconda3/envs/pytorch-lcv/lib/python3.6/site-packages/numpy/core/_asarray.py:83: UserWarning: Warning: converting a masked element to nan.\n",
      "  return array(a, dtype, copy=False, order=order)\n",
      "No handles with labels found to put in legend.\n",
      "/users/plevy/miniconda3/envs/pytorch-lcv/lib/python3.6/site-packages/numpy/lib/nanfunctions.py:1390: RuntimeWarning: All-NaN slice encountered\n",
      "  overwrite_input, interpolation)\n",
      "/users/plevy/miniconda3/envs/pytorch-lcv/lib/python3.6/site-packages/numpy/lib/nanfunctions.py:1665: RuntimeWarning: Degrees of freedom <= 0 for slice.\n",
      "  keepdims=keepdims)\n",
      "/users/plevy/miniconda3/envs/pytorch-lcv/lib/python3.6/site-packages/numpy/core/_asarray.py:83: UserWarning: Warning: converting a masked element to nan.\n",
      "  return array(a, dtype, copy=False, order=order)\n",
      "No handles with labels found to put in legend.\n",
      "/users/plevy/miniconda3/envs/pytorch-lcv/lib/python3.6/site-packages/numpy/lib/nanfunctions.py:1390: RuntimeWarning: All-NaN slice encountered\n",
      "  overwrite_input, interpolation)\n",
      "/users/plevy/miniconda3/envs/pytorch-lcv/lib/python3.6/site-packages/numpy/lib/nanfunctions.py:1665: RuntimeWarning: Degrees of freedom <= 0 for slice.\n",
      "  keepdims=keepdims)\n",
      "/users/plevy/miniconda3/envs/pytorch-lcv/lib/python3.6/site-packages/numpy/core/_asarray.py:83: UserWarning: Warning: converting a masked element to nan.\n",
      "  return array(a, dtype, copy=False, order=order)\n",
      "No handles with labels found to put in legend.\n",
      "/users/plevy/miniconda3/envs/pytorch-lcv/lib/python3.6/site-packages/numpy/lib/nanfunctions.py:1390: RuntimeWarning: All-NaN slice encountered\n",
      "  overwrite_input, interpolation)\n",
      "/users/plevy/miniconda3/envs/pytorch-lcv/lib/python3.6/site-packages/numpy/lib/nanfunctions.py:1665: RuntimeWarning: Degrees of freedom <= 0 for slice.\n",
      "  keepdims=keepdims)\n",
      "/users/plevy/miniconda3/envs/pytorch-lcv/lib/python3.6/site-packages/numpy/core/_asarray.py:83: UserWarning: Warning: converting a masked element to nan.\n",
      "  return array(a, dtype, copy=False, order=order)\n",
      "No handles with labels found to put in legend.\n",
      "/users/plevy/miniconda3/envs/pytorch-lcv/lib/python3.6/site-packages/numpy/lib/nanfunctions.py:1390: RuntimeWarning: All-NaN slice encountered\n",
      "  overwrite_input, interpolation)\n",
      "/users/plevy/miniconda3/envs/pytorch-lcv/lib/python3.6/site-packages/numpy/lib/nanfunctions.py:1665: RuntimeWarning: Degrees of freedom <= 0 for slice.\n",
      "  keepdims=keepdims)\n",
      "/users/plevy/miniconda3/envs/pytorch-lcv/lib/python3.6/site-packages/numpy/core/_asarray.py:83: UserWarning: Warning: converting a masked element to nan.\n",
      "  return array(a, dtype, copy=False, order=order)\n",
      "No handles with labels found to put in legend.\n",
      "/users/plevy/miniconda3/envs/pytorch-lcv/lib/python3.6/site-packages/numpy/lib/nanfunctions.py:1390: RuntimeWarning: All-NaN slice encountered\n",
      "  overwrite_input, interpolation)\n",
      "/users/plevy/miniconda3/envs/pytorch-lcv/lib/python3.6/site-packages/numpy/lib/nanfunctions.py:1665: RuntimeWarning: Degrees of freedom <= 0 for slice.\n",
      "  keepdims=keepdims)\n",
      "/users/plevy/miniconda3/envs/pytorch-lcv/lib/python3.6/site-packages/numpy/core/_asarray.py:83: UserWarning: Warning: converting a masked element to nan.\n",
      "  return array(a, dtype, copy=False, order=order)\n",
      "No handles with labels found to put in legend.\n",
      "/users/plevy/miniconda3/envs/pytorch-lcv/lib/python3.6/site-packages/numpy/lib/nanfunctions.py:1390: RuntimeWarning: All-NaN slice encountered\n",
      "  overwrite_input, interpolation)\n",
      "/users/plevy/miniconda3/envs/pytorch-lcv/lib/python3.6/site-packages/numpy/lib/nanfunctions.py:1665: RuntimeWarning: Degrees of freedom <= 0 for slice.\n",
      "  keepdims=keepdims)\n",
      "/users/plevy/miniconda3/envs/pytorch-lcv/lib/python3.6/site-packages/numpy/core/_asarray.py:83: UserWarning: Warning: converting a masked element to nan.\n",
      "  return array(a, dtype, copy=False, order=order)\n",
      "No handles with labels found to put in legend.\n"
     ]
    },
    {
     "name": "stderr",
     "output_type": "stream",
     "text": [
      "/users/plevy/miniconda3/envs/pytorch-lcv/lib/python3.6/site-packages/numpy/lib/nanfunctions.py:1390: RuntimeWarning: All-NaN slice encountered\n",
      "  overwrite_input, interpolation)\n",
      "/users/plevy/miniconda3/envs/pytorch-lcv/lib/python3.6/site-packages/numpy/lib/nanfunctions.py:1665: RuntimeWarning: Degrees of freedom <= 0 for slice.\n",
      "  keepdims=keepdims)\n",
      "/users/plevy/miniconda3/envs/pytorch-lcv/lib/python3.6/site-packages/numpy/core/_asarray.py:83: UserWarning: Warning: converting a masked element to nan.\n",
      "  return array(a, dtype, copy=False, order=order)\n",
      "No handles with labels found to put in legend.\n",
      "/users/plevy/miniconda3/envs/pytorch-lcv/lib/python3.6/site-packages/numpy/lib/nanfunctions.py:1390: RuntimeWarning: All-NaN slice encountered\n",
      "  overwrite_input, interpolation)\n",
      "/users/plevy/miniconda3/envs/pytorch-lcv/lib/python3.6/site-packages/numpy/lib/nanfunctions.py:1665: RuntimeWarning: Degrees of freedom <= 0 for slice.\n",
      "  keepdims=keepdims)\n",
      "/users/plevy/miniconda3/envs/pytorch-lcv/lib/python3.6/site-packages/numpy/core/_asarray.py:83: UserWarning: Warning: converting a masked element to nan.\n",
      "  return array(a, dtype, copy=False, order=order)\n",
      "No handles with labels found to put in legend.\n",
      "/users/plevy/miniconda3/envs/pytorch-lcv/lib/python3.6/site-packages/numpy/lib/nanfunctions.py:1390: RuntimeWarning: All-NaN slice encountered\n",
      "  overwrite_input, interpolation)\n",
      "/users/plevy/miniconda3/envs/pytorch-lcv/lib/python3.6/site-packages/numpy/lib/nanfunctions.py:1665: RuntimeWarning: Degrees of freedom <= 0 for slice.\n",
      "  keepdims=keepdims)\n",
      "/users/plevy/miniconda3/envs/pytorch-lcv/lib/python3.6/site-packages/numpy/core/_asarray.py:83: UserWarning: Warning: converting a masked element to nan.\n",
      "  return array(a, dtype, copy=False, order=order)\n",
      "No handles with labels found to put in legend.\n",
      "/users/plevy/miniconda3/envs/pytorch-lcv/lib/python3.6/site-packages/numpy/lib/nanfunctions.py:1390: RuntimeWarning: All-NaN slice encountered\n",
      "  overwrite_input, interpolation)\n",
      "/users/plevy/miniconda3/envs/pytorch-lcv/lib/python3.6/site-packages/numpy/lib/nanfunctions.py:1665: RuntimeWarning: Degrees of freedom <= 0 for slice.\n",
      "  keepdims=keepdims)\n",
      "/users/plevy/miniconda3/envs/pytorch-lcv/lib/python3.6/site-packages/numpy/core/_asarray.py:83: UserWarning: Warning: converting a masked element to nan.\n",
      "  return array(a, dtype, copy=False, order=order)\n",
      "No handles with labels found to put in legend.\n",
      "/users/plevy/miniconda3/envs/pytorch-lcv/lib/python3.6/site-packages/numpy/lib/nanfunctions.py:1390: RuntimeWarning: All-NaN slice encountered\n",
      "  overwrite_input, interpolation)\n",
      "/users/plevy/miniconda3/envs/pytorch-lcv/lib/python3.6/site-packages/numpy/lib/nanfunctions.py:1665: RuntimeWarning: Degrees of freedom <= 0 for slice.\n",
      "  keepdims=keepdims)\n",
      "/users/plevy/miniconda3/envs/pytorch-lcv/lib/python3.6/site-packages/numpy/core/_asarray.py:83: UserWarning: Warning: converting a masked element to nan.\n",
      "  return array(a, dtype, copy=False, order=order)\n",
      "No handles with labels found to put in legend.\n",
      "/users/plevy/miniconda3/envs/pytorch-lcv/lib/python3.6/site-packages/numpy/lib/nanfunctions.py:1390: RuntimeWarning: All-NaN slice encountered\n",
      "  overwrite_input, interpolation)\n",
      "/users/plevy/miniconda3/envs/pytorch-lcv/lib/python3.6/site-packages/numpy/lib/nanfunctions.py:1665: RuntimeWarning: Degrees of freedom <= 0 for slice.\n",
      "  keepdims=keepdims)\n",
      "/users/plevy/miniconda3/envs/pytorch-lcv/lib/python3.6/site-packages/numpy/core/_asarray.py:83: UserWarning: Warning: converting a masked element to nan.\n",
      "  return array(a, dtype, copy=False, order=order)\n",
      "No handles with labels found to put in legend.\n",
      "/users/plevy/miniconda3/envs/pytorch-lcv/lib/python3.6/site-packages/numpy/lib/nanfunctions.py:1390: RuntimeWarning: All-NaN slice encountered\n",
      "  overwrite_input, interpolation)\n",
      "/users/plevy/miniconda3/envs/pytorch-lcv/lib/python3.6/site-packages/numpy/lib/nanfunctions.py:1665: RuntimeWarning: Degrees of freedom <= 0 for slice.\n",
      "  keepdims=keepdims)\n",
      "/users/plevy/miniconda3/envs/pytorch-lcv/lib/python3.6/site-packages/numpy/core/_asarray.py:83: UserWarning: Warning: converting a masked element to nan.\n",
      "  return array(a, dtype, copy=False, order=order)\n",
      "No handles with labels found to put in legend.\n",
      "/users/plevy/miniconda3/envs/pytorch-lcv/lib/python3.6/site-packages/numpy/lib/nanfunctions.py:1390: RuntimeWarning: All-NaN slice encountered\n",
      "  overwrite_input, interpolation)\n",
      "/users/plevy/miniconda3/envs/pytorch-lcv/lib/python3.6/site-packages/numpy/lib/nanfunctions.py:1665: RuntimeWarning: Degrees of freedom <= 0 for slice.\n",
      "  keepdims=keepdims)\n",
      "/users/plevy/miniconda3/envs/pytorch-lcv/lib/python3.6/site-packages/numpy/core/_asarray.py:83: UserWarning: Warning: converting a masked element to nan.\n",
      "  return array(a, dtype, copy=False, order=order)\n",
      "No handles with labels found to put in legend.\n",
      "/users/plevy/miniconda3/envs/pytorch-lcv/lib/python3.6/site-packages/numpy/lib/nanfunctions.py:1390: RuntimeWarning: All-NaN slice encountered\n",
      "  overwrite_input, interpolation)\n",
      "/users/plevy/miniconda3/envs/pytorch-lcv/lib/python3.6/site-packages/numpy/lib/nanfunctions.py:1665: RuntimeWarning: Degrees of freedom <= 0 for slice.\n",
      "  keepdims=keepdims)\n",
      "/users/plevy/miniconda3/envs/pytorch-lcv/lib/python3.6/site-packages/numpy/core/_asarray.py:83: UserWarning: Warning: converting a masked element to nan.\n",
      "  return array(a, dtype, copy=False, order=order)\n",
      "No handles with labels found to put in legend.\n",
      "/users/plevy/miniconda3/envs/pytorch-lcv/lib/python3.6/site-packages/numpy/lib/nanfunctions.py:1390: RuntimeWarning: All-NaN slice encountered\n",
      "  overwrite_input, interpolation)\n",
      "/users/plevy/miniconda3/envs/pytorch-lcv/lib/python3.6/site-packages/numpy/lib/nanfunctions.py:1665: RuntimeWarning: Degrees of freedom <= 0 for slice.\n",
      "  keepdims=keepdims)\n",
      "/users/plevy/miniconda3/envs/pytorch-lcv/lib/python3.6/site-packages/numpy/core/_asarray.py:83: UserWarning: Warning: converting a masked element to nan.\n",
      "  return array(a, dtype, copy=False, order=order)\n",
      "No handles with labels found to put in legend.\n",
      "/users/plevy/miniconda3/envs/pytorch-lcv/lib/python3.6/site-packages/numpy/lib/nanfunctions.py:1390: RuntimeWarning: All-NaN slice encountered\n",
      "  overwrite_input, interpolation)\n",
      "/users/plevy/miniconda3/envs/pytorch-lcv/lib/python3.6/site-packages/numpy/lib/nanfunctions.py:1665: RuntimeWarning: Degrees of freedom <= 0 for slice.\n",
      "  keepdims=keepdims)\n",
      "/users/plevy/miniconda3/envs/pytorch-lcv/lib/python3.6/site-packages/numpy/core/_asarray.py:83: UserWarning: Warning: converting a masked element to nan.\n",
      "  return array(a, dtype, copy=False, order=order)\n",
      "No handles with labels found to put in legend.\n"
     ]
    },
    {
     "data": {
      "text/plain": [
       "<Figure size 469x289.858 with 0 Axes>"
      ]
     },
     "metadata": {},
     "output_type": "display_data"
    },
    {
     "data": {
      "text/plain": [
       "<Figure size 469x289.858 with 0 Axes>"
      ]
     },
     "metadata": {},
     "output_type": "display_data"
    },
    {
     "data": {
      "text/plain": [
       "<Figure size 469x289.858 with 0 Axes>"
      ]
     },
     "metadata": {},
     "output_type": "display_data"
    },
    {
     "data": {
      "text/plain": [
       "<Figure size 469x289.858 with 0 Axes>"
      ]
     },
     "metadata": {},
     "output_type": "display_data"
    },
    {
     "data": {
      "text/plain": [
       "<Figure size 469x289.858 with 0 Axes>"
      ]
     },
     "metadata": {},
     "output_type": "display_data"
    },
    {
     "data": {
      "text/plain": [
       "<Figure size 469x289.858 with 0 Axes>"
      ]
     },
     "metadata": {},
     "output_type": "display_data"
    },
    {
     "data": {
      "text/plain": [
       "<Figure size 469x289.858 with 0 Axes>"
      ]
     },
     "metadata": {},
     "output_type": "display_data"
    },
    {
     "data": {
      "text/plain": [
       "<Figure size 469x289.858 with 0 Axes>"
      ]
     },
     "metadata": {},
     "output_type": "display_data"
    },
    {
     "data": {
      "text/plain": [
       "<Figure size 469x289.858 with 0 Axes>"
      ]
     },
     "metadata": {},
     "output_type": "display_data"
    },
    {
     "data": {
      "text/plain": [
       "<Figure size 469x289.858 with 0 Axes>"
      ]
     },
     "metadata": {},
     "output_type": "display_data"
    },
    {
     "data": {
      "text/plain": [
       "<Figure size 469x289.858 with 0 Axes>"
      ]
     },
     "metadata": {},
     "output_type": "display_data"
    },
    {
     "data": {
      "text/plain": [
       "<Figure size 469x289.858 with 0 Axes>"
      ]
     },
     "metadata": {},
     "output_type": "display_data"
    },
    {
     "data": {
      "text/plain": [
       "<Figure size 469x289.858 with 0 Axes>"
      ]
     },
     "metadata": {},
     "output_type": "display_data"
    },
    {
     "data": {
      "text/plain": [
       "<Figure size 469x289.858 with 0 Axes>"
      ]
     },
     "metadata": {},
     "output_type": "display_data"
    },
    {
     "data": {
      "text/plain": [
       "<Figure size 469x289.858 with 0 Axes>"
      ]
     },
     "metadata": {},
     "output_type": "display_data"
    },
    {
     "data": {
      "text/plain": [
       "<Figure size 469x289.858 with 0 Axes>"
      ]
     },
     "metadata": {},
     "output_type": "display_data"
    },
    {
     "data": {
      "text/plain": [
       "<Figure size 469x289.858 with 0 Axes>"
      ]
     },
     "metadata": {},
     "output_type": "display_data"
    },
    {
     "data": {
      "text/plain": [
       "<Figure size 469x289.858 with 0 Axes>"
      ]
     },
     "metadata": {},
     "output_type": "display_data"
    },
    {
     "data": {
      "text/plain": [
       "<Figure size 469x289.858 with 0 Axes>"
      ]
     },
     "metadata": {},
     "output_type": "display_data"
    },
    {
     "data": {
      "text/plain": [
       "<Figure size 469x289.858 with 0 Axes>"
      ]
     },
     "metadata": {},
     "output_type": "display_data"
    },
    {
     "data": {
      "text/plain": [
       "<Figure size 469x289.858 with 0 Axes>"
      ]
     },
     "metadata": {},
     "output_type": "display_data"
    },
    {
     "data": {
      "text/plain": [
       "<Figure size 469x289.858 with 0 Axes>"
      ]
     },
     "metadata": {},
     "output_type": "display_data"
    },
    {
     "data": {
      "text/plain": [
       "<Figure size 469x289.858 with 0 Axes>"
      ]
     },
     "metadata": {},
     "output_type": "display_data"
    },
    {
     "data": {
      "text/plain": [
       "<Figure size 469x289.858 with 0 Axes>"
      ]
     },
     "metadata": {},
     "output_type": "display_data"
    },
    {
     "data": {
      "text/plain": [
       "<Figure size 469x289.858 with 0 Axes>"
      ]
     },
     "metadata": {},
     "output_type": "display_data"
    },
    {
     "data": {
      "text/plain": [
       "<Figure size 469x289.858 with 0 Axes>"
      ]
     },
     "metadata": {},
     "output_type": "display_data"
    },
    {
     "data": {
      "text/plain": [
       "<Figure size 469x289.858 with 0 Axes>"
      ]
     },
     "metadata": {},
     "output_type": "display_data"
    },
    {
     "data": {
      "text/plain": [
       "<Figure size 469x289.858 with 0 Axes>"
      ]
     },
     "metadata": {},
     "output_type": "display_data"
    },
    {
     "data": {
      "text/plain": [
       "<Figure size 469x289.858 with 0 Axes>"
      ]
     },
     "metadata": {},
     "output_type": "display_data"
    },
    {
     "data": {
      "text/plain": [
       "<Figure size 469x289.858 with 0 Axes>"
      ]
     },
     "metadata": {},
     "output_type": "display_data"
    },
    {
     "data": {
      "text/plain": [
       "<Figure size 469x289.858 with 0 Axes>"
      ]
     },
     "metadata": {},
     "output_type": "display_data"
    },
    {
     "data": {
      "text/plain": [
       "<Figure size 469x289.858 with 0 Axes>"
      ]
     },
     "metadata": {},
     "output_type": "display_data"
    },
    {
     "data": {
      "text/plain": [
       "<Figure size 469x289.858 with 0 Axes>"
      ]
     },
     "metadata": {},
     "output_type": "display_data"
    },
    {
     "data": {
      "text/plain": [
       "<Figure size 469x289.858 with 0 Axes>"
      ]
     },
     "metadata": {},
     "output_type": "display_data"
    },
    {
     "data": {
      "text/plain": [
       "<Figure size 469x289.858 with 0 Axes>"
      ]
     },
     "metadata": {},
     "output_type": "display_data"
    },
    {
     "data": {
      "text/plain": [
       "<Figure size 469x289.858 with 0 Axes>"
      ]
     },
     "metadata": {},
     "output_type": "display_data"
    },
    {
     "data": {
      "text/plain": [
       "<Figure size 469x289.858 with 0 Axes>"
      ]
     },
     "metadata": {},
     "output_type": "display_data"
    },
    {
     "data": {
      "text/plain": [
       "<Figure size 469x289.858 with 0 Axes>"
      ]
     },
     "metadata": {},
     "output_type": "display_data"
    },
    {
     "data": {
      "text/plain": [
       "<Figure size 469x289.858 with 0 Axes>"
      ]
     },
     "metadata": {},
     "output_type": "display_data"
    },
    {
     "data": {
      "text/plain": [
       "<Figure size 469x289.858 with 0 Axes>"
      ]
     },
     "metadata": {},
     "output_type": "display_data"
    },
    {
     "data": {
      "text/plain": [
       "<Figure size 469x289.858 with 0 Axes>"
      ]
     },
     "metadata": {},
     "output_type": "display_data"
    },
    {
     "data": {
      "text/plain": [
       "<Figure size 469x289.858 with 0 Axes>"
      ]
     },
     "metadata": {},
     "output_type": "display_data"
    },
    {
     "data": {
      "text/plain": [
       "<Figure size 469x289.858 with 0 Axes>"
      ]
     },
     "metadata": {},
     "output_type": "display_data"
    },
    {
     "data": {
      "text/plain": [
       "<Figure size 469x289.858 with 0 Axes>"
      ]
     },
     "metadata": {},
     "output_type": "display_data"
    },
    {
     "data": {
      "text/plain": [
       "<Figure size 469x289.858 with 0 Axes>"
      ]
     },
     "metadata": {},
     "output_type": "display_data"
    },
    {
     "data": {
      "text/plain": [
       "<Figure size 469x289.858 with 0 Axes>"
      ]
     },
     "metadata": {},
     "output_type": "display_data"
    },
    {
     "data": {
      "text/plain": [
       "<Figure size 469x289.858 with 0 Axes>"
      ]
     },
     "metadata": {},
     "output_type": "display_data"
    },
    {
     "data": {
      "text/plain": [
       "<Figure size 469x289.858 with 0 Axes>"
      ]
     },
     "metadata": {},
     "output_type": "display_data"
    },
    {
     "data": {
      "text/plain": [
       "<Figure size 469x289.858 with 0 Axes>"
      ]
     },
     "metadata": {},
     "output_type": "display_data"
    },
    {
     "data": {
      "text/plain": [
       "<Figure size 469x289.858 with 0 Axes>"
      ]
     },
     "metadata": {},
     "output_type": "display_data"
    },
    {
     "data": {
      "text/plain": [
       "<Figure size 469x289.858 with 0 Axes>"
      ]
     },
     "metadata": {},
     "output_type": "display_data"
    },
    {
     "data": {
      "text/plain": [
       "<Figure size 469x289.858 with 0 Axes>"
      ]
     },
     "metadata": {},
     "output_type": "display_data"
    },
    {
     "data": {
      "text/plain": [
       "<Figure size 469x289.858 with 0 Axes>"
      ]
     },
     "metadata": {},
     "output_type": "display_data"
    },
    {
     "data": {
      "text/plain": [
       "<Figure size 469x289.858 with 0 Axes>"
      ]
     },
     "metadata": {},
     "output_type": "display_data"
    },
    {
     "data": {
      "text/plain": [
       "<Figure size 469x289.858 with 0 Axes>"
      ]
     },
     "metadata": {},
     "output_type": "display_data"
    },
    {
     "data": {
      "text/plain": [
       "<Figure size 469x289.858 with 0 Axes>"
      ]
     },
     "metadata": {},
     "output_type": "display_data"
    },
    {
     "data": {
      "text/plain": [
       "<Figure size 469x289.858 with 0 Axes>"
      ]
     },
     "metadata": {},
     "output_type": "display_data"
    },
    {
     "data": {
      "text/plain": [
       "<Figure size 469x289.858 with 0 Axes>"
      ]
     },
     "metadata": {},
     "output_type": "display_data"
    },
    {
     "data": {
      "text/plain": [
       "<Figure size 469x289.858 with 0 Axes>"
      ]
     },
     "metadata": {},
     "output_type": "display_data"
    },
    {
     "data": {
      "text/plain": [
       "<Figure size 469x289.858 with 0 Axes>"
      ]
     },
     "metadata": {},
     "output_type": "display_data"
    },
    {
     "data": {
      "text/plain": [
       "<Figure size 469x289.858 with 0 Axes>"
      ]
     },
     "metadata": {},
     "output_type": "display_data"
    },
    {
     "data": {
      "text/plain": [
       "<Figure size 469x289.858 with 0 Axes>"
      ]
     },
     "metadata": {},
     "output_type": "display_data"
    },
    {
     "data": {
      "text/plain": [
       "<Figure size 469x289.858 with 0 Axes>"
      ]
     },
     "metadata": {},
     "output_type": "display_data"
    },
    {
     "data": {
      "text/plain": [
       "<Figure size 469x289.858 with 0 Axes>"
      ]
     },
     "metadata": {},
     "output_type": "display_data"
    },
    {
     "data": {
      "text/plain": [
       "<Figure size 469x289.858 with 0 Axes>"
      ]
     },
     "metadata": {},
     "output_type": "display_data"
    },
    {
     "data": {
      "text/plain": [
       "<Figure size 469x289.858 with 0 Axes>"
      ]
     },
     "metadata": {},
     "output_type": "display_data"
    },
    {
     "data": {
      "text/plain": [
       "<Figure size 469x289.858 with 0 Axes>"
      ]
     },
     "metadata": {},
     "output_type": "display_data"
    },
    {
     "data": {
      "text/plain": [
       "<Figure size 469x289.858 with 0 Axes>"
      ]
     },
     "metadata": {},
     "output_type": "display_data"
    },
    {
     "data": {
      "text/plain": [
       "<Figure size 469x289.858 with 0 Axes>"
      ]
     },
     "metadata": {},
     "output_type": "display_data"
    },
    {
     "data": {
      "text/plain": [
       "<Figure size 469x289.858 with 0 Axes>"
      ]
     },
     "metadata": {},
     "output_type": "display_data"
    },
    {
     "data": {
      "text/plain": [
       "<Figure size 469x289.858 with 0 Axes>"
      ]
     },
     "metadata": {},
     "output_type": "display_data"
    },
    {
     "data": {
      "text/plain": [
       "<Figure size 469x289.858 with 0 Axes>"
      ]
     },
     "metadata": {},
     "output_type": "display_data"
    },
    {
     "data": {
      "text/plain": [
       "<Figure size 469x289.858 with 0 Axes>"
      ]
     },
     "metadata": {},
     "output_type": "display_data"
    },
    {
     "data": {
      "text/plain": [
       "<Figure size 469x289.858 with 0 Axes>"
      ]
     },
     "metadata": {},
     "output_type": "display_data"
    },
    {
     "data": {
      "text/plain": [
       "<Figure size 469x289.858 with 0 Axes>"
      ]
     },
     "metadata": {},
     "output_type": "display_data"
    },
    {
     "data": {
      "text/plain": [
       "<Figure size 469x289.858 with 0 Axes>"
      ]
     },
     "metadata": {},
     "output_type": "display_data"
    },
    {
     "data": {
      "text/plain": [
       "<Figure size 469x289.858 with 0 Axes>"
      ]
     },
     "metadata": {},
     "output_type": "display_data"
    },
    {
     "data": {
      "text/plain": [
       "<Figure size 469x289.858 with 0 Axes>"
      ]
     },
     "metadata": {},
     "output_type": "display_data"
    },
    {
     "data": {
      "text/plain": [
       "<Figure size 469x289.858 with 0 Axes>"
      ]
     },
     "metadata": {},
     "output_type": "display_data"
    },
    {
     "data": {
      "text/plain": [
       "<Figure size 469x289.858 with 0 Axes>"
      ]
     },
     "metadata": {},
     "output_type": "display_data"
    },
    {
     "data": {
      "text/plain": [
       "<Figure size 469x289.858 with 0 Axes>"
      ]
     },
     "metadata": {},
     "output_type": "display_data"
    },
    {
     "data": {
      "image/png": "[encoded data removed]",
      "text/plain": [
       "<Figure size 469x289.858 with 1 Axes>"
      ]
     },
     "metadata": {
      "needs_background": "light"
     },
     "output_type": "display_data"
    }
   ],
   "source": [
    "cons_to_100 = True; # make the contrasts up to 100%? Or just 1?\n",
    "specify_ticks = False; # choose specific ticks? or no?\n",
    "full_plot = False; # disregard some smaller things that are bad for pub. plots, good only for diagn.\n",
    "\n",
    "# metr = 'sf70'\n",
    "metr = 'charFreq'\n",
    "metr_nice = 'Characteristic frequency (c/deg)' if metr == 'charFreq' else metr;\n",
    "metrIsLog = 1; # is this metric log?\n",
    "var_suffix = 'stdLog' if metrIsLog else 'std';\n",
    "\n",
    "con_mult = 100 if cons_to_100 else 1;\n",
    "\n",
    "tick_str = '_tks' if specify_ticks else '';\n",
    "\n",
    "norm = 0; # normalized?\n",
    "norm_suffix = '_{norm}' if norm else '';\n",
    "\n",
    "ylim = [1e-1, 2e1];\n",
    "\n",
    "isDog = 1;\n",
    "dog_suffix = 'dog_' if isDog else ''\n",
    "\n",
    "# Mostly unchanged\n",
    "disp = 0; # unchanged!\n",
    "xlim = np.multiply(con_mult, [1e-2, 1.1]); # contrast\n",
    "# low, ctr, high = 50-34.1, 50, 50+34.1; # get median, and bounds for 68% C.I.\n",
    "low, ctr, high = 2.5, 50, 97.5; # get median, and bounds for 95% C.I.\n",
    "\n",
    "mega_figure = plt.figure(figsize=hf.set_size(tex_width))\n",
    "\n",
    "# names for savig\n",
    "save_loc_indiv = save_loc + '02_01_trajIndiv_%s%s/' % (dog_suffix, metr)\n",
    "# -- individual name will be made within the loop\n",
    "saveName = '02_01_traj_%s%s%s.pdf' % (dog_suffix, metr, norm_suffix.replace('{', '').replace('}',''))\n",
    "\n",
    "reg_slopes = np.nan * np.zeros((len(mega['cellType']), 2)); # we'll store the param. and it's std.\n",
    "reg_slopes_boot = np.nan * np.zeros((len(mega['cellType']), 3)); # median slope with 95% C.I.\n",
    "reg_slopes_boot_summary = np.nan * np.zeros((len(mega['cellType']), 3)); # median, mean slopes, std. of slopes\n",
    "reg_slopes_boot_all = [];\n",
    "\n",
    "# --- for each fit, let's also keep a list of the errors per data point and their associated contrasts\n",
    "reg_slopes_errs = np.nan * np.zeros((len(mega['cellType']), ), dtype='O'); # we'll store the param. and it's std.\n",
    "reg_slopes_cons = np.nan * np.zeros((len(mega['cellType']), ), dtype='O'); # we'll store the param. and it's std.\n",
    "\n",
    "for ky in range(len(mega['cellType'])):\n",
    "    \n",
    "    plt.figure(figsize=hf.set_size(tex_width));\n",
    "    \n",
    "    curr_dir = mega['fullPath'][ky].split('/')[-3]\n",
    "    curr_num = mega['cellNum'][ky];\n",
    "    if whichArea == 'LGN':\n",
    "        curr_isSach = True if 'sach' in curr_dir else False;\n",
    "        curr_name = '' if curr_isSach else mega['expName'][ky];\n",
    "    else:\n",
    "        curr_name = mega['expName'][ky]\n",
    "        \n",
    "    curr_type = mega['triType'][ky] if whichArea=='LGN' else mega['simple'][ky];\n",
    "#     title = r'%s [%s]' % (curr_dir, curr_type)\n",
    "    title = r'%s \\#%02d:%s [%s]' % (curr_dir.replace('_','\\_'), curr_num, curr_name.replace('_','\\_'), curr_type)\n",
    "    \n",
    "    # get which contrasts will be plotting, corresponding indices\n",
    "    curr_cons = mega['stimVals'][ky][1]; # 1 is for contrast values\n",
    "    val_inds = mega['val_con_by_disp'][ky][disp]; # should always be zero disp\n",
    "    \n",
    "    mtr = 'boot_%s%s_values' % (dog_suffix, metr)\n",
    "    # then get the metric of interest\n",
    "    curr_ref = mega['%s%s' % (dog_suffix,metr)][ky][disp, val_inds] # i.e. values not from bootstrapping\n",
    "    curr_vals = mega[mtr][ky][disp, val_inds]\n",
    "    curr_low, curr_med, curr_high = np.nanpercentile(curr_vals, [low, ctr, high], axis=1)\n",
    "#     curr_errs = np.abs([curr_low, curr_high] - curr_med); # -/+ is inferred in plt.errorbar call\n",
    "    curr_errs = np.nanstd(curr_vals, axis=1)\n",
    "    # -- get the right color\n",
    "    clr = colors[grp_names.index(curr_type)];\n",
    "    \n",
    "    # and plot! (this is the distribution of, e.g. char_freq --- we'll add the slopes later)\n",
    "    plt.scatter(con_mult*curr_cons[val_inds], curr_med, color=clr,clip_on=False)#, s=70);\n",
    "    plt.errorbar(con_mult*curr_cons[val_inds], curr_med, yerr=curr_errs, color=clr, clip_on=False);\n",
    "    # -- with linear regression (on log-log, assuming both dims are log)\n",
    "    ok_for_reg = np.where(~np.isnan(curr_med))[0];\n",
    "    if slope_direct:       \n",
    "        # and plot... for which we'll have to get the initial offset (using the intercept param)\n",
    "        slp_key = 'dog_mod';\n",
    "        init_slope = -mega['%s_slope' % slp_key][ky]; # negate to get change in fc (as opposed to xc) with con.\n",
    "        init_interc = mega['%s_intercept' % slp_key][ky]; # no need to negate this...\n",
    "        \n",
    "        reg_slopes[ky] = [init_slope, np.nan];\n",
    "        reg_slopes_cons[ky] = curr_cons[val_inds]\n",
    "        save_suffix = '_modSlope'\n",
    "        \n",
    "        try:\n",
    "            curr_slopes = -mega['boot_%s_slope' % slp_key][ky]; # again, negate\n",
    "            reg_slopes_boot[ky] = [np.nanpercentile(curr_slopes, x) for x in [low, ctr, high]];\n",
    "            reg_slopes_boot_summary[ky] = [reg_slopes_boot[ky,1], np.nanmean(curr_slopes), np.nanstd(curr_slopes)];\n",
    "            reg_slopes_boot_all.append(curr_slopes);\n",
    "            \n",
    "            # the corrected intercept is given by the following (follows from equating the two approaches of getting f_c with contrast)\n",
    "            adj_interc = np.log10(1/(np.pi*np.power(10,init_interc)))\n",
    "            pmz = (init_slope, adj_interc);\n",
    "            curr_std = np.nanstd(curr_slopes);\n",
    "            conz = np.geomspace(curr_cons[val_inds][0], curr_cons[val_inds][-1], 50);\n",
    "            pct_lt0 = 100*np.sum(curr_slopes<0)/len(curr_slopes);\n",
    "            plt.plot(con_mult*conz, np.power(10, fn(np.log10(conz), *pmz)), 'k--', label=r'$m=%.2f \\pm %.2f$ (%.2f\\%% lt0)' % (pmz[0], curr_std, pct_lt0))\n",
    "        except:\n",
    "            pass;\n",
    "    else:\n",
    "        save_suffix = '_regSlope'\n",
    "        if len(ok_for_reg) >= need_for_slope:\n",
    "            mtr_var = 'boot_%s%s_%s' % (dog_suffix, metr, var_suffix)\n",
    "            curr_var = mega[mtr_var][ky][disp, val_inds]\n",
    "            if np.any(np.isnan(curr_var[ok_for_reg])): # then just set curr_var equal to ones...\n",
    "                curr_var = np.ones_like(curr_var); # i.e. equal variability...\n",
    "\n",
    "            fine = opt.curve_fit(fn, np.log10(curr_cons[val_inds][ok_for_reg]), np.log10(curr_med[ok_for_reg]), \n",
    "                                 sigma=(curr_var[ok_for_reg]))\n",
    "            pmz = fine[0];\n",
    "            perr = np.sqrt(np.diag(fine[1])); # per https://docs.scipy.org/doc/scipy/reference/generated/scipy.optimize.curve_fit.html\n",
    "            conz = np.geomspace(curr_cons[val_inds][ok_for_reg][0], curr_cons[val_inds][ok_for_reg][-1], 50);\n",
    "            reg_slopes[ky] = [pmz[0], perr[0]];\n",
    "            if incl_slopeMod_slope:\n",
    "                if whichArea == 'LGN':\n",
    "                    curr_slope = slps_sach[curr_num-1] if curr_isSach else slps_lgn[curr_num-1];\n",
    "                    curr_interc = intrs_sach[curr_num-1] if curr_isSach else intrs_lgn[curr_num-1];\n",
    "                else:\n",
    "                    # below is the order we've specified the experiments (given the above code)\n",
    "                    if 'alt' in curr_dir:\n",
    "                        ind = 0;\n",
    "                    elif 'V1' in curr_dir:\n",
    "                        if 'rig' in curr_dir:\n",
    "                            ind=3;\n",
    "                        elif 'BB' in curr_dir:\n",
    "                            ind=2;\n",
    "                        else:\n",
    "                            ind=1; # regular 'ol V1\n",
    "                    curr_slope = slps[ind][curr_num-1]; curr_interc = inters[ind][curr_num-1]\n",
    "                # the corrected intercept is given by the following (follows from equating the two approaches of getting f_c with contrast)\n",
    "                adj_interc = np.log10(1/(np.pi*np.power(10,curr_interc)))\n",
    "                clr = 'r' if full_plot else 'k'\n",
    "                alph = 0.5 if full_plot else 1;\n",
    "                plt.plot(con_mult*conz, np.power(10, fn(np.log10(conz), curr_slope, adj_interc)), '%s--' % clr, alpha=alph, label=r'$mod_m=%.2f$' % (curr_slope))\n",
    "            # --- let's also store the associated contrasts, errors\n",
    "            if full_plot:\n",
    "                plt.plot(con_mult*conz, np.power(10, fn(np.log10(conz), *pmz)), 'k--', label=r'$m=%.2f \\pm %.2f$' % (pmz[0], perr[0]))\n",
    "            reg_slopes_errs[ky] = np.log10(curr_med[ok_for_reg]) - fn(np.log10(curr_cons[val_inds][ok_for_reg]), *pmz); # data - model\n",
    "            reg_slopes_cons[ky] = curr_cons[val_inds][ok_for_reg]\n",
    "\n",
    "            ### Also do slopes per-boot\n",
    "            curr_slopes = [];\n",
    "            for bt_i in range(curr_vals.shape[-1]): # that's the boot value\n",
    "                try:\n",
    "                    curr_slopes.append(opt.curve_fit(fn, np.log10(curr_cons[val_inds][ok_for_reg]), np.log10(curr_vals[ok_for_reg, bt_i]))[0][0]);\n",
    "                except:\n",
    "                    curr_slopes.append(np.nan);\n",
    "            reg_slopes_boot[ky] = [np.nanpercentile(curr_slopes, x) for x in [low, ctr, high]];\n",
    "            reg_slopes_boot_summary[ky] = [reg_slopes_boot[ky,1], np.nanmean(curr_slopes), np.nanstd(curr_slopes)];\n",
    "            reg_slopes_boot_all.append(curr_slopes);\n",
    "        else:\n",
    "            reg_slopes_boot_all.append([]);\n",
    "            \n",
    "    # --- and first, plot the reference values (i.e. those from the best fit)\n",
    "    if full_plot:\n",
    "        plt.scatter(con_mult*curr_cons[val_inds], curr_ref, facecolors='none', s=70, edgecolors='r', alpha=0.75, clip_on=False, marker='o', label='ref. values');\n",
    "    # adjust figure\n",
    "    plt.xscale('log');\n",
    "    plt.xlabel(r'Contrast (\\%)');\n",
    "    if metrIsLog:\n",
    "        plt.yscale('log');\n",
    "        plt.axis('scaled');\n",
    "    plt.ylabel('%s' % metr_nice);\n",
    "    plt.ylim(ylim);\n",
    "    plt.xlim(xlim);\n",
    "\n",
    "    plt.legend()\n",
    "       \n",
    "    ax = plt.gca();\n",
    "    from matplotlib.ticker import FuncFormatter\n",
    "    for jj, axis in enumerate([ax.xaxis, ax.yaxis]):\n",
    "        axis.set_major_formatter(FuncFormatter(lambda x,y: '%d' % x if x>=1 else '%.1f' % x)) # this will make everything in non-scientific notation!\n",
    "#         axis.set_minor_formatter(FuncFormatter(lambda x,y: '%d' % x if x>=1 else '%.1f' % x)) # this will make everything in non-scientific notation!\n",
    "        if jj == 0 and specify_ticks: # i.e. x-axis\n",
    "            axis.set_ticks([1,3,10,30,100])\n",
    "        elif jj == 1 and specify_ticks: # i.e. y-axis\n",
    "            axis.set_ticks([0.3,1,3,10])\n",
    "\n",
    "    plt.title(r'%s' % title);\n",
    "    sns.despine(offset=sns_offset);\n",
    "    \n",
    "    # Save the current one\n",
    "    saveName_indiv = '%s_%02d%s%s.pdf' % (curr_dir, curr_num, save_suffix, tick_str)\n",
    "    \n",
    "    if not os.path.exists(save_loc_indiv):\n",
    "        os.makedirs(save_loc_indiv)\n",
    "    pdfSv = pltSave.PdfPages(save_loc_indiv + saveName_indiv);\n",
    "    f = plt.gcf();\n",
    "    pdfSv.savefig(f); # only one figure here...\n",
    "    pdfSv.close();\n",
    "    plt.clf(); # close the plot\n",
    "    \n",
    "    # replot on the first one, too\n",
    "    plt.figure(1);\n",
    "    if norm:\n",
    "        try:\n",
    "            # normalize by the metric value at the highest valid contrast\n",
    "            norm_ind = np.where(~np.isnan(curr_med))[0][-1];\n",
    "            curr_med_norm = np.divide(curr_med, curr_med[norm_ind])\n",
    "            plt.plot(con_mult*curr_cons[val_inds], curr_med_norm, color=clr, clip_on=False, alpha=0.3)\n",
    "#             plt.errorbar(curr_cons[val_inds], curr_med_norm, curr_errs, color=clr, clip_on=False, alpha=0.3)\n",
    "        except:\n",
    "            pass\n",
    "    else:\n",
    "        plt.plot(con_mult*curr_cons[val_inds], curr_med, color=clr, clip_on=False, alpha=0.3)\n",
    "#         plt.errorbar(curr_cons[val_inds], curr_med, curr_errs, color=clr, clip_on=False, alpha=0.3)\n",
    "\n",
    "# at the end, fix up the overall figure\n",
    "plt.figure(1);\n",
    "\n",
    "plt.xscale('log');\n",
    "plt.xlabel(r'Contrast (\\%)')\n",
    "if metrIsLog:\n",
    "    plt.yscale('log')\n",
    "    plt.axis('scaled')\n",
    "plt.ylim(ylim);\n",
    "plt.xlim(xlim);\n",
    "plt.ylabel(r'%s%s' % (metr_nice, norm_suffix))\n",
    "plt.title(r'Change in %s with contrast' % metr_nice)\n",
    "\n",
    "sns.despine(offset=10)\n",
    "\n",
    "# Save the overall plot\n",
    "if not os.path.exists(save_loc):\n",
    "    os.makedirs(save_loc)\n",
    "pdfSv = pltSave.PdfPages(save_loc + saveName);\n",
    "f = plt.gcf()\n",
    "pdfSv.savefig(f) # only one figure here...\n",
    "pdfSv.close()\n",
    "# plt.clf() # close the plot\n",
    "\n",
    "\n",
    "# And save the slopes in the overall structure\n",
    "mega['conSlope_%s%s' % (dog_suffix, metr)] = reg_slopes[:,0]\n",
    "mega['conSlope_%s%s_std' % (dog_suffix, metr)] = reg_slopes[:,1]"
   ]
  },
  {
   "cell_type": "code",
   "execution_count": 652,
   "metadata": {},
   "outputs": [],
   "source": [
    "# plt.plot(sorted(mega['conSlope_%s%s' % (dog_suffix, metr)]))"
   ]
  },
  {
   "cell_type": "code",
   "execution_count": 653,
   "metadata": {},
   "outputs": [
    {
     "name": "stderr",
     "output_type": "stream",
     "text": [
      "<>:68: DeprecationWarning: invalid escape sequence \\#\n"
     ]
    },
    {
     "data": {
      "image/png": "[encoded data removed]",
      "text/plain": [
       "<Figure size 2160x1440 with 1 Axes>"
      ]
     },
     "metadata": {
      "needs_background": "light"
     },
     "output_type": "display_data"
    },
    {
     "data": {
      "image/png": "[encoded data removed]",
      "text/plain": [
       "<Figure size 2160x1440 with 1 Axes>"
      ]
     },
     "metadata": {
      "needs_background": "light"
     },
     "output_type": "display_data"
    }
   ],
   "source": [
    "for to_sort in [0, 1]:\n",
    "\n",
    "    sort_suffix = '_sorted' if to_sort else ''\n",
    "    sort_label = 'sorted ' if to_sort else '';\n",
    "\n",
    "    if not to_sort: # only create/update this if we aren't sorting...\n",
    "        sig_cells = np.zeros((len(jointList.keys()), ), dtype=np.bool_); \n",
    "\n",
    "    non_nan = np.where(~np.isnan(reg_slopes_boot[:,1]))[0]\n",
    "    sort_by_median = np.argsort(reg_slopes_boot[non_nan,1]);\n",
    "\n",
    "    if whichArea == 'LGN':\n",
    "        for ky in jointList.keys():\n",
    "            # assumes all keys are ordered\n",
    "            if 'sach' in jointList[ky]['metadata']['fullPath']:\n",
    "                sach_start = ky; \n",
    "                break;\n",
    "    else: # find the breaks in experiment type\n",
    "        prevPath = None; newPaths = [];\n",
    "        for ky in jointList.keys():\n",
    "            # assumes all keys are ordered\n",
    "            if prevPath is None:\n",
    "                prevPath = jointList[ky]['metadata']['fullPath'];\n",
    "            if prevPath != jointList[ky]['metadata']['fullPath']:\n",
    "                prevPath = jointList[ky]['metadata']['fullPath'];\n",
    "                newPaths.append(ky);\n",
    "\n",
    "    if to_sort:\n",
    "        rgba_vals = [reg_slopes_boot_all[non_nan[x]] for x in sort_by_median];\n",
    "        ci_vals = reg_slopes_boot[non_nan[sort_by_median]];\n",
    "    else:\n",
    "        rgba_vals = [reg_slopes_boot_all[x] for x in non_nan];\n",
    "        ci_vals = reg_slopes_boot[non_nan];\n",
    "\n",
    "    plt.figure(figsize=(30, 20))\n",
    "\n",
    "    gt0_count = 0;\n",
    "\n",
    "    if not to_sort and whichArea !='LGN':\n",
    "        [plt.axvline(j+0.5, color='k', linestyle='--', linewidth=1) for j in newPaths]\n",
    "    \n",
    "    for (i, vals), ci in zip(enumerate(rgba_vals), ci_vals):\n",
    "\n",
    "        pos_curr = i if to_sort else 1+keysAsInts[non_nan[i]];\n",
    "        viol = plt.violinplot(dataset=vals, positions=[pos_curr], showextrema=False, widths=0.7);\n",
    "\n",
    "        if not to_sort and i == sach_start and whichArea=='LGN':\n",
    "            plt.axvline(i+0.5, color='k', linestyle='--', linewidth=1)\n",
    "#         if not to_sort and whichArea=='V1':\n",
    "#             if i in newPaths:\n",
    "#                 plt.axvline(i+0.5, color='k', linestyle='--', linewidth=1)\n",
    "\n",
    "        # make all the violin stuff black and transparent\n",
    "        for vp in viol['bodies']:\n",
    "            is_gt0 = np.sum(np.array(vals)<0)/len(vals) <= .05 # are less than 5% of slopes less than 0?\n",
    "#             is_gt0 = ci[0] > 0; # is even the 95% lower bound above 0?\n",
    "            if is_gt0 and not to_sort:\n",
    "                sig_cells[non_nan[i]] = True;\n",
    "            clr = 'red' if is_gt0 else 'black';\n",
    "            gt0_count += is_gt0\n",
    "    #         plt.text(i, reg_slopes_boot[i,2], s='%02d' )\n",
    "            vp.set_color(clr)\n",
    "            vp.set_alpha(0.2);\n",
    "\n",
    "    plt.axhline(0, color='k', linestyle='--', linewidth=1);\n",
    "    sns.despine(offset=10)\n",
    "\n",
    "    plt.xlabel('%scell \\#' % sort_label);\n",
    "    plt.ylabel(r'$f_c$ slope with contrast');\n",
    "    plt.title(r'Distribution of bootstrap slopes of $f_c$ with contrast [n=%d of %d]' % (gt0_count, len(ci_vals)))\n",
    "\n",
    "    # now save\n",
    "    saveName = '02_00_%scFreq_bootSlopes%s.pdf' % (dog_suffix, sort_suffix)\n",
    "    if not os.path.exists(save_loc):\n",
    "        os.makedirs(save_loc)\n",
    "    pdfSv = pltSave.PdfPages(save_loc + saveName);\n",
    "    f = plt.gcf()\n",
    "    pdfSv.savefig(f) # only one figure here...\n",
    "    pdfSv.close()"
   ]
  },
  {
   "cell_type": "markdown",
   "metadata": {},
   "source": [
    "#### Quick look into the significant cells"
   ]
  },
  {
   "cell_type": "code",
   "execution_count": 654,
   "metadata": {},
   "outputs": [
    {
     "name": "stdout",
     "output_type": "stream",
     "text": [
      "***Significance by type***\n",
      "0.00% of complex have significant shifts/slopes\n",
      "0.00% of simple have significant shifts/slopes\n",
      "\n",
      "***Significance by era of experiment***\n",
      "0.00% of V1 have significant shifts/slopes\n",
      "\n",
      "***Significance by exp #***\n",
      "0.00% of m676 (00 of 10) have significant shifts/slopes\n",
      "0.00% of m678 (00 of 19) have significant shifts/slopes\n",
      "0.00% of m681 (00 of 52) have significant shifts/slopes\n",
      "\n",
      "***Significance, median slope by exp AND simple #***\n",
      "V1 --> complex: 00 of 57 (0.00%) --> mdn slope 0.19\n",
      "V1 --> simple: 00 of 24 (0.00%) --> mdn slope 0.04\n",
      "\n",
      "\n",
      "All slope values\n",
      "01 [V1, simple]: 0.12\n",
      "02 [V1, complex]: -0.05\n",
      "03 [V1, simple]: -0.12\n",
      "04 [V1, simple]: 0.21\n",
      "05 [V1, complex]: 0.07\n",
      "06 [V1, complex]: 0.57\n",
      "07 [V1, simple]: 0.19\n",
      "08 [V1, complex]: 0.34\n",
      "09 [V1, simple]: -0.92\n",
      "10 [V1, simple]: -0.14\n",
      "11 [V1, simple]: 0.29\n",
      "12 [V1, simple]: 0.40\n",
      "13 [V1, complex]: 1.00\n",
      "14 [V1, simple]: 0.00\n",
      "15 [V1, simple]: 0.22\n",
      "16 [V1, simple]: 0.30\n",
      "17 [V1, complex]: 0.60\n",
      "18 [V1, complex]: -0.20\n",
      "19 [V1, complex]: -0.22\n",
      "20 [V1, complex]: -0.23\n",
      "21 [V1, simple]: 0.09\n",
      "22 [V1, complex]: 0.09\n",
      "23 [V1, complex]: 1.00\n",
      "24 [V1, complex]: -0.10\n",
      "25 [V1, simple]: 0.08\n",
      "26 [V1, simple]: 0.12\n",
      "27 [V1, simple]: 0.00\n",
      "28 [V1, simple]: -0.06\n",
      "29 [V1, complex]: 0.35\n",
      "30 [V1, complex]: 0.64\n",
      "31 [V1, complex]: 0.22\n",
      "32 [V1, complex]: 0.35\n",
      "33 [V1, complex]: -0.27\n",
      "34 [V1, complex]: 1.00\n",
      "35 [V1, simple]: 0.37\n",
      "36 [V1, simple]: -0.31\n",
      "37 [V1, complex]: 0.26\n",
      "38 [V1, simple]: 0.16\n",
      "39 [V1, complex]: 0.34\n",
      "40 [V1, complex]: 0.19\n",
      "41 [V1, complex]: 0.30\n",
      "42 [V1, complex]: 0.07\n",
      "43 [V1, simple]: -0.27\n",
      "44 [V1, complex]: 0.09\n",
      "45 [V1, simple]: -0.43\n",
      "46 [V1, complex]: 0.00\n",
      "47 [V1, simple]: -0.98\n",
      "48 [V1, complex]: 0.57\n",
      "49 [V1, complex]: 0.42\n",
      "50 [V1, complex]: 0.17\n",
      "51 [V1, simple]: -0.65\n",
      "52 [V1, complex]: 0.08\n",
      "53 [V1, complex]: 0.63\n",
      "54 [V1, complex]: 0.43\n",
      "55 [V1, complex]: 0.06\n",
      "56 [V1, complex]: 0.50\n",
      "57 [V1, complex]: -0.02\n",
      "58 [V1, complex]: 0.57\n",
      "59 [V1, complex]: 0.21\n",
      "60 [V1, complex]: 0.57\n",
      "61 [V1, complex]: -0.20\n",
      "62 [V1, complex]: -0.04\n",
      "63 [V1, complex]: 0.09\n",
      "64 [V1, complex]: -0.13\n",
      "65 [V1, complex]: 0.20\n",
      "66 [V1, complex]: 0.13\n",
      "67 [V1, complex]: 0.07\n",
      "68 [V1, complex]: 0.31\n",
      "69 [V1, complex]: 0.15\n",
      "70 [V1, complex]: -0.11\n",
      "71 [V1, complex]: 0.10\n",
      "72 [V1, complex]: 0.12\n",
      "73 [V1, simple]: -0.09\n",
      "74 [V1, complex]: 0.39\n",
      "75 [V1, complex]: 0.05\n",
      "76 [V1, complex]: 0.03\n",
      "77 [V1, complex]: 0.15\n",
      "78 [V1, complex]: 0.69\n",
      "79 [V1, complex]: 0.39\n",
      "80 [V1, complex]: 0.57\n",
      "81 [V1, complex]: 0.36\n"
     ]
    }
   ],
   "source": [
    "verbose = 1; # print cell slopes here?\n",
    "\n",
    "mega['is_sig'] = sig_cells\n",
    "mega['boot_slope_median'] = reg_slopes_boot_summary[:,0];\n",
    "mega['boot_slope_mean'] = reg_slopes_boot_summary[:,1];\n",
    "mega['boot_slope_std'] = reg_slopes_boot_summary[:,2];\n",
    "# grouped = mega.groupby('is_sig')\n",
    "\n",
    "f = open('%s02_00_%scFreq_slope_summary.txt' % (save_loc, dog_suffix), \"w\")\n",
    "\n",
    "type_key = 'cellType' if whichArea == 'LGN' else 'simple';\n",
    "\n",
    "# what percentage of m/p are significant?\n",
    "grouped = mega.groupby(type_key)\n",
    "f.write('***Significance by type***\\n')\n",
    "print('***Significance by type***')\n",
    "for name, group in grouped:\n",
    "    f.write('%.2f%% of %s have significant shifts/slopes\\n' % (100*np.sum(group['is_sig']) / len(group['is_sig']), name))\n",
    "    print('%.2f%% of %s have significant shifts/slopes' % (100*np.sum(group['is_sig']) / len(group['is_sig']), name))\n",
    "    \n",
    "# what percentage of mine/sach are significant?\n",
    "grouped = mega.groupby('fullPath')\n",
    "f.write('\\n***Significance by era of experiment***\\n')\n",
    "print('\\n***Significance by era of experiment***')\n",
    "for name, group in grouped:\n",
    "    f.write('%.2f%% of %s have significant shifts/slopes\\n' % (100*np.sum(group['is_sig']) / len(group['is_sig']), name.split('/')[-3]))\n",
    "    print('%.2f%% of %s have significant shifts/slopes' % (100*np.sum(group['is_sig']) / len(group['is_sig']), name.split('/')[-3]))\n",
    "    \n",
    "# what percentage of mine/sach are significant?\n",
    "grouped = mega.groupby('mInd')\n",
    "f.write('\\n***Significance by exp #***\\n')\n",
    "print('\\n***Significance by exp #***')\n",
    "for name, group in grouped:\n",
    "    f.write('%.2f%% of m%s (%02d of %02d) have significant shifts/slopes\\n' % (100*np.sum(group['is_sig']) / len(group['is_sig']), name, np.sum(group['is_sig']), len(group['is_sig'])))\n",
    "    print('%.2f%% of m%s (%02d of %02d) have significant shifts/slopes' % (100*np.sum(group['is_sig']) / len(group['is_sig']), name, np.sum(group['is_sig']), len(group['is_sig'])))\n",
    "    \n",
    "# what percentage by mine/sach AND cell type are significant\n",
    "f.write('\\n***Significance, median slope by exp AND %s #***\\n' % type_key)\n",
    "print('\\n***Significance, median slope by exp AND %s #***' % type_key)\n",
    "for name,group in mega.groupby(['fullPath', type_key]):\n",
    "    nm = name[0].split('/')[-3];\n",
    "    n_sig = np.sum(group['is_sig'])\n",
    "    n_tot = len(group['is_sig']);\n",
    "    mdn_slope = np.nanmedian(group['conSlope_dog_charFreq'])\n",
    "    print('%s --> %s: %02d of %02d (%.2f%%) --> mdn slope %.2f' % (nm, name[1], n_sig, n_tot, 100*n_sig/n_tot, mdn_slope))\n",
    "    f.write('%s --> %s: %02d of %02d (%.2f%%) --> mdn slope %.2f\\n' % (nm, name[1], n_sig, n_tot, 100*n_sig/n_tot, mdn_slope))\n",
    "    \n",
    "f.close()\n",
    "\n",
    "### --- also print out every slope value (best for diagnostic purposes)\n",
    "f = open('%s02_00_%scFreq_slope_values.txt' % (save_loc, dog_suffix), \"w\")\n",
    "if verbose:\n",
    "    print('\\n\\nAll slope values')\n",
    "f.write('\\n\\nAll slope values\\n')\n",
    "if whichArea == 'LGN':\n",
    "    if verbose:\n",
    "        [print('%02d [%s]: %.2f%s' % (mega['cellNum'][i], typ, x, '*' if sg else '')) for (i, x), sg, typ in zip(enumerate(mega['conSlope_dog_charFreq']), mega['is_sig'], mega['cellType'])]\n",
    "    [f.write('%02d [%s]: %.2f%s\\n' % (mega['cellNum'][i], typ, x, '*' if sg else '')) for (i, x), sg, typ in zip(enumerate(mega['conSlope_dog_charFreq']), mega['is_sig'], mega['cellType'])]\n",
    "else:\n",
    "    expDirs = [x.split('/')[-3] for x in mega['fullPath']]\n",
    "    if verbose:\n",
    "        [print('%02d [%s, %s]: %.2f%s' % (mega['cellNum'][i], typ, smp, x, '*' if sg else '')) for (i, x), sg, smp,typ in zip(enumerate(mega['conSlope_dog_charFreq']), mega['is_sig'], mega['simple'], expDirs)]\n",
    "    [f.write('%02d [%s, %s]: %.2f%s\\n' % (mega['cellNum'][i], typ, smp, x, '*' if sg else '')) for (i, x), sg, smp,typ in zip(enumerate(mega['conSlope_dog_charFreq']), mega['is_sig'], mega['simple'], expDirs)]\n",
    "f.close()"
   ]
  },
  {
   "cell_type": "code",
   "execution_count": 655,
   "metadata": {},
   "outputs": [],
   "source": [
    "# print('***Proportion of significant cells split by experiment, cell type***\\n')\n",
    "# print(mega.groupby(['fullPath', 'cellType'])['is_sig'].value_counts(normalize=True))\n",
    "# print('------------\\n------------')\n",
    "# print('***Mean slope, split by experiment, cell type***\\n')\n",
    "# print(mega.groupby(['fullPath', 'cellType'])['conSlope_dog_charFreq'].mean())"
   ]
  },
  {
   "cell_type": "markdown",
   "metadata": {},
   "source": [
    "##### Let's also validate the model of assuming linear shift on log-log coordinates\n",
    "i.e. are the errors normally distributed across contrast?"
   ]
  },
  {
   "cell_type": "code",
   "execution_count": 656,
   "metadata": {},
   "outputs": [],
   "source": [
    "if jointType < 7: # then we can evaluate this, since the f_c were not determined from a slope model, already\n",
    "\n",
    "\n",
    "    plt.figure(figsize=hf.set_size(tex_width))\n",
    "    [plt.scatter(x,y, color='k', alpha=0.3) for x,y in zip(reg_slopes_cons, reg_slopes_errs)];\n",
    "    # --- and fit a 1d poly to it?\n",
    "    all_cons_flat = np.hstack(reg_slopes_cons.flatten())\n",
    "    all_errs_flat = np.hstack(reg_slopes_errs.flatten())\n",
    "    no_nan = np.logical_and(~np.isnan(all_errs_flat), ~np.isnan(all_cons_flat))\n",
    "    all_errs_flat = all_errs_flat[no_nan]\n",
    "    all_cons_flat = all_cons_flat[no_nan]\n",
    "    fine = opt.curve_fit(fn, np.log10(all_cons_flat), all_errs_flat)\n",
    "    pmz = fine[0];\n",
    "    cons_to_plot = np.geomspace(np.min(all_cons_flat), np.max(all_cons_flat), 100);\n",
    "    plt.semilogx(cons_to_plot, fn(np.log10(cons_to_plot), *pmz), 'r--', linewidth=1, label='%.2e+x*%.2e' % (*pmz, ))\n",
    "    plt.xscale('log');\n",
    "    plt.xlabel('Contrast');\n",
    "    plt.legend();\n",
    "    plt.ylabel('Error of fit to slope of $f_c$');\n",
    "    plt.title('Distribution of errors by contrast')\n",
    "    sns.despine(offset=sns_offset)\n",
    "    \n",
    "    # now save\n",
    "    saveName = '02_00c_%scFreq_errors.pdf' % (dog_suffix)\n",
    "    if not os.path.exists(save_loc):\n",
    "        os.makedirs(save_loc)\n",
    "    pdfSv = pltSave.PdfPages(save_loc + saveName);\n",
    "    f = plt.gcf()\n",
    "    pdfSv.savefig(f) # only one figure here...\n",
    "    pdfSv.close()\n",
    "        \n",
    "    # group into bins, see if \n",
    "    # -- (a) error is significantly different from 0\n",
    "    # -- (b) distribution is lopsided above/below zero\n",
    "    nBins = 10;\n",
    "    _, bin_edges = np.histogram(np.log10(all_cons_flat), bins=nBins)\n",
    "    indz = np.digitize(np.log10(all_cons_flat), bin_edges[1:-1], right=False);\n",
    "    for ii, ind in enumerate(np.unique(indz)):\n",
    "        distr = all_errs_flat[np.where(indz==ii)];\n",
    "        \n",
    "        if distr.size==0:\n",
    "            continue;\n",
    "        \n",
    "        distr_mean, distr_std = np.mean(distr), np.std(distr)\n",
    "        distr_rescale = (distr-distr_mean)/distr_std;\n",
    "        wilcox_pval = ss.wilcoxon(distr).pvalue;\n",
    "        ks_pval = ss.ks_1samp(distr_rescale, ss.norm.cdf).pvalue;\n",
    "        tt_pval = ss.ttest_1samp(distr, popmean=0).pvalue; \n",
    "        print('[con: %03d-%03d] mean(std) = %.03f(%.02f) --> symmetric errs{wilcoxon}||isGauss{k-s test}: p = %.3f||%.3f [n=%03d]' % (100*np.power(10, bin_edges[ii]), 100*np.power(10, bin_edges[ii+1]), \n",
    "                                                                                                            distr_mean, distr_std, \n",
    "                                                                                                            wilcox_pval, \n",
    "                                                                                                            ks_pval, len(distr)))\n",
    "        plt.figure(figsize=hf.set_size(tex_width));\n",
    "        plt.plot(sorted(distr), 'k-', label='orig (wilcox=%.3f; tt=%.3f)' % (wilcox_pval, tt_pval));\n",
    "        plt.plot(sorted(distr_rescale), 'k--', label='z-scored [ks pval=%.3f]' % (ks_pval));\n",
    "        samps = np.random.randn(len(distr_rescale));\n",
    "        plt.plot(sorted(samps), 'r--', label='norm.');\n",
    "        plt.legend();\n",
    "        plt.xlabel('sorted sample \\#')\n",
    "        plt.ylabel('error');\n",
    "        plt.title('Distribution of errors for contrasts between %03d%%-%03d%%' % (100*np.power(10, bin_edges[ii]), 100*np.power(10, bin_edges[ii+1])))\n",
    "        saveName = '02_00d_%scFreq_errorsDistr_bin%02d.pdf' % (dog_suffix, ii)\n",
    "        pdfSv = pltSave.PdfPages(save_loc + saveName);\n",
    "        f = plt.gcf()\n",
    "        pdfSv.savefig(f) # only one figure here...\n",
    "        pdfSv.close()\n",
    "        plt.close(f)"
   ]
  },
  {
   "cell_type": "code",
   "execution_count": 657,
   "metadata": {},
   "outputs": [],
   "source": [
    "if jointType < 7:\n",
    "\n",
    "    ok_comps = np.where([np.all(~np.isnan(x)) for x in reg_slopes_errs])[0];\n",
    "\n",
    "    pvs = np.array([ss.ks_1samp(ss.zscore(errs), ss.norm.cdf).pvalue for errs in reg_slopes_errs[ok_comps]])\n",
    "    print('%02d of %02d errors are not normally distributed after z-scoring' % (np.sum(pvs<0.05), len(pvs)))\n",
    "    pvs = np.array([ss.ttest_1samp(errs, 0).pvalue for errs in reg_slopes_errs[ok_comps]])\n",
    "    print('%02d of %02d errors have non-zero mean (ttest)' % (np.sum(pvs<0.05), len(pvs)))"
   ]
  },
  {
   "cell_type": "markdown",
   "metadata": {},
   "source": [
    "##### Plot the regression slopes we fit above"
   ]
  },
  {
   "cell_type": "code",
   "execution_count": 658,
   "metadata": {
    "scrolled": false
   },
   "outputs": [
    {
     "data": {
      "image/png": "[encoded data removed]",
      "text/plain": [
       "<Figure size 469x289.858 with 2 Axes>"
      ]
     },
     "metadata": {
      "needs_background": "light"
     },
     "output_type": "display_data"
    }
   ],
   "source": [
    "use_norm = False;\n",
    "wider_bins = False;\n",
    "\n",
    "norm_str = '_normed' if use_norm else '';\n",
    "wider_str = '_wider' if wider_bins else '';\n",
    "\n",
    "saveName = '02_01_%s%s%s%s_slopes.pdf' % (dog_suffix, metr, norm_str, wider_str)\n",
    "\n",
    "no_effect = 0; # i.e. if the slope is 0, then there's no effect\n",
    "\n",
    "nrow=len(grp_names);\n",
    "f, ax = plt.subplots(nrows=nrow, ncols=1, figsize=(hf.set_size(tex_width, subplots=(nrow,1), extra_height=1-1/nrow)),\n",
    "                    sharex=True, sharey=True)\n",
    "\n",
    "grouped = mega.groupby(toGroup, sort=srt_group)\n",
    "\n",
    "# gather and calculate\n",
    "if wider_bins:\n",
    "    bins = np.linspace(-0.5, 0.5, 9);    \n",
    "else:\n",
    "    bins = np.linspace(-0.4, 0.4, 9);\n",
    "stepSize = (bins[-1] - bins[0])/(len(bins)-1);\n",
    "binPlotLocs = bins[1:] - 0.5*stepSize;\n",
    "clipLow, clipHigh = bins[1]-0.5*stepSize, bins[-2]+0.5*stepSize;\n",
    "\n",
    "tickVals = np.linspace(bins[1], bins[-2], len(bins)-2)\n",
    "\n",
    "to_comp = [];\n",
    "\n",
    "width = hist_width*stepSize;\n",
    "\n",
    "metr_nice = 'Characteristic frequency' if metr == 'charFreq' else metr;\n",
    "\n",
    "for (i, (name, group)), clr in zip(enumerate(grouped), colors):\n",
    "    \n",
    "    vals_no_nan = hf.nan_rm(group['conSlope_%s%s' % (dog_suffix, metr)])\n",
    "    \n",
    "    clipped = [np.clip(x, clipLow, clipHigh) for x in vals_no_nan];\n",
    "    vals, _ = np.histogram(clipped, bins=bins)\n",
    "    vals_norm = vals/np.sum(vals)\n",
    "\n",
    "    # calculate\n",
    "    # nSF = [len(x) for x in psfs_clipped]\n",
    "    mdn = np.nanmedian(vals_no_nan);\n",
    "    # mnSF = [np.nanmean(x) for x in psfs];\n",
    "    # gmnSF = [gmean(hf.nan_rm(x)) for x in psfs];\n",
    "\n",
    "    to_use = vals_norm if use_norm else vals;\n",
    "    \n",
    "    ax[i].plot(mdn, 1.2*np.max(to_use), 'v', color=clr)\n",
    "    \n",
    "    pval_curr = ss.ttest_1samp(vals_no_nan, no_effect) # check if the slopes are diff. from, e.g. 0\n",
    "    ax[i].bar(binPlotLocs, to_use, width=width, align='center', color=clr,\n",
    "            label='%s [n=%d, md=%.3f; p=%.2e]' % (name, np.sum(vals), mdn, pval_curr.pvalue), alpha=alphHist);\n",
    "    tickStrs = ['%.2f' % x for x in tickVals];\n",
    "#     tickStrs = ['%.2f' % np.power(2, x) for x in tickVals];\n",
    "    tickStrs[0] = '$>$%s' % tickStrs[0];\n",
    "    tickStrs[-1] = '$<$%s' % tickStrs[-1];\n",
    "    ax[i].set_xticks(tickVals);\n",
    "    ax[i].set_xticklabels(tickStrs);\n",
    "    \n",
    "    # unity/no effect line\n",
    "    ax[i].axvline(no_effect, color='k', linestyle='--')\n",
    "    ax[i].legend()\n",
    "    ax[i].set_ylabel('Proportion of Cells' if use_norm else 'Cell count');\n",
    "    if i == nrow-1:\n",
    "        ax[i].set_xlabel(r'%s slope' % metr_nice);\n",
    "\n",
    "    if len(grouped) > 2: # i.e. it's LGN...\n",
    "        if name == 'other':\n",
    "            continue;\n",
    "        to_comp.append(hf.nan_rm(group['conSlope_%s%s' % (dog_suffix, metr)]))\n",
    "    else:\n",
    "        to_comp.append(hf.nan_rm(group['conSlope_%s%s' % (dog_suffix, metr)]))\n",
    "    \n",
    "ttest = ss.ttest_ind(*to_comp);\n",
    "f.suptitle(r'Distribution of slope of %s [p=%.1e]' % (metr, ttest.pvalue), y=hist_ytitle)\n",
    "\n",
    "sns.despine(offset=sns_offset);\n",
    "\n",
    "# now save\n",
    "if not os.path.exists(save_loc):\n",
    "    os.makedirs(save_loc)\n",
    "pdfSv = pltSave.PdfPages(save_loc + saveName);\n",
    "f = plt.gcf()\n",
    "pdfSv.savefig(f) # only one figure here...\n",
    "pdfSv.close()\n"
   ]
  },
  {
   "cell_type": "markdown",
   "metadata": {},
   "source": [
    "#### Let's also plot the slope size vs. variability --- let's make sure that it's not just high variability conditions with large slopes!"
   ]
  },
  {
   "cell_type": "code",
   "execution_count": null,
   "metadata": {},
   "outputs": [],
   "source": [
    "which_metr = 1; # 0 for median, 1 for mean\n",
    "\n",
    "fold = 1; # fold negative slopes to positive?\n",
    "fold_str = '(abs) ' if fold else '';\n",
    "\n",
    "saveName = '02_01var_%s%s_slopes.pdf' % (dog_suffix, metr)\n",
    "\n",
    "no_effect = 0; # i.e. if the slope is 0, then there's no effect\n",
    "\n",
    "f, ax = plt.subplots(2, 1, figsize=hf.set_size(tex_width, subplots=(2,1)));\n",
    "\n",
    "grouped = mega.groupby(toGroup, sort=srt_group)\n",
    "\n",
    "for i,summary in enumerate(['mean', 'median']):\n",
    "\n",
    "    for (name, group), clr in zip(grouped, colors):\n",
    "        \n",
    "        sig_clr = [clr if x else 'None' for x in group['is_sig']];\n",
    "        \n",
    "        if i==1:\n",
    "            vals = np.abs(group['boot_slope_mean']) if fold else group['boot_slope_mean']\n",
    "        elif i==0:\n",
    "            vals = np.abs(group['boot_slope_median']) if fold else group['boot_slope_median']\n",
    "            \n",
    "        ax[i].scatter(vals, group['boot_slope_std'], label='%s' % name, color=sig_clr, edgecolor=clr)\n",
    "        \n",
    "    # unity/no effect line\n",
    "    ax[i].axvline(no_effect, color='k', linestyle='--', alpha=0.3)\n",
    "    if fold:\n",
    "        ax[i].set_xscale('log');\n",
    "        ax[i].set_yscale('log');\n",
    "    else:\n",
    "        ax[i].set_xscale('symlog', linthreshx=0.1)\n",
    "    ax[i].set_xlabel(r'%s %sslope of %s' % (summary,fold_str,metr));\n",
    "    ax[i].set_ylabel('std of slopes');\n",
    "    ax[i].set_title(r'Central tendency vs. std of %s slope' % (metr))\n",
    "    ax[i].legend()\n",
    "\n",
    "sns.despine(offset=sns_offset);\n",
    "f.tight_layout();\n",
    "\n",
    "# now save\n",
    "if not os.path.exists(save_loc):\n",
    "    os.makedirs(save_loc)\n",
    "pdfSv = pltSave.PdfPages(save_loc + saveName);\n",
    "f = plt.gcf()\n",
    "pdfSv.savefig(f) # only one figure here...\n",
    "pdfSv.close()\n"
   ]
  },
  {
   "cell_type": "markdown",
   "metadata": {},
   "source": [
    "### 02. Scatter plots!"
   ]
  },
  {
   "cell_type": "markdown",
   "metadata": {},
   "source": [
    "#### 02.02a sf70 with contrast from data (1:.33 contrast and 1:lowestValid contrast)"
   ]
  },
  {
   "cell_type": "code",
   "execution_count": null,
   "metadata": {},
   "outputs": [],
   "source": [
    "whichFit = 1; # 0 for non-DoG, 1 for DoG\n",
    "excludeOneThirds = 0; # if 1, then we don't count include cells which have a lowest valid contrast GTE to 1/3\n",
    "exclStr = '_excl33' if excludeOneThirds else ''\n",
    "normCon = 0; # normalize by the contrast ratio ()\n",
    "\n",
    "# are we getting the values from the bootstrap estimates or no?\n",
    "bootEst = 1;\n",
    "bootStr= '_boot' if bootEst else '';\n",
    "\n",
    "normStr = '_norm' if normCon else ''\n",
    "\n",
    "prefix = 'dog_' if whichFit==1 else ''\n",
    "suffix = '[DoG] ' if whichFit==1 else ''\n",
    "\n",
    "saveName = '02_02a_sf70_%sscatter_%s%s%s.pdf' % (prefix, fitBase, exclStr, bootStr);\n",
    "\n",
    "nrow, ncol = 1,2\n",
    "f, ax = plt.subplots(nrow,ncol, figsize=(ncol*12, nrow*10))\n",
    "\n",
    "# Likely unchanged...\n",
    "low, ctr, high = 25, 50, 75; # get median, and bounds for X% C.I. (e.g. 95%)\n",
    "disp=0 \n",
    "yLabels = ['33% contrast', 'lowest valid contrast']\n",
    "alphScatter = 0.5\n",
    "\n",
    "# first one will be 1:.33 (i.e. raw values); second will be 1:lowest\n",
    "for i,ylbl in enumerate(yLabels):\n",
    "    \n",
    "    to_comp = [];\n",
    "    \n",
    "    ### Gather the data, put into \"mega\"\n",
    "    if bootEst:\n",
    "        highSf, compSf, compCons = hf.jl_get_metric_highComp(jointList, 'boot_%ssf70_values' % prefix, whichFit, i)\n",
    "        highSplits = np.array([np.nanpercentile(x, [ctr, low, high]) for x in highSf])\n",
    "        compSplits = np.array([np.nanpercentile(x, [ctr, low, high]) for x in compSf])\n",
    "\n",
    "        if i == 0:\n",
    "            mega['%ssf70_high' % prefix] = highSplits[:,0];\n",
    "            mega['%ssf70_high_CI_lo' % prefix] = highSplits[:,1];\n",
    "            mega['%ssf70_high_CI_hi' % prefix] = highSplits[:,2];\n",
    "            mega['%ssf70_third' % prefix] = compSplits[:,0];\n",
    "            mega['%ssf70_third_CI_lo' % prefix] = compSplits[:,1];\n",
    "            mega['%ssf70_third_CI_hi' % prefix] = compSplits[:,2];\n",
    "            mega['%ssf70_cons_third' % prefix] = compCons;\n",
    "        elif i == 1:\n",
    "            mega['%ssf70_low' % prefix] = compSplits[:,0];\n",
    "            mega['%ssf70_low_CI_lo' % prefix] = compSplits[:,1];\n",
    "            mega['%ssf70_low_CI_hi' % prefix] = compSplits[:,2];\n",
    "            mega['%ssf70_cons_low' % prefix] = compCons;\n",
    "        \n",
    "    else:\n",
    "        highSf, compSf, compCons = hf.jl_get_metric_highComp(jointList, '%ssf70' % prefix, whichFit, i)\n",
    "        if i == 0:\n",
    "            mega['%ssf70_high' % prefix] = highSf;\n",
    "            mega['%ssf70_third' % prefix] = compSf;\n",
    "            mega['%ssf70_cons_third' % prefix] = compCons           \n",
    "        elif i == 1:\n",
    "            mega['%ssf70_low' % prefix] = compSf;\n",
    "            mega['%ssf70_cons_low' % prefix] = compCons\n",
    "\n",
    "    # and add ratio\n",
    "    highSfs = mega['%ssf70_high' % prefix]\n",
    "    divFactor = np.log2(np.divide(1, compCons)) if normCon else 1;\n",
    "    if i == 0:\n",
    "        mega['%ssf70_ratio_third%s' % (prefix, bootStr)] = np.log2(np.divide(highSfs, mega['%ssf70_third' % prefix])) / divFactor\n",
    "    elif i == 1:\n",
    "        mega['%ssf70_ratio_low%s' % (prefix, bootStr)] = np.log2(np.divide(highSfs, mega['%ssf70_low' % prefix])) / divFactor\n",
    "\n",
    "            \n",
    "    ### Go through by group to plot\n",
    "    grouped = mega.groupby(toGroup, sort=srt_group)\n",
    "    \n",
    "    for (name, group), clr in zip(grouped, colors):\n",
    "    \n",
    "        compCons = group['%ssf70_cons_third' % prefix] if i == 0 else group['%ssf70_cons_low' % prefix];\n",
    "        if excludeOneThirds and i == 1:\n",
    "            validInds = compCons<0.3 #np.where(compCons<0.3)[0];\n",
    "        else:\n",
    "            validInds = compCons<0.4 #np.where(compCons<0.4)[0]; # should be at least <40% contrast!\n",
    "\n",
    "        highSf = group['%ssf70_high' % (prefix)]\n",
    "        compSf = group['%ssf70_third' % (prefix)] if i==0 else group['%ssf70_low' % prefix]\n",
    "            \n",
    "        if bootEst:\n",
    "            hi_errLow = group['%ssf70_high_CI_lo' % prefix] if i == 0 else group['%ssf70_high_CI_lo' % prefix]\n",
    "            hi_errHigh = group['%ssf70_high_CI_hi' % prefix] if i == 0 else group['%ssf70_high_CI_hi' % prefix]\n",
    "            comp_errLow = group['%ssf70_third_CI_lo' % prefix] if i == 0 else group['%ssf70_low_CI_lo' % prefix]\n",
    "            comp_errHigh = group['%ssf70_third_CI_hi' % prefix] if i == 0 else group['%ssf70_low_CI_hi' % prefix]\n",
    "            \n",
    "        non_nan = np.logical_and(~np.isnan(highSf), ~np.isnan(compSf))\n",
    "        val_inds = np.logical_and(non_nan, validInds)\n",
    "        \n",
    "        rats_curr = np.divide(highSf[val_inds], compSf[val_inds]);\n",
    "        if normCon:\n",
    "            conRat_log2 = np.log2(np.divide(1, compCons[val_inds]))\n",
    "            rats_curr = np.divide(rats_curr, conRat_log2);\n",
    "\n",
    "        paired_t = ss.ttest_rel(highSf[val_inds], compSf[val_inds])\n",
    "        pval = paired_t.pvalue;\n",
    "        \n",
    "        if bootEst: # then we include C.I.!\n",
    "            ax[i].errorbar(highSf[val_inds], compSf[val_inds], \n",
    "                           xerr=[hi_errLow[val_inds] - highSf[val_inds], highSf[val_inds] - hi_errHigh[val_inds]],\n",
    "                           yerr=[comp_errLow[val_inds] - compSf[val_inds], compSf[val_inds] - comp_errHigh[val_inds]],\n",
    "                           label='%s [n=%02d, p=%.2e]' % (name, np.sum(val_inds), pval), \n",
    "                           alpha=alphScatter, color=clr, fmt='o')#, s=30)\n",
    "        else:\n",
    "            ax[i].scatter(highSf[val_inds], compSf[val_inds], alpha=alphScatter, color=clr, \n",
    "                          s=30, label='%s [n=%02d, p=%.2e]' % (name, np.sum(val_inds), pval))\n",
    "            \n",
    "        if len(grouped) > 2: # i.e. it's LGN...\n",
    "            if name == 'other':\n",
    "                continue;\n",
    "            to_comp.append(rats_curr)\n",
    "        else:\n",
    "            to_comp.append(rats_curr)\n",
    "\n",
    "    # after plotting each group, set the visuals        \n",
    "    ax[i].loglog([0.3,15], [0.3, 15], 'k--')\n",
    "    paired_t = ss.ttest_ind(to_comp[0], to_comp[1])\n",
    "    pval = paired_t.pvalue;\n",
    "    ax[i].set_title('High f cut-off (70%% of peak) w/con %s(p=%.2e)' % (suffix, pval))\n",
    "    ax[i].set_xlabel('High contrast')\n",
    "    ax[i].set_ylabel(ylbl)\n",
    "    ax[i].set_aspect('equal')\n",
    "    ax[i].legend()\n",
    "    \n",
    "sns.despine(offset=sns_offset)\n",
    "\n",
    "if not os.path.exists(save_loc):\n",
    "    os.makedirs(save_loc)\n",
    "pdfSv = pltSave.PdfPages(save_loc + saveName);\n",
    "pdfSv.savefig(f) # only one figure here...\n",
    "pdfSv.close()"
   ]
  },
  {
   "cell_type": "code",
   "execution_count": null,
   "metadata": {},
   "outputs": [],
   "source": [
    "# Then, the histogram\n",
    "saveName = saveName.replace('scatter', 'hist%s' % normStr)\n",
    "\n",
    "f, ax = plt.subplots(nrow,ncol, figsize=(ncol*12, nrow*10), sharey=True)\n",
    "\n",
    "if normCon:\n",
    "    bins = np.linspace(-0.5, 0.5, 9);\n",
    "else:\n",
    "    bins = np.linspace(-1.25, 1.25, 11);\n",
    "stepSize = (bins[-1] - bins[0])/(len(bins)-1);\n",
    "binPlotLocs = bins[1:] - 0.5*stepSize;\n",
    "tickVals = np.linspace(bins[1], bins[-2], len(bins)-2);\n",
    "\n",
    "width = hist_width*stepSize\n",
    "\n",
    "normStr = ', con. norm' if normCon==1 else '';\n",
    "\n",
    "xlabs = ['1:0.33', '1:lowestCon']\n",
    "\n",
    "grouped = mega.groupby(toGroup, sort=srt_group)\n",
    "\n",
    "no_effect = 0;\n",
    "\n",
    "# first one will be 1:.33 (i.e. raw values); second will be 1:lowest\n",
    "for (i,ylbl), xlab in zip(enumerate(yLabels), xlabs):\n",
    "\n",
    "    #########################\n",
    "    for (name, group), clr in zip(grouped, colors):\n",
    "    \n",
    "        key_str = '%ssf70_ratio_third%s' % (prefix, bootStr) if i == 0 else '%ssf70_ratio_low%s' % (prefix, bootStr)\n",
    "        vals_no_nan = hf.nan_rm(group[key_str]); # log transform the ratios s.t. 0 means no shift\n",
    "\n",
    "        ratsClipped = np.clip(vals_no_nan, bins[0]+0.5*stepSize, bins[-1]-0.5*stepSize)\n",
    "        vals, _ = np.histogram(ratsClipped, bins=bins)\n",
    "        vals_norm = vals/np.sum(vals)\n",
    "\n",
    "        # compute mean/median, pvalue (i.e. are ratios diff. from 0)\n",
    "        mn, mdn = np.nanmean(vals_no_nan), np.nanmedian(vals_no_nan);\n",
    "        pval_curr = ss.ttest_1samp(vals_no_nan, no_effect) # check if the slopes are diff. from, e.g. 0\n",
    "       \n",
    "        \n",
    "        # plot the median, add label\n",
    "        ax[i].plot(mdn, 1.2*np.max(vals_norm), 'v', color=clr, markersize=15, \n",
    "                   label='%s [n=%02d, mdn=%.1e; p=%.1e]' % (name, len(ratsClipped), mdn,  pval_curr.pvalue))\n",
    "\n",
    "        # plot the histogram\n",
    "        ax[i].bar(binPlotLocs, vals_norm, width=width, align='center', color=clr,\n",
    "                alpha=alphHist);\n",
    "        \n",
    "        # do the ticks\n",
    "        tickStrs = ['%.2f' % x for x in tickVals];\n",
    "#         tickStrs = ['%.2f' % np.power(2, x) for x in tickVals];\n",
    "        tickStrs[0] = '<%s' % tickStrs[0];\n",
    "        tickStrs[-1] = '>%s' % tickStrs[-1];\n",
    "        ax[i].set_xticks(tickVals);\n",
    "        ax[i].set_xticklabels(tickStrs)\n",
    "        \n",
    "        # add a no-effect line, legend, axis labels, etc\n",
    "        ax[i].axvline(0, linestyle='--', color='k')\n",
    "        ax[i].legend(fontsize='x-small');\n",
    "        ax[i].set_xlabel(r'(log2%s) ratio of $sf_{70}$ change' % normStr)\n",
    "        ax[i].set_ylabel('Proportion of cells');\n",
    "        \n",
    "        \n",
    "sns.despine(offset=sns_offset)\n",
    "\n",
    "if not os.path.exists(save_loc):\n",
    "    os.makedirs(save_loc)\n",
    "pdfSv = pltSave.PdfPages(save_loc + saveName);\n",
    "pdfSv.savefig(f) # only one figure here...\n",
    "pdfSv.close()"
   ]
  },
  {
   "cell_type": "markdown",
   "metadata": {},
   "source": [
    "##### 22.06.29 for future: a look at suppression index vs. slope\n"
   ]
  },
  {
   "cell_type": "code",
   "execution_count": null,
   "metadata": {},
   "outputs": [],
   "source": [
    "if jointType >= 7:\n",
    "\n",
    "    slp_key = 'dog_mod';\n",
    "    slopes = -mega['%s_slope' % slp_key]\n",
    "    suprs = mega['rfsize.suprInd_model']\n",
    "    sigs = mega['is_sig']\n",
    "    cell_type = mega['triType'] if whichArea=='LGN' else mega['simple']\n",
    "    cfs = np.array([mega['dog_charFreq'][x][0,-1] for x in range(len(mega))])\n",
    "    \n",
    "    # mean of suppression index for all sig. cells\n",
    "    print('supr. index for all sig. cells: %.2f' % np.nanmean(suprs[sigs]));\n",
    "    \n",
    "    # mean of suppression index for all NON sig. cells\n",
    "    print('supr. index for all NOT sig. cells: %.2f' % np.nanmean(suprs[~sigs]));\n",
    "    \n",
    "    tt = ss.ttest_ind(hf.nan_rm(suprs[sigs]), hf.nan_rm(suprs[~sigs]));\n",
    "    print('pval for t-test between sig + non-sig supr. index: %.2f' % tt.pvalue)\n",
    "    \n",
    "    \n",
    "    [print('supr. index mean of %.2f for %s' % (np.nanmean(suprs[cell_type==x]), x)) for x in np.unique(cell_type)]\n",
    "    print('\\n')\n",
    "    [print('char freq. mean of %.2f for %s' % (np.nanmean(cfs[cell_type==x]), x)) for x in np.unique(cell_type)]\n",
    "    \n",
    "    x = 'complex' # adjust per experiment...\n",
    "    ss.ttest_ind(hf.nan_rm(cfs[np.logical_and(sigs, cell_type==x)]), hf.nan_rm(cfs[np.logical_and(~sigs, cell_type==x)]))\n",
    "    \n",
    "    plt.figure(figsize=hf.set_size(tex_width));\n",
    "\n",
    "    # plt.scatter(slopes,suprs);\n",
    "    plt.scatter(suprs,slopes,color='k',alpha=0.5)#, clip_on=False);\n",
    "    plt.scatter(suprs[sigs],slopes[sigs],color='r',alpha=0.5)\n",
    "    # plt.xscale('symlog', linthresh=0.1);\n",
    "    # plt.yscale('log')\n",
    "    sns.despine(offset=sns_offset)"
   ]
  },
  {
   "cell_type": "markdown",
   "metadata": {},
   "source": [
    "## 3. Mechanism (with DoG analysis)"
   ]
  },
  {
   "cell_type": "markdown",
   "metadata": {},
   "source": [
    "#### Let's get the radius, gain, volume for the center and surround mechanisms"
   ]
  },
  {
   "cell_type": "code",
   "execution_count": null,
   "metadata": {},
   "outputs": [],
   "source": [
    "grouped = mega.groupby(toGroup, sort=srt_group)\n",
    "\n",
    "boot = 0;\n",
    "bootStr = 'boot ' if boot else ' ';\n",
    "\n",
    "disp = 0;\n",
    "norm = 1;\n",
    "normStr = 'norm ' if norm else ' ';\n",
    "\n",
    "# indices into ['dog_mech']\n",
    "i_gc, i_rc, i_vc, i_gs, i_rs, i_vs = range(6);\n",
    "mdn = 50; # we want 50th percentile\n",
    "\n",
    "nrow, ncol = 3, 3;\n",
    "\n",
    "for (name, group), clr in zip(grouped, colors):\n",
    "\n",
    "    f, ax = plt.subplots(nrow, ncol, figsize=hf.set_size(tex_width, fraction=nrow, subplots=(nrow,ncol)));\n",
    "\n",
    "    # do the visuals, axes, labels, etc\n",
    "    gray = cm.gray(0.5) # mean gray\n",
    "    f.suptitle('Sach recreation %s[%s]' % (normStr, name))\n",
    "    f.subplots_adjust(wspace=0.2, hspace=0.25);\n",
    "\n",
    "    ##########\n",
    "    #### RADIUS\n",
    "    ##########\n",
    "    \n",
    "    # center radius\n",
    "    plt.subplot(3, 3, 1);\n",
    "    if norm:\n",
    "        plt.ylim([3e-1, 5]);\n",
    "    else:\n",
    "        plt.ylim([1e-1, 1]);\n",
    "    plt.xlabel('Contrast');\n",
    "    plt.ylabel(r'radius [dva]')\n",
    "    plt.title('Center radius')\n",
    "    plt.xscale('log')\n",
    "    plt.yscale('log')\n",
    "    \n",
    "    # surround radius\n",
    "    plt.subplot(3, 3, 2);\n",
    "    if norm:\n",
    "        plt.ylim([3e-1, 5]);\n",
    "    else:\n",
    "        plt.ylim([1e-1, 5]);\n",
    "    plt.xlabel('Contrast');\n",
    "    plt.ylabel('radius')\n",
    "    plt.title('Surround radius')\n",
    "    plt.xscale('log')\n",
    "    plt.yscale('log')\n",
    "    \n",
    "    # center:surround radius\n",
    "    plt.subplot(3, 3, 3);\n",
    "#     if norm:\n",
    "#         plt.ylim([3e-1, 5]);\n",
    "#     else:\n",
    "#         plt.ylim([1e-1, 5]);\n",
    "    plt.xlabel('Contrast');\n",
    "    plt.ylabel('surr:center ratio')\n",
    "    plt.title('Ratio of radii')\n",
    "    plt.xscale('log')\n",
    "    plt.yscale('log')\n",
    "\n",
    "    ##########\n",
    "    #### GAIN\n",
    "    ##########\n",
    "\n",
    "    # center gain\n",
    "    plt.subplot(3, 3, 4);\n",
    "    if norm:\n",
    "        plt.ylim([1e-4, 1e2]);\n",
    "#     else:\n",
    "#         plt.ylim([1e-1, 5]);\n",
    "    plt.xlabel('Contrast');\n",
    "    plt.ylabel(r'gain [$\\frac{spks}{s \\cdot unit con.}$]')\n",
    "    plt.title('Center gain')\n",
    "    plt.xscale('log')\n",
    "    plt.yscale('log')\n",
    "    \n",
    "    # surround gain\n",
    "    plt.subplot(3, 3, 5);\n",
    "    if norm:\n",
    "        plt.ylim([1e-4, 1e2]);\n",
    "#     else:\n",
    "#         plt.ylim([1e-1, 5]);\n",
    "    plt.xlabel('Contrast');\n",
    "    plt.ylabel('gain')\n",
    "    plt.title('Surround gain')\n",
    "    plt.xscale('log')\n",
    "    plt.yscale('log')\n",
    "    \n",
    "    # center:surround gain\n",
    "    plt.subplot(3, 3, 6);\n",
    "#     if norm:\n",
    "#         plt.ylim([3e-1, 5]);\n",
    "#     else:\n",
    "#         plt.ylim([1e-1, 5]);\n",
    "    plt.xlabel('Contrast');\n",
    "    plt.ylabel('surr:center gain')\n",
    "    plt.title('Ratio of gains')\n",
    "    plt.xscale('log')\n",
    "    plt.yscale('log')\n",
    "    \n",
    "    ##########\n",
    "    #### VOLUME\n",
    "    ##########\n",
    "    \n",
    "    # center volume\n",
    "    plt.subplot(3, 3, 7);\n",
    "    if norm:\n",
    "        plt.ylim([1e-4, 1e2]);\n",
    "#     else:\n",
    "#         plt.ylim([1e-1, 5]);\n",
    "    plt.xlabel('Contrast');\n",
    "    plt.ylabel('volume')\n",
    "    plt.title('Center volume')\n",
    "    plt.xscale('log')\n",
    "    plt.yscale('log')\n",
    "    \n",
    "    # surround volume\n",
    "    plt.subplot(3, 3, 8);\n",
    "    if norm:\n",
    "        plt.ylim([1e-4, 1e2]);\n",
    "#     else:\n",
    "#         plt.ylim([1e-1, 5]);\n",
    "    plt.xlabel('Contrast');\n",
    "    plt.ylabel('volume')\n",
    "    plt.title('Surround volume')\n",
    "    plt.xscale('log')\n",
    "    plt.yscale('log')\n",
    "    \n",
    "    # center:surround volume\n",
    "    plt.subplot(3, 3, 9);\n",
    "    if norm:\n",
    "        plt.ylim([1e-2, 5]);\n",
    "    else:\n",
    "        plt.ylim([1e-1, 5]);\n",
    "    plt.xlabel('Contrast');\n",
    "    plt.ylabel('surr:center volume')\n",
    "    plt.title('Ratio of volumes')\n",
    "    plt.xscale('log')\n",
    "    plt.yscale('log')\n",
    "    \n",
    "    for ky in group['cellType'].index:\n",
    "        \n",
    "        # Go through each cell in this group\n",
    "        curr_dir = group['fullPath'][ky].split('/')[-3]\n",
    "        curr_num = group['cellNum'][ky];\n",
    "        curr_name = '' if 'sach' in curr_dir else mega['expName'][ky];\n",
    "        \n",
    "        # -- get the contrasts that are used\n",
    "        curr_inds = group['val_con_by_disp'][ky][disp]; # zero dispersion, always?\n",
    "        curr_cons = group['stimVals'][ky][1][curr_inds]\n",
    "        \n",
    "        # center radius\n",
    "        plt.subplot(3, 3, 1);\n",
    "        if boot:\n",
    "            curr_rc = np.nanpercentile(group['boot_dog_mech'][ky][disp, curr_inds, i_rc, :], mdn, axis=1)\n",
    "        else:\n",
    "            curr_rc = group['dog_mech'][ky][disp, curr_inds, i_rc]\n",
    "        non_nan = np.where(~np.isnan(curr_rc))[0]\n",
    "        if len(non_nan) > 1:\n",
    "            curr_rc_plt = np.divide(curr_rc, curr_rc[non_nan[-1]]) if norm else curr_rc;\n",
    "            plt.plot(curr_cons, curr_rc_plt, '--', color=gray, alpha=0.5)\n",
    "\n",
    "        # surround radius\n",
    "        plt.subplot(3, 3, 2);\n",
    "        if boot:\n",
    "            curr_rs = np.nanpercentile(group['boot_dog_mech'][ky][disp, curr_inds, i_rs, :], mdn, axis=1)\n",
    "        else:\n",
    "            curr_rs = group['dog_mech'][ky][disp, curr_inds, i_rs]\n",
    "        non_nan = np.where(~np.isnan(curr_rs))[0]\n",
    "        if len(non_nan) > 1:\n",
    "            curr_rs_plt = np.divide(curr_rs, curr_rs[non_nan[-1]]) if norm else curr_rs;\n",
    "            plt.plot(curr_cons, curr_rs_plt, '--', color=gray, alpha=0.5)\n",
    "            \n",
    "        # center:surr radii\n",
    "        plt.subplot(3, 3, 3);\n",
    "        curr_rats = np.divide(curr_rs, curr_rc);\n",
    "        non_nan = np.where(~np.isnan(curr_rats))[0]\n",
    "        if len(non_nan) > 1:\n",
    "            plt.plot(curr_cons, curr_rats, '--', color=gray, alpha=0.5)\n",
    "\n",
    "        ##########\n",
    "        #### GAIN\n",
    "        ##########\n",
    "    \n",
    "        # center gain\n",
    "        plt.subplot(3, 3, 4);\n",
    "        if boot:\n",
    "            curr_gc = np.nanpercentile(group['boot_dog_mech'][ky][disp, curr_inds, i_gc, :], mdn, axis=1)\n",
    "        else:\n",
    "            curr_gc = group['dog_mech'][ky][disp, curr_inds, i_gc]\n",
    "        non_nan = np.where(~np.isnan(curr_gc))[0]\n",
    "        if len(non_nan) > 1:\n",
    "            curr_gc_plt = np.divide(curr_gc, curr_gc[non_nan[-1]]) if norm else curr_gc;\n",
    "            plt.plot(curr_cons, curr_gc_plt, '--', color=gray, alpha=0.5)\n",
    "\n",
    "        # surround volume\n",
    "        plt.subplot(3, 3, 5);\n",
    "        if boot:\n",
    "            curr_gs = np.nanpercentile(group['boot_dog_mech'][ky][disp, curr_inds, i_gs, :], mdn, axis=1)\n",
    "        else:\n",
    "            curr_gs = group['dog_mech'][ky][disp, curr_inds, i_vs]\n",
    "        non_nan = np.where(~np.isnan(curr_gs))[0]\n",
    "        if len(non_nan) > 1:\n",
    "            curr_gs_plt = np.divide(curr_gs, curr_gs[non_nan[-1]]) if norm else curr_gs;\n",
    "            plt.plot(curr_cons, curr_gs_plt, '--', color=gray, alpha=0.5)\n",
    "\n",
    "        # volume ratio\n",
    "        plt.subplot(3, 3, 6);\n",
    "        curr_rats = np.divide(curr_gs, curr_gc);\n",
    "        non_nan = np.where(~np.isnan(curr_rats))[0]\n",
    "        if len(non_nan) > 1:\n",
    "            plt.plot(curr_cons, curr_rats, '--', color=gray, alpha=0.5)\n",
    "            \n",
    "        ##########\n",
    "        #### VOLUME\n",
    "        ##########\n",
    "    \n",
    "        # center volume\n",
    "        plt.subplot(3, 3, 7);\n",
    "        if boot:\n",
    "            curr_vc = np.nanpercentile(group['boot_dog_mech'][ky][disp, curr_inds, i_vc, :], mdn, axis=1)\n",
    "        else:\n",
    "            curr_vc = group['dog_mech'][ky][disp, curr_inds, i_vc]\n",
    "        non_nan = np.where(~np.isnan(curr_vc))[0]\n",
    "        if len(non_nan) > 1:\n",
    "            curr_vc_plt = np.divide(curr_vc, curr_vc[non_nan[-1]]) if norm else curr_vc;\n",
    "            plt.plot(curr_cons, curr_vc_plt, '--', color=gray, alpha=0.5)\n",
    "\n",
    "        # surround volume\n",
    "        plt.subplot(3, 3, 8);\n",
    "        if boot:\n",
    "            curr_vs = np.nanpercentile(group['boot_dog_mech'][ky][disp, curr_inds, i_vs, :], mdn, axis=1)\n",
    "        else:\n",
    "            curr_vs = group['dog_mech'][ky][disp, curr_inds, i_vs]\n",
    "        non_nan = np.where(~np.isnan(curr_vs))[0]\n",
    "        if len(non_nan) > 1:\n",
    "            curr_vs_plt = np.divide(curr_vs, curr_vs[non_nan[-1]]) if norm else curr_vs;\n",
    "            plt.plot(curr_cons, curr_vs_plt, '--', color=gray, alpha=0.5)\n",
    "\n",
    "        # volume ratio\n",
    "        plt.subplot(3, 3, 9);\n",
    "        curr_rats = np.divide(curr_vs, curr_vc);\n",
    "        non_nan = np.where(~np.isnan(curr_rats))[0]\n",
    "        if len(non_nan) > 1:\n",
    "            plt.plot(curr_cons, curr_rats, '--', color=gray, alpha=0.5)\n",
    "\n",
    "    # then after all cells, save\n",
    "    f.tight_layout()\n",
    "    sns.despine(offset=sns_offset)\n",
    "    \n",
    "    saveName = \"/03_01_sach_%s%s%s.pdf\" % (normStr.replace(' ', '_'), bootStr.replace(' ', '_'), name)\n",
    "    full_save = os.path.dirname(save_loc);\n",
    "    if not os.path.exists(full_save):\n",
    "        os.makedirs(full_save)\n",
    "    pdfSv = pltSave.PdfPages(full_save + saveName);\n",
    "    pdfSv.savefig(f) # only one figure here...\n",
    "    pdfSv.close()"
   ]
  },
  {
   "cell_type": "markdown",
   "metadata": {},
   "source": [
    "# END OF UPDATED ANALYSES"
   ]
  },
  {
   "cell_type": "markdown",
   "metadata": {},
   "source": [
    "#### 02.02b Preferred spatial frequency with contrast from data (1:.33 contrast and 1:lowestValid contrast)"
   ]
  },
  {
   "cell_type": "code",
   "execution_count": null,
   "metadata": {},
   "outputs": [],
   "source": [
    "# whichFit = 0; # 0 for flexible gauss, 1 for DoG\n",
    "# excludeOneThirds = 0; # if 1, then we don't count include cells which have a lowest valid contrast GTE to 1/3\n",
    "# exclStr = '_excl33' if excludeOneThirds else ''\n",
    "\n",
    "# prefix = 'dog_' if whichFit==1 else ''\n",
    "# suffix = '[DoG] ' if whichFit==1 else ''\n",
    "\n",
    "# saveName = '02_02b_sfPref_%sscatter_%s%s.pdf' % (prefix, fitBase, exclStr);\n",
    "\n",
    "# nrow, ncol = 1,2\n",
    "# f, ax = plt.subplots(nrow,ncol, figsize=(ncol*12, nrow*10))\n",
    "\n",
    "# disp=0\n",
    "# yLabels = ['33% contrast', 'lowest valid contrast']\n",
    "\n",
    "# rats_both = [];\n",
    "\n",
    "# # first one will be 1:.33 (i.e. raw values); second will be 1:lowest\n",
    "# for i,ylbl in enumerate(yLabels):\n",
    "\n",
    "#     highSf, compSf, compCons = hf.jl_get_metric_highComp(jointList, '%spSf' % prefix, whichFit, i)\n",
    "    \n",
    "#     if excludeOneThirds and i == 1:\n",
    "#         validInds = np.where(compCons<0.3)[0];\n",
    "#     else:\n",
    "#         validInds = np.where(compCons<0.4)[0]; # obviously, we exclude lowest cons which are the same!\n",
    "    \n",
    "#     non_nan = np.logical_and(~np.isnan(highSf), ~np.isnan(compSf))\n",
    "#     val_inds = np.intersect1d(np.where(non_nan)[0], validInds)\n",
    "       \n",
    "#     rats_both.append(np.divide(highSf[val_inds], compSf[val_inds]))\n",
    "        \n",
    "#     ax[i].scatter(highSf[val_inds], compSf[val_inds], alpha=0.6, color='k', s=30)\n",
    "#     ax[i].loglog([0.3,10], [0.3, 10], 'k--')\n",
    "#     paired_t = ss.ttest_rel(highSf[val_inds], compSf[val_inds])\n",
    "#     pval = paired_t.pvalue;\n",
    "#     ax[i].set_title('Preferred SF with contrast %s(n=%d, p=%.2e)' % (suffix, len(val_inds), pval))\n",
    "#     ax[i].set_xlabel('High contrast')\n",
    "#     ax[i].set_ylabel(ylbl)\n",
    "#     ax[i].set_aspect('equal')\n",
    "    \n",
    "# sns.despine(offset=5)\n",
    "\n",
    "# if not os.path.exists(save_loc):\n",
    "#     os.makedirs(save_loc)\n",
    "# pdfSv = pltSave.PdfPages(save_loc + saveName);\n",
    "# pdfSv.savefig(f) # only one figure here...\n",
    "# pdfSv.close()"
   ]
  },
  {
   "cell_type": "code",
   "execution_count": null,
   "metadata": {},
   "outputs": [],
   "source": [
    "# # Then, the histogram\n",
    "# saveName = saveName.replace('scatter', 'hist')\n",
    "\n",
    "# f, ax = plt.subplots(nrow,ncol, figsize=(ncol*12, nrow*10), sharey=True)\n",
    "\n",
    "# bins = np.linspace(-1.25, 1.25, 10);\n",
    "# stepSize = (bins[-1] - bins[0])/(len(bins)-1);\n",
    "# binPlotLocs = bins[1:] - 0.5*stepSize;\n",
    "# tickVals = np.linspace(bins[1], bins[-2], len(bins)-2);\n",
    "\n",
    "# xlabs = ['1:0.33', '1:lowestCon']\n",
    "\n",
    "# # first one will be 1:.33 (i.e. raw values); second will be 1:lowest\n",
    "# for (i,ylbl), xlab, rats_curr in zip(enumerate(yLabels), xlabs, rats_both):\n",
    "\n",
    "#     rats = np.log2(rats_curr);\n",
    "        \n",
    "#     ratsClipped = np.clip(rats, bins[0]+0.5*stepSize, bins[-1]-0.5*stepSize)\n",
    "#     vals, _ = np.histogram(ratsClipped, bins=bins)\n",
    "#     vals_norm = vals/np.sum(vals)\n",
    "       \n",
    "#     mean, median = np.nanmean(rats), np.nanmedian(rats);\n",
    "        \n",
    "#     ax[i].plot(mean, 1.25*np.max(vals_norm), 'v', label='mean (%.2f)' % np.power(2, mean), markersize=12);\n",
    "#     ax[i].plot(median, 1.25*np.max(vals_norm), 'v', label='median (%.2f)' % np.power(2, median), markersize=12);\n",
    "        \n",
    "#     ax[i].bar(binPlotLocs, vals_norm, width=0.8*stepSize, align='center', color='k');\n",
    "#     mean, median = [np.nanmean(fracVals), np.nanmedian(fracVals)];\n",
    "#     ax[i].set_xticks(tickVals)\n",
    "#     ax[i].set_xticklabels(['%.2f' % np.power(2, x) for x in tickVals]);  \n",
    "#     ax[i].axvline(0, color='k', linestyle='--')\n",
    "#     ax[i].set_xlabel('Ratio @ %s' % xlab)\n",
    "#     ax[i].set_title('Preferred SF with contrast %s(n=%d)' % (suffix, len(rats)))\n",
    "#     ax[i].legend(fontsize='x-small')\n",
    "\n",
    "# sns.despine(offset=10)\n",
    "\n",
    "# if not os.path.exists(save_loc):\n",
    "#     os.makedirs(save_loc)\n",
    "# pdfSv = pltSave.PdfPages(save_loc + saveName);\n",
    "# pdfSv.savefig(f) # only one figure here...\n",
    "# pdfSv.close()"
   ]
  },
  {
   "cell_type": "code",
   "execution_count": null,
   "metadata": {},
   "outputs": [],
   "source": []
  },
  {
   "cell_type": "code",
   "execution_count": null,
   "metadata": {},
   "outputs": [],
   "source": [
    "expDir = 'V1_BB/';\n",
    "loss_type=2\n",
    "dogName = 'descrFitsHPC_220707vEs';\n",
    "dog_model = 3;\n",
    "\n",
    "joint=[7,8,9];\n",
    "\n",
    "rsp = 'dc'; # only appl. for V1_BB\n",
    "\n",
    "jt7 = hf.np_smart_load('%s/structures/%s' % (expDir, hf.descrFit_name(loss_type, descrBase=dogName, modelName=hf.descrMod_name(dog_model), joint=7)))\n",
    "jt8 = hf.np_smart_load('%s/structures/%s' % (expDir, hf.descrFit_name(loss_type, descrBase=dogName, modelName=hf.descrMod_name(dog_model), joint=8)))\n",
    "jt9 = hf.np_smart_load('%s/structures/%s' % (expDir, hf.descrFit_name(loss_type, descrBase=dogName, modelName=hf.descrMod_name(dog_model), joint=9)))"
   ]
  },
  {
   "cell_type": "code",
   "execution_count": null,
   "metadata": {},
   "outputs": [],
   "source": [
    "slps = [];\n",
    "for lst in [jt7,jt8,jt9]:\n",
    "    if 'BB' in expDir:\n",
    "        slps.append([-lst[x][rsp]['mask']['paramList'][1] if np.all(~np.isnan(lst[x][rsp]['mask']['paramList'])) else np.nan for x in range(len(jt7))]);\n",
    "    else:\n",
    "        slps.append([-lst[x]['paramList'][0][1] if np.all(~np.isnan(lst[x]['paramList'][0])) else np.nan for x in range(len(jt7))]);"
   ]
  },
  {
   "cell_type": "code",
   "execution_count": null,
   "metadata": {},
   "outputs": [],
   "source": [
    "f, ax = plt.subplots(3,1,figsize=hf.set_size(tex_width, subplots=(3,1), extra_height=0.75), sharex=True, sharey=True);\n",
    "\n",
    "bins = np.linspace(-1,1,11);\n",
    "\n",
    "f.suptitle('%s slopes%s' % (expDir.replace('_','\\_'), ' %s' % rsp if 'BB' in expDir else ''),y=hist_ytitle) \n",
    "\n",
    "for (i,s),lbl in zip(enumerate(slps), joint):\n",
    "    \n",
    "    clipped = np.clip(s,bins[0],bins[-1]);\n",
    "    oy = ax[i].hist(clipped, bins=bins)\n",
    "    ax[i].plot(np.nanmedian(clipped), 1.2*np.nanmax(oy[0]), 'v', label='%.2f' % np.nanmedian(clipped))\n",
    "    ax[i].legend()\n",
    "    ax[i].set_title('joint = %d' % lbl)\n",
    "    sns.despine(offset=sns_offset)\n",
    "    ax[i].set_ylabel('Cell count')\n",
    "    if i==len(slps)-1:\n",
    "        ax[i].set_xlabel('Char. freq slope')\n",
    "        \n",
    "saveName = \"/%s%s.pdf\" % (expDir.replace('/',''), '_%s' % rsp if 'BB' in expDir else '')\n",
    "full_save = os.path.dirname(save_loc + '02_debug_slopes/');\n",
    "if not os.path.exists(full_save):\n",
    "    os.makedirs(full_save)\n",
    "pdfSv = pltSave.PdfPages(full_save + saveName);\n",
    "pdfSv.savefig(f) # only one figure here...\n",
    "pdfSv.close()"
   ]
  },
  {
   "cell_type": "markdown",
   "metadata": {},
   "source": [
    "##### Quick analysis (22.07.16) on reliability of slope estimates\n",
    "In the below, we load two different versions of the same fits (with or without explained variance {vE} restrictions), and check how reliable the slope estimates are. We learned that for neurons that \"make the cut\" on explained variance, the slope estimates are very reliable, even when including all contrasts. Thus, the differences in slope estimates between repeats largely stem from neurons that have very few (if any) contrasts with clean data."
   ]
  },
  {
   "cell_type": "code",
   "execution_count": 719,
   "metadata": {},
   "outputs": [],
   "source": [
    "# ek = hf.np_smart_load('V1/structures/descrFitsHPC_220715vE_phAdj_sqrt_ddogs_JTflankFixedCopyCtrRaSlope.npy')\n",
    "# do = hf.np_smart_load('V1/structures/descrFitsHPC_220716vE_phAdj_sqrt_ddogs_JTflankFixedCopyCtrRaSlope.npy')\n",
    "\n",
    "# oy  = np.array([-ek[x]['paramList'][0][1] if ~np.all(np.isnan(ek[x]['paramList'][0])) else np.nan for x in range(81)])\n",
    "# vey = np.array([-do[x]['paramList'][0][1] if ~np.all(np.isnan(do[x]['paramList'][0])) else np.nan  for x in range(81)])"
   ]
  },
  {
   "cell_type": "code",
   "execution_count": 720,
   "metadata": {},
   "outputs": [],
   "source": [
    "# ok_inds = np.where(~np.isnan(oy))[0]; # run only if using vE fits"
   ]
  },
  {
   "cell_type": "code",
   "execution_count": 721,
   "metadata": {},
   "outputs": [],
   "source": [
    "# cc = np.corrcoef(hf.nan_rm(oy),hf.nan_rm(vey))\n",
    "# # cc = np.corrcoef(oy[ok_inds],vey[ok_inds])"
   ]
  },
  {
   "cell_type": "code",
   "execution_count": 722,
   "metadata": {},
   "outputs": [
    {
     "data": {
      "image/png": "[encoded data removed]",
      "text/plain": [
       "<Figure size 469x289.858 with 1 Axes>"
      ]
     },
     "metadata": {
      "needs_background": "light"
     },
     "output_type": "display_data"
    }
   ],
   "source": [
    "# plt.figure(figsize=hf.set_size(tex_width));\n",
    "# plt.xlabel('slope a')\n",
    "# plt.ylabel('slope b')\n",
    "# plt.scatter(oy[ok_inds], vey[ok_inds], alpha=0.1, color='k')\n",
    "# plt.axis('scaled');\n",
    "# plt.xlim([-1,1])\n",
    "# plt.ylim([-1,1])\n",
    "# plt.title('Repeat fits, varExpl cut, r=%.2f [n=%d]' % (cc[0,1], len(oy[ok_inds])));\n",
    "\n",
    "# saveName = \"/slope_comps_vE_220715_16.pdf\"\n",
    "# full_save = os.path.dirname(save_loc + '../'); # don't save in the jointList-specific folder...\n",
    "# if not os.path.exists(full_save):\n",
    "#     os.makedirs(full_save)\n",
    "# pdfSv = pltSave.PdfPages(full_save + saveName);\n",
    "# pdfSv.savefig(plt.gcf()) # only one figure here...\n",
    "# pdfSv.close()"
   ]
  },
  {
   "cell_type": "code",
   "execution_count": null,
   "metadata": {},
   "outputs": [],
   "source": []
  }
 ],
 "metadata": {
  "kernelspec": {
   "display_name": "Python 3",
   "language": "python",
   "name": "python3"
  },
  "language_info": {
   "codemirror_mode": {
    "name": "ipython",
    "version": 3
   },
   "file_extension": ".py",
   "mimetype": "text/x-python",
   "name": "python",
   "nbconvert_exporter": "python",
   "pygments_lexer": "ipython3",
   "version": "3.6.12"
  }
 },
 "nbformat": 4,
 "nbformat_minor": 4
}
