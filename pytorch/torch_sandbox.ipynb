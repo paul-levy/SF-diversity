{
 "cells": [
  {
   "cell_type": "markdown",
   "metadata": {},
   "source": [
    "Exploring torch for the sfNorm model"
   ]
  },
  {
   "cell_type": "code",
   "execution_count": 1,
   "metadata": {},
   "outputs": [],
   "source": [
    "import torch\n",
    "import torch.nn as nn\n",
    "from torch.utils import data as torchdata\n",
    "\n",
    "import numpy as np\n",
    "import time\n",
    "\n",
    "import matplotlib\n",
    "import matplotlib.pyplot as plt\n",
    "import matplotlib.backends.backend_pdf as pltSave\n",
    "import seaborn as sns\n",
    "\n",
    "import sys\n",
    "sys.path.insert(0, '../')\n",
    "import model_responses_pytorch as mrpt\n",
    "\n",
    "import pdb\n"
   ]
  },
  {
   "cell_type": "code",
   "execution_count": 242,
   "metadata": {},
   "outputs": [],
   "source": [
    "import autoreload as ar\n",
    "ar.reload(mrpt);"
   ]
  },
  {
   "cell_type": "code",
   "execution_count": 243,
   "metadata": {},
   "outputs": [],
   "source": [
    "### Helper\n",
    "def _cast_as_tensor(x, device_in=\"cpu\"):\n",
    "    # needs to be float32 to work with the Hessian calculations\n",
    "    return torch.tensor(x, dtype=torch.float32, device=device_in)\n",
    "\n",
    "def _cast_as_param(x, device_in=\"cpu\", requires_grad=True):\n",
    "    # from Billy\n",
    "    return torch.nn.Parameter(_cast_as_tensor(x, device_in=device_in), requires_grad=requires_grad)\n"
   ]
  },
  {
   "cell_type": "code",
   "execution_count": 244,
   "metadata": {},
   "outputs": [],
   "source": [
    "### DATALOADER\n",
    "\n",
    "class dataWrapper(torchdata.Dataset):   \n",
    "    def __init__(self, sfs, resp, device='cpu'):\n",
    "        super().__init__();\n",
    "\n",
    "        self.sfs = sfs;\n",
    "        self.resp = resp;\n",
    "        self.device = device;\n",
    "        \n",
    "    def get_single_item(self, idx):\n",
    "        feature = _cast_as_tensor(self.sfs[idx])\n",
    "        target = _cast_as_tensor(self.resp[idx])\n",
    "        return (feature.to(self.device), target.to(self.device));\n",
    "\n",
    "    def __getitem__(self, idx):\n",
    "        return self.get_single_item(idx)\n",
    "\n",
    "    def __len__(self):\n",
    "        return len(self.sfs)"
   ]
  },
  {
   "cell_type": "code",
   "execution_count": 245,
   "metadata": {},
   "outputs": [],
   "source": [
    "### The model\n",
    "class sfNormMod(torch.nn.Module):\n",
    "\n",
    "    def __init__(self, modParams, excType=2, normType=1, lossType=1, lgnFrontEnd=0):\n",
    "        super().__init__();\n",
    "        \n",
    "        self.excType = excType\n",
    "        self.normType = normType;\n",
    "        self.lossType = lossType;\n",
    "        self.lgnFrontEnd = lgnFrontEnd;\n",
    "\n",
    "        # testing flex gauss\n",
    "        self.prefSf = _cast_as_param(modParams[0]);\n",
    "        if excType == 2:\n",
    "            self.sigLow = _cast_as_param(modParams[1]);\n",
    "            highInd = -1-np.sign(lgnFrontEnd);\n",
    "            self.sigHigh = _cast_as_param(modParams[highInd]);\n",
    "        \n",
    "        # testing DiffOfGauss\n",
    "#         self.prefSf = _cast_as_param(modParams[0]);\n",
    "#         self.gain = _cast_as_param(modParams[1]);\n",
    "#         self.gainS = _cast_as_param(modParams[2]);\n",
    "#         self.sfS = _cast_as_param(modParams[3]);\n",
    "\n",
    "        # testing DoGsach\n",
    "#         self.gain_c = _cast_as_param(modParams[0]);\n",
    "#         self.gain_s = _cast_as_param(modParams[1]);\n",
    "#         self.r_c = _cast_as_param(modParams[2]);\n",
    "#         self.r_s = _cast_as_param(modParams[3]);\n",
    "\n",
    "    def forward(self, stimSf):\n",
    "\n",
    "#         s = mrpt.DoGsach(self.gain_c, self.r_c, self.gain_s, self.r_s, stimSf);\n",
    "#         s = mrpt.DiffOfGauss(self.gain, self.prefSf, self.gainS, self.sfS, stimSf);\n",
    "        s = mrpt.flexible_Gauss([_cast_as_tensor(0), _cast_as_tensor(1), self.prefSf, self.sigLow, self.sigHigh], stimSf, minThresh=0)\n",
    "\n",
    "        return torch.clamp(s, min=1e-4);\n",
    "    \n",
    "def loss_sfNormMod(respModel, respData, lossType=1):\n",
    "\n",
    "    if lossType == 1:\n",
    "        lsq = torch.pow(torch.sign(respModel)*torch.sqrt(torch.abs(respModel)) - torch.sign(respData)*torch.sqrt(torch.abs(respData)), 2);\n",
    "#         eps=1e-7\n",
    "#         lsq = torch.log10(eps+ torch.pow(torch.sign(respModel)*torch.sqrt(torch.abs(respModel)) - torch.sign(respData)*torch.sqrt(torch.abs(respData)), 2));\n",
    "\n",
    "        NLL = torch.mean(lsq);\n",
    "\n",
    "    return NLL;"
   ]
  },
  {
   "cell_type": "code",
   "execution_count": 246,
   "metadata": {},
   "outputs": [],
   "source": [
    "# testing flexible_Gauss\n",
    "prefSf = 1;\n",
    "sigLow = 0.9;\n",
    "sigHigh = 0.4;\n",
    "testMod = sfNormMod(modParams=[prefSf, sigLow, sigHigh])\n",
    "trainMod = sfNormMod(modParams=[prefSf*3, sigLow, sigLow])\n",
    "\n",
    "# testing DiffOfGauss\n",
    "# prefSf, gain, gainS, sfS = 3, 1, 0.3, 0.3;\n",
    "# testMod = sfNormMod(modParams=[prefSf, gain, gainS, sfS])\n",
    "# trainMod = sfNormMod(modParams=[prefSf, gain, gainS, sfS])\n",
    "\n",
    "# gain_c, gain_s, r_c, r_s = 100, 10, 0.5, 0.9;\n",
    "# testMod = sfNormMod(modParams=[gain_c, gain_s, r_c, r_s])\n",
    "# trainMod = sfNormMod(modParams=[gain_c, gain_s, 2*r_c, r_s])\n"
   ]
  },
  {
   "cell_type": "code",
   "execution_count": 247,
   "metadata": {},
   "outputs": [
    {
     "data": {
      "image/png": "[encoded data removed]",
      "text/plain": [
       "<Figure size 432x288 with 1 Axes>"
      ]
     },
     "metadata": {
      "needs_background": "light"
     },
     "output_type": "display_data"
    }
   ],
   "source": [
    "### Simple example -- can we recover the original parameters with some added noise...\n",
    "sfs_data = np.geomspace(0.3, 10.0, 11);\n",
    "gt_resp = testMod.forward(_cast_as_tensor(sfs_data)).detach().numpy();\n",
    "# gt_detach = [x.detach().numpy() for x in gt_resp];\n",
    "sfs_resp = np.clip(np.array([np.random.normal(x, scale=0.01*x) for x in gt_resp]), a_min=1e-4, a_max=None)\n",
    "\n",
    "init_resp = trainMod.forward(_cast_as_tensor(sfs_data)).detach().numpy();\n",
    "\n",
    "plt.semilogx(sfs_data, init_resp, 'k', label='init_guess');\n",
    "plt.semilogx(sfs_data, gt_resp, 'r');\n",
    "plt.semilogx(sfs_data, sfs_resp, 'ro')\n",
    "plt.title('data to fit');\n",
    "plt.legend();"
   ]
  },
  {
   "cell_type": "code",
   "execution_count": 248,
   "metadata": {},
   "outputs": [],
   "source": [
    "training_parameters = [p for p in model.parameters() if p.requires_grad]\n",
    "batch_size = 2;\n",
    "dataset = _cast_as_tensor(sfs_resp);\n",
    "max_epochs = 4;\n",
    "full_data = np.zeros((len(sfs_data), 2));\n",
    "full_data[:,0] = sfs_data;\n",
    "full_data[:,1] = sfs_resp;"
   ]
  },
  {
   "cell_type": "code",
   "execution_count": 252,
   "metadata": {},
   "outputs": [],
   "source": [
    "### Now, the optimization\n",
    "# - what to specify...\n",
    "model = trainMod; # what's our model?\n",
    "\n",
    "learning_rate = 0.001;\n",
    "training_parameters = [p for p in model.parameters() if p.requires_grad]\n",
    "batch_size = 3;\n",
    "dataset = _cast_as_tensor(sfs_resp);\n",
    "max_epochs = 1000;\n",
    "full_data = np.zeros((len(sfs_data), 2));\n",
    "full_data[:,0] = sfs_data;\n",
    "full_data[:,1] = sfs_resp;\n",
    "\n",
    "# - then set it up\n",
    "# optimizer = torch.optim.SGD(training_parameters, lr=learning_rate)\n",
    "optimizer = torch.optim.Adam(training_parameters, amsgrad=True, lr=learning_rate, )\n",
    "# - then data\n",
    "full_data = dataWrapper(sfs_data, sfs_resp)\n",
    "dataloader = torchdata.DataLoader(full_data, batch_size)\n",
    "# - predefine some arrays for tracking loss\n",
    "loss_history = []\n",
    "start_time = time.time()\n",
    "time_history = []\n",
    "model_history = []\n",
    "hessian_history = []\n",
    "\n",
    "first_pred = model(_cast_as_tensor(sfs_data));\n",
    "# print(first_pred)\n",
    "\n",
    "for t in range(max_epochs):\n",
    "    optimizer.zero_grad()\n",
    "\n",
    "    loss_history.append([])\n",
    "    time_history.append([])\n",
    "\n",
    "    for i, (features, target) in enumerate(dataloader):\n",
    "    \n",
    "#         features, target = _cast_as_tensor(sfs_data), _cast_as_tensor(sfs_resp);\n",
    "#         features, target = _cast_as_tensor(sfs_data), _cast_as_tensor(sfs_resp);\n",
    "\n",
    "        predictions = model(features)\n",
    "        loss_curr = loss_sfNormMod(predictions, target, model.lossType)\n",
    "        loss_history[t].append(loss_curr.item())\n",
    "        time_history[t].append(time.time() - start_time)\n",
    "        if np.isnan(loss_curr.item()) or np.isinf(loss_curr.item()):\n",
    "            # we raise an exception here and then try again.\n",
    "            raise Exception(\"Loss is nan or inf on epoch %s, batch %s!\" % (t, i))\n",
    "        loss_curr.backward()\n",
    "        optimizer.step()\n",
    "\n",
    "    model.eval()\n",
    "    model.train()\n"
   ]
  },
  {
   "cell_type": "code",
   "execution_count": 253,
   "metadata": {},
   "outputs": [
    {
     "data": {
      "text/plain": [
       "<matplotlib.legend.Legend at 0x7f43b9a0e710>"
      ]
     },
     "execution_count": 253,
     "metadata": {},
     "output_type": "execute_result"
    },
    {
     "data": {
      "image/png": "[encoded data removed]",
      "text/plain": [
       "<Figure size 432x288 with 1 Axes>"
      ]
     },
     "metadata": {
      "needs_background": "light"
     },
     "output_type": "display_data"
    }
   ],
   "source": [
    "plt.semilogx(sfs_data, first_pred.detach().numpy(), 'k--', label='initial guess')\n",
    "plt.semilogx(sfs_data, sfs_resp, 'ro', label='target');\n",
    "sfs_full = np.geomspace(sfs_data[0], sfs_data[-1], 100);\n",
    "plt.semilogx(sfs_full, model(_cast_as_tensor(sfs_full)).detach().numpy(), 'k', label='final');\n",
    "plt.legend()"
   ]
  },
  {
   "cell_type": "code",
   "execution_count": 254,
   "metadata": {},
   "outputs": [
    {
     "data": {
      "text/plain": [
       "[<matplotlib.lines.Line2D at 0x7f43b9920710>]"
      ]
     },
     "execution_count": 254,
     "metadata": {},
     "output_type": "execute_result"
    },
    {
     "data": {
      "image/png": "[encoded data removed]",
      "text/plain": [
       "<Figure size 432x288 with 1 Axes>"
      ]
     },
     "metadata": {
      "needs_background": "light"
     },
     "output_type": "display_data"
    }
   ],
   "source": [
    "plt.plot(np.sum(loss_history, axis=1))"
   ]
  },
  {
   "cell_type": "code",
   "execution_count": 211,
   "metadata": {},
   "outputs": [],
   "source": [
    "out_parameters = [p for p in model.parameters() if p.requires_grad]\n"
   ]
  },
  {
   "cell_type": "code",
   "execution_count": 212,
   "metadata": {},
   "outputs": [
    {
     "data": {
      "text/plain": [
       "[Parameter containing:\n",
       " tensor(99.3644, requires_grad=True),\n",
       " Parameter containing:\n",
       " tensor(10.6046, requires_grad=True),\n",
       " Parameter containing:\n",
       " tensor(0.4962, requires_grad=True),\n",
       " Parameter containing:\n",
       " tensor(1.2485, requires_grad=True)]"
      ]
     },
     "execution_count": 212,
     "metadata": {},
     "output_type": "execute_result"
    }
   ],
   "source": [
    "out_parameters"
   ]
  },
  {
   "cell_type": "code",
   "execution_count": 213,
   "metadata": {},
   "outputs": [],
   "source": [
    "og_pms = [prefSf, gain, gainS, sfS]"
   ]
  },
  {
   "cell_type": "code",
   "execution_count": 214,
   "metadata": {},
   "outputs": [
    {
     "data": {
      "text/plain": [
       "[3, 1, 0.3, 0.3]"
      ]
     },
     "execution_count": 214,
     "metadata": {},
     "output_type": "execute_result"
    }
   ],
   "source": [
    "og_pms"
   ]
  },
  {
   "cell_type": "code",
   "execution_count": null,
   "metadata": {},
   "outputs": [],
   "source": []
  },
  {
   "cell_type": "code",
   "execution_count": null,
   "metadata": {},
   "outputs": [],
   "source": []
  }
 ],
 "metadata": {
  "kernelspec": {
   "display_name": "Python 3",
   "language": "python",
   "name": "python3"
  },
  "language_info": {
   "codemirror_mode": {
    "name": "ipython",
    "version": 3
   },
   "file_extension": ".py",
   "mimetype": "text/x-python",
   "name": "python",
   "nbconvert_exporter": "python",
   "pygments_lexer": "ipython3",
   "version": "3.6.12"
  }
 },
 "nbformat": 4,
 "nbformat_minor": 4
}
