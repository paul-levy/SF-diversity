{
 "cells": [
  {
   "cell_type": "code",
   "execution_count": 2,
   "metadata": {
    "collapsed": false
   },
   "outputs": [],
   "source": [
    "import makeStimulus\n",
    "import model_responses\n",
    "\n",
    "import matplotlib.pyplot as plt\n",
    "import autoreload\n",
    "import numpy\n",
    "%matplotlib inline\n",
    "\n",
    "# constants - directories\n",
    "#loc_matData = '/e/3.2/p1/plevy/SF_diversity/sfDiv-OriModel/sfDiv/Analysis/Structures/';\n",
    "loc_pyData = '/e/3.2/p1/plevy/SF_diversity/sfDiv-OriModel/sfDiv-python/Analysis/Structures/';\n",
    "#loc_matData = '/Users/paulgerald/work/sfDiversity/sfDiv-OriModel/sfDiv/Analysis/Structures/';\n",
    "#loc_pyData = '/Users/paulgerald/work/sfDiversity/sfDiv-OriModel/sfDiv-python/Analysis/Structures/';"
   ]
  },
  {
   "cell_type": "code",
   "execution_count": 58,
   "metadata": {
    "collapsed": true
   },
   "outputs": [],
   "source": [
    "import tensorflow as tf"
   ]
  },
  {
   "cell_type": "code",
   "execution_count": 69,
   "metadata": {
    "collapsed": false
   },
   "outputs": [],
   "source": [
    "autoreload.reload(model_responses);"
   ]
  },
  {
   "cell_type": "code",
   "execution_count": 70,
   "metadata": {
    "collapsed": false
   },
   "outputs": [],
   "source": [
    "cellNumber = 8;\n",
    "nIter = 10000;\n",
    "subsetFrac = 0.1;\n",
    "NLL, params = model_responses.setModel(cellNumber, nIter, subsetFrac);"
   ]
  },
  {
   "cell_type": "code",
   "execution_count": 71,
   "metadata": {
    "collapsed": false
   },
   "outputs": [
    {
     "data": {
      "text/plain": [
       "3.073072"
      ]
     },
     "execution_count": 71,
     "metadata": {},
     "output_type": "execute_result"
    }
   ],
   "source": [
    "NLL"
   ]
  },
  {
   "cell_type": "code",
   "execution_count": 73,
   "metadata": {
    "collapsed": false
   },
   "outputs": [
    {
     "name": "stdout",
     "output_type": "stream",
     "text": [
      "(117.95343, 1.859726, 2.3991129, 0.5190919, 0.91320384, -3.9865781e-06, -0.18071008, 1.4207619, 273.99786, 2.5145587e-06, 0.66007364, 1.0963157, -0.34996173)\n"
     ]
    }
   ],
   "source": [
    "print(params)"
   ]
  },
  {
   "cell_type": "code",
   "execution_count": null,
   "metadata": {
    "collapsed": true
   },
   "outputs": [],
   "source": []
  },
  {
   "cell_type": "code",
   "execution_count": 77,
   "metadata": {
    "collapsed": false
   },
   "outputs": [
    {
     "name": "stdout",
     "output_type": "stream",
     "text": [
      "         33439649 function calls (31605734 primitive calls) in 99.021 seconds\n",
      "\n",
      "   Ordered by: standard name\n",
      "\n",
      "   ncalls  tottime  percall  cumtime  percall filename:lineno(function)\n",
      "        3    0.000    0.000    0.000    0.000 <frozen importlib._bootstrap>:989(_handle_fromlist)\n",
      "        1    0.020    0.020   99.024   99.024 <string>:1(<module>)\n",
      "       51    0.000    0.000    0.000    0.000 <string>:12(__new__)\n",
      "      136    0.000    0.000    0.000    0.000 <string>:16(_make)\n",
      "      765    0.001    0.000    0.002    0.000 __init__.py:1352(log)\n",
      "      765    0.000    0.000    0.000    0.000 __init__.py:1523(getEffectiveLevel)\n",
      "      765    0.001    0.000    0.001    0.000 __init__.py:1537(isEnabledFor)\n",
      "        1    0.000    0.000    0.000    0.000 _methods.py:31(_sum)\n",
      "      676    0.001    0.000    0.014    0.000 _methods.py:34(_prod)\n",
      "       30    0.000    0.000    0.000    0.000 _methods.py:40(_all)\n",
      "        2    0.000    0.000    0.000    0.000 _methods.py:43(_count_reduce_items)\n",
      "        2    0.000    0.000    0.000    0.000 _methods.py:53(_mean)\n",
      "    51723    0.043    0.000    0.043    0.000 _weakrefset.py:70(__contains__)\n",
      "    33714    0.049    0.000    0.092    0.000 abc.py:178(__instancecheck__)\n",
      "        1    0.000    0.000    0.185    0.185 adam.py:105(_create_slots)\n",
      "        1    0.000    0.000    0.004    0.004 adam.py:122(_prepare)\n",
      "       13    0.000    0.000    0.046    0.004 adam.py:128(_apply_dense)\n",
      "        1    0.000    0.000    0.008    0.008 adam.py:168(_finish)\n",
      "        1    0.000    0.000    0.000    0.000 adam.py:39(__init__)\n",
      "       13    0.000    0.000    0.000    0.000 array_grad.py:379(_IdGrad)\n",
      "        8    0.000    0.000    0.033    0.004 array_grad.py:400(_ReshapeToInput)\n",
      "        6    0.000    0.000    0.023    0.004 array_grad.py:405(_ExpandDimsGrad)\n",
      "        2    0.000    0.000    0.009    0.005 array_grad.py:410(_SqueezeGrad)\n",
      "        2    0.000    0.000    0.009    0.005 array_grad.py:415(_TransposeGrad)\n",
      "       12    0.000    0.000    0.051    0.004 array_ops.py:1232(transpose)\n",
      "       20    0.000    0.000    0.089    0.004 array_ops.py:133(expand_dims)\n",
      "       36    0.001    0.000    0.059    0.002 array_ops.py:1345(zeros)\n",
      "       12    0.000    0.000    0.013    0.001 array_ops.py:1378(zeros_like)\n",
      "        4    0.000    0.000    0.006    0.001 array_ops.py:1449(ones)\n",
      "       10    0.000    0.000    0.014    0.001 array_ops.py:1482(placeholder)\n",
      "        4    0.000    0.000    0.007    0.002 array_ops.py:2227(squeeze)\n",
      "       24    0.000    0.000    0.036    0.002 array_ops.py:2275(where)\n",
      "      310    0.000    0.000    0.394    0.001 array_ops.py:239(shape)\n",
      "      310    0.003    0.000    0.393    0.001 array_ops.py:264(shape_internal)\n",
      "        6    0.000    0.000    0.008    0.001 array_ops.py:291(size)\n",
      "        6    0.000    0.000    0.008    0.001 array_ops.py:317(size_internal)\n",
      "        2    0.000    0.000    0.002    0.001 array_ops.py:344(rank)\n",
      "        2    0.000    0.000    0.002    0.001 array_ops.py:376(rank_internal)\n",
      "        2    0.000    0.000    0.024    0.012 array_ops.py:400(_SliceHelper)\n",
      "        2    0.000    0.000    0.015    0.007 array_ops.py:565(strided_slice)\n",
      "        8    0.000    0.000    0.014    0.002 array_ops.py:791(stack)\n",
      "       16    0.000    0.000    0.000    0.000 array_ops.py:891(_get_dtype_from_nested_lists)\n",
      "       16    0.000    0.000    0.000    0.000 array_ops.py:912(_autopacking_conversion_function)\n",
      "        2    0.000    0.000    0.013    0.006 array_ops.py:982(concat)\n",
      "        2    0.000    0.000    0.000    0.000 ast.py:30(parse)\n",
      "        2    0.000    0.000    0.000    0.000 ast.py:40(literal_eval)\n",
      "     14/2    0.000    0.000    0.000    0.000 ast.py:51(_convert)\n",
      "        8    0.000    0.000    0.000    0.000 ast.py:65(<genexpr>)\n",
      "     2592    0.023    0.000    2.078    0.001 common_shapes.py:557(call_cpp_shape_fn)\n",
      "     2805    0.058    0.000    1.969    0.001 common_shapes.py:633(_call_cpp_shape_fn_impl)\n",
      "     5007    0.039    0.000    0.802    0.000 common_shapes.py:640(tensor_to_inference_result)\n",
      "     2805    0.009    0.000    0.811    0.000 common_shapes.py:648(<listcomp>)\n",
      "     2805    0.001    0.000    0.001    0.000 common_shapes.py:650(<listcomp>)\n",
      "     2805    0.001    0.000    0.001    0.000 common_shapes.py:658(<listcomp>)\n",
      "     2805    0.010    0.000    0.220    0.000 common_shapes.py:687(<listcomp>)\n",
      "     2805    0.003    0.000    0.006    0.000 common_shapes.py:690(<listcomp>)\n",
      "     2805    0.002    0.000    0.004    0.000 common_shapes.py:691(<listcomp>)\n",
      "     2805    0.002    0.000    0.004    0.000 common_shapes.py:692(<listcomp>)\n",
      "    25671    0.027    0.000    0.056    0.000 compat.py:46(as_bytes)\n",
      "     5425    0.003    0.000    0.004    0.000 compat.py:68(as_text)\n",
      "      431    0.008    0.000    0.448    0.001 constant_op.py:117(constant)\n",
      "      223    0.001    0.000    0.231    0.001 constant_op.py:173(_constant_tensor_conversion_function)\n",
      "   141491    0.058    0.000    0.058    0.000 containers.py:192(__init__)\n",
      "   531107    0.200    0.000    0.200    0.000 containers.py:202(__getitem__)\n",
      "   265830    0.115    0.000    0.158    0.000 containers.py:206(__len__)\n",
      "   102152    0.119    0.000    0.160    0.000 containers.py:237(__init__)\n",
      "     1658    0.002    0.000    0.011    0.000 containers.py:249(append)\n",
      "     3527    0.008    0.000    0.024    0.000 containers.py:261(extend)\n",
      "     3527    0.004    0.000    0.013    0.000 containers.py:275(<listcomp>)\n",
      "    96576    0.104    0.000    0.159    0.000 containers.py:280(MergeFrom)\n",
      "     2592    0.003    0.000    0.004    0.000 containers.py:320(__delitem__)\n",
      "    39339    0.049    0.000    0.066    0.000 containers.py:350(__init__)\n",
      "     3138    0.011    0.000    0.034    0.000 containers.py:368(add)\n",
      "85632/76218    0.240    0.000    5.031    0.000 containers.py:379(extend)\n",
      "    34261    0.024    0.000    0.233    0.000 containers.py:393(MergeFrom)\n",
      "    54784    0.034    0.000    0.034    0.000 containers.py:532(__init__)\n",
      "   402134    1.394    0.000    2.244    0.000 containers.py:551(__getitem__)\n",
      "    99170    0.025    0.000    0.025    0.000 containers.py:586(__contains__)\n",
      "   107748    0.055    0.000    0.077    0.000 containers.py:596(__len__)\n",
      "   159776    0.076    0.000    0.129    0.000 containers.py:599(__iter__)\n",
      "    52269    0.238    0.000    3.744    0.000 containers.py:605(MergeFrom)\n",
      "      286    0.000    0.000    0.000    0.000 containers.py:627(GetEntryClass)\n",
      "    24246    0.026    0.000    0.085    0.000 contextlib.py:157(helper)\n",
      "    24246    0.049    0.000    0.059    0.000 contextlib.py:60(__init__)\n",
      "24246/15974    0.014    0.000    0.186    0.000 contextlib.py:80(__enter__)\n",
      "24246/15974    0.062    0.000    0.159    0.000 contextlib.py:86(__exit__)\n",
      "        2    0.000    0.000    0.001    0.000 control_flow_ops.py:1276(MaybeCreateControlFlowState)\n",
      "      540    0.001    0.000    0.002    0.000 control_flow_ops.py:1304(IsLoopExit)\n",
      "      138    0.001    0.000    0.164    0.001 control_flow_ops.py:151(_Identity)\n",
      "      138    0.002    0.000    0.179    0.001 control_flow_ops.py:2669(with_dependencies)\n",
      "       71    0.001    0.000    0.058    0.001 control_flow_ops.py:2705(_GroupControlDeps)\n",
      "       71    0.001    0.000    0.065    0.001 control_flow_ops.py:2715(group)\n",
      "       69    0.001    0.000    0.229    0.003 control_flow_ops.py:2769(tuple)\n",
      "       69    0.000    0.000    0.000    0.000 control_flow_ops.py:2801(<listcomp>)\n",
      "      138    0.000    0.000    0.000    0.000 control_flow_ops.py:2811(<lambda>)\n",
      "     2592    0.012    0.000    0.184    0.000 copy.py:132(deepcopy)\n",
      "     2592    0.006    0.000    0.007    0.000 copy.py:252(_keep_alive)\n",
      "       71    0.000    0.000    0.001    0.000 copy.py:268(_reconstruct)\n",
      "       71    0.000    0.000    0.002    0.000 copy.py:66(copy)\n",
      "       71    0.000    0.000    0.000    0.000 copyreg.py:87(__newobj__)\n",
      "    12512    0.022    0.000    0.025    0.000 decoder.py:117(DecodeVarint)\n",
      "     2530    0.008    0.000    0.010    0.000 decoder.py:137(DecodeVarint)\n",
      "    13155    0.016    0.000    0.020    0.000 decoder.py:169(ReadTag)\n",
      "     1610    0.006    0.000    0.029    0.000 decoder.py:202(DecodePackedField)\n",
      "     5162    0.005    0.000    0.022    0.000 decoder.py:238(DecodeField)\n",
      "     4290    0.004    0.000    0.010    0.000 decoder.py:257(InnerDecode)\n",
      "      643    0.003    0.000    0.028    0.000 decoder.py:601(DecodeRepeatedField)\n",
      "     5740    0.017    0.000    0.143    0.000 decoder.py:623(DecodeField)\n",
      "    52723    0.015    0.000    0.015    0.000 descriptor.py:118(GetOptions)\n",
      "      142    0.000    0.000    0.000    0.000 device.py:106(replica)\n",
      "      142    0.000    0.000    0.000    0.000 device.py:110(replica)\n",
      "      142    0.000    0.000    0.000    0.000 device.py:117(task)\n",
      "      142    0.000    0.000    0.000    0.000 device.py:121(task)\n",
      "      142    0.001    0.000    0.001    0.000 device.py:128(parse_from_string)\n",
      "      142    0.000    0.000    0.000    0.000 device.py:146(<listcomp>)\n",
      "       71    0.000    0.000    0.000    0.000 device.py:175(merge_from)\n",
      "       71    0.000    0.000    0.000    0.000 device.py:192(to_string)\n",
      "      142    0.000    0.000    0.002    0.000 device.py:213(from_string)\n",
      "       71    0.000    0.000    0.001    0.000 device.py:255(merge_device)\n",
      "       71    0.000    0.000    0.003    0.000 device.py:283(_device_function)\n",
      "      142    0.000    0.000    0.001    0.000 device.py:65(__init__)\n",
      "      142    0.000    0.000    0.000    0.000 device.py:88(_clear)\n",
      "      142    0.000    0.000    0.000    0.000 device.py:95(job)\n",
      "      142    0.000    0.000    0.000    0.000 device.py:99(job)\n",
      "       97    0.000    0.000    0.000    0.000 dtypes.py:103(_as_ref)\n",
      "    18248    0.010    0.000    0.014    0.000 dtypes.py:111(base_dtype)\n",
      "        8    0.000    0.000    0.000    0.000 dtypes.py:119(real_dtype)\n",
      "      210    0.000    0.000    0.000    0.000 dtypes.py:130(is_numpy_compatible)\n",
      "    18846    0.011    0.000    0.011    0.000 dtypes.py:135(as_numpy_dtype)\n",
      "    27270    0.006    0.000    0.006    0.000 dtypes.py:140(as_datatype_enum)\n",
      "        2    0.000    0.000    0.000    0.000 dtypes.py:150(is_integer)\n",
      "      208    0.001    0.000    0.001    0.000 dtypes.py:156(is_floating)\n",
      "      220    0.000    0.000    0.001    0.000 dtypes.py:162(is_complex)\n",
      "        2    0.000    0.000    0.000    0.000 dtypes.py:167(is_quantized)\n",
      "     7597    0.013    0.000    0.026    0.000 dtypes.py:247(is_compatible_with)\n",
      "     8951    0.009    0.000    0.017    0.000 dtypes.py:270(__eq__)\n",
      "     2269    0.001    0.000    0.006    0.000 dtypes.py:280(__ne__)\n",
      "       36    0.000    0.000    0.000    0.000 dtypes.py:284(name)\n",
      "      941    0.000    0.000    0.000    0.000 dtypes.py:295(__hash__)\n",
      "    26461    0.016    0.000    0.022    0.000 dtypes.py:550(as_dtype)\n",
      "    18565    0.005    0.000    0.005    0.000 dtypes.py:98(_is_ref_dtype)\n",
      "     2862    0.006    0.000    0.009    0.000 encoder.py:134(PackedFieldSize)\n",
      "   165909    0.085    0.000    0.132    0.000 encoder.py:148(FieldSize)\n",
      "     7746    0.007    0.000    0.017    0.000 encoder.py:192(PackedFieldSize)\n",
      "    25688    0.005    0.000    0.005    0.000 encoder.py:203(FieldSize)\n",
      "    44419    0.175    0.000    0.344    0.000 encoder.py:238(RepeatedFieldSize)\n",
      "   314007    0.337    0.000    0.633    0.000 encoder.py:246(FieldSize)\n",
      "    12793    0.031    0.000    0.060    0.000 encoder.py:260(RepeatedFieldSize)\n",
      "     5136    0.004    0.000    0.006    0.000 encoder.py:268(FieldSize)\n",
      "     9309    0.029    0.000    0.101    0.000 encoder.py:299(RepeatedFieldSize)\n",
      "353261/200897    0.335    0.000    3.437    0.000 encoder.py:307(FieldSize)\n",
      "    54784    0.395    0.000    6.100    0.000 encoder.py:351(FieldSize)\n",
      "   607375    0.601    0.000    0.925    0.000 encoder.py:372(EncodeVarint)\n",
      "    83407    0.091    0.000    0.135    0.000 encoder.py:388(EncodeSignedVarint)\n",
      "     1355    0.005    0.000    0.013    0.000 encoder.py:440(EncodePackedField)\n",
      "    82052    0.057    0.000    0.206    0.000 encoder.py:458(EncodeField)\n",
      "     3672    0.011    0.000    0.028    0.000 encoder.py:581(EncodePackedField)\n",
      "    19193    0.010    0.000    0.018    0.000 encoder.py:671(EncodeField)\n",
      "    45047    0.195    0.000    0.458    0.000 encoder.py:687(EncodeRepeatedField)\n",
      "   206847    0.267    0.000    0.765    0.000 encoder.py:695(EncodeField)\n",
      "     6255    0.015    0.000    0.032    0.000 encoder.py:711(EncodeRepeatedField)\n",
      "     2505    0.003    0.000    0.007    0.000 encoder.py:718(EncodeField)\n",
      "5377/1786    0.143    0.000   16.940    0.009 encoder.py:753(EncodeRepeatedField)\n",
      "230957/108512    0.392    0.000    5.382    0.000 encoder.py:760(EncodeField)\n",
      "    52482    0.366    0.000    8.660    0.000 encoder.py:818(EncodeField)\n",
      "   803025    0.158    0.000    0.158    0.000 encoder.py:82(_VarintSize)\n",
      "   170126    0.048    0.000    0.048    0.000 encoder.py:96(_SignedVarintSize)\n",
      "     9626    0.021    0.000    0.051    0.000 errors_impl.py:460(raise_exception_on_not_ok_status)\n",
      "        3    0.000    0.000    0.000    0.000 format.py:171(_check_version)\n",
      "        1    0.000    0.000    0.000    0.000 format.py:176(magic)\n",
      "        2    0.000    0.000    0.000    0.000 format.py:201(read_magic)\n",
      "        1    0.000    0.000    0.000    0.000 format.py:223(dtype_to_descr)\n",
      "        1    0.000    0.000    0.000    0.000 format.py:255(header_data_from_array_1_0)\n",
      "        1    0.000    0.000    0.000    0.000 format.py:282(_write_array_header)\n",
      "        3    0.000    0.000    0.001    0.000 format.py:425(_filter_header)\n",
      "        2    0.000    0.000    0.001    0.000 format.py:463(_read_array_header)\n",
      "        2    0.000    0.000    0.000    0.000 format.py:503(<listcomp>)\n",
      "        1    0.000    0.000    2.746    2.746 format.py:517(write_array)\n",
      "        2    0.000    0.000    0.582    0.291 format.py:595(read_array)\n",
      "        6    0.000    0.000    0.000    0.000 format.py:797(_read_bytes)\n",
      "        2    0.000    0.000    0.000    0.000 fromnumeric.py:1364(ravel)\n",
      "        1    0.000    0.000    0.000    0.000 fromnumeric.py:1710(sum)\n",
      "        2    0.000    0.000    0.000    0.000 fromnumeric.py:1953(all)\n",
      "      676    0.005    0.000    0.019    0.000 fromnumeric.py:2388(prod)\n",
      "        2    0.000    0.000    0.000    0.000 fromnumeric.py:2786(mean)\n",
      "       68    0.000    0.000    0.001    0.000 fromnumeric.py:357(repeat)\n",
      "       68    0.000    0.000    0.000    0.000 fromnumeric.py:55(_wrapfunc)\n",
      "        2    0.000    0.000    0.000    0.000 function_base.py:4951(append)\n",
      "       20    0.000    0.000    0.089    0.004 gen_array_ops.py:1005(_expand_dims)\n",
      "       16    0.000    0.000    0.044    0.003 gen_array_ops.py:1292(fill)\n",
      "      179    0.001    0.000    0.211    0.001 gen_array_ops.py:1480(identity)\n",
      "        2    0.000    0.000    0.003    0.001 gen_array_ops.py:1522(invert_permutation)\n",
      "        2    0.000    0.000    0.005    0.003 gen_array_ops.py:2007(_pack)\n",
      "       10    0.000    0.000    0.013    0.001 gen_array_ops.py:2130(_placeholder)\n",
      "        2    0.000    0.000    0.002    0.001 gen_array_ops.py:2512(rank)\n",
      "      286    0.001    0.000    0.727    0.003 gen_array_ops.py:2560(reshape)\n",
      "      164    0.001    0.000    0.218    0.001 gen_array_ops.py:2949(shape)\n",
      "        6    0.000    0.000    0.008    0.001 gen_array_ops.py:2998(size)\n",
      "        4    0.000    0.000    0.007    0.002 gen_array_ops.py:3463(_squeeze)\n",
      "        2    0.000    0.000    0.015    0.007 gen_array_ops.py:3542(strided_slice)\n",
      "        6    0.000    0.000    0.015    0.002 gen_array_ops.py:3778(tile)\n",
      "       12    0.000    0.000    0.050    0.004 gen_array_ops.py:3827(transpose)\n",
      "      136    0.001    0.000    0.220    0.002 gen_array_ops.py:395(_broadcast_gradient_args)\n",
      "       12    0.000    0.000    0.013    0.001 gen_array_ops.py:4017(_zeros_like)\n",
      "        2    0.000    0.000    0.013    0.006 gen_array_ops.py:500(_concat_v2)\n",
      "       71    0.000    0.000    0.044    0.001 gen_control_flow_ops.py:180(no_op)\n",
      "        6    0.000    0.000    0.013    0.002 gen_data_flow_ops.py:430(dynamic_stitch)\n",
      "        4    0.000    0.000    0.007    0.002 gen_math_ops.py:1108(imag)\n",
      "        6    0.000    0.000    0.006    0.001 gen_math_ops.py:1283(lgamma)\n",
      "       16    0.000    0.000    0.017    0.001 gen_math_ops.py:1333(log)\n",
      "        6    0.000    0.000    0.005    0.001 gen_math_ops.py:1392(logical_not)\n",
      "       22    0.000    0.000    0.042    0.002 gen_math_ops.py:1490(maximum)\n",
      "        6    0.000    0.000    0.019    0.003 gen_math_ops.py:1511(_mean)\n",
      "      295    0.001    0.000    0.383    0.001 gen_math_ops.py:1611(_mul)\n",
      "       53    0.000    0.000    0.055    0.001 gen_math_ops.py:1632(_neg)\n",
      "       28    0.000    0.000    0.040    0.001 gen_math_ops.py:1697(_pow)\n",
      "        8    0.000    0.000    0.024    0.003 gen_math_ops.py:1724(_prod)\n",
      "       10    0.000    0.000    0.027    0.003 gen_math_ops.py:1864(_range)\n",
      "        4    0.000    0.000    0.006    0.002 gen_math_ops.py:1899(real)\n",
      "       98    0.000    0.000    0.129    0.001 gen_math_ops.py:1929(_real_div)\n",
      "        4    0.000    0.000    0.004    0.001 gen_math_ops.py:1952(reciprocal)\n",
      "        2    0.000    0.000    0.002    0.001 gen_math_ops.py:2097(round)\n",
      "       24    0.000    0.000    0.036    0.002 gen_math_ops.py:2331(_select)\n",
      "       12    0.000    0.000    0.016    0.001 gen_math_ops.py:2393(_sigmoid)\n",
      "        8    0.000    0.000    0.010    0.001 gen_math_ops.py:2412(_sigmoid_grad)\n",
      "        2    0.000    0.000    0.002    0.001 gen_math_ops.py:2433(sign)\n",
      "        6    0.000    0.000    0.007    0.001 gen_math_ops.py:2454(sin)\n",
      "        2    0.000    0.000    0.002    0.001 gen_math_ops.py:2681(sqrt)\n",
      "        2    0.000    0.000    0.003    0.001 gen_math_ops.py:2700(_sqrt_grad)\n",
      "       18    0.000    0.000    0.019    0.001 gen_math_ops.py:2721(square)\n",
      "       29    0.000    0.000    0.036    0.001 gen_math_ops.py:2761(_sub)\n",
      "      274    0.001    0.000    0.752    0.003 gen_math_ops.py:2782(_sum)\n",
      "        8    0.000    0.000    0.017    0.002 gen_math_ops.py:332(_batch_mat_mul)\n",
      "       14    0.000    0.000    0.021    0.001 gen_math_ops.py:410(cast)\n",
      "        2    0.000    0.000    0.004    0.002 gen_math_ops.py:445(_complex)\n",
      "        6    0.000    0.000    0.007    0.001 gen_math_ops.py:534(cos)\n",
      "       54    0.000    0.000    0.099    0.002 gen_math_ops.py:59(add)\n",
      "        4    0.000    0.000    0.004    0.001 gen_math_ops.py:667(digamma)\n",
      "       14    0.000    0.000    0.018    0.001 gen_math_ops.py:762(exp)\n",
      "       16    0.000    0.000    0.029    0.002 gen_math_ops.py:80(_add_n)\n",
      "       10    0.000    0.000    0.014    0.001 gen_math_ops.py:886(_floor_div)\n",
      "        6    0.000    0.000    0.008    0.001 gen_math_ops.py:907(_floor_mod)\n",
      "       12    0.000    0.000    0.026    0.002 gen_math_ops.py:931(greater)\n",
      "        6    0.000    0.000    0.008    0.001 gen_math_ops.py:952(greater_equal)\n",
      "       21    0.000    0.000    0.026    0.001 gen_nn_ops.py:2272(softplus)\n",
      "       14    0.000    0.000    0.017    0.001 gen_nn_ops.py:2289(_softplus_grad)\n",
      "       43    0.000    0.000    0.075    0.002 gen_state_ops.py:21(assign)\n",
      "       41    0.000    0.000    0.072    0.002 gen_state_ops.py:684(_variable_v2)\n",
      "       13    0.000    0.000    0.041    0.003 gen_training_ops.py:134(apply_adam)\n",
      "        2    0.082    0.041    0.145    0.072 gradients_impl.py:101(_MarkReachedOps)\n",
      "        2    0.002    0.001    0.150    0.075 gradients_impl.py:144(_PendingCount)\n",
      "      245    0.000    0.000    0.000    0.000 gradients_impl.py:198(_AsList)\n",
      "        2    0.000    0.000    0.009    0.005 gradients_impl.py:202(_DefaultGradYs)\n",
      "      241    0.002    0.000    0.005    0.000 gradients_impl.py:243(_VerifyGeneratedGradients)\n",
      "        2    0.001    0.000    0.002    0.001 gradients_impl.py:267(_StopOps)\n",
      "      546    0.000    0.000    0.000    0.000 gradients_impl.py:296(_maybe_colocate_with)\n",
      "        2    0.010    0.005    3.508    1.754 gradients_impl.py:320(gradients)\n",
      "        2    0.000    0.000    0.000    0.000 gradients_impl.py:390(<listcomp>)\n",
      "        2    0.000    0.000    0.000    0.000 gradients_impl.py:391(<listcomp>)\n",
      "      542    0.000    0.000    0.000    0.000 gradients_impl.py:445(<genexpr>)\n",
      "      127    0.000    0.000    0.000    0.000 gradients_impl.py:490(<listcomp>)\n",
      "        2    0.000    0.000    0.001    0.000 gradients_impl.py:510(<listcomp>)\n",
      "      271    0.002    0.000    0.005    0.000 gradients_impl.py:525(_UpdatePendingAndEnqueueReady)\n",
      "      381    0.002    0.000    0.003    0.000 gradients_impl.py:565(_SetGrad)\n",
      "      339    0.000    0.000    0.000    0.000 gradients_impl.py:570(<listcomp>)\n",
      "      442    0.000    0.000    0.001    0.000 gradients_impl.py:580(_GetGrad)\n",
      "      271    0.000    0.000    0.000    0.000 gradients_impl.py:592(_GetGrads)\n",
      "        4    0.000    0.000    0.000    0.000 gradients_impl.py:597(<listcomp>)\n",
      "       16    0.000    0.000    0.000    0.000 gradients_impl.py:612(_AccumulatorShape)\n",
      "      241    0.002    0.000    0.011    0.000 gradients_impl.py:620(_LogOpGradients)\n",
      "      634    0.000    0.000    0.001    0.000 gradients_impl.py:624(_FilterGrad)\n",
      "      241    0.001    0.000    0.002    0.000 gradients_impl.py:633(<listcomp>)\n",
      "      241    0.000    0.000    0.002    0.000 gradients_impl.py:635(<listcomp>)\n",
      "       16    0.000    0.000    0.030    0.002 gradients_impl.py:638(_MultiDeviceAddN)\n",
      "       16    0.000    0.000    0.000    0.000 gradients_impl.py:642(<lambda>)\n",
      "       16    0.000    0.000    0.000    0.000 gradients_impl.py:652(DeviceKey)\n",
      "      271    0.002    0.000    0.034    0.000 gradients_impl.py:682(_AggregatedGrads)\n",
      "      271    0.000    0.000    0.000    0.000 gradients_impl.py:720(<listcomp>)\n",
      "       16    0.000    0.000    0.000    0.000 gradients_impl.py:730(<listcomp>)\n",
      "        6    0.000    0.000    0.006    0.001 math_grad.py:234(_NegGrad)\n",
      "       16    0.000    0.000    0.061    0.004 math_grad.py:278(_SquareGrad)\n",
      "        2    0.000    0.000    0.003    0.001 math_grad.py:287(_SqrtGrad)\n",
      "       10    0.000    0.000    0.038    0.004 math_grad.py:32(_safe_shape_div)\n",
      "        8    0.000    0.000    0.011    0.001 math_grad.py:323(_ExpGrad)\n",
      "        4    0.000    0.000    0.009    0.002 math_grad.py:342(_LogGrad)\n",
      "        6    0.000    0.000    0.159    0.026 math_grad.py:37(_SumGrad)\n",
      "        4    0.000    0.000    0.010    0.002 math_grad.py:400(_LgammaGrad)\n",
      "        8    0.000    0.000    0.011    0.001 math_grad.py:479(_SigmoidGrad)\n",
      "        2    0.000    0.000    0.009    0.005 math_grad.py:499(_SignGrad)\n",
      "        4    0.000    0.000    0.014    0.003 math_grad.py:515(_CosGrad)\n",
      "       38    0.001    0.000    0.564    0.015 math_grad.py:580(_AddGrad)\n",
      "       16    0.000    0.000    0.244    0.015 math_grad.py:591(_SubGrad)\n",
      "       44    0.001    0.000    0.763    0.017 math_grad.py:602(_MulGrad)\n",
      "       20    0.001    0.000    0.425    0.021 math_grad.py:646(_RealDivGrad)\n",
      "       12    0.001    0.000    0.357    0.030 math_grad.py:665(_PowGrad)\n",
      "        6    0.000    0.000    0.158    0.026 math_grad.py:691(_MaximumMinimumGrad)\n",
      "        6    0.000    0.000    0.158    0.026 math_grad.py:709(_MaximumGrad)\n",
      "        2    0.000    0.000    0.009    0.004 math_grad.py:857(_BatchMatMul)\n",
      "        2    0.000    0.000    0.007    0.003 math_grad.py:899(_RealGrad)\n",
      "        4    0.000    0.000    0.175    0.044 math_grad.py:91(_MeanGrad)\n",
      "        4    0.000    0.000    0.007    0.002 math_grad.py:928(_CastGrad)\n",
      "       10    0.000    0.000    0.014    0.001 math_ops.py:1063(floordiv)\n",
      "      265    0.001    0.000    0.339    0.001 math_ops.py:1101(_mul_dispatch)\n",
      "       10    0.000    0.000    0.051    0.005 math_ops.py:1154(range)\n",
      "       32    0.000    0.000    0.000    0.000 math_ops.py:1215(<genexpr>)\n",
      "        8    0.000    0.000    0.000    0.000 math_ops.py:1216(<listcomp>)\n",
      "      288    0.000    0.000    0.022    0.000 math_ops.py:1227(_ReductionDims)\n",
      "      274    0.001    0.000    0.753    0.003 math_ops.py:1250(reduce_sum)\n",
      "        6    0.000    0.000    0.033    0.005 math_ops.py:1356(reduce_mean)\n",
      "        8    0.000    0.000    0.032    0.004 math_ops.py:1403(reduce_prod)\n",
      "        8    0.000    0.000    0.018    0.002 math_ops.py:1712(matmul)\n",
      "       32    0.000    0.000    0.029    0.001 math_ops.py:1936(add_n)\n",
      "      102    0.000    0.000    0.000    0.000 math_ops.py:1954(<genexpr>)\n",
      "       12    0.000    0.000    0.017    0.001 math_ops.py:2036(sigmoid)\n",
      "      208    0.002    0.000    0.014    0.000 math_ops.py:2170(conj)\n",
      "        6    0.000    0.000    0.095    0.016 math_ops.py:2215(reduced_shape)\n",
      "       18    0.000    0.000    0.028    0.002 math_ops.py:345(divide)\n",
      "       30    0.000    0.000    0.044    0.001 math_ops.py:356(multiply)\n",
      "        4    0.000    0.000    0.005    0.001 math_ops.py:371(subtract)\n",
      "        2    0.000    0.000    0.002    0.001 math_ops.py:431(sign)\n",
      "       18    0.000    0.000    0.020    0.001 math_ops.py:455(square)\n",
      "        2    0.000    0.000    0.002    0.001 math_ops.py:477(sqrt)\n",
      "       28    0.000    0.000    0.042    0.001 math_ops.py:548(pow)\n",
      "        2    0.000    0.000    0.004    0.002 math_ops.py:575(complex)\n",
      "        4    0.000    0.000    0.006    0.002 math_ops.py:617(real)\n",
      "        4    0.000    0.000    0.007    0.002 math_ops.py:649(imag)\n",
      "        2    0.000    0.000    0.002    0.001 math_ops.py:680(round)\n",
      "      130    0.001    0.000    0.029    0.000 math_ops.py:706(cast)\n",
      "        2    0.000    0.000    0.000    0.000 math_ops.py:780(to_float)\n",
      "       12    0.000    0.000    0.001    0.000 math_ops.py:812(to_int32)\n",
      "      323    0.003    0.000    0.484    0.001 math_ops.py:880(binary_op_wrapper)\n",
      "       43    0.000    0.000    0.108    0.003 math_ops.py:895(r_binary_op_wrapper)\n",
      "       38    0.000    0.000    0.055    0.001 math_ops.py:961(_truediv_python3)\n",
      "   112944    0.118    0.000    1.516    0.000 message.py:106(CopyFrom)\n",
      "     2592    0.006    0.000    0.162    0.000 message.py:69(__deepcopy__)\n",
      "    18111    0.003    0.000    0.003    0.000 message_listener.py:77(Modified)\n",
      "        2    0.000    0.000    0.748    0.374 model_responses.py:247(SFMGiveBof)\n",
      "        3    0.000    0.000    0.112    0.037 model_responses.py:347(applyConstraints)\n",
      "        2    0.000    0.000    0.036    0.018 model_responses.py:391(negBinom)\n",
      "        1    2.933    2.933   98.554   98.554 model_responses.py:404(setModel)\n",
      "        2    0.001    0.000    0.511    0.255 model_responses.py:68(SFMSimpleResp)\n",
      "     2001    0.039    0.000    0.153    0.000 nest.py:141(flatten_dict_items)\n",
      "    18009    0.011    0.000    0.088    0.000 nest.py:71(is_sequence)\n",
      "       14    0.000    0.000    0.017    0.001 nn_grad.py:291(_SoftplusGrad)\n",
      "        2    0.000    0.000    0.587    0.294 npyio.py:266(load)\n",
      "        1    0.000    0.000    2.901    2.901 npyio.py:435(save)\n",
      "        4    0.000    0.000    0.000    0.000 numeric.py:2160(isscalar)\n",
      "       28    0.000    0.000    0.001    0.000 numeric.py:2584(array_equal)\n",
      "    18315    0.013    0.000    1.017    0.000 numeric.py:463(asarray)\n",
      "       54    0.000    0.000    0.000    0.000 numeric.py:534(asanyarray)\n",
      "       42    0.000    0.000    0.000    0.000 op_def_library.py:148(_MakeInt)\n",
      "       82    0.000    0.000    0.000    0.000 op_def_library.py:159(_MakeStr)\n",
      "      360    0.000    0.000    0.000    0.000 op_def_library.py:166(_MakeBool)\n",
      "     2894    0.008    0.000    0.031    0.000 op_def_library.py:173(_MakeType)\n",
      "       51    0.000    0.000    0.001    0.000 op_def_library.py:184(_MakeShape)\n",
      "4486/4322    0.002    0.000    0.004    0.000 op_def_library.py:244(_MaybeColocateWith)\n",
      "     2161    0.171    0.000    3.832    0.002 op_def_library.py:289(apply_op)\n",
      "     2675    0.006    0.000    0.012    0.000 op_def_library.py:38(_Attr)\n",
      "      122    0.000    0.000    0.000    0.000 op_def_library.py:438(<genexpr>)\n",
      "     2200    0.001    0.000    0.001    0.000 op_def_library.py:46(_AttrValue)\n",
      "       32    0.000    0.000    0.000    0.000 op_def_library.py:468(<listcomp>)\n",
      "     3639    0.003    0.000    0.006    0.000 op_def_library.py:526(<listcomp>)\n",
      "     5543    0.016    0.000    0.042    0.000 op_def_library.py:53(_SatisfiesTypeConstraint)\n",
      "       32    0.000    0.000    0.000    0.000 op_def_library.py:548(<listcomp>)\n",
      "      164    0.000    0.000    0.000    0.000 op_def_library.py:614(<genexpr>)\n",
      "     3639    0.004    0.000    0.008    0.000 op_def_library.py:64(_IsListParameter)\n",
      "        4    0.000    0.000    0.000    0.000 op_def_library.py:686(<listcomp>)\n",
      "       97    0.000    0.000    0.000    0.000 op_def_library.py:748(<listcomp>)\n",
      "     2161    0.005    0.000    0.009    0.000 op_def_library.py:757(<listcomp>)\n",
      "     4472    0.003    0.000    0.004    0.000 op_def_library.py:80(_IsListValue)\n",
      "     2161    0.004    0.000    0.012    0.000 op_def_library.py:84(_Flatten)\n",
      "     2161    0.003    0.000    0.007    0.000 op_def_library.py:87(<listcomp>)\n",
      "     2161    0.001    0.000    0.001    0.000 op_def_library.py:89(<listcomp>)\n",
      "     2090    0.004    0.000    0.004    0.000 op_def_library.py:92(_Restructure)\n",
      "       71    0.000    0.000    0.000    0.000 ops.py:1098(_device_string)\n",
      "     2592    0.026    0.000    0.198    0.000 ops.py:1105(_NodeDef)\n",
      "     2592    0.047    0.000    0.839    0.000 ops.py:1173(__init__)\n",
      "     2592    0.004    0.000    0.039    0.000 ops.py:1238(<listcomp>)\n",
      "      431    0.000    0.000    0.000    0.000 ops.py:1241(<listcomp>)\n",
      "     5858    0.006    0.000    0.020    0.000 ops.py:1243(<genexpr>)\n",
      "    22570    0.015    0.000    0.059    0.000 ops.py:127(_as_graph_element)\n",
      "      380    0.002    0.000    0.005    0.000 ops.py:1277(colocation_groups)\n",
      "       93    0.000    0.000    0.000    0.000 ops.py:1286(<listcomp>)\n",
      "    71833    0.052    0.000    0.118    0.000 ops.py:1314(name)\n",
      "    96490    0.028    0.000    0.028    0.000 ops.py:1319(_id)\n",
      "     1687    0.001    0.000    0.002    0.000 ops.py:1324(device)\n",
      "       71    0.000    0.000    0.001    0.000 ops.py:1335(_set_device)\n",
      "     2592    0.014    0.000    0.077    0.000 ops.py:1437(_recompute_node_def)\n",
      "     2592    0.003    0.000    0.017    0.000 ops.py:1439(<listcomp>)\n",
      "      239    0.001    0.000    0.003    0.000 ops.py:1441(<listcomp>)\n",
      "    97229    0.030    0.000    0.030    0.000 ops.py:1450(outputs)\n",
      "     6882    0.003    0.000    0.003    0.000 ops.py:1459(__init__)\n",
      "       38    0.000    0.000    0.000    0.000 ops.py:146(is_dense_tensor_like)\n",
      "     4331    0.003    0.000    0.004    0.000 ops.py:1462(__iter__)\n",
      "      271    0.000    0.000    0.000    0.000 ops.py:1465(__len__)\n",
      "      241    0.000    0.000    0.000    0.000 ops.py:1468(__bool__)\n",
      "     2039    0.001    0.000    0.001    0.000 ops.py:1474(__getitem__)\n",
      "     6882    0.007    0.000    0.010    0.000 ops.py:1478(inputs)\n",
      "    12890    0.008    0.000    0.017    0.000 ops.py:1503(type)\n",
      "    32472    0.011    0.000    0.011    0.000 ops.py:1508(graph)\n",
      "   105830    0.030    0.000    0.030    0.000 ops.py:1513(node_def)\n",
      "     1005    0.008    0.000    0.086    0.000 ops.py:1540(get_attr)\n",
      "      241    0.001    0.000    0.069    0.000 ops.py:1675(get_gradient_function)\n",
      "     2592    0.004    0.000    2.081    0.001 ops.py:1706(call_with_requiring)\n",
      "     2592    0.032    0.000    2.174    0.001 ops.py:1747(set_shapes_for_outputs)\n",
      "     3340    0.003    0.000    0.003    0.000 ops.py:1917(_name_from_scope_name)\n",
      "     7830    0.003    0.000    0.003    0.000 ops.py:2070(_check_not_finalized)\n",
      "     2592    0.020    0.000    0.033    0.000 ops.py:2079(_add_op)\n",
      "     4006    0.017    0.000    0.017    0.000 ops.py:2105(version)\n",
      "     2660    0.001    0.000    0.001    0.000 ops.py:2164(_get_control_flow_context)\n",
      "      136    0.000    0.000    0.000    0.000 ops.py:2172(_set_control_flow_context)\n",
      "        3    0.232    0.077    5.617    1.872 ops.py:2180(_as_graph_def)\n",
      "      271    0.000    0.000    0.000    0.000 ops.py:2260(_is_function)\n",
      "     6202    0.002    0.000    0.002    0.000 ops.py:2307(building_function)\n",
      "     2592    0.044    0.000    3.347    0.001 ops.py:2313(create_op)\n",
      "    21389    0.052    0.000    0.201    0.000 ops.py:2440(as_graph_element)\n",
      "    21389    0.054    0.000    0.148    0.000 ops.py:2475(_as_graph_element_locked)\n",
      "     2592    0.009    0.000    0.010    0.000 ops.py:2624(_next_id)\n",
      "        6    0.000    0.000    0.000    0.000 ops.py:2631(_last_id)\n",
      "     8205    0.015    0.000    0.048    0.000 ops.py:2635(as_default)\n",
      "       54    0.000    0.000    0.000    0.000 ops.py:2670(add_to_collection)\n",
      "       41    0.000    0.000    0.000    0.000 ops.py:2688(add_to_collections)\n",
      "       27    0.000    0.000    0.000    0.000 ops.py:2709(get_collection_ref)\n",
      "      237    0.001    0.000    0.001    0.000 ops.py:2734(get_collection)\n",
      "      482    0.000    0.000    0.000    0.000 ops.py:2787(_original_op)\n",
      "     8030    0.014    0.000    0.038    0.000 ops.py:2813(name_scope)\n",
      "     2657    0.012    0.000    0.035    0.000 ops.py:285(__init__)\n",
      "     3241    0.011    0.000    0.014    0.000 ops.py:2923(unique_name)\n",
      "      636    0.001    0.000    0.003    0.000 ops.py:2968(colocate_with)\n",
      "      142    0.000    0.000    0.002    0.000 ops.py:3043(device)\n",
      "    30172    0.008    0.000    0.008    0.000 ops.py:311(op)\n",
      "     2592    0.003    0.000    0.008    0.000 ops.py:3113(_apply_device_functions)\n",
      "    32085    0.010    0.000    0.010    0.000 ops.py:316(dtype)\n",
      "      322    0.001    0.000    0.001    0.000 ops.py:3181(__init__)\n",
      "    26565    0.022    0.000    0.032    0.000 ops.py:321(graph)\n",
      "      322    0.000    0.000    0.001    0.000 ops.py:3215(__enter__)\n",
      "      322    0.001    0.000    0.001    0.000 ops.py:3225(__exit__)\n",
      "      341    0.000    0.000    0.000    0.000 ops.py:3232(control_inputs)\n",
      "      469    0.000    0.000    0.000    0.000 ops.py:3236(add_op)\n",
      "      356    0.000    0.000    0.000    0.000 ops.py:3239(op_in_group)\n",
      "      322    0.000    0.000    0.000    0.000 ops.py:3242(_push_control_dependencies_controller)\n",
      "      322    0.000    0.000    0.001    0.000 ops.py:3245(_pop_control_dependencies_controller)\n",
      "      254    0.000    0.000    0.000    0.000 ops.py:3249(_current_control_dependencies)\n",
      "     2592    0.007    0.000    0.011    0.000 ops.py:3256(_control_dependencies_for_inputs)\n",
      "    18681    0.058    0.000    0.129    0.000 ops.py:326(name)\n",
      "     2592    0.003    0.000    0.004    0.000 ops.py:3274(<listcomp>)\n",
      "      341    0.000    0.000    0.000    0.000 ops.py:3288(<listcomp>)\n",
      "     2592    0.002    0.000    0.002    0.000 ops.py:3291(_record_op_seen_by_control_dependencies)\n",
      "      322    0.003    0.000    0.013    0.000 ops.py:3300(control_dependencies)\n",
      "       68    0.000    0.000    0.000    0.000 ops.py:333(device)\n",
      "    24877    0.009    0.000    0.009    0.000 ops.py:338(shape)\n",
      "      236    0.000    0.000    0.001    0.000 ops.py:3580(prevent_feeding)\n",
      "    18009    0.022    0.000    0.035    0.000 ops.py:3584(is_feedable)\n",
      "     2015    0.002    0.000    0.003    0.000 ops.py:3592(is_fetchable)\n",
      "       71    0.000    0.000    0.001    0.000 ops.py:3600(device)\n",
      "      318    0.000    0.000    0.002    0.000 ops.py:3631(colocate_with)\n",
      "      322    0.000    0.000    0.014    0.000 ops.py:3635(control_dependencies)\n",
      "    12846    0.013    0.000    0.016    0.000 ops.py:3662(get_default)\n",
      "    16410    0.021    0.000    0.036    0.000 ops.py:3676(get_controller)\n",
      "    12846    0.023    0.000    0.040    0.000 ops.py:3842(get_default)\n",
      "      603    0.000    0.000    0.000    0.000 ops.py:3849(_GetGlobalDefaultGraph)\n",
      "    12846    0.012    0.000    0.052    0.000 ops.py:3877(get_default_graph)\n",
      "     3656    0.003    0.000    0.007    0.000 ops.py:3895(_assert_same_graph)\n",
      "    24871    0.020    0.000    0.028    0.000 ops.py:390(get_shape)\n",
      "     6202    0.023    0.000    0.069    0.000 ops.py:3910(_get_graph_from_inputs)\n",
      "     3046    0.004    0.000    0.034    0.000 ops.py:394(set_shape)\n",
      "       41    0.000    0.000    0.001    0.000 ops.py:4112(add_to_collections)\n",
      "       27    0.000    0.000    0.000    0.000 ops.py:4126(get_collection_ref)\n",
      "      237    0.000    0.000    0.001    0.000 ops.py:4145(get_collection)\n",
      "     8030    0.022    0.000    0.156    0.000 ops.py:4175(name_scope)\n",
      "      407    0.000    0.000    0.000    0.000 ops.py:427(value_index)\n",
      "    36906    0.011    0.000    0.011    0.000 ops.py:432(consumers)\n",
      "     3697    0.003    0.000    0.005    0.000 ops.py:440(_add_consumer)\n",
      "     3697    0.005    0.000    0.014    0.000 ops.py:453(_as_node_def_input)\n",
      "       12    0.000    0.000    0.000    0.000 ops.py:472(__str__)\n",
      "    72298    0.030    0.000    0.045    0.000 ops.py:484(__hash__)\n",
      "        8    0.000    0.000    0.000    0.000 ops.py:505(__iter__)\n",
      "     6845    0.005    0.000    0.013    0.000 ops.py:584(_TensorTensorConversionFunction)\n",
      "     1235    0.001    0.000    0.146    0.000 ops.py:598(convert_to_tensor)\n",
      "     7212    0.034    0.000    0.308    0.000 ops.py:654(internal_convert_to_tensor)\n",
      "     2122    0.007    0.000    0.031    0.000 ops.py:737(internal_convert_n_to_tensor)\n",
      "     2090    0.002    0.000    0.032    0.000 ops.py:781(convert_n_to_tensor)\n",
      "      151    0.000    0.000    0.000    0.000 ops.py:815(convert_to_tensor_or_indexed_slices)\n",
      "     1064    0.001    0.000    0.001    0.000 ops.py:839(internal_convert_to_tensor_or_indexed_slices)\n",
      "       38    0.001    0.000    0.001    0.000 ops.py:874(internal_convert_n_to_tensor_or_indexed_slices)\n",
      "       38    0.000    0.000    0.001    0.000 ops.py:914(convert_n_to_tensor_or_indexed_slices)\n",
      "     2592    0.097    0.000    0.110    0.000 ops.py:96(_extract_stack)\n",
      "      858    0.001    0.000    0.001    0.000 optimizer.py:112(_get_processor)\n",
      "        1    0.000    0.000    0.000    0.000 optimizer.py:225(__init__)\n",
      "        1    0.000    0.000    2.195    2.195 optimizer.py:250(minimize)\n",
      "        1    0.000    0.000    0.000    0.000 optimizer.py:290(<listcomp>)\n",
      "        1    0.000    0.000    1.949    1.949 optimizer.py:300(compute_gradients)\n",
      "        1    0.000    0.000    0.001    0.001 optimizer.py:346(<listcomp>)\n",
      "        1    0.000    0.000    0.000    0.000 optimizer.py:349(<listcomp>)\n",
      "        1    0.000    0.000    0.000    0.000 optimizer.py:358(<listcomp>)\n",
      "        1    0.000    0.000    0.245    0.245 optimizer.py:361(apply_gradients)\n",
      "        1    0.000    0.000    0.000    0.000 optimizer.py:407(<listcomp>)\n",
      "       26    0.000    0.000    0.000    0.000 optimizer.py:436(get_slot)\n",
      "        2    0.000    0.000    0.000    0.000 optimizer.py:468(_assert_valid_dtypes)\n",
      "        2    0.000    0.000    0.000    0.000 optimizer.py:489(_valid_dtypes)\n",
      "      858    0.000    0.000    0.000    0.000 optimizer.py:53(__init__)\n",
      "      429    0.000    0.000    0.000    0.000 optimizer.py:56(target)\n",
      "       13    0.000    0.000    0.046    0.004 optimizer.py:59(update_op)\n",
      "       26    0.000    0.000    0.000    0.000 optimizer.py:608(_slot_dict)\n",
      "       26    0.000    0.000    0.172    0.007 optimizer.py:642(_zeros_slot)\n",
      "        3    0.000    0.000    0.000    0.000 py3k.py:32(asbytes)\n",
      "        3    0.000    0.000    0.000    0.000 py3k.py:37(asstr)\n",
      "707899/344710    1.359    0.000    9.849    0.000 python_message.py:1006(ByteSize)\n",
      "    10928    0.015    0.000   18.130    0.002 python_message.py:1028(SerializeToString)\n",
      "    10928    0.020    0.000   17.783    0.002 python_message.py:1042(SerializePartialToString)\n",
      "299083/10928    0.654    0.000   17.761    0.002 python_message.py:1048(InternalSerialize)\n",
      "     4014    0.005    0.000    0.214    0.000 python_message.py:1059(MergeFromString)\n",
      "10626/4014    0.030    0.000    0.208    0.000 python_message.py:1079(InternalParse)\n",
      "74390/10928    0.261    0.000    0.333    0.000 python_message.py:1112(IsInitialized)\n",
      "461931/273285    1.612    0.000    6.986    0.000 python_message.py:1204(MergeFrom)\n",
      "      764    0.002    0.000    0.004    0.000 python_message.py:1245(WhichOneof)\n",
      "   112944    0.098    0.000    0.220    0.000 python_message.py:1268(_Clear)\n",
      "   465912    0.192    0.000    0.192    0.000 python_message.py:1287(_SetListener)\n",
      "853697/594295    0.501    0.000    0.855    0.000 python_message.py:1323(Modified)\n",
      "   308202    0.189    0.000    0.278    0.000 python_message.py:1338(_UpdateOneofState)\n",
      "   755116    0.810    0.000    1.297    0.000 python_message.py:1368(__init__)\n",
      "   758220    0.284    0.000    0.340    0.000 python_message.py:1387(Modified)\n",
      "    50512    0.071    0.000    0.142    0.000 python_message.py:1403(__init__)\n",
      "    50512    0.082    0.000    0.177    0.000 python_message.py:1412(Modified)\n",
      "     3759    0.002    0.000    0.002    0.000 python_message.py:262(_IsMapField)\n",
      "    54784    0.065    0.000    0.098    0.000 python_message.py:370(MakeMessageMapDefault)\n",
      "    39339    0.048    0.000    0.114    0.000 python_message.py:408(MakeRepeatedMessageDefault)\n",
      "   102152    0.113    0.000    0.273    0.000 python_message.py:414(MakeRepeatedScalarDefault)\n",
      "   294560    0.593    0.000    2.222    0.000 python_message.py:422(MakeSubMessageDefault)\n",
      "      862    0.001    0.000    0.001    0.000 python_message.py:452(_GetIntegerEnumValue)\n",
      "704604/442390    2.929    0.000    7.965    0.000 python_message.py:467(init)\n",
      "   415524    0.134    0.000    0.134    0.000 python_message.py:533(_GetFieldByName)\n",
      "    88311    0.056    0.000    0.104    0.000 python_message.py:602(getter)\n",
      "   280067    0.116    0.000    0.182    0.000 python_message.py:647(getter)\n",
      "   223243    0.259    0.000    0.627    0.000 python_message.py:656(field_setter)\n",
      "     3805    0.004    0.000    0.037    0.000 python_message.py:671(setter)\n",
      "    29110    0.027    0.000    0.109    0.000 python_message.py:701(getter)\n",
      "     4014    0.007    0.000    0.237    0.000 python_message.py:753(FromString)\n",
      "  1501008    1.051    0.000    1.244    0.000 python_message.py:760(_IsPresent)\n",
      "   828199    1.208    0.000    4.922    0.000 python_message.py:775(ListFields)\n",
      "   828199    0.763    0.000    2.007    0.000 python_message.py:776(<listcomp>)\n",
      "  1452596    0.332    0.000    0.332    0.000 python_message.py:777(<lambda>)\n",
      "    18204    0.024    0.000    0.032    0.000 python_message.py:806(HasField)\n",
      "      241    0.001    0.000    0.064    0.000 python_message.py:963(__str__)\n",
      "     2003    0.003    0.000    0.023    0.000 pywrap_tensorflow.py:327(<lambda>)\n",
      "     2003    0.001    0.000    0.001    0.000 pywrap_tensorflow.py:339(<lambda>)\n",
      "     2003    0.017    0.000    0.017    0.000 pywrap_tensorflow.py:39(_swig_setattr_nondynamic)\n",
      "        1    0.000    0.000    0.000    0.000 pywrap_tensorflow.py:400(TF_NewSessionOptions)\n",
      "     2003    0.003    0.000    0.020    0.000 pywrap_tensorflow.py:58(_swig_setattr)\n",
      "       48    0.000    0.000    0.000    0.000 re.py:231(compile)\n",
      "       48    0.000    0.000    0.000    0.000 re.py:286(_compile)\n",
      "     5425    0.017    0.000    0.021    0.000 registry.py:78(lookup)\n",
      "     2003    0.006    0.000   84.724    0.042 session.py:1020(_do_call)\n",
      "     2003    0.008    0.000   26.659    0.013 session.py:1037(_extend_graph)\n",
      "     2003    0.030    0.000    0.101    0.000 session.py:1077(_update_with_movers)\n",
      "        1    0.000    0.000    0.000    0.000 session.py:1166(__init__)\n",
      "     2015    0.002    0.000    0.002    0.000 session.py:120(<lambda>)\n",
      "    18009    0.007    0.000    0.007    0.000 session.py:121(<lambda>)\n",
      "2016/2003    0.011    0.000    0.060    0.000 session.py:211(for_fetch)\n",
      "     2015    0.009    0.000    0.045    0.000 session.py:247(__init__)\n",
      "     2015    0.001    0.000    0.001    0.000 session.py:280(unique_fetches)\n",
      "     2015    0.004    0.000    0.007    0.000 session.py:283(build_results)\n",
      "        1    0.000    0.000    0.000    0.000 session.py:291(_uniquify_fetches)\n",
      "        1    0.000    0.000    0.000    0.000 session.py:330(__init__)\n",
      "        1    0.000    0.000    0.000    0.000 session.py:337(<listcomp>)\n",
      "        1    0.000    0.000    0.000    0.000 session.py:340(unique_fetches)\n",
      "        1    0.000    0.000    0.000    0.000 session.py:343(build_results)\n",
      "       13    0.000    0.000    0.000    0.000 session.py:347(<listcomp>)\n",
      "     2003    0.035    0.000    0.170    0.000 session.py:397(__init__)\n",
      "     2003    0.001    0.000    0.001    0.000 session.py:427(<listcomp>)\n",
      "     2015    0.003    0.000    0.006    0.000 session.py:429(_assert_fetchable)\n",
      "     2003    0.001    0.000    0.001    0.000 session.py:434(fetches)\n",
      "     2003    0.001    0.000    0.001    0.000 session.py:442(targets)\n",
      "     2003    0.017    0.000    0.029    0.000 session.py:450(build_results)\n",
      "        1    0.000    0.000    0.000    0.000 session.py:501(__init__)\n",
      "        1    0.000    0.000    0.000    0.000 session.py:556(close)\n",
      "        1    0.000    0.000    0.451    0.451 session.py:571(__del__)\n",
      "    56030    0.014    0.000    0.014    0.000 session.py:585(graph)\n",
      "     2003    0.044    0.000   87.395    0.044 session.py:656(run)\n",
      "     2003    0.276    0.000   87.294    0.044 session.py:892(_run)\n",
      "    18009    0.034    0.000    0.055    0.000 session.py:894(_feed_fn)\n",
      "     2003    0.007    0.000   84.731    0.042 session.py:973(_do_run)\n",
      "     2003    0.144    0.000   84.718    0.042 session.py:997(_run_fn)\n",
      "    18009    0.024    0.000    0.057    0.000 session_ops.py:229(_get_handle_feeder)\n",
      "    18009    0.009    0.000    0.067    0.000 session_ops.py:249(_get_handle_mover)\n",
      "        5    0.000    0.000    0.001    0.000 shape_base.py:180(vstack)\n",
      "        5    0.000    0.000    0.000    0.000 shape_base.py:234(<listcomp>)\n",
      "       45    0.000    0.000    0.000    0.000 shape_base.py:61(atleast_2d)\n",
      "       16    0.000    0.000    0.000    0.000 six.py:574(iterkeys)\n",
      "     5002    0.009    0.000    0.015    0.000 six.py:580(iteritems)\n",
      "       26    0.000    0.000    0.172    0.007 slot_creator.py:106(create_zeros_slot)\n",
      "       26    0.000    0.000    0.131    0.005 slot_creator.py:48(_create_slot_var)\n",
      "       26    0.000    0.000    0.144    0.006 slot_creator.py:78(create_slot)\n",
      "       41    0.000    0.000    0.072    0.002 state_ops.py:155(variable_op_v2)\n",
      "      394    0.001    0.000    0.003    0.000 tensor_shape.py:110(merge_with)\n",
      "       10    0.000    0.000    0.000    0.000 tensor_shape.py:185(__mul__)\n",
      "    34268    0.062    0.000    0.073    0.000 tensor_shape.py:28(__init__)\n",
      "    39376    0.041    0.000    0.122    0.000 tensor_shape.py:362(as_dimension)\n",
      "    28417    0.069    0.000    0.256    0.000 tensor_shape.py:423(__init__)\n",
      "       20    0.000    0.000    0.000    0.000 tensor_shape.py:43(__str__)\n",
      "     1705    0.004    0.000    0.009    0.000 tensor_shape.py:445(<listcomp>)\n",
      "    19797    0.026    0.000    0.142    0.000 tensor_shape.py:457(<listcomp>)\n",
      "       38    0.000    0.000    0.000    0.000 tensor_shape.py:462(__str__)\n",
      "       32    0.000    0.000    0.000    0.000 tensor_shape.py:468(<genexpr>)\n",
      "      314    0.000    0.000    0.001    0.000 tensor_shape.py:47(__eq__)\n",
      "     4310    0.001    0.000    0.001    0.000 tensor_shape.py:470(dims)\n",
      "     6294    0.004    0.000    0.006    0.000 tensor_shape.py:475(ndims)\n",
      "       96    0.000    0.000    0.000    0.000 tensor_shape.py:483(__len__)\n",
      "      128    0.000    0.000    0.000    0.000 tensor_shape.py:496(__iter__)\n",
      "      422    0.000    0.000    0.001    0.000 tensor_shape.py:503(__getitem__)\n",
      "     3420    0.005    0.000    0.039    0.000 tensor_shape.py:557(merge_with)\n",
      "      541    0.001    0.000    0.003    0.000 tensor_shape.py:610(assert_same_rank)\n",
      "      308    0.001    0.000    0.011    0.000 tensor_shape.py:638(with_rank)\n",
      "       16    0.000    0.000    0.000    0.000 tensor_shape.py:67(__int__)\n",
      "    18009    0.034    0.000    0.310    0.000 tensor_shape.py:696(is_compatible_with)\n",
      "    12297    0.003    0.000    0.003    0.000 tensor_shape.py:74(value)\n",
      "      549    0.001    0.000    0.001    0.000 tensor_shape.py:758(is_fully_defined)\n",
      "      265    0.000    0.000    0.000    0.000 tensor_shape.py:761(<genexpr>)\n",
      "      174    0.000    0.000    0.000    0.000 tensor_shape.py:772(as_list)\n",
      "      174    0.000    0.000    0.000    0.000 tensor_shape.py:783(<listcomp>)\n",
      "     9033    0.023    0.000    0.213    0.000 tensor_shape.py:785(as_proto)\n",
      "     4396    0.008    0.000    0.012    0.000 tensor_shape.py:79(is_compatible_with)\n",
      "     3759    0.007    0.000    0.042    0.000 tensor_shape.py:791(<listcomp>)\n",
      "      308    0.001    0.000    0.004    0.000 tensor_shape.py:795(__eq__)\n",
      "    22836    0.037    0.000    0.291    0.000 tensor_shape.py:816(as_shape)\n",
      "     3005    0.004    0.000    0.007    0.000 tensor_shape.py:824(unknown_shape)\n",
      "      134    0.000    0.000    0.001    0.000 tensor_shape.py:839(scalar)\n",
      "      394    0.000    0.000    0.001    0.000 tensor_shape.py:96(assert_is_compatible_with)\n",
      "        2    0.000    0.000    0.000    0.000 tensor_util.py:103(SlowAppendComplex128ArrayToTensorProto)\n",
      "        2    0.000    0.000    0.000    0.000 tensor_util.py:104(<listcomp>)\n",
      "      409    0.001    0.000    0.002    0.000 tensor_util.py:137(GetFromNumpyDTypeDict)\n",
      "      409    0.001    0.000    0.003    0.000 tensor_util.py:145(GetNumpyAppendFn)\n",
      "  436/408    0.000    0.000    0.001    0.000 tensor_util.py:170(_GetDenseDimensions)\n",
      "      570    0.000    0.000    0.000    0.000 tensor_util.py:205(_FirstNotNone)\n",
      "  248/192    0.001    0.000    0.001    0.000 tensor_util.py:234(_FilterInt)\n",
      "      156    0.000    0.000    0.000    0.000 tensor_util.py:236(<listcomp>)\n",
      "      176    0.000    0.000    0.001    0.000 tensor_util.py:240(_FilterFloat)\n",
      "    46/40    0.000    0.000    0.000    0.000 tensor_util.py:267(_FilterNotTensor)\n",
      "        6    0.000    0.000    0.000    0.000 tensor_util.py:269(<listcomp>)\n",
      "      408    0.002    0.000    0.005    0.000 tensor_util.py:294(_AssertCompatible)\n",
      "      408    0.001    0.000    0.003    0.000 tensor_util.py:296(<listcomp>)\n",
      "      431    0.014    0.000    0.098    0.000 tensor_util.py:305(make_tensor_proto)\n",
      "       32    0.000    0.000    0.000    0.000 tensor_util.py:409(<listcomp>)\n",
      "      236    0.004    0.000    0.018    0.000 tensor_util.py:456(MakeNdarray)\n",
      "      236    0.000    0.000    0.001    0.000 tensor_util.py:471(<listcomp>)\n",
      "  696/692    0.005    0.000    0.035    0.000 tensor_util.py:574(_ConstantValue)\n",
      "  696/692    0.001    0.000    0.037    0.000 tensor_util.py:656(constant_value)\n",
      "      308    0.002    0.000    0.022    0.000 tensor_util.py:689(constant_value_as_shape)\n",
      "       12    0.000    0.000    0.000    0.000 tensor_util.py:747(<listcomp>)\n",
      "      189    0.001    0.000    0.006    0.000 tensor_util.py:83(SlowAppendFloat32ArrayToTensorProto)\n",
      "      189    0.001    0.000    0.002    0.000 tensor_util.py:84(<listcomp>)\n",
      "       10    0.000    0.000    0.000    0.000 tensor_util.py:86(SlowAppendFloat64ArrayToTensorProto)\n",
      "       10    0.000    0.000    0.000    0.000 tensor_util.py:87(<listcomp>)\n",
      "      208    0.001    0.000    0.005    0.000 tensor_util.py:89(SlowAppendIntArrayToTensorProto)\n",
      "      208    0.001    0.000    0.002    0.000 tensor_util.py:90(<listcomp>)\n",
      "     1174    0.002    0.000    0.010    0.000 text_encoding.py:59(CEscape)\n",
      "     7907    0.001    0.000    0.001    0.000 text_encoding.py:76(<lambda>)\n",
      "     9081    0.004    0.000    0.005    0.000 text_encoding.py:79(<genexpr>)\n",
      "      241    0.001    0.000    0.001    0.000 text_format.py:102(__init__)\n",
      "    12518    0.006    0.000    0.009    0.000 text_format.py:108(write)\n",
      "      241    0.000    0.000    0.000    0.000 text_format.py:114(close)\n",
      "      241    0.000    0.000    0.001    0.000 text_format.py:117(getvalue)\n",
      "      241    0.002    0.000    0.063    0.000 text_format.py:121(MessageToString)\n",
      "     1837    0.001    0.000    0.002    0.000 text_format.py:167(_IsMapEntry)\n",
      "      241    0.001    0.000    0.001    0.000 text_format.py:244(__init__)\n",
      "  828/241    0.006    0.000    0.059    0.000 text_format.py:300(PrintMessage)\n",
      "2034/1161    0.006    0.000    0.040    0.000 text_format.py:328(PrintField)\n",
      "  587/286    0.002    0.000    0.018    0.000 text_format.py:361(_PrintMessageFieldValue)\n",
      "2034/1161    0.006    0.000    0.033    0.000 text_format.py:380(PrintFieldValue)\n",
      "      765    0.002    0.000    0.004    0.000 tf_logging.py:98(vlog)\n",
      "       48    0.000    0.000    0.000    0.000 tokenize.py:152(_compile)\n",
      "        3    0.000    0.000    0.000    0.000 tokenize.py:224(__init__)\n",
      "       48    0.000    0.000    0.000    0.000 tokenize.py:230(add_whitespace)\n",
      "        3    0.000    0.000    0.000    0.000 tokenize.py:243(untokenize)\n",
      "        3    0.000    0.000    0.000    0.000 tokenize.py:317(untokenize)\n",
      "       54    0.000    0.000    0.001    0.000 tokenize.py:492(_tokenize)\n",
      "        3    0.000    0.000    0.000    0.000 tokenize.py:729(generate_tokens)\n",
      "      277    0.000    0.000    0.001    0.000 type_check.py:440(asscalar)\n",
      "     6224    0.004    0.000    0.006    0.000 type_checkers.py:101(CheckValue)\n",
      "    12803    0.023    0.000    0.064    0.000 type_checkers.py:129(CheckValue)\n",
      "   313899    0.282    0.000    0.446    0.000 type_checkers.py:173(CheckValue)\n",
      "        2    0.000    0.000    0.000    0.000 utils.py:1076(safe_eval)\n",
      "       52    0.000    0.000    0.010    0.000 variable_scope.py:1179(_pure_variable_scope)\n",
      "       26    0.000    0.000    0.001    0.000 variable_scope.py:1291(_get_unique_variable_scope)\n",
      "       52    0.000    0.000    0.012    0.000 variable_scope.py:1305(variable_scope)\n",
      "       26    0.000    0.000    0.000    0.000 variable_scope.py:188(open_variable_scope)\n",
      "       26    0.005    0.000    0.009    0.000 variable_scope.py:194(close_variable_subscopes)\n",
      "       39    0.000    0.000    0.000    0.000 variable_scope.py:199(variable_scope_count)\n",
      "       26    0.000    0.000    0.128    0.005 variable_scope.py:202(get_variable)\n",
      "       26    0.000    0.000    0.128    0.005 variable_scope.py:283(_true_getter)\n",
      "       26    0.000    0.000    0.128    0.005 variable_scope.py:582(_get_single_variable)\n",
      "       26    0.000    0.000    0.000    0.000 variable_scope.py:760(__init__)\n",
      "      104    0.000    0.000    0.000    0.000 variable_scope.py:781(name)\n",
      "       52    0.000    0.000    0.000    0.000 variable_scope.py:789(reuse)\n",
      "       26    0.000    0.000    0.000    0.000 variable_scope.py:793(initializer)\n",
      "       26    0.000    0.000    0.000    0.000 variable_scope.py:797(dtype)\n",
      "       26    0.000    0.000    0.000    0.000 variable_scope.py:801(regularizer)\n",
      "       26    0.000    0.000    0.000    0.000 variable_scope.py:805(caching_device)\n",
      "       52    0.000    0.000    0.000    0.000 variable_scope.py:809(partitioner)\n",
      "       26    0.000    0.000    0.000    0.000 variable_scope.py:813(custom_getter)\n",
      "       52    0.000    0.000    0.000    0.000 variable_scope.py:837(set_partitioner)\n",
      "       26    0.000    0.000    0.129    0.005 variable_scope.py:845(get_variable)\n",
      "      156    0.000    0.000    0.001    0.000 variable_scope.py:953(get_variable_scope)\n",
      "       78    0.000    0.000    0.001    0.000 variable_scope.py:963(_get_default_variable_store)\n",
      "       26    0.000    0.000    0.130    0.005 variable_scope.py:972(get_variable)\n",
      "        1    0.000    0.000    0.000    0.000 variables.py:1072(global_variables)\n",
      "        1    0.000    0.000    0.000    0.000 variables.py:1136(trainable_variables)\n",
      "        1    0.000    0.000    0.020    0.020 variables.py:1164(variables_initializer)\n",
      "        1    0.000    0.000    0.001    0.001 variables.py:1185(<listcomp>)\n",
      "        1    0.000    0.000    0.020    0.020 variables.py:1195(global_variables_initializer)\n",
      "       41    0.000    0.000    0.211    0.005 variables.py:150(__init__)\n",
      "       41    0.001    0.000    0.211    0.005 variables.py:231(_init_from_args)\n",
      "      117    0.000    0.000    0.000    0.000 variables.py:376(_as_graph_element)\n",
      "        2    0.000    0.000    0.000    0.000 variables.py:380(_AsTensor)\n",
      "       76    0.000    0.000    0.000    0.000 variables.py:402(value)\n",
      "      509    0.000    0.000    0.000    0.000 variables.py:432(_ref)\n",
      "        2    0.000    0.000    0.004    0.002 variables.py:538(assign)\n",
      "      156    0.000    0.000    0.000    0.000 variables.py:671(_TensorConversionFunction)\n",
      "        2    0.000    0.000    0.003    0.002 variables.py:704(_run_op)\n",
      "       26    0.000    0.000    0.000    0.000 variables.py:724(name)\n",
      "     1017    0.000    0.000    0.000    0.000 variables.py:729(initializer)\n",
      "      147    0.000    0.000    0.000    0.000 variables.py:739(dtype)\n",
      "       39    0.000    0.000    0.000    0.000 variables.py:744(op)\n",
      "       26    0.000    0.000    0.000    0.000 variables.py:754(get_shape)\n",
      "      258    0.000    0.000    0.000    0.000 {built-in method __new__ of type object at 0x10e2a94e0}\n",
      "    33579    0.009    0.000    0.009    0.000 {built-in method _operator.getitem}\n",
      "        1    2.746    2.746    2.746    2.746 {built-in method _pickle.dump}\n",
      "        2    0.581    0.290    0.581    0.290 {built-in method _pickle.load}\n",
      "     2805    0.088    0.000    0.088    0.000 {built-in method _pywrap_tensorflow.RunCppShapeInference}\n",
      "        1    0.000    0.000    0.000    0.000 {built-in method _pywrap_tensorflow.TF_CloseDeprecatedSession}\n",
      "     2003    0.010    0.000    0.010    0.000 {built-in method _pywrap_tensorflow.TF_DeleteBuffer}\n",
      "        1    0.450    0.450    0.450    0.450 {built-in method _pywrap_tensorflow.TF_DeleteDeprecatedSession}\n",
      "        1    0.000    0.000    0.000    0.000 {built-in method _pywrap_tensorflow.TF_DeleteSessionOptions}\n",
      "     4814    0.005    0.000    0.005    0.000 {built-in method _pywrap_tensorflow.TF_DeleteStatus}\n",
      "        3    3.871    1.290    3.871    1.290 {built-in method _pywrap_tensorflow.TF_ExtendGraph}\n",
      "     4813    0.010    0.000    0.010    0.000 {built-in method _pywrap_tensorflow.TF_GetCode}\n",
      "     2003    0.025    0.000    0.048    0.000 {built-in method _pywrap_tensorflow.TF_NewBuffer}\n",
      "        1    0.000    0.000    0.000    0.000 {built-in method _pywrap_tensorflow.TF_NewDeprecatedSession}\n",
      "     4814    0.014    0.000    0.014    0.000 {built-in method _pywrap_tensorflow.TF_NewStatus}\n",
      "     2003   57.837    0.029   57.837    0.029 {built-in method _pywrap_tensorflow.TF_Run}\n",
      "        1    0.000    0.000    0.000    0.000 {built-in method _pywrap_tensorflow._TF_NewSessionOptions}\n",
      "        1    0.000    0.000    0.000    0.000 {built-in method _pywrap_tensorflow._TF_SetTarget}\n",
      "     3699    0.003    0.000    0.003    0.000 {built-in method _struct.pack}\n",
      "        2    0.000    0.000    0.000    0.000 {built-in method _struct.unpack}\n",
      "        2    0.000    0.000    0.000    0.000 {built-in method _thread.allocate_lock}\n",
      "   755116    0.231    0.000    0.231    0.000 {built-in method _weakref.proxy}\n",
      "     2779    0.004    0.000    0.024    0.000 {built-in method builtins.all}\n",
      "      303    0.000    0.000    0.000    0.000 {built-in method builtins.any}\n",
      "      255    0.000    0.000    0.000    0.000 {built-in method builtins.callable}\n",
      "        2    0.000    0.000    0.000    0.000 {built-in method builtins.compile}\n",
      "        1    0.000    0.000   99.025   99.025 {built-in method builtins.exec}\n",
      "       26    0.000    0.000    0.000    0.000 {built-in method builtins.format}\n",
      "    50477    0.056    0.000    0.057    0.000 {built-in method builtins.getattr}\n",
      "      467    0.001    0.000    0.001    0.000 {built-in method builtins.hasattr}\n",
      "    80074    0.016    0.000    0.016    0.000 {built-in method builtins.id}\n",
      "  2559950    0.741    0.000    0.833    0.000 {built-in method builtins.isinstance}\n",
      "     2877    0.001    0.000    0.001    0.000 {built-in method builtins.issubclass}\n",
      "   192588    0.065    0.000    0.065    0.000 {built-in method builtins.iter}\n",
      "1938763/1860351    0.371    0.000    0.403    0.000 {built-in method builtins.len}\n",
      "     2601    0.002    0.000    0.002    0.000 {built-in method builtins.max}\n",
      "        2    0.000    0.000    0.000    0.000 {built-in method builtins.min}\n",
      "48492/31948    0.040    0.000    0.282    0.000 {built-in method builtins.next}\n",
      "        3    0.000    0.000    0.000    0.000 {built-in method builtins.repr}\n",
      "        1    0.000    0.000    0.000    0.000 {built-in method builtins.round}\n",
      "   209585    0.165    0.000    0.708    0.000 {built-in method builtins.setattr}\n",
      "     7827    0.038    0.000    0.038    0.000 {built-in method builtins.sorted}\n",
      "        3    0.071    0.024    0.071    0.024 {built-in method io.open}\n",
      "       10    0.000    0.000    0.000    0.000 {built-in method numpy.core.multiarray.arange}\n",
      "    18845    1.006    0.000    1.006    0.000 {built-in method numpy.core.multiarray.array}\n",
      "        7    0.000    0.000    0.000    0.000 {built-in method numpy.core.multiarray.concatenate}\n",
      "      134    0.001    0.000    0.001    0.000 {built-in method numpy.core.multiarray.fromiter}\n",
      "       34    0.000    0.000    0.000    0.000 {built-in method numpy.core.multiarray.fromstring}\n",
      "     2592    0.002    0.000    0.002    0.000 {built-in method sys.exc_info}\n",
      "       71    0.000    0.000    0.000    0.000 {method '__reduce_ex__' of 'object' objects}\n",
      "     2514    0.001    0.000    0.001    0.000 {method 'add' of 'set' objects}\n",
      "       30    0.000    0.000    0.000    0.000 {method 'all' of 'numpy.ndarray' objects}\n",
      "      685    0.000    0.000    0.000    0.000 {method 'append' of 'collections.deque' objects}\n",
      "   200663    0.038    0.000    0.038    0.000 {method 'append' of 'list' objects}\n",
      "       13    0.000    0.000    0.000    0.000 {method 'astype' of 'numpy.generic' objects}\n",
      "       48    0.000    0.000    0.000    0.000 {method 'astype' of 'numpy.ndarray' objects}\n",
      "        2    0.000    0.000    0.000    0.000 {method 'close' of '_io.BufferedReader' objects}\n",
      "        1    0.089    0.089    0.089    0.089 {method 'close' of '_io.BufferedWriter' objects}\n",
      "      241    0.000    0.000    0.000    0.000 {method 'close' of '_io.StringIO' objects}\n",
      "     5186    0.004    0.000    0.004    0.000 {method 'decode' of 'bytes' objects}\n",
      "        1    0.000    0.000    0.000    0.000 {method 'disable' of '_lsprof.Profiler' objects}\n",
      "   743567    0.373    0.000    0.373    0.000 {method 'encode' of 'str' objects}\n",
      "        1    0.000    0.000    0.000    0.000 {method 'endswith' of 'str' objects}\n",
      "    36910    0.012    0.000    0.012    0.000 {method 'extend' of 'collections.deque' objects}\n",
      "   106034    0.036    0.000    0.036    0.000 {method 'extend' of 'list' objects}\n",
      "   724426    0.180    0.000    0.180    0.000 {method 'get' of 'dict' objects}\n",
      "    10928    0.002    0.000    0.002    0.000 {method 'getvalue' of '_io.BytesIO' objects}\n",
      "      241    0.001    0.000    0.001    0.000 {method 'getvalue' of '_io.StringIO' objects}\n",
      "       33    0.000    0.000    0.000    0.000 {method 'isidentifier' of 'str' objects}\n",
      "      277    0.001    0.000    0.001    0.000 {method 'item' of 'numpy.generic' objects}\n",
      "        2    0.000    0.000    0.000    0.000 {method 'item' of 'numpy.ndarray' objects}\n",
      "  2088006    0.377    0.000    0.377    0.000 {method 'items' of 'dict' objects}\n",
      "     1672    0.003    0.000    0.008    0.000 {method 'join' of 'str' objects}\n",
      "       18    0.000    0.000    0.000    0.000 {method 'keys' of 'dict' objects}\n",
      "     6629    0.017    0.000    0.017    0.000 {method 'match' of '_sre.SRE_Pattern' objects}\n",
      "   724392    0.235    0.000    0.235    0.000 {method 'pack' of 'Struct' objects}\n",
      "    10117    0.003    0.000    0.003    0.000 {method 'pop' of 'dict' objects}\n",
      "     8916    0.007    0.000    0.007    0.000 {method 'pop' of 'list' objects}\n",
      "    50840    0.005    0.000    0.005    0.000 {method 'popleft' of 'collections.deque' objects}\n",
      "     2000    0.067    0.000    0.067    0.000 {method 'randint' of 'mtrand.RandomState' objects}\n",
      "       13    0.000    0.000    0.000    0.000 {method 'ravel' of 'numpy.generic' objects}\n",
      "      398    0.001    0.000    0.001    0.000 {method 'ravel' of 'numpy.ndarray' objects}\n",
      "        8    0.000    0.000    0.000    0.000 {method 'read' of '_io.BufferedReader' objects}\n",
      "        6    0.000    0.000    0.000    0.000 {method 'read' of '_io.StringIO' objects}\n",
      "      709    0.013    0.000    0.014    0.000 {method 'reduce' of 'numpy.ufunc' objects}\n",
      "       68    0.000    0.000    0.000    0.000 {method 'repeat' of 'numpy.ndarray' objects}\n",
      "      236    0.001    0.000    0.001    0.000 {method 'reshape' of 'numpy.ndarray' objects}\n",
      "     2592    0.001    0.000    0.001    0.000 {method 'reverse' of 'list' objects}\n",
      "        2    0.000    0.000    0.000    0.000 {method 'seek' of '_io.BufferedReader' objects}\n",
      "   333594    0.098    0.000    0.098    0.000 {method 'setdefault' of 'dict' objects}\n",
      "   828199    1.247    0.000    1.579    0.000 {method 'sort' of 'list' objects}\n",
      "       48    0.000    0.000    0.000    0.000 {method 'span' of '_sre.SRE_Match' objects}\n",
      "      284    0.000    0.000    0.000    0.000 {method 'split' of 'str' objects}\n",
      "       95    0.000    0.000    0.000    0.000 {method 'startswith' of 'bytes' objects}\n",
      "    17300    0.006    0.000    0.006    0.000 {method 'startswith' of 'str' objects}\n",
      "       22    0.000    0.000    0.000    0.000 {method 'tostring' of 'numpy.ndarray' objects}\n",
      "       71    0.000    0.000    0.000    0.000 {method 'update' of 'dict' objects}\n",
      "      284    0.000    0.000    0.000    0.000 {method 'upper' of 'str' objects}\n",
      "     2161    0.001    0.000    0.001    0.000 {method 'values' of 'dict' objects}\n",
      "        2    0.000    0.000    0.000    0.000 {method 'write' of '_io.BufferedWriter' objects}\n",
      "  1770096    0.327    0.000    0.327    0.000 {method 'write' of '_io.BytesIO' objects}\n",
      "    12518    0.002    0.000    0.002    0.000 {method 'write' of '_io.StringIO' objects}\n",
      "\n",
      "\n"
     ]
    }
   ],
   "source": [
    "# For timing...\n",
    "import cProfile\n",
    "import re\n",
    "cellNumber = 8;\n",
    "nIter = 2000;\n",
    "subsetFrac = .1;\n",
    "NLL = 0;\n",
    "cProfile.run('NLL, params = model_responses.setModel(cellNumber, nIter, subsetFrac)');"
   ]
  },
  {
   "cell_type": "code",
   "execution_count": null,
   "metadata": {
    "collapsed": true
   },
   "outputs": [],
   "source": []
  },
  {
   "cell_type": "code",
   "execution_count": null,
   "metadata": {
    "collapsed": true
   },
   "outputs": [],
   "source": []
  },
  {
   "cell_type": "code",
   "execution_count": null,
   "metadata": {
    "collapsed": true
   },
   "outputs": [],
   "source": []
  },
  {
   "cell_type": "code",
   "execution_count": 78,
   "metadata": {
    "collapsed": false
   },
   "outputs": [
    {
     "name": "stdout",
     "output_type": "stream",
     "text": [
      "Fitting cell 10\n",
      "\tNLL is 2.85954 and model parameters are:\n",
      "(64.985489, 2.0237868, 2.9167612, 1.9750907, 0.79142463, -2.0382315e-06, -0.17322469, 1.0996882, 332.92856, 3.1106845e-07, 0.33681932, 0.41030523, -0.34982201)\n",
      "Fitting cell 11\n"
     ]
    },
    {
     "ename": "KeyboardInterrupt",
     "evalue": "",
     "output_type": "error",
     "traceback": [
      "\u001b[0;31m---------------------------------------------------------------------------\u001b[0m",
      "\u001b[0;31mKeyboardInterrupt\u001b[0m                         Traceback (most recent call last)",
      "\u001b[0;32m<ipython-input-78-f372d59ff120>\u001b[0m in \u001b[0;36m<module>\u001b[0;34m()\u001b[0m\n\u001b[1;32m      4\u001b[0m \u001b[0;34m\u001b[0m\u001b[0m\n\u001b[1;32m      5\u001b[0m     \u001b[0mprint\u001b[0m\u001b[0;34m(\u001b[0m\u001b[0;34m'Fitting cell '\u001b[0m \u001b[0;34m+\u001b[0m \u001b[0mstr\u001b[0m\u001b[0;34m(\u001b[0m\u001b[0mi\u001b[0m\u001b[0;34m+\u001b[0m\u001b[0;36m1\u001b[0m\u001b[0;34m)\u001b[0m\u001b[0;34m)\u001b[0m\u001b[0;34m;\u001b[0m\u001b[0;34m\u001b[0m\u001b[0m\n\u001b[0;32m----> 6\u001b[0;31m     \u001b[0mNLL\u001b[0m\u001b[0;34m,\u001b[0m \u001b[0mparams\u001b[0m \u001b[0;34m=\u001b[0m \u001b[0mmodel_responses\u001b[0m\u001b[0;34m.\u001b[0m\u001b[0msetModel\u001b[0m\u001b[0;34m(\u001b[0m\u001b[0mi\u001b[0m\u001b[0;34m+\u001b[0m\u001b[0;36m1\u001b[0m\u001b[0;34m,\u001b[0m \u001b[0mnIter\u001b[0m\u001b[0;34m,\u001b[0m \u001b[0msubFrac\u001b[0m\u001b[0;34m)\u001b[0m\u001b[0;34m;\u001b[0m\u001b[0;34m\u001b[0m\u001b[0m\n\u001b[0m\u001b[1;32m      7\u001b[0m     \u001b[0mprint\u001b[0m\u001b[0;34m(\u001b[0m\u001b[0;34m'\\tNLL is '\u001b[0m \u001b[0;34m+\u001b[0m \u001b[0mstr\u001b[0m\u001b[0;34m(\u001b[0m\u001b[0mNLL\u001b[0m\u001b[0;34m)\u001b[0m \u001b[0;34m+\u001b[0m \u001b[0;34m' and model parameters are:'\u001b[0m\u001b[0;34m)\u001b[0m\u001b[0;34m\u001b[0m\u001b[0m\n\u001b[1;32m      8\u001b[0m     \u001b[0mprint\u001b[0m\u001b[0;34m(\u001b[0m\u001b[0mparams\u001b[0m\u001b[0;34m)\u001b[0m\u001b[0;34m;\u001b[0m\u001b[0;34m\u001b[0m\u001b[0m\n",
      "\u001b[0;32m/ser/1.2/p2/plevy/SF_diversity/sfDiv-OriModel/sfDiv-python/Analysis/tf-func/model_responses.py\u001b[0m in \u001b[0;36msetModel\u001b[0;34m(cellNum, fitIter, subsetFrac)\u001b[0m\n\u001b[1;32m    551\u001b[0m                 m.run(optimizer, feed_dict={ph_stimOr: subsetOr, ph_stimTf: subsetTf, ph_stimCo: subsetCo, \\\n\u001b[1;32m    552\u001b[0m                             \u001b[0mph_stimSf\u001b[0m\u001b[0;34m:\u001b[0m \u001b[0msubsetSf\u001b[0m\u001b[0;34m,\u001b[0m \u001b[0mph_stimPh\u001b[0m\u001b[0;34m:\u001b[0m \u001b[0msubsetPh\u001b[0m\u001b[0;34m,\u001b[0m \u001b[0mph_spikeCount\u001b[0m\u001b[0;34m:\u001b[0m \u001b[0msubsetSpikes\u001b[0m\u001b[0;34m,\u001b[0m\u001b[0;31m \u001b[0m\u001b[0;31m\\\u001b[0m\u001b[0;34m\u001b[0m\u001b[0m\n\u001b[0;32m--> 553\u001b[0;31m                             ph_stimDur: subsetDur, ph_normResp: subsetNormResp, ph_normCentSf: normCentSf});\n\u001b[0m\u001b[1;32m    554\u001b[0m \u001b[0;34m\u001b[0m\u001b[0m\n\u001b[1;32m    555\u001b[0m     \u001b[0;31m# Now get \"true\" model parameters and NLL\u001b[0m\u001b[0;34m\u001b[0m\u001b[0;34m\u001b[0m\u001b[0m\n",
      "\u001b[0;32m/users/plevy/anaconda3/lib/python3.6/site-packages/tensorflow/python/client/session.py\u001b[0m in \u001b[0;36mrun\u001b[0;34m(self, fetches, feed_dict, options, run_metadata)\u001b[0m\n\u001b[1;32m    765\u001b[0m     \u001b[0;32mtry\u001b[0m\u001b[0;34m:\u001b[0m\u001b[0;34m\u001b[0m\u001b[0m\n\u001b[1;32m    766\u001b[0m       result = self._run(None, fetches, feed_dict, options_ptr,\n\u001b[0;32m--> 767\u001b[0;31m                          run_metadata_ptr)\n\u001b[0m\u001b[1;32m    768\u001b[0m       \u001b[0;32mif\u001b[0m \u001b[0mrun_metadata\u001b[0m\u001b[0;34m:\u001b[0m\u001b[0;34m\u001b[0m\u001b[0m\n\u001b[1;32m    769\u001b[0m         \u001b[0mproto_data\u001b[0m \u001b[0;34m=\u001b[0m \u001b[0mtf_session\u001b[0m\u001b[0;34m.\u001b[0m\u001b[0mTF_GetBuffer\u001b[0m\u001b[0;34m(\u001b[0m\u001b[0mrun_metadata_ptr\u001b[0m\u001b[0;34m)\u001b[0m\u001b[0;34m\u001b[0m\u001b[0m\n",
      "\u001b[0;32m/users/plevy/anaconda3/lib/python3.6/site-packages/tensorflow/python/client/session.py\u001b[0m in \u001b[0;36m_run\u001b[0;34m(self, handle, fetches, feed_dict, options, run_metadata)\u001b[0m\n\u001b[1;32m    963\u001b[0m     \u001b[0;32mif\u001b[0m \u001b[0mfinal_fetches\u001b[0m \u001b[0;32mor\u001b[0m \u001b[0mfinal_targets\u001b[0m\u001b[0;34m:\u001b[0m\u001b[0;34m\u001b[0m\u001b[0m\n\u001b[1;32m    964\u001b[0m       results = self._do_run(handle, final_targets, final_fetches,\n\u001b[0;32m--> 965\u001b[0;31m                              feed_dict_string, options, run_metadata)\n\u001b[0m\u001b[1;32m    966\u001b[0m     \u001b[0;32melse\u001b[0m\u001b[0;34m:\u001b[0m\u001b[0;34m\u001b[0m\u001b[0m\n\u001b[1;32m    967\u001b[0m       \u001b[0mresults\u001b[0m \u001b[0;34m=\u001b[0m \u001b[0;34m[\u001b[0m\u001b[0;34m]\u001b[0m\u001b[0;34m\u001b[0m\u001b[0m\n",
      "\u001b[0;32m/users/plevy/anaconda3/lib/python3.6/site-packages/tensorflow/python/client/session.py\u001b[0m in \u001b[0;36m_do_run\u001b[0;34m(self, handle, target_list, fetch_list, feed_dict, options, run_metadata)\u001b[0m\n\u001b[1;32m   1013\u001b[0m     \u001b[0;32mif\u001b[0m \u001b[0mhandle\u001b[0m \u001b[0;32mis\u001b[0m \u001b[0;32mNone\u001b[0m\u001b[0;34m:\u001b[0m\u001b[0;34m\u001b[0m\u001b[0m\n\u001b[1;32m   1014\u001b[0m       return self._do_call(_run_fn, self._session, feed_dict, fetch_list,\n\u001b[0;32m-> 1015\u001b[0;31m                            target_list, options, run_metadata)\n\u001b[0m\u001b[1;32m   1016\u001b[0m     \u001b[0;32melse\u001b[0m\u001b[0;34m:\u001b[0m\u001b[0;34m\u001b[0m\u001b[0m\n\u001b[1;32m   1017\u001b[0m       return self._do_call(_prun_fn, self._session, handle, feed_dict,\n",
      "\u001b[0;32m/users/plevy/anaconda3/lib/python3.6/site-packages/tensorflow/python/client/session.py\u001b[0m in \u001b[0;36m_do_call\u001b[0;34m(self, fn, *args)\u001b[0m\n\u001b[1;32m   1020\u001b[0m   \u001b[0;32mdef\u001b[0m \u001b[0m_do_call\u001b[0m\u001b[0;34m(\u001b[0m\u001b[0mself\u001b[0m\u001b[0;34m,\u001b[0m \u001b[0mfn\u001b[0m\u001b[0;34m,\u001b[0m \u001b[0;34m*\u001b[0m\u001b[0margs\u001b[0m\u001b[0;34m)\u001b[0m\u001b[0;34m:\u001b[0m\u001b[0;34m\u001b[0m\u001b[0m\n\u001b[1;32m   1021\u001b[0m     \u001b[0;32mtry\u001b[0m\u001b[0;34m:\u001b[0m\u001b[0;34m\u001b[0m\u001b[0m\n\u001b[0;32m-> 1022\u001b[0;31m       \u001b[0;32mreturn\u001b[0m \u001b[0mfn\u001b[0m\u001b[0;34m(\u001b[0m\u001b[0;34m*\u001b[0m\u001b[0margs\u001b[0m\u001b[0;34m)\u001b[0m\u001b[0;34m\u001b[0m\u001b[0m\n\u001b[0m\u001b[1;32m   1023\u001b[0m     \u001b[0;32mexcept\u001b[0m \u001b[0merrors\u001b[0m\u001b[0;34m.\u001b[0m\u001b[0mOpError\u001b[0m \u001b[0;32mas\u001b[0m \u001b[0me\u001b[0m\u001b[0;34m:\u001b[0m\u001b[0;34m\u001b[0m\u001b[0m\n\u001b[1;32m   1024\u001b[0m       \u001b[0mmessage\u001b[0m \u001b[0;34m=\u001b[0m \u001b[0mcompat\u001b[0m\u001b[0;34m.\u001b[0m\u001b[0mas_text\u001b[0m\u001b[0;34m(\u001b[0m\u001b[0me\u001b[0m\u001b[0;34m.\u001b[0m\u001b[0mmessage\u001b[0m\u001b[0;34m)\u001b[0m\u001b[0;34m\u001b[0m\u001b[0m\n",
      "\u001b[0;32m/users/plevy/anaconda3/lib/python3.6/site-packages/tensorflow/python/client/session.py\u001b[0m in \u001b[0;36m_run_fn\u001b[0;34m(session, feed_dict, fetch_list, target_list, options, run_metadata)\u001b[0m\n\u001b[1;32m   1002\u001b[0m         return tf_session.TF_Run(session, options,\n\u001b[1;32m   1003\u001b[0m                                  \u001b[0mfeed_dict\u001b[0m\u001b[0;34m,\u001b[0m \u001b[0mfetch_list\u001b[0m\u001b[0;34m,\u001b[0m \u001b[0mtarget_list\u001b[0m\u001b[0;34m,\u001b[0m\u001b[0;34m\u001b[0m\u001b[0m\n\u001b[0;32m-> 1004\u001b[0;31m                                  status, run_metadata)\n\u001b[0m\u001b[1;32m   1005\u001b[0m \u001b[0;34m\u001b[0m\u001b[0m\n\u001b[1;32m   1006\u001b[0m     \u001b[0;32mdef\u001b[0m \u001b[0m_prun_fn\u001b[0m\u001b[0;34m(\u001b[0m\u001b[0msession\u001b[0m\u001b[0;34m,\u001b[0m \u001b[0mhandle\u001b[0m\u001b[0;34m,\u001b[0m \u001b[0mfeed_dict\u001b[0m\u001b[0;34m,\u001b[0m \u001b[0mfetch_list\u001b[0m\u001b[0;34m)\u001b[0m\u001b[0;34m:\u001b[0m\u001b[0;34m\u001b[0m\u001b[0m\n",
      "\u001b[0;31mKeyboardInterrupt\u001b[0m: "
     ]
    }
   ],
   "source": [
    "nIter = 25000;\n",
    "subFrac = 0.1;\n",
    "for i in range(9,40):\n",
    "    \n",
    "    print('Fitting cell ' + str(i+1));\n",
    "    NLL, params = model_responses.setModel(i+1, nIter, subFrac);\n",
    "    print('\\tNLL is ' + str(NLL) + ' and model parameters are:')\n",
    "    print(params);"
   ]
  },
  {
   "cell_type": "code",
   "execution_count": null,
   "metadata": {
    "collapsed": true
   },
   "outputs": [],
   "source": []
  },
  {
   "cell_type": "code",
   "execution_count": 20,
   "metadata": {
    "collapsed": false
   },
   "outputs": [],
   "source": [
    "data = numpy.load(loc_pyData + 'dataList.npy');\n",
    "dataList = data.item();\n",
    "dataNames = dataList['unitName'];\n",
    "\n",
    "S = numpy.load(loc_pyData + dataNames[4] + '_sfm.npy').item();\n",
    "params = S['sfm']['mod']['fit']['params'];"
   ]
  },
  {
   "cell_type": "code",
   "execution_count": 63,
   "metadata": {
    "collapsed": false
   },
   "outputs": [],
   "source": [
    "ph_stimOr = tf.placeholder(tf.float32);\n",
    "to_rad = tf.constant(numpy.pi, tf.float32)/180;\n",
    "prefOr = tf.Variable(tf.zeros(1));\n",
    "\n",
    "stimOr = ph_stimOr * to_rad;\n",
    "diffOr = tf.subtract(prefOr, stimOr);\n",
    "o_stepZero = tf.cos(diffOr);"
   ]
  },
  {
   "cell_type": "code",
   "execution_count": 64,
   "metadata": {
    "collapsed": true
   },
   "outputs": [],
   "source": [
    "m = tf.Session();\n",
    "m.run(tf.global_variables_initializer());\n",
    "grd = tf.gradients(o_stepZero, prefOr);"
   ]
  },
  {
   "cell_type": "code",
   "execution_count": 89,
   "metadata": {
    "collapsed": false
   },
   "outputs": [
    {
     "name": "stdout",
     "output_type": "stream",
     "text": [
      "[array([-5105.12792969], dtype=float32)]\n"
     ]
    }
   ],
   "source": [
    "print(m.run(grd, feed_dict = {ph_stimOr: fixedOri}));"
   ]
  },
  {
   "cell_type": "code",
   "execution_count": 72,
   "metadata": {
    "collapsed": false
   },
   "outputs": [],
   "source": [
    "myOri = numpy.vstack(S['sfm']['exp']['trial']['ori']);"
   ]
  },
  {
   "cell_type": "code",
   "execution_count": 81,
   "metadata": {
    "collapsed": true
   },
   "outputs": [],
   "source": [
    "mask = numpy.isnan(numpy.sum(myOri, 0));"
   ]
  },
  {
   "cell_type": "code",
   "execution_count": 84,
   "metadata": {
    "collapsed": false
   },
   "outputs": [],
   "source": [
    "fixedOri = myOri[:,~mask]"
   ]
  },
  {
   "cell_type": "code",
   "execution_count": null,
   "metadata": {
    "collapsed": true
   },
   "outputs": [],
   "source": []
  },
  {
   "cell_type": "code",
   "execution_count": null,
   "metadata": {
    "collapsed": false
   },
   "outputs": [],
   "source": [
    "aight['respModel'][1499]"
   ]
  },
  {
   "cell_type": "code",
   "execution_count": 68,
   "metadata": {
    "collapsed": false
   },
   "outputs": [],
   "source": [
    "data = numpy.load(loc_pyData + 'dataList.npy');\n",
    "dataList = data.item();\n",
    "dataNames = dataList['unitName'];\n",
    "\n",
    "S = numpy.load(loc_pyData + dataNames[23] + '_sfm.npy').item();\n",
    "params = S['sfm']['mod']['fit']['params'];"
   ]
  },
  {
   "cell_type": "code",
   "execution_count": null,
   "metadata": {
    "collapsed": false
   },
   "outputs": [],
   "source": [
    "S['sfm']['mod']['normalization']"
   ]
  },
  {
   "cell_type": "code",
   "execution_count": null,
   "metadata": {
    "collapsed": false
   },
   "outputs": [],
   "source": [
    "S['sfm']['mod']['normalization']['normResp'].shape"
   ]
  },
  {
   "cell_type": "code",
   "execution_count": null,
   "metadata": {
    "collapsed": false
   },
   "outputs": [],
   "source": [
    "muCenterPref = [];\n",
    "normPrefSf = S['sfm']['mod']['normalization']['pref']['sf'];\n",
    "for iP in range(len(normPrefSf)):\n",
    "    muCenterPref = numpy.append(muCenterPref, numpy.log(normPrefSf[iP]) - numpy.mean(numpy.log(normPrefSf[iP])));"
   ]
  },
  {
   "cell_type": "code",
   "execution_count": null,
   "metadata": {
    "collapsed": false
   },
   "outputs": [],
   "source": [
    "muCenterPref.shape"
   ]
  },
  {
   "cell_type": "code",
   "execution_count": null,
   "metadata": {
    "collapsed": true
   },
   "outputs": [],
   "source": [
    "mCP = tf.expand_dims(mCP, axis=-1)"
   ]
  },
  {
   "cell_type": "code",
   "execution_count": null,
   "metadata": {
    "collapsed": false
   },
   "outputs": [],
   "source": [
    "mCP.shape"
   ]
  },
  {
   "cell_type": "code",
   "execution_count": null,
   "metadata": {
    "collapsed": false
   },
   "outputs": [],
   "source": [
    "hahah = S['sfm']['mod']['normalization']['normResp'] * mCP"
   ]
  },
  {
   "cell_type": "code",
   "execution_count": null,
   "metadata": {
    "collapsed": true
   },
   "outputs": [],
   "source": [
    "hhh = tf.reduce_sum(hahah, axis=1)"
   ]
  },
  {
   "cell_type": "code",
   "execution_count": null,
   "metadata": {
    "collapsed": true
   },
   "outputs": [],
   "source": [
    "aa = tf.sqrt(hhh);"
   ]
  },
  {
   "cell_type": "code",
   "execution_count": null,
   "metadata": {
    "collapsed": false
   },
   "outputs": [],
   "source": [
    "aone = 1*aa"
   ]
  },
  {
   "cell_type": "code",
   "execution_count": null,
   "metadata": {
    "collapsed": false
   },
   "outputs": [],
   "source": [
    "sincedayone = 10+aone"
   ]
  },
  {
   "cell_type": "code",
   "execution_count": null,
   "metadata": {
    "collapsed": false
   },
   "outputs": [],
   "source": [
    "booboo = tf.maximum(tf.constant(0, tf.float64), sincedayone)"
   ]
  },
  {
   "cell_type": "code",
   "execution_count": null,
   "metadata": {
    "collapsed": true
   },
   "outputs": [],
   "source": [
    "schoolwit = tf.reduce_mean(booboo, axis=1)"
   ]
  },
  {
   "cell_type": "code",
   "execution_count": null,
   "metadata": {
    "collapsed": false
   },
   "outputs": [],
   "source": [
    "schoolwit.shape"
   ]
  },
  {
   "cell_type": "code",
   "execution_count": null,
   "metadata": {
    "collapsed": false
   },
   "outputs": [],
   "source": [
    "m = tf.Session();\n",
    "hearhear = m.run(S['sfm']['mod']['normalization']['normResp'] / hahah);"
   ]
  },
  {
   "cell_type": "code",
   "execution_count": null,
   "metadata": {
    "collapsed": false
   },
   "outputs": [],
   "source": [
    "hearhear[1500,15,4]"
   ]
  },
  {
   "cell_type": "code",
   "execution_count": null,
   "metadata": {
    "collapsed": false
   },
   "outputs": [],
   "source": [
    "m.run(1/mCP[0,15,0])"
   ]
  },
  {
   "cell_type": "code",
   "execution_count": null,
   "metadata": {
    "collapsed": false
   },
   "outputs": [],
   "source": [
    "hmm = numpy.hstack(S['sfm']['mod']['normalization']['pref']['sf'])"
   ]
  },
  {
   "cell_type": "code",
   "execution_count": null,
   "metadata": {
    "collapsed": false
   },
   "outputs": [],
   "source": [
    "S['sfm']['exp']['trial'].keys()"
   ]
  },
  {
   "cell_type": "code",
   "execution_count": null,
   "metadata": {
    "collapsed": false
   },
   "outputs": [],
   "source": [
    "t_ph = tf.placeholder(tf.float32);\n",
    "z = model_responses.ph_test(t_ph, 0);\n",
    "\n",
    "m = tf.Session;\n",
    "m.run(z, {t_ph:S})"
   ]
  },
  {
   "cell_type": "code",
   "execution_count": null,
   "metadata": {
    "collapsed": false
   },
   "outputs": [],
   "source": [
    "a = model_responses.SFMGiveBof(params, S)"
   ]
  },
  {
   "cell_type": "code",
   "execution_count": null,
   "metadata": {
    "collapsed": true
   },
   "outputs": [],
   "source": []
  },
  {
   "cell_type": "code",
   "execution_count": null,
   "metadata": {
    "collapsed": true
   },
   "outputs": [],
   "source": []
  },
  {
   "cell_type": "code",
   "execution_count": null,
   "metadata": {
    "collapsed": true
   },
   "outputs": [],
   "source": [
    "k = 10; r = 20; p = 0.3;"
   ]
  },
  {
   "cell_type": "code",
   "execution_count": null,
   "metadata": {
    "collapsed": false
   },
   "outputs": [],
   "source": [
    "r_teef = tf.placeholder(tf.float32);\n",
    "p_teef = tf.placeholder(tf.float32);\n",
    "log_lh = model_responses.negBinom(k, r_teef, p_teef);\n",
    "\n",
    "#pdb.set_trace();\n",
    "\n",
    "sess = tf.Session();\n",
    "llh_tea = sess.run(log_lh, {r_teef: r, p_teef: p});\n",
    "print(llh_tea)"
   ]
  },
  {
   "cell_type": "code",
   "execution_count": null,
   "metadata": {
    "collapsed": false
   },
   "outputs": [],
   "source": [
    "import scipy.special as spsp\n",
    "from scipy.stats import binom, nbinom"
   ]
  },
  {
   "cell_type": "code",
   "execution_count": null,
   "metadata": {
    "collapsed": false
   },
   "outputs": [],
   "source": [
    "spsp.comb(k+r-1, k)*pow(1-p,k)*pow(p, r)"
   ]
  },
  {
   "cell_type": "code",
   "execution_count": null,
   "metadata": {
    "collapsed": false
   },
   "outputs": [],
   "source": [
    "numpy.log(nbinom.pmf(k, r, p))"
   ]
  },
  {
   "cell_type": "code",
   "execution_count": null,
   "metadata": {
    "collapsed": false
   },
   "outputs": [],
   "source": [
    "import math\n",
    "yoyo = tf.constant(math.pi)"
   ]
  },
  {
   "cell_type": "code",
   "execution_count": null,
   "metadata": {
    "collapsed": true
   },
   "outputs": [],
   "source": [
    "zed = a['NLL_numpy']"
   ]
  },
  {
   "cell_type": "code",
   "execution_count": null,
   "metadata": {
    "collapsed": false
   },
   "outputs": [],
   "source": [
    "zed/1560"
   ]
  },
  {
   "cell_type": "code",
   "execution_count": null,
   "metadata": {
    "collapsed": false
   },
   "outputs": [],
   "source": [
    "z = a['NLL']"
   ]
  },
  {
   "cell_type": "code",
   "execution_count": null,
   "metadata": {
    "collapsed": false
   },
   "outputs": [],
   "source": [
    "z"
   ]
  },
  {
   "cell_type": "code",
   "execution_count": null,
   "metadata": {
    "collapsed": false
   },
   "outputs": [],
   "source": [
    "holla = tf.add(tf.reduce_mean(z), 1300)"
   ]
  },
  {
   "cell_type": "code",
   "execution_count": null,
   "metadata": {
    "collapsed": true
   },
   "outputs": [],
   "source": [
    "m = tf.Session();"
   ]
  },
  {
   "cell_type": "code",
   "execution_count": null,
   "metadata": {
    "collapsed": false
   },
   "outputs": [],
   "source": [
    "m.run(z)"
   ]
  },
  {
   "cell_type": "code",
   "execution_count": null,
   "metadata": {
    "collapsed": false
   },
   "outputs": [],
   "source": [
    "numpy.mean(z)"
   ]
  },
  {
   "cell_type": "code",
   "execution_count": null,
   "metadata": {
    "collapsed": false
   },
   "outputs": [],
   "source": [
    "print(sess.run([node1, node2]))"
   ]
  },
  {
   "cell_type": "code",
   "execution_count": null,
   "metadata": {
    "collapsed": true
   },
   "outputs": [],
   "source": [
    "node3 = tf.add(node1, node2);"
   ]
  },
  {
   "cell_type": "code",
   "execution_count": null,
   "metadata": {
    "collapsed": false
   },
   "outputs": [],
   "source": [
    "print(sess.run(node3))"
   ]
  },
  {
   "cell_type": "code",
   "execution_count": null,
   "metadata": {
    "collapsed": true
   },
   "outputs": [],
   "source": [
    "node3 = pow(node1, node2);"
   ]
  },
  {
   "cell_type": "code",
   "execution_count": null,
   "metadata": {
    "collapsed": true
   },
   "outputs": [],
   "source": [
    "from scipy.stats import nbinom"
   ]
  },
  {
   "cell_type": "code",
   "execution_count": null,
   "metadata": {
    "collapsed": false
   },
   "outputs": [],
   "source": [
    "tf.contrib.distributions"
   ]
  },
  {
   "cell_type": "code",
   "execution_count": null,
   "metadata": {
    "collapsed": true
   },
   "outputs": [],
   "source": [
    "def negBinom(x, r, p):\n",
    "    # We assume that r & p are tf placeholders...\n",
    "    node1 = tf.pow(p, x);\n",
    "    node2 = tf.pow(1-p, r);\n",
    "    \n",
    "    return tf.multiply(node1, node2);"
   ]
  },
  {
   "cell_type": "code",
   "execution_count": null,
   "metadata": {
    "collapsed": false
   },
   "outputs": [],
   "source": [
    "r_tf = tf.placeholder(tf.float32);\n",
    "p_tf = tf.placeholder(tf.float32);\n",
    "k_tf = tf.placeholder(tf.float32);\n",
    "#log_lh = negBinom(k_tf, r_tf, p_tf);\n",
    "#log_lh = nbinom.pmf(k_tf, r_tf, p_tf);"
   ]
  },
  {
   "cell_type": "code",
   "execution_count": null,
   "metadata": {
    "collapsed": false
   },
   "outputs": [],
   "source": [
    "respModel = 80*numpy.random.rand(1560);\n",
    "varGain = 0.1;\n",
    "mu  = numpy.maximum(.01, S['sfm']['exp']['trial']['duration']*respModel); # The predicted mean spike count; respModel[iR]\n",
    "var = mu + (varGain*pow(mu,2));                        # The corresponding variance of the spike count\n",
    "r   = pow(mu,2)/(var - mu);                           # The parameters r and p of the negative binomial distribution\n",
    "p   = r/(r + mu);"
   ]
  },
  {
   "cell_type": "code",
   "execution_count": null,
   "metadata": {
    "collapsed": false
   },
   "outputs": [],
   "source": [
    "sess = tf.Session();\n",
    "#zed = sess.run(log_lh, {k_tf: S['sfm']['exp']['trial']['spikeCount'], p_tf:p, r_tf:r})\n",
    "zed = sess.run(log_lh, {k_tf: S['sfm']['exp']['trial']['spikeCount'], p_tf:0.5, r_tf:10})"
   ]
  },
  {
   "cell_type": "code",
   "execution_count": null,
   "metadata": {
    "collapsed": false
   },
   "outputs": [],
   "source": [
    "zed"
   ]
  },
  {
   "cell_type": "code",
   "execution_count": null,
   "metadata": {
    "collapsed": true
   },
   "outputs": [],
   "source": []
  },
  {
   "cell_type": "code",
   "execution_count": null,
   "metadata": {
    "collapsed": true
   },
   "outputs": [],
   "source": [
    "# Define model\n",
    "W = tf.Variable([.3], tf.float32)\n",
    "b = tf.Variable([-.3], tf.float32)\n",
    "x = tf.placeholder(tf.float32)\n",
    "linear_model = W * x + b\n",
    "\n",
    "# Initialize\n",
    "init = tf.global_variables_initializer()\n",
    "sess.run(init)"
   ]
  },
  {
   "cell_type": "code",
   "execution_count": null,
   "metadata": {
    "collapsed": false
   },
   "outputs": [],
   "source": [
    "# run the jewels\n",
    "y = tf.placeholder(tf.float32)\n",
    "squared_deltas = tf.square(linear_model - y)\n",
    "\n",
    "loss = tf.reduce_sum(squared_deltas)\n",
    "print(sess.run(loss, {x:[1,2,3,4], y:[0,-1,-2,-3]}))"
   ]
  },
  {
   "cell_type": "code",
   "execution_count": null,
   "metadata": {
    "collapsed": true
   },
   "outputs": [],
   "source": [
    "# set up actual learning\n",
    "optimizer = tf.train.GradientDescentOptimizer(0.01) # 0.01 is learning rate\n",
    "train = optimizer.minimize(loss)"
   ]
  },
  {
   "cell_type": "code",
   "execution_count": null,
   "metadata": {
    "collapsed": false
   },
   "outputs": [],
   "source": [
    "# RTF for real\n",
    "sess.run(init) # reset values to incorrect defaults.\n",
    "for i in range(1000):\n",
    "  sess.run(train, {x:[1,2,3,4], y:[0,-1,-2,-3]})\n",
    "\n",
    "print(sess.run([W, b]))"
   ]
  },
  {
   "cell_type": "code",
   "execution_count": null,
   "metadata": {
    "collapsed": true
   },
   "outputs": [],
   "source": []
  }
 ],
 "metadata": {
  "kernelspec": {
   "display_name": "Python 3",
   "language": "python",
   "name": "python3"
  },
  "language_info": {
   "codemirror_mode": {
    "name": "ipython",
    "version": 3
   },
   "file_extension": ".py",
   "mimetype": "text/x-python",
   "name": "python",
   "nbconvert_exporter": "python",
   "pygments_lexer": "ipython3",
   "version": "3.6.0"
  }
 },
 "nbformat": 4,
 "nbformat_minor": 2
}
