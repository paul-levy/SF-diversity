{
 "cells": [
  {
   "cell_type": "markdown",
   "metadata": {},
   "source": [
    "# Descriptive fit analysis"
   ]
  },
  {
   "cell_type": "markdown",
   "metadata": {},
   "source": [
    "### Here, I'll look at the descriptive fits to both experimental and simulated/model data to read off and analyze SF tuning properties"
   ]
  },
  {
   "cell_type": "code",
   "execution_count": 1,
   "metadata": {
    "collapsed": false
   },
   "outputs": [],
   "source": [
    "import numpy as np\n",
    "import os\n",
    "import helper_fcns as hfunc\n",
    "from scipy.stats.mstats import gmean\n",
    "import autoreload\n",
    "import matplotlib.pyplot as plt\n",
    "plt.style.use('https://raw.githubusercontent.com/paul-levy/SF_diversity/master/Analysis/Functions/paul_plt_style.mplstyle');\n",
    "import matplotlib.backends.backend_pdf as pltSave\n",
    "%matplotlib inline\n",
    "\n",
    "save_loc = '/Users/paulgerald/work/sfDiversity/sfDiv-OriModel/sfDiv-python/Analysis/Figures/'; # local\n",
    "data_loc = '/Users/paulgerald/work/sfDiversity/sfDiv-OriModel/sfDiv-python/Analysis/Structures/'; # local\n",
    "# save_loc = '/users/plevy/SF_diversity/sfDiv-OriModel/sfDiv-python/Analysis/Figures/'; # CNS\n",
    "# data_loc = '/users/plevy/SF_diversity/sfDiv-OriModel/sfDiv-python/Analysis/Structures/'; # CNS\n",
    "expName = 'dataList.npy';\n",
    "fitName = 'fitList_180430_LR_sqrt.npy';\n",
    "descrName = 'descrFits.npy';\n",
    "descrModName = 'descrFitsModel.npy';\n",
    "respName = 'respAboveBase.npy';\n",
    "\n",
    "muLoc = 2; # mu is in location '2' of parameter arrays"
   ]
  },
  {
   "cell_type": "code",
   "execution_count": 2,
   "metadata": {
    "collapsed": true
   },
   "outputs": [],
   "source": [
    "from matplotlib import rcParams\n",
    "rcParams['font.family'] = 'sans-serif'\n",
    "rcParams['font.sans-serif'] = ['Helvetica']\n",
    "rcParams['font.style'] = 'oblique'\n",
    "rcParams['font.size'] = 20;\n",
    "rcParams['pdf.fonttype'] = 3 # should be 42, but there are kerning issues\n",
    "rcParams['ps.fonttype'] = 3 # should be 42, but there are kerning issues"
   ]
  },
  {
   "cell_type": "code",
   "execution_count": 3,
   "metadata": {
    "collapsed": true
   },
   "outputs": [],
   "source": [
    "nCells = 59;\n",
    "nFamilies = 5;\n",
    "nCons = 2;\n",
    "\n",
    "useLowRespCut = 1; # should you filter the data based on analysis in \"Considering responsivity...\"\n",
    "\n",
    "height = 3/4; # measure BW at half-height\n",
    "sf_range = [0.01, 10]; # allowed values of 'mu' for fits - see descr_fit.py for details"
   ]
  },
  {
   "cell_type": "code",
   "execution_count": 4,
   "metadata": {
    "collapsed": false
   },
   "outputs": [],
   "source": [
    "dataList = np.load(data_loc + expName, encoding='latin1').item();\n",
    "respAbBase = np.load(data_loc + respName, encoding='latin1')"
   ]
  },
  {
   "cell_type": "code",
   "execution_count": 5,
   "metadata": {
    "collapsed": false
   },
   "outputs": [],
   "source": [
    "descrExp = np.load(data_loc + descrName, encoding='latin1').item()\n",
    "descrMod = np.load(data_loc + descrModName, encoding='latin1').item()"
   ]
  },
  {
   "cell_type": "code",
   "execution_count": 6,
   "metadata": {
    "collapsed": true
   },
   "outputs": [],
   "source": [
    "modParams = np.load(data_loc + fitName, encoding='latin1').item();"
   ]
  },
  {
   "cell_type": "markdown",
   "metadata": {},
   "source": [
    "### Get bandwidth/prefSf measures organized"
   ]
  },
  {
   "cell_type": "code",
   "execution_count": 7,
   "metadata": {
    "collapsed": true
   },
   "outputs": [],
   "source": [
    "bwMod = np.zeros((nCells, nFamilies, nCons)) * np.nan;\n",
    "bwExp = np.zeros((nCells, nFamilies, nCons)) * np.nan;\n",
    "\n",
    "pSfMod = np.zeros((nCells, nFamilies, nCons)) * np.nan;\n",
    "pSfExp = np.zeros((nCells, nFamilies, nCons)) * np.nan;"
   ]
  },
  {
   "cell_type": "code",
   "execution_count": 8,
   "metadata": {
    "collapsed": false
   },
   "outputs": [],
   "source": [
    "for i in descrExp:\n",
    "    for f in range(nFamilies):\n",
    "        \n",
    "        if i in descrMod:\n",
    "            ignore, bwMod[i, f, 0] = hfunc.compute_SF_BW(descrMod[i]['params'][f, 0, :], height, sf_range)\n",
    "            ignore, bwMod[i, f, 1] = hfunc.compute_SF_BW(descrMod[i]['params'][f, 1, :], height, sf_range)\n",
    "            pSfMod[i, f, 0] = descrMod[i]['params'][f, 0, muLoc]\n",
    "            pSfMod[i, f, 1] = descrMod[i]['params'][f, 1, muLoc]\n",
    "\n",
    "        if i in descrExp:\n",
    "            ignore, bwExp[i, f, 0] = hfunc.compute_SF_BW(descrExp[i]['params'][f, 0, :], height, sf_range)\n",
    "            ignore, bwExp[i, f, 1] = hfunc.compute_SF_BW(descrExp[i]['params'][f, 1, :], height, sf_range)\n",
    "            pSfExp[i, f, 0] = descrExp[i]['params'][f, 0, muLoc]\n",
    "            pSfExp[i, f, 1] = descrExp[i]['params'][f, 1, muLoc]"
   ]
  },
  {
   "cell_type": "code",
   "execution_count": 9,
   "metadata": {
    "collapsed": true
   },
   "outputs": [],
   "source": [
    "bwDiffMod = bwMod[:, :, 0] - bwMod[:,:,1]\n",
    "bwDiffExp = bwExp[:, :, 0] - bwExp[:,:,1]\n",
    "\n",
    "pSfRatioMod = pSfMod[:, :, 0] / pSfMod[:,:,1]\n",
    "pSfRatioExp = pSfExp[:, :, 0] / pSfExp[:,:,1]"
   ]
  },
  {
   "cell_type": "markdown",
   "metadata": {
    "collapsed": true
   },
   "source": [
    "### Considering responsivity at low contrast & high dispersion"
   ]
  },
  {
   "cell_type": "markdown",
   "metadata": {},
   "source": [
    "Inspired by chats with Najib, I should ensure that the effect of dispersion on contrast dependent shifts holds if we look only at cells with meaningful responses at the low contrast, maximal dispersion case."
   ]
  },
  {
   "cell_type": "code",
   "execution_count": 10,
   "metadata": {
    "collapsed": true
   },
   "outputs": [],
   "source": [
    "crit = 0; # 0 - peak crit, 1 - ratio crit\n",
    "\n",
    "peakCrit = 3; # i.e. cells with maximum response at low con/high disp condition below this won't be counted\n",
    "# ratCrit = 0.075; # i.e. cells whose sum of responses '''''' as a fraction of the same at high con/low disp won't be counted"
   ]
  },
  {
   "cell_type": "code",
   "execution_count": 11,
   "metadata": {
    "collapsed": false
   },
   "outputs": [],
   "source": [
    "nCells = len(dataList['unitName']);\n",
    "peaks = np.zeros((nCells, 2)); # do (, 2) so we can compare high con/low disp to low con/high disp\n",
    "sums = np.zeros((nCells, 2));\n",
    "\n",
    "for c in range(nCells):\n",
    "    responses = respAbBase[c, :, :, :];\n",
    "    \n",
    "    peaks[c, 0] = np.amax(responses[0][0]); # peak response for single grating, high contrast\n",
    "    sums[c, 0] = np.sum(responses[0][0]);\n",
    "    \n",
    "    peaks[c, 1] = np.amax(responses[4][1]); # ' ' for maximum dispersion, low contrast\n",
    "    sums[c, 1] = np.sum(responses[4][1]);\n",
    "    \n",
    "rats = np.divide(sums[:, 1], sums[:, 0]);"
   ]
  },
  {
   "cell_type": "code",
   "execution_count": 12,
   "metadata": {
    "collapsed": false
   },
   "outputs": [],
   "source": [
    "if useLowRespCut:\n",
    "    # what's the criteri(a/on)?\n",
    "    if crit == 0:\n",
    "        keepCells = peaks[:, 1] > peakCrit;\n",
    "    elif crit == 1:\n",
    "        keepCells = rats > ratCrit;\n",
    "    \n",
    "    bwMod = bwMod[keepCells, :];\n",
    "    bwExp = bwExp[keepCells, :];\n",
    "    \n",
    "    pSfExp = pSfExp[keepCells, :];\n",
    "    pSfMod = pSfMod[keepCells, :];\n",
    "    \n",
    "    bwDiffMod = bwDiffMod[keepCells, :];\n",
    "    bwDiffExp = bwDiffExp[keepCells, :];\n",
    "\n",
    "    pSfRatioMod = pSfRatioMod[keepCells, :];\n",
    "    pSfRatioExp = pSfRatioExp[keepCells, :];"
   ]
  },
  {
   "cell_type": "markdown",
   "metadata": {},
   "source": [
    "## Overall statistics"
   ]
  },
  {
   "cell_type": "markdown",
   "metadata": {},
   "source": [
    "That is, plot the mean preferred frequency, bandwidth, etc"
   ]
  },
  {
   "cell_type": "code",
   "execution_count": null,
   "metadata": {
    "collapsed": false
   },
   "outputs": [],
   "source": [
    "data = [pSfExp, bwExp];\n",
    "dataStr = ['pSF (cpd)', 'oct-bw'];\n",
    "conStr = ['high', 'low'];\n",
    "# scaleStr = ['log', 'linear'];\n",
    "plt.figure(figsize=(20, 20))\n",
    "fontsz = 20;\n",
    "for i in range(len(data)):\n",
    "    \n",
    "    curr_data = data[i];\n",
    "    \n",
    "    for con in range(2):\n",
    "        plt.subplot(2, 2, 1+con+2*i)\n",
    "        not_nan = np.transpose(np.where(~np.isnan(curr_data[:, 0, con])));\n",
    "        plt.hist(curr_data[not_nan, 0, con], 15);\n",
    "        plt.xticks(fontsize=20); plt.yticks(fontsize=fontsz);\n",
    "        plt.xlabel('%s' % (dataStr[i]), fontsize=fontsz);\n",
    "        plt.ylabel('count', fontsize=fontsz);\n",
    "        plt.title('%s for single gratings %s con - median %.2f' % (dataStr[i], conStr[i], np.nanmedian(curr_data[:, 0, con])), fontsize=fontsz);\n",
    "    \n",
    "plt.tight_layout()"
   ]
  },
  {
   "cell_type": "code",
   "execution_count": null,
   "metadata": {
    "collapsed": false
   },
   "outputs": [],
   "source": [
    "disp = [0, 4];\n",
    "data = [pSfExp, bwExp];\n",
    "dataStr = ['pSF (cpd)', 'oct-bw'];\n",
    "scaleStr = ['log', 'linear'];\n",
    "plt.figure(figsize=(20, 20))\n",
    "fontsz = 20;\n",
    "\n",
    "\n",
    "for d in range(len(disp)):\n",
    "\n",
    "    for i in range(len(data)):\n",
    "\n",
    "        curr_data = data[i];\n",
    "\n",
    "        plt.subplot(2, 2, 1+i+2*d)\n",
    "        not_nan = np.transpose(np.where(~np.isnan(curr_data[:, disp[d], 0]) & ~np.isnan(curr_data[:, disp[d], 1])))\n",
    "        plt.plot(curr_data[not_nan, 0, 1], curr_data[not_nan, disp[d], 0], 'o');\n",
    "\n",
    "        plt_min = np.min(np.minimum(curr_data[not_nan, disp[d], 0], curr_data[not_nan, disp[d], 1]));\n",
    "        plt_max = np.max(np.maximum(curr_data[not_nan, disp[d], 0], curr_data[not_nan, disp[d], 1]));\n",
    "        plt.plot([plt_min, plt_max], [plt_min, plt_max], 'k--')\n",
    "\n",
    "        plt.xticks(fontsize=20); plt.yticks(fontsize=fontsz);\n",
    "        plt.xlabel('%s' % (dataStr[i]), fontsize=fontsz);\n",
    "        plt.ylabel('%s' % (dataStr[i]), fontsize=fontsz);\n",
    "        plt.title('%s for disp %d' % (dataStr[i], disp[d]+1), fontsize=fontsz);\n",
    "        plt.xscale(scaleStr[i]);\n",
    "        plt.yscale(scaleStr[i]);\n",
    "        plt.axis('equal')\n",
    "    \n",
    "plt.tight_layout()"
   ]
  },
  {
   "cell_type": "markdown",
   "metadata": {},
   "source": [
    "### Plot BW differences"
   ]
  },
  {
   "cell_type": "code",
   "execution_count": null,
   "metadata": {
    "collapsed": false
   },
   "outputs": [],
   "source": [
    "fig, allBW = plt.subplots(1, nFamilies, sharex='col', sharey='row', figsize=(25,8))\n",
    "\n",
    "allBW[0].set_ylabel('Number of cells', fontsize=15);\n",
    "binRange = (-5, 5)\n",
    "nBins = 15;\n",
    "binz = np.linspace(binRange[0], binRange[1], num=nBins);\n",
    "\n",
    "for fam in range(nFamilies):\n",
    "    validOnesExp = np.logical_and(bwDiffExp[:,fam]>-5, pSfRatioExp[:,fam]<5);\n",
    "    toConsider = bwDiffExp[validOnesExp, fam];\n",
    "    countz = allBW[fam].hist(toConsider, binz, alpha=1, rwidth=0.75);\n",
    "    \n",
    "    medianRatio = np.median(toConsider);\n",
    "    allBW[fam].hold;\n",
    "    \n",
    "    unity = allBW[fam].axvline(0, ls='--', color='k', linewidth=2);\n",
    "    medPt = allBW[fam].plot(medianRatio, np.amax(countz[0])+2, 'rv', markersize=10);\n",
    "    \n",
    "    allBW[fam].set_xlabel('Bandwidth difference (oct)', fontsize=15);\n",
    "    allBW[fam].set_xlim(binRange);\n",
    "    \n",
    "    allBW[fam].text(0.5, 1.01,'median = {:.3f}, {:.0f} cells, {:.0f} gt0'.format(medianRatio, sum(countz[0]), sum(bwDiffExp[:, fam]>=0)), horizontalalignment='center',\\\n",
    "                     transform=allBW[fam].transAxes, FontSize=15)\n",
    "    \n",
    "fig.legend((unity, medPt[0]), ('line of unity', 'median'), fontsize=15, loc='right');\n",
    "plt.suptitle('Bandwidth difference', fontsize=24);"
   ]
  },
  {
   "cell_type": "markdown",
   "metadata": {
    "collapsed": true
   },
   "source": [
    "### Plot pSf ratios"
   ]
  },
  {
   "cell_type": "code",
   "execution_count": null,
   "metadata": {
    "collapsed": false
   },
   "outputs": [],
   "source": [
    "fig, allpSf = plt.subplots(1, nFamilies, sharex='col', sharey='row', figsize=(25,8))\n",
    "\n",
    "allpSf[0].set_ylabel('Number of cells', fontsize=15)\n",
    "binRange = (-3, 3) # in log2 space...\n",
    "nBins = 15;\n",
    "binz = np.linspace(binRange[0], binRange[1], num=nBins)\n",
    "\n",
    "for fam in range(nFamilies):\n",
    "    validOnesExp = np.logical_and(pSfRatioExp[:,fam]>0, pSfRatioExp[:,fam]<10);\n",
    "    toConsider = np.log2(pSfRatioExp[validOnesExp, fam]);\n",
    "    countz = allpSf[fam].hist(toConsider, binz, alpha=1, rwidth=0.75)\n",
    "\n",
    "    medianRatio = np.median(toConsider);\n",
    "    allpSf[fam].hold\n",
    "\n",
    "    unity = allpSf[fam].axvline(0, ls='--', color='k', linewidth=2)\n",
    "    medPt = allpSf[fam].plot(medianRatio, np.amax(countz[0])+2, 'rv', markersize=10)\n",
    "    \n",
    "    allpSf[fam].set_xlabel('Log ratio of prefSf', fontsize=15)\n",
    "    allpSf[fam].set_xlim(binRange)\n",
    "    \n",
    "    allpSf[fam].text(0.5, 1.01,'median = {:.3f}, {:.0f} cells, {:.0f} gt1'.format(medianRatio, sum(countz[0]), sum(pSfRatioExp[:, fam]>1)), horizontalalignment='center',\\\n",
    "                     transform=allpSf[fam].transAxes, FontSize=15)\n",
    "    \n",
    "fig.legend((unity, medPt[0]), ('line of unity', 'median'), fontsize=15, loc='right');\n",
    "plt.suptitle('Preferred SF ratio', fontsize=24);"
   ]
  },
  {
   "cell_type": "markdown",
   "metadata": {},
   "source": [
    "### Nice plot just for single gratings"
   ]
  },
  {
   "cell_type": "code",
   "execution_count": 13,
   "metadata": {
    "collapsed": true
   },
   "outputs": [],
   "source": [
    "import seaborn as sns\n",
    "from matplotlib.ticker import FormatStrFormatter\n",
    "\n",
    "sns.set_style('ticks')"
   ]
  },
  {
   "cell_type": "code",
   "execution_count": 14,
   "metadata": {
    "collapsed": false
   },
   "outputs": [],
   "source": [
    "rcParams['xtick.major.size'] = 12\n",
    "rcParams['xtick.minor.size'] = 8\n",
    "rcParams['xtick.labelsize'] = 'x-large'\n",
    "\n",
    "rcParams['ytick.major.size'] = 12\n",
    "rcParams['ytick.minor.size'] = 8\n",
    "rcParams['ytick.labelsize'] = 'x-large'"
   ]
  },
  {
   "cell_type": "code",
   "execution_count": 15,
   "metadata": {
    "collapsed": true
   },
   "outputs": [],
   "source": [
    "from scipy.stats import norm as normpdf"
   ]
  },
  {
   "cell_type": "code",
   "execution_count": 16,
   "metadata": {
    "collapsed": false
   },
   "outputs": [
    {
     "data": {
      "image/png": "[encoded data removed]",
      "text/plain": [
       "<matplotlib.figure.Figure at 0x1107cfcf8>"
      ]
     },
     "metadata": {},
     "output_type": "display_data"
    }
   ],
   "source": [
    "fam = 0; # i.e. single gratings\n",
    "\n",
    "f, allpSf = plt.subplots(1, 1, figsize=(12,5))\n",
    "\n",
    "binRange = [-2.0, 2];\n",
    "nBins = 31;\n",
    "bins = np.geomspace(np.power(2, binRange[0]), np.power(2, binRange[1]), nBins);\n",
    "\n",
    "validOnesExp = np.logical_and(pSfRatioExp[:,fam]>0, pSfRatioExp[:,fam]<10);\n",
    "toConsider = pSfRatioExp[validOnesExp, fam];\n",
    "wghts = np.ones_like(toConsider)/float(len(toConsider));\n",
    "countz, _, _ = plt.hist(np.clip(toConsider, bins[0], bins[-1]), bins, alpha=1, rwidth=0.75, weights=wghts, color='r')\n",
    "unity = plt.axvline(1, ymin=0, ymax=0.5, ls='--', color='k')\n",
    "\n",
    "gmeanRatio = gmean(toConsider);\n",
    "stdz = np.std(np.log2(toConsider))\n",
    "std_as_ratio = stdz/gmeanRatio;\n",
    "gmnPt = plt.plot(gmeanRatio, 1.1*np.amax(countz), 'rv', markersize=15, label='$\\mu = %.2f \\pm %.0f$%%\\n$n = %d$' % (gmeanRatio, 100*std_as_ratio, len(toConsider)));\n",
    "plt.plot([np.power(2, -std_as_ratio)*gmeanRatio, np.power(2, std_as_ratio)*gmeanRatio], [0.7, 0.7], 'r-', linewidth=5);\n",
    "# plt.plot([(1-std_as_ratio)*gmeanRatio, (1+std_as_ratio)*gmeanRatio], [0.7, 0.7], 'r-', linewidth=5);\n",
    "\n",
    "plt.legend(frameon=False, fontsize=15, handlelength=0, loc='upper left');\n",
    "\n",
    "plt.xlabel('Ratio of preferred frequency', fontsize='x-large')\n",
    "plt.xlim([bins[0], bins[-1]])\n",
    "plt.xscale('log', basex=2)\n",
    "plt.ylim([0, .7])\n",
    "\n",
    "allpSf.xaxis.set_major_formatter(FormatStrFormatter('%.2f'))\n",
    "\n",
    "plt.ylabel('Proportion of cells', fontsize='x-large')\n",
    "\n",
    "sns.despine(offset=15)\n",
    "f.subplots_adjust(bottom=0.2, left=0.1);\n",
    "\n",
    "saveName = \"/prefSf_v1.pdf\"\n",
    "full_save = os.path.dirname(save_loc);\n",
    "if not os.path.exists(full_save):\n",
    "    os.makedirs(full_save)\n",
    "pdfSv = pltSave.PdfPages(full_save + saveName);\n",
    "pdfSv.savefig(f) # only one figure here...\n",
    "pdfSv.close()"
   ]
  },
  {
   "cell_type": "markdown",
   "metadata": {},
   "source": [
    "\"Imported\" characteristic frequencies from the LGN dataset (for 3rd year talk; early-mid October, 2018)"
   ]
  },
  {
   "cell_type": "code",
   "execution_count": 24,
   "metadata": {
    "collapsed": false
   },
   "outputs": [],
   "source": [
    "lgn_charFreq = [1.0020451737501732,\n",
    " 1.0206556734821166,\n",
    " 1.0257681309942968,\n",
    " 1.04480874143425,\n",
    " 1.0000000165613674,\n",
    " 1.027137394071815,\n",
    " 1.037631054868214,\n",
    " 1.08396854127822,\n",
    " 1.00001257163969,\n",
    " 0.9999980090339309,\n",
    " 1.0519356235443083,\n",
    " 1.0936839960176619,\n",
    " 1.0003166344527543,\n",
    " 0.9564302135458911,\n",
    " 1.0033907306187635,\n",
    " 1.212693120340718,\n",
    " 1.0333203056368454,\n",
    " 1.1935486130772168,\n",
    " 1.1619733754350887,\n",
    " 1.2184740928804894,\n",
    " 0.9988305540449457,\n",
    " 1.1837072043400947,\n",
    " 1.1356436666284924,\n",
    " 2.9006418155334814,\n",
    " 1.4746481972195455,\n",
    " 1.0596841709560518,\n",
    " 1.0095553647533309,\n",
    " 1.0000000075798183,\n",
    " 1.2968888714737625,\n",
    " 1.0465686567933,\n",
    " 1.1394417646254775,\n",
    " 1.0192137069261848,\n",
    " 1.2841141410283319,\n",
    " 0.839166213863962,\n",
    " 0.8744343531054689,\n",
    " 1.5501803852669327,\n",
    " 1.049637210506345,\n",
    " 0.5439252203168028,\n",
    " 0.7733022737395222,\n",
    " 1.1060521853816636,\n",
    " 0.7169208761024872,\n",
    " 0.7766654036335691,\n",
    " 0.8435748796878028,\n",
    " 0.802552853552545,\n",
    " 0.861311395020923,\n",
    " 1.0572338326266482,\n",
    " 1.091777878359758,\n",
    " 1.212658767225073,\n",
    " 0.8747744742343209,\n",
    " 0.870496989888369,\n",
    " 1.2325501298692372,\n",
    " 0.9691747527973583]"
   ]
  },
  {
   "cell_type": "code",
   "execution_count": 25,
   "metadata": {
    "collapsed": true
   },
   "outputs": [],
   "source": [
    "from scipy.stats import ks_2samp"
   ]
  },
  {
   "cell_type": "code",
   "execution_count": 31,
   "metadata": {
    "collapsed": false
   },
   "outputs": [
    {
     "data": {
      "text/plain": [
       "Ks_2sampResult(statistic=0.8994350282485876, pvalue=2.196750918325969e-19)"
      ]
     },
     "execution_count": 31,
     "metadata": {},
     "output_type": "execute_result"
    }
   ],
   "source": [
    "# comparing the distributions - LGN vs V1...\n",
    "ks_2samp(rats, toConsider)"
   ]
  },
  {
   "cell_type": "markdown",
   "metadata": {},
   "source": [
    "### Relationship between prefSf and sfBW (octaves)"
   ]
  },
  {
   "cell_type": "code",
   "execution_count": null,
   "metadata": {
    "collapsed": false
   },
   "outputs": [],
   "source": [
    "fig, prefVbw = plt.subplots(2, 2, figsize = (12, 12));\n",
    "\n",
    "pSfLow = pSfExp[:, 0, 0]; # pSf at low dispersion, high contrast\n",
    "pSfHigh = pSfExp[:, 4, 0]; # pSf at high dispersion, high contrast\n",
    "\n",
    "sfBwLow = bwExp[:, 0, 0]; # pSf at low dispersion, high contrast\n",
    "sfBwHigh = bwExp[:, 4, 0]; # pSf at high dispersion, high contrast\n",
    "\n",
    "# Low versus Low\n",
    "prefVbw[0, 0].semilogx(pSfLow, sfBwLow, 'o', mec='white');\n",
    "prefVbw[0, 0].set_xlabel('preferred SF (cpd)');\n",
    "prefVbw[0, 0].set_ylabel('bandwidth (oct)');\n",
    "prefVbw[0, 0].set_title('Low dispersion');\n",
    "\n",
    "# Low versus High\n",
    "prefVbw[1, 0].semilogx(pSfLow, sfBwHigh, 'o', mec='white');\n",
    "prefVbw[1, 0].set_xlabel('preferred SF (cpd)');\n",
    "prefVbw[1, 0].set_ylabel('bandwidth (oct)');\n",
    "prefVbw[1, 0].set_title('Low (x) vs. High (y) dispersion');\n",
    "\n",
    "# High versus Low\n",
    "prefVbw[0, 1].semilogx(pSfHigh, sfBwLow, 'o', mec='white');\n",
    "prefVbw[0, 1].set_xlabel('preferred SF (cpd)');\n",
    "prefVbw[0, 1].set_ylabel('bandwidth (oct)');\n",
    "prefVbw[0, 1].set_title('High (x) vs. Low (y) dispersion');\n",
    "\n",
    "# High versus high\n",
    "prefVbw[1, 1].semilogx(pSfHigh, sfBwHigh, 'o', mec='white');\n",
    "prefVbw[1, 1].set_xlabel('preferred SF (cpd)');\n",
    "prefVbw[1, 1].set_ylabel('bandwidth (oct)');\n",
    "prefVbw[1, 1].set_title('High dispersion');\n"
   ]
  },
  {
   "cell_type": "markdown",
   "metadata": {},
   "source": [
    "### Relationship between prefSf and sfBw (linear cpd)"
   ]
  },
  {
   "cell_type": "markdown",
   "metadata": {},
   "source": [
    "Just a sanity check for correlation between prefSf and linear bandwidth"
   ]
  },
  {
   "cell_type": "code",
   "execution_count": null,
   "metadata": {
    "collapsed": false
   },
   "outputs": [],
   "source": [
    "fig, prefVbw = plt.subplots(2, 2, figsize = (12, 12));\n",
    "\n",
    "pSfLow = pSfExp[:, 0, 0]; # pSf at low dispersion, high contrast\n",
    "pSfHigh = pSfExp[:, 4, 0]; # pSf at high dispersion, high contrast\n",
    "\n",
    "sfBwLow = bwExp[:, 0, 0]; # pSf at low dispersion, high contrast\n",
    "sfBwHigh = bwExp[:, 4, 0]; # pSf at high dispersion, high contrast\n",
    "\n",
    "linLow = hfunc.bw_log_to_lin(sfBwLow, pSfLow);\n",
    "linHigh = hfunc.bw_log_to_lin(sfBwHigh, pSfHigh);\n",
    "\n",
    "# Low versus Low\n",
    "prefVbw[0, 0].plot(pSfLow, linLow[0], 'o', mec='white');\n",
    "prefVbw[0, 0].set_xlabel('preferred SF (cpd)');\n",
    "prefVbw[0, 0].set_ylabel('bandwidth (cpd)');\n",
    "prefVbw[0, 0].set_title('Low dispersion');\n",
    "\n",
    "# Low versus High\n",
    "prefVbw[1, 0].plot(pSfLow, linHigh[0], 'o', mec='white');\n",
    "prefVbw[1, 0].set_xlabel('preferred SF (cpd)');\n",
    "prefVbw[1, 0].set_ylabel('bandwidth (cpd)');\n",
    "prefVbw[1, 0].set_title('Low (x) vs. High (y) dispersion');\n",
    "\n",
    "# High versus Low\n",
    "prefVbw[0, 1].plot(pSfHigh, linLow[0], 'o', mec='white');\n",
    "prefVbw[0, 1].set_xlabel('preferred SF (cpd)');\n",
    "prefVbw[0, 1].set_ylabel('bandwidth (cpd)');\n",
    "prefVbw[0, 1].set_title('High (x) vs. Low (y) dispersion');\n",
    "\n",
    "# High versus high\n",
    "prefVbw[1, 1].plot(pSfHigh, linHigh[0], 'o', mec='white');\n",
    "prefVbw[1, 1].set_xlabel('preferred SF (cpd)');\n",
    "prefVbw[1, 1].set_ylabel('bandwidth (cpd)');\n",
    "prefVbw[1, 1].set_title('High dispersion');\n"
   ]
  },
  {
   "cell_type": "markdown",
   "metadata": {
    "collapsed": true
   },
   "source": [
    "### Correlations between preferred SF and ratio of pSf high/low"
   ]
  },
  {
   "cell_type": "code",
   "execution_count": null,
   "metadata": {
    "collapsed": false
   },
   "outputs": [],
   "source": [
    "fig, pSfCorr = plt.subplots(2, 2, figsize = (12, 12));\n",
    "\n",
    "pSfLow = pSfExp[:, 0, 0]; # pSf at low dispersion, high contrast\n",
    "pSfShiftLow = pSfRatioExp[:, 0]; # ratio of pSf at high/low contrast for low dispersion\n",
    "\n",
    "pSfHigh = pSfExp[:, 4, 0]; # pSf at high dispersion, high contrast\n",
    "pSfShiftHigh = pSfRatioExp[:, 4]; # ratio of pSf at high/low contrast for high dispersion\n",
    "\n",
    "# Low versus Low\n",
    "pSfCorr[0, 0].semilogx(pSfLow, pSfShiftLow, 'o', mec='white');\n",
    "pSfCorr[0, 0].set_xlabel('preferred SF (cpd)');\n",
    "pSfCorr[0, 0].set_ylabel('Ratio of pSf(High/Low)');\n",
    "pSfCorr[0, 0].set_title('Low dispersion');\n",
    "\n",
    "# Low versus High\n",
    "pSfCorr[1, 0].semilogx(pSfLow, pSfShiftHigh, 'o', mec='white');\n",
    "pSfCorr[1, 0].set_xlabel('preferred SF (cpd)');\n",
    "pSfCorr[1, 0].set_ylabel('Ratio of pSf(High/Low)');\n",
    "pSfCorr[1, 0].set_title('Low (x) vs. High (y) dispersion');\n",
    "\n",
    "# High versus Low\n",
    "pSfCorr[0, 1].semilogx(pSfHigh, pSfShiftLow, 'o', mec='white');\n",
    "pSfCorr[0, 1].set_xlabel('preferred SF (cpd)');\n",
    "pSfCorr[0, 1].set_ylabel('Ratio of pSf(High/Low)');\n",
    "pSfCorr[0, 1].set_title('High (x) vs. Low (y) dispersion');\n",
    "\n",
    "# High versus high\n",
    "pSfCorr[1, 1].semilogx(pSfHigh, pSfShiftHigh, 'o', mec='white');\n",
    "pSfCorr[1, 1].set_xlabel('preferred SF (cpd)');\n",
    "pSfCorr[1, 1].set_ylabel('Ratio of pSf(High/Low)');\n",
    "pSfCorr[1, 1].set_title('High dispersion');\n"
   ]
  },
  {
   "cell_type": "markdown",
   "metadata": {},
   "source": [
    "### Correlations between measured BW and difference of bandwidth high-low (oct)"
   ]
  },
  {
   "cell_type": "code",
   "execution_count": null,
   "metadata": {
    "collapsed": false
   },
   "outputs": [],
   "source": [
    "fig, sfBwCorr = plt.subplots(2, 2, figsize = (12, 12));\n",
    "\n",
    "sfBwLow = bwExp[:, 0, 0]; # pSf at low dispersion, high contrast\n",
    "sfBwShiftLow = bwDiffExp[:, 0]; # ratio of pSf at high/low contrast for low dispersion\n",
    "\n",
    "sfBwHigh = bwExp[:, 4, 0]; # pSf at high dispersion, high contrast\n",
    "sfBwShiftHigh = bwDiffExp[:, 4]; # ratio of pSf at high/low contrast for high dispersion\n",
    "\n",
    "# Low versus Low\n",
    "sfBwCorr[0, 0].plot(sfBwLow, sfBwShiftLow, 'o', mec='white');\n",
    "sfBwCorr[0, 0].set_xlabel('sfBw (oct)');\n",
    "sfBwCorr[0, 0].set_ylabel('Difference in  bw oct (High-Low)');\n",
    "sfBwCorr[0, 0].set_title('Low dispersion');\n",
    "\n",
    "# Low versus High\n",
    "sfBwCorr[1, 0].plot(sfBwLow, sfBwShiftHigh, 'o', mec='white');\n",
    "sfBwCorr[1, 0].set_xlabel('sfBw (oct)');\n",
    "sfBwCorr[1, 0].set_ylabel('Difference in  bw oct (High-Low)');\n",
    "sfBwCorr[1, 0].set_title('Low (x) vs. High (y) dispersion');\n",
    "\n",
    "# High versus Low\n",
    "sfBwCorr[0, 1].plot(sfBwHigh, sfBwShiftLow, 'o', mec='white');\n",
    "sfBwCorr[0, 1].set_xlabel('sfBw (oct)');\n",
    "sfBwCorr[0, 1].set_ylabel('Difference in  bw oct (High-Low)');\n",
    "sfBwCorr[0, 1].set_title('High (x) vs. Low (y) dispersion');\n",
    "\n",
    "# High versus high\n",
    "sfBwCorr[1, 1].plot(sfBwHigh, sfBwShiftHigh, 'o', mec='white');\n",
    "sfBwCorr[1, 1].set_xlabel('sfBw (oct)');\n",
    "sfBwCorr[1, 1].set_ylabel('Difference in  bw oct (High-Low)');\n",
    "sfBwCorr[1, 1].set_title('High dispersion');\n"
   ]
  },
  {
   "cell_type": "markdown",
   "metadata": {},
   "source": [
    "## SfN 2018?"
   ]
  },
  {
   "cell_type": "markdown",
   "metadata": {},
   "source": [
    "Quickly, on 5/3 (day of abstract deadline), let's see if the \"tuned\" normalization in the model accounts for the contrast-dependent shifts in SF tuning, and in exactly what way"
   ]
  },
  {
   "cell_type": "code",
   "execution_count": null,
   "metadata": {
    "collapsed": true
   },
   "outputs": [],
   "source": [
    "save_loc = '../Figures/SFN/'; save_name = 'cotuning.pdf';"
   ]
  },
  {
   "cell_type": "code",
   "execution_count": null,
   "metadata": {
    "collapsed": true
   },
   "outputs": [],
   "source": [
    "filterSF = 0; # where in parameter array\n",
    "normSF = -2; # where in parameter array"
   ]
  },
  {
   "cell_type": "markdown",
   "metadata": {},
   "source": [
    "What are the relative preferences of the filter and the normalization pool?"
   ]
  },
  {
   "cell_type": "code",
   "execution_count": null,
   "metadata": {
    "collapsed": false
   },
   "outputs": [],
   "source": [
    "filt_vals = np.zeros((len(modParams), 1));\n",
    "norm_vals = np.zeros((len(modParams), 1));\n",
    "ratios = np.zeros((len(modParams), 1));\n",
    "under_list = [];\n",
    "for i in modParams:\n",
    "    fv = modParams[i]['params'][filterSF];\n",
    "    nv = np.exp(modParams[i]['params'][normSF])\n",
    "    filt_vals[i] = fv;\n",
    "    norm_vals[i] = nv;\n",
    "    ratios[i] = nv/fv;\n",
    "    if nv < fv:\n",
    "        #print('cell %d' % (i+1))\n",
    "        under_list.append(i);\n",
    "\n",
    "sfn = plt.figure(figsize=(40, 10))\n",
    "\n",
    "y = plt.subplot(1, 3, 1);\n",
    "plt.loglog(filt_vals, norm_vals, 'b.');\n",
    "#plt.loglog(filt_vals[under_list], norm_vals[under_list], 'r.');\n",
    "plt.loglog([1e-2, 1e2], [1e-2, 1e2], 'k--');\n",
    "plt.xlabel('Filter preferred SF (cpd)', fontSize = 'large');\n",
    "plt.ylabel('Norm pool preferred SF (cpd)', fontSize = 'large');\n",
    "below_unity = np.sum(ratios<=1) / len(ratios)\n",
    "plt.title('Relationship between filter and normalization tuning - %.1f%% below unity' % (100*below_unity), fontSize = 'large');\n",
    "\n",
    "plt.subplot(1, 3, 2);\n",
    "plt.loglog(filt_vals, ratios, 'b.');\n",
    "plt.loglog([1e-2, 1e2], [1, 1], 'k--');\n",
    "plt.xlabel('Filter preferred SF (cpd)', fontSize = 'large');\n",
    "plt.ylabel('Ratio (norm/filter)', fontSize = 'large');\n",
    "gmRatio = gmean(ratios)\n",
    "plt.title('Relationship between filter and normalization tuning - geomean %.2f' % (gmRatio), fontSize = 'large');\n",
    "\n",
    "# as CDF\n",
    "cdf_rats = np.argsort(ratios.transpose())[0];\n",
    "plt.subplot(1, 3, 3);\n",
    "plt.semilogy(range(len(cdf_rats)), ratios[cdf_rats], 'b.');\n",
    "plt.semilogy([1, len(cdf_rats)], [1, 1], 'k--');\n",
    "plt.xlabel('Rank', fontSize = 'large');\n",
    "plt.ylabel('Ratio (norm/filter)', fontSize = 'large');\n",
    "gmRatio = gmean(ratios)\n",
    "plt.title('CDF of norm/filter ratios - geomean %.2f' % (gmRatio), fontSize = 'large');\n",
    "\n",
    "# save\n",
    "pdfSv = pltSave.PdfPages(str(save_loc + save_name));\n",
    "pdfSv.savefig(sfn)\n",
    "pdfSv.close();\n"
   ]
  },
  {
   "cell_type": "markdown",
   "metadata": {},
   "source": [
    "Next, list the cells in ascending order of ratio"
   ]
  },
  {
   "cell_type": "code",
   "execution_count": null,
   "metadata": {
    "collapsed": false
   },
   "outputs": [],
   "source": [
    "asc_rats = np.argsort(ratios.transpose());\n",
    "for i in range(len(asc_rats[0])):\n",
    "    print('%d: %.3f' % (asc_rats[0][i]+1, ratios[asc_rats[0][i]]))"
   ]
  }
 ],
 "metadata": {
  "kernelspec": {
   "display_name": "Python 3",
   "language": "python",
   "name": "python3"
  },
  "language_info": {
   "codemirror_mode": {
    "name": "ipython",
    "version": 3
   },
   "file_extension": ".py",
   "mimetype": "text/x-python",
   "name": "python",
   "nbconvert_exporter": "python",
   "pygments_lexer": "ipython3",
   "version": "3.6.0"
  }
 },
 "nbformat": 4,
 "nbformat_minor": 2
}
