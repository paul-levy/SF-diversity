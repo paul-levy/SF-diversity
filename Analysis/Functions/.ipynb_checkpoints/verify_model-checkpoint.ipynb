{
 "cells": [
  {
   "cell_type": "code",
   "execution_count": 1,
   "metadata": {
    "collapsed": true
   },
   "outputs": [],
   "source": [
    "import os"
   ]
  },
  {
   "cell_type": "code",
   "execution_count": 2,
   "metadata": {
    "collapsed": false
   },
   "outputs": [
    {
     "data": {
      "text/plain": [
       "'/e/3.2/p1/plevy/SF_diversity/sfDiv-OriModel/sfDiv-python/Analysis/Functions'"
      ]
     },
     "execution_count": 2,
     "metadata": {},
     "output_type": "execute_result"
    }
   ],
   "source": [
    "pwd"
   ]
  },
  {
   "cell_type": "code",
   "execution_count": null,
   "metadata": {
    "collapsed": false
   },
   "outputs": [],
   "source": [
    "os.chdir('/e/3.2/p1/plevy/SF_diversity/sfDiv-OriModel/sfDiv-python/Analysis/Functions');"
   ]
  },
  {
   "cell_type": "code",
   "execution_count": 3,
   "metadata": {
    "collapsed": false
   },
   "outputs": [],
   "source": [
    "import fitRealData"
   ]
  },
  {
   "cell_type": "code",
   "execution_count": 4,
   "metadata": {
    "collapsed": true
   },
   "outputs": [],
   "source": [
    "import makeStimulus\n",
    "import model_responses\n",
    "\n",
    "import matplotlib.pyplot as plt\n",
    "import autoreload\n",
    "import numpy\n",
    "%matplotlib inline\n",
    "\n",
    "# constants - directories\n",
    "loc_matData = '/e/3.2/p1/plevy/SF_diversity/sfDiv-OriModel/sfDiv/Analysis/Structures/';\n",
    "loc_pyData = '/e/3.2/p1/plevy/SF_diversity/sfDiv-OriModel/sfDiv-python/Analysis/Structures/';\n",
    "# loc_matData = '/Users/paulgerald/work/sfDiversity/sfDiv-OriModel/sfDiv/Analysis/Structures/';\n",
    "# loc_pyData = '/Users/paulgerald/work/sfDiversity/sfDiv-OriModel/sfDiv-python/Analysis/Structures/';"
   ]
  },
  {
   "cell_type": "code",
   "execution_count": 14,
   "metadata": {
    "collapsed": false
   },
   "outputs": [],
   "source": [
    "autoreload.reload(fitRealData)\n",
    "autoreload.reload(model_responses);"
   ]
  },
  {
   "cell_type": "code",
   "execution_count": null,
   "metadata": {
    "collapsed": false
   },
   "outputs": [],
   "source": [
    "data = numpy.load(loc_pyData + 'dataList.npy');\n",
    "dataList = data.item();\n",
    "dataNames = dataList['unitName'];"
   ]
  },
  {
   "cell_type": "code",
   "execution_count": 15,
   "metadata": {
    "collapsed": false
   },
   "outputs": [
    {
     "name": "stdout",
     "output_type": "stream",
     "text": [
      "\n",
      " \n",
      "\n",
      "Fitting model for m657r40\n",
      "Current best fit is 4173.446438706615\n",
      "> /e/3.2/p1/plevy/SF_diversity/sfDiv-OriModel/sfDiv-python/Analysis/Functions/fitRealData.py(130)fitRealData()\n",
      "-> opteemize = minimize(SFMGiveBof, startvalues, method='Nelder-Mead', maxiter=100, \\\n",
      "(Pdb) n\n",
      "> /e/3.2/p1/plevy/SF_diversity/sfDiv-OriModel/sfDiv-python/Analysis/Functions/fitRealData.py(131)fitRealData()\n",
      "-> args=(S,), options={'xtol': 1e-4, 'disp': True});\n",
      "(Pdb) n\n",
      "TypeError: minimize() got an unexpected keyword argument 'maxiter'\n",
      "> /e/3.2/p1/plevy/SF_diversity/sfDiv-OriModel/sfDiv-python/Analysis/Functions/fitRealData.py(131)fitRealData()\n",
      "-> args=(S,), options={'xtol': 1e-4, 'disp': True});\n",
      "(Pdb) q\n",
      "error, fit failed\n",
      "\n",
      " \n",
      "\n",
      "Fitting model for m657r40\n",
      "Current best fit is 4173.446438706615\n",
      "Previous fit statistics not found.\n",
      "> /e/3.2/p1/plevy/SF_diversity/sfDiv-OriModel/sfDiv-python/Analysis/Functions/fitRealData.py(129)fitRealData()\n",
      "-> pdb.set_trace();\n",
      "(Pdb) q\n",
      "error, fit failed\n",
      "\n",
      " \n",
      "\n",
      "Fitting model for m657r40\n",
      "Current best fit is 4173.446438706615\n",
      "Previous fit statistics not found.\n",
      "> /e/3.2/p1/plevy/SF_diversity/sfDiv-OriModel/sfDiv-python/Analysis/Functions/fitRealData.py(130)fitRealData()\n",
      "-> opteemize = minimize(SFMGiveBof, startvalues, method='Nelder-Mead', maxiter=100, \\\n",
      "(Pdb) q\n",
      "error, fit failed\n",
      "\n",
      " \n",
      "\n",
      "Fitting model for m657r40\n",
      "Current best fit is 4173.446438706615\n",
      "Previous fit statistics not found.\n",
      "> /e/3.2/p1/plevy/SF_diversity/sfDiv-OriModel/sfDiv-python/Analysis/Functions/fitRealData.py(129)fitRealData()\n",
      "-> pdb.set_trace();\n",
      "(Pdb) q\n",
      "error, fit failed\n",
      "\n",
      " \n",
      "\n",
      "Fitting model for m657r40\n",
      "Current best fit is 4173.446438706615\n",
      "Previous fit statistics not found.\n",
      "> /e/3.2/p1/plevy/SF_diversity/sfDiv-OriModel/sfDiv-python/Analysis/Functions/fitRealData.py(130)fitRealData()\n",
      "-> opteemize = minimize(SFMGiveBof, startvalues, method='Nelder-Mead', maxiter=100, \\\n",
      "(Pdb) q\n",
      "error, fit failed\n",
      "\n",
      " \n",
      "\n",
      "Fitting model for m657r40\n",
      "Current best fit is 4173.446438706615\n",
      "Previous fit statistics not found.\n",
      "> /e/3.2/p1/plevy/SF_diversity/sfDiv-OriModel/sfDiv-python/Analysis/Functions/fitRealData.py(129)fitRealData()\n",
      "-> pdb.set_trace();\n",
      "(Pdb) q\n",
      "error, fit failed\n",
      "\n",
      " \n",
      "\n",
      "Fitting model for m657r40\n",
      "Current best fit is 4173.446438706615\n",
      "Previous fit statistics not found.\n",
      "> /e/3.2/p1/plevy/SF_diversity/sfDiv-OriModel/sfDiv-python/Analysis/Functions/fitRealData.py(130)fitRealData()\n",
      "-> opteemize = minimize(SFMGiveBof, startvalues, method='Nelder-Mead', maxiter=100, \\\n",
      "(Pdb) q\n",
      "error, fit failed\n",
      "\n",
      " \n",
      "\n",
      "Fitting model for m657r40\n",
      "Current best fit is 4173.446438706615\n",
      "Previous fit statistics not found.\n",
      "> /e/3.2/p1/plevy/SF_diversity/sfDiv-OriModel/sfDiv-python/Analysis/Functions/fitRealData.py(129)fitRealData()\n",
      "-> pdb.set_trace();\n",
      "(Pdb) q\n",
      "error, fit failed\n",
      "\n",
      " \n",
      "\n",
      "Fitting model for m657r40\n",
      "Current best fit is 4173.446438706615\n",
      "Previous fit statistics not found.\n",
      "> /e/3.2/p1/plevy/SF_diversity/sfDiv-OriModel/sfDiv-python/Analysis/Functions/fitRealData.py(130)fitRealData()\n",
      "-> opteemize = minimize(SFMGiveBof, startvalues, method='Nelder-Mead', maxiter=100, \\\n",
      "(Pdb) q\n",
      "error, fit failed\n",
      "\n",
      " \n",
      "\n",
      "Fitting model for m657r40\n",
      "Current best fit is 4173.446438706615\n",
      "Previous fit statistics not found.\n",
      "> /e/3.2/p1/plevy/SF_diversity/sfDiv-OriModel/sfDiv-python/Analysis/Functions/fitRealData.py(129)fitRealData()\n",
      "-> pdb.set_trace();\n",
      "(Pdb) q\n",
      "error, fit failed\n"
     ]
    }
   ],
   "source": [
    "fitRealData.fitRealData(4)"
   ]
  },
  {
   "cell_type": "code",
   "execution_count": null,
   "metadata": {
    "collapsed": true
   },
   "outputs": [],
   "source": [
    "S = numpy.load(loc_pyData + dataNames[0] + '_sfm.npy').item();\n",
    "py = S.get('sfm').get('mod').get('normalization_py');"
   ]
  },
  {
   "cell_type": "code",
   "execution_count": null,
   "metadata": {
    "collapsed": false
   },
   "outputs": [],
   "source": [
    "numpy.count_nonzero(numpy.isnan(py['normResp']))"
   ]
  },
  {
   "cell_type": "code",
   "execution_count": null,
   "metadata": {
    "collapsed": false
   },
   "outputs": [],
   "source": [
    "# Normalization check\n",
    "diff_median = [];\n",
    "diff_mean = [];\n",
    "diff_abs_mean = [];\n",
    "diff_max_norm = [];\n",
    "\n",
    "all_diff_norm = [];\n",
    "\n",
    "for i in dataNames[0:1]:\n",
    "    \n",
    "    S = numpy.load(loc_pyData + i + '_sfm.npy').item();\n",
    "    \n",
    "    if not isinstance(S, dict):\n",
    "        continue;\n",
    "    \n",
    "    # i.e. if both exist\n",
    "    mat = S.get('sfm').get('mod').get('normalization');\n",
    "    py = S.get('sfm').get('mod').get('normalization_py');\n",
    "    if mat and py:\n",
    "    \n",
    "        print(i);\n",
    "    \n",
    "        diff = mat['normResp'] - py['normResp'];\n",
    "        diff_norm = diff / mat['normResp'];\n",
    "        \n",
    "        diff_median.append(numpy.nanmedian(diff));\n",
    "        diff_mean.append(numpy.nanmean(diff));\n",
    "        diff_abs_mean.append(numpy.nanmean(numpy.fabs(diff)));\n",
    "        diff_max_norm.append(numpy.nanmax(diff_norm));\n",
    "        \n",
    "        all_diff_norm.append(diff_norm);\n",
    "        \n",
    "        \n",
    "   "
   ]
  },
  {
   "cell_type": "code",
   "execution_count": null,
   "metadata": {
    "collapsed": true
   },
   "outputs": [],
   "source": [
    "# Excitatory check\n",
    "dord = {'sp': S['sfm']['mod']['fit']['params'][3], 'ti': 0.25};\n",
    "pref = {'or': S['sfm']['mod']['fit']['params'][0], 'sf': S['sfm']['mod']['fit']['params'][1], 'tf': 4};\n",
    "ds = S['sfm']['mod']['fit']['params'][4];\n",
    "arat = {'sp': S['sfm']['mod']['fit']['params'][2]};\n",
    "excChannel = {'pref': pref, 'dord': dord, 'ds': ds, 'arat': arat};"
   ]
  },
  {
   "cell_type": "code",
   "execution_count": null,
   "metadata": {
    "collapsed": false
   },
   "outputs": [],
   "source": [
    "autoreload.reload(model_responses);"
   ]
  },
  {
   "cell_type": "code",
   "execution_count": null,
   "metadata": {
    "collapsed": true
   },
   "outputs": [],
   "source": [
    "S = numpy.load(loc_pyData + dataNames[19] + '_sfm.npy').item();"
   ]
  },
  {
   "cell_type": "code",
   "execution_count": null,
   "metadata": {
    "collapsed": false
   },
   "outputs": [],
   "source": [
    "params = S['sfm']['mod']['fit']['params']"
   ]
  },
  {
   "cell_type": "code",
   "execution_count": null,
   "metadata": {
    "collapsed": false
   },
   "outputs": [],
   "source": [
    "ya = model_responses.SFMGiveBof(params, S)"
   ]
  },
  {
   "cell_type": "code",
   "execution_count": null,
   "metadata": {
    "collapsed": true
   },
   "outputs": [],
   "source": []
  }
 ],
 "metadata": {
  "kernelspec": {
   "display_name": "Python 3",
   "language": "python",
   "name": "python3"
  },
  "language_info": {
   "codemirror_mode": {
    "name": "ipython",
    "version": 3
   },
   "file_extension": ".py",
   "mimetype": "text/x-python",
   "name": "python",
   "nbconvert_exporter": "python",
   "pygments_lexer": "ipython3",
   "version": "3.6.0"
  }
 },
 "nbformat": 4,
 "nbformat_minor": 2
}
