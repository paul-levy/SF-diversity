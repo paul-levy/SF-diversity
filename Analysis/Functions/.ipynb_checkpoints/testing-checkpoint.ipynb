{
 "cells": [
  {
   "cell_type": "code",
   "execution_count": 36,
   "metadata": {
    "collapsed": true
   },
   "outputs": [],
   "source": [
    "from scipy.stats import lognorm, nbinom"
   ]
  },
  {
   "cell_type": "code",
   "execution_count": 50,
   "metadata": {
    "collapsed": false
   },
   "outputs": [
    {
     "data": {
      "text/plain": [
       "0.20853718635377932"
      ]
     },
     "execution_count": 50,
     "metadata": {},
     "output_type": "execute_result"
    }
   ],
   "source": [
    "# 2, 1.15, 0.3\n",
    "# (x, s, loc=0, scale=1)\n",
    "lognorm.pdf(2, 0.3, 0, numpy.exp(1.15))"
   ]
  },
  {
   "cell_type": "code",
   "execution_count": 1,
   "metadata": {
    "collapsed": false
   },
   "outputs": [],
   "source": [
    "import sys"
   ]
  },
  {
   "cell_type": "code",
   "execution_count": 2,
   "metadata": {
    "collapsed": false
   },
   "outputs": [],
   "source": [
    "sys.path.append('/e/3.2/p1/plevy/SF_diversity/sfDiv-OriModel/sfDiv-python/Analysis/Functions/')"
   ]
  },
  {
   "cell_type": "code",
   "execution_count": 3,
   "metadata": {
    "collapsed": false
   },
   "outputs": [],
   "source": [
    "import numpy, math, cmath, random\n",
    "import numpy.matlib\n",
    "import autoreload\n",
    "\n",
    "import makeStimulus\n",
    "import matplotlib.pyplot as plt\n",
    "import model_responses\n",
    "\n",
    "import cProfile\n",
    "\n",
    "from numpy.matlib import repmat\n",
    "from scipy.stats import norm, mode\n",
    "from scipy.io import loadmat\n",
    "from scipy.signal import square\n",
    "%matplotlib inline"
   ]
  },
  {
   "cell_type": "code",
   "execution_count": 9,
   "metadata": {
    "collapsed": true
   },
   "outputs": [],
   "source": [
    "data = numpy.load('../Structures/dataList.npy')"
   ]
  },
  {
   "cell_type": "code",
   "execution_count": 11,
   "metadata": {
    "collapsed": false
   },
   "outputs": [],
   "source": [
    "dataList = data.item();"
   ]
  },
  {
   "cell_type": "code",
   "execution_count": 12,
   "metadata": {
    "collapsed": true
   },
   "outputs": [],
   "source": [
    "S = numpy.load('../Structures/' + dataList['unitName'][19] + '_sfm.npy')"
   ]
  },
  {
   "cell_type": "code",
   "execution_count": 13,
   "metadata": {
    "collapsed": true
   },
   "outputs": [],
   "source": [
    "S = S.item();"
   ]
  },
  {
   "cell_type": "code",
   "execution_count": 18,
   "metadata": {
    "collapsed": false
   },
   "outputs": [],
   "source": [
    "py = S['sfm']['mod']['normalization_py'];\n",
    "mat = S['sfm']['mod']['normalization'];"
   ]
  },
  {
   "cell_type": "code",
   "execution_count": 20,
   "metadata": {
    "collapsed": false
   },
   "outputs": [],
   "source": [
    "diff = py['normResp'] - mat['normResp'];"
   ]
  },
  {
   "cell_type": "code",
   "execution_count": 32,
   "metadata": {
    "collapsed": false
   },
   "outputs": [
    {
     "data": {
      "text/plain": [
       "0.0"
      ]
     },
     "execution_count": 32,
     "metadata": {},
     "output_type": "execute_result"
    }
   ],
   "source": [
    "numpy.nanmedian(diff)"
   ]
  },
  {
   "cell_type": "code",
   "execution_count": null,
   "metadata": {
    "collapsed": false
   },
   "outputs": [],
   "source": [
    "autoreload.reload(model_responses)"
   ]
  },
  {
   "cell_type": "code",
   "execution_count": null,
   "metadata": {
    "collapsed": false
   },
   "outputs": [],
   "source": [
    "#cProfile.run('normResp = model_responses.GetNormResp(3);')\n",
    "normResp = model_responses.GetNormResp(3);"
   ]
  },
  {
   "cell_type": "code",
   "execution_count": null,
   "metadata": {
    "collapsed": false
   },
   "outputs": [],
   "source": [
    "imSizeDeg = 5;\n",
    "pixPerDeg = 100;\n",
    "prefTf = 3;\n",
    "prefSf = 1;\n",
    "prefOri = math.pi/6;\n",
    "dOrder = 1.2;\n",
    "aRatio = 2;\n",
    "ds = 1;\n",
    "\n",
    "num_families = 5;\n",
    "num_gratings = 9;\n",
    "nStimComp = num_gratings;\n",
    "sf_c = 1;\n",
    "stimFamily = 3;\n",
    "total_contrast = 1;\n",
    "conLevel = 2;"
   ]
  },
  {
   "cell_type": "code",
   "execution_count": null,
   "metadata": {
    "collapsed": false
   },
   "outputs": [],
   "source": [
    "autoreload.reload(makeStimulus);\n",
    "# autoreload.reload(model_responses);"
   ]
  },
  {
   "cell_type": "code",
   "execution_count": null,
   "metadata": {
    "collapsed": true
   },
   "outputs": [],
   "source": [
    "template = numpy.load('../Structures/m657r36_sfm.npy');\n",
    "template = template.item();"
   ]
  },
  {
   "cell_type": "code",
   "execution_count": null,
   "metadata": {
    "collapsed": true
   },
   "outputs": [],
   "source": [
    "# The exponents of the filters used to approximately tile the spatial frequency domain\n",
    "n = numpy.array([.75, 1.5]);\n",
    "\n",
    "# The number of cells in the broad/narrow pool\n",
    "nUnits = numpy.array([12, 15]);\n",
    "\n",
    "# The gain of the linear filters in the broad/narrow pool\n",
    "gain = numpy.array([.57, .614]);\n",
    "\n",
    "normPool = {'n': n, 'nUnits': nUnits, 'gain': gain};"
   ]
  },
  {
   "cell_type": "code",
   "execution_count": null,
   "metadata": {
    "collapsed": false
   },
   "outputs": [],
   "source": [
    "# Get filter properties in spatial frequency domain\n",
    "gain = numpy.empty((len(normPool.get('n'))));\n",
    "for iB in range(len(normPool.get('n'))):\n",
    "    prefSf_new = numpy.logspace(numpy.log10(.1), numpy.log10(30), normPool.get('nUnits')[iB]);\n",
    "    if iB == 0:\n",
    "        prefSfz = prefSf_new;\n",
    "    else:\n",
    "        prefSfz = [prefSfz, prefSf_new]\n",
    "    gain[iB]   = normPool.get('gain')[iB];"
   ]
  },
  {
   "cell_type": "code",
   "execution_count": null,
   "metadata": {
    "collapsed": false
   },
   "outputs": [],
   "source": [
    "prefSfz"
   ]
  },
  {
   "cell_type": "code",
   "execution_count": null,
   "metadata": {
    "collapsed": false
   },
   "outputs": [],
   "source": [
    "# Compute spatial coordinates filter centers (all in phase, 4 filters per period)\n",
    "stimSi = 2; # in visual degrees\n",
    "stimSc = 1.75;                     # in cycles per degree, this is approximately center frequency of stimulus distribution\n",
    "nCycle = stimSi*stimSc;\n",
    "radius = math.sqrt(pow(math.ceil(4*nCycle), 2)/math.pi);\n",
    "vec    = numpy.arange(-math.ceil(radius), math.ceil(radius), 1);\n",
    "# hideous python code...fix this when you are learned\n",
    "xTemp  = .25/stimSc*repmat(vec, 1, len(vec)).transpose().reshape(-1);\n",
    "yTemp  = .25/stimSc*repmat(vec, 1, len(vec)).transpose().reshape(-1);\n",
    "ind    = numpy.sign(stimSi/2 - numpy.sqrt(pow(xTemp,2) + pow(yTemp,2)));\n",
    "xCo = xTemp[[x for x in xTemp if x >0]]; # in visual degrees, centered on stimulus center\n",
    "yCo = yTemp[[x for x in xTemp if x >0]]; # in visual degrees, centered on stimulus center"
   ]
  },
  {
   "cell_type": "code",
   "execution_count": null,
   "metadata": {
    "collapsed": false
   },
   "outputs": [],
   "source": [
    "nSf = 0;\n",
    "if not isinstance(prefSfz, int):\n",
    "    for iS in range(len(prefSfz)):\n",
    "        nSf = nSf + len(prefSfz[iS]);\n",
    "else:\n",
    "    nSf = 1;"
   ]
  },
  {
   "cell_type": "code",
   "execution_count": null,
   "metadata": {
    "collapsed": false
   },
   "outputs": [],
   "source": [
    "stimParams = {'stimFamily': stimFamily, 'conLevel': conLevel, 'sf_c': sf_c, 'template': template}"
   ]
  },
  {
   "cell_type": "code",
   "execution_count": null,
   "metadata": {
    "collapsed": false
   },
   "outputs": [],
   "source": [
    "all_stim = makeStimulus.makeStimulus(stimParams.get('stimFamily'), stimParams.get('conLevel'), \\\n",
    "                        stimParams.get('sf_c'), stimParams.get('template'));\n",
    "\n",
    "stimOr = all_stim.get('Ori');\n",
    "stimTf = all_stim.get('Tf');\n",
    "stimCo = all_stim.get('Con');\n",
    "stimPh = all_stim.get('Ph');\n",
    "stimSf = all_stim.get('Sf');"
   ]
  },
  {
   "cell_type": "code",
   "execution_count": null,
   "metadata": {
    "collapsed": false
   },
   "outputs": [],
   "source": [
    "for iB in range(len(normPool.get('n'))):\n",
    "    sfRel = repmat(stimSf, len(prefSf[iB]), 1).transpose() / repmat(prefSf[iB], nStimComp, 1);\n",
    "    s     = pow(repmat(stimSf, len(prefSf[iB]), 1).transpose(), normPool.get('n')[iB]) \\\n",
    "                * numpy.exp(-normPool.get('n')[iB]/2 * pow(sfRel, 2));\n",
    "    sMax  = pow(repmat(prefSf[iB], nStimComp, 1), normPool.get('n')[iB]) * numpy.exp(-normPool.get('n')[iB]/2);\n",
    "    if iB == 0:\n",
    "        selSf = gain[iB] * s / sMax;\n",
    "    else:\n",
    "        selSf = [selSf, gain[iB] * s/sMax];"
   ]
  },
  {
   "cell_type": "code",
   "execution_count": null,
   "metadata": {
    "collapsed": true
   },
   "outputs": [],
   "source": [
    "selOr = numpy.ones(nStimComp); "
   ]
  },
  {
   "cell_type": "code",
   "execution_count": null,
   "metadata": {
    "collapsed": false
   },
   "outputs": [],
   "source": [
    "# Compute temporal frequency tuning\n",
    "dOrdTi = 0.25; # derivative order in the temporal domain, d = 0.25 ensures broad tuning for temporal frequency\n",
    "tfRel = stimTf / prefTf;\n",
    "t     = pow(stimTf, dOrdTi) * numpy.exp(-dOrdTi/2 * pow(tfRel, 2));\n",
    "tMax  = pow(prefTf, dOrdTi) * numpy.exp(-dOrdTi/2);\n",
    "tNl   = t/tMax;\n",
    "selTf = tNl;\n",
    "\n",
    "# II. Phase, space and time\n",
    "omegaX = stimSf * numpy.cos(stimOr); # the stimulus in frequency space\n",
    "omegaY = stimSf * numpy.sin(stimOr);\n",
    "omegaT = stimTf;"
   ]
  },
  {
   "cell_type": "code",
   "execution_count": null,
   "metadata": {
    "collapsed": false
   },
   "outputs": [],
   "source": [
    "len(xCo)"
   ]
  },
  {
   "cell_type": "code",
   "execution_count": null,
   "metadata": {
    "collapsed": false
   },
   "outputs": [],
   "source": [
    "nFrames = 120;\n",
    "P = numpy.empty((nFrames*len(xCo), 3)); # nFrames for number of frames, two for x and y coordinate, one for time\n",
    "P[:,0] = 2*math.pi*repmat(xCo, 1, nFrames); # P is the matrix that contains the relative location of each filter in space-time (expressed in radians)\n",
    "P[:,1] = 2*math.pi*repmat(yCo, 1, nFrames); # P(:,1) and p(:,2) describe location of the filters in spac\n",
    "\n",
    "\n",
    "# Pre-allocate some variables\n",
    "respComplex = numpy.zeros((nSf, len(xCo), 120));\n",
    "countz = 0;\n",
    "\n",
    "selSfVec = numpy.zeros((nStimComp, nSf));\n",
    "where = 0;\n",
    "for iB in range(len(selSf)):\n",
    "    selSfVec[:, where:where+normPool.get('nUnits')[iB]] = selSf[iB];\n",
    "    where = where + normPool.get('nUnits')[iB];"
   ]
  },
  {
   "cell_type": "code",
   "execution_count": null,
   "metadata": {
    "collapsed": false
   },
   "outputs": [],
   "source": [
    "# Modularize computation - Compute the things that are same for all filters (iF)\n",
    "for c in range(nStimComp):  # there are up to nine stimulus components\n",
    "\n",
    "    if stimCo[c] != 0: #if (selSi ~= 0 && stimCo(c) ~= 0)\n",
    "\n",
    "        # Use the effective number of frames displayed/stimulus duration\n",
    "        stimPos = numpy.asarray(range(nFrames))/nFrames + \\\n",
    "                                stimPh[c] / (2*math.pi*stimTf[c]); # 120 frames + the appropriate phase-offset\n",
    "        P3Temp  = repmat(stimPos, 1, len(xCo));\n",
    "        P[:,2]  = 2*math.pi*P3Temp; # P(:,2) describes relative location of the filters in time.\n",
    "\n",
    "        omegas = numpy.vstack((omegaX[c], omegaY[c], omegaT[c])); # make this a 3 x len(omegaX) array\n",
    "\n",
    "        rComplex_curr = stimCo[c]*numpy.exp(1j*numpy.dot(P, omegas));\n",
    "        if c == 0:\n",
    "            rComplex_static = rComplex_curr;\n",
    "        else:\n",
    "            rComplex_static = numpy.append(rComplex_static, rComplex_curr, 1)"
   ]
  },
  {
   "cell_type": "code",
   "execution_count": null,
   "metadata": {
    "collapsed": false
   },
   "outputs": [],
   "source": [
    "for iF in range(nSf):\n",
    "    linR1 = numpy.zeros((nFrames*len(xCo), nStimComp)); # pre-allocation\n",
    "    linR2 = numpy.zeros((nFrames*len(xCo), nStimComp));\n",
    "    linR3 = numpy.zeros((nFrames*len(xCo), nStimComp));\n",
    "    linR4 = numpy.zeros((nFrames*len(xCo), nStimComp));\n",
    "    computeSum = 0;  # important: if stim contrast or filter sensitivity = zero, no point in computing  response\n",
    "\n",
    "    # Modularize - Now do the things that are filter-dependent\n",
    "    for c in range(nStimComp): # there are up to nine stimulus components\n",
    "        selSi = selOr[c]*selSfVec[c, iF]*selTf[c];    # filter sensitivity for the sinusoid in the frequency domain\n",
    "\n",
    "        if selSi != 0 and stimCo[c] != 0:\n",
    "            computeSum = 1;\n",
    "            # now were mostly repeating a simple multiply rather\n",
    "            # than exp...\n",
    "            rComplex = selSi * rComplex_static[:, c];\n",
    "#                     rComplex = selSi*stimCo(c)*exp(1i*P*[omegaX(c) omegaY(c) omegaT(c)]');\n",
    "\n",
    "            linR1[:,c] = rComplex.real.reshape(linR1[:,c].shape);  # four filters placed in quadrature\n",
    "            linR2[:,c] = -1*rComplex.real.reshape(linR2[:,c].shape);\n",
    "            linR3[:,c] = rComplex.imag.reshape(linR3[:,c].shape);\n",
    "            linR4[:,c] = -1*rComplex.imag.reshape(linR4[:,c].shape);"
   ]
  },
  {
   "cell_type": "code",
   "execution_count": null,
   "metadata": {
    "collapsed": true
   },
   "outputs": [],
   "source": [
    "respComplex = numpy.zeros((nSf, len(xCo), 120));"
   ]
  },
  {
   "cell_type": "code",
   "execution_count": null,
   "metadata": {
    "collapsed": false
   },
   "outputs": [],
   "source": [
    "respComplex.shape"
   ]
  },
  {
   "cell_type": "code",
   "execution_count": null,
   "metadata": {
    "collapsed": false
   },
   "outputs": [],
   "source": [
    "if computeSum == 1:\n",
    "    respSimple1 = numpy.maximum(0, linR1.sum(1)); # superposition and half-wave rectification,...\n",
    "    respSimple2 = numpy.maximum(0, linR2.sum(1));\n",
    "    respSimple3 = numpy.maximum(0, linR3.sum(1));\n",
    "    respSimple4 = numpy.maximum(0, linR4.sum(1));\n",
    "\n",
    "    respComplex[iF,:,:] = numpy.reshape(respSimple1 + respSimple2 + respSimple3 + respSimple4, [len(xCo), 120]);"
   ]
  },
  {
   "cell_type": "code",
   "execution_count": null,
   "metadata": {
    "collapsed": true
   },
   "outputs": [],
   "source": [
    "respInt = respComplex.mean(1) / len(normPool.get('n'));"
   ]
  },
  {
   "cell_type": "code",
   "execution_count": null,
   "metadata": {
    "collapsed": false
   },
   "outputs": [],
   "source": [
    "respInt.shape"
   ]
  },
  {
   "cell_type": "code",
   "execution_count": null,
   "metadata": {
    "collapsed": false
   },
   "outputs": [],
   "source": [
    "rComplex_static.shape"
   ]
  },
  {
   "cell_type": "code",
   "execution_count": null,
   "metadata": {
    "collapsed": false
   },
   "outputs": [],
   "source": [
    "stimParams['template']['sfm']['mod']['fit_lin']['NLL'] = 'wow'"
   ]
  },
  {
   "cell_type": "code",
   "execution_count": null,
   "metadata": {
    "collapsed": false
   },
   "outputs": [],
   "source": [
    "stimParams['template']['sfm']['mod']['fit_lin']['NLL']"
   ]
  },
  {
   "cell_type": "code",
   "execution_count": null,
   "metadata": {
    "collapsed": true
   },
   "outputs": [],
   "source": [
    "import os"
   ]
  },
  {
   "cell_type": "code",
   "execution_count": null,
   "metadata": {
    "collapsed": false
   },
   "outputs": [],
   "source": [
    "pwd"
   ]
  },
  {
   "cell_type": "code",
   "execution_count": null,
   "metadata": {
    "collapsed": false
   },
   "outputs": [],
   "source": [
    "os.chdir('../Scripts')"
   ]
  }
 ],
 "metadata": {
  "kernelspec": {
   "display_name": "Python 3",
   "language": "python",
   "name": "python3"
  },
  "language_info": {
   "codemirror_mode": {
    "name": "ipython",
    "version": 3
   },
   "file_extension": ".py",
   "mimetype": "text/x-python",
   "name": "python",
   "nbconvert_exporter": "python",
   "pygments_lexer": "ipython3",
   "version": "3.6.0"
  }
 },
 "nbformat": 4,
 "nbformat_minor": 2
}
