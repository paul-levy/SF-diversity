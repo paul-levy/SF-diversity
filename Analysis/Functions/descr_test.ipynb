{
 "cells": [
  {
   "cell_type": "markdown",
   "metadata": {},
   "source": [
    "# This is for testing and running the descriptive (modified Gaussian) fits"
   ]
  },
  {
   "cell_type": "code",
   "execution_count": 14,
   "metadata": {
    "collapsed": true
   },
   "outputs": [],
   "source": [
    "import numpy as np\n",
    "import descr_fit as dfit\n",
    "import autoreload\n",
    "import matplotlib.pyplot as plt\n",
    "%matplotlib inline"
   ]
  },
  {
   "cell_type": "code",
   "execution_count": 16,
   "metadata": {
    "collapsed": false
   },
   "outputs": [],
   "source": [
    "autoreload.reload(dfit);"
   ]
  },
  {
   "cell_type": "code",
   "execution_count": 23,
   "metadata": {
    "collapsed": true
   },
   "outputs": [],
   "source": [
    "stimSf = np.logspace(-1, 1, 100);\n",
    "prefSf = 1;\n",
    "respFloor = 10;\n",
    "respRF = 65;\n",
    "sigLow = 1;\n",
    "sigHigh = 2;\n",
    "\n",
    "params = [respFloor, respRF, prefSf, sigLow, sigHigh];"
   ]
  },
  {
   "cell_type": "code",
   "execution_count": 24,
   "metadata": {
    "collapsed": true
   },
   "outputs": [],
   "source": [
    "z = dfit.flexible_Gauss(params, stimSf)"
   ]
  },
  {
   "cell_type": "code",
   "execution_count": 25,
   "metadata": {
    "collapsed": false
   },
   "outputs": [
    {
     "data": {
      "text/plain": [
       "[<matplotlib.lines.Line2D at 0x1102c8470>]"
      ]
     },
     "execution_count": 25,
     "metadata": {},
     "output_type": "execute_result"
    },
    {
     "data": {
      "image/png": "[encoded data removed]",
      "text/plain": [
       "<matplotlib.figure.Figure at 0x1168ac940>"
      ]
     },
     "metadata": {},
     "output_type": "display_data"
    }
   ],
   "source": [
    "plt.semilogx(stimSf, z)"
   ]
  },
  {
   "cell_type": "markdown",
   "metadata": {},
   "source": [
    "## Checking the 'fit'/loss part"
   ]
  },
  {
   "cell_type": "code",
   "execution_count": 33,
   "metadata": {
    "collapsed": true
   },
   "outputs": [],
   "source": [
    "data_loc = '/ser/1.2/p2/plevy/SF_diversity/sfDiv-OriModel/sfDiv-python/Analysis/Structures/'"
   ]
  },
  {
   "cell_type": "code",
   "execution_count": 34,
   "metadata": {
    "collapsed": false
   },
   "outputs": [],
   "source": [
    "dL = np.load(data_loc + 'dataList.npy').item();"
   ]
  },
  {
   "cell_type": "code",
   "execution_count": 35,
   "metadata": {
    "collapsed": true
   },
   "outputs": [],
   "source": [
    "exCell = np.load(data_loc + dL['unitName'][3] + '_sfm.npy').item();"
   ]
  },
  {
   "cell_type": "code",
   "execution_count": 36,
   "metadata": {
    "collapsed": true
   },
   "outputs": [],
   "source": [
    "trial = exCell['sfm']['exp']['trial'];"
   ]
  },
  {
   "cell_type": "code",
   "execution_count": 37,
   "metadata": {
    "collapsed": false
   },
   "outputs": [
    {
     "name": "stderr",
     "output_type": "stream",
     "text": [
      "/users/plevy/anaconda3/lib/python3.6/site-packages/numpy/core/arrayprint.py:654: RuntimeWarning: invalid value encountered in greater_equal\n",
      "  max_str_len = max(len(str(maximum.reduce(data))),\n"
     ]
    },
    {
     "data": {
      "text/plain": [
       "{'blockID': array([ 41,   2,   3, ...,  43,  10, 143], dtype=int16),\n",
       " 'con': array([ array([ 0.67167652,  0.33      ,  1.        , ...,  0.67167652,\n",
       "         0.33      ,  1.        ]),\n",
       "        array([ 0.16187587,  0.        ,  0.        , ...,  0.16187587,\n",
       "         0.        ,  0.        ]),\n",
       "        array([ 0.1618529,  0.       ,  0.       , ...,  0.1618529,  0.       ,  0.       ]),\n",
       "        array([ 0.00229471,  0.        ,  0.        , ...,  0.00229471,\n",
       "         0.        ,  0.        ]),\n",
       "        array([ 0.0023,  0.    ,  0.    , ...,  0.0023,  0.    ,  0.    ]),\n",
       "        array([ 0.,  0.,  0., ...,  0.,  0.,  0.]),\n",
       "        array([ 0.,  0.,  0., ...,  0.,  0.,  0.]),\n",
       "        array([ 0.,  0.,  0., ...,  0.,  0.,  0.]),\n",
       "        array([ 0.,  0.,  0., ...,  0.,  0.,  0.])], dtype=object),\n",
       " 'duration': array([ 1.0006,  1.0006,  1.0005, ...,  1.0007,  1.0006,  1.0006]),\n",
       " 'f1': array([ 10.03103076+22.35325754j,   0.00000000 +0.j        ,\n",
       "         -0.51948335 +0.85389566j, ...,  -9.75911815 -4.3375529j ,\n",
       "         -3.19130363 +1.43045767j,   1.77055127 +2.20799178j]),\n",
       " 'num': array([   1,    2,    3, ..., 1558, 1559, 1560], dtype=uint16),\n",
       " 'ori': array([array([ 100.,  100.,  100., ...,  100.,  100.,  135.]),\n",
       "        array([ 100.,  100.,  100., ...,  100.,  100.,  100.]),\n",
       "        array([ 100.,  100.,  100., ...,  100.,  100.,  100.]),\n",
       "        array([ 100.,  100.,  100., ...,  100.,  100.,  100.]),\n",
       "        array([ 100.,  100.,  100., ...,  100.,  100.,  100.]),\n",
       "        array([ 100.,  100.,  100., ...,  100.,  100.,  100.]),\n",
       "        array([ 100.,  100.,  100., ...,  100.,  100.,  100.]),\n",
       "        array([ 100.,  100.,  100., ...,  100.,  100.,  100.]),\n",
       "        array([ 100.,  100.,  100., ...,  100.,  100.,  100.])], dtype=object),\n",
       " 'ph': array([ array([ 216.472 ,  338.181 ,   76.1804, ...,  134.64  ,  321.481 ,    0.    ]),\n",
       "        array([  64.8862 ,  301.585  ,    5.94369, ...,  196.774  ,   29.0318 ,\n",
       "          12.6674 ]),\n",
       "        array([ 313.802  ,   14.5132 ,  288.945  , ...,  293.878  ,    8.95949,\n",
       "         119.478  ]),\n",
       "        array([ 118.967,  194.708,  140.012, ...,  105.08 ,  293.872,  342.4  ]),\n",
       "        array([  84.2664,  149.729 ,   16.4028, ...,  198.202 ,  181.046 ,   76.9   ]),\n",
       "        array([ 182.376 ,  309.643 ,   77.2296, ...,  328.903 ,  223.35  ,  322.948 ]),\n",
       "        array([ 328.211,  252.47 ,  232.98 , ...,  101.696,  359.116,  287.61 ]),\n",
       "        array([  95.2364,  215.044 ,   13.5793, ...,  310.143 ,   48.0714,  187.012 ]),\n",
       "        array([ 250.492,  321.498,  247.526, ...,   50.027,  299.025,  289.45 ])], dtype=object),\n",
       " 'sf': array([array([ 3.5  ,  0.3  ,  0.426, ...,  4.96 ,  1.22 ,  6.   ]),\n",
       "        array([ 2.69895 ,  0.231339,  0.328501, ...,  3.8248  ,  0.940777,  6.      ]),\n",
       "        array([ 4.5388  ,  0.38904 ,  0.552437, ...,  6.43213 ,  1.5821  ,  6.      ]),\n",
       "        array([ 2.0811  ,  0.17838 ,  0.2533  , ...,  2.94922 ,  0.725413,  6.      ]),\n",
       "        array([ 5.8863  ,  0.50454 ,  0.716447, ...,  8.34173 ,  2.0518  ,  6.      ]),\n",
       "        array([ 1.60477 ,  0.137552,  0.195323, ...,  2.27419 ,  0.559376,  6.      ]),\n",
       "        array([  7.6335  ,   0.6543  ,   0.929106, ...,  10.8178  ,   2.66082 ,\n",
       "          6.      ]),\n",
       "        array([ 1.23745 ,  0.106067,  0.150615, ...,  1.75364 ,  0.431339,  6.      ]),\n",
       "        array([  9.8994 ,   0.84852,   1.2049 , ...,  14.0289 ,   3.45065,   6.     ])], dtype=object),\n",
       " 'spikeCount': array([90,  0,  1, ..., 70, 10,  5], dtype=uint8),\n",
       " 'spikeTimes': array([ array([ 0.0061,  0.0122,  0.0229,  0.0253,  0.0469,  0.0515,  0.0714,\n",
       "         0.0834,  0.0965,  0.1002,  0.1072,  0.1104,  0.1172,  0.1277,\n",
       "         0.14  ,  0.1499,  0.1524,  0.164 ,  0.184 ,  0.2035,  0.2097,\n",
       "         0.2134,  0.2243,  0.2293,  0.2363,  0.2414,  0.2516,  0.2565,\n",
       "         0.2619,  0.2714,  0.2769,  0.2846,  0.2943,  0.3277,  0.3485,\n",
       "         0.3661,  0.3737,  0.3815,  0.3933,  0.3997,  0.4067,  0.4155,\n",
       "         0.4188,  0.4229,  0.4281,  0.4607,  0.4787,  0.5013,  0.5127,\n",
       "         0.5219,  0.5331,  0.5428,  0.5493,  0.5586,  0.5636,  0.5714,\n",
       "         0.5854,  0.625 ,  0.6306,  0.6479,  0.6586,  0.6651,  0.6703,\n",
       "         0.6902,  0.6967,  0.7131,  0.7279,  0.7563,  0.8007,  0.8084,\n",
       "         0.8173,  0.8232,  0.8273,  0.8302,  0.8377,  0.8451,  0.8668,\n",
       "         0.8858,  0.8987,  0.9156,  0.9234,  0.9301,  0.9492,  0.9576,\n",
       "         0.9607,  0.9684,  0.9775,  0.9798,  0.9823,  0.9851]),\n",
       "        array([], dtype=float64), 0.4882, ...,\n",
       "        array([ 0.0526,  0.0575,  0.0644,  0.0688,  0.0744,  0.0771,  0.0828,\n",
       "         0.0872,  0.0928,  0.108 ,  0.1222,  0.1413,  0.1466,  0.1536,\n",
       "         0.1591,  0.1662,  0.1709,  0.1762,  0.1809,  0.1918,  0.1987,\n",
       "         0.2227,  0.2278,  0.2348,  0.2449,  0.2514,  0.2606,  0.2744,\n",
       "         0.2775,  0.2917,  0.3025,  0.3066,  0.3515,  0.3569,  0.3627,\n",
       "         0.3993,  0.4743,  0.4814,  0.4856,  0.492 ,  0.4985,  0.522 ,\n",
       "         0.5255,  0.5338,  0.542 ,  0.5521,  0.5593,  0.5633,  0.5716,\n",
       "         0.5844,  0.6017,  0.6126,  0.6198,  0.6274,  0.6311,  0.6387,\n",
       "         0.6468,  0.6746,  0.6822,  0.6852,  0.6899,  0.7007,  0.7104,\n",
       "         0.7789,  0.7981,  0.8022,  0.8674,  0.8977,  0.9385,  0.9716]),\n",
       "        array([ 0.1254,  0.1983,  0.2776,  0.3098,  0.3379,  0.4352,  0.4712,\n",
       "         0.4934,  0.6745,  0.7619]),\n",
       "        array([ 0.1237,  0.1412,  0.291 ,  0.6869,  0.9338])], dtype=object),\n",
       " 'tf': array([array([ 7.05911,  9.23114,  5.45476, ...,  6.66693,  5.2176 ,  6.31604]),\n",
       "        array([ 5.45476,  6.00024,  5.0002 , ...,  8.57177,  4.44462,  6.66693]),\n",
       "        array([ 4.44462,  6.66693,  8.00032, ...,  6.66693,  5.45476,  6.31604]),\n",
       "        array([ 6.66693,  5.45476,  8.57177, ...,  7.5003 ,  8.00032,  5.71451]),\n",
       "        array([ 8.00032,  6.66693,  4.00016, ...,  7.5003 ,  7.5003 ,  6.31604]),\n",
       "        array([ 8.00032,  7.05911,  5.45476, ...,  6.00024,  6.66693,  7.05911]),\n",
       "        array([ 7.05911,  5.71451,  4.44462, ...,  5.45476,  6.00024,  6.00024]),\n",
       "        array([ 5.0002 ,  5.71451,  5.0002 , ...,  7.05911,  7.5003 ,  5.71451]),\n",
       "        array([ 7.05911,  7.05911,  6.66693, ...,  5.45476,  7.5003 ,  5.2176 ])], dtype=object)}"
      ]
     },
     "execution_count": 37,
     "metadata": {},
     "output_type": "execute_result"
    }
   ],
   "source": [
    "trial"
   ]
  },
  {
   "cell_type": "code",
   "execution_count": null,
   "metadata": {
    "collapsed": true
   },
   "outputs": [],
   "source": []
  }
 ],
 "metadata": {
  "kernelspec": {
   "display_name": "Python 3",
   "language": "python",
   "name": "python3"
  },
  "language_info": {
   "codemirror_mode": {
    "name": "ipython",
    "version": 3
   },
   "file_extension": ".py",
   "mimetype": "text/x-python",
   "name": "python",
   "nbconvert_exporter": "python",
   "pygments_lexer": "ipython3",
   "version": "3.6.0"
  }
 },
 "nbformat": 4,
 "nbformat_minor": 2
}
